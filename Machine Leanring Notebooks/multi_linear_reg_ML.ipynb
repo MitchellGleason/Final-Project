{
 "cells": [
  {
   "cell_type": "code",
   "execution_count": 1330,
   "metadata": {},
   "outputs": [],
   "source": [
    "import pandas as pd\n",
    "import numpy as np\n",
    "import itertools\n",
    "import plotly.express as px\n",
    "import plotly.graph_objects as go\n",
    "import hvplot.pandas\n",
    "from sklearn.preprocessing import StandardScaler, PolynomialFeatures\n",
    "from sklearn.model_selection import train_test_split, GridSearchCV\n",
    "from sklearn.metrics import confusion_matrix, accuracy_score, classification_report, mean_squared_error\n",
    "from sklearn.ensemble import RandomForestRegressor\n",
    "from sklearn.svm import SVR\n",
    "from sklearn.tree import DecisionTreeRegressor"
   ]
  },
  {
   "attachments": {},
   "cell_type": "markdown",
   "metadata": {},
   "source": [
    "# Import & clean Adidas sales data"
   ]
  },
  {
   "cell_type": "code",
   "execution_count": 854,
   "metadata": {},
   "outputs": [],
   "source": [
    "#Import sales data\n",
    "adidas_sales_df = pd.read_csv('../adidas_sales.csv')"
   ]
  },
  {
   "cell_type": "code",
   "execution_count": 855,
   "metadata": {},
   "outputs": [
    {
     "data": {
      "text/html": [
       "<div>\n",
       "<style scoped>\n",
       "    .dataframe tbody tr th:only-of-type {\n",
       "        vertical-align: middle;\n",
       "    }\n",
       "\n",
       "    .dataframe tbody tr th {\n",
       "        vertical-align: top;\n",
       "    }\n",
       "\n",
       "    .dataframe thead th {\n",
       "        text-align: right;\n",
       "    }\n",
       "</style>\n",
       "<table border=\"1\" class=\"dataframe\">\n",
       "  <thead>\n",
       "    <tr style=\"text-align: right;\">\n",
       "      <th></th>\n",
       "      <th>Retailer ID</th>\n",
       "      <th>Invoice Date</th>\n",
       "      <th>Region_ID</th>\n",
       "      <th>State_ID</th>\n",
       "      <th>Product_ID</th>\n",
       "      <th>Price per Unit</th>\n",
       "      <th>Units Sold</th>\n",
       "      <th>Operating Margin</th>\n",
       "      <th>Sales Method</th>\n",
       "      <th>Total Sales</th>\n",
       "      <th>Operating Profit</th>\n",
       "    </tr>\n",
       "  </thead>\n",
       "  <tbody>\n",
       "    <tr>\n",
       "      <th>0</th>\n",
       "      <td>1185732</td>\n",
       "      <td>2020-01-01</td>\n",
       "      <td>RG1</td>\n",
       "      <td>ST1</td>\n",
       "      <td>PD1</td>\n",
       "      <td>50.0</td>\n",
       "      <td>1200</td>\n",
       "      <td>0.50</td>\n",
       "      <td>In-store</td>\n",
       "      <td>60000.0</td>\n",
       "      <td>30000.0</td>\n",
       "    </tr>\n",
       "    <tr>\n",
       "      <th>1</th>\n",
       "      <td>1185732</td>\n",
       "      <td>2020-01-02</td>\n",
       "      <td>RG1</td>\n",
       "      <td>ST1</td>\n",
       "      <td>PD2</td>\n",
       "      <td>50.0</td>\n",
       "      <td>1000</td>\n",
       "      <td>0.30</td>\n",
       "      <td>In-store</td>\n",
       "      <td>50000.0</td>\n",
       "      <td>15000.0</td>\n",
       "    </tr>\n",
       "    <tr>\n",
       "      <th>2</th>\n",
       "      <td>1185732</td>\n",
       "      <td>2020-01-03</td>\n",
       "      <td>RG1</td>\n",
       "      <td>ST1</td>\n",
       "      <td>PD3</td>\n",
       "      <td>40.0</td>\n",
       "      <td>1000</td>\n",
       "      <td>0.35</td>\n",
       "      <td>In-store</td>\n",
       "      <td>40000.0</td>\n",
       "      <td>14000.0</td>\n",
       "    </tr>\n",
       "    <tr>\n",
       "      <th>3</th>\n",
       "      <td>1185732</td>\n",
       "      <td>2020-01-04</td>\n",
       "      <td>RG1</td>\n",
       "      <td>ST1</td>\n",
       "      <td>PD4</td>\n",
       "      <td>45.0</td>\n",
       "      <td>850</td>\n",
       "      <td>0.35</td>\n",
       "      <td>In-store</td>\n",
       "      <td>38250.0</td>\n",
       "      <td>13387.5</td>\n",
       "    </tr>\n",
       "    <tr>\n",
       "      <th>4</th>\n",
       "      <td>1185732</td>\n",
       "      <td>2020-01-05</td>\n",
       "      <td>RG1</td>\n",
       "      <td>ST1</td>\n",
       "      <td>PD5</td>\n",
       "      <td>60.0</td>\n",
       "      <td>900</td>\n",
       "      <td>0.30</td>\n",
       "      <td>In-store</td>\n",
       "      <td>54000.0</td>\n",
       "      <td>16200.0</td>\n",
       "    </tr>\n",
       "  </tbody>\n",
       "</table>\n",
       "</div>"
      ],
      "text/plain": [
       "   Retailer ID Invoice Date Region_ID State_ID Product_ID  Price per Unit  \\\n",
       "0      1185732   2020-01-01       RG1      ST1        PD1            50.0   \n",
       "1      1185732   2020-01-02       RG1      ST1        PD2            50.0   \n",
       "2      1185732   2020-01-03       RG1      ST1        PD3            40.0   \n",
       "3      1185732   2020-01-04       RG1      ST1        PD4            45.0   \n",
       "4      1185732   2020-01-05       RG1      ST1        PD5            60.0   \n",
       "\n",
       "   Units Sold  Operating Margin Sales Method  Total Sales  Operating Profit  \n",
       "0        1200              0.50     In-store      60000.0           30000.0  \n",
       "1        1000              0.30     In-store      50000.0           15000.0  \n",
       "2        1000              0.35     In-store      40000.0           14000.0  \n",
       "3         850              0.35     In-store      38250.0           13387.5  \n",
       "4         900              0.30     In-store      54000.0           16200.0  "
      ]
     },
     "execution_count": 855,
     "metadata": {},
     "output_type": "execute_result"
    }
   ],
   "source": [
    "adidas_sales_df.head()"
   ]
  },
  {
   "cell_type": "code",
   "execution_count": 752,
   "metadata": {},
   "outputs": [
    {
     "data": {
      "text/plain": [
       "Retailer ID           int64\n",
       "Invoice Date         object\n",
       "Region_ID            object\n",
       "State_ID             object\n",
       "Product_ID           object\n",
       "Price per Unit      float64\n",
       "Units Sold            int64\n",
       "Operating Margin    float64\n",
       "Sales Method         object\n",
       "Total Sales         float64\n",
       "Operating Profit    float64\n",
       "dtype: object"
      ]
     },
     "execution_count": 752,
     "metadata": {},
     "output_type": "execute_result"
    }
   ],
   "source": [
    "#Check the data types\n",
    "adidas_sales_df.dtypes"
   ]
  },
  {
   "cell_type": "code",
   "execution_count": 753,
   "metadata": {},
   "outputs": [],
   "source": [
    "#Change the data type of the date column\n",
    "adidas_sales_df['Invoice Date'] = pd.to_datetime(adidas_sales_df['Invoice Date'])\n",
    "\n",
    "#Drop Retailer ID, Region_ID, Price per Unit, Units Sold, Operating Margin columns\n",
    "adidas_sales_df = adidas_sales_df.drop(columns=['Retailer ID', 'Region_ID', 'Price per Unit', 'Units Sold', 'Operating Margin'])"
   ]
  },
  {
   "cell_type": "code",
   "execution_count": 754,
   "metadata": {},
   "outputs": [
    {
     "data": {
      "text/html": [
       "<div>\n",
       "<style scoped>\n",
       "    .dataframe tbody tr th:only-of-type {\n",
       "        vertical-align: middle;\n",
       "    }\n",
       "\n",
       "    .dataframe tbody tr th {\n",
       "        vertical-align: top;\n",
       "    }\n",
       "\n",
       "    .dataframe thead th {\n",
       "        text-align: right;\n",
       "    }\n",
       "</style>\n",
       "<table border=\"1\" class=\"dataframe\">\n",
       "  <thead>\n",
       "    <tr style=\"text-align: right;\">\n",
       "      <th></th>\n",
       "      <th>Invoice Date</th>\n",
       "      <th>State_ID</th>\n",
       "      <th>Product_ID</th>\n",
       "      <th>Sales Method</th>\n",
       "      <th>Total Sales</th>\n",
       "      <th>Operating Profit</th>\n",
       "    </tr>\n",
       "  </thead>\n",
       "  <tbody>\n",
       "    <tr>\n",
       "      <th>0</th>\n",
       "      <td>2020-01-01</td>\n",
       "      <td>ST1</td>\n",
       "      <td>PD1</td>\n",
       "      <td>In-store</td>\n",
       "      <td>60000.0</td>\n",
       "      <td>30000.00</td>\n",
       "    </tr>\n",
       "    <tr>\n",
       "      <th>1</th>\n",
       "      <td>2020-01-02</td>\n",
       "      <td>ST1</td>\n",
       "      <td>PD2</td>\n",
       "      <td>In-store</td>\n",
       "      <td>50000.0</td>\n",
       "      <td>15000.00</td>\n",
       "    </tr>\n",
       "    <tr>\n",
       "      <th>2</th>\n",
       "      <td>2020-01-03</td>\n",
       "      <td>ST1</td>\n",
       "      <td>PD3</td>\n",
       "      <td>In-store</td>\n",
       "      <td>40000.0</td>\n",
       "      <td>14000.00</td>\n",
       "    </tr>\n",
       "    <tr>\n",
       "      <th>3</th>\n",
       "      <td>2020-01-04</td>\n",
       "      <td>ST1</td>\n",
       "      <td>PD4</td>\n",
       "      <td>In-store</td>\n",
       "      <td>38250.0</td>\n",
       "      <td>13387.50</td>\n",
       "    </tr>\n",
       "    <tr>\n",
       "      <th>4</th>\n",
       "      <td>2020-01-05</td>\n",
       "      <td>ST1</td>\n",
       "      <td>PD5</td>\n",
       "      <td>In-store</td>\n",
       "      <td>54000.0</td>\n",
       "      <td>16200.00</td>\n",
       "    </tr>\n",
       "    <tr>\n",
       "      <th>...</th>\n",
       "      <td>...</td>\n",
       "      <td>...</td>\n",
       "      <td>...</td>\n",
       "      <td>...</td>\n",
       "      <td>...</td>\n",
       "      <td>...</td>\n",
       "    </tr>\n",
       "    <tr>\n",
       "      <th>9641</th>\n",
       "      <td>2021-01-24</td>\n",
       "      <td>ST50</td>\n",
       "      <td>PD3</td>\n",
       "      <td>Outlet</td>\n",
       "      <td>3465.0</td>\n",
       "      <td>935.55</td>\n",
       "    </tr>\n",
       "    <tr>\n",
       "      <th>9642</th>\n",
       "      <td>2021-01-24</td>\n",
       "      <td>ST50</td>\n",
       "      <td>PD4</td>\n",
       "      <td>Outlet</td>\n",
       "      <td>1683.0</td>\n",
       "      <td>471.24</td>\n",
       "    </tr>\n",
       "    <tr>\n",
       "      <th>9643</th>\n",
       "      <td>2021-01-24</td>\n",
       "      <td>ST50</td>\n",
       "      <td>PD5</td>\n",
       "      <td>Outlet</td>\n",
       "      <td>3200.0</td>\n",
       "      <td>896.00</td>\n",
       "    </tr>\n",
       "    <tr>\n",
       "      <th>9644</th>\n",
       "      <td>2021-01-24</td>\n",
       "      <td>ST50</td>\n",
       "      <td>PD6</td>\n",
       "      <td>Outlet</td>\n",
       "      <td>4305.0</td>\n",
       "      <td>1377.60</td>\n",
       "    </tr>\n",
       "    <tr>\n",
       "      <th>9645</th>\n",
       "      <td>2021-02-22</td>\n",
       "      <td>ST50</td>\n",
       "      <td>PD1</td>\n",
       "      <td>Outlet</td>\n",
       "      <td>7544.0</td>\n",
       "      <td>2791.28</td>\n",
       "    </tr>\n",
       "  </tbody>\n",
       "</table>\n",
       "<p>9646 rows × 6 columns</p>\n",
       "</div>"
      ],
      "text/plain": [
       "     Invoice Date State_ID Product_ID Sales Method  Total Sales  \\\n",
       "0      2020-01-01      ST1        PD1     In-store      60000.0   \n",
       "1      2020-01-02      ST1        PD2     In-store      50000.0   \n",
       "2      2020-01-03      ST1        PD3     In-store      40000.0   \n",
       "3      2020-01-04      ST1        PD4     In-store      38250.0   \n",
       "4      2020-01-05      ST1        PD5     In-store      54000.0   \n",
       "...           ...      ...        ...          ...          ...   \n",
       "9641   2021-01-24     ST50        PD3       Outlet       3465.0   \n",
       "9642   2021-01-24     ST50        PD4       Outlet       1683.0   \n",
       "9643   2021-01-24     ST50        PD5       Outlet       3200.0   \n",
       "9644   2021-01-24     ST50        PD6       Outlet       4305.0   \n",
       "9645   2021-02-22     ST50        PD1       Outlet       7544.0   \n",
       "\n",
       "      Operating Profit  \n",
       "0             30000.00  \n",
       "1             15000.00  \n",
       "2             14000.00  \n",
       "3             13387.50  \n",
       "4             16200.00  \n",
       "...                ...  \n",
       "9641            935.55  \n",
       "9642            471.24  \n",
       "9643            896.00  \n",
       "9644           1377.60  \n",
       "9645           2791.28  \n",
       "\n",
       "[9646 rows x 6 columns]"
      ]
     },
     "execution_count": 754,
     "metadata": {},
     "output_type": "execute_result"
    }
   ],
   "source": [
    "adidas_sales_df"
   ]
  },
  {
   "attachments": {},
   "cell_type": "markdown",
   "metadata": {},
   "source": [
    "# Explore Adidas sales data"
   ]
  },
  {
   "cell_type": "code",
   "execution_count": 755,
   "metadata": {},
   "outputs": [
    {
     "data": {},
     "metadata": {},
     "output_type": "display_data"
    },
    {
     "data": {
      "application/vnd.holoviews_exec.v0+json": "",
      "text/html": [
       "<div id='6961'>\n",
       "  <div class=\"bk-root\" id=\"04db9971-5de6-4ac8-ad42-6c9d0fe1e45b\" data-root-id=\"6961\"></div>\n",
       "</div>\n",
       "<script type=\"application/javascript\">(function(root) {\n",
       "  function embed_document(root) {\n",
       "    var docs_json = {\"18682746-01be-474d-87c7-c4249aafa7db\":{\"defs\":[{\"extends\":null,\"module\":null,\"name\":\"ReactiveHTML1\",\"overrides\":[],\"properties\":[]},{\"extends\":null,\"module\":null,\"name\":\"FlexBox1\",\"overrides\":[],\"properties\":[{\"default\":\"flex-start\",\"kind\":null,\"name\":\"align_content\"},{\"default\":\"flex-start\",\"kind\":null,\"name\":\"align_items\"},{\"default\":\"row\",\"kind\":null,\"name\":\"flex_direction\"},{\"default\":\"wrap\",\"kind\":null,\"name\":\"flex_wrap\"},{\"default\":\"flex-start\",\"kind\":null,\"name\":\"justify_content\"}]},{\"extends\":null,\"module\":null,\"name\":\"GridStack1\",\"overrides\":[],\"properties\":[{\"default\":\"warn\",\"kind\":null,\"name\":\"mode\"},{\"default\":null,\"kind\":null,\"name\":\"ncols\"},{\"default\":null,\"kind\":null,\"name\":\"nrows\"},{\"default\":true,\"kind\":null,\"name\":\"allow_resize\"},{\"default\":true,\"kind\":null,\"name\":\"allow_drag\"},{\"default\":[],\"kind\":null,\"name\":\"state\"}]},{\"extends\":null,\"module\":null,\"name\":\"click1\",\"overrides\":[],\"properties\":[{\"default\":\"\",\"kind\":null,\"name\":\"terminal_output\"},{\"default\":\"\",\"kind\":null,\"name\":\"debug_name\"},{\"default\":0,\"kind\":null,\"name\":\"clears\"}]},{\"extends\":null,\"module\":null,\"name\":\"NotificationAreaBase1\",\"overrides\":[],\"properties\":[{\"default\":\"bottom-right\",\"kind\":null,\"name\":\"position\"},{\"default\":0,\"kind\":null,\"name\":\"_clear\"}]},{\"extends\":null,\"module\":null,\"name\":\"NotificationArea1\",\"overrides\":[],\"properties\":[{\"default\":[],\"kind\":null,\"name\":\"notifications\"},{\"default\":\"bottom-right\",\"kind\":null,\"name\":\"position\"},{\"default\":0,\"kind\":null,\"name\":\"_clear\"},{\"default\":[{\"background\":\"#ffc107\",\"icon\":{\"className\":\"fas fa-exclamation-triangle\",\"color\":\"white\",\"tagName\":\"i\"},\"type\":\"warning\"},{\"background\":\"#007bff\",\"icon\":{\"className\":\"fas fa-info-circle\",\"color\":\"white\",\"tagName\":\"i\"},\"type\":\"info\"}],\"kind\":null,\"name\":\"types\"}]},{\"extends\":null,\"module\":null,\"name\":\"Notification\",\"overrides\":[],\"properties\":[{\"default\":null,\"kind\":null,\"name\":\"background\"},{\"default\":3000,\"kind\":null,\"name\":\"duration\"},{\"default\":null,\"kind\":null,\"name\":\"icon\"},{\"default\":\"\",\"kind\":null,\"name\":\"message\"},{\"default\":null,\"kind\":null,\"name\":\"notification_type\"},{\"default\":false,\"kind\":null,\"name\":\"_destroyed\"}]},{\"extends\":null,\"module\":null,\"name\":\"TemplateActions1\",\"overrides\":[],\"properties\":[{\"default\":0,\"kind\":null,\"name\":\"open_modal\"},{\"default\":0,\"kind\":null,\"name\":\"close_modal\"}]},{\"extends\":null,\"module\":null,\"name\":\"MaterialTemplateActions1\",\"overrides\":[],\"properties\":[{\"default\":0,\"kind\":null,\"name\":\"open_modal\"},{\"default\":0,\"kind\":null,\"name\":\"close_modal\"}]}],\"roots\":{\"references\":[{\"attributes\":{\"base\":24,\"mantissas\":[1,2,4,6,8,12],\"max_interval\":43200000.0,\"min_interval\":3600000.0,\"num_minor_ticks\":0},\"id\":\"7023\",\"type\":\"AdaptiveTicker\"},{\"attributes\":{},\"id\":\"7010\",\"type\":\"AllLabels\"},{\"attributes\":{},\"id\":\"7032\",\"type\":\"YearsTicker\"},{\"attributes\":{\"months\":[0,1,2,3,4,5,6,7,8,9,10,11]},\"id\":\"7028\",\"type\":\"MonthsTicker\"},{\"attributes\":{\"data\":{\"Invoice Date\":{\"__ndarray__\":\"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\",\"dtype\":\"float64\",\"order\":\"little\",\"shape\":[9646]},\"Invoice_Date\":{\"__ndarray__\":\"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\",\"dtype\":\"float64\",\"order\":\"little\",\"shape\":[9646]},\"Total Sales\":{\"__ndarray__\":\"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\",\"dtype\":\"float64\",\"order\":\"little\",\"shape\":[9646]},\"Total_Sales\":{\"__ndarray__\":\"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\",\"dtype\":\"float64\",\"order\":\"little\",\"shape\":[9646]}},\"selected\":{\"id\":\"6997\"},\"selection_policy\":{\"id\":\"7018\"}},\"id\":\"6996\",\"type\":\"ColumnDataSource\"},{\"attributes\":{\"days\":[1,15]},\"id\":\"7027\",\"type\":\"DaysTicker\"},{\"attributes\":{},\"id\":\"7007\",\"type\":\"AllLabels\"},{\"attributes\":{\"days\":[1,2,3,4,5,6,7,8,9,10,11,12,13,14,15,16,17,18,19,20,21,22,23,24,25,26,27,28,29,30,31]},\"id\":\"7024\",\"type\":\"DaysTicker\"},{\"attributes\":{\"days\":[1,4,7,10,13,16,19,22,25,28]},\"id\":\"7025\",\"type\":\"DaysTicker\"},{\"attributes\":{\"line_alpha\":0.2,\"line_color\":\"#30a2da\",\"line_width\":2,\"x\":{\"field\":\"Invoice Date\"},\"y\":{\"field\":\"Total Sales\"}},\"id\":\"7001\",\"type\":\"Line\"},{\"attributes\":{\"days\":[1,8,15,22]},\"id\":\"7026\",\"type\":\"DaysTicker\"},{\"attributes\":{\"months\":[0,6]},\"id\":\"7031\",\"type\":\"MonthsTicker\"},{\"attributes\":{\"end\":1640908800000.0,\"reset_end\":1640908800000.0,\"reset_start\":1577836800000.0,\"start\":1577836800000.0,\"tags\":[[[\"Invoice Date\",\"Invoice Date\",null]]]},\"id\":\"6963\",\"type\":\"Range1d\"},{\"attributes\":{\"months\":[0,2,4,6,8,10]},\"id\":\"7029\",\"type\":\"MonthsTicker\"},{\"attributes\":{},\"id\":\"6997\",\"type\":\"Selection\"},{\"attributes\":{\"months\":[0,4,8]},\"id\":\"7030\",\"type\":\"MonthsTicker\"},{\"attributes\":{\"end\":90750.00000000001,\"reset_end\":90750.00000000001,\"reset_start\":-8250.000000000002,\"start\":-8250.000000000002,\"tags\":[[[\"Total Sales\",\"Total Sales\",null]]]},\"id\":\"6964\",\"type\":\"Range1d\"},{\"attributes\":{},\"id\":\"7018\",\"type\":\"UnionRenderers\"},{\"attributes\":{\"below\":[{\"id\":\"6975\"}],\"center\":[{\"id\":\"6978\"},{\"id\":\"6982\"}],\"height\":300,\"left\":[{\"id\":\"6979\"}],\"margin\":[5,5,5,5],\"min_border_bottom\":10,\"min_border_left\":10,\"min_border_right\":10,\"min_border_top\":10,\"renderers\":[{\"id\":\"7002\"}],\"sizing_mode\":\"fixed\",\"title\":{\"id\":\"6967\"},\"toolbar\":{\"id\":\"6989\"},\"width\":700,\"x_range\":{\"id\":\"6963\"},\"x_scale\":{\"id\":\"6971\"},\"y_range\":{\"id\":\"6964\"},\"y_scale\":{\"id\":\"6973\"}},\"id\":\"6966\",\"subtype\":\"Figure\",\"type\":\"Plot\"},{\"attributes\":{\"callback\":null,\"formatters\":{\"@{Invoice Date}\":\"datetime\",\"@{Invoice_Date}\":\"datetime\"},\"renderers\":[{\"id\":\"7002\"}],\"tags\":[\"hv_created\"],\"tooltips\":[[\"Invoice Date\",\"@{Invoice_Date}{%F %T}\"],[\"Total Sales\",\"@{Total_Sales}\"]]},\"id\":\"6965\",\"type\":\"HoverTool\"},{\"attributes\":{},\"id\":\"6973\",\"type\":\"LinearScale\"},{\"attributes\":{\"line_color\":\"#30a2da\",\"line_width\":2,\"x\":{\"field\":\"Invoice Date\"},\"y\":{\"field\":\"Total Sales\"}},\"id\":\"6999\",\"type\":\"Line\"},{\"attributes\":{\"line_alpha\":0.1,\"line_color\":\"#30a2da\",\"line_width\":2,\"x\":{\"field\":\"Invoice Date\"},\"y\":{\"field\":\"Total Sales\"}},\"id\":\"7000\",\"type\":\"Line\"},{\"attributes\":{},\"id\":\"6984\",\"type\":\"PanTool\"},{\"attributes\":{\"margin\":[5,5,5,5],\"name\":\"HSpacer04466\",\"sizing_mode\":\"stretch_width\"},\"id\":\"6962\",\"type\":\"Spacer\"},{\"attributes\":{\"coordinates\":null,\"group\":null,\"text\":\"Total Sales by Date\",\"text_color\":\"black\",\"text_font_size\":\"12pt\"},\"id\":\"6967\",\"type\":\"Title\"},{\"attributes\":{\"axis\":{\"id\":\"6975\"},\"coordinates\":null,\"grid_line_color\":null,\"group\":null,\"ticker\":null},\"id\":\"6978\",\"type\":\"Grid\"},{\"attributes\":{\"children\":[{\"id\":\"6962\"},{\"id\":\"6966\"},{\"id\":\"7033\"}],\"margin\":[0,0,0,0],\"name\":\"Row04462\",\"tags\":[\"embedded\"]},\"id\":\"6961\",\"type\":\"Row\"},{\"attributes\":{\"axis_label\":\"Date\",\"coordinates\":null,\"formatter\":{\"id\":\"7006\"},\"group\":null,\"major_label_policy\":{\"id\":\"7007\"},\"ticker\":{\"id\":\"6976\"}},\"id\":\"6975\",\"type\":\"DatetimeAxis\"},{\"attributes\":{\"coordinates\":null,\"data_source\":{\"id\":\"6996\"},\"glyph\":{\"id\":\"6999\"},\"group\":null,\"hover_glyph\":null,\"muted_glyph\":{\"id\":\"7001\"},\"nonselection_glyph\":{\"id\":\"7000\"},\"selection_glyph\":{\"id\":\"7004\"},\"view\":{\"id\":\"7003\"}},\"id\":\"7002\",\"type\":\"GlyphRenderer\"},{\"attributes\":{\"axis_label\":\"Total Sales\",\"coordinates\":null,\"formatter\":{\"id\":\"7009\"},\"group\":null,\"major_label_policy\":{\"id\":\"7010\"},\"ticker\":{\"id\":\"6980\"}},\"id\":\"6979\",\"type\":\"LinearAxis\"},{\"attributes\":{\"source\":{\"id\":\"6996\"}},\"id\":\"7003\",\"type\":\"CDSView\"},{\"attributes\":{\"num_minor_ticks\":5,\"tickers\":[{\"id\":\"7021\"},{\"id\":\"7022\"},{\"id\":\"7023\"},{\"id\":\"7024\"},{\"id\":\"7025\"},{\"id\":\"7026\"},{\"id\":\"7027\"},{\"id\":\"7028\"},{\"id\":\"7029\"},{\"id\":\"7030\"},{\"id\":\"7031\"},{\"id\":\"7032\"}]},\"id\":\"6976\",\"type\":\"DatetimeTicker\"},{\"attributes\":{\"line_color\":\"#30a2da\",\"line_width\":2,\"x\":{\"field\":\"Invoice Date\"},\"y\":{\"field\":\"Total Sales\"}},\"id\":\"7004\",\"type\":\"Line\"},{\"attributes\":{\"axis\":{\"id\":\"6979\"},\"coordinates\":null,\"dimension\":1,\"grid_line_color\":null,\"group\":null,\"ticker\":null},\"id\":\"6982\",\"type\":\"Grid\"},{\"attributes\":{},\"id\":\"6980\",\"type\":\"BasicTicker\"},{\"attributes\":{},\"id\":\"6985\",\"type\":\"WheelZoomTool\"},{\"attributes\":{},\"id\":\"7006\",\"type\":\"DatetimeTickFormatter\"},{\"attributes\":{\"margin\":[5,5,5,5],\"name\":\"HSpacer04467\",\"sizing_mode\":\"stretch_width\"},\"id\":\"7033\",\"type\":\"Spacer\"},{\"attributes\":{\"tools\":[{\"id\":\"6965\"},{\"id\":\"6983\"},{\"id\":\"6984\"},{\"id\":\"6985\"},{\"id\":\"6986\"},{\"id\":\"6987\"}]},\"id\":\"6989\",\"type\":\"Toolbar\"},{\"attributes\":{},\"id\":\"6983\",\"type\":\"SaveTool\"},{\"attributes\":{},\"id\":\"7009\",\"type\":\"BasicTickFormatter\"},{\"attributes\":{\"overlay\":{\"id\":\"6988\"}},\"id\":\"6986\",\"type\":\"BoxZoomTool\"},{\"attributes\":{\"mantissas\":[1,2,5],\"max_interval\":500.0,\"num_minor_ticks\":0},\"id\":\"7021\",\"type\":\"AdaptiveTicker\"},{\"attributes\":{},\"id\":\"6987\",\"type\":\"ResetTool\"},{\"attributes\":{},\"id\":\"6971\",\"type\":\"LinearScale\"},{\"attributes\":{\"bottom_units\":\"screen\",\"coordinates\":null,\"fill_alpha\":0.5,\"fill_color\":\"lightgrey\",\"group\":null,\"left_units\":\"screen\",\"level\":\"overlay\",\"line_alpha\":1.0,\"line_color\":\"black\",\"line_dash\":[4,4],\"line_width\":2,\"right_units\":\"screen\",\"syncable\":false,\"top_units\":\"screen\"},\"id\":\"6988\",\"type\":\"BoxAnnotation\"},{\"attributes\":{\"base\":60,\"mantissas\":[1,2,5,10,15,20,30],\"max_interval\":1800000.0,\"min_interval\":1000.0,\"num_minor_ticks\":0},\"id\":\"7022\",\"type\":\"AdaptiveTicker\"}],\"root_ids\":[\"6961\"]},\"title\":\"Bokeh Application\",\"version\":\"2.4.3\"}};\n",
       "    var render_items = [{\"docid\":\"18682746-01be-474d-87c7-c4249aafa7db\",\"root_ids\":[\"6961\"],\"roots\":{\"6961\":\"04db9971-5de6-4ac8-ad42-6c9d0fe1e45b\"}}];\n",
       "    root.Bokeh.embed.embed_items_notebook(docs_json, render_items);\n",
       "  }\n",
       "  if (root.Bokeh !== undefined && root.Bokeh.Panel !== undefined) {\n",
       "    embed_document(root);\n",
       "  } else {\n",
       "    var attempts = 0;\n",
       "    var timer = setInterval(function(root) {\n",
       "      if (root.Bokeh !== undefined && root.Bokeh.Panel !== undefined) {\n",
       "        clearInterval(timer);\n",
       "        embed_document(root);\n",
       "      } else if (document.readyState == \"complete\") {\n",
       "        attempts++;\n",
       "        if (attempts > 200) {\n",
       "          clearInterval(timer);\n",
       "          console.log(\"Bokeh: ERROR: Unable to run BokehJS code because BokehJS library is missing\");\n",
       "        }\n",
       "      }\n",
       "    }, 25, root)\n",
       "  }\n",
       "})(window);</script>"
      ],
      "text/plain": [
       ":Curve   [Invoice Date]   (Total Sales)"
      ]
     },
     "execution_count": 755,
     "metadata": {
      "application/vnd.holoviews_exec.v0+json": {
       "id": "6961"
      }
     },
     "output_type": "execute_result"
    }
   ],
   "source": [
    "#Plot Total Sales by Date\n",
    "adidas_sales_df.hvplot.line(x='Invoice Date', y='Total Sales', xlabel='Date', ylabel='Total Sales', title='Total Sales by Date')"
   ]
  },
  {
   "cell_type": "code",
   "execution_count": 756,
   "metadata": {},
   "outputs": [],
   "source": [
    "#Group data by the sum of Total Sales per week\n",
    "total_sales_weekly = adidas_sales_df.groupby(pd.Grouper(key='Invoice Date', freq='W')).sum()\n",
    "\n",
    "#Group data by the sum of Total Sales per month\n",
    "total_sales_monthly = adidas_sales_df.groupby(pd.Grouper(key='Invoice Date', freq='M')).sum()\n",
    "\n",
    "#Group data by the sum of Total Sales per quarter\n",
    "total_sales_quarterly = adidas_sales_df.groupby(pd.Grouper(key='Invoice Date', freq='Q')).sum()"
   ]
  },
  {
   "cell_type": "code",
   "execution_count": 757,
   "metadata": {},
   "outputs": [
    {
     "data": {
      "application/vnd.plotly.v1+json": {
       "config": {
        "plotlyServerURL": "https://plot.ly"
       },
       "data": [
        {
         "name": "Weekly Sales",
         "type": "scatter",
         "x": [
          "2020-01-05T00:00:00",
          "2020-01-12T00:00:00",
          "2020-01-19T00:00:00",
          "2020-01-26T00:00:00",
          "2020-02-02T00:00:00",
          "2020-02-09T00:00:00",
          "2020-02-16T00:00:00",
          "2020-02-23T00:00:00",
          "2020-03-01T00:00:00",
          "2020-03-08T00:00:00",
          "2020-03-15T00:00:00",
          "2020-03-22T00:00:00",
          "2020-03-29T00:00:00",
          "2020-04-05T00:00:00",
          "2020-04-12T00:00:00",
          "2020-04-19T00:00:00",
          "2020-04-26T00:00:00",
          "2020-05-03T00:00:00",
          "2020-05-10T00:00:00",
          "2020-05-17T00:00:00",
          "2020-05-24T00:00:00",
          "2020-05-31T00:00:00",
          "2020-06-07T00:00:00",
          "2020-06-14T00:00:00",
          "2020-06-21T00:00:00",
          "2020-06-28T00:00:00",
          "2020-07-05T00:00:00",
          "2020-07-12T00:00:00",
          "2020-07-19T00:00:00",
          "2020-07-26T00:00:00",
          "2020-08-02T00:00:00",
          "2020-08-09T00:00:00",
          "2020-08-16T00:00:00",
          "2020-08-23T00:00:00",
          "2020-08-30T00:00:00",
          "2020-09-06T00:00:00",
          "2020-09-13T00:00:00",
          "2020-09-20T00:00:00",
          "2020-09-27T00:00:00",
          "2020-10-04T00:00:00",
          "2020-10-11T00:00:00",
          "2020-10-18T00:00:00",
          "2020-10-25T00:00:00",
          "2020-11-01T00:00:00",
          "2020-11-08T00:00:00",
          "2020-11-15T00:00:00",
          "2020-11-22T00:00:00",
          "2020-11-29T00:00:00",
          "2020-12-06T00:00:00",
          "2020-12-13T00:00:00",
          "2020-12-20T00:00:00",
          "2020-12-27T00:00:00",
          "2021-01-03T00:00:00",
          "2021-01-10T00:00:00",
          "2021-01-17T00:00:00",
          "2021-01-24T00:00:00",
          "2021-01-31T00:00:00",
          "2021-02-07T00:00:00",
          "2021-02-14T00:00:00",
          "2021-02-21T00:00:00",
          "2021-02-28T00:00:00",
          "2021-03-07T00:00:00",
          "2021-03-14T00:00:00",
          "2021-03-21T00:00:00",
          "2021-03-28T00:00:00",
          "2021-04-04T00:00:00",
          "2021-04-11T00:00:00",
          "2021-04-18T00:00:00",
          "2021-04-25T00:00:00",
          "2021-05-02T00:00:00",
          "2021-05-09T00:00:00",
          "2021-05-16T00:00:00",
          "2021-05-23T00:00:00",
          "2021-05-30T00:00:00",
          "2021-06-06T00:00:00",
          "2021-06-13T00:00:00",
          "2021-06-20T00:00:00",
          "2021-06-27T00:00:00",
          "2021-07-04T00:00:00",
          "2021-07-11T00:00:00",
          "2021-07-18T00:00:00",
          "2021-07-25T00:00:00",
          "2021-08-01T00:00:00",
          "2021-08-08T00:00:00",
          "2021-08-15T00:00:00",
          "2021-08-22T00:00:00",
          "2021-08-29T00:00:00",
          "2021-09-05T00:00:00",
          "2021-09-12T00:00:00",
          "2021-09-19T00:00:00",
          "2021-09-26T00:00:00",
          "2021-10-03T00:00:00",
          "2021-10-10T00:00:00",
          "2021-10-17T00:00:00",
          "2021-10-24T00:00:00",
          "2021-10-31T00:00:00",
          "2021-11-07T00:00:00",
          "2021-11-14T00:00:00",
          "2021-11-21T00:00:00",
          "2021-11-28T00:00:00",
          "2021-12-05T00:00:00",
          "2021-12-12T00:00:00",
          "2021-12-19T00:00:00",
          "2021-12-26T00:00:00",
          "2022-01-02T00:00:00"
         ],
         "y": [
          496408,
          404471,
          201263,
          690697,
          760939,
          887151,
          463124,
          330450,
          252045.00000000003,
          822690,
          957497,
          409766,
          148449,
          244289,
          181345,
          622462,
          1702298,
          993517,
          570476,
          223043.00000000003,
          724196.0000000001,
          199030,
          182130,
          221447,
          220873,
          333923,
          460991,
          439337.00000000006,
          444293.00000000006,
          526608,
          657389,
          632510,
          632838,
          692615,
          400949,
          391734,
          852028,
          612148,
          385845.00000000006,
          396776.00000000006,
          353704.00000000006,
          30968,
          413325,
          469788,
          417706,
          451301,
          114230,
          125545.00000000001,
          90548,
          56822,
          72277,
          505575,
          693051,
          1866761,
          2354971,
          2037772,
          844962,
          1432012,
          2079954,
          1634386,
          971341,
          943862,
          1738205,
          1681749,
          802165,
          401712,
          1875920,
          1986975,
          1566545,
          1165765,
          2081122,
          2635830,
          2128276,
          1248932,
          1116757,
          2697998,
          2574143,
          2280678,
          888829,
          3343880,
          3346577,
          2700020,
          206580,
          1968402,
          2839697,
          3018276,
          1643771,
          1508343,
          2180825,
          2505565,
          1419918,
          856797,
          2263295,
          2388999,
          1817751.0000000002,
          358585,
          1658240,
          2431256,
          2453165,
          1280196.0000000002,
          1832982,
          2989036,
          3359535.0000000005,
          1988576.0000000002,
          198534
         ]
        },
        {
         "name": "Monthly Sales",
         "type": "scatter",
         "x": [
          "2020-01-31T00:00:00",
          "2020-02-29T00:00:00",
          "2020-03-31T00:00:00",
          "2020-04-30T00:00:00",
          "2020-05-31T00:00:00",
          "2020-06-30T00:00:00",
          "2020-07-31T00:00:00",
          "2020-08-31T00:00:00",
          "2020-09-30T00:00:00",
          "2020-10-31T00:00:00",
          "2020-11-30T00:00:00",
          "2020-12-31T00:00:00",
          "2021-01-31T00:00:00",
          "2021-02-28T00:00:00",
          "2021-03-31T00:00:00",
          "2021-04-30T00:00:00",
          "2021-05-31T00:00:00",
          "2021-06-30T00:00:00",
          "2021-07-31T00:00:00",
          "2021-08-31T00:00:00",
          "2021-09-30T00:00:00",
          "2021-10-31T00:00:00",
          "2021-11-30T00:00:00",
          "2021-12-31T00:00:00"
         ],
         "y": [
          2312746,
          2140813,
          2474202,
          3193081,
          2164764,
          1084194,
          2182388,
          2641630,
          2367686,
          1428569,
          1168050,
          1079202,
          7432021,
          6117693,
          5220782,
          6498339,
          8576956,
          8718953,
          10368031,
          9651596,
          8037898.000000001,
          7110189,
          7855390.000000001,
          10336130
         ]
        },
        {
         "name": "Quarterly Sales",
         "type": "scatter",
         "x": [
          "2020-03-31T00:00:00",
          "2020-06-30T00:00:00",
          "2020-09-30T00:00:00",
          "2020-12-31T00:00:00",
          "2021-03-31T00:00:00",
          "2021-06-30T00:00:00",
          "2021-09-30T00:00:00",
          "2021-12-31T00:00:00"
         ],
         "y": [
          6927761,
          6442039,
          7191704,
          3675821,
          18770496,
          23794248,
          28057525,
          25301709
         ]
        }
       ],
       "layout": {
        "template": {
         "data": {
          "bar": [
           {
            "error_x": {
             "color": "#2a3f5f"
            },
            "error_y": {
             "color": "#2a3f5f"
            },
            "marker": {
             "line": {
              "color": "#E5ECF6",
              "width": 0.5
             },
             "pattern": {
              "fillmode": "overlay",
              "size": 10,
              "solidity": 0.2
             }
            },
            "type": "bar"
           }
          ],
          "barpolar": [
           {
            "marker": {
             "line": {
              "color": "#E5ECF6",
              "width": 0.5
             },
             "pattern": {
              "fillmode": "overlay",
              "size": 10,
              "solidity": 0.2
             }
            },
            "type": "barpolar"
           }
          ],
          "carpet": [
           {
            "aaxis": {
             "endlinecolor": "#2a3f5f",
             "gridcolor": "white",
             "linecolor": "white",
             "minorgridcolor": "white",
             "startlinecolor": "#2a3f5f"
            },
            "baxis": {
             "endlinecolor": "#2a3f5f",
             "gridcolor": "white",
             "linecolor": "white",
             "minorgridcolor": "white",
             "startlinecolor": "#2a3f5f"
            },
            "type": "carpet"
           }
          ],
          "choropleth": [
           {
            "colorbar": {
             "outlinewidth": 0,
             "ticks": ""
            },
            "type": "choropleth"
           }
          ],
          "contour": [
           {
            "colorbar": {
             "outlinewidth": 0,
             "ticks": ""
            },
            "colorscale": [
             [
              0,
              "#0d0887"
             ],
             [
              0.1111111111111111,
              "#46039f"
             ],
             [
              0.2222222222222222,
              "#7201a8"
             ],
             [
              0.3333333333333333,
              "#9c179e"
             ],
             [
              0.4444444444444444,
              "#bd3786"
             ],
             [
              0.5555555555555556,
              "#d8576b"
             ],
             [
              0.6666666666666666,
              "#ed7953"
             ],
             [
              0.7777777777777778,
              "#fb9f3a"
             ],
             [
              0.8888888888888888,
              "#fdca26"
             ],
             [
              1,
              "#f0f921"
             ]
            ],
            "type": "contour"
           }
          ],
          "contourcarpet": [
           {
            "colorbar": {
             "outlinewidth": 0,
             "ticks": ""
            },
            "type": "contourcarpet"
           }
          ],
          "heatmap": [
           {
            "colorbar": {
             "outlinewidth": 0,
             "ticks": ""
            },
            "colorscale": [
             [
              0,
              "#0d0887"
             ],
             [
              0.1111111111111111,
              "#46039f"
             ],
             [
              0.2222222222222222,
              "#7201a8"
             ],
             [
              0.3333333333333333,
              "#9c179e"
             ],
             [
              0.4444444444444444,
              "#bd3786"
             ],
             [
              0.5555555555555556,
              "#d8576b"
             ],
             [
              0.6666666666666666,
              "#ed7953"
             ],
             [
              0.7777777777777778,
              "#fb9f3a"
             ],
             [
              0.8888888888888888,
              "#fdca26"
             ],
             [
              1,
              "#f0f921"
             ]
            ],
            "type": "heatmap"
           }
          ],
          "heatmapgl": [
           {
            "colorbar": {
             "outlinewidth": 0,
             "ticks": ""
            },
            "colorscale": [
             [
              0,
              "#0d0887"
             ],
             [
              0.1111111111111111,
              "#46039f"
             ],
             [
              0.2222222222222222,
              "#7201a8"
             ],
             [
              0.3333333333333333,
              "#9c179e"
             ],
             [
              0.4444444444444444,
              "#bd3786"
             ],
             [
              0.5555555555555556,
              "#d8576b"
             ],
             [
              0.6666666666666666,
              "#ed7953"
             ],
             [
              0.7777777777777778,
              "#fb9f3a"
             ],
             [
              0.8888888888888888,
              "#fdca26"
             ],
             [
              1,
              "#f0f921"
             ]
            ],
            "type": "heatmapgl"
           }
          ],
          "histogram": [
           {
            "marker": {
             "pattern": {
              "fillmode": "overlay",
              "size": 10,
              "solidity": 0.2
             }
            },
            "type": "histogram"
           }
          ],
          "histogram2d": [
           {
            "colorbar": {
             "outlinewidth": 0,
             "ticks": ""
            },
            "colorscale": [
             [
              0,
              "#0d0887"
             ],
             [
              0.1111111111111111,
              "#46039f"
             ],
             [
              0.2222222222222222,
              "#7201a8"
             ],
             [
              0.3333333333333333,
              "#9c179e"
             ],
             [
              0.4444444444444444,
              "#bd3786"
             ],
             [
              0.5555555555555556,
              "#d8576b"
             ],
             [
              0.6666666666666666,
              "#ed7953"
             ],
             [
              0.7777777777777778,
              "#fb9f3a"
             ],
             [
              0.8888888888888888,
              "#fdca26"
             ],
             [
              1,
              "#f0f921"
             ]
            ],
            "type": "histogram2d"
           }
          ],
          "histogram2dcontour": [
           {
            "colorbar": {
             "outlinewidth": 0,
             "ticks": ""
            },
            "colorscale": [
             [
              0,
              "#0d0887"
             ],
             [
              0.1111111111111111,
              "#46039f"
             ],
             [
              0.2222222222222222,
              "#7201a8"
             ],
             [
              0.3333333333333333,
              "#9c179e"
             ],
             [
              0.4444444444444444,
              "#bd3786"
             ],
             [
              0.5555555555555556,
              "#d8576b"
             ],
             [
              0.6666666666666666,
              "#ed7953"
             ],
             [
              0.7777777777777778,
              "#fb9f3a"
             ],
             [
              0.8888888888888888,
              "#fdca26"
             ],
             [
              1,
              "#f0f921"
             ]
            ],
            "type": "histogram2dcontour"
           }
          ],
          "mesh3d": [
           {
            "colorbar": {
             "outlinewidth": 0,
             "ticks": ""
            },
            "type": "mesh3d"
           }
          ],
          "parcoords": [
           {
            "line": {
             "colorbar": {
              "outlinewidth": 0,
              "ticks": ""
             }
            },
            "type": "parcoords"
           }
          ],
          "pie": [
           {
            "automargin": true,
            "type": "pie"
           }
          ],
          "scatter": [
           {
            "fillpattern": {
             "fillmode": "overlay",
             "size": 10,
             "solidity": 0.2
            },
            "type": "scatter"
           }
          ],
          "scatter3d": [
           {
            "line": {
             "colorbar": {
              "outlinewidth": 0,
              "ticks": ""
             }
            },
            "marker": {
             "colorbar": {
              "outlinewidth": 0,
              "ticks": ""
             }
            },
            "type": "scatter3d"
           }
          ],
          "scattercarpet": [
           {
            "marker": {
             "colorbar": {
              "outlinewidth": 0,
              "ticks": ""
             }
            },
            "type": "scattercarpet"
           }
          ],
          "scattergeo": [
           {
            "marker": {
             "colorbar": {
              "outlinewidth": 0,
              "ticks": ""
             }
            },
            "type": "scattergeo"
           }
          ],
          "scattergl": [
           {
            "marker": {
             "colorbar": {
              "outlinewidth": 0,
              "ticks": ""
             }
            },
            "type": "scattergl"
           }
          ],
          "scattermapbox": [
           {
            "marker": {
             "colorbar": {
              "outlinewidth": 0,
              "ticks": ""
             }
            },
            "type": "scattermapbox"
           }
          ],
          "scatterpolar": [
           {
            "marker": {
             "colorbar": {
              "outlinewidth": 0,
              "ticks": ""
             }
            },
            "type": "scatterpolar"
           }
          ],
          "scatterpolargl": [
           {
            "marker": {
             "colorbar": {
              "outlinewidth": 0,
              "ticks": ""
             }
            },
            "type": "scatterpolargl"
           }
          ],
          "scatterternary": [
           {
            "marker": {
             "colorbar": {
              "outlinewidth": 0,
              "ticks": ""
             }
            },
            "type": "scatterternary"
           }
          ],
          "surface": [
           {
            "colorbar": {
             "outlinewidth": 0,
             "ticks": ""
            },
            "colorscale": [
             [
              0,
              "#0d0887"
             ],
             [
              0.1111111111111111,
              "#46039f"
             ],
             [
              0.2222222222222222,
              "#7201a8"
             ],
             [
              0.3333333333333333,
              "#9c179e"
             ],
             [
              0.4444444444444444,
              "#bd3786"
             ],
             [
              0.5555555555555556,
              "#d8576b"
             ],
             [
              0.6666666666666666,
              "#ed7953"
             ],
             [
              0.7777777777777778,
              "#fb9f3a"
             ],
             [
              0.8888888888888888,
              "#fdca26"
             ],
             [
              1,
              "#f0f921"
             ]
            ],
            "type": "surface"
           }
          ],
          "table": [
           {
            "cells": {
             "fill": {
              "color": "#EBF0F8"
             },
             "line": {
              "color": "white"
             }
            },
            "header": {
             "fill": {
              "color": "#C8D4E3"
             },
             "line": {
              "color": "white"
             }
            },
            "type": "table"
           }
          ]
         },
         "layout": {
          "annotationdefaults": {
           "arrowcolor": "#2a3f5f",
           "arrowhead": 0,
           "arrowwidth": 1
          },
          "autotypenumbers": "strict",
          "coloraxis": {
           "colorbar": {
            "outlinewidth": 0,
            "ticks": ""
           }
          },
          "colorscale": {
           "diverging": [
            [
             0,
             "#8e0152"
            ],
            [
             0.1,
             "#c51b7d"
            ],
            [
             0.2,
             "#de77ae"
            ],
            [
             0.3,
             "#f1b6da"
            ],
            [
             0.4,
             "#fde0ef"
            ],
            [
             0.5,
             "#f7f7f7"
            ],
            [
             0.6,
             "#e6f5d0"
            ],
            [
             0.7,
             "#b8e186"
            ],
            [
             0.8,
             "#7fbc41"
            ],
            [
             0.9,
             "#4d9221"
            ],
            [
             1,
             "#276419"
            ]
           ],
           "sequential": [
            [
             0,
             "#0d0887"
            ],
            [
             0.1111111111111111,
             "#46039f"
            ],
            [
             0.2222222222222222,
             "#7201a8"
            ],
            [
             0.3333333333333333,
             "#9c179e"
            ],
            [
             0.4444444444444444,
             "#bd3786"
            ],
            [
             0.5555555555555556,
             "#d8576b"
            ],
            [
             0.6666666666666666,
             "#ed7953"
            ],
            [
             0.7777777777777778,
             "#fb9f3a"
            ],
            [
             0.8888888888888888,
             "#fdca26"
            ],
            [
             1,
             "#f0f921"
            ]
           ],
           "sequentialminus": [
            [
             0,
             "#0d0887"
            ],
            [
             0.1111111111111111,
             "#46039f"
            ],
            [
             0.2222222222222222,
             "#7201a8"
            ],
            [
             0.3333333333333333,
             "#9c179e"
            ],
            [
             0.4444444444444444,
             "#bd3786"
            ],
            [
             0.5555555555555556,
             "#d8576b"
            ],
            [
             0.6666666666666666,
             "#ed7953"
            ],
            [
             0.7777777777777778,
             "#fb9f3a"
            ],
            [
             0.8888888888888888,
             "#fdca26"
            ],
            [
             1,
             "#f0f921"
            ]
           ]
          },
          "colorway": [
           "#636efa",
           "#EF553B",
           "#00cc96",
           "#ab63fa",
           "#FFA15A",
           "#19d3f3",
           "#FF6692",
           "#B6E880",
           "#FF97FF",
           "#FECB52"
          ],
          "font": {
           "color": "#2a3f5f"
          },
          "geo": {
           "bgcolor": "white",
           "lakecolor": "white",
           "landcolor": "#E5ECF6",
           "showlakes": true,
           "showland": true,
           "subunitcolor": "white"
          },
          "hoverlabel": {
           "align": "left"
          },
          "hovermode": "closest",
          "mapbox": {
           "style": "light"
          },
          "paper_bgcolor": "white",
          "plot_bgcolor": "#E5ECF6",
          "polar": {
           "angularaxis": {
            "gridcolor": "white",
            "linecolor": "white",
            "ticks": ""
           },
           "bgcolor": "#E5ECF6",
           "radialaxis": {
            "gridcolor": "white",
            "linecolor": "white",
            "ticks": ""
           }
          },
          "scene": {
           "xaxis": {
            "backgroundcolor": "#E5ECF6",
            "gridcolor": "white",
            "gridwidth": 2,
            "linecolor": "white",
            "showbackground": true,
            "ticks": "",
            "zerolinecolor": "white"
           },
           "yaxis": {
            "backgroundcolor": "#E5ECF6",
            "gridcolor": "white",
            "gridwidth": 2,
            "linecolor": "white",
            "showbackground": true,
            "ticks": "",
            "zerolinecolor": "white"
           },
           "zaxis": {
            "backgroundcolor": "#E5ECF6",
            "gridcolor": "white",
            "gridwidth": 2,
            "linecolor": "white",
            "showbackground": true,
            "ticks": "",
            "zerolinecolor": "white"
           }
          },
          "shapedefaults": {
           "line": {
            "color": "#2a3f5f"
           }
          },
          "ternary": {
           "aaxis": {
            "gridcolor": "white",
            "linecolor": "white",
            "ticks": ""
           },
           "baxis": {
            "gridcolor": "white",
            "linecolor": "white",
            "ticks": ""
           },
           "bgcolor": "#E5ECF6",
           "caxis": {
            "gridcolor": "white",
            "linecolor": "white",
            "ticks": ""
           }
          },
          "title": {
           "x": 0.05
          },
          "xaxis": {
           "automargin": true,
           "gridcolor": "white",
           "linecolor": "white",
           "ticks": "",
           "title": {
            "standoff": 15
           },
           "zerolinecolor": "white",
           "zerolinewidth": 2
          },
          "yaxis": {
           "automargin": true,
           "gridcolor": "white",
           "linecolor": "white",
           "ticks": "",
           "title": {
            "standoff": 15
           },
           "zerolinecolor": "white",
           "zerolinewidth": 2
          }
         }
        },
        "title": {
         "text": "Total Sales by Date",
         "x": 0.5
        },
        "updatemenus": [
         {
          "active": 0,
          "buttons": [
           {
            "args": [
             {
              "visible": [
               true,
               true,
               true
              ]
             },
             {
              "title": "All Sales"
             }
            ],
            "label": "All",
            "method": "update"
           },
           {
            "args": [
             {
              "visible": [
               true,
               false,
               false
              ]
             },
             {
              "title": "Weekly Sales"
             }
            ],
            "label": "Weekly",
            "method": "update"
           },
           {
            "args": [
             {
              "visible": [
               false,
               true,
               false
              ]
             },
             {
              "title": "Monthly Sales"
             }
            ],
            "label": "Monthly",
            "method": "update"
           },
           {
            "args": [
             {
              "visible": [
               false,
               false,
               true
              ]
             },
             {
              "title": "Quarterly Sales"
             }
            ],
            "label": "Quarterly",
            "method": "update"
           }
          ]
         }
        ]
       }
      }
     },
     "metadata": {},
     "output_type": "display_data"
    }
   ],
   "source": [
    "#Initialize the figure\n",
    "fig = go.Figure()\n",
    "\n",
    "#Add the traces\n",
    "fig.add_trace(go.Scatter(x=total_sales_weekly.index, y=total_sales_weekly['Total Sales'], name='Weekly Sales'))\n",
    "\n",
    "fig.add_trace(go.Scatter(x=total_sales_monthly.index, y=total_sales_monthly['Total Sales'], name='Monthly Sales'))\n",
    "\n",
    "fig.add_trace(go.Scatter(x=total_sales_quarterly.index, y=total_sales_quarterly['Total Sales'], name='Quarterly Sales'))\n",
    "\n",
    "#Create and add dropdown\n",
    "fig.update_layout(updatemenus=[\n",
    "    dict(\n",
    "        active=0,\n",
    "        buttons=list([\n",
    "            dict(label=\"All\", method=\"update\", args=[{\"visible\": [True, True, True]}, {\"title\": \"All Sales\"}]),\n",
    "            dict(label=\"Weekly\", method=\"update\", args=[{\"visible\": [True, False, False]}, {\"title\": \"Weekly Sales\"}]),\n",
    "            dict(label=\"Monthly\", method=\"update\", args=[{\"visible\": [False, True, False]}, {\"title\": \"Monthly Sales\"}]),\n",
    "            dict(label=\"Quarterly\", method=\"update\", args=[{\"visible\": [False, False, True]}, {\"title\": \"Quarterly Sales\"}])\n",
    "        ])\n",
    "    )\n",
    "])\n",
    "\n",
    "#Update the layout and show the figure\n",
    "fig.update_layout(title_text='Total Sales by Date', title_x=0.5)"
   ]
  },
  {
   "cell_type": "code",
   "execution_count": 758,
   "metadata": {},
   "outputs": [
    {
     "data": {
      "text/html": [
       "<div>\n",
       "<style scoped>\n",
       "    .dataframe tbody tr th:only-of-type {\n",
       "        vertical-align: middle;\n",
       "    }\n",
       "\n",
       "    .dataframe tbody tr th {\n",
       "        vertical-align: top;\n",
       "    }\n",
       "\n",
       "    .dataframe thead th {\n",
       "        text-align: right;\n",
       "    }\n",
       "</style>\n",
       "<table border=\"1\" class=\"dataframe\">\n",
       "  <thead>\n",
       "    <tr style=\"text-align: right;\">\n",
       "      <th></th>\n",
       "      <th>Total Sales</th>\n",
       "      <th>Operating Profit</th>\n",
       "    </tr>\n",
       "    <tr>\n",
       "      <th>Invoice Date</th>\n",
       "      <th></th>\n",
       "      <th></th>\n",
       "    </tr>\n",
       "  </thead>\n",
       "  <tbody>\n",
       "    <tr>\n",
       "      <th>2020-03-31</th>\n",
       "      <td>6927761.0</td>\n",
       "      <td>2559891.11</td>\n",
       "    </tr>\n",
       "    <tr>\n",
       "      <th>2020-06-30</th>\n",
       "      <td>6442039.0</td>\n",
       "      <td>2383123.95</td>\n",
       "    </tr>\n",
       "    <tr>\n",
       "      <th>2020-09-30</th>\n",
       "      <td>7191704.0</td>\n",
       "      <td>2700034.59</td>\n",
       "    </tr>\n",
       "    <tr>\n",
       "      <th>2020-12-31</th>\n",
       "      <td>3675821.0</td>\n",
       "      <td>1372455.43</td>\n",
       "    </tr>\n",
       "    <tr>\n",
       "      <th>2021-03-31</th>\n",
       "      <td>18770496.0</td>\n",
       "      <td>7113924.66</td>\n",
       "    </tr>\n",
       "    <tr>\n",
       "      <th>2021-06-30</th>\n",
       "      <td>23794248.0</td>\n",
       "      <td>9530544.61</td>\n",
       "    </tr>\n",
       "    <tr>\n",
       "      <th>2021-09-30</th>\n",
       "      <td>28057525.0</td>\n",
       "      <td>11395237.28</td>\n",
       "    </tr>\n",
       "    <tr>\n",
       "      <th>2021-12-31</th>\n",
       "      <td>25301709.0</td>\n",
       "      <td>10167871.38</td>\n",
       "    </tr>\n",
       "  </tbody>\n",
       "</table>\n",
       "</div>"
      ],
      "text/plain": [
       "              Total Sales  Operating Profit\n",
       "Invoice Date                               \n",
       "2020-03-31      6927761.0        2559891.11\n",
       "2020-06-30      6442039.0        2383123.95\n",
       "2020-09-30      7191704.0        2700034.59\n",
       "2020-12-31      3675821.0        1372455.43\n",
       "2021-03-31     18770496.0        7113924.66\n",
       "2021-06-30     23794248.0        9530544.61\n",
       "2021-09-30     28057525.0       11395237.28\n",
       "2021-12-31     25301709.0       10167871.38"
      ]
     },
     "execution_count": 758,
     "metadata": {},
     "output_type": "execute_result"
    }
   ],
   "source": [
    "total_sales_quarterly"
   ]
  },
  {
   "attachments": {},
   "cell_type": "markdown",
   "metadata": {},
   "source": [
    "# Import & clean demographic data"
   ]
  },
  {
   "cell_type": "code",
   "execution_count": 1043,
   "metadata": {},
   "outputs": [],
   "source": [
    "#Retrieved from: https://apps.bea.gov/regional/downloadzip.cfm\n",
    "#Import demographic data\n",
    "demo_df = pd.read_csv('SQINC1__ALL_AREAS_1948_2022.csv')"
   ]
  },
  {
   "cell_type": "code",
   "execution_count": 1044,
   "metadata": {},
   "outputs": [
    {
     "data": {
      "text/html": [
       "<div>\n",
       "<style scoped>\n",
       "    .dataframe tbody tr th:only-of-type {\n",
       "        vertical-align: middle;\n",
       "    }\n",
       "\n",
       "    .dataframe tbody tr th {\n",
       "        vertical-align: top;\n",
       "    }\n",
       "\n",
       "    .dataframe thead th {\n",
       "        text-align: right;\n",
       "    }\n",
       "</style>\n",
       "<table border=\"1\" class=\"dataframe\">\n",
       "  <thead>\n",
       "    <tr style=\"text-align: right;\">\n",
       "      <th></th>\n",
       "      <th>GeoFIPS</th>\n",
       "      <th>GeoName</th>\n",
       "      <th>Region</th>\n",
       "      <th>TableName</th>\n",
       "      <th>LineCode</th>\n",
       "      <th>IndustryClassification</th>\n",
       "      <th>Description</th>\n",
       "      <th>Unit</th>\n",
       "      <th>1948:Q1</th>\n",
       "      <th>1948:Q2</th>\n",
       "      <th>...</th>\n",
       "      <th>2020:Q2</th>\n",
       "      <th>2020:Q3</th>\n",
       "      <th>2020:Q4</th>\n",
       "      <th>2021:Q1</th>\n",
       "      <th>2021:Q2</th>\n",
       "      <th>2021:Q3</th>\n",
       "      <th>2021:Q4</th>\n",
       "      <th>2022:Q1</th>\n",
       "      <th>2022:Q2</th>\n",
       "      <th>2022:Q3</th>\n",
       "    </tr>\n",
       "  </thead>\n",
       "  <tbody>\n",
       "    <tr>\n",
       "      <th>0</th>\n",
       "      <td>\"00000\"</td>\n",
       "      <td>United States</td>\n",
       "      <td></td>\n",
       "      <td>SQINC1</td>\n",
       "      <td>1.0</td>\n",
       "      <td>...</td>\n",
       "      <td>Personal income (millions of dollars, seasonal...</td>\n",
       "      <td>Millions of dollars</td>\n",
       "      <td>204641.7</td>\n",
       "      <td>210069.4</td>\n",
       "      <td>...</td>\n",
       "      <td>20459375.8</td>\n",
       "      <td>19997807.5</td>\n",
       "      <td>19778315.9</td>\n",
       "      <td>22090041.2</td>\n",
       "      <td>20907855.1</td>\n",
       "      <td>20998895.9</td>\n",
       "      <td>21158043.8</td>\n",
       "      <td>21317801.6</td>\n",
       "      <td>21575362.1</td>\n",
       "      <td>21856480.2</td>\n",
       "    </tr>\n",
       "    <tr>\n",
       "      <th>1</th>\n",
       "      <td>\"00000\"</td>\n",
       "      <td>United States</td>\n",
       "      <td></td>\n",
       "      <td>SQINC1</td>\n",
       "      <td>2.0</td>\n",
       "      <td>...</td>\n",
       "      <td>Population (midperiod, persons) 1/</td>\n",
       "      <td>Number of persons</td>\n",
       "      <td>(NA)</td>\n",
       "      <td>(NA)</td>\n",
       "      <td>...</td>\n",
       "      <td>331448217.0</td>\n",
       "      <td>331596557.0</td>\n",
       "      <td>331734262.0</td>\n",
       "      <td>331706294.0</td>\n",
       "      <td>331776226.0</td>\n",
       "      <td>332049982.0</td>\n",
       "      <td>332336782.0</td>\n",
       "      <td>332502197.0</td>\n",
       "      <td>332693300.0</td>\n",
       "      <td>332994420.0</td>\n",
       "    </tr>\n",
       "    <tr>\n",
       "      <th>2</th>\n",
       "      <td>\"00000\"</td>\n",
       "      <td>United States</td>\n",
       "      <td></td>\n",
       "      <td>SQINC1</td>\n",
       "      <td>3.0</td>\n",
       "      <td>...</td>\n",
       "      <td>Per capita personal income (dollars) 2/</td>\n",
       "      <td>Dollars</td>\n",
       "      <td>(NA)</td>\n",
       "      <td>(NA)</td>\n",
       "      <td>...</td>\n",
       "      <td>61727.0</td>\n",
       "      <td>60308.0</td>\n",
       "      <td>59621.0</td>\n",
       "      <td>66595.0</td>\n",
       "      <td>63018.0</td>\n",
       "      <td>63240.0</td>\n",
       "      <td>63664.0</td>\n",
       "      <td>64113.0</td>\n",
       "      <td>64851.0</td>\n",
       "      <td>65636.0</td>\n",
       "    </tr>\n",
       "    <tr>\n",
       "      <th>3</th>\n",
       "      <td>\"01000\"</td>\n",
       "      <td>Alabama</td>\n",
       "      <td>5</td>\n",
       "      <td>SQINC1</td>\n",
       "      <td>1.0</td>\n",
       "      <td>...</td>\n",
       "      <td>Personal income (millions of dollars, seasonal...</td>\n",
       "      <td>Millions of dollars</td>\n",
       "      <td>2496.0</td>\n",
       "      <td>2595.6</td>\n",
       "      <td>...</td>\n",
       "      <td>242348.1</td>\n",
       "      <td>232629.8</td>\n",
       "      <td>230152.7</td>\n",
       "      <td>265461.3</td>\n",
       "      <td>244059.8</td>\n",
       "      <td>245116.7</td>\n",
       "      <td>248677.4</td>\n",
       "      <td>250483.3</td>\n",
       "      <td>254302.5</td>\n",
       "      <td>257231.8</td>\n",
       "    </tr>\n",
       "    <tr>\n",
       "      <th>4</th>\n",
       "      <td>\"01000\"</td>\n",
       "      <td>Alabama</td>\n",
       "      <td>5</td>\n",
       "      <td>SQINC1</td>\n",
       "      <td>2.0</td>\n",
       "      <td>...</td>\n",
       "      <td>Population (midperiod, persons) 1/</td>\n",
       "      <td>Number of persons</td>\n",
       "      <td>(NA)</td>\n",
       "      <td>(NA)</td>\n",
       "      <td>...</td>\n",
       "      <td>5024115.0</td>\n",
       "      <td>5027375.0</td>\n",
       "      <td>5031760.0</td>\n",
       "      <td>5033508.0</td>\n",
       "      <td>5036858.0</td>\n",
       "      <td>5043548.0</td>\n",
       "      <td>5050555.0</td>\n",
       "      <td>5055254.0</td>\n",
       "      <td>5060373.0</td>\n",
       "      <td>5067413.0</td>\n",
       "    </tr>\n",
       "    <tr>\n",
       "      <th>...</th>\n",
       "      <td>...</td>\n",
       "      <td>...</td>\n",
       "      <td>...</td>\n",
       "      <td>...</td>\n",
       "      <td>...</td>\n",
       "      <td>...</td>\n",
       "      <td>...</td>\n",
       "      <td>...</td>\n",
       "      <td>...</td>\n",
       "      <td>...</td>\n",
       "      <td>...</td>\n",
       "      <td>...</td>\n",
       "      <td>...</td>\n",
       "      <td>...</td>\n",
       "      <td>...</td>\n",
       "      <td>...</td>\n",
       "      <td>...</td>\n",
       "      <td>...</td>\n",
       "      <td>...</td>\n",
       "      <td>...</td>\n",
       "      <td>...</td>\n",
       "    </tr>\n",
       "    <tr>\n",
       "      <th>179</th>\n",
       "      <td>\"98000\"</td>\n",
       "      <td>Far West</td>\n",
       "      <td>8</td>\n",
       "      <td>SQINC1</td>\n",
       "      <td>3.0</td>\n",
       "      <td>...</td>\n",
       "      <td>Per capita personal income (dollars) 2/</td>\n",
       "      <td>Dollars</td>\n",
       "      <td>(NA)</td>\n",
       "      <td>(NA)</td>\n",
       "      <td>...</td>\n",
       "      <td>69208.0</td>\n",
       "      <td>69573.0</td>\n",
       "      <td>68675.0</td>\n",
       "      <td>75629.0</td>\n",
       "      <td>72498.0</td>\n",
       "      <td>73198.0</td>\n",
       "      <td>73197.0</td>\n",
       "      <td>73031.0</td>\n",
       "      <td>73756.0</td>\n",
       "      <td>74669.0</td>\n",
       "    </tr>\n",
       "    <tr>\n",
       "      <th>180</th>\n",
       "      <td>Note: See the included footnote file.</td>\n",
       "      <td>NaN</td>\n",
       "      <td>NaN</td>\n",
       "      <td>NaN</td>\n",
       "      <td>NaN</td>\n",
       "      <td>NaN</td>\n",
       "      <td>NaN</td>\n",
       "      <td>NaN</td>\n",
       "      <td>NaN</td>\n",
       "      <td>NaN</td>\n",
       "      <td>...</td>\n",
       "      <td>NaN</td>\n",
       "      <td>NaN</td>\n",
       "      <td>NaN</td>\n",
       "      <td>NaN</td>\n",
       "      <td>NaN</td>\n",
       "      <td>NaN</td>\n",
       "      <td>NaN</td>\n",
       "      <td>NaN</td>\n",
       "      <td>NaN</td>\n",
       "      <td>NaN</td>\n",
       "    </tr>\n",
       "    <tr>\n",
       "      <th>181</th>\n",
       "      <td>SQINC1: State quarterly personal income summar...</td>\n",
       "      <td>NaN</td>\n",
       "      <td>NaN</td>\n",
       "      <td>NaN</td>\n",
       "      <td>NaN</td>\n",
       "      <td>NaN</td>\n",
       "      <td>NaN</td>\n",
       "      <td>NaN</td>\n",
       "      <td>NaN</td>\n",
       "      <td>NaN</td>\n",
       "      <td>...</td>\n",
       "      <td>NaN</td>\n",
       "      <td>NaN</td>\n",
       "      <td>NaN</td>\n",
       "      <td>NaN</td>\n",
       "      <td>NaN</td>\n",
       "      <td>NaN</td>\n",
       "      <td>NaN</td>\n",
       "      <td>NaN</td>\n",
       "      <td>NaN</td>\n",
       "      <td>NaN</td>\n",
       "    </tr>\n",
       "    <tr>\n",
       "      <th>182</th>\n",
       "      <td>Last updated: December 23, 2022--new statistic...</td>\n",
       "      <td>NaN</td>\n",
       "      <td>NaN</td>\n",
       "      <td>NaN</td>\n",
       "      <td>NaN</td>\n",
       "      <td>NaN</td>\n",
       "      <td>NaN</td>\n",
       "      <td>NaN</td>\n",
       "      <td>NaN</td>\n",
       "      <td>NaN</td>\n",
       "      <td>...</td>\n",
       "      <td>NaN</td>\n",
       "      <td>NaN</td>\n",
       "      <td>NaN</td>\n",
       "      <td>NaN</td>\n",
       "      <td>NaN</td>\n",
       "      <td>NaN</td>\n",
       "      <td>NaN</td>\n",
       "      <td>NaN</td>\n",
       "      <td>NaN</td>\n",
       "      <td>NaN</td>\n",
       "    </tr>\n",
       "    <tr>\n",
       "      <th>183</th>\n",
       "      <td>U.S. Bureau of Economic Analysis</td>\n",
       "      <td>NaN</td>\n",
       "      <td>NaN</td>\n",
       "      <td>NaN</td>\n",
       "      <td>NaN</td>\n",
       "      <td>NaN</td>\n",
       "      <td>NaN</td>\n",
       "      <td>NaN</td>\n",
       "      <td>NaN</td>\n",
       "      <td>NaN</td>\n",
       "      <td>...</td>\n",
       "      <td>NaN</td>\n",
       "      <td>NaN</td>\n",
       "      <td>NaN</td>\n",
       "      <td>NaN</td>\n",
       "      <td>NaN</td>\n",
       "      <td>NaN</td>\n",
       "      <td>NaN</td>\n",
       "      <td>NaN</td>\n",
       "      <td>NaN</td>\n",
       "      <td>NaN</td>\n",
       "    </tr>\n",
       "  </tbody>\n",
       "</table>\n",
       "<p>184 rows × 307 columns</p>\n",
       "</div>"
      ],
      "text/plain": [
       "                                               GeoFIPS        GeoName Region  \\\n",
       "0                                              \"00000\"  United States          \n",
       "1                                              \"00000\"  United States          \n",
       "2                                              \"00000\"  United States          \n",
       "3                                              \"01000\"        Alabama      5   \n",
       "4                                              \"01000\"        Alabama      5   \n",
       "..                                                 ...            ...    ...   \n",
       "179                                            \"98000\"       Far West      8   \n",
       "180              Note: See the included footnote file.            NaN    NaN   \n",
       "181  SQINC1: State quarterly personal income summar...            NaN    NaN   \n",
       "182  Last updated: December 23, 2022--new statistic...            NaN    NaN   \n",
       "183                   U.S. Bureau of Economic Analysis            NaN    NaN   \n",
       "\n",
       "    TableName  LineCode IndustryClassification  \\\n",
       "0      SQINC1       1.0                    ...   \n",
       "1      SQINC1       2.0                    ...   \n",
       "2      SQINC1       3.0                    ...   \n",
       "3      SQINC1       1.0                    ...   \n",
       "4      SQINC1       2.0                    ...   \n",
       "..        ...       ...                    ...   \n",
       "179    SQINC1       3.0                    ...   \n",
       "180       NaN       NaN                    NaN   \n",
       "181       NaN       NaN                    NaN   \n",
       "182       NaN       NaN                    NaN   \n",
       "183       NaN       NaN                    NaN   \n",
       "\n",
       "                                           Description                 Unit  \\\n",
       "0    Personal income (millions of dollars, seasonal...  Millions of dollars   \n",
       "1                   Population (midperiod, persons) 1/    Number of persons   \n",
       "2              Per capita personal income (dollars) 2/              Dollars   \n",
       "3    Personal income (millions of dollars, seasonal...  Millions of dollars   \n",
       "4                   Population (midperiod, persons) 1/    Number of persons   \n",
       "..                                                 ...                  ...   \n",
       "179            Per capita personal income (dollars) 2/              Dollars   \n",
       "180                                                NaN                  NaN   \n",
       "181                                                NaN                  NaN   \n",
       "182                                                NaN                  NaN   \n",
       "183                                                NaN                  NaN   \n",
       "\n",
       "      1948:Q1   1948:Q2  ...      2020:Q2      2020:Q3      2020:Q4  \\\n",
       "0    204641.7  210069.4  ...   20459375.8   19997807.5   19778315.9   \n",
       "1        (NA)      (NA)  ...  331448217.0  331596557.0  331734262.0   \n",
       "2        (NA)      (NA)  ...      61727.0      60308.0      59621.0   \n",
       "3      2496.0    2595.6  ...     242348.1     232629.8     230152.7   \n",
       "4        (NA)      (NA)  ...    5024115.0    5027375.0    5031760.0   \n",
       "..        ...       ...  ...          ...          ...          ...   \n",
       "179      (NA)      (NA)  ...      69208.0      69573.0      68675.0   \n",
       "180       NaN       NaN  ...          NaN          NaN          NaN   \n",
       "181       NaN       NaN  ...          NaN          NaN          NaN   \n",
       "182       NaN       NaN  ...          NaN          NaN          NaN   \n",
       "183       NaN       NaN  ...          NaN          NaN          NaN   \n",
       "\n",
       "         2021:Q1      2021:Q2      2021:Q3      2021:Q4      2022:Q1  \\\n",
       "0     22090041.2   20907855.1   20998895.9   21158043.8   21317801.6   \n",
       "1    331706294.0  331776226.0  332049982.0  332336782.0  332502197.0   \n",
       "2        66595.0      63018.0      63240.0      63664.0      64113.0   \n",
       "3       265461.3     244059.8     245116.7     248677.4     250483.3   \n",
       "4      5033508.0    5036858.0    5043548.0    5050555.0    5055254.0   \n",
       "..           ...          ...          ...          ...          ...   \n",
       "179      75629.0      72498.0      73198.0      73197.0      73031.0   \n",
       "180          NaN          NaN          NaN          NaN          NaN   \n",
       "181          NaN          NaN          NaN          NaN          NaN   \n",
       "182          NaN          NaN          NaN          NaN          NaN   \n",
       "183          NaN          NaN          NaN          NaN          NaN   \n",
       "\n",
       "         2022:Q2      2022:Q3  \n",
       "0     21575362.1   21856480.2  \n",
       "1    332693300.0  332994420.0  \n",
       "2        64851.0      65636.0  \n",
       "3       254302.5     257231.8  \n",
       "4      5060373.0    5067413.0  \n",
       "..           ...          ...  \n",
       "179      73756.0      74669.0  \n",
       "180          NaN          NaN  \n",
       "181          NaN          NaN  \n",
       "182          NaN          NaN  \n",
       "183          NaN          NaN  \n",
       "\n",
       "[184 rows x 307 columns]"
      ]
     },
     "execution_count": 1044,
     "metadata": {},
     "output_type": "execute_result"
    }
   ],
   "source": [
    "demo_df"
   ]
  },
  {
   "cell_type": "code",
   "execution_count": 1045,
   "metadata": {},
   "outputs": [
    {
     "data": {
      "text/plain": [
       "Index(['GeoName', 'Description', 'Unit', '1948:Q1', '1948:Q2', '1948:Q3',\n",
       "       '1948:Q4', '1949:Q1', '1949:Q2', '1949:Q3',\n",
       "       ...\n",
       "       '2020:Q2', '2020:Q3', '2020:Q4', '2021:Q1', '2021:Q2', '2021:Q3',\n",
       "       '2021:Q4', '2022:Q1', '2022:Q2', '2022:Q3'],\n",
       "      dtype='object', length=302)"
      ]
     },
     "execution_count": 1045,
     "metadata": {},
     "output_type": "execute_result"
    }
   ],
   "source": [
    "#Drop the columns that are not needed\n",
    "demo_df = demo_df.drop(columns=['GeoFIPS', 'Region', 'TableName', 'LineCode', 'IndustryClassification',])\n",
    "\n",
    "demo_df.columns"
   ]
  },
  {
   "cell_type": "code",
   "execution_count": 1046,
   "metadata": {},
   "outputs": [
    {
     "data": {
      "text/html": [
       "<div>\n",
       "<style scoped>\n",
       "    .dataframe tbody tr th:only-of-type {\n",
       "        vertical-align: middle;\n",
       "    }\n",
       "\n",
       "    .dataframe tbody tr th {\n",
       "        vertical-align: top;\n",
       "    }\n",
       "\n",
       "    .dataframe thead th {\n",
       "        text-align: right;\n",
       "    }\n",
       "</style>\n",
       "<table border=\"1\" class=\"dataframe\">\n",
       "  <thead>\n",
       "    <tr style=\"text-align: right;\">\n",
       "      <th></th>\n",
       "      <th>GeoName</th>\n",
       "      <th>Description</th>\n",
       "      <th>Unit</th>\n",
       "      <th>2020:Q1</th>\n",
       "      <th>2020:Q2</th>\n",
       "      <th>2020:Q3</th>\n",
       "      <th>2020:Q4</th>\n",
       "      <th>2021:Q1</th>\n",
       "      <th>2021:Q2</th>\n",
       "      <th>2021:Q3</th>\n",
       "      <th>2021:Q4</th>\n",
       "      <th>2022:Q1</th>\n",
       "      <th>2022:Q2</th>\n",
       "      <th>2022:Q3</th>\n",
       "    </tr>\n",
       "  </thead>\n",
       "  <tbody>\n",
       "    <tr>\n",
       "      <th>0</th>\n",
       "      <td>United States</td>\n",
       "      <td>Personal income (millions of dollars, seasonal...</td>\n",
       "      <td>Millions of dollars</td>\n",
       "      <td>19013184.9</td>\n",
       "      <td>20459375.8</td>\n",
       "      <td>19997807.5</td>\n",
       "      <td>19778315.9</td>\n",
       "      <td>22090041.2</td>\n",
       "      <td>20907855.1</td>\n",
       "      <td>20998895.9</td>\n",
       "      <td>21158043.8</td>\n",
       "      <td>21317801.6</td>\n",
       "      <td>21575362.1</td>\n",
       "      <td>21856480.2</td>\n",
       "    </tr>\n",
       "    <tr>\n",
       "      <th>1</th>\n",
       "      <td>United States</td>\n",
       "      <td>Population (midperiod, persons) 1/</td>\n",
       "      <td>Number of persons</td>\n",
       "      <td>331295939.0</td>\n",
       "      <td>331448217.0</td>\n",
       "      <td>331596557.0</td>\n",
       "      <td>331734262.0</td>\n",
       "      <td>331706294.0</td>\n",
       "      <td>331776226.0</td>\n",
       "      <td>332049982.0</td>\n",
       "      <td>332336782.0</td>\n",
       "      <td>332502197.0</td>\n",
       "      <td>332693300.0</td>\n",
       "      <td>332994420.0</td>\n",
       "    </tr>\n",
       "    <tr>\n",
       "      <th>2</th>\n",
       "      <td>United States</td>\n",
       "      <td>Per capita personal income (dollars) 2/</td>\n",
       "      <td>Dollars</td>\n",
       "      <td>57390.0</td>\n",
       "      <td>61727.0</td>\n",
       "      <td>60308.0</td>\n",
       "      <td>59621.0</td>\n",
       "      <td>66595.0</td>\n",
       "      <td>63018.0</td>\n",
       "      <td>63240.0</td>\n",
       "      <td>63664.0</td>\n",
       "      <td>64113.0</td>\n",
       "      <td>64851.0</td>\n",
       "      <td>65636.0</td>\n",
       "    </tr>\n",
       "    <tr>\n",
       "      <th>3</th>\n",
       "      <td>Alabama</td>\n",
       "      <td>Personal income (millions of dollars, seasonal...</td>\n",
       "      <td>Millions of dollars</td>\n",
       "      <td>223030.6</td>\n",
       "      <td>242348.1</td>\n",
       "      <td>232629.8</td>\n",
       "      <td>230152.7</td>\n",
       "      <td>265461.3</td>\n",
       "      <td>244059.8</td>\n",
       "      <td>245116.7</td>\n",
       "      <td>248677.4</td>\n",
       "      <td>250483.3</td>\n",
       "      <td>254302.5</td>\n",
       "      <td>257231.8</td>\n",
       "    </tr>\n",
       "    <tr>\n",
       "      <th>4</th>\n",
       "      <td>Alabama</td>\n",
       "      <td>Population (midperiod, persons) 1/</td>\n",
       "      <td>Number of persons</td>\n",
       "      <td>5021627.0</td>\n",
       "      <td>5024115.0</td>\n",
       "      <td>5027375.0</td>\n",
       "      <td>5031760.0</td>\n",
       "      <td>5033508.0</td>\n",
       "      <td>5036858.0</td>\n",
       "      <td>5043548.0</td>\n",
       "      <td>5050555.0</td>\n",
       "      <td>5055254.0</td>\n",
       "      <td>5060373.0</td>\n",
       "      <td>5067413.0</td>\n",
       "    </tr>\n",
       "    <tr>\n",
       "      <th>...</th>\n",
       "      <td>...</td>\n",
       "      <td>...</td>\n",
       "      <td>...</td>\n",
       "      <td>...</td>\n",
       "      <td>...</td>\n",
       "      <td>...</td>\n",
       "      <td>...</td>\n",
       "      <td>...</td>\n",
       "      <td>...</td>\n",
       "      <td>...</td>\n",
       "      <td>...</td>\n",
       "      <td>...</td>\n",
       "      <td>...</td>\n",
       "      <td>...</td>\n",
       "    </tr>\n",
       "    <tr>\n",
       "      <th>175</th>\n",
       "      <td>Rocky Mountain</td>\n",
       "      <td>Population (midperiod, persons) 1/</td>\n",
       "      <td>Number of persons</td>\n",
       "      <td>12527279.0</td>\n",
       "      <td>12560325.0</td>\n",
       "      <td>12598245.0</td>\n",
       "      <td>12638757.0</td>\n",
       "      <td>12673366.0</td>\n",
       "      <td>12711764.0</td>\n",
       "      <td>12756878.0</td>\n",
       "      <td>12802158.0</td>\n",
       "      <td>12844282.0</td>\n",
       "      <td>12887858.0</td>\n",
       "      <td>12934628.0</td>\n",
       "    </tr>\n",
       "    <tr>\n",
       "      <th>176</th>\n",
       "      <td>Rocky Mountain</td>\n",
       "      <td>Per capita personal income (dollars) 2/</td>\n",
       "      <td>Dollars</td>\n",
       "      <td>56914.0</td>\n",
       "      <td>60464.0</td>\n",
       "      <td>58482.0</td>\n",
       "      <td>58654.0</td>\n",
       "      <td>65105.0</td>\n",
       "      <td>61482.0</td>\n",
       "      <td>61865.0</td>\n",
       "      <td>63032.0</td>\n",
       "      <td>63699.0</td>\n",
       "      <td>64483.0</td>\n",
       "      <td>65851.0</td>\n",
       "    </tr>\n",
       "    <tr>\n",
       "      <th>177</th>\n",
       "      <td>Far West</td>\n",
       "      <td>Personal income (millions of dollars, seasonal...</td>\n",
       "      <td>Millions of dollars</td>\n",
       "      <td>3676803.4</td>\n",
       "      <td>3928385.4</td>\n",
       "      <td>3947530.0</td>\n",
       "      <td>3893315.9</td>\n",
       "      <td>4281973.3</td>\n",
       "      <td>4100396.5</td>\n",
       "      <td>4137883.4</td>\n",
       "      <td>4135892.3</td>\n",
       "      <td>4123489.4</td>\n",
       "      <td>4161472.7</td>\n",
       "      <td>4211194.0</td>\n",
       "    </tr>\n",
       "    <tr>\n",
       "      <th>178</th>\n",
       "      <td>Far West</td>\n",
       "      <td>Population (midperiod, persons) 1/</td>\n",
       "      <td>Number of persons</td>\n",
       "      <td>56763245.0</td>\n",
       "      <td>56762231.0</td>\n",
       "      <td>56739149.0</td>\n",
       "      <td>56691552.0</td>\n",
       "      <td>56618257.0</td>\n",
       "      <td>56558476.0</td>\n",
       "      <td>56530151.0</td>\n",
       "      <td>56503693.0</td>\n",
       "      <td>56461835.0</td>\n",
       "      <td>56422276.0</td>\n",
       "      <td>56398026.0</td>\n",
       "    </tr>\n",
       "    <tr>\n",
       "      <th>179</th>\n",
       "      <td>Far West</td>\n",
       "      <td>Per capita personal income (dollars) 2/</td>\n",
       "      <td>Dollars</td>\n",
       "      <td>64774.0</td>\n",
       "      <td>69208.0</td>\n",
       "      <td>69573.0</td>\n",
       "      <td>68675.0</td>\n",
       "      <td>75629.0</td>\n",
       "      <td>72498.0</td>\n",
       "      <td>73198.0</td>\n",
       "      <td>73197.0</td>\n",
       "      <td>73031.0</td>\n",
       "      <td>73756.0</td>\n",
       "      <td>74669.0</td>\n",
       "    </tr>\n",
       "  </tbody>\n",
       "</table>\n",
       "<p>180 rows × 14 columns</p>\n",
       "</div>"
      ],
      "text/plain": [
       "            GeoName                                        Description  \\\n",
       "0     United States  Personal income (millions of dollars, seasonal...   \n",
       "1     United States                 Population (midperiod, persons) 1/   \n",
       "2     United States            Per capita personal income (dollars) 2/   \n",
       "3           Alabama  Personal income (millions of dollars, seasonal...   \n",
       "4           Alabama                 Population (midperiod, persons) 1/   \n",
       "..              ...                                                ...   \n",
       "175  Rocky Mountain                 Population (midperiod, persons) 1/   \n",
       "176  Rocky Mountain            Per capita personal income (dollars) 2/   \n",
       "177        Far West  Personal income (millions of dollars, seasonal...   \n",
       "178        Far West                 Population (midperiod, persons) 1/   \n",
       "179        Far West            Per capita personal income (dollars) 2/   \n",
       "\n",
       "                    Unit      2020:Q1      2020:Q2      2020:Q3      2020:Q4  \\\n",
       "0    Millions of dollars   19013184.9   20459375.8   19997807.5   19778315.9   \n",
       "1      Number of persons  331295939.0  331448217.0  331596557.0  331734262.0   \n",
       "2                Dollars      57390.0      61727.0      60308.0      59621.0   \n",
       "3    Millions of dollars     223030.6     242348.1     232629.8     230152.7   \n",
       "4      Number of persons    5021627.0    5024115.0    5027375.0    5031760.0   \n",
       "..                   ...          ...          ...          ...          ...   \n",
       "175    Number of persons   12527279.0   12560325.0   12598245.0   12638757.0   \n",
       "176              Dollars      56914.0      60464.0      58482.0      58654.0   \n",
       "177  Millions of dollars    3676803.4    3928385.4    3947530.0    3893315.9   \n",
       "178    Number of persons   56763245.0   56762231.0   56739149.0   56691552.0   \n",
       "179              Dollars      64774.0      69208.0      69573.0      68675.0   \n",
       "\n",
       "         2021:Q1      2021:Q2      2021:Q3      2021:Q4      2022:Q1  \\\n",
       "0     22090041.2   20907855.1   20998895.9   21158043.8   21317801.6   \n",
       "1    331706294.0  331776226.0  332049982.0  332336782.0  332502197.0   \n",
       "2        66595.0      63018.0      63240.0      63664.0      64113.0   \n",
       "3       265461.3     244059.8     245116.7     248677.4     250483.3   \n",
       "4      5033508.0    5036858.0    5043548.0    5050555.0    5055254.0   \n",
       "..           ...          ...          ...          ...          ...   \n",
       "175   12673366.0   12711764.0   12756878.0   12802158.0   12844282.0   \n",
       "176      65105.0      61482.0      61865.0      63032.0      63699.0   \n",
       "177    4281973.3    4100396.5    4137883.4    4135892.3    4123489.4   \n",
       "178   56618257.0   56558476.0   56530151.0   56503693.0   56461835.0   \n",
       "179      75629.0      72498.0      73198.0      73197.0      73031.0   \n",
       "\n",
       "         2022:Q2      2022:Q3  \n",
       "0     21575362.1   21856480.2  \n",
       "1    332693300.0  332994420.0  \n",
       "2        64851.0      65636.0  \n",
       "3       254302.5     257231.8  \n",
       "4      5060373.0    5067413.0  \n",
       "..           ...          ...  \n",
       "175   12887858.0   12934628.0  \n",
       "176      64483.0      65851.0  \n",
       "177    4161472.7    4211194.0  \n",
       "178   56422276.0   56398026.0  \n",
       "179      73756.0      74669.0  \n",
       "\n",
       "[180 rows x 14 columns]"
      ]
     },
     "execution_count": 1046,
     "metadata": {},
     "output_type": "execute_result"
    }
   ],
   "source": [
    "#Drop column years that are not needed\n",
    "demo_df = demo_df.drop(demo_df.columns[3:-11], axis=1)\n",
    "\n",
    "#Drop NaN values\n",
    "demo_df = demo_df.dropna()\n",
    "\n",
    "demo_df"
   ]
  },
  {
   "cell_type": "code",
   "execution_count": 1047,
   "metadata": {},
   "outputs": [
    {
     "data": {
      "text/plain": [
       "array(['United States', 'Alabama', 'Alaska *', 'Arizona', 'Arkansas',\n",
       "       'California', 'Colorado', 'Connecticut', 'Delaware',\n",
       "       'District of Columbia', 'Florida', 'Georgia', 'Hawaii *', 'Idaho',\n",
       "       'Illinois', 'Indiana', 'Iowa', 'Kansas', 'Kentucky', 'Louisiana',\n",
       "       'Maine', 'Maryland', 'Massachusetts', 'Michigan', 'Minnesota',\n",
       "       'Mississippi', 'Missouri', 'Montana', 'Nebraska', 'Nevada',\n",
       "       'New Hampshire', 'New Jersey', 'New Mexico', 'New York',\n",
       "       'North Carolina', 'North Dakota', 'Ohio', 'Oklahoma', 'Oregon',\n",
       "       'Pennsylvania', 'Rhode Island', 'South Carolina', 'South Dakota',\n",
       "       'Tennessee', 'Texas', 'Utah', 'Vermont', 'Virginia', 'Washington',\n",
       "       'West Virginia', 'Wisconsin', 'Wyoming', 'New England', 'Mideast',\n",
       "       'Great Lakes', 'Plains', 'Southeast', 'Southwest',\n",
       "       'Rocky Mountain', 'Far West'], dtype=object)"
      ]
     },
     "execution_count": 1047,
     "metadata": {},
     "output_type": "execute_result"
    }
   ],
   "source": [
    "demo_df['GeoName'].unique()"
   ]
  },
  {
   "cell_type": "code",
   "execution_count": 1048,
   "metadata": {},
   "outputs": [],
   "source": [
    "#Remove the states from the GeoName column\n",
    "demo_df = demo_df.loc[(demo_df['GeoName'] != 'Alabama') & (demo_df['GeoName'] != 'Alaska *') & (demo_df['GeoName'] != 'Arizona') & (demo_df['GeoName'] != 'Arkansas') & (demo_df['GeoName'] != 'California') & (demo_df['GeoName'] != 'Colorado') & (demo_df['GeoName'] != 'Connecticut') & (demo_df['GeoName'] != 'Delaware') & (demo_df['GeoName'] != 'District of Columbia') & (demo_df['GeoName'] != 'Florida') & (demo_df['GeoName'] != 'Georgia') & (demo_df['GeoName'] != 'Hawaii *') & (demo_df['GeoName'] != 'Idaho') & (demo_df['GeoName'] != 'Illinois') & (demo_df['GeoName'] != 'Indiana') & (demo_df['GeoName'] != 'Iowa') & (demo_df['GeoName'] != 'Kansas') & (demo_df['GeoName'] != 'Kentucky') & (demo_df['GeoName'] != 'Louisiana') & (demo_df['GeoName'] != 'Maine') & (demo_df['GeoName'] != 'Maryland') & (demo_df['GeoName'] != 'Massachusetts') & (demo_df['GeoName'] != 'Michigan') & (demo_df['GeoName'] != 'Minnesota') & (demo_df['GeoName'] != 'Mississippi') & (demo_df['GeoName'] != 'Missouri') & (demo_df['GeoName'] != 'Montana') & (demo_df['GeoName'] != 'Nebraska') & (demo_df['GeoName'] != 'Nevada') & (demo_df['GeoName'] != 'New Hampshire') & (demo_df['GeoName'] != 'New Jersey') & (demo_df['GeoName'] != 'New Mexico') & (demo_df['GeoName'] != 'New York') & (demo_df['GeoName'] != 'North Carolina') & (demo_df['GeoName'] != 'North Dakota') & (demo_df['GeoName'] != 'Ohio') & (demo_df['GeoName'] != 'Oklahoma') & (demo_df['GeoName'] != 'Oregon') & (demo_df['GeoName'] != 'Pennsylvania') & (demo_df['GeoName'] != 'Rhode Island') & (demo_df['GeoName'] != 'South Carolina') & (demo_df['GeoName'] != 'South Dakota') & (demo_df['GeoName'] != 'Tennessee') & (demo_df['GeoName'] != 'Texas') & (demo_df['GeoName'] != 'Utah') & (demo_df['GeoName'] != 'Vermont') & (demo_df['GeoName'] != 'Virginia') & (demo_df['GeoName'] != 'Washington') & (demo_df['GeoName'] != 'West Virginia') & (demo_df['GeoName'] != 'Wisconsin') & (demo_df['GeoName'] != 'Wyoming')]\n",
    "\n",
    "#Remove the regions from the GeoName column\n",
    "demo_df = demo_df.loc[(demo_df['GeoName'] != 'New England') & (demo_df['GeoName'] != 'Mideast') & (demo_df['GeoName'] != 'Great Lakes') & (demo_df['GeoName'] != 'Plains') & (demo_df['GeoName'] != 'Southeast') & (demo_df['GeoName'] != 'Southwest') & (demo_df['GeoName'] != 'Rocky Mountain') & (demo_df['GeoName'] != 'Far West')]"
   ]
  },
  {
   "cell_type": "code",
   "execution_count": 1049,
   "metadata": {},
   "outputs": [
    {
     "data": {
      "text/html": [
       "<div>\n",
       "<style scoped>\n",
       "    .dataframe tbody tr th:only-of-type {\n",
       "        vertical-align: middle;\n",
       "    }\n",
       "\n",
       "    .dataframe tbody tr th {\n",
       "        vertical-align: top;\n",
       "    }\n",
       "\n",
       "    .dataframe thead th {\n",
       "        text-align: right;\n",
       "    }\n",
       "</style>\n",
       "<table border=\"1\" class=\"dataframe\">\n",
       "  <thead>\n",
       "    <tr style=\"text-align: right;\">\n",
       "      <th></th>\n",
       "      <th>GeoName</th>\n",
       "      <th>Description</th>\n",
       "      <th>Unit</th>\n",
       "      <th>2020:Q1</th>\n",
       "      <th>2020:Q2</th>\n",
       "      <th>2020:Q3</th>\n",
       "      <th>2020:Q4</th>\n",
       "      <th>2021:Q1</th>\n",
       "      <th>2021:Q2</th>\n",
       "      <th>2021:Q3</th>\n",
       "      <th>2021:Q4</th>\n",
       "      <th>2022:Q1</th>\n",
       "      <th>2022:Q2</th>\n",
       "      <th>2022:Q3</th>\n",
       "    </tr>\n",
       "  </thead>\n",
       "  <tbody>\n",
       "    <tr>\n",
       "      <th>0</th>\n",
       "      <td>United States</td>\n",
       "      <td>Personal income (millions of dollars, seasonal...</td>\n",
       "      <td>Millions of dollars</td>\n",
       "      <td>19013184.9</td>\n",
       "      <td>20459375.8</td>\n",
       "      <td>19997807.5</td>\n",
       "      <td>19778315.9</td>\n",
       "      <td>22090041.2</td>\n",
       "      <td>20907855.1</td>\n",
       "      <td>20998895.9</td>\n",
       "      <td>21158043.8</td>\n",
       "      <td>21317801.6</td>\n",
       "      <td>21575362.1</td>\n",
       "      <td>21856480.2</td>\n",
       "    </tr>\n",
       "    <tr>\n",
       "      <th>1</th>\n",
       "      <td>United States</td>\n",
       "      <td>Population (midperiod, persons) 1/</td>\n",
       "      <td>Number of persons</td>\n",
       "      <td>331295939.0</td>\n",
       "      <td>331448217.0</td>\n",
       "      <td>331596557.0</td>\n",
       "      <td>331734262.0</td>\n",
       "      <td>331706294.0</td>\n",
       "      <td>331776226.0</td>\n",
       "      <td>332049982.0</td>\n",
       "      <td>332336782.0</td>\n",
       "      <td>332502197.0</td>\n",
       "      <td>332693300.0</td>\n",
       "      <td>332994420.0</td>\n",
       "    </tr>\n",
       "    <tr>\n",
       "      <th>2</th>\n",
       "      <td>United States</td>\n",
       "      <td>Per capita personal income (dollars) 2/</td>\n",
       "      <td>Dollars</td>\n",
       "      <td>57390.0</td>\n",
       "      <td>61727.0</td>\n",
       "      <td>60308.0</td>\n",
       "      <td>59621.0</td>\n",
       "      <td>66595.0</td>\n",
       "      <td>63018.0</td>\n",
       "      <td>63240.0</td>\n",
       "      <td>63664.0</td>\n",
       "      <td>64113.0</td>\n",
       "      <td>64851.0</td>\n",
       "      <td>65636.0</td>\n",
       "    </tr>\n",
       "  </tbody>\n",
       "</table>\n",
       "</div>"
      ],
      "text/plain": [
       "         GeoName                                        Description  \\\n",
       "0  United States  Personal income (millions of dollars, seasonal...   \n",
       "1  United States                 Population (midperiod, persons) 1/   \n",
       "2  United States            Per capita personal income (dollars) 2/   \n",
       "\n",
       "                  Unit      2020:Q1      2020:Q2      2020:Q3      2020:Q4  \\\n",
       "0  Millions of dollars   19013184.9   20459375.8   19997807.5   19778315.9   \n",
       "1    Number of persons  331295939.0  331448217.0  331596557.0  331734262.0   \n",
       "2              Dollars      57390.0      61727.0      60308.0      59621.0   \n",
       "\n",
       "       2021:Q1      2021:Q2      2021:Q3      2021:Q4      2022:Q1  \\\n",
       "0   22090041.2   20907855.1   20998895.9   21158043.8   21317801.6   \n",
       "1  331706294.0  331776226.0  332049982.0  332336782.0  332502197.0   \n",
       "2      66595.0      63018.0      63240.0      63664.0      64113.0   \n",
       "\n",
       "       2022:Q2      2022:Q3  \n",
       "0   21575362.1   21856480.2  \n",
       "1  332693300.0  332994420.0  \n",
       "2      64851.0      65636.0  "
      ]
     },
     "execution_count": 1049,
     "metadata": {},
     "output_type": "execute_result"
    }
   ],
   "source": [
    "demo_df"
   ]
  },
  {
   "cell_type": "code",
   "execution_count": 1050,
   "metadata": {},
   "outputs": [
    {
     "data": {
      "text/html": [
       "<div>\n",
       "<style scoped>\n",
       "    .dataframe tbody tr th:only-of-type {\n",
       "        vertical-align: middle;\n",
       "    }\n",
       "\n",
       "    .dataframe tbody tr th {\n",
       "        vertical-align: top;\n",
       "    }\n",
       "\n",
       "    .dataframe thead th {\n",
       "        text-align: right;\n",
       "    }\n",
       "</style>\n",
       "<table border=\"1\" class=\"dataframe\">\n",
       "  <thead>\n",
       "    <tr style=\"text-align: right;\">\n",
       "      <th></th>\n",
       "      <th>Description</th>\n",
       "      <th>2020:Q1</th>\n",
       "      <th>2020:Q2</th>\n",
       "      <th>2020:Q3</th>\n",
       "      <th>2020:Q4</th>\n",
       "      <th>2021:Q1</th>\n",
       "      <th>2021:Q2</th>\n",
       "      <th>2021:Q3</th>\n",
       "      <th>2021:Q4</th>\n",
       "      <th>2022:Q1</th>\n",
       "      <th>2022:Q2</th>\n",
       "      <th>2022:Q3</th>\n",
       "    </tr>\n",
       "  </thead>\n",
       "  <tbody>\n",
       "    <tr>\n",
       "      <th>0</th>\n",
       "      <td>Personal income (millions of dollars, seasonal...</td>\n",
       "      <td>19013184.9</td>\n",
       "      <td>20459375.8</td>\n",
       "      <td>19997807.5</td>\n",
       "      <td>19778315.9</td>\n",
       "      <td>22090041.2</td>\n",
       "      <td>20907855.1</td>\n",
       "      <td>20998895.9</td>\n",
       "      <td>21158043.8</td>\n",
       "      <td>21317801.6</td>\n",
       "      <td>21575362.1</td>\n",
       "      <td>21856480.2</td>\n",
       "    </tr>\n",
       "    <tr>\n",
       "      <th>1</th>\n",
       "      <td>Population (midperiod, persons)</td>\n",
       "      <td>331295939.0</td>\n",
       "      <td>331448217.0</td>\n",
       "      <td>331596557.0</td>\n",
       "      <td>331734262.0</td>\n",
       "      <td>331706294.0</td>\n",
       "      <td>331776226.0</td>\n",
       "      <td>332049982.0</td>\n",
       "      <td>332336782.0</td>\n",
       "      <td>332502197.0</td>\n",
       "      <td>332693300.0</td>\n",
       "      <td>332994420.0</td>\n",
       "    </tr>\n",
       "    <tr>\n",
       "      <th>2</th>\n",
       "      <td>Per capita personal income (dollars)</td>\n",
       "      <td>57390.0</td>\n",
       "      <td>61727.0</td>\n",
       "      <td>60308.0</td>\n",
       "      <td>59621.0</td>\n",
       "      <td>66595.0</td>\n",
       "      <td>63018.0</td>\n",
       "      <td>63240.0</td>\n",
       "      <td>63664.0</td>\n",
       "      <td>64113.0</td>\n",
       "      <td>64851.0</td>\n",
       "      <td>65636.0</td>\n",
       "    </tr>\n",
       "  </tbody>\n",
       "</table>\n",
       "</div>"
      ],
      "text/plain": [
       "                                         Description      2020:Q1  \\\n",
       "0  Personal income (millions of dollars, seasonal...   19013184.9   \n",
       "1                    Population (midperiod, persons)  331295939.0   \n",
       "2               Per capita personal income (dollars)      57390.0   \n",
       "\n",
       "       2020:Q2      2020:Q3      2020:Q4      2021:Q1      2021:Q2  \\\n",
       "0   20459375.8   19997807.5   19778315.9   22090041.2   20907855.1   \n",
       "1  331448217.0  331596557.0  331734262.0  331706294.0  331776226.0   \n",
       "2      61727.0      60308.0      59621.0      66595.0      63018.0   \n",
       "\n",
       "       2021:Q3      2021:Q4      2022:Q1      2022:Q2      2022:Q3  \n",
       "0   20998895.9   21158043.8   21317801.6   21575362.1   21856480.2  \n",
       "1  332049982.0  332336782.0  332502197.0  332693300.0  332994420.0  \n",
       "2      63240.0      63664.0      64113.0      64851.0      65636.0  "
      ]
     },
     "execution_count": 1050,
     "metadata": {},
     "output_type": "execute_result"
    }
   ],
   "source": [
    "#Remove GeoName and Unit columns\n",
    "demo_df = demo_df.drop(columns=['GeoName', 'Unit'])\n",
    "\n",
    "#Clean Description column entries\n",
    "demo_df['Description'] = demo_df['Description'].str.replace(' 1/', '')\n",
    "demo_df['Description'] = demo_df['Description'].str.replace(' 2/', '')\n",
    "\n",
    "demo_df"
   ]
  },
  {
   "attachments": {},
   "cell_type": "markdown",
   "metadata": {},
   "source": [
    "# Merge Adidas sales data with demographic data"
   ]
  },
  {
   "cell_type": "code",
   "execution_count": 784,
   "metadata": {},
   "outputs": [],
   "source": [
    "merged_df = demo_df.set_index('Description')"
   ]
  },
  {
   "cell_type": "code",
   "execution_count": 768,
   "metadata": {},
   "outputs": [],
   "source": [
    "total_sales_quarterly = total_sales_quarterly.transpose()"
   ]
  },
  {
   "cell_type": "code",
   "execution_count": 769,
   "metadata": {},
   "outputs": [],
   "source": [
    "total_sales_quarterly['2022:Q1'] = np.nan\n",
    "total_sales_quarterly['2022:Q2'] = np.nan\n",
    "total_sales_quarterly['2022:Q3'] = np.nan"
   ]
  },
  {
   "cell_type": "code",
   "execution_count": 770,
   "metadata": {},
   "outputs": [],
   "source": [
    "#Rename total_sales_quarterly columns\n",
    "total_sales_quarterly.columns = ['2020:Q1', '2020:Q2', '2020:Q3', '2020:Q4', '2021:Q1', '2021:Q2', '2021:Q3', '2021:Q4', '2022:Q1', '2022:Q2', '2022:Q3']"
   ]
  },
  {
   "cell_type": "code",
   "execution_count": 771,
   "metadata": {},
   "outputs": [
    {
     "data": {
      "text/html": [
       "<div>\n",
       "<style scoped>\n",
       "    .dataframe tbody tr th:only-of-type {\n",
       "        vertical-align: middle;\n",
       "    }\n",
       "\n",
       "    .dataframe tbody tr th {\n",
       "        vertical-align: top;\n",
       "    }\n",
       "\n",
       "    .dataframe thead th {\n",
       "        text-align: right;\n",
       "    }\n",
       "</style>\n",
       "<table border=\"1\" class=\"dataframe\">\n",
       "  <thead>\n",
       "    <tr style=\"text-align: right;\">\n",
       "      <th></th>\n",
       "      <th>2020:Q1</th>\n",
       "      <th>2020:Q2</th>\n",
       "      <th>2020:Q3</th>\n",
       "      <th>2020:Q4</th>\n",
       "      <th>2021:Q1</th>\n",
       "      <th>2021:Q2</th>\n",
       "      <th>2021:Q3</th>\n",
       "      <th>2021:Q4</th>\n",
       "      <th>2022:Q1</th>\n",
       "      <th>2022:Q2</th>\n",
       "      <th>2022:Q3</th>\n",
       "    </tr>\n",
       "  </thead>\n",
       "  <tbody>\n",
       "    <tr>\n",
       "      <th>Total Sales</th>\n",
       "      <td>6927761.00</td>\n",
       "      <td>6442039.00</td>\n",
       "      <td>7191704.00</td>\n",
       "      <td>3675821.00</td>\n",
       "      <td>18770496.00</td>\n",
       "      <td>23794248.00</td>\n",
       "      <td>28057525.00</td>\n",
       "      <td>25301709.00</td>\n",
       "      <td>NaN</td>\n",
       "      <td>NaN</td>\n",
       "      <td>NaN</td>\n",
       "    </tr>\n",
       "    <tr>\n",
       "      <th>Operating Profit</th>\n",
       "      <td>2559891.11</td>\n",
       "      <td>2383123.95</td>\n",
       "      <td>2700034.59</td>\n",
       "      <td>1372455.43</td>\n",
       "      <td>7113924.66</td>\n",
       "      <td>9530544.61</td>\n",
       "      <td>11395237.28</td>\n",
       "      <td>10167871.38</td>\n",
       "      <td>NaN</td>\n",
       "      <td>NaN</td>\n",
       "      <td>NaN</td>\n",
       "    </tr>\n",
       "  </tbody>\n",
       "</table>\n",
       "</div>"
      ],
      "text/plain": [
       "                     2020:Q1     2020:Q2     2020:Q3     2020:Q4      2021:Q1  \\\n",
       "Total Sales       6927761.00  6442039.00  7191704.00  3675821.00  18770496.00   \n",
       "Operating Profit  2559891.11  2383123.95  2700034.59  1372455.43   7113924.66   \n",
       "\n",
       "                      2021:Q2      2021:Q3      2021:Q4  2022:Q1  2022:Q2  \\\n",
       "Total Sales       23794248.00  28057525.00  25301709.00      NaN      NaN   \n",
       "Operating Profit   9530544.61  11395237.28  10167871.38      NaN      NaN   \n",
       "\n",
       "                  2022:Q3  \n",
       "Total Sales           NaN  \n",
       "Operating Profit      NaN  "
      ]
     },
     "execution_count": 771,
     "metadata": {},
     "output_type": "execute_result"
    }
   ],
   "source": [
    "total_sales_quarterly"
   ]
  },
  {
   "cell_type": "code",
   "execution_count": 786,
   "metadata": {},
   "outputs": [],
   "source": [
    "merged_df = pd.concat([merged_df, total_sales_quarterly], axis=0)"
   ]
  },
  {
   "cell_type": "code",
   "execution_count": 787,
   "metadata": {},
   "outputs": [
    {
     "data": {
      "text/html": [
       "<div>\n",
       "<style scoped>\n",
       "    .dataframe tbody tr th:only-of-type {\n",
       "        vertical-align: middle;\n",
       "    }\n",
       "\n",
       "    .dataframe tbody tr th {\n",
       "        vertical-align: top;\n",
       "    }\n",
       "\n",
       "    .dataframe thead th {\n",
       "        text-align: right;\n",
       "    }\n",
       "</style>\n",
       "<table border=\"1\" class=\"dataframe\">\n",
       "  <thead>\n",
       "    <tr style=\"text-align: right;\">\n",
       "      <th></th>\n",
       "      <th>2020:Q1</th>\n",
       "      <th>2020:Q2</th>\n",
       "      <th>2020:Q3</th>\n",
       "      <th>2020:Q4</th>\n",
       "      <th>2021:Q1</th>\n",
       "      <th>2021:Q2</th>\n",
       "      <th>2021:Q3</th>\n",
       "      <th>2021:Q4</th>\n",
       "      <th>2022:Q1</th>\n",
       "      <th>2022:Q2</th>\n",
       "      <th>2022:Q3</th>\n",
       "    </tr>\n",
       "  </thead>\n",
       "  <tbody>\n",
       "    <tr>\n",
       "      <th>Personal income (millions of dollars, seasonally adjusted)</th>\n",
       "      <td>1.901318e+07</td>\n",
       "      <td>2.045938e+07</td>\n",
       "      <td>1.999781e+07</td>\n",
       "      <td>1.977832e+07</td>\n",
       "      <td>2.209004e+07</td>\n",
       "      <td>2.090786e+07</td>\n",
       "      <td>2.099890e+07</td>\n",
       "      <td>2.115804e+07</td>\n",
       "      <td>21317801.6</td>\n",
       "      <td>21575362.1</td>\n",
       "      <td>21856480.2</td>\n",
       "    </tr>\n",
       "    <tr>\n",
       "      <th>Population (midperiod, persons)</th>\n",
       "      <td>3.312959e+08</td>\n",
       "      <td>3.314482e+08</td>\n",
       "      <td>3.315966e+08</td>\n",
       "      <td>3.317343e+08</td>\n",
       "      <td>3.317063e+08</td>\n",
       "      <td>3.317762e+08</td>\n",
       "      <td>3.320500e+08</td>\n",
       "      <td>3.323368e+08</td>\n",
       "      <td>332502197.0</td>\n",
       "      <td>332693300.0</td>\n",
       "      <td>332994420.0</td>\n",
       "    </tr>\n",
       "    <tr>\n",
       "      <th>Per capita personal income (dollars)</th>\n",
       "      <td>5.739000e+04</td>\n",
       "      <td>6.172700e+04</td>\n",
       "      <td>6.030800e+04</td>\n",
       "      <td>5.962100e+04</td>\n",
       "      <td>6.659500e+04</td>\n",
       "      <td>6.301800e+04</td>\n",
       "      <td>6.324000e+04</td>\n",
       "      <td>6.366400e+04</td>\n",
       "      <td>64113.0</td>\n",
       "      <td>64851.0</td>\n",
       "      <td>65636.0</td>\n",
       "    </tr>\n",
       "    <tr>\n",
       "      <th>Total Sales</th>\n",
       "      <td>6.927761e+06</td>\n",
       "      <td>6.442039e+06</td>\n",
       "      <td>7.191704e+06</td>\n",
       "      <td>3.675821e+06</td>\n",
       "      <td>1.877050e+07</td>\n",
       "      <td>2.379425e+07</td>\n",
       "      <td>2.805752e+07</td>\n",
       "      <td>2.530171e+07</td>\n",
       "      <td>NaN</td>\n",
       "      <td>NaN</td>\n",
       "      <td>NaN</td>\n",
       "    </tr>\n",
       "    <tr>\n",
       "      <th>Operating Profit</th>\n",
       "      <td>2.559891e+06</td>\n",
       "      <td>2.383124e+06</td>\n",
       "      <td>2.700035e+06</td>\n",
       "      <td>1.372455e+06</td>\n",
       "      <td>7.113925e+06</td>\n",
       "      <td>9.530545e+06</td>\n",
       "      <td>1.139524e+07</td>\n",
       "      <td>1.016787e+07</td>\n",
       "      <td>NaN</td>\n",
       "      <td>NaN</td>\n",
       "      <td>NaN</td>\n",
       "    </tr>\n",
       "  </tbody>\n",
       "</table>\n",
       "</div>"
      ],
      "text/plain": [
       "                                                         2020:Q1  \\\n",
       "Personal income (millions of dollars, seasonall...  1.901318e+07   \n",
       "Population (midperiod, persons)                     3.312959e+08   \n",
       "Per capita personal income (dollars)                5.739000e+04   \n",
       "Total Sales                                         6.927761e+06   \n",
       "Operating Profit                                    2.559891e+06   \n",
       "\n",
       "                                                         2020:Q2  \\\n",
       "Personal income (millions of dollars, seasonall...  2.045938e+07   \n",
       "Population (midperiod, persons)                     3.314482e+08   \n",
       "Per capita personal income (dollars)                6.172700e+04   \n",
       "Total Sales                                         6.442039e+06   \n",
       "Operating Profit                                    2.383124e+06   \n",
       "\n",
       "                                                         2020:Q3  \\\n",
       "Personal income (millions of dollars, seasonall...  1.999781e+07   \n",
       "Population (midperiod, persons)                     3.315966e+08   \n",
       "Per capita personal income (dollars)                6.030800e+04   \n",
       "Total Sales                                         7.191704e+06   \n",
       "Operating Profit                                    2.700035e+06   \n",
       "\n",
       "                                                         2020:Q4  \\\n",
       "Personal income (millions of dollars, seasonall...  1.977832e+07   \n",
       "Population (midperiod, persons)                     3.317343e+08   \n",
       "Per capita personal income (dollars)                5.962100e+04   \n",
       "Total Sales                                         3.675821e+06   \n",
       "Operating Profit                                    1.372455e+06   \n",
       "\n",
       "                                                         2021:Q1  \\\n",
       "Personal income (millions of dollars, seasonall...  2.209004e+07   \n",
       "Population (midperiod, persons)                     3.317063e+08   \n",
       "Per capita personal income (dollars)                6.659500e+04   \n",
       "Total Sales                                         1.877050e+07   \n",
       "Operating Profit                                    7.113925e+06   \n",
       "\n",
       "                                                         2021:Q2  \\\n",
       "Personal income (millions of dollars, seasonall...  2.090786e+07   \n",
       "Population (midperiod, persons)                     3.317762e+08   \n",
       "Per capita personal income (dollars)                6.301800e+04   \n",
       "Total Sales                                         2.379425e+07   \n",
       "Operating Profit                                    9.530545e+06   \n",
       "\n",
       "                                                         2021:Q3  \\\n",
       "Personal income (millions of dollars, seasonall...  2.099890e+07   \n",
       "Population (midperiod, persons)                     3.320500e+08   \n",
       "Per capita personal income (dollars)                6.324000e+04   \n",
       "Total Sales                                         2.805752e+07   \n",
       "Operating Profit                                    1.139524e+07   \n",
       "\n",
       "                                                         2021:Q4      2022:Q1  \\\n",
       "Personal income (millions of dollars, seasonall...  2.115804e+07   21317801.6   \n",
       "Population (midperiod, persons)                     3.323368e+08  332502197.0   \n",
       "Per capita personal income (dollars)                6.366400e+04      64113.0   \n",
       "Total Sales                                         2.530171e+07          NaN   \n",
       "Operating Profit                                    1.016787e+07          NaN   \n",
       "\n",
       "                                                        2022:Q2      2022:Q3  \n",
       "Personal income (millions of dollars, seasonall...   21575362.1   21856480.2  \n",
       "Population (midperiod, persons)                     332693300.0  332994420.0  \n",
       "Per capita personal income (dollars)                    64851.0      65636.0  \n",
       "Total Sales                                                 NaN          NaN  \n",
       "Operating Profit                                            NaN          NaN  "
      ]
     },
     "execution_count": 787,
     "metadata": {},
     "output_type": "execute_result"
    }
   ],
   "source": [
    "merged_df"
   ]
  },
  {
   "attachments": {},
   "cell_type": "markdown",
   "metadata": {},
   "source": [
    "# Predictive analysis with multiple linear regression"
   ]
  },
  {
   "cell_type": "code",
   "execution_count": 818,
   "metadata": {},
   "outputs": [],
   "source": [
    "#Today I learned that train_test_split only works with columns rather than rows\n",
    "merged_df = merged_df.transpose()"
   ]
  },
  {
   "cell_type": "code",
   "execution_count": 873,
   "metadata": {},
   "outputs": [],
   "source": [
    "#Define feature set (which includes all three demographic columns)\n",
    "X = merged_df.iloc[:-3, :-2]\n",
    "\n",
    "#Define target set (which includes the total sales and operating profit columns)\n",
    "y = merged_df.iloc[:-3, 3:]"
   ]
  },
  {
   "cell_type": "code",
   "execution_count": 846,
   "metadata": {},
   "outputs": [],
   "source": [
    "#Split data into training and testing sets\n",
    "X_train, X_test, y_train, y_test = train_test_split(X, y, random_state=31)"
   ]
  },
  {
   "attachments": {},
   "cell_type": "markdown",
   "metadata": {},
   "source": [
    "## Random Forest Regressor"
   ]
  },
  {
   "cell_type": "code",
   "execution_count": 995,
   "metadata": {},
   "outputs": [],
   "source": [
    "#Create a random forest regressor\n",
    "rfr = RandomForestRegressor(n_estimators=100, random_state=0)"
   ]
  },
  {
   "cell_type": "code",
   "execution_count": 996,
   "metadata": {},
   "outputs": [],
   "source": [
    "#Fit the model to the training data\n",
    "rfr.fit(X_train, y_train)\n",
    "\n",
    "#Make predictions using the testing data\n",
    "rfr_predictions = rfr.predict(X_test)"
   ]
  },
  {
   "cell_type": "code",
   "execution_count": 997,
   "metadata": {},
   "outputs": [
    {
     "name": "stdout",
     "output_type": "stream",
     "text": [
      "Random Forest Regressor MSE: 14875752818851.555\n",
      "Random Forest Regressor RMSE: 3856909.7498971317\n"
     ]
    }
   ],
   "source": [
    "rfr_mse = mean_squared_error(y_test, rfr_predictions)\n",
    "rfr_rmse = rfr_mse**.5\n",
    "\n",
    "print(f'Random Forest Regressor MSE: {rfr_mse}')\n",
    "print(f'Random Forest Regressor RMSE: {rfr_rmse}')"
   ]
  },
  {
   "cell_type": "code",
   "execution_count": 998,
   "metadata": {},
   "outputs": [
    {
     "data": {
      "text/html": [
       "<div>\n",
       "<style scoped>\n",
       "    .dataframe tbody tr th:only-of-type {\n",
       "        vertical-align: middle;\n",
       "    }\n",
       "\n",
       "    .dataframe tbody tr th {\n",
       "        vertical-align: top;\n",
       "    }\n",
       "\n",
       "    .dataframe thead th {\n",
       "        text-align: right;\n",
       "    }\n",
       "</style>\n",
       "<table border=\"1\" class=\"dataframe\">\n",
       "  <thead>\n",
       "    <tr style=\"text-align: right;\">\n",
       "      <th></th>\n",
       "      <th>p_Total_Sales</th>\n",
       "      <th>p_Operating_Profit</th>\n",
       "      <th>a_Total_Sales</th>\n",
       "      <th>a_Operating_Profit</th>\n",
       "    </tr>\n",
       "  </thead>\n",
       "  <tbody>\n",
       "    <tr>\n",
       "      <th>2021:Q1</th>\n",
       "      <td>19789758.82</td>\n",
       "      <td>7.939638e+06</td>\n",
       "      <td>18770496.0</td>\n",
       "      <td>7113924.66</td>\n",
       "    </tr>\n",
       "    <tr>\n",
       "      <th>2020:Q2</th>\n",
       "      <td>13465296.72</td>\n",
       "      <td>5.291072e+06</td>\n",
       "      <td>6442039.0</td>\n",
       "      <td>2383123.95</td>\n",
       "    </tr>\n",
       "  </tbody>\n",
       "</table>\n",
       "</div>"
      ],
      "text/plain": [
       "         p_Total_Sales  p_Operating_Profit  a_Total_Sales  a_Operating_Profit\n",
       "2021:Q1    19789758.82        7.939638e+06     18770496.0          7113924.66\n",
       "2020:Q2    13465296.72        5.291072e+06      6442039.0          2383123.95"
      ]
     },
     "execution_count": 998,
     "metadata": {},
     "output_type": "execute_result"
    }
   ],
   "source": [
    "#A RMSE of 3856909 means that the model is off by about $3.85 million on average\n",
    "\n",
    "#Create a dataframe of the predictions\n",
    "rfr_df = pd.DataFrame(rfr_predictions, columns=['p_Total_Sales', 'p_Operating_Profit'], index=y_test.index)\n",
    "rfr_df['a_Total_Sales'], rfr_df['a_Operating_Profit'] = y_test['Total Sales'], y_test['Operating Profit']\n",
    "rfr_df"
   ]
  },
  {
   "cell_type": "code",
   "execution_count": 999,
   "metadata": {},
   "outputs": [
    {
     "data": {
      "application/vnd.plotly.v1+json": {
       "config": {
        "plotlyServerURL": "https://plot.ly"
       },
       "data": [
        {
         "hovertemplate": "variable=p_Total_Sales<br>index=%{x}<br>value=%{y}<extra></extra>",
         "legendgroup": "p_Total_Sales",
         "line": {
          "color": "#636efa",
          "dash": "solid"
         },
         "marker": {
          "symbol": "circle"
         },
         "mode": "lines",
         "name": "p_Total_Sales",
         "orientation": "v",
         "showlegend": true,
         "type": "scatter",
         "x": [
          "2021:Q1",
          "2020:Q2"
         ],
         "xaxis": "x",
         "y": [
          19789758.82,
          13465296.72
         ],
         "yaxis": "y"
        },
        {
         "hovertemplate": "variable=a_Total_Sales<br>index=%{x}<br>value=%{y}<extra></extra>",
         "legendgroup": "a_Total_Sales",
         "line": {
          "color": "#EF553B",
          "dash": "solid"
         },
         "marker": {
          "symbol": "circle"
         },
         "mode": "lines",
         "name": "a_Total_Sales",
         "orientation": "v",
         "showlegend": true,
         "type": "scatter",
         "x": [
          "2021:Q1",
          "2020:Q2"
         ],
         "xaxis": "x",
         "y": [
          18770496,
          6442039
         ],
         "yaxis": "y"
        },
        {
         "hovertemplate": "variable=p_Operating_Profit<br>index=%{x}<br>value=%{y}<extra></extra>",
         "legendgroup": "p_Operating_Profit",
         "line": {
          "color": "#00cc96",
          "dash": "solid"
         },
         "marker": {
          "symbol": "circle"
         },
         "mode": "lines",
         "name": "p_Operating_Profit",
         "orientation": "v",
         "showlegend": true,
         "type": "scatter",
         "x": [
          "2021:Q1",
          "2020:Q2"
         ],
         "xaxis": "x",
         "y": [
          7939638.4666,
          5291072.0731999995
         ],
         "yaxis": "y"
        },
        {
         "hovertemplate": "variable=a_Operating_Profit<br>index=%{x}<br>value=%{y}<extra></extra>",
         "legendgroup": "a_Operating_Profit",
         "line": {
          "color": "#ab63fa",
          "dash": "solid"
         },
         "marker": {
          "symbol": "circle"
         },
         "mode": "lines",
         "name": "a_Operating_Profit",
         "orientation": "v",
         "showlegend": true,
         "type": "scatter",
         "x": [
          "2021:Q1",
          "2020:Q2"
         ],
         "xaxis": "x",
         "y": [
          7113924.66,
          2383123.95
         ],
         "yaxis": "y"
        }
       ],
       "layout": {
        "legend": {
         "title": {
          "text": "variable"
         },
         "tracegroupgap": 0
        },
        "template": {
         "data": {
          "bar": [
           {
            "error_x": {
             "color": "#2a3f5f"
            },
            "error_y": {
             "color": "#2a3f5f"
            },
            "marker": {
             "line": {
              "color": "#E5ECF6",
              "width": 0.5
             },
             "pattern": {
              "fillmode": "overlay",
              "size": 10,
              "solidity": 0.2
             }
            },
            "type": "bar"
           }
          ],
          "barpolar": [
           {
            "marker": {
             "line": {
              "color": "#E5ECF6",
              "width": 0.5
             },
             "pattern": {
              "fillmode": "overlay",
              "size": 10,
              "solidity": 0.2
             }
            },
            "type": "barpolar"
           }
          ],
          "carpet": [
           {
            "aaxis": {
             "endlinecolor": "#2a3f5f",
             "gridcolor": "white",
             "linecolor": "white",
             "minorgridcolor": "white",
             "startlinecolor": "#2a3f5f"
            },
            "baxis": {
             "endlinecolor": "#2a3f5f",
             "gridcolor": "white",
             "linecolor": "white",
             "minorgridcolor": "white",
             "startlinecolor": "#2a3f5f"
            },
            "type": "carpet"
           }
          ],
          "choropleth": [
           {
            "colorbar": {
             "outlinewidth": 0,
             "ticks": ""
            },
            "type": "choropleth"
           }
          ],
          "contour": [
           {
            "colorbar": {
             "outlinewidth": 0,
             "ticks": ""
            },
            "colorscale": [
             [
              0,
              "#0d0887"
             ],
             [
              0.1111111111111111,
              "#46039f"
             ],
             [
              0.2222222222222222,
              "#7201a8"
             ],
             [
              0.3333333333333333,
              "#9c179e"
             ],
             [
              0.4444444444444444,
              "#bd3786"
             ],
             [
              0.5555555555555556,
              "#d8576b"
             ],
             [
              0.6666666666666666,
              "#ed7953"
             ],
             [
              0.7777777777777778,
              "#fb9f3a"
             ],
             [
              0.8888888888888888,
              "#fdca26"
             ],
             [
              1,
              "#f0f921"
             ]
            ],
            "type": "contour"
           }
          ],
          "contourcarpet": [
           {
            "colorbar": {
             "outlinewidth": 0,
             "ticks": ""
            },
            "type": "contourcarpet"
           }
          ],
          "heatmap": [
           {
            "colorbar": {
             "outlinewidth": 0,
             "ticks": ""
            },
            "colorscale": [
             [
              0,
              "#0d0887"
             ],
             [
              0.1111111111111111,
              "#46039f"
             ],
             [
              0.2222222222222222,
              "#7201a8"
             ],
             [
              0.3333333333333333,
              "#9c179e"
             ],
             [
              0.4444444444444444,
              "#bd3786"
             ],
             [
              0.5555555555555556,
              "#d8576b"
             ],
             [
              0.6666666666666666,
              "#ed7953"
             ],
             [
              0.7777777777777778,
              "#fb9f3a"
             ],
             [
              0.8888888888888888,
              "#fdca26"
             ],
             [
              1,
              "#f0f921"
             ]
            ],
            "type": "heatmap"
           }
          ],
          "heatmapgl": [
           {
            "colorbar": {
             "outlinewidth": 0,
             "ticks": ""
            },
            "colorscale": [
             [
              0,
              "#0d0887"
             ],
             [
              0.1111111111111111,
              "#46039f"
             ],
             [
              0.2222222222222222,
              "#7201a8"
             ],
             [
              0.3333333333333333,
              "#9c179e"
             ],
             [
              0.4444444444444444,
              "#bd3786"
             ],
             [
              0.5555555555555556,
              "#d8576b"
             ],
             [
              0.6666666666666666,
              "#ed7953"
             ],
             [
              0.7777777777777778,
              "#fb9f3a"
             ],
             [
              0.8888888888888888,
              "#fdca26"
             ],
             [
              1,
              "#f0f921"
             ]
            ],
            "type": "heatmapgl"
           }
          ],
          "histogram": [
           {
            "marker": {
             "pattern": {
              "fillmode": "overlay",
              "size": 10,
              "solidity": 0.2
             }
            },
            "type": "histogram"
           }
          ],
          "histogram2d": [
           {
            "colorbar": {
             "outlinewidth": 0,
             "ticks": ""
            },
            "colorscale": [
             [
              0,
              "#0d0887"
             ],
             [
              0.1111111111111111,
              "#46039f"
             ],
             [
              0.2222222222222222,
              "#7201a8"
             ],
             [
              0.3333333333333333,
              "#9c179e"
             ],
             [
              0.4444444444444444,
              "#bd3786"
             ],
             [
              0.5555555555555556,
              "#d8576b"
             ],
             [
              0.6666666666666666,
              "#ed7953"
             ],
             [
              0.7777777777777778,
              "#fb9f3a"
             ],
             [
              0.8888888888888888,
              "#fdca26"
             ],
             [
              1,
              "#f0f921"
             ]
            ],
            "type": "histogram2d"
           }
          ],
          "histogram2dcontour": [
           {
            "colorbar": {
             "outlinewidth": 0,
             "ticks": ""
            },
            "colorscale": [
             [
              0,
              "#0d0887"
             ],
             [
              0.1111111111111111,
              "#46039f"
             ],
             [
              0.2222222222222222,
              "#7201a8"
             ],
             [
              0.3333333333333333,
              "#9c179e"
             ],
             [
              0.4444444444444444,
              "#bd3786"
             ],
             [
              0.5555555555555556,
              "#d8576b"
             ],
             [
              0.6666666666666666,
              "#ed7953"
             ],
             [
              0.7777777777777778,
              "#fb9f3a"
             ],
             [
              0.8888888888888888,
              "#fdca26"
             ],
             [
              1,
              "#f0f921"
             ]
            ],
            "type": "histogram2dcontour"
           }
          ],
          "mesh3d": [
           {
            "colorbar": {
             "outlinewidth": 0,
             "ticks": ""
            },
            "type": "mesh3d"
           }
          ],
          "parcoords": [
           {
            "line": {
             "colorbar": {
              "outlinewidth": 0,
              "ticks": ""
             }
            },
            "type": "parcoords"
           }
          ],
          "pie": [
           {
            "automargin": true,
            "type": "pie"
           }
          ],
          "scatter": [
           {
            "fillpattern": {
             "fillmode": "overlay",
             "size": 10,
             "solidity": 0.2
            },
            "type": "scatter"
           }
          ],
          "scatter3d": [
           {
            "line": {
             "colorbar": {
              "outlinewidth": 0,
              "ticks": ""
             }
            },
            "marker": {
             "colorbar": {
              "outlinewidth": 0,
              "ticks": ""
             }
            },
            "type": "scatter3d"
           }
          ],
          "scattercarpet": [
           {
            "marker": {
             "colorbar": {
              "outlinewidth": 0,
              "ticks": ""
             }
            },
            "type": "scattercarpet"
           }
          ],
          "scattergeo": [
           {
            "marker": {
             "colorbar": {
              "outlinewidth": 0,
              "ticks": ""
             }
            },
            "type": "scattergeo"
           }
          ],
          "scattergl": [
           {
            "marker": {
             "colorbar": {
              "outlinewidth": 0,
              "ticks": ""
             }
            },
            "type": "scattergl"
           }
          ],
          "scattermapbox": [
           {
            "marker": {
             "colorbar": {
              "outlinewidth": 0,
              "ticks": ""
             }
            },
            "type": "scattermapbox"
           }
          ],
          "scatterpolar": [
           {
            "marker": {
             "colorbar": {
              "outlinewidth": 0,
              "ticks": ""
             }
            },
            "type": "scatterpolar"
           }
          ],
          "scatterpolargl": [
           {
            "marker": {
             "colorbar": {
              "outlinewidth": 0,
              "ticks": ""
             }
            },
            "type": "scatterpolargl"
           }
          ],
          "scatterternary": [
           {
            "marker": {
             "colorbar": {
              "outlinewidth": 0,
              "ticks": ""
             }
            },
            "type": "scatterternary"
           }
          ],
          "surface": [
           {
            "colorbar": {
             "outlinewidth": 0,
             "ticks": ""
            },
            "colorscale": [
             [
              0,
              "#0d0887"
             ],
             [
              0.1111111111111111,
              "#46039f"
             ],
             [
              0.2222222222222222,
              "#7201a8"
             ],
             [
              0.3333333333333333,
              "#9c179e"
             ],
             [
              0.4444444444444444,
              "#bd3786"
             ],
             [
              0.5555555555555556,
              "#d8576b"
             ],
             [
              0.6666666666666666,
              "#ed7953"
             ],
             [
              0.7777777777777778,
              "#fb9f3a"
             ],
             [
              0.8888888888888888,
              "#fdca26"
             ],
             [
              1,
              "#f0f921"
             ]
            ],
            "type": "surface"
           }
          ],
          "table": [
           {
            "cells": {
             "fill": {
              "color": "#EBF0F8"
             },
             "line": {
              "color": "white"
             }
            },
            "header": {
             "fill": {
              "color": "#C8D4E3"
             },
             "line": {
              "color": "white"
             }
            },
            "type": "table"
           }
          ]
         },
         "layout": {
          "annotationdefaults": {
           "arrowcolor": "#2a3f5f",
           "arrowhead": 0,
           "arrowwidth": 1
          },
          "autotypenumbers": "strict",
          "coloraxis": {
           "colorbar": {
            "outlinewidth": 0,
            "ticks": ""
           }
          },
          "colorscale": {
           "diverging": [
            [
             0,
             "#8e0152"
            ],
            [
             0.1,
             "#c51b7d"
            ],
            [
             0.2,
             "#de77ae"
            ],
            [
             0.3,
             "#f1b6da"
            ],
            [
             0.4,
             "#fde0ef"
            ],
            [
             0.5,
             "#f7f7f7"
            ],
            [
             0.6,
             "#e6f5d0"
            ],
            [
             0.7,
             "#b8e186"
            ],
            [
             0.8,
             "#7fbc41"
            ],
            [
             0.9,
             "#4d9221"
            ],
            [
             1,
             "#276419"
            ]
           ],
           "sequential": [
            [
             0,
             "#0d0887"
            ],
            [
             0.1111111111111111,
             "#46039f"
            ],
            [
             0.2222222222222222,
             "#7201a8"
            ],
            [
             0.3333333333333333,
             "#9c179e"
            ],
            [
             0.4444444444444444,
             "#bd3786"
            ],
            [
             0.5555555555555556,
             "#d8576b"
            ],
            [
             0.6666666666666666,
             "#ed7953"
            ],
            [
             0.7777777777777778,
             "#fb9f3a"
            ],
            [
             0.8888888888888888,
             "#fdca26"
            ],
            [
             1,
             "#f0f921"
            ]
           ],
           "sequentialminus": [
            [
             0,
             "#0d0887"
            ],
            [
             0.1111111111111111,
             "#46039f"
            ],
            [
             0.2222222222222222,
             "#7201a8"
            ],
            [
             0.3333333333333333,
             "#9c179e"
            ],
            [
             0.4444444444444444,
             "#bd3786"
            ],
            [
             0.5555555555555556,
             "#d8576b"
            ],
            [
             0.6666666666666666,
             "#ed7953"
            ],
            [
             0.7777777777777778,
             "#fb9f3a"
            ],
            [
             0.8888888888888888,
             "#fdca26"
            ],
            [
             1,
             "#f0f921"
            ]
           ]
          },
          "colorway": [
           "#636efa",
           "#EF553B",
           "#00cc96",
           "#ab63fa",
           "#FFA15A",
           "#19d3f3",
           "#FF6692",
           "#B6E880",
           "#FF97FF",
           "#FECB52"
          ],
          "font": {
           "color": "#2a3f5f"
          },
          "geo": {
           "bgcolor": "white",
           "lakecolor": "white",
           "landcolor": "#E5ECF6",
           "showlakes": true,
           "showland": true,
           "subunitcolor": "white"
          },
          "hoverlabel": {
           "align": "left"
          },
          "hovermode": "closest",
          "mapbox": {
           "style": "light"
          },
          "paper_bgcolor": "white",
          "plot_bgcolor": "#E5ECF6",
          "polar": {
           "angularaxis": {
            "gridcolor": "white",
            "linecolor": "white",
            "ticks": ""
           },
           "bgcolor": "#E5ECF6",
           "radialaxis": {
            "gridcolor": "white",
            "linecolor": "white",
            "ticks": ""
           }
          },
          "scene": {
           "xaxis": {
            "backgroundcolor": "#E5ECF6",
            "gridcolor": "white",
            "gridwidth": 2,
            "linecolor": "white",
            "showbackground": true,
            "ticks": "",
            "zerolinecolor": "white"
           },
           "yaxis": {
            "backgroundcolor": "#E5ECF6",
            "gridcolor": "white",
            "gridwidth": 2,
            "linecolor": "white",
            "showbackground": true,
            "ticks": "",
            "zerolinecolor": "white"
           },
           "zaxis": {
            "backgroundcolor": "#E5ECF6",
            "gridcolor": "white",
            "gridwidth": 2,
            "linecolor": "white",
            "showbackground": true,
            "ticks": "",
            "zerolinecolor": "white"
           }
          },
          "shapedefaults": {
           "line": {
            "color": "#2a3f5f"
           }
          },
          "ternary": {
           "aaxis": {
            "gridcolor": "white",
            "linecolor": "white",
            "ticks": ""
           },
           "baxis": {
            "gridcolor": "white",
            "linecolor": "white",
            "ticks": ""
           },
           "bgcolor": "#E5ECF6",
           "caxis": {
            "gridcolor": "white",
            "linecolor": "white",
            "ticks": ""
           }
          },
          "title": {
           "x": 0.05
          },
          "xaxis": {
           "automargin": true,
           "gridcolor": "white",
           "linecolor": "white",
           "ticks": "",
           "title": {
            "standoff": 15
           },
           "zerolinecolor": "white",
           "zerolinewidth": 2
          },
          "yaxis": {
           "automargin": true,
           "gridcolor": "white",
           "linecolor": "white",
           "ticks": "",
           "title": {
            "standoff": 15
           },
           "zerolinecolor": "white",
           "zerolinewidth": 2
          }
         }
        },
        "title": {
         "text": "Total Sales Predictions vs. Actual Values"
        },
        "xaxis": {
         "anchor": "y",
         "domain": [
          0,
          1
         ],
         "title": {
          "text": "index"
         }
        },
        "yaxis": {
         "anchor": "x",
         "domain": [
          0,
          1
         ],
         "title": {
          "text": "value"
         }
        }
       }
      }
     },
     "metadata": {},
     "output_type": "display_data"
    }
   ],
   "source": [
    "#Plot the predictions vs. the actual values\n",
    "px.line(rfr_df, x=rfr_df.index, y=['p_Total_Sales', 'a_Total_Sales', 'p_Operating_Profit', 'a_Operating_Profit'], title='Total Sales Predictions vs. Actual Values')"
   ]
  },
  {
   "cell_type": "code",
   "execution_count": 916,
   "metadata": {},
   "outputs": [
    {
     "name": "stderr",
     "output_type": "stream",
     "text": [
      "c:\\Users\\mitch\\anaconda3\\lib\\site-packages\\sklearn\\model_selection\\_search.py:969: UserWarning:\n",
      "\n",
      "One or more of the test scores are non-finite: [nan nan nan ... nan nan nan]\n",
      "\n"
     ]
    },
    {
     "data": {
      "text/plain": [
       "GridSearchCV(cv=5, estimator=RandomForestRegressor(), n_jobs=4,\n",
       "             param_grid={'max_depth': [None, 5, 10, 15, 20],\n",
       "                         'max_features': ['auto', 'sqrt', 'log2'],\n",
       "                         'min_samples_leaf': [1, 2, 3, 4, 5],\n",
       "                         'min_samples_split': [2, 4, 6, 8, 10],\n",
       "                         'n_estimators': [100, 200, 300, 400, 500]})"
      ]
     },
     "execution_count": 916,
     "metadata": {},
     "output_type": "execute_result"
    }
   ],
   "source": [
    "#Find optimal parameters using GridSearchCV\n",
    "grid = {'n_estimators': [50, 100, 200, 300, 400], \n",
    "        'max_depth': [None, 5, 10, 15, 20], \n",
    "        'min_samples_split': [2, 4, 6, 8, 10], \n",
    "        'min_samples_leaf': [1, 2, 3, 4, 5], \n",
    "        'max_features': ['auto', 'sqrt', 'log2']}\n",
    "\n",
    "#Grid search function\n",
    "CV_rfr = GridSearchCV(estimator=RandomForestRegressor(), param_grid=grid, cv=5, n_jobs=4)\n",
    "CV_rfr.fit(X_train, y_train)"
   ]
  },
  {
   "cell_type": "code",
   "execution_count": 919,
   "metadata": {},
   "outputs": [
    {
     "data": {
      "text/plain": [
       "{'max_depth': None,\n",
       " 'max_features': 'auto',\n",
       " 'min_samples_leaf': 1,\n",
       " 'min_samples_split': 2,\n",
       " 'n_estimators': 100}"
      ]
     },
     "execution_count": 919,
     "metadata": {},
     "output_type": "execute_result"
    }
   ],
   "source": [
    "CV_rfr.best_params_"
   ]
  },
  {
   "cell_type": "code",
   "execution_count": 1000,
   "metadata": {},
   "outputs": [],
   "source": [
    "#Create a random forest regressor\n",
    "opt_rfr = RandomForestRegressor(max_depth=None, max_features= 'log2', min_samples_leaf= 1, min_samples_split= 2, n_estimators= 50, random_state=0)"
   ]
  },
  {
   "cell_type": "code",
   "execution_count": 1001,
   "metadata": {},
   "outputs": [],
   "source": [
    "#Fit the model to the training data\n",
    "opt_rfr.fit(X_train, y_train)\n",
    "\n",
    "#Make predictions using the testing data\n",
    "opt_rfr_predictions = opt_rfr.predict(X_test)"
   ]
  },
  {
   "cell_type": "code",
   "execution_count": 1002,
   "metadata": {},
   "outputs": [
    {
     "name": "stdout",
     "output_type": "stream",
     "text": [
      "Random Forest Regressor MSE: 13750440415574.021\n",
      "Random Forest Regressor RMSE: 3708158.6286961916\n"
     ]
    }
   ],
   "source": [
    "opt_rfr_mse = mean_squared_error(y_test, opt_rfr_predictions)\n",
    "opt_rfr_rmse = opt_rfr_mse**.5\n",
    "\n",
    "print(f'Random Forest Regressor MSE: {opt_rfr_mse}')\n",
    "print(f'Random Forest Regressor RMSE: {opt_rfr_rmse}')"
   ]
  },
  {
   "cell_type": "code",
   "execution_count": 1003,
   "metadata": {},
   "outputs": [
    {
     "data": {
      "text/html": [
       "<div>\n",
       "<style scoped>\n",
       "    .dataframe tbody tr th:only-of-type {\n",
       "        vertical-align: middle;\n",
       "    }\n",
       "\n",
       "    .dataframe tbody tr th {\n",
       "        vertical-align: top;\n",
       "    }\n",
       "\n",
       "    .dataframe thead th {\n",
       "        text-align: right;\n",
       "    }\n",
       "</style>\n",
       "<table border=\"1\" class=\"dataframe\">\n",
       "  <thead>\n",
       "    <tr style=\"text-align: right;\">\n",
       "      <th></th>\n",
       "      <th>p_Total_Sales</th>\n",
       "      <th>p_Operating_Profit</th>\n",
       "      <th>a_Total_Sales</th>\n",
       "      <th>a_Operating_Profit</th>\n",
       "    </tr>\n",
       "  </thead>\n",
       "  <tbody>\n",
       "    <tr>\n",
       "      <th>2021:Q1</th>\n",
       "      <td>19043236.04</td>\n",
       "      <td>7.620859e+06</td>\n",
       "      <td>18770496.0</td>\n",
       "      <td>7113924.66</td>\n",
       "    </tr>\n",
       "    <tr>\n",
       "      <th>2020:Q2</th>\n",
       "      <td>13270180.32</td>\n",
       "      <td>5.219826e+06</td>\n",
       "      <td>6442039.0</td>\n",
       "      <td>2383123.95</td>\n",
       "    </tr>\n",
       "  </tbody>\n",
       "</table>\n",
       "</div>"
      ],
      "text/plain": [
       "         p_Total_Sales  p_Operating_Profit  a_Total_Sales  a_Operating_Profit\n",
       "2021:Q1    19043236.04        7.620859e+06     18770496.0          7113924.66\n",
       "2020:Q2    13270180.32        5.219826e+06      6442039.0          2383123.95"
      ]
     },
     "execution_count": 1003,
     "metadata": {},
     "output_type": "execute_result"
    }
   ],
   "source": [
    "#A RMSE of 3708158 means that the model is off by about $3.7 million on average\n",
    "\n",
    "#Create a dataframe of the predictions\n",
    "opt_rfr_df = pd.DataFrame(opt_rfr_predictions, columns=['p_Total_Sales', 'p_Operating_Profit'], index=y_test.index)\n",
    "opt_rfr_df['a_Total_Sales'], opt_rfr_df['a_Operating_Profit'] = y_test['Total Sales'], y_test['Operating Profit']\n",
    "opt_rfr_df"
   ]
  },
  {
   "cell_type": "code",
   "execution_count": 1004,
   "metadata": {},
   "outputs": [
    {
     "data": {
      "application/vnd.plotly.v1+json": {
       "config": {
        "plotlyServerURL": "https://plot.ly"
       },
       "data": [
        {
         "hovertemplate": "variable=p_Total_Sales<br>index=%{x}<br>value=%{y}<extra></extra>",
         "legendgroup": "p_Total_Sales",
         "line": {
          "color": "#636efa",
          "dash": "solid"
         },
         "marker": {
          "symbol": "circle"
         },
         "mode": "lines",
         "name": "p_Total_Sales",
         "orientation": "v",
         "showlegend": true,
         "type": "scatter",
         "x": [
          "2021:Q1",
          "2020:Q2"
         ],
         "xaxis": "x",
         "y": [
          19043236.04,
          13270180.32
         ],
         "yaxis": "y"
        },
        {
         "hovertemplate": "variable=a_Total_Sales<br>index=%{x}<br>value=%{y}<extra></extra>",
         "legendgroup": "a_Total_Sales",
         "line": {
          "color": "#EF553B",
          "dash": "solid"
         },
         "marker": {
          "symbol": "circle"
         },
         "mode": "lines",
         "name": "a_Total_Sales",
         "orientation": "v",
         "showlegend": true,
         "type": "scatter",
         "x": [
          "2021:Q1",
          "2020:Q2"
         ],
         "xaxis": "x",
         "y": [
          18770496,
          6442039
         ],
         "yaxis": "y"
        },
        {
         "hovertemplate": "variable=p_Operating_Profit<br>index=%{x}<br>value=%{y}<extra></extra>",
         "legendgroup": "p_Operating_Profit",
         "line": {
          "color": "#00cc96",
          "dash": "solid"
         },
         "marker": {
          "symbol": "circle"
         },
         "mode": "lines",
         "name": "p_Operating_Profit",
         "orientation": "v",
         "showlegend": true,
         "type": "scatter",
         "x": [
          "2021:Q1",
          "2020:Q2"
         ],
         "xaxis": "x",
         "y": [
          7620859.0838,
          5219825.932400002
         ],
         "yaxis": "y"
        },
        {
         "hovertemplate": "variable=a_Operating_Profit<br>index=%{x}<br>value=%{y}<extra></extra>",
         "legendgroup": "a_Operating_Profit",
         "line": {
          "color": "#ab63fa",
          "dash": "solid"
         },
         "marker": {
          "symbol": "circle"
         },
         "mode": "lines",
         "name": "a_Operating_Profit",
         "orientation": "v",
         "showlegend": true,
         "type": "scatter",
         "x": [
          "2021:Q1",
          "2020:Q2"
         ],
         "xaxis": "x",
         "y": [
          7113924.66,
          2383123.95
         ],
         "yaxis": "y"
        }
       ],
       "layout": {
        "legend": {
         "title": {
          "text": "variable"
         },
         "tracegroupgap": 0
        },
        "template": {
         "data": {
          "bar": [
           {
            "error_x": {
             "color": "#2a3f5f"
            },
            "error_y": {
             "color": "#2a3f5f"
            },
            "marker": {
             "line": {
              "color": "#E5ECF6",
              "width": 0.5
             },
             "pattern": {
              "fillmode": "overlay",
              "size": 10,
              "solidity": 0.2
             }
            },
            "type": "bar"
           }
          ],
          "barpolar": [
           {
            "marker": {
             "line": {
              "color": "#E5ECF6",
              "width": 0.5
             },
             "pattern": {
              "fillmode": "overlay",
              "size": 10,
              "solidity": 0.2
             }
            },
            "type": "barpolar"
           }
          ],
          "carpet": [
           {
            "aaxis": {
             "endlinecolor": "#2a3f5f",
             "gridcolor": "white",
             "linecolor": "white",
             "minorgridcolor": "white",
             "startlinecolor": "#2a3f5f"
            },
            "baxis": {
             "endlinecolor": "#2a3f5f",
             "gridcolor": "white",
             "linecolor": "white",
             "minorgridcolor": "white",
             "startlinecolor": "#2a3f5f"
            },
            "type": "carpet"
           }
          ],
          "choropleth": [
           {
            "colorbar": {
             "outlinewidth": 0,
             "ticks": ""
            },
            "type": "choropleth"
           }
          ],
          "contour": [
           {
            "colorbar": {
             "outlinewidth": 0,
             "ticks": ""
            },
            "colorscale": [
             [
              0,
              "#0d0887"
             ],
             [
              0.1111111111111111,
              "#46039f"
             ],
             [
              0.2222222222222222,
              "#7201a8"
             ],
             [
              0.3333333333333333,
              "#9c179e"
             ],
             [
              0.4444444444444444,
              "#bd3786"
             ],
             [
              0.5555555555555556,
              "#d8576b"
             ],
             [
              0.6666666666666666,
              "#ed7953"
             ],
             [
              0.7777777777777778,
              "#fb9f3a"
             ],
             [
              0.8888888888888888,
              "#fdca26"
             ],
             [
              1,
              "#f0f921"
             ]
            ],
            "type": "contour"
           }
          ],
          "contourcarpet": [
           {
            "colorbar": {
             "outlinewidth": 0,
             "ticks": ""
            },
            "type": "contourcarpet"
           }
          ],
          "heatmap": [
           {
            "colorbar": {
             "outlinewidth": 0,
             "ticks": ""
            },
            "colorscale": [
             [
              0,
              "#0d0887"
             ],
             [
              0.1111111111111111,
              "#46039f"
             ],
             [
              0.2222222222222222,
              "#7201a8"
             ],
             [
              0.3333333333333333,
              "#9c179e"
             ],
             [
              0.4444444444444444,
              "#bd3786"
             ],
             [
              0.5555555555555556,
              "#d8576b"
             ],
             [
              0.6666666666666666,
              "#ed7953"
             ],
             [
              0.7777777777777778,
              "#fb9f3a"
             ],
             [
              0.8888888888888888,
              "#fdca26"
             ],
             [
              1,
              "#f0f921"
             ]
            ],
            "type": "heatmap"
           }
          ],
          "heatmapgl": [
           {
            "colorbar": {
             "outlinewidth": 0,
             "ticks": ""
            },
            "colorscale": [
             [
              0,
              "#0d0887"
             ],
             [
              0.1111111111111111,
              "#46039f"
             ],
             [
              0.2222222222222222,
              "#7201a8"
             ],
             [
              0.3333333333333333,
              "#9c179e"
             ],
             [
              0.4444444444444444,
              "#bd3786"
             ],
             [
              0.5555555555555556,
              "#d8576b"
             ],
             [
              0.6666666666666666,
              "#ed7953"
             ],
             [
              0.7777777777777778,
              "#fb9f3a"
             ],
             [
              0.8888888888888888,
              "#fdca26"
             ],
             [
              1,
              "#f0f921"
             ]
            ],
            "type": "heatmapgl"
           }
          ],
          "histogram": [
           {
            "marker": {
             "pattern": {
              "fillmode": "overlay",
              "size": 10,
              "solidity": 0.2
             }
            },
            "type": "histogram"
           }
          ],
          "histogram2d": [
           {
            "colorbar": {
             "outlinewidth": 0,
             "ticks": ""
            },
            "colorscale": [
             [
              0,
              "#0d0887"
             ],
             [
              0.1111111111111111,
              "#46039f"
             ],
             [
              0.2222222222222222,
              "#7201a8"
             ],
             [
              0.3333333333333333,
              "#9c179e"
             ],
             [
              0.4444444444444444,
              "#bd3786"
             ],
             [
              0.5555555555555556,
              "#d8576b"
             ],
             [
              0.6666666666666666,
              "#ed7953"
             ],
             [
              0.7777777777777778,
              "#fb9f3a"
             ],
             [
              0.8888888888888888,
              "#fdca26"
             ],
             [
              1,
              "#f0f921"
             ]
            ],
            "type": "histogram2d"
           }
          ],
          "histogram2dcontour": [
           {
            "colorbar": {
             "outlinewidth": 0,
             "ticks": ""
            },
            "colorscale": [
             [
              0,
              "#0d0887"
             ],
             [
              0.1111111111111111,
              "#46039f"
             ],
             [
              0.2222222222222222,
              "#7201a8"
             ],
             [
              0.3333333333333333,
              "#9c179e"
             ],
             [
              0.4444444444444444,
              "#bd3786"
             ],
             [
              0.5555555555555556,
              "#d8576b"
             ],
             [
              0.6666666666666666,
              "#ed7953"
             ],
             [
              0.7777777777777778,
              "#fb9f3a"
             ],
             [
              0.8888888888888888,
              "#fdca26"
             ],
             [
              1,
              "#f0f921"
             ]
            ],
            "type": "histogram2dcontour"
           }
          ],
          "mesh3d": [
           {
            "colorbar": {
             "outlinewidth": 0,
             "ticks": ""
            },
            "type": "mesh3d"
           }
          ],
          "parcoords": [
           {
            "line": {
             "colorbar": {
              "outlinewidth": 0,
              "ticks": ""
             }
            },
            "type": "parcoords"
           }
          ],
          "pie": [
           {
            "automargin": true,
            "type": "pie"
           }
          ],
          "scatter": [
           {
            "fillpattern": {
             "fillmode": "overlay",
             "size": 10,
             "solidity": 0.2
            },
            "type": "scatter"
           }
          ],
          "scatter3d": [
           {
            "line": {
             "colorbar": {
              "outlinewidth": 0,
              "ticks": ""
             }
            },
            "marker": {
             "colorbar": {
              "outlinewidth": 0,
              "ticks": ""
             }
            },
            "type": "scatter3d"
           }
          ],
          "scattercarpet": [
           {
            "marker": {
             "colorbar": {
              "outlinewidth": 0,
              "ticks": ""
             }
            },
            "type": "scattercarpet"
           }
          ],
          "scattergeo": [
           {
            "marker": {
             "colorbar": {
              "outlinewidth": 0,
              "ticks": ""
             }
            },
            "type": "scattergeo"
           }
          ],
          "scattergl": [
           {
            "marker": {
             "colorbar": {
              "outlinewidth": 0,
              "ticks": ""
             }
            },
            "type": "scattergl"
           }
          ],
          "scattermapbox": [
           {
            "marker": {
             "colorbar": {
              "outlinewidth": 0,
              "ticks": ""
             }
            },
            "type": "scattermapbox"
           }
          ],
          "scatterpolar": [
           {
            "marker": {
             "colorbar": {
              "outlinewidth": 0,
              "ticks": ""
             }
            },
            "type": "scatterpolar"
           }
          ],
          "scatterpolargl": [
           {
            "marker": {
             "colorbar": {
              "outlinewidth": 0,
              "ticks": ""
             }
            },
            "type": "scatterpolargl"
           }
          ],
          "scatterternary": [
           {
            "marker": {
             "colorbar": {
              "outlinewidth": 0,
              "ticks": ""
             }
            },
            "type": "scatterternary"
           }
          ],
          "surface": [
           {
            "colorbar": {
             "outlinewidth": 0,
             "ticks": ""
            },
            "colorscale": [
             [
              0,
              "#0d0887"
             ],
             [
              0.1111111111111111,
              "#46039f"
             ],
             [
              0.2222222222222222,
              "#7201a8"
             ],
             [
              0.3333333333333333,
              "#9c179e"
             ],
             [
              0.4444444444444444,
              "#bd3786"
             ],
             [
              0.5555555555555556,
              "#d8576b"
             ],
             [
              0.6666666666666666,
              "#ed7953"
             ],
             [
              0.7777777777777778,
              "#fb9f3a"
             ],
             [
              0.8888888888888888,
              "#fdca26"
             ],
             [
              1,
              "#f0f921"
             ]
            ],
            "type": "surface"
           }
          ],
          "table": [
           {
            "cells": {
             "fill": {
              "color": "#EBF0F8"
             },
             "line": {
              "color": "white"
             }
            },
            "header": {
             "fill": {
              "color": "#C8D4E3"
             },
             "line": {
              "color": "white"
             }
            },
            "type": "table"
           }
          ]
         },
         "layout": {
          "annotationdefaults": {
           "arrowcolor": "#2a3f5f",
           "arrowhead": 0,
           "arrowwidth": 1
          },
          "autotypenumbers": "strict",
          "coloraxis": {
           "colorbar": {
            "outlinewidth": 0,
            "ticks": ""
           }
          },
          "colorscale": {
           "diverging": [
            [
             0,
             "#8e0152"
            ],
            [
             0.1,
             "#c51b7d"
            ],
            [
             0.2,
             "#de77ae"
            ],
            [
             0.3,
             "#f1b6da"
            ],
            [
             0.4,
             "#fde0ef"
            ],
            [
             0.5,
             "#f7f7f7"
            ],
            [
             0.6,
             "#e6f5d0"
            ],
            [
             0.7,
             "#b8e186"
            ],
            [
             0.8,
             "#7fbc41"
            ],
            [
             0.9,
             "#4d9221"
            ],
            [
             1,
             "#276419"
            ]
           ],
           "sequential": [
            [
             0,
             "#0d0887"
            ],
            [
             0.1111111111111111,
             "#46039f"
            ],
            [
             0.2222222222222222,
             "#7201a8"
            ],
            [
             0.3333333333333333,
             "#9c179e"
            ],
            [
             0.4444444444444444,
             "#bd3786"
            ],
            [
             0.5555555555555556,
             "#d8576b"
            ],
            [
             0.6666666666666666,
             "#ed7953"
            ],
            [
             0.7777777777777778,
             "#fb9f3a"
            ],
            [
             0.8888888888888888,
             "#fdca26"
            ],
            [
             1,
             "#f0f921"
            ]
           ],
           "sequentialminus": [
            [
             0,
             "#0d0887"
            ],
            [
             0.1111111111111111,
             "#46039f"
            ],
            [
             0.2222222222222222,
             "#7201a8"
            ],
            [
             0.3333333333333333,
             "#9c179e"
            ],
            [
             0.4444444444444444,
             "#bd3786"
            ],
            [
             0.5555555555555556,
             "#d8576b"
            ],
            [
             0.6666666666666666,
             "#ed7953"
            ],
            [
             0.7777777777777778,
             "#fb9f3a"
            ],
            [
             0.8888888888888888,
             "#fdca26"
            ],
            [
             1,
             "#f0f921"
            ]
           ]
          },
          "colorway": [
           "#636efa",
           "#EF553B",
           "#00cc96",
           "#ab63fa",
           "#FFA15A",
           "#19d3f3",
           "#FF6692",
           "#B6E880",
           "#FF97FF",
           "#FECB52"
          ],
          "font": {
           "color": "#2a3f5f"
          },
          "geo": {
           "bgcolor": "white",
           "lakecolor": "white",
           "landcolor": "#E5ECF6",
           "showlakes": true,
           "showland": true,
           "subunitcolor": "white"
          },
          "hoverlabel": {
           "align": "left"
          },
          "hovermode": "closest",
          "mapbox": {
           "style": "light"
          },
          "paper_bgcolor": "white",
          "plot_bgcolor": "#E5ECF6",
          "polar": {
           "angularaxis": {
            "gridcolor": "white",
            "linecolor": "white",
            "ticks": ""
           },
           "bgcolor": "#E5ECF6",
           "radialaxis": {
            "gridcolor": "white",
            "linecolor": "white",
            "ticks": ""
           }
          },
          "scene": {
           "xaxis": {
            "backgroundcolor": "#E5ECF6",
            "gridcolor": "white",
            "gridwidth": 2,
            "linecolor": "white",
            "showbackground": true,
            "ticks": "",
            "zerolinecolor": "white"
           },
           "yaxis": {
            "backgroundcolor": "#E5ECF6",
            "gridcolor": "white",
            "gridwidth": 2,
            "linecolor": "white",
            "showbackground": true,
            "ticks": "",
            "zerolinecolor": "white"
           },
           "zaxis": {
            "backgroundcolor": "#E5ECF6",
            "gridcolor": "white",
            "gridwidth": 2,
            "linecolor": "white",
            "showbackground": true,
            "ticks": "",
            "zerolinecolor": "white"
           }
          },
          "shapedefaults": {
           "line": {
            "color": "#2a3f5f"
           }
          },
          "ternary": {
           "aaxis": {
            "gridcolor": "white",
            "linecolor": "white",
            "ticks": ""
           },
           "baxis": {
            "gridcolor": "white",
            "linecolor": "white",
            "ticks": ""
           },
           "bgcolor": "#E5ECF6",
           "caxis": {
            "gridcolor": "white",
            "linecolor": "white",
            "ticks": ""
           }
          },
          "title": {
           "x": 0.05
          },
          "xaxis": {
           "automargin": true,
           "gridcolor": "white",
           "linecolor": "white",
           "ticks": "",
           "title": {
            "standoff": 15
           },
           "zerolinecolor": "white",
           "zerolinewidth": 2
          },
          "yaxis": {
           "automargin": true,
           "gridcolor": "white",
           "linecolor": "white",
           "ticks": "",
           "title": {
            "standoff": 15
           },
           "zerolinecolor": "white",
           "zerolinewidth": 2
          }
         }
        },
        "title": {
         "text": "Total Sales Predictions vs. Actual Values"
        },
        "xaxis": {
         "anchor": "y",
         "domain": [
          0,
          1
         ],
         "title": {
          "text": "index"
         }
        },
        "yaxis": {
         "anchor": "x",
         "domain": [
          0,
          1
         ],
         "title": {
          "text": "value"
         }
        }
       }
      }
     },
     "metadata": {},
     "output_type": "display_data"
    }
   ],
   "source": [
    "#Plot the predictions vs. the actual values\n",
    "px.line(opt_rfr_df, x=opt_rfr_df.index, y=['p_Total_Sales', 'a_Total_Sales', 'p_Operating_Profit', 'a_Operating_Profit'], title='Total Sales Predictions vs. Actual Values')"
   ]
  },
  {
   "attachments": {},
   "cell_type": "markdown",
   "metadata": {},
   "source": [
    "## Split data by month rather than quarter"
   ]
  },
  {
   "cell_type": "code",
   "execution_count": 1031,
   "metadata": {},
   "outputs": [],
   "source": [
    "monthly_merged_df = demo_df.set_index('Description')"
   ]
  },
  {
   "cell_type": "code",
   "execution_count": 1037,
   "metadata": {},
   "outputs": [
    {
     "data": {
      "text/html": [
       "<div>\n",
       "<style scoped>\n",
       "    .dataframe tbody tr th:only-of-type {\n",
       "        vertical-align: middle;\n",
       "    }\n",
       "\n",
       "    .dataframe tbody tr th {\n",
       "        vertical-align: top;\n",
       "    }\n",
       "\n",
       "    .dataframe thead th {\n",
       "        text-align: right;\n",
       "    }\n",
       "</style>\n",
       "<table border=\"1\" class=\"dataframe\">\n",
       "  <thead>\n",
       "    <tr style=\"text-align: right;\">\n",
       "      <th>Invoice Date</th>\n",
       "      <th>2020-01-31</th>\n",
       "      <th>2020-02-29</th>\n",
       "      <th>2020-03-31</th>\n",
       "      <th>2020-04-30</th>\n",
       "      <th>2020-05-31</th>\n",
       "      <th>2020-06-30</th>\n",
       "      <th>2020-07-31</th>\n",
       "      <th>2020-08-31</th>\n",
       "      <th>2020-09-30</th>\n",
       "      <th>2020-10-31</th>\n",
       "      <th>...</th>\n",
       "      <th>2021-03-31</th>\n",
       "      <th>2021-04-30</th>\n",
       "      <th>2021-05-31</th>\n",
       "      <th>2021-06-30</th>\n",
       "      <th>2021-07-31</th>\n",
       "      <th>2021-08-31</th>\n",
       "      <th>2021-09-30</th>\n",
       "      <th>2021-10-31</th>\n",
       "      <th>2021-11-30</th>\n",
       "      <th>2021-12-31</th>\n",
       "    </tr>\n",
       "  </thead>\n",
       "  <tbody>\n",
       "    <tr>\n",
       "      <th>Total Sales</th>\n",
       "      <td>2312746.00</td>\n",
       "      <td>2140813.00</td>\n",
       "      <td>2474202.00</td>\n",
       "      <td>3193081.00</td>\n",
       "      <td>2164764.0</td>\n",
       "      <td>1084194.00</td>\n",
       "      <td>2182388.00</td>\n",
       "      <td>2641630.00</td>\n",
       "      <td>2367686.00</td>\n",
       "      <td>1428569.00</td>\n",
       "      <td>...</td>\n",
       "      <td>5220782.00</td>\n",
       "      <td>6498339.00</td>\n",
       "      <td>8576956.00</td>\n",
       "      <td>8718953.00</td>\n",
       "      <td>10368031.00</td>\n",
       "      <td>9651596.00</td>\n",
       "      <td>8037898.00</td>\n",
       "      <td>7110189.00</td>\n",
       "      <td>7855390.00</td>\n",
       "      <td>10336130.0</td>\n",
       "    </tr>\n",
       "    <tr>\n",
       "      <th>Operating Profit</th>\n",
       "      <td>883774.16</td>\n",
       "      <td>796848.19</td>\n",
       "      <td>879268.76</td>\n",
       "      <td>1275442.09</td>\n",
       "      <td>800635.7</td>\n",
       "      <td>307046.16</td>\n",
       "      <td>681477.61</td>\n",
       "      <td>1042648.29</td>\n",
       "      <td>975908.69</td>\n",
       "      <td>582342.96</td>\n",
       "      <td>...</td>\n",
       "      <td>2067129.24</td>\n",
       "      <td>2644237.72</td>\n",
       "      <td>3456570.88</td>\n",
       "      <td>3429736.01</td>\n",
       "      <td>4098805.98</td>\n",
       "      <td>3852859.51</td>\n",
       "      <td>3443571.79</td>\n",
       "      <td>2987755.39</td>\n",
       "      <td>3101992.69</td>\n",
       "      <td>4078123.3</td>\n",
       "    </tr>\n",
       "  </tbody>\n",
       "</table>\n",
       "<p>2 rows × 24 columns</p>\n",
       "</div>"
      ],
      "text/plain": [
       "Invoice Date      2020-01-31  2020-02-29  2020-03-31  2020-04-30  2020-05-31  \\\n",
       "Total Sales       2312746.00  2140813.00  2474202.00  3193081.00   2164764.0   \n",
       "Operating Profit   883774.16   796848.19   879268.76  1275442.09    800635.7   \n",
       "\n",
       "Invoice Date      2020-06-30  2020-07-31  2020-08-31  2020-09-30  2020-10-31  \\\n",
       "Total Sales       1084194.00  2182388.00  2641630.00  2367686.00  1428569.00   \n",
       "Operating Profit   307046.16   681477.61  1042648.29   975908.69   582342.96   \n",
       "\n",
       "Invoice Date      ...  2021-03-31  2021-04-30  2021-05-31  2021-06-30  \\\n",
       "Total Sales       ...  5220782.00  6498339.00  8576956.00  8718953.00   \n",
       "Operating Profit  ...  2067129.24  2644237.72  3456570.88  3429736.01   \n",
       "\n",
       "Invoice Date       2021-07-31  2021-08-31  2021-09-30  2021-10-31  2021-11-30  \\\n",
       "Total Sales       10368031.00  9651596.00  8037898.00  7110189.00  7855390.00   \n",
       "Operating Profit   4098805.98  3852859.51  3443571.79  2987755.39  3101992.69   \n",
       "\n",
       "Invoice Date      2021-12-31  \n",
       "Total Sales       10336130.0  \n",
       "Operating Profit   4078123.3  \n",
       "\n",
       "[2 rows x 24 columns]"
      ]
     },
     "execution_count": 1037,
     "metadata": {},
     "output_type": "execute_result"
    }
   ],
   "source": [
    "total_sales_monthly = total_sales_monthly.transpose()\n",
    "total_sales_monthly"
   ]
  },
  {
   "cell_type": "code",
   "execution_count": 1055,
   "metadata": {},
   "outputs": [],
   "source": [
    "#Add empty columns to match the shape of demo_df\n",
    "total_sales_monthly['2022-01-31'] = np.nan\n",
    "total_sales_monthly['2022-02-29'] = np.nan\n",
    "total_sales_monthly['2022-03-31'] = np.nan\n",
    "\n",
    "total_sales_monthly['2022-04-30'] = np.nan\n",
    "total_sales_monthly['2022-05-31'] = np.nan\n",
    "total_sales_monthly['2022-06-30'] = np.nan\n",
    "\n",
    "total_sales_monthly['2022-07-31'] = np.nan\n",
    "total_sales_monthly['2022-08-31'] = np.nan\n",
    "total_sales_monthly['2022-09-30'] = np.nan"
   ]
  },
  {
   "cell_type": "code",
   "execution_count": 1051,
   "metadata": {},
   "outputs": [],
   "source": [
    "demo_df_elongated = demo_df.set_index('Description')"
   ]
  },
  {
   "cell_type": "code",
   "execution_count": 1052,
   "metadata": {},
   "outputs": [],
   "source": [
    "quarter_x3 = [2, 3]\n",
    "\n",
    "for column in demo_df_elongated.columns:\n",
    "    for quarter in quarter_x3:\n",
    "            demo_df_elongated[f'{column}_{quarter}'] = demo_df_elongated[column]"
   ]
  },
  {
   "cell_type": "code",
   "execution_count": 1053,
   "metadata": {},
   "outputs": [],
   "source": [
    "#Sort columns\n",
    "demo_df_elongated = demo_df_elongated.reindex(sorted(demo_df_elongated.columns), axis=1)"
   ]
  },
  {
   "cell_type": "code",
   "execution_count": 1054,
   "metadata": {},
   "outputs": [
    {
     "data": {
      "text/html": [
       "<div>\n",
       "<style scoped>\n",
       "    .dataframe tbody tr th:only-of-type {\n",
       "        vertical-align: middle;\n",
       "    }\n",
       "\n",
       "    .dataframe tbody tr th {\n",
       "        vertical-align: top;\n",
       "    }\n",
       "\n",
       "    .dataframe thead th {\n",
       "        text-align: right;\n",
       "    }\n",
       "</style>\n",
       "<table border=\"1\" class=\"dataframe\">\n",
       "  <thead>\n",
       "    <tr style=\"text-align: right;\">\n",
       "      <th></th>\n",
       "      <th>2020:Q1</th>\n",
       "      <th>2020:Q1_2</th>\n",
       "      <th>2020:Q1_3</th>\n",
       "      <th>2020:Q2</th>\n",
       "      <th>2020:Q2_2</th>\n",
       "      <th>2020:Q2_3</th>\n",
       "      <th>2020:Q3</th>\n",
       "      <th>2020:Q3_2</th>\n",
       "      <th>2020:Q3_3</th>\n",
       "      <th>2020:Q4</th>\n",
       "      <th>...</th>\n",
       "      <th>2021:Q4_3</th>\n",
       "      <th>2022:Q1</th>\n",
       "      <th>2022:Q1_2</th>\n",
       "      <th>2022:Q1_3</th>\n",
       "      <th>2022:Q2</th>\n",
       "      <th>2022:Q2_2</th>\n",
       "      <th>2022:Q2_3</th>\n",
       "      <th>2022:Q3</th>\n",
       "      <th>2022:Q3_2</th>\n",
       "      <th>2022:Q3_3</th>\n",
       "    </tr>\n",
       "    <tr>\n",
       "      <th>Description</th>\n",
       "      <th></th>\n",
       "      <th></th>\n",
       "      <th></th>\n",
       "      <th></th>\n",
       "      <th></th>\n",
       "      <th></th>\n",
       "      <th></th>\n",
       "      <th></th>\n",
       "      <th></th>\n",
       "      <th></th>\n",
       "      <th></th>\n",
       "      <th></th>\n",
       "      <th></th>\n",
       "      <th></th>\n",
       "      <th></th>\n",
       "      <th></th>\n",
       "      <th></th>\n",
       "      <th></th>\n",
       "      <th></th>\n",
       "      <th></th>\n",
       "      <th></th>\n",
       "    </tr>\n",
       "  </thead>\n",
       "  <tbody>\n",
       "    <tr>\n",
       "      <th>Personal income (millions of dollars, seasonally adjusted)</th>\n",
       "      <td>19013184.9</td>\n",
       "      <td>19013184.9</td>\n",
       "      <td>19013184.9</td>\n",
       "      <td>20459375.8</td>\n",
       "      <td>20459375.8</td>\n",
       "      <td>20459375.8</td>\n",
       "      <td>19997807.5</td>\n",
       "      <td>19997807.5</td>\n",
       "      <td>19997807.5</td>\n",
       "      <td>19778315.9</td>\n",
       "      <td>...</td>\n",
       "      <td>21158043.8</td>\n",
       "      <td>21317801.6</td>\n",
       "      <td>21317801.6</td>\n",
       "      <td>21317801.6</td>\n",
       "      <td>21575362.1</td>\n",
       "      <td>21575362.1</td>\n",
       "      <td>21575362.1</td>\n",
       "      <td>21856480.2</td>\n",
       "      <td>21856480.2</td>\n",
       "      <td>21856480.2</td>\n",
       "    </tr>\n",
       "    <tr>\n",
       "      <th>Population (midperiod, persons)</th>\n",
       "      <td>331295939.0</td>\n",
       "      <td>331295939.0</td>\n",
       "      <td>331295939.0</td>\n",
       "      <td>331448217.0</td>\n",
       "      <td>331448217.0</td>\n",
       "      <td>331448217.0</td>\n",
       "      <td>331596557.0</td>\n",
       "      <td>331596557.0</td>\n",
       "      <td>331596557.0</td>\n",
       "      <td>331734262.0</td>\n",
       "      <td>...</td>\n",
       "      <td>332336782.0</td>\n",
       "      <td>332502197.0</td>\n",
       "      <td>332502197.0</td>\n",
       "      <td>332502197.0</td>\n",
       "      <td>332693300.0</td>\n",
       "      <td>332693300.0</td>\n",
       "      <td>332693300.0</td>\n",
       "      <td>332994420.0</td>\n",
       "      <td>332994420.0</td>\n",
       "      <td>332994420.0</td>\n",
       "    </tr>\n",
       "    <tr>\n",
       "      <th>Per capita personal income (dollars)</th>\n",
       "      <td>57390.0</td>\n",
       "      <td>57390.0</td>\n",
       "      <td>57390.0</td>\n",
       "      <td>61727.0</td>\n",
       "      <td>61727.0</td>\n",
       "      <td>61727.0</td>\n",
       "      <td>60308.0</td>\n",
       "      <td>60308.0</td>\n",
       "      <td>60308.0</td>\n",
       "      <td>59621.0</td>\n",
       "      <td>...</td>\n",
       "      <td>63664.0</td>\n",
       "      <td>64113.0</td>\n",
       "      <td>64113.0</td>\n",
       "      <td>64113.0</td>\n",
       "      <td>64851.0</td>\n",
       "      <td>64851.0</td>\n",
       "      <td>64851.0</td>\n",
       "      <td>65636.0</td>\n",
       "      <td>65636.0</td>\n",
       "      <td>65636.0</td>\n",
       "    </tr>\n",
       "  </tbody>\n",
       "</table>\n",
       "<p>3 rows × 33 columns</p>\n",
       "</div>"
      ],
      "text/plain": [
       "                                                        2020:Q1    2020:Q1_2  \\\n",
       "Description                                                                    \n",
       "Personal income (millions of dollars, seasonall...   19013184.9   19013184.9   \n",
       "Population (midperiod, persons)                     331295939.0  331295939.0   \n",
       "Per capita personal income (dollars)                    57390.0      57390.0   \n",
       "\n",
       "                                                      2020:Q1_3      2020:Q2  \\\n",
       "Description                                                                    \n",
       "Personal income (millions of dollars, seasonall...   19013184.9   20459375.8   \n",
       "Population (midperiod, persons)                     331295939.0  331448217.0   \n",
       "Per capita personal income (dollars)                    57390.0      61727.0   \n",
       "\n",
       "                                                      2020:Q2_2    2020:Q2_3  \\\n",
       "Description                                                                    \n",
       "Personal income (millions of dollars, seasonall...   20459375.8   20459375.8   \n",
       "Population (midperiod, persons)                     331448217.0  331448217.0   \n",
       "Per capita personal income (dollars)                    61727.0      61727.0   \n",
       "\n",
       "                                                        2020:Q3    2020:Q3_2  \\\n",
       "Description                                                                    \n",
       "Personal income (millions of dollars, seasonall...   19997807.5   19997807.5   \n",
       "Population (midperiod, persons)                     331596557.0  331596557.0   \n",
       "Per capita personal income (dollars)                    60308.0      60308.0   \n",
       "\n",
       "                                                      2020:Q3_3      2020:Q4  \\\n",
       "Description                                                                    \n",
       "Personal income (millions of dollars, seasonall...   19997807.5   19778315.9   \n",
       "Population (midperiod, persons)                     331596557.0  331734262.0   \n",
       "Per capita personal income (dollars)                    60308.0      59621.0   \n",
       "\n",
       "                                                    ...    2021:Q4_3  \\\n",
       "Description                                         ...                \n",
       "Personal income (millions of dollars, seasonall...  ...   21158043.8   \n",
       "Population (midperiod, persons)                     ...  332336782.0   \n",
       "Per capita personal income (dollars)                ...      63664.0   \n",
       "\n",
       "                                                        2022:Q1    2022:Q1_2  \\\n",
       "Description                                                                    \n",
       "Personal income (millions of dollars, seasonall...   21317801.6   21317801.6   \n",
       "Population (midperiod, persons)                     332502197.0  332502197.0   \n",
       "Per capita personal income (dollars)                    64113.0      64113.0   \n",
       "\n",
       "                                                      2022:Q1_3      2022:Q2  \\\n",
       "Description                                                                    \n",
       "Personal income (millions of dollars, seasonall...   21317801.6   21575362.1   \n",
       "Population (midperiod, persons)                     332502197.0  332693300.0   \n",
       "Per capita personal income (dollars)                    64113.0      64851.0   \n",
       "\n",
       "                                                      2022:Q2_2    2022:Q2_3  \\\n",
       "Description                                                                    \n",
       "Personal income (millions of dollars, seasonall...   21575362.1   21575362.1   \n",
       "Population (midperiod, persons)                     332693300.0  332693300.0   \n",
       "Per capita personal income (dollars)                    64851.0      64851.0   \n",
       "\n",
       "                                                        2022:Q3    2022:Q3_2  \\\n",
       "Description                                                                    \n",
       "Personal income (millions of dollars, seasonall...   21856480.2   21856480.2   \n",
       "Population (midperiod, persons)                     332994420.0  332994420.0   \n",
       "Per capita personal income (dollars)                    65636.0      65636.0   \n",
       "\n",
       "                                                      2022:Q3_3  \n",
       "Description                                                      \n",
       "Personal income (millions of dollars, seasonall...   21856480.2  \n",
       "Population (midperiod, persons)                     332994420.0  \n",
       "Per capita personal income (dollars)                    65636.0  \n",
       "\n",
       "[3 rows x 33 columns]"
      ]
     },
     "execution_count": 1054,
     "metadata": {},
     "output_type": "execute_result"
    }
   ],
   "source": [
    "demo_df_elongated"
   ]
  },
  {
   "cell_type": "code",
   "execution_count": 1063,
   "metadata": {},
   "outputs": [],
   "source": [
    "#Match column names\n",
    "total_sales_monthly.columns = demo_df_elongated.columns"
   ]
  },
  {
   "cell_type": "code",
   "execution_count": 1064,
   "metadata": {},
   "outputs": [
    {
     "data": {
      "text/html": [
       "<div>\n",
       "<style scoped>\n",
       "    .dataframe tbody tr th:only-of-type {\n",
       "        vertical-align: middle;\n",
       "    }\n",
       "\n",
       "    .dataframe tbody tr th {\n",
       "        vertical-align: top;\n",
       "    }\n",
       "\n",
       "    .dataframe thead th {\n",
       "        text-align: right;\n",
       "    }\n",
       "</style>\n",
       "<table border=\"1\" class=\"dataframe\">\n",
       "  <thead>\n",
       "    <tr style=\"text-align: right;\">\n",
       "      <th></th>\n",
       "      <th>2020:Q1</th>\n",
       "      <th>2020:Q1_2</th>\n",
       "      <th>2020:Q1_3</th>\n",
       "      <th>2020:Q2</th>\n",
       "      <th>2020:Q2_2</th>\n",
       "      <th>2020:Q2_3</th>\n",
       "      <th>2020:Q3</th>\n",
       "      <th>2020:Q3_2</th>\n",
       "      <th>2020:Q3_3</th>\n",
       "      <th>2020:Q4</th>\n",
       "      <th>...</th>\n",
       "      <th>2021:Q4_3</th>\n",
       "      <th>2022:Q1</th>\n",
       "      <th>2022:Q1_2</th>\n",
       "      <th>2022:Q1_3</th>\n",
       "      <th>2022:Q2</th>\n",
       "      <th>2022:Q2_2</th>\n",
       "      <th>2022:Q2_3</th>\n",
       "      <th>2022:Q3</th>\n",
       "      <th>2022:Q3_2</th>\n",
       "      <th>2022:Q3_3</th>\n",
       "    </tr>\n",
       "  </thead>\n",
       "  <tbody>\n",
       "    <tr>\n",
       "      <th>Total Sales</th>\n",
       "      <td>2312746.00</td>\n",
       "      <td>2140813.00</td>\n",
       "      <td>2474202.00</td>\n",
       "      <td>3193081.00</td>\n",
       "      <td>2164764.0</td>\n",
       "      <td>1084194.00</td>\n",
       "      <td>2182388.00</td>\n",
       "      <td>2641630.00</td>\n",
       "      <td>2367686.00</td>\n",
       "      <td>1428569.00</td>\n",
       "      <td>...</td>\n",
       "      <td>10336130.0</td>\n",
       "      <td>NaN</td>\n",
       "      <td>NaN</td>\n",
       "      <td>NaN</td>\n",
       "      <td>NaN</td>\n",
       "      <td>NaN</td>\n",
       "      <td>NaN</td>\n",
       "      <td>NaN</td>\n",
       "      <td>NaN</td>\n",
       "      <td>NaN</td>\n",
       "    </tr>\n",
       "    <tr>\n",
       "      <th>Operating Profit</th>\n",
       "      <td>883774.16</td>\n",
       "      <td>796848.19</td>\n",
       "      <td>879268.76</td>\n",
       "      <td>1275442.09</td>\n",
       "      <td>800635.7</td>\n",
       "      <td>307046.16</td>\n",
       "      <td>681477.61</td>\n",
       "      <td>1042648.29</td>\n",
       "      <td>975908.69</td>\n",
       "      <td>582342.96</td>\n",
       "      <td>...</td>\n",
       "      <td>4078123.3</td>\n",
       "      <td>NaN</td>\n",
       "      <td>NaN</td>\n",
       "      <td>NaN</td>\n",
       "      <td>NaN</td>\n",
       "      <td>NaN</td>\n",
       "      <td>NaN</td>\n",
       "      <td>NaN</td>\n",
       "      <td>NaN</td>\n",
       "      <td>NaN</td>\n",
       "    </tr>\n",
       "  </tbody>\n",
       "</table>\n",
       "<p>2 rows × 33 columns</p>\n",
       "</div>"
      ],
      "text/plain": [
       "                     2020:Q1   2020:Q1_2   2020:Q1_3     2020:Q2  2020:Q2_2  \\\n",
       "Total Sales       2312746.00  2140813.00  2474202.00  3193081.00  2164764.0   \n",
       "Operating Profit   883774.16   796848.19   879268.76  1275442.09   800635.7   \n",
       "\n",
       "                   2020:Q2_3     2020:Q3   2020:Q3_2   2020:Q3_3     2020:Q4  \\\n",
       "Total Sales       1084194.00  2182388.00  2641630.00  2367686.00  1428569.00   \n",
       "Operating Profit   307046.16   681477.61  1042648.29   975908.69   582342.96   \n",
       "\n",
       "                  ...   2021:Q4_3  2022:Q1  2022:Q1_2  2022:Q1_3  2022:Q2  \\\n",
       "Total Sales       ...  10336130.0      NaN        NaN        NaN      NaN   \n",
       "Operating Profit  ...   4078123.3      NaN        NaN        NaN      NaN   \n",
       "\n",
       "                  2022:Q2_2  2022:Q2_3  2022:Q3  2022:Q3_2  2022:Q3_3  \n",
       "Total Sales             NaN        NaN      NaN        NaN        NaN  \n",
       "Operating Profit        NaN        NaN      NaN        NaN        NaN  \n",
       "\n",
       "[2 rows x 33 columns]"
      ]
     },
     "execution_count": 1064,
     "metadata": {},
     "output_type": "execute_result"
    }
   ],
   "source": [
    "total_sales_monthly"
   ]
  },
  {
   "cell_type": "code",
   "execution_count": 1065,
   "metadata": {},
   "outputs": [
    {
     "data": {
      "text/html": [
       "<div>\n",
       "<style scoped>\n",
       "    .dataframe tbody tr th:only-of-type {\n",
       "        vertical-align: middle;\n",
       "    }\n",
       "\n",
       "    .dataframe tbody tr th {\n",
       "        vertical-align: top;\n",
       "    }\n",
       "\n",
       "    .dataframe thead th {\n",
       "        text-align: right;\n",
       "    }\n",
       "</style>\n",
       "<table border=\"1\" class=\"dataframe\">\n",
       "  <thead>\n",
       "    <tr style=\"text-align: right;\">\n",
       "      <th></th>\n",
       "      <th>2020:Q1</th>\n",
       "      <th>2020:Q1_2</th>\n",
       "      <th>2020:Q1_3</th>\n",
       "      <th>2020:Q2</th>\n",
       "      <th>2020:Q2_2</th>\n",
       "      <th>2020:Q2_3</th>\n",
       "      <th>2020:Q3</th>\n",
       "      <th>2020:Q3_2</th>\n",
       "      <th>2020:Q3_3</th>\n",
       "      <th>2020:Q4</th>\n",
       "      <th>...</th>\n",
       "      <th>2021:Q4_3</th>\n",
       "      <th>2022:Q1</th>\n",
       "      <th>2022:Q1_2</th>\n",
       "      <th>2022:Q1_3</th>\n",
       "      <th>2022:Q2</th>\n",
       "      <th>2022:Q2_2</th>\n",
       "      <th>2022:Q2_3</th>\n",
       "      <th>2022:Q3</th>\n",
       "      <th>2022:Q3_2</th>\n",
       "      <th>2022:Q3_3</th>\n",
       "    </tr>\n",
       "  </thead>\n",
       "  <tbody>\n",
       "    <tr>\n",
       "      <th>Personal income (millions of dollars, seasonally adjusted)</th>\n",
       "      <td>1.901318e+07</td>\n",
       "      <td>1.901318e+07</td>\n",
       "      <td>1.901318e+07</td>\n",
       "      <td>2.045938e+07</td>\n",
       "      <td>20459375.8</td>\n",
       "      <td>2.045938e+07</td>\n",
       "      <td>1.999781e+07</td>\n",
       "      <td>1.999781e+07</td>\n",
       "      <td>1.999781e+07</td>\n",
       "      <td>1.977832e+07</td>\n",
       "      <td>...</td>\n",
       "      <td>21158043.8</td>\n",
       "      <td>21317801.6</td>\n",
       "      <td>21317801.6</td>\n",
       "      <td>21317801.6</td>\n",
       "      <td>21575362.1</td>\n",
       "      <td>21575362.1</td>\n",
       "      <td>21575362.1</td>\n",
       "      <td>21856480.2</td>\n",
       "      <td>21856480.2</td>\n",
       "      <td>21856480.2</td>\n",
       "    </tr>\n",
       "    <tr>\n",
       "      <th>Population (midperiod, persons)</th>\n",
       "      <td>3.312959e+08</td>\n",
       "      <td>3.312959e+08</td>\n",
       "      <td>3.312959e+08</td>\n",
       "      <td>3.314482e+08</td>\n",
       "      <td>331448217.0</td>\n",
       "      <td>3.314482e+08</td>\n",
       "      <td>3.315966e+08</td>\n",
       "      <td>3.315966e+08</td>\n",
       "      <td>3.315966e+08</td>\n",
       "      <td>3.317343e+08</td>\n",
       "      <td>...</td>\n",
       "      <td>332336782.0</td>\n",
       "      <td>332502197.0</td>\n",
       "      <td>332502197.0</td>\n",
       "      <td>332502197.0</td>\n",
       "      <td>332693300.0</td>\n",
       "      <td>332693300.0</td>\n",
       "      <td>332693300.0</td>\n",
       "      <td>332994420.0</td>\n",
       "      <td>332994420.0</td>\n",
       "      <td>332994420.0</td>\n",
       "    </tr>\n",
       "    <tr>\n",
       "      <th>Per capita personal income (dollars)</th>\n",
       "      <td>5.739000e+04</td>\n",
       "      <td>5.739000e+04</td>\n",
       "      <td>5.739000e+04</td>\n",
       "      <td>6.172700e+04</td>\n",
       "      <td>61727.0</td>\n",
       "      <td>6.172700e+04</td>\n",
       "      <td>6.030800e+04</td>\n",
       "      <td>6.030800e+04</td>\n",
       "      <td>6.030800e+04</td>\n",
       "      <td>5.962100e+04</td>\n",
       "      <td>...</td>\n",
       "      <td>63664.0</td>\n",
       "      <td>64113.0</td>\n",
       "      <td>64113.0</td>\n",
       "      <td>64113.0</td>\n",
       "      <td>64851.0</td>\n",
       "      <td>64851.0</td>\n",
       "      <td>64851.0</td>\n",
       "      <td>65636.0</td>\n",
       "      <td>65636.0</td>\n",
       "      <td>65636.0</td>\n",
       "    </tr>\n",
       "    <tr>\n",
       "      <th>Total Sales</th>\n",
       "      <td>2.312746e+06</td>\n",
       "      <td>2.140813e+06</td>\n",
       "      <td>2.474202e+06</td>\n",
       "      <td>3.193081e+06</td>\n",
       "      <td>2164764.0</td>\n",
       "      <td>1.084194e+06</td>\n",
       "      <td>2.182388e+06</td>\n",
       "      <td>2.641630e+06</td>\n",
       "      <td>2.367686e+06</td>\n",
       "      <td>1.428569e+06</td>\n",
       "      <td>...</td>\n",
       "      <td>10336130.0</td>\n",
       "      <td>NaN</td>\n",
       "      <td>NaN</td>\n",
       "      <td>NaN</td>\n",
       "      <td>NaN</td>\n",
       "      <td>NaN</td>\n",
       "      <td>NaN</td>\n",
       "      <td>NaN</td>\n",
       "      <td>NaN</td>\n",
       "      <td>NaN</td>\n",
       "    </tr>\n",
       "    <tr>\n",
       "      <th>Operating Profit</th>\n",
       "      <td>8.837742e+05</td>\n",
       "      <td>7.968482e+05</td>\n",
       "      <td>8.792688e+05</td>\n",
       "      <td>1.275442e+06</td>\n",
       "      <td>800635.7</td>\n",
       "      <td>3.070462e+05</td>\n",
       "      <td>6.814776e+05</td>\n",
       "      <td>1.042648e+06</td>\n",
       "      <td>9.759087e+05</td>\n",
       "      <td>5.823430e+05</td>\n",
       "      <td>...</td>\n",
       "      <td>4078123.3</td>\n",
       "      <td>NaN</td>\n",
       "      <td>NaN</td>\n",
       "      <td>NaN</td>\n",
       "      <td>NaN</td>\n",
       "      <td>NaN</td>\n",
       "      <td>NaN</td>\n",
       "      <td>NaN</td>\n",
       "      <td>NaN</td>\n",
       "      <td>NaN</td>\n",
       "    </tr>\n",
       "  </tbody>\n",
       "</table>\n",
       "<p>5 rows × 33 columns</p>\n",
       "</div>"
      ],
      "text/plain": [
       "                                                         2020:Q1  \\\n",
       "Personal income (millions of dollars, seasonall...  1.901318e+07   \n",
       "Population (midperiod, persons)                     3.312959e+08   \n",
       "Per capita personal income (dollars)                5.739000e+04   \n",
       "Total Sales                                         2.312746e+06   \n",
       "Operating Profit                                    8.837742e+05   \n",
       "\n",
       "                                                       2020:Q1_2  \\\n",
       "Personal income (millions of dollars, seasonall...  1.901318e+07   \n",
       "Population (midperiod, persons)                     3.312959e+08   \n",
       "Per capita personal income (dollars)                5.739000e+04   \n",
       "Total Sales                                         2.140813e+06   \n",
       "Operating Profit                                    7.968482e+05   \n",
       "\n",
       "                                                       2020:Q1_3  \\\n",
       "Personal income (millions of dollars, seasonall...  1.901318e+07   \n",
       "Population (midperiod, persons)                     3.312959e+08   \n",
       "Per capita personal income (dollars)                5.739000e+04   \n",
       "Total Sales                                         2.474202e+06   \n",
       "Operating Profit                                    8.792688e+05   \n",
       "\n",
       "                                                         2020:Q2    2020:Q2_2  \\\n",
       "Personal income (millions of dollars, seasonall...  2.045938e+07   20459375.8   \n",
       "Population (midperiod, persons)                     3.314482e+08  331448217.0   \n",
       "Per capita personal income (dollars)                6.172700e+04      61727.0   \n",
       "Total Sales                                         3.193081e+06    2164764.0   \n",
       "Operating Profit                                    1.275442e+06     800635.7   \n",
       "\n",
       "                                                       2020:Q2_3  \\\n",
       "Personal income (millions of dollars, seasonall...  2.045938e+07   \n",
       "Population (midperiod, persons)                     3.314482e+08   \n",
       "Per capita personal income (dollars)                6.172700e+04   \n",
       "Total Sales                                         1.084194e+06   \n",
       "Operating Profit                                    3.070462e+05   \n",
       "\n",
       "                                                         2020:Q3  \\\n",
       "Personal income (millions of dollars, seasonall...  1.999781e+07   \n",
       "Population (midperiod, persons)                     3.315966e+08   \n",
       "Per capita personal income (dollars)                6.030800e+04   \n",
       "Total Sales                                         2.182388e+06   \n",
       "Operating Profit                                    6.814776e+05   \n",
       "\n",
       "                                                       2020:Q3_2  \\\n",
       "Personal income (millions of dollars, seasonall...  1.999781e+07   \n",
       "Population (midperiod, persons)                     3.315966e+08   \n",
       "Per capita personal income (dollars)                6.030800e+04   \n",
       "Total Sales                                         2.641630e+06   \n",
       "Operating Profit                                    1.042648e+06   \n",
       "\n",
       "                                                       2020:Q3_3  \\\n",
       "Personal income (millions of dollars, seasonall...  1.999781e+07   \n",
       "Population (midperiod, persons)                     3.315966e+08   \n",
       "Per capita personal income (dollars)                6.030800e+04   \n",
       "Total Sales                                         2.367686e+06   \n",
       "Operating Profit                                    9.759087e+05   \n",
       "\n",
       "                                                         2020:Q4  ...  \\\n",
       "Personal income (millions of dollars, seasonall...  1.977832e+07  ...   \n",
       "Population (midperiod, persons)                     3.317343e+08  ...   \n",
       "Per capita personal income (dollars)                5.962100e+04  ...   \n",
       "Total Sales                                         1.428569e+06  ...   \n",
       "Operating Profit                                    5.823430e+05  ...   \n",
       "\n",
       "                                                      2021:Q4_3      2022:Q1  \\\n",
       "Personal income (millions of dollars, seasonall...   21158043.8   21317801.6   \n",
       "Population (midperiod, persons)                     332336782.0  332502197.0   \n",
       "Per capita personal income (dollars)                    63664.0      64113.0   \n",
       "Total Sales                                          10336130.0          NaN   \n",
       "Operating Profit                                      4078123.3          NaN   \n",
       "\n",
       "                                                      2022:Q1_2    2022:Q1_3  \\\n",
       "Personal income (millions of dollars, seasonall...   21317801.6   21317801.6   \n",
       "Population (midperiod, persons)                     332502197.0  332502197.0   \n",
       "Per capita personal income (dollars)                    64113.0      64113.0   \n",
       "Total Sales                                                 NaN          NaN   \n",
       "Operating Profit                                            NaN          NaN   \n",
       "\n",
       "                                                        2022:Q2    2022:Q2_2  \\\n",
       "Personal income (millions of dollars, seasonall...   21575362.1   21575362.1   \n",
       "Population (midperiod, persons)                     332693300.0  332693300.0   \n",
       "Per capita personal income (dollars)                    64851.0      64851.0   \n",
       "Total Sales                                                 NaN          NaN   \n",
       "Operating Profit                                            NaN          NaN   \n",
       "\n",
       "                                                      2022:Q2_3      2022:Q3  \\\n",
       "Personal income (millions of dollars, seasonall...   21575362.1   21856480.2   \n",
       "Population (midperiod, persons)                     332693300.0  332994420.0   \n",
       "Per capita personal income (dollars)                    64851.0      65636.0   \n",
       "Total Sales                                                 NaN          NaN   \n",
       "Operating Profit                                            NaN          NaN   \n",
       "\n",
       "                                                      2022:Q3_2    2022:Q3_3  \n",
       "Personal income (millions of dollars, seasonall...   21856480.2   21856480.2  \n",
       "Population (midperiod, persons)                     332994420.0  332994420.0  \n",
       "Per capita personal income (dollars)                    65636.0      65636.0  \n",
       "Total Sales                                                 NaN          NaN  \n",
       "Operating Profit                                            NaN          NaN  \n",
       "\n",
       "[5 rows x 33 columns]"
      ]
     },
     "execution_count": 1065,
     "metadata": {},
     "output_type": "execute_result"
    }
   ],
   "source": [
    "#Merge the demographic data with the total sales data\n",
    "monthly_merged_df = pd.concat([demo_df_elongated, total_sales_monthly], axis=0)\n",
    "monthly_merged_df"
   ]
  },
  {
   "attachments": {},
   "cell_type": "markdown",
   "metadata": {},
   "source": [
    "## Random Forest Regressor with month split"
   ]
  },
  {
   "cell_type": "code",
   "execution_count": 1091,
   "metadata": {},
   "outputs": [],
   "source": [
    "monthly_merged_df = monthly_merged_df.transpose()"
   ]
  },
  {
   "cell_type": "code",
   "execution_count": 1211,
   "metadata": {},
   "outputs": [],
   "source": [
    "#Define feature set (which includes all three demographic columns)\n",
    "X = monthly_merged_df.iloc[:-9, :3]\n",
    "\n",
    "#Define target set (which includes the total sales and operating profit columns)\n",
    "y = monthly_merged_df.iloc[:-9, 3:]\n",
    "\n",
    "#Prediction sets\n",
    "X_pred = monthly_merged_df.iloc[-9:, :3]\n",
    "y_pred = monthly_merged_df.iloc[-9:, 3:]"
   ]
  },
  {
   "cell_type": "code",
   "execution_count": 1127,
   "metadata": {},
   "outputs": [],
   "source": [
    "#Split data into training and testing sets\n",
    "X_train, X_test, y_train, y_test = train_test_split(X, y, random_state=31)"
   ]
  },
  {
   "cell_type": "code",
   "execution_count": 1128,
   "metadata": {},
   "outputs": [],
   "source": [
    "#Create a random forest regressor\n",
    "rfr = RandomForestRegressor(n_estimators=100, random_state=0)"
   ]
  },
  {
   "cell_type": "code",
   "execution_count": 1129,
   "metadata": {},
   "outputs": [],
   "source": [
    "#Fit the model to the training data\n",
    "rfr.fit(X_train, y_train)\n",
    "\n",
    "#Make predictions using the testing data\n",
    "rfr_predictions = rfr.predict(X_test)"
   ]
  },
  {
   "cell_type": "code",
   "execution_count": 1130,
   "metadata": {},
   "outputs": [
    {
     "name": "stdout",
     "output_type": "stream",
     "text": [
      "Random Forest Regressor MSE: 824943196061.6461\n",
      "Random Forest Regressor RMSE: 908263.8361520545\n"
     ]
    }
   ],
   "source": [
    "rfr_mse = mean_squared_error(y_test, rfr_predictions)\n",
    "rfr_rmse = rfr_mse**.5\n",
    "\n",
    "print(f'Random Forest Regressor MSE: {rfr_mse}')\n",
    "print(f'Random Forest Regressor RMSE: {rfr_rmse}')"
   ]
  },
  {
   "cell_type": "code",
   "execution_count": 1178,
   "metadata": {},
   "outputs": [
    {
     "data": {
      "text/html": [
       "<div>\n",
       "<style scoped>\n",
       "    .dataframe tbody tr th:only-of-type {\n",
       "        vertical-align: middle;\n",
       "    }\n",
       "\n",
       "    .dataframe tbody tr th {\n",
       "        vertical-align: top;\n",
       "    }\n",
       "\n",
       "    .dataframe thead th {\n",
       "        text-align: right;\n",
       "    }\n",
       "</style>\n",
       "<table border=\"1\" class=\"dataframe\">\n",
       "  <thead>\n",
       "    <tr style=\"text-align: right;\">\n",
       "      <th></th>\n",
       "      <th>p_Total_Sales</th>\n",
       "      <th>p_Operating_Profit</th>\n",
       "      <th>a_Total_Sales</th>\n",
       "      <th>a_Operating_Profit</th>\n",
       "    </tr>\n",
       "  </thead>\n",
       "  <tbody>\n",
       "    <tr>\n",
       "      <th>2020:Q1</th>\n",
       "      <td>2.215932e+06</td>\n",
       "      <td>8.043960e+05</td>\n",
       "      <td>2312746.0</td>\n",
       "      <td>883774.16</td>\n",
       "    </tr>\n",
       "    <tr>\n",
       "      <th>2020:Q2_3</th>\n",
       "      <td>3.066253e+06</td>\n",
       "      <td>1.182672e+06</td>\n",
       "      <td>1084194.0</td>\n",
       "      <td>307046.16</td>\n",
       "    </tr>\n",
       "    <tr>\n",
       "      <th>2020:Q3_2</th>\n",
       "      <td>2.300622e+06</td>\n",
       "      <td>8.526891e+05</td>\n",
       "      <td>2641630.0</td>\n",
       "      <td>1042648.29</td>\n",
       "    </tr>\n",
       "    <tr>\n",
       "      <th>2020:Q4</th>\n",
       "      <td>1.603434e+06</td>\n",
       "      <td>5.879956e+05</td>\n",
       "      <td>1428569.0</td>\n",
       "      <td>582342.96</td>\n",
       "    </tr>\n",
       "    <tr>\n",
       "      <th>2021:Q2</th>\n",
       "      <td>8.395391e+06</td>\n",
       "      <td>3.343996e+06</td>\n",
       "      <td>6498339.0</td>\n",
       "      <td>2644237.72</td>\n",
       "    </tr>\n",
       "    <tr>\n",
       "      <th>2021:Q4_2</th>\n",
       "      <td>8.708044e+06</td>\n",
       "      <td>3.537770e+06</td>\n",
       "      <td>7855390.0</td>\n",
       "      <td>3101992.69</td>\n",
       "    </tr>\n",
       "  </tbody>\n",
       "</table>\n",
       "</div>"
      ],
      "text/plain": [
       "           p_Total_Sales  p_Operating_Profit  a_Total_Sales  \\\n",
       "2020:Q1     2.215932e+06        8.043960e+05      2312746.0   \n",
       "2020:Q2_3   3.066253e+06        1.182672e+06      1084194.0   \n",
       "2020:Q3_2   2.300622e+06        8.526891e+05      2641630.0   \n",
       "2020:Q4     1.603434e+06        5.879956e+05      1428569.0   \n",
       "2021:Q2     8.395391e+06        3.343996e+06      6498339.0   \n",
       "2021:Q4_2   8.708044e+06        3.537770e+06      7855390.0   \n",
       "\n",
       "           a_Operating_Profit  \n",
       "2020:Q1             883774.16  \n",
       "2020:Q2_3           307046.16  \n",
       "2020:Q3_2          1042648.29  \n",
       "2020:Q4             582342.96  \n",
       "2021:Q2            2644237.72  \n",
       "2021:Q4_2          3101992.69  "
      ]
     },
     "execution_count": 1178,
     "metadata": {},
     "output_type": "execute_result"
    }
   ],
   "source": [
    "#A RMSE of 908263 means that the model is off by about $900,000 on average\n",
    "\n",
    "#Create a dataframe of the predictions\n",
    "rfr_df = pd.DataFrame(rfr_predictions, columns=['p_Total_Sales', 'p_Operating_Profit'], index=y_test.index)\n",
    "rfr_df['a_Total_Sales'], rfr_df['a_Operating_Profit'] = y_test['Total Sales'], y_test['Operating Profit']\n",
    "rfr_df = rfr_df.sort_index()\n",
    "rfr_df"
   ]
  },
  {
   "cell_type": "code",
   "execution_count": 1179,
   "metadata": {},
   "outputs": [
    {
     "data": {
      "application/vnd.plotly.v1+json": {
       "config": {
        "plotlyServerURL": "https://plot.ly"
       },
       "data": [
        {
         "hovertemplate": "variable=p_Total_Sales<br>index=%{x}<br>value=%{y}<extra></extra>",
         "legendgroup": "p_Total_Sales",
         "line": {
          "color": "#636efa",
          "dash": "solid"
         },
         "marker": {
          "symbol": "circle"
         },
         "mode": "lines",
         "name": "p_Total_Sales",
         "orientation": "v",
         "showlegend": true,
         "type": "scatter",
         "x": [
          "2020:Q1",
          "2020:Q2_3",
          "2020:Q3_2",
          "2020:Q4",
          "2021:Q2",
          "2021:Q4_2"
         ],
         "xaxis": "x",
         "y": [
          2215932.286,
          3066252.6318333335,
          2300622.1693333336,
          1603433.8631666668,
          8395390.517666668,
          8708044.458333332
         ],
         "yaxis": "y"
        },
        {
         "hovertemplate": "variable=a_Total_Sales<br>index=%{x}<br>value=%{y}<extra></extra>",
         "legendgroup": "a_Total_Sales",
         "line": {
          "color": "#EF553B",
          "dash": "solid"
         },
         "marker": {
          "symbol": "circle"
         },
         "mode": "lines",
         "name": "a_Total_Sales",
         "orientation": "v",
         "showlegend": true,
         "type": "scatter",
         "x": [
          "2020:Q1",
          "2020:Q2_3",
          "2020:Q3_2",
          "2020:Q4",
          "2021:Q2",
          "2021:Q4_2"
         ],
         "xaxis": "x",
         "y": [
          2312746,
          1084194,
          2641630,
          1428569,
          6498339,
          7855390.000000001
         ],
         "yaxis": "y"
        },
        {
         "hovertemplate": "variable=p_Operating_Profit<br>index=%{x}<br>value=%{y}<extra></extra>",
         "legendgroup": "p_Operating_Profit",
         "line": {
          "color": "#00cc96",
          "dash": "solid"
         },
         "marker": {
          "symbol": "circle"
         },
         "mode": "lines",
         "name": "p_Operating_Profit",
         "orientation": "v",
         "showlegend": true,
         "type": "scatter",
         "x": [
          "2020:Q1",
          "2020:Q2_3",
          "2020:Q3_2",
          "2020:Q4",
          "2021:Q2",
          "2021:Q4_2"
         ],
         "xaxis": "x",
         "y": [
          804396.0385642854,
          1182671.852011668,
          852689.1448699997,
          587995.5570166666,
          3343995.978169997,
          3537769.7010166687
         ],
         "yaxis": "y"
        },
        {
         "hovertemplate": "variable=a_Operating_Profit<br>index=%{x}<br>value=%{y}<extra></extra>",
         "legendgroup": "a_Operating_Profit",
         "line": {
          "color": "#ab63fa",
          "dash": "solid"
         },
         "marker": {
          "symbol": "circle"
         },
         "mode": "lines",
         "name": "a_Operating_Profit",
         "orientation": "v",
         "showlegend": true,
         "type": "scatter",
         "x": [
          "2020:Q1",
          "2020:Q2_3",
          "2020:Q3_2",
          "2020:Q4",
          "2021:Q2",
          "2021:Q4_2"
         ],
         "xaxis": "x",
         "y": [
          883774.16,
          307046.16,
          1042648.29,
          582342.96,
          2644237.72,
          3101992.6900000004
         ],
         "yaxis": "y"
        }
       ],
       "layout": {
        "legend": {
         "title": {
          "text": "variable"
         },
         "tracegroupgap": 0
        },
        "template": {
         "data": {
          "bar": [
           {
            "error_x": {
             "color": "#2a3f5f"
            },
            "error_y": {
             "color": "#2a3f5f"
            },
            "marker": {
             "line": {
              "color": "#E5ECF6",
              "width": 0.5
             },
             "pattern": {
              "fillmode": "overlay",
              "size": 10,
              "solidity": 0.2
             }
            },
            "type": "bar"
           }
          ],
          "barpolar": [
           {
            "marker": {
             "line": {
              "color": "#E5ECF6",
              "width": 0.5
             },
             "pattern": {
              "fillmode": "overlay",
              "size": 10,
              "solidity": 0.2
             }
            },
            "type": "barpolar"
           }
          ],
          "carpet": [
           {
            "aaxis": {
             "endlinecolor": "#2a3f5f",
             "gridcolor": "white",
             "linecolor": "white",
             "minorgridcolor": "white",
             "startlinecolor": "#2a3f5f"
            },
            "baxis": {
             "endlinecolor": "#2a3f5f",
             "gridcolor": "white",
             "linecolor": "white",
             "minorgridcolor": "white",
             "startlinecolor": "#2a3f5f"
            },
            "type": "carpet"
           }
          ],
          "choropleth": [
           {
            "colorbar": {
             "outlinewidth": 0,
             "ticks": ""
            },
            "type": "choropleth"
           }
          ],
          "contour": [
           {
            "colorbar": {
             "outlinewidth": 0,
             "ticks": ""
            },
            "colorscale": [
             [
              0,
              "#0d0887"
             ],
             [
              0.1111111111111111,
              "#46039f"
             ],
             [
              0.2222222222222222,
              "#7201a8"
             ],
             [
              0.3333333333333333,
              "#9c179e"
             ],
             [
              0.4444444444444444,
              "#bd3786"
             ],
             [
              0.5555555555555556,
              "#d8576b"
             ],
             [
              0.6666666666666666,
              "#ed7953"
             ],
             [
              0.7777777777777778,
              "#fb9f3a"
             ],
             [
              0.8888888888888888,
              "#fdca26"
             ],
             [
              1,
              "#f0f921"
             ]
            ],
            "type": "contour"
           }
          ],
          "contourcarpet": [
           {
            "colorbar": {
             "outlinewidth": 0,
             "ticks": ""
            },
            "type": "contourcarpet"
           }
          ],
          "heatmap": [
           {
            "colorbar": {
             "outlinewidth": 0,
             "ticks": ""
            },
            "colorscale": [
             [
              0,
              "#0d0887"
             ],
             [
              0.1111111111111111,
              "#46039f"
             ],
             [
              0.2222222222222222,
              "#7201a8"
             ],
             [
              0.3333333333333333,
              "#9c179e"
             ],
             [
              0.4444444444444444,
              "#bd3786"
             ],
             [
              0.5555555555555556,
              "#d8576b"
             ],
             [
              0.6666666666666666,
              "#ed7953"
             ],
             [
              0.7777777777777778,
              "#fb9f3a"
             ],
             [
              0.8888888888888888,
              "#fdca26"
             ],
             [
              1,
              "#f0f921"
             ]
            ],
            "type": "heatmap"
           }
          ],
          "heatmapgl": [
           {
            "colorbar": {
             "outlinewidth": 0,
             "ticks": ""
            },
            "colorscale": [
             [
              0,
              "#0d0887"
             ],
             [
              0.1111111111111111,
              "#46039f"
             ],
             [
              0.2222222222222222,
              "#7201a8"
             ],
             [
              0.3333333333333333,
              "#9c179e"
             ],
             [
              0.4444444444444444,
              "#bd3786"
             ],
             [
              0.5555555555555556,
              "#d8576b"
             ],
             [
              0.6666666666666666,
              "#ed7953"
             ],
             [
              0.7777777777777778,
              "#fb9f3a"
             ],
             [
              0.8888888888888888,
              "#fdca26"
             ],
             [
              1,
              "#f0f921"
             ]
            ],
            "type": "heatmapgl"
           }
          ],
          "histogram": [
           {
            "marker": {
             "pattern": {
              "fillmode": "overlay",
              "size": 10,
              "solidity": 0.2
             }
            },
            "type": "histogram"
           }
          ],
          "histogram2d": [
           {
            "colorbar": {
             "outlinewidth": 0,
             "ticks": ""
            },
            "colorscale": [
             [
              0,
              "#0d0887"
             ],
             [
              0.1111111111111111,
              "#46039f"
             ],
             [
              0.2222222222222222,
              "#7201a8"
             ],
             [
              0.3333333333333333,
              "#9c179e"
             ],
             [
              0.4444444444444444,
              "#bd3786"
             ],
             [
              0.5555555555555556,
              "#d8576b"
             ],
             [
              0.6666666666666666,
              "#ed7953"
             ],
             [
              0.7777777777777778,
              "#fb9f3a"
             ],
             [
              0.8888888888888888,
              "#fdca26"
             ],
             [
              1,
              "#f0f921"
             ]
            ],
            "type": "histogram2d"
           }
          ],
          "histogram2dcontour": [
           {
            "colorbar": {
             "outlinewidth": 0,
             "ticks": ""
            },
            "colorscale": [
             [
              0,
              "#0d0887"
             ],
             [
              0.1111111111111111,
              "#46039f"
             ],
             [
              0.2222222222222222,
              "#7201a8"
             ],
             [
              0.3333333333333333,
              "#9c179e"
             ],
             [
              0.4444444444444444,
              "#bd3786"
             ],
             [
              0.5555555555555556,
              "#d8576b"
             ],
             [
              0.6666666666666666,
              "#ed7953"
             ],
             [
              0.7777777777777778,
              "#fb9f3a"
             ],
             [
              0.8888888888888888,
              "#fdca26"
             ],
             [
              1,
              "#f0f921"
             ]
            ],
            "type": "histogram2dcontour"
           }
          ],
          "mesh3d": [
           {
            "colorbar": {
             "outlinewidth": 0,
             "ticks": ""
            },
            "type": "mesh3d"
           }
          ],
          "parcoords": [
           {
            "line": {
             "colorbar": {
              "outlinewidth": 0,
              "ticks": ""
             }
            },
            "type": "parcoords"
           }
          ],
          "pie": [
           {
            "automargin": true,
            "type": "pie"
           }
          ],
          "scatter": [
           {
            "fillpattern": {
             "fillmode": "overlay",
             "size": 10,
             "solidity": 0.2
            },
            "type": "scatter"
           }
          ],
          "scatter3d": [
           {
            "line": {
             "colorbar": {
              "outlinewidth": 0,
              "ticks": ""
             }
            },
            "marker": {
             "colorbar": {
              "outlinewidth": 0,
              "ticks": ""
             }
            },
            "type": "scatter3d"
           }
          ],
          "scattercarpet": [
           {
            "marker": {
             "colorbar": {
              "outlinewidth": 0,
              "ticks": ""
             }
            },
            "type": "scattercarpet"
           }
          ],
          "scattergeo": [
           {
            "marker": {
             "colorbar": {
              "outlinewidth": 0,
              "ticks": ""
             }
            },
            "type": "scattergeo"
           }
          ],
          "scattergl": [
           {
            "marker": {
             "colorbar": {
              "outlinewidth": 0,
              "ticks": ""
             }
            },
            "type": "scattergl"
           }
          ],
          "scattermapbox": [
           {
            "marker": {
             "colorbar": {
              "outlinewidth": 0,
              "ticks": ""
             }
            },
            "type": "scattermapbox"
           }
          ],
          "scatterpolar": [
           {
            "marker": {
             "colorbar": {
              "outlinewidth": 0,
              "ticks": ""
             }
            },
            "type": "scatterpolar"
           }
          ],
          "scatterpolargl": [
           {
            "marker": {
             "colorbar": {
              "outlinewidth": 0,
              "ticks": ""
             }
            },
            "type": "scatterpolargl"
           }
          ],
          "scatterternary": [
           {
            "marker": {
             "colorbar": {
              "outlinewidth": 0,
              "ticks": ""
             }
            },
            "type": "scatterternary"
           }
          ],
          "surface": [
           {
            "colorbar": {
             "outlinewidth": 0,
             "ticks": ""
            },
            "colorscale": [
             [
              0,
              "#0d0887"
             ],
             [
              0.1111111111111111,
              "#46039f"
             ],
             [
              0.2222222222222222,
              "#7201a8"
             ],
             [
              0.3333333333333333,
              "#9c179e"
             ],
             [
              0.4444444444444444,
              "#bd3786"
             ],
             [
              0.5555555555555556,
              "#d8576b"
             ],
             [
              0.6666666666666666,
              "#ed7953"
             ],
             [
              0.7777777777777778,
              "#fb9f3a"
             ],
             [
              0.8888888888888888,
              "#fdca26"
             ],
             [
              1,
              "#f0f921"
             ]
            ],
            "type": "surface"
           }
          ],
          "table": [
           {
            "cells": {
             "fill": {
              "color": "#EBF0F8"
             },
             "line": {
              "color": "white"
             }
            },
            "header": {
             "fill": {
              "color": "#C8D4E3"
             },
             "line": {
              "color": "white"
             }
            },
            "type": "table"
           }
          ]
         },
         "layout": {
          "annotationdefaults": {
           "arrowcolor": "#2a3f5f",
           "arrowhead": 0,
           "arrowwidth": 1
          },
          "autotypenumbers": "strict",
          "coloraxis": {
           "colorbar": {
            "outlinewidth": 0,
            "ticks": ""
           }
          },
          "colorscale": {
           "diverging": [
            [
             0,
             "#8e0152"
            ],
            [
             0.1,
             "#c51b7d"
            ],
            [
             0.2,
             "#de77ae"
            ],
            [
             0.3,
             "#f1b6da"
            ],
            [
             0.4,
             "#fde0ef"
            ],
            [
             0.5,
             "#f7f7f7"
            ],
            [
             0.6,
             "#e6f5d0"
            ],
            [
             0.7,
             "#b8e186"
            ],
            [
             0.8,
             "#7fbc41"
            ],
            [
             0.9,
             "#4d9221"
            ],
            [
             1,
             "#276419"
            ]
           ],
           "sequential": [
            [
             0,
             "#0d0887"
            ],
            [
             0.1111111111111111,
             "#46039f"
            ],
            [
             0.2222222222222222,
             "#7201a8"
            ],
            [
             0.3333333333333333,
             "#9c179e"
            ],
            [
             0.4444444444444444,
             "#bd3786"
            ],
            [
             0.5555555555555556,
             "#d8576b"
            ],
            [
             0.6666666666666666,
             "#ed7953"
            ],
            [
             0.7777777777777778,
             "#fb9f3a"
            ],
            [
             0.8888888888888888,
             "#fdca26"
            ],
            [
             1,
             "#f0f921"
            ]
           ],
           "sequentialminus": [
            [
             0,
             "#0d0887"
            ],
            [
             0.1111111111111111,
             "#46039f"
            ],
            [
             0.2222222222222222,
             "#7201a8"
            ],
            [
             0.3333333333333333,
             "#9c179e"
            ],
            [
             0.4444444444444444,
             "#bd3786"
            ],
            [
             0.5555555555555556,
             "#d8576b"
            ],
            [
             0.6666666666666666,
             "#ed7953"
            ],
            [
             0.7777777777777778,
             "#fb9f3a"
            ],
            [
             0.8888888888888888,
             "#fdca26"
            ],
            [
             1,
             "#f0f921"
            ]
           ]
          },
          "colorway": [
           "#636efa",
           "#EF553B",
           "#00cc96",
           "#ab63fa",
           "#FFA15A",
           "#19d3f3",
           "#FF6692",
           "#B6E880",
           "#FF97FF",
           "#FECB52"
          ],
          "font": {
           "color": "#2a3f5f"
          },
          "geo": {
           "bgcolor": "white",
           "lakecolor": "white",
           "landcolor": "#E5ECF6",
           "showlakes": true,
           "showland": true,
           "subunitcolor": "white"
          },
          "hoverlabel": {
           "align": "left"
          },
          "hovermode": "closest",
          "mapbox": {
           "style": "light"
          },
          "paper_bgcolor": "white",
          "plot_bgcolor": "#E5ECF6",
          "polar": {
           "angularaxis": {
            "gridcolor": "white",
            "linecolor": "white",
            "ticks": ""
           },
           "bgcolor": "#E5ECF6",
           "radialaxis": {
            "gridcolor": "white",
            "linecolor": "white",
            "ticks": ""
           }
          },
          "scene": {
           "xaxis": {
            "backgroundcolor": "#E5ECF6",
            "gridcolor": "white",
            "gridwidth": 2,
            "linecolor": "white",
            "showbackground": true,
            "ticks": "",
            "zerolinecolor": "white"
           },
           "yaxis": {
            "backgroundcolor": "#E5ECF6",
            "gridcolor": "white",
            "gridwidth": 2,
            "linecolor": "white",
            "showbackground": true,
            "ticks": "",
            "zerolinecolor": "white"
           },
           "zaxis": {
            "backgroundcolor": "#E5ECF6",
            "gridcolor": "white",
            "gridwidth": 2,
            "linecolor": "white",
            "showbackground": true,
            "ticks": "",
            "zerolinecolor": "white"
           }
          },
          "shapedefaults": {
           "line": {
            "color": "#2a3f5f"
           }
          },
          "ternary": {
           "aaxis": {
            "gridcolor": "white",
            "linecolor": "white",
            "ticks": ""
           },
           "baxis": {
            "gridcolor": "white",
            "linecolor": "white",
            "ticks": ""
           },
           "bgcolor": "#E5ECF6",
           "caxis": {
            "gridcolor": "white",
            "linecolor": "white",
            "ticks": ""
           }
          },
          "title": {
           "x": 0.05
          },
          "xaxis": {
           "automargin": true,
           "gridcolor": "white",
           "linecolor": "white",
           "ticks": "",
           "title": {
            "standoff": 15
           },
           "zerolinecolor": "white",
           "zerolinewidth": 2
          },
          "yaxis": {
           "automargin": true,
           "gridcolor": "white",
           "linecolor": "white",
           "ticks": "",
           "title": {
            "standoff": 15
           },
           "zerolinecolor": "white",
           "zerolinewidth": 2
          }
         }
        },
        "title": {
         "text": "Total Sales Predictions vs. Actual Values"
        },
        "xaxis": {
         "anchor": "y",
         "domain": [
          0,
          1
         ],
         "title": {
          "text": "index"
         }
        },
        "yaxis": {
         "anchor": "x",
         "domain": [
          0,
          1
         ],
         "title": {
          "text": "value"
         }
        }
       }
      }
     },
     "metadata": {},
     "output_type": "display_data"
    }
   ],
   "source": [
    "#Plot the predictions vs. the actual values\n",
    "px.line(rfr_df, x=rfr_df.index, y=['p_Total_Sales', 'a_Total_Sales', 'p_Operating_Profit', 'a_Operating_Profit'], title='Total Sales Predictions vs. Actual Values')"
   ]
  },
  {
   "cell_type": "code",
   "execution_count": 1180,
   "metadata": {},
   "outputs": [
    {
     "data": {
      "text/plain": [
       "GridSearchCV(cv=5, estimator=RandomForestRegressor(), n_jobs=4,\n",
       "             param_grid={'max_depth': [None, 5, 10, 15, 20],\n",
       "                         'max_features': ['auto', 'sqrt', 'log2'],\n",
       "                         'min_samples_leaf': [1, 2, 3, 4, 5],\n",
       "                         'min_samples_split': [2, 4, 6, 8, 10],\n",
       "                         'n_estimators': [50, 100, 200, 300, 400]})"
      ]
     },
     "execution_count": 1180,
     "metadata": {},
     "output_type": "execute_result"
    }
   ],
   "source": [
    "#Find optimal parameters using GridSearchCV\n",
    "grid = {'n_estimators': [50, 100, 200, 300, 400], \n",
    "        'max_depth': [None, 5, 10, 15, 20], \n",
    "        'min_samples_split': [2, 4, 6, 8, 10], \n",
    "        'min_samples_leaf': [1, 2, 3, 4, 5], \n",
    "        'max_features': ['auto', 'sqrt', 'log2']}\n",
    "\n",
    "#Grid search function\n",
    "CV_rfr = GridSearchCV(estimator=RandomForestRegressor(), param_grid=grid, cv=5, n_jobs=4)\n",
    "CV_rfr.fit(X_train, y_train)"
   ]
  },
  {
   "cell_type": "code",
   "execution_count": 1181,
   "metadata": {},
   "outputs": [
    {
     "data": {
      "text/plain": [
       "{'max_depth': 5,\n",
       " 'max_features': 'auto',\n",
       " 'min_samples_leaf': 1,\n",
       " 'min_samples_split': 4,\n",
       " 'n_estimators': 50}"
      ]
     },
     "execution_count": 1181,
     "metadata": {},
     "output_type": "execute_result"
    }
   ],
   "source": [
    "CV_rfr.best_params_"
   ]
  },
  {
   "cell_type": "code",
   "execution_count": 1205,
   "metadata": {},
   "outputs": [],
   "source": [
    "#Create a random forest regressor\n",
    "opt_rfr = RandomForestRegressor(max_depth=5, max_features= 'sqrt', min_samples_leaf= 1, min_samples_split= 4, n_estimators= 50, random_state=0)"
   ]
  },
  {
   "cell_type": "code",
   "execution_count": 1218,
   "metadata": {},
   "outputs": [],
   "source": [
    "#Fit the model to the training data\n",
    "opt_rfr.fit(X_train, y_train)\n",
    "\n",
    "#Make predictions using the testing data\n",
    "opt_rfr_predictions = opt_rfr.predict(X_test)"
   ]
  },
  {
   "cell_type": "code",
   "execution_count": 1207,
   "metadata": {},
   "outputs": [
    {
     "name": "stdout",
     "output_type": "stream",
     "text": [
      "Random Forest Regressor MSE: 592093138632.1812\n",
      "Random Forest Regressor RMSE: 769475.8856729567\n"
     ]
    }
   ],
   "source": [
    "opt_rfr_mse = mean_squared_error(y_test, opt_rfr_predictions)\n",
    "opt_rfr_rmse = opt_rfr_mse**.5\n",
    "\n",
    "print(f'Random Forest Regressor MSE: {opt_rfr_mse}')\n",
    "print(f'Random Forest Regressor RMSE: {opt_rfr_rmse}')"
   ]
  },
  {
   "cell_type": "code",
   "execution_count": 1208,
   "metadata": {},
   "outputs": [
    {
     "data": {
      "text/html": [
       "<div>\n",
       "<style scoped>\n",
       "    .dataframe tbody tr th:only-of-type {\n",
       "        vertical-align: middle;\n",
       "    }\n",
       "\n",
       "    .dataframe tbody tr th {\n",
       "        vertical-align: top;\n",
       "    }\n",
       "\n",
       "    .dataframe thead th {\n",
       "        text-align: right;\n",
       "    }\n",
       "</style>\n",
       "<table border=\"1\" class=\"dataframe\">\n",
       "  <thead>\n",
       "    <tr style=\"text-align: right;\">\n",
       "      <th></th>\n",
       "      <th>p_Total_Sales</th>\n",
       "      <th>p_Operating_Profit</th>\n",
       "      <th>a_Total_Sales</th>\n",
       "      <th>a_Operating_Profit</th>\n",
       "    </tr>\n",
       "  </thead>\n",
       "  <tbody>\n",
       "    <tr>\n",
       "      <th>2020:Q1</th>\n",
       "      <td>2.038694e+06</td>\n",
       "      <td>7.402727e+05</td>\n",
       "      <td>2312746.0</td>\n",
       "      <td>883774.16</td>\n",
       "    </tr>\n",
       "    <tr>\n",
       "      <th>2020:Q2_3</th>\n",
       "      <td>2.828291e+06</td>\n",
       "      <td>1.092221e+06</td>\n",
       "      <td>1084194.0</td>\n",
       "      <td>307046.16</td>\n",
       "    </tr>\n",
       "    <tr>\n",
       "      <th>2020:Q3_2</th>\n",
       "      <td>2.183755e+06</td>\n",
       "      <td>8.078539e+05</td>\n",
       "      <td>2641630.0</td>\n",
       "      <td>1042648.29</td>\n",
       "    </tr>\n",
       "    <tr>\n",
       "      <th>2020:Q4</th>\n",
       "      <td>1.778379e+06</td>\n",
       "      <td>6.435760e+05</td>\n",
       "      <td>1428569.0</td>\n",
       "      <td>582342.96</td>\n",
       "    </tr>\n",
       "    <tr>\n",
       "      <th>2021:Q2</th>\n",
       "      <td>7.905664e+06</td>\n",
       "      <td>3.160981e+06</td>\n",
       "      <td>6498339.0</td>\n",
       "      <td>2644237.72</td>\n",
       "    </tr>\n",
       "    <tr>\n",
       "      <th>2021:Q4_2</th>\n",
       "      <td>8.604739e+06</td>\n",
       "      <td>3.490633e+06</td>\n",
       "      <td>7855390.0</td>\n",
       "      <td>3101992.69</td>\n",
       "    </tr>\n",
       "  </tbody>\n",
       "</table>\n",
       "</div>"
      ],
      "text/plain": [
       "           p_Total_Sales  p_Operating_Profit  a_Total_Sales  \\\n",
       "2020:Q1     2.038694e+06        7.402727e+05      2312746.0   \n",
       "2020:Q2_3   2.828291e+06        1.092221e+06      1084194.0   \n",
       "2020:Q3_2   2.183755e+06        8.078539e+05      2641630.0   \n",
       "2020:Q4     1.778379e+06        6.435760e+05      1428569.0   \n",
       "2021:Q2     7.905664e+06        3.160981e+06      6498339.0   \n",
       "2021:Q4_2   8.604739e+06        3.490633e+06      7855390.0   \n",
       "\n",
       "           a_Operating_Profit  \n",
       "2020:Q1             883774.16  \n",
       "2020:Q2_3           307046.16  \n",
       "2020:Q3_2          1042648.29  \n",
       "2020:Q4             582342.96  \n",
       "2021:Q2            2644237.72  \n",
       "2021:Q4_2          3101992.69  "
      ]
     },
     "execution_count": 1208,
     "metadata": {},
     "output_type": "execute_result"
    }
   ],
   "source": [
    "#A RMSE of 3708158 means that the model is off by about $3.7 million on average\n",
    "\n",
    "#Create a dataframe of the predictions\n",
    "opt_rfr_df = pd.DataFrame(opt_rfr_predictions, columns=['p_Total_Sales', 'p_Operating_Profit'], index=y_test.index)\n",
    "opt_rfr_df['a_Total_Sales'], opt_rfr_df['a_Operating_Profit'] = y_test['Total Sales'], y_test['Operating Profit']\n",
    "opt_rfr_df = opt_rfr_df.sort_index()\n",
    "opt_rfr_df"
   ]
  },
  {
   "cell_type": "code",
   "execution_count": 1209,
   "metadata": {},
   "outputs": [
    {
     "data": {
      "application/vnd.plotly.v1+json": {
       "config": {
        "plotlyServerURL": "https://plot.ly"
       },
       "data": [
        {
         "hovertemplate": "variable=p_Total_Sales<br>index=%{x}<br>value=%{y}<extra></extra>",
         "legendgroup": "p_Total_Sales",
         "line": {
          "color": "#636efa",
          "dash": "solid"
         },
         "marker": {
          "symbol": "circle"
         },
         "mode": "lines",
         "name": "p_Total_Sales",
         "orientation": "v",
         "showlegend": true,
         "type": "scatter",
         "x": [
          "2020:Q1",
          "2020:Q2_3",
          "2020:Q3_2",
          "2020:Q4",
          "2021:Q2",
          "2021:Q4_2"
         ],
         "xaxis": "x",
         "y": [
          2038694.3993333331,
          2828291.3108571433,
          2183754.9375238093,
          1778379.271523809,
          7905663.599666664,
          8604739.160999998
         ],
         "yaxis": "y"
        },
        {
         "hovertemplate": "variable=a_Total_Sales<br>index=%{x}<br>value=%{y}<extra></extra>",
         "legendgroup": "a_Total_Sales",
         "line": {
          "color": "#EF553B",
          "dash": "solid"
         },
         "marker": {
          "symbol": "circle"
         },
         "mode": "lines",
         "name": "a_Total_Sales",
         "orientation": "v",
         "showlegend": true,
         "type": "scatter",
         "x": [
          "2020:Q1",
          "2020:Q2_3",
          "2020:Q3_2",
          "2020:Q4",
          "2021:Q2",
          "2021:Q4_2"
         ],
         "xaxis": "x",
         "y": [
          2312746,
          1084194,
          2641630,
          1428569,
          6498339,
          7855390.000000001
         ],
         "yaxis": "y"
        },
        {
         "hovertemplate": "variable=p_Operating_Profit<br>index=%{x}<br>value=%{y}<extra></extra>",
         "legendgroup": "p_Operating_Profit",
         "line": {
          "color": "#00cc96",
          "dash": "solid"
         },
         "marker": {
          "symbol": "circle"
         },
         "mode": "lines",
         "name": "p_Operating_Profit",
         "orientation": "v",
         "showlegend": true,
         "type": "scatter",
         "x": [
          "2020:Q1",
          "2020:Q2_3",
          "2020:Q3_2",
          "2020:Q4",
          "2021:Q2",
          "2021:Q4_2"
         ],
         "xaxis": "x",
         "y": [
          740272.6880785716,
          1092220.5400847625,
          807853.8699680954,
          643576.0109780951,
          3160980.991829047,
          3490633.226259047
         ],
         "yaxis": "y"
        },
        {
         "hovertemplate": "variable=a_Operating_Profit<br>index=%{x}<br>value=%{y}<extra></extra>",
         "legendgroup": "a_Operating_Profit",
         "line": {
          "color": "#ab63fa",
          "dash": "solid"
         },
         "marker": {
          "symbol": "circle"
         },
         "mode": "lines",
         "name": "a_Operating_Profit",
         "orientation": "v",
         "showlegend": true,
         "type": "scatter",
         "x": [
          "2020:Q1",
          "2020:Q2_3",
          "2020:Q3_2",
          "2020:Q4",
          "2021:Q2",
          "2021:Q4_2"
         ],
         "xaxis": "x",
         "y": [
          883774.16,
          307046.16,
          1042648.29,
          582342.96,
          2644237.72,
          3101992.6900000004
         ],
         "yaxis": "y"
        }
       ],
       "layout": {
        "legend": {
         "title": {
          "text": "variable"
         },
         "tracegroupgap": 0
        },
        "template": {
         "data": {
          "bar": [
           {
            "error_x": {
             "color": "#2a3f5f"
            },
            "error_y": {
             "color": "#2a3f5f"
            },
            "marker": {
             "line": {
              "color": "#E5ECF6",
              "width": 0.5
             },
             "pattern": {
              "fillmode": "overlay",
              "size": 10,
              "solidity": 0.2
             }
            },
            "type": "bar"
           }
          ],
          "barpolar": [
           {
            "marker": {
             "line": {
              "color": "#E5ECF6",
              "width": 0.5
             },
             "pattern": {
              "fillmode": "overlay",
              "size": 10,
              "solidity": 0.2
             }
            },
            "type": "barpolar"
           }
          ],
          "carpet": [
           {
            "aaxis": {
             "endlinecolor": "#2a3f5f",
             "gridcolor": "white",
             "linecolor": "white",
             "minorgridcolor": "white",
             "startlinecolor": "#2a3f5f"
            },
            "baxis": {
             "endlinecolor": "#2a3f5f",
             "gridcolor": "white",
             "linecolor": "white",
             "minorgridcolor": "white",
             "startlinecolor": "#2a3f5f"
            },
            "type": "carpet"
           }
          ],
          "choropleth": [
           {
            "colorbar": {
             "outlinewidth": 0,
             "ticks": ""
            },
            "type": "choropleth"
           }
          ],
          "contour": [
           {
            "colorbar": {
             "outlinewidth": 0,
             "ticks": ""
            },
            "colorscale": [
             [
              0,
              "#0d0887"
             ],
             [
              0.1111111111111111,
              "#46039f"
             ],
             [
              0.2222222222222222,
              "#7201a8"
             ],
             [
              0.3333333333333333,
              "#9c179e"
             ],
             [
              0.4444444444444444,
              "#bd3786"
             ],
             [
              0.5555555555555556,
              "#d8576b"
             ],
             [
              0.6666666666666666,
              "#ed7953"
             ],
             [
              0.7777777777777778,
              "#fb9f3a"
             ],
             [
              0.8888888888888888,
              "#fdca26"
             ],
             [
              1,
              "#f0f921"
             ]
            ],
            "type": "contour"
           }
          ],
          "contourcarpet": [
           {
            "colorbar": {
             "outlinewidth": 0,
             "ticks": ""
            },
            "type": "contourcarpet"
           }
          ],
          "heatmap": [
           {
            "colorbar": {
             "outlinewidth": 0,
             "ticks": ""
            },
            "colorscale": [
             [
              0,
              "#0d0887"
             ],
             [
              0.1111111111111111,
              "#46039f"
             ],
             [
              0.2222222222222222,
              "#7201a8"
             ],
             [
              0.3333333333333333,
              "#9c179e"
             ],
             [
              0.4444444444444444,
              "#bd3786"
             ],
             [
              0.5555555555555556,
              "#d8576b"
             ],
             [
              0.6666666666666666,
              "#ed7953"
             ],
             [
              0.7777777777777778,
              "#fb9f3a"
             ],
             [
              0.8888888888888888,
              "#fdca26"
             ],
             [
              1,
              "#f0f921"
             ]
            ],
            "type": "heatmap"
           }
          ],
          "heatmapgl": [
           {
            "colorbar": {
             "outlinewidth": 0,
             "ticks": ""
            },
            "colorscale": [
             [
              0,
              "#0d0887"
             ],
             [
              0.1111111111111111,
              "#46039f"
             ],
             [
              0.2222222222222222,
              "#7201a8"
             ],
             [
              0.3333333333333333,
              "#9c179e"
             ],
             [
              0.4444444444444444,
              "#bd3786"
             ],
             [
              0.5555555555555556,
              "#d8576b"
             ],
             [
              0.6666666666666666,
              "#ed7953"
             ],
             [
              0.7777777777777778,
              "#fb9f3a"
             ],
             [
              0.8888888888888888,
              "#fdca26"
             ],
             [
              1,
              "#f0f921"
             ]
            ],
            "type": "heatmapgl"
           }
          ],
          "histogram": [
           {
            "marker": {
             "pattern": {
              "fillmode": "overlay",
              "size": 10,
              "solidity": 0.2
             }
            },
            "type": "histogram"
           }
          ],
          "histogram2d": [
           {
            "colorbar": {
             "outlinewidth": 0,
             "ticks": ""
            },
            "colorscale": [
             [
              0,
              "#0d0887"
             ],
             [
              0.1111111111111111,
              "#46039f"
             ],
             [
              0.2222222222222222,
              "#7201a8"
             ],
             [
              0.3333333333333333,
              "#9c179e"
             ],
             [
              0.4444444444444444,
              "#bd3786"
             ],
             [
              0.5555555555555556,
              "#d8576b"
             ],
             [
              0.6666666666666666,
              "#ed7953"
             ],
             [
              0.7777777777777778,
              "#fb9f3a"
             ],
             [
              0.8888888888888888,
              "#fdca26"
             ],
             [
              1,
              "#f0f921"
             ]
            ],
            "type": "histogram2d"
           }
          ],
          "histogram2dcontour": [
           {
            "colorbar": {
             "outlinewidth": 0,
             "ticks": ""
            },
            "colorscale": [
             [
              0,
              "#0d0887"
             ],
             [
              0.1111111111111111,
              "#46039f"
             ],
             [
              0.2222222222222222,
              "#7201a8"
             ],
             [
              0.3333333333333333,
              "#9c179e"
             ],
             [
              0.4444444444444444,
              "#bd3786"
             ],
             [
              0.5555555555555556,
              "#d8576b"
             ],
             [
              0.6666666666666666,
              "#ed7953"
             ],
             [
              0.7777777777777778,
              "#fb9f3a"
             ],
             [
              0.8888888888888888,
              "#fdca26"
             ],
             [
              1,
              "#f0f921"
             ]
            ],
            "type": "histogram2dcontour"
           }
          ],
          "mesh3d": [
           {
            "colorbar": {
             "outlinewidth": 0,
             "ticks": ""
            },
            "type": "mesh3d"
           }
          ],
          "parcoords": [
           {
            "line": {
             "colorbar": {
              "outlinewidth": 0,
              "ticks": ""
             }
            },
            "type": "parcoords"
           }
          ],
          "pie": [
           {
            "automargin": true,
            "type": "pie"
           }
          ],
          "scatter": [
           {
            "fillpattern": {
             "fillmode": "overlay",
             "size": 10,
             "solidity": 0.2
            },
            "type": "scatter"
           }
          ],
          "scatter3d": [
           {
            "line": {
             "colorbar": {
              "outlinewidth": 0,
              "ticks": ""
             }
            },
            "marker": {
             "colorbar": {
              "outlinewidth": 0,
              "ticks": ""
             }
            },
            "type": "scatter3d"
           }
          ],
          "scattercarpet": [
           {
            "marker": {
             "colorbar": {
              "outlinewidth": 0,
              "ticks": ""
             }
            },
            "type": "scattercarpet"
           }
          ],
          "scattergeo": [
           {
            "marker": {
             "colorbar": {
              "outlinewidth": 0,
              "ticks": ""
             }
            },
            "type": "scattergeo"
           }
          ],
          "scattergl": [
           {
            "marker": {
             "colorbar": {
              "outlinewidth": 0,
              "ticks": ""
             }
            },
            "type": "scattergl"
           }
          ],
          "scattermapbox": [
           {
            "marker": {
             "colorbar": {
              "outlinewidth": 0,
              "ticks": ""
             }
            },
            "type": "scattermapbox"
           }
          ],
          "scatterpolar": [
           {
            "marker": {
             "colorbar": {
              "outlinewidth": 0,
              "ticks": ""
             }
            },
            "type": "scatterpolar"
           }
          ],
          "scatterpolargl": [
           {
            "marker": {
             "colorbar": {
              "outlinewidth": 0,
              "ticks": ""
             }
            },
            "type": "scatterpolargl"
           }
          ],
          "scatterternary": [
           {
            "marker": {
             "colorbar": {
              "outlinewidth": 0,
              "ticks": ""
             }
            },
            "type": "scatterternary"
           }
          ],
          "surface": [
           {
            "colorbar": {
             "outlinewidth": 0,
             "ticks": ""
            },
            "colorscale": [
             [
              0,
              "#0d0887"
             ],
             [
              0.1111111111111111,
              "#46039f"
             ],
             [
              0.2222222222222222,
              "#7201a8"
             ],
             [
              0.3333333333333333,
              "#9c179e"
             ],
             [
              0.4444444444444444,
              "#bd3786"
             ],
             [
              0.5555555555555556,
              "#d8576b"
             ],
             [
              0.6666666666666666,
              "#ed7953"
             ],
             [
              0.7777777777777778,
              "#fb9f3a"
             ],
             [
              0.8888888888888888,
              "#fdca26"
             ],
             [
              1,
              "#f0f921"
             ]
            ],
            "type": "surface"
           }
          ],
          "table": [
           {
            "cells": {
             "fill": {
              "color": "#EBF0F8"
             },
             "line": {
              "color": "white"
             }
            },
            "header": {
             "fill": {
              "color": "#C8D4E3"
             },
             "line": {
              "color": "white"
             }
            },
            "type": "table"
           }
          ]
         },
         "layout": {
          "annotationdefaults": {
           "arrowcolor": "#2a3f5f",
           "arrowhead": 0,
           "arrowwidth": 1
          },
          "autotypenumbers": "strict",
          "coloraxis": {
           "colorbar": {
            "outlinewidth": 0,
            "ticks": ""
           }
          },
          "colorscale": {
           "diverging": [
            [
             0,
             "#8e0152"
            ],
            [
             0.1,
             "#c51b7d"
            ],
            [
             0.2,
             "#de77ae"
            ],
            [
             0.3,
             "#f1b6da"
            ],
            [
             0.4,
             "#fde0ef"
            ],
            [
             0.5,
             "#f7f7f7"
            ],
            [
             0.6,
             "#e6f5d0"
            ],
            [
             0.7,
             "#b8e186"
            ],
            [
             0.8,
             "#7fbc41"
            ],
            [
             0.9,
             "#4d9221"
            ],
            [
             1,
             "#276419"
            ]
           ],
           "sequential": [
            [
             0,
             "#0d0887"
            ],
            [
             0.1111111111111111,
             "#46039f"
            ],
            [
             0.2222222222222222,
             "#7201a8"
            ],
            [
             0.3333333333333333,
             "#9c179e"
            ],
            [
             0.4444444444444444,
             "#bd3786"
            ],
            [
             0.5555555555555556,
             "#d8576b"
            ],
            [
             0.6666666666666666,
             "#ed7953"
            ],
            [
             0.7777777777777778,
             "#fb9f3a"
            ],
            [
             0.8888888888888888,
             "#fdca26"
            ],
            [
             1,
             "#f0f921"
            ]
           ],
           "sequentialminus": [
            [
             0,
             "#0d0887"
            ],
            [
             0.1111111111111111,
             "#46039f"
            ],
            [
             0.2222222222222222,
             "#7201a8"
            ],
            [
             0.3333333333333333,
             "#9c179e"
            ],
            [
             0.4444444444444444,
             "#bd3786"
            ],
            [
             0.5555555555555556,
             "#d8576b"
            ],
            [
             0.6666666666666666,
             "#ed7953"
            ],
            [
             0.7777777777777778,
             "#fb9f3a"
            ],
            [
             0.8888888888888888,
             "#fdca26"
            ],
            [
             1,
             "#f0f921"
            ]
           ]
          },
          "colorway": [
           "#636efa",
           "#EF553B",
           "#00cc96",
           "#ab63fa",
           "#FFA15A",
           "#19d3f3",
           "#FF6692",
           "#B6E880",
           "#FF97FF",
           "#FECB52"
          ],
          "font": {
           "color": "#2a3f5f"
          },
          "geo": {
           "bgcolor": "white",
           "lakecolor": "white",
           "landcolor": "#E5ECF6",
           "showlakes": true,
           "showland": true,
           "subunitcolor": "white"
          },
          "hoverlabel": {
           "align": "left"
          },
          "hovermode": "closest",
          "mapbox": {
           "style": "light"
          },
          "paper_bgcolor": "white",
          "plot_bgcolor": "#E5ECF6",
          "polar": {
           "angularaxis": {
            "gridcolor": "white",
            "linecolor": "white",
            "ticks": ""
           },
           "bgcolor": "#E5ECF6",
           "radialaxis": {
            "gridcolor": "white",
            "linecolor": "white",
            "ticks": ""
           }
          },
          "scene": {
           "xaxis": {
            "backgroundcolor": "#E5ECF6",
            "gridcolor": "white",
            "gridwidth": 2,
            "linecolor": "white",
            "showbackground": true,
            "ticks": "",
            "zerolinecolor": "white"
           },
           "yaxis": {
            "backgroundcolor": "#E5ECF6",
            "gridcolor": "white",
            "gridwidth": 2,
            "linecolor": "white",
            "showbackground": true,
            "ticks": "",
            "zerolinecolor": "white"
           },
           "zaxis": {
            "backgroundcolor": "#E5ECF6",
            "gridcolor": "white",
            "gridwidth": 2,
            "linecolor": "white",
            "showbackground": true,
            "ticks": "",
            "zerolinecolor": "white"
           }
          },
          "shapedefaults": {
           "line": {
            "color": "#2a3f5f"
           }
          },
          "ternary": {
           "aaxis": {
            "gridcolor": "white",
            "linecolor": "white",
            "ticks": ""
           },
           "baxis": {
            "gridcolor": "white",
            "linecolor": "white",
            "ticks": ""
           },
           "bgcolor": "#E5ECF6",
           "caxis": {
            "gridcolor": "white",
            "linecolor": "white",
            "ticks": ""
           }
          },
          "title": {
           "x": 0.05
          },
          "xaxis": {
           "automargin": true,
           "gridcolor": "white",
           "linecolor": "white",
           "ticks": "",
           "title": {
            "standoff": 15
           },
           "zerolinecolor": "white",
           "zerolinewidth": 2
          },
          "yaxis": {
           "automargin": true,
           "gridcolor": "white",
           "linecolor": "white",
           "ticks": "",
           "title": {
            "standoff": 15
           },
           "zerolinecolor": "white",
           "zerolinewidth": 2
          }
         }
        },
        "title": {
         "text": "Total Sales Predictions vs. Actual Values"
        },
        "xaxis": {
         "anchor": "y",
         "domain": [
          0,
          1
         ],
         "title": {
          "text": "index"
         }
        },
        "yaxis": {
         "anchor": "x",
         "domain": [
          0,
          1
         ],
         "title": {
          "text": "value"
         }
        }
       }
      }
     },
     "metadata": {},
     "output_type": "display_data"
    }
   ],
   "source": [
    "#Plot the predictions vs. the actual values\n",
    "px.line(opt_rfr_df, x=opt_rfr_df.index, y=['p_Total_Sales', 'a_Total_Sales', 'p_Operating_Profit', 'a_Operating_Profit'], title='Total Sales Predictions vs. Actual Values')"
   ]
  },
  {
   "cell_type": "code",
   "execution_count": 1219,
   "metadata": {},
   "outputs": [],
   "source": [
    "#Make predictions using the testing data\n",
    "opt_rfr_predictions_future = opt_rfr.predict(X_pred)"
   ]
  },
  {
   "cell_type": "code",
   "execution_count": 1256,
   "metadata": {},
   "outputs": [
    {
     "data": {
      "application/vnd.plotly.v1+json": {
       "config": {
        "plotlyServerURL": "https://plot.ly"
       },
       "data": [
        {
         "hovertemplate": "variable=Total Sales<br>index=%{x}<br>value=%{y}<extra></extra>",
         "legendgroup": "Total Sales",
         "line": {
          "color": "#636efa",
          "dash": "solid"
         },
         "marker": {
          "symbol": "circle"
         },
         "mode": "lines",
         "name": "Total Sales",
         "orientation": "v",
         "showlegend": true,
         "type": "scatter",
         "x": [
          "2020:Q1",
          "2020:Q1_2",
          "2020:Q1_3",
          "2020:Q2",
          "2020:Q2_2",
          "2020:Q2_3",
          "2020:Q3",
          "2020:Q3_2",
          "2020:Q3_3",
          "2020:Q4",
          "2020:Q4_2",
          "2020:Q4_3",
          "2021:Q1",
          "2021:Q1_2",
          "2021:Q1_3",
          "2021:Q2",
          "2021:Q2_2",
          "2021:Q2_3",
          "2021:Q3",
          "2021:Q3_2",
          "2021:Q3_3",
          "2021:Q4",
          "2021:Q4_2",
          "2021:Q4_3",
          "2022:Q1",
          "2022:Q1_2",
          "2022:Q1_3",
          "2022:Q2",
          "2022:Q2_2",
          "2022:Q2_3",
          "2022:Q3",
          "2022:Q3_2",
          "2022:Q3_3"
         ],
         "xaxis": "x",
         "y": [
          2312746,
          2140813,
          2474202,
          3193081,
          2164764,
          1084194,
          2182388,
          2641630,
          2367686,
          1428569,
          1168050,
          1079202,
          7432021,
          6117693,
          5220782,
          6498339,
          8576956,
          8718953,
          10368031,
          9651596,
          8037898.000000001,
          7110189,
          7855390.000000001,
          10336130,
          null,
          null,
          null,
          null,
          null,
          null,
          null,
          null,
          null
         ],
         "yaxis": "y"
        },
        {
         "hovertemplate": "variable=Operating Profit<br>index=%{x}<br>value=%{y}<extra></extra>",
         "legendgroup": "Operating Profit",
         "line": {
          "color": "#EF553B",
          "dash": "solid"
         },
         "marker": {
          "symbol": "circle"
         },
         "mode": "lines",
         "name": "Operating Profit",
         "orientation": "v",
         "showlegend": true,
         "type": "scatter",
         "x": [
          "2020:Q1",
          "2020:Q1_2",
          "2020:Q1_3",
          "2020:Q2",
          "2020:Q2_2",
          "2020:Q2_3",
          "2020:Q3",
          "2020:Q3_2",
          "2020:Q3_3",
          "2020:Q4",
          "2020:Q4_2",
          "2020:Q4_3",
          "2021:Q1",
          "2021:Q1_2",
          "2021:Q1_3",
          "2021:Q2",
          "2021:Q2_2",
          "2021:Q2_3",
          "2021:Q3",
          "2021:Q3_2",
          "2021:Q3_3",
          "2021:Q4",
          "2021:Q4_2",
          "2021:Q4_3",
          "2022:Q1",
          "2022:Q1_2",
          "2022:Q1_3",
          "2022:Q2",
          "2022:Q2_2",
          "2022:Q2_3",
          "2022:Q3",
          "2022:Q3_2",
          "2022:Q3_3"
         ],
         "xaxis": "x",
         "y": [
          883774.16,
          796848.1900000001,
          879268.76,
          1275442.09,
          800635.7000000001,
          307046.16,
          681477.61,
          1042648.29,
          975908.6900000001,
          582342.96,
          402807.49000000005,
          387304.98,
          2766160.35,
          2280635.0700000003,
          2067129.24,
          2644237.72,
          3456570.88,
          3429736.0100000002,
          4098805.98,
          3852859.5100000002,
          3443571.79,
          2987755.39,
          3101992.6900000004,
          4078123.3000000003,
          null,
          null,
          null,
          null,
          null,
          null,
          null,
          null,
          null
         ],
         "yaxis": "y"
        },
        {
         "mode": "lines",
         "name": "Total Sales Predictions",
         "type": "scatter",
         "x": [
          "2022:Q1",
          "2022:Q1_2",
          "2022:Q1_3",
          "2022:Q2",
          "2022:Q2_2",
          "2022:Q2_3",
          "2022:Q3",
          "2022:Q3_2",
          "2022:Q3_3"
         ],
         "y": [
          8604739.160999998,
          8604739.160999998,
          8604739.160999998,
          8604739.160999998,
          8604739.160999998,
          8604739.160999998,
          7966856.3786666645,
          7966856.3786666645,
          7966856.3786666645
         ]
        },
        {
         "mode": "lines",
         "name": "Operating Profit Predictions",
         "type": "scatter",
         "x": [
          "2022:Q1",
          "2022:Q1_2",
          "2022:Q1_3",
          "2022:Q2",
          "2022:Q2_2",
          "2022:Q2_3",
          "2022:Q3",
          "2022:Q3_2",
          "2022:Q3_3"
         ],
         "y": [
          3490633.226259047,
          3490633.226259047,
          3490633.226259047,
          3490633.226259047,
          3490633.226259047,
          3490633.226259047,
          3201821.2088990468,
          3201821.2088990468,
          3201821.2088990468
         ]
        }
       ],
       "layout": {
        "legend": {
         "title": {
          "text": "variable"
         },
         "tracegroupgap": 0
        },
        "template": {
         "data": {
          "bar": [
           {
            "error_x": {
             "color": "#2a3f5f"
            },
            "error_y": {
             "color": "#2a3f5f"
            },
            "marker": {
             "line": {
              "color": "#E5ECF6",
              "width": 0.5
             },
             "pattern": {
              "fillmode": "overlay",
              "size": 10,
              "solidity": 0.2
             }
            },
            "type": "bar"
           }
          ],
          "barpolar": [
           {
            "marker": {
             "line": {
              "color": "#E5ECF6",
              "width": 0.5
             },
             "pattern": {
              "fillmode": "overlay",
              "size": 10,
              "solidity": 0.2
             }
            },
            "type": "barpolar"
           }
          ],
          "carpet": [
           {
            "aaxis": {
             "endlinecolor": "#2a3f5f",
             "gridcolor": "white",
             "linecolor": "white",
             "minorgridcolor": "white",
             "startlinecolor": "#2a3f5f"
            },
            "baxis": {
             "endlinecolor": "#2a3f5f",
             "gridcolor": "white",
             "linecolor": "white",
             "minorgridcolor": "white",
             "startlinecolor": "#2a3f5f"
            },
            "type": "carpet"
           }
          ],
          "choropleth": [
           {
            "colorbar": {
             "outlinewidth": 0,
             "ticks": ""
            },
            "type": "choropleth"
           }
          ],
          "contour": [
           {
            "colorbar": {
             "outlinewidth": 0,
             "ticks": ""
            },
            "colorscale": [
             [
              0,
              "#0d0887"
             ],
             [
              0.1111111111111111,
              "#46039f"
             ],
             [
              0.2222222222222222,
              "#7201a8"
             ],
             [
              0.3333333333333333,
              "#9c179e"
             ],
             [
              0.4444444444444444,
              "#bd3786"
             ],
             [
              0.5555555555555556,
              "#d8576b"
             ],
             [
              0.6666666666666666,
              "#ed7953"
             ],
             [
              0.7777777777777778,
              "#fb9f3a"
             ],
             [
              0.8888888888888888,
              "#fdca26"
             ],
             [
              1,
              "#f0f921"
             ]
            ],
            "type": "contour"
           }
          ],
          "contourcarpet": [
           {
            "colorbar": {
             "outlinewidth": 0,
             "ticks": ""
            },
            "type": "contourcarpet"
           }
          ],
          "heatmap": [
           {
            "colorbar": {
             "outlinewidth": 0,
             "ticks": ""
            },
            "colorscale": [
             [
              0,
              "#0d0887"
             ],
             [
              0.1111111111111111,
              "#46039f"
             ],
             [
              0.2222222222222222,
              "#7201a8"
             ],
             [
              0.3333333333333333,
              "#9c179e"
             ],
             [
              0.4444444444444444,
              "#bd3786"
             ],
             [
              0.5555555555555556,
              "#d8576b"
             ],
             [
              0.6666666666666666,
              "#ed7953"
             ],
             [
              0.7777777777777778,
              "#fb9f3a"
             ],
             [
              0.8888888888888888,
              "#fdca26"
             ],
             [
              1,
              "#f0f921"
             ]
            ],
            "type": "heatmap"
           }
          ],
          "heatmapgl": [
           {
            "colorbar": {
             "outlinewidth": 0,
             "ticks": ""
            },
            "colorscale": [
             [
              0,
              "#0d0887"
             ],
             [
              0.1111111111111111,
              "#46039f"
             ],
             [
              0.2222222222222222,
              "#7201a8"
             ],
             [
              0.3333333333333333,
              "#9c179e"
             ],
             [
              0.4444444444444444,
              "#bd3786"
             ],
             [
              0.5555555555555556,
              "#d8576b"
             ],
             [
              0.6666666666666666,
              "#ed7953"
             ],
             [
              0.7777777777777778,
              "#fb9f3a"
             ],
             [
              0.8888888888888888,
              "#fdca26"
             ],
             [
              1,
              "#f0f921"
             ]
            ],
            "type": "heatmapgl"
           }
          ],
          "histogram": [
           {
            "marker": {
             "pattern": {
              "fillmode": "overlay",
              "size": 10,
              "solidity": 0.2
             }
            },
            "type": "histogram"
           }
          ],
          "histogram2d": [
           {
            "colorbar": {
             "outlinewidth": 0,
             "ticks": ""
            },
            "colorscale": [
             [
              0,
              "#0d0887"
             ],
             [
              0.1111111111111111,
              "#46039f"
             ],
             [
              0.2222222222222222,
              "#7201a8"
             ],
             [
              0.3333333333333333,
              "#9c179e"
             ],
             [
              0.4444444444444444,
              "#bd3786"
             ],
             [
              0.5555555555555556,
              "#d8576b"
             ],
             [
              0.6666666666666666,
              "#ed7953"
             ],
             [
              0.7777777777777778,
              "#fb9f3a"
             ],
             [
              0.8888888888888888,
              "#fdca26"
             ],
             [
              1,
              "#f0f921"
             ]
            ],
            "type": "histogram2d"
           }
          ],
          "histogram2dcontour": [
           {
            "colorbar": {
             "outlinewidth": 0,
             "ticks": ""
            },
            "colorscale": [
             [
              0,
              "#0d0887"
             ],
             [
              0.1111111111111111,
              "#46039f"
             ],
             [
              0.2222222222222222,
              "#7201a8"
             ],
             [
              0.3333333333333333,
              "#9c179e"
             ],
             [
              0.4444444444444444,
              "#bd3786"
             ],
             [
              0.5555555555555556,
              "#d8576b"
             ],
             [
              0.6666666666666666,
              "#ed7953"
             ],
             [
              0.7777777777777778,
              "#fb9f3a"
             ],
             [
              0.8888888888888888,
              "#fdca26"
             ],
             [
              1,
              "#f0f921"
             ]
            ],
            "type": "histogram2dcontour"
           }
          ],
          "mesh3d": [
           {
            "colorbar": {
             "outlinewidth": 0,
             "ticks": ""
            },
            "type": "mesh3d"
           }
          ],
          "parcoords": [
           {
            "line": {
             "colorbar": {
              "outlinewidth": 0,
              "ticks": ""
             }
            },
            "type": "parcoords"
           }
          ],
          "pie": [
           {
            "automargin": true,
            "type": "pie"
           }
          ],
          "scatter": [
           {
            "fillpattern": {
             "fillmode": "overlay",
             "size": 10,
             "solidity": 0.2
            },
            "type": "scatter"
           }
          ],
          "scatter3d": [
           {
            "line": {
             "colorbar": {
              "outlinewidth": 0,
              "ticks": ""
             }
            },
            "marker": {
             "colorbar": {
              "outlinewidth": 0,
              "ticks": ""
             }
            },
            "type": "scatter3d"
           }
          ],
          "scattercarpet": [
           {
            "marker": {
             "colorbar": {
              "outlinewidth": 0,
              "ticks": ""
             }
            },
            "type": "scattercarpet"
           }
          ],
          "scattergeo": [
           {
            "marker": {
             "colorbar": {
              "outlinewidth": 0,
              "ticks": ""
             }
            },
            "type": "scattergeo"
           }
          ],
          "scattergl": [
           {
            "marker": {
             "colorbar": {
              "outlinewidth": 0,
              "ticks": ""
             }
            },
            "type": "scattergl"
           }
          ],
          "scattermapbox": [
           {
            "marker": {
             "colorbar": {
              "outlinewidth": 0,
              "ticks": ""
             }
            },
            "type": "scattermapbox"
           }
          ],
          "scatterpolar": [
           {
            "marker": {
             "colorbar": {
              "outlinewidth": 0,
              "ticks": ""
             }
            },
            "type": "scatterpolar"
           }
          ],
          "scatterpolargl": [
           {
            "marker": {
             "colorbar": {
              "outlinewidth": 0,
              "ticks": ""
             }
            },
            "type": "scatterpolargl"
           }
          ],
          "scatterternary": [
           {
            "marker": {
             "colorbar": {
              "outlinewidth": 0,
              "ticks": ""
             }
            },
            "type": "scatterternary"
           }
          ],
          "surface": [
           {
            "colorbar": {
             "outlinewidth": 0,
             "ticks": ""
            },
            "colorscale": [
             [
              0,
              "#0d0887"
             ],
             [
              0.1111111111111111,
              "#46039f"
             ],
             [
              0.2222222222222222,
              "#7201a8"
             ],
             [
              0.3333333333333333,
              "#9c179e"
             ],
             [
              0.4444444444444444,
              "#bd3786"
             ],
             [
              0.5555555555555556,
              "#d8576b"
             ],
             [
              0.6666666666666666,
              "#ed7953"
             ],
             [
              0.7777777777777778,
              "#fb9f3a"
             ],
             [
              0.8888888888888888,
              "#fdca26"
             ],
             [
              1,
              "#f0f921"
             ]
            ],
            "type": "surface"
           }
          ],
          "table": [
           {
            "cells": {
             "fill": {
              "color": "#EBF0F8"
             },
             "line": {
              "color": "white"
             }
            },
            "header": {
             "fill": {
              "color": "#C8D4E3"
             },
             "line": {
              "color": "white"
             }
            },
            "type": "table"
           }
          ]
         },
         "layout": {
          "annotationdefaults": {
           "arrowcolor": "#2a3f5f",
           "arrowhead": 0,
           "arrowwidth": 1
          },
          "autotypenumbers": "strict",
          "coloraxis": {
           "colorbar": {
            "outlinewidth": 0,
            "ticks": ""
           }
          },
          "colorscale": {
           "diverging": [
            [
             0,
             "#8e0152"
            ],
            [
             0.1,
             "#c51b7d"
            ],
            [
             0.2,
             "#de77ae"
            ],
            [
             0.3,
             "#f1b6da"
            ],
            [
             0.4,
             "#fde0ef"
            ],
            [
             0.5,
             "#f7f7f7"
            ],
            [
             0.6,
             "#e6f5d0"
            ],
            [
             0.7,
             "#b8e186"
            ],
            [
             0.8,
             "#7fbc41"
            ],
            [
             0.9,
             "#4d9221"
            ],
            [
             1,
             "#276419"
            ]
           ],
           "sequential": [
            [
             0,
             "#0d0887"
            ],
            [
             0.1111111111111111,
             "#46039f"
            ],
            [
             0.2222222222222222,
             "#7201a8"
            ],
            [
             0.3333333333333333,
             "#9c179e"
            ],
            [
             0.4444444444444444,
             "#bd3786"
            ],
            [
             0.5555555555555556,
             "#d8576b"
            ],
            [
             0.6666666666666666,
             "#ed7953"
            ],
            [
             0.7777777777777778,
             "#fb9f3a"
            ],
            [
             0.8888888888888888,
             "#fdca26"
            ],
            [
             1,
             "#f0f921"
            ]
           ],
           "sequentialminus": [
            [
             0,
             "#0d0887"
            ],
            [
             0.1111111111111111,
             "#46039f"
            ],
            [
             0.2222222222222222,
             "#7201a8"
            ],
            [
             0.3333333333333333,
             "#9c179e"
            ],
            [
             0.4444444444444444,
             "#bd3786"
            ],
            [
             0.5555555555555556,
             "#d8576b"
            ],
            [
             0.6666666666666666,
             "#ed7953"
            ],
            [
             0.7777777777777778,
             "#fb9f3a"
            ],
            [
             0.8888888888888888,
             "#fdca26"
            ],
            [
             1,
             "#f0f921"
            ]
           ]
          },
          "colorway": [
           "#636efa",
           "#EF553B",
           "#00cc96",
           "#ab63fa",
           "#FFA15A",
           "#19d3f3",
           "#FF6692",
           "#B6E880",
           "#FF97FF",
           "#FECB52"
          ],
          "font": {
           "color": "#2a3f5f"
          },
          "geo": {
           "bgcolor": "white",
           "lakecolor": "white",
           "landcolor": "#E5ECF6",
           "showlakes": true,
           "showland": true,
           "subunitcolor": "white"
          },
          "hoverlabel": {
           "align": "left"
          },
          "hovermode": "closest",
          "mapbox": {
           "style": "light"
          },
          "paper_bgcolor": "white",
          "plot_bgcolor": "#E5ECF6",
          "polar": {
           "angularaxis": {
            "gridcolor": "white",
            "linecolor": "white",
            "ticks": ""
           },
           "bgcolor": "#E5ECF6",
           "radialaxis": {
            "gridcolor": "white",
            "linecolor": "white",
            "ticks": ""
           }
          },
          "scene": {
           "xaxis": {
            "backgroundcolor": "#E5ECF6",
            "gridcolor": "white",
            "gridwidth": 2,
            "linecolor": "white",
            "showbackground": true,
            "ticks": "",
            "zerolinecolor": "white"
           },
           "yaxis": {
            "backgroundcolor": "#E5ECF6",
            "gridcolor": "white",
            "gridwidth": 2,
            "linecolor": "white",
            "showbackground": true,
            "ticks": "",
            "zerolinecolor": "white"
           },
           "zaxis": {
            "backgroundcolor": "#E5ECF6",
            "gridcolor": "white",
            "gridwidth": 2,
            "linecolor": "white",
            "showbackground": true,
            "ticks": "",
            "zerolinecolor": "white"
           }
          },
          "shapedefaults": {
           "line": {
            "color": "#2a3f5f"
           }
          },
          "ternary": {
           "aaxis": {
            "gridcolor": "white",
            "linecolor": "white",
            "ticks": ""
           },
           "baxis": {
            "gridcolor": "white",
            "linecolor": "white",
            "ticks": ""
           },
           "bgcolor": "#E5ECF6",
           "caxis": {
            "gridcolor": "white",
            "linecolor": "white",
            "ticks": ""
           }
          },
          "title": {
           "x": 0.05
          },
          "xaxis": {
           "automargin": true,
           "gridcolor": "white",
           "linecolor": "white",
           "ticks": "",
           "title": {
            "standoff": 15
           },
           "zerolinecolor": "white",
           "zerolinewidth": 2
          },
          "yaxis": {
           "automargin": true,
           "gridcolor": "white",
           "linecolor": "white",
           "ticks": "",
           "title": {
            "standoff": 15
           },
           "zerolinecolor": "white",
           "zerolinewidth": 2
          }
         }
        },
        "title": {
         "text": "Actual Sales With Predicted Sales"
        },
        "xaxis": {
         "anchor": "y",
         "domain": [
          0,
          1
         ],
         "title": {
          "text": "index"
         }
        },
        "yaxis": {
         "anchor": "x",
         "domain": [
          0,
          1
         ],
         "title": {
          "text": "value"
         }
        }
       }
      }
     },
     "metadata": {},
     "output_type": "display_data"
    }
   ],
   "source": [
    "#Plot total_sales_monthly and opt_rfr_predictions_future\n",
    "px.line(monthly_merged_df, x=monthly_merged_df.index, y=['Total Sales', 'Operating Profit'], title='Actual Sales With Predicted Sales')\\\n",
    "    .add_scatter(x=monthly_merged_df.iloc[-9:].index, y=opt_rfr_predictions_future[:, 0], mode='lines', name='Total Sales Predictions')\\\n",
    "    .add_scatter(x=monthly_merged_df.iloc[-9:].index, y=opt_rfr_predictions_future[:, 1], mode='lines', name='Operating Profit Predictions')"
   ]
  },
  {
   "attachments": {},
   "cell_type": "markdown",
   "metadata": {},
   "source": [
    "## Support Vector Regression"
   ]
  },
  {
   "attachments": {},
   "cell_type": "markdown",
   "metadata": {},
   "source": [
    "### Support Vector Regression with monthly split"
   ]
  },
  {
   "cell_type": "code",
   "execution_count": 1325,
   "metadata": {},
   "outputs": [],
   "source": [
    "#Create model\n",
    "svr_quarterly_model = SVR(kernel='rbf', C=100, gamma=0.1, epsilon=.1)"
   ]
  },
  {
   "cell_type": "code",
   "execution_count": 1326,
   "metadata": {},
   "outputs": [],
   "source": [
    "#Fit model to training data\n",
    "svr_quarterly_model.fit(X_train, y_train.drop('Operating Profit', axis=1).values.ravel())\n",
    "\n",
    "#Make predictions using the testing data\n",
    "svr_quarterly_model_predictions = svr_quarterly_model.predict(X_test)"
   ]
  },
  {
   "cell_type": "code",
   "execution_count": 1327,
   "metadata": {},
   "outputs": [],
   "source": [
    "#Create a dataframe of the predictions\n",
    "svr_quarterly_model_df = pd.DataFrame(svr_quarterly_model_predictions, columns=['p_Total_Sales'], index=y_test.index).sort_index()\n",
    "\n",
    "#Add the actual values to the dataframe\n",
    "svr_quarterly_model_df['a_Total_Sales'] = y_test['Total Sales']"
   ]
  },
  {
   "cell_type": "code",
   "execution_count": 1328,
   "metadata": {},
   "outputs": [
    {
     "data": {
      "text/html": [
       "<div>\n",
       "<style scoped>\n",
       "    .dataframe tbody tr th:only-of-type {\n",
       "        vertical-align: middle;\n",
       "    }\n",
       "\n",
       "    .dataframe tbody tr th {\n",
       "        vertical-align: top;\n",
       "    }\n",
       "\n",
       "    .dataframe thead th {\n",
       "        text-align: right;\n",
       "    }\n",
       "</style>\n",
       "<table border=\"1\" class=\"dataframe\">\n",
       "  <thead>\n",
       "    <tr style=\"text-align: right;\">\n",
       "      <th></th>\n",
       "      <th>p_Total_Sales</th>\n",
       "      <th>a_Total_Sales</th>\n",
       "    </tr>\n",
       "  </thead>\n",
       "  <tbody>\n",
       "    <tr>\n",
       "      <th>2020:Q1</th>\n",
       "      <td>5668937.5</td>\n",
       "      <td>2312746.0</td>\n",
       "    </tr>\n",
       "    <tr>\n",
       "      <th>2020:Q2_3</th>\n",
       "      <td>5668937.5</td>\n",
       "      <td>1084194.0</td>\n",
       "    </tr>\n",
       "    <tr>\n",
       "      <th>2020:Q3_2</th>\n",
       "      <td>5668937.5</td>\n",
       "      <td>2641630.0</td>\n",
       "    </tr>\n",
       "    <tr>\n",
       "      <th>2020:Q4</th>\n",
       "      <td>5668937.5</td>\n",
       "      <td>1428569.0</td>\n",
       "    </tr>\n",
       "    <tr>\n",
       "      <th>2021:Q2</th>\n",
       "      <td>5669337.5</td>\n",
       "      <td>6498339.0</td>\n",
       "    </tr>\n",
       "    <tr>\n",
       "      <th>2021:Q4_2</th>\n",
       "      <td>5669337.5</td>\n",
       "      <td>7855390.0</td>\n",
       "    </tr>\n",
       "  </tbody>\n",
       "</table>\n",
       "</div>"
      ],
      "text/plain": [
       "           p_Total_Sales  a_Total_Sales\n",
       "2020:Q1        5668937.5      2312746.0\n",
       "2020:Q2_3      5668937.5      1084194.0\n",
       "2020:Q3_2      5668937.5      2641630.0\n",
       "2020:Q4        5668937.5      1428569.0\n",
       "2021:Q2        5669337.5      6498339.0\n",
       "2021:Q4_2      5669337.5      7855390.0"
      ]
     },
     "execution_count": 1328,
     "metadata": {},
     "output_type": "execute_result"
    }
   ],
   "source": [
    "svr_quarterly_model_df"
   ]
  },
  {
   "cell_type": "code",
   "execution_count": 1329,
   "metadata": {},
   "outputs": [
    {
     "data": {
      "application/vnd.plotly.v1+json": {
       "config": {
        "plotlyServerURL": "https://plot.ly"
       },
       "data": [
        {
         "hovertemplate": "variable=p_Total_Sales<br>index=%{x}<br>value=%{y}<extra></extra>",
         "legendgroup": "p_Total_Sales",
         "line": {
          "color": "#636efa",
          "dash": "solid"
         },
         "marker": {
          "symbol": "circle"
         },
         "mode": "lines",
         "name": "p_Total_Sales",
         "orientation": "v",
         "showlegend": true,
         "type": "scatter",
         "x": [
          "2020:Q1",
          "2020:Q2_3",
          "2020:Q3_2",
          "2020:Q4",
          "2021:Q2",
          "2021:Q4_2"
         ],
         "xaxis": "x",
         "y": [
          5668937.5,
          5668937.5,
          5668937.5,
          5668937.5,
          5669337.5,
          5669337.5
         ],
         "yaxis": "y"
        },
        {
         "hovertemplate": "variable=a_Total_Sales<br>index=%{x}<br>value=%{y}<extra></extra>",
         "legendgroup": "a_Total_Sales",
         "line": {
          "color": "#EF553B",
          "dash": "solid"
         },
         "marker": {
          "symbol": "circle"
         },
         "mode": "lines",
         "name": "a_Total_Sales",
         "orientation": "v",
         "showlegend": true,
         "type": "scatter",
         "x": [
          "2020:Q1",
          "2020:Q2_3",
          "2020:Q3_2",
          "2020:Q4",
          "2021:Q2",
          "2021:Q4_2"
         ],
         "xaxis": "x",
         "y": [
          2312746,
          1084194,
          2641630,
          1428569,
          6498339,
          7855390.000000001
         ],
         "yaxis": "y"
        }
       ],
       "layout": {
        "legend": {
         "title": {
          "text": "variable"
         },
         "tracegroupgap": 0
        },
        "template": {
         "data": {
          "bar": [
           {
            "error_x": {
             "color": "#2a3f5f"
            },
            "error_y": {
             "color": "#2a3f5f"
            },
            "marker": {
             "line": {
              "color": "#E5ECF6",
              "width": 0.5
             },
             "pattern": {
              "fillmode": "overlay",
              "size": 10,
              "solidity": 0.2
             }
            },
            "type": "bar"
           }
          ],
          "barpolar": [
           {
            "marker": {
             "line": {
              "color": "#E5ECF6",
              "width": 0.5
             },
             "pattern": {
              "fillmode": "overlay",
              "size": 10,
              "solidity": 0.2
             }
            },
            "type": "barpolar"
           }
          ],
          "carpet": [
           {
            "aaxis": {
             "endlinecolor": "#2a3f5f",
             "gridcolor": "white",
             "linecolor": "white",
             "minorgridcolor": "white",
             "startlinecolor": "#2a3f5f"
            },
            "baxis": {
             "endlinecolor": "#2a3f5f",
             "gridcolor": "white",
             "linecolor": "white",
             "minorgridcolor": "white",
             "startlinecolor": "#2a3f5f"
            },
            "type": "carpet"
           }
          ],
          "choropleth": [
           {
            "colorbar": {
             "outlinewidth": 0,
             "ticks": ""
            },
            "type": "choropleth"
           }
          ],
          "contour": [
           {
            "colorbar": {
             "outlinewidth": 0,
             "ticks": ""
            },
            "colorscale": [
             [
              0,
              "#0d0887"
             ],
             [
              0.1111111111111111,
              "#46039f"
             ],
             [
              0.2222222222222222,
              "#7201a8"
             ],
             [
              0.3333333333333333,
              "#9c179e"
             ],
             [
              0.4444444444444444,
              "#bd3786"
             ],
             [
              0.5555555555555556,
              "#d8576b"
             ],
             [
              0.6666666666666666,
              "#ed7953"
             ],
             [
              0.7777777777777778,
              "#fb9f3a"
             ],
             [
              0.8888888888888888,
              "#fdca26"
             ],
             [
              1,
              "#f0f921"
             ]
            ],
            "type": "contour"
           }
          ],
          "contourcarpet": [
           {
            "colorbar": {
             "outlinewidth": 0,
             "ticks": ""
            },
            "type": "contourcarpet"
           }
          ],
          "heatmap": [
           {
            "colorbar": {
             "outlinewidth": 0,
             "ticks": ""
            },
            "colorscale": [
             [
              0,
              "#0d0887"
             ],
             [
              0.1111111111111111,
              "#46039f"
             ],
             [
              0.2222222222222222,
              "#7201a8"
             ],
             [
              0.3333333333333333,
              "#9c179e"
             ],
             [
              0.4444444444444444,
              "#bd3786"
             ],
             [
              0.5555555555555556,
              "#d8576b"
             ],
             [
              0.6666666666666666,
              "#ed7953"
             ],
             [
              0.7777777777777778,
              "#fb9f3a"
             ],
             [
              0.8888888888888888,
              "#fdca26"
             ],
             [
              1,
              "#f0f921"
             ]
            ],
            "type": "heatmap"
           }
          ],
          "heatmapgl": [
           {
            "colorbar": {
             "outlinewidth": 0,
             "ticks": ""
            },
            "colorscale": [
             [
              0,
              "#0d0887"
             ],
             [
              0.1111111111111111,
              "#46039f"
             ],
             [
              0.2222222222222222,
              "#7201a8"
             ],
             [
              0.3333333333333333,
              "#9c179e"
             ],
             [
              0.4444444444444444,
              "#bd3786"
             ],
             [
              0.5555555555555556,
              "#d8576b"
             ],
             [
              0.6666666666666666,
              "#ed7953"
             ],
             [
              0.7777777777777778,
              "#fb9f3a"
             ],
             [
              0.8888888888888888,
              "#fdca26"
             ],
             [
              1,
              "#f0f921"
             ]
            ],
            "type": "heatmapgl"
           }
          ],
          "histogram": [
           {
            "marker": {
             "pattern": {
              "fillmode": "overlay",
              "size": 10,
              "solidity": 0.2
             }
            },
            "type": "histogram"
           }
          ],
          "histogram2d": [
           {
            "colorbar": {
             "outlinewidth": 0,
             "ticks": ""
            },
            "colorscale": [
             [
              0,
              "#0d0887"
             ],
             [
              0.1111111111111111,
              "#46039f"
             ],
             [
              0.2222222222222222,
              "#7201a8"
             ],
             [
              0.3333333333333333,
              "#9c179e"
             ],
             [
              0.4444444444444444,
              "#bd3786"
             ],
             [
              0.5555555555555556,
              "#d8576b"
             ],
             [
              0.6666666666666666,
              "#ed7953"
             ],
             [
              0.7777777777777778,
              "#fb9f3a"
             ],
             [
              0.8888888888888888,
              "#fdca26"
             ],
             [
              1,
              "#f0f921"
             ]
            ],
            "type": "histogram2d"
           }
          ],
          "histogram2dcontour": [
           {
            "colorbar": {
             "outlinewidth": 0,
             "ticks": ""
            },
            "colorscale": [
             [
              0,
              "#0d0887"
             ],
             [
              0.1111111111111111,
              "#46039f"
             ],
             [
              0.2222222222222222,
              "#7201a8"
             ],
             [
              0.3333333333333333,
              "#9c179e"
             ],
             [
              0.4444444444444444,
              "#bd3786"
             ],
             [
              0.5555555555555556,
              "#d8576b"
             ],
             [
              0.6666666666666666,
              "#ed7953"
             ],
             [
              0.7777777777777778,
              "#fb9f3a"
             ],
             [
              0.8888888888888888,
              "#fdca26"
             ],
             [
              1,
              "#f0f921"
             ]
            ],
            "type": "histogram2dcontour"
           }
          ],
          "mesh3d": [
           {
            "colorbar": {
             "outlinewidth": 0,
             "ticks": ""
            },
            "type": "mesh3d"
           }
          ],
          "parcoords": [
           {
            "line": {
             "colorbar": {
              "outlinewidth": 0,
              "ticks": ""
             }
            },
            "type": "parcoords"
           }
          ],
          "pie": [
           {
            "automargin": true,
            "type": "pie"
           }
          ],
          "scatter": [
           {
            "fillpattern": {
             "fillmode": "overlay",
             "size": 10,
             "solidity": 0.2
            },
            "type": "scatter"
           }
          ],
          "scatter3d": [
           {
            "line": {
             "colorbar": {
              "outlinewidth": 0,
              "ticks": ""
             }
            },
            "marker": {
             "colorbar": {
              "outlinewidth": 0,
              "ticks": ""
             }
            },
            "type": "scatter3d"
           }
          ],
          "scattercarpet": [
           {
            "marker": {
             "colorbar": {
              "outlinewidth": 0,
              "ticks": ""
             }
            },
            "type": "scattercarpet"
           }
          ],
          "scattergeo": [
           {
            "marker": {
             "colorbar": {
              "outlinewidth": 0,
              "ticks": ""
             }
            },
            "type": "scattergeo"
           }
          ],
          "scattergl": [
           {
            "marker": {
             "colorbar": {
              "outlinewidth": 0,
              "ticks": ""
             }
            },
            "type": "scattergl"
           }
          ],
          "scattermapbox": [
           {
            "marker": {
             "colorbar": {
              "outlinewidth": 0,
              "ticks": ""
             }
            },
            "type": "scattermapbox"
           }
          ],
          "scatterpolar": [
           {
            "marker": {
             "colorbar": {
              "outlinewidth": 0,
              "ticks": ""
             }
            },
            "type": "scatterpolar"
           }
          ],
          "scatterpolargl": [
           {
            "marker": {
             "colorbar": {
              "outlinewidth": 0,
              "ticks": ""
             }
            },
            "type": "scatterpolargl"
           }
          ],
          "scatterternary": [
           {
            "marker": {
             "colorbar": {
              "outlinewidth": 0,
              "ticks": ""
             }
            },
            "type": "scatterternary"
           }
          ],
          "surface": [
           {
            "colorbar": {
             "outlinewidth": 0,
             "ticks": ""
            },
            "colorscale": [
             [
              0,
              "#0d0887"
             ],
             [
              0.1111111111111111,
              "#46039f"
             ],
             [
              0.2222222222222222,
              "#7201a8"
             ],
             [
              0.3333333333333333,
              "#9c179e"
             ],
             [
              0.4444444444444444,
              "#bd3786"
             ],
             [
              0.5555555555555556,
              "#d8576b"
             ],
             [
              0.6666666666666666,
              "#ed7953"
             ],
             [
              0.7777777777777778,
              "#fb9f3a"
             ],
             [
              0.8888888888888888,
              "#fdca26"
             ],
             [
              1,
              "#f0f921"
             ]
            ],
            "type": "surface"
           }
          ],
          "table": [
           {
            "cells": {
             "fill": {
              "color": "#EBF0F8"
             },
             "line": {
              "color": "white"
             }
            },
            "header": {
             "fill": {
              "color": "#C8D4E3"
             },
             "line": {
              "color": "white"
             }
            },
            "type": "table"
           }
          ]
         },
         "layout": {
          "annotationdefaults": {
           "arrowcolor": "#2a3f5f",
           "arrowhead": 0,
           "arrowwidth": 1
          },
          "autotypenumbers": "strict",
          "coloraxis": {
           "colorbar": {
            "outlinewidth": 0,
            "ticks": ""
           }
          },
          "colorscale": {
           "diverging": [
            [
             0,
             "#8e0152"
            ],
            [
             0.1,
             "#c51b7d"
            ],
            [
             0.2,
             "#de77ae"
            ],
            [
             0.3,
             "#f1b6da"
            ],
            [
             0.4,
             "#fde0ef"
            ],
            [
             0.5,
             "#f7f7f7"
            ],
            [
             0.6,
             "#e6f5d0"
            ],
            [
             0.7,
             "#b8e186"
            ],
            [
             0.8,
             "#7fbc41"
            ],
            [
             0.9,
             "#4d9221"
            ],
            [
             1,
             "#276419"
            ]
           ],
           "sequential": [
            [
             0,
             "#0d0887"
            ],
            [
             0.1111111111111111,
             "#46039f"
            ],
            [
             0.2222222222222222,
             "#7201a8"
            ],
            [
             0.3333333333333333,
             "#9c179e"
            ],
            [
             0.4444444444444444,
             "#bd3786"
            ],
            [
             0.5555555555555556,
             "#d8576b"
            ],
            [
             0.6666666666666666,
             "#ed7953"
            ],
            [
             0.7777777777777778,
             "#fb9f3a"
            ],
            [
             0.8888888888888888,
             "#fdca26"
            ],
            [
             1,
             "#f0f921"
            ]
           ],
           "sequentialminus": [
            [
             0,
             "#0d0887"
            ],
            [
             0.1111111111111111,
             "#46039f"
            ],
            [
             0.2222222222222222,
             "#7201a8"
            ],
            [
             0.3333333333333333,
             "#9c179e"
            ],
            [
             0.4444444444444444,
             "#bd3786"
            ],
            [
             0.5555555555555556,
             "#d8576b"
            ],
            [
             0.6666666666666666,
             "#ed7953"
            ],
            [
             0.7777777777777778,
             "#fb9f3a"
            ],
            [
             0.8888888888888888,
             "#fdca26"
            ],
            [
             1,
             "#f0f921"
            ]
           ]
          },
          "colorway": [
           "#636efa",
           "#EF553B",
           "#00cc96",
           "#ab63fa",
           "#FFA15A",
           "#19d3f3",
           "#FF6692",
           "#B6E880",
           "#FF97FF",
           "#FECB52"
          ],
          "font": {
           "color": "#2a3f5f"
          },
          "geo": {
           "bgcolor": "white",
           "lakecolor": "white",
           "landcolor": "#E5ECF6",
           "showlakes": true,
           "showland": true,
           "subunitcolor": "white"
          },
          "hoverlabel": {
           "align": "left"
          },
          "hovermode": "closest",
          "mapbox": {
           "style": "light"
          },
          "paper_bgcolor": "white",
          "plot_bgcolor": "#E5ECF6",
          "polar": {
           "angularaxis": {
            "gridcolor": "white",
            "linecolor": "white",
            "ticks": ""
           },
           "bgcolor": "#E5ECF6",
           "radialaxis": {
            "gridcolor": "white",
            "linecolor": "white",
            "ticks": ""
           }
          },
          "scene": {
           "xaxis": {
            "backgroundcolor": "#E5ECF6",
            "gridcolor": "white",
            "gridwidth": 2,
            "linecolor": "white",
            "showbackground": true,
            "ticks": "",
            "zerolinecolor": "white"
           },
           "yaxis": {
            "backgroundcolor": "#E5ECF6",
            "gridcolor": "white",
            "gridwidth": 2,
            "linecolor": "white",
            "showbackground": true,
            "ticks": "",
            "zerolinecolor": "white"
           },
           "zaxis": {
            "backgroundcolor": "#E5ECF6",
            "gridcolor": "white",
            "gridwidth": 2,
            "linecolor": "white",
            "showbackground": true,
            "ticks": "",
            "zerolinecolor": "white"
           }
          },
          "shapedefaults": {
           "line": {
            "color": "#2a3f5f"
           }
          },
          "ternary": {
           "aaxis": {
            "gridcolor": "white",
            "linecolor": "white",
            "ticks": ""
           },
           "baxis": {
            "gridcolor": "white",
            "linecolor": "white",
            "ticks": ""
           },
           "bgcolor": "#E5ECF6",
           "caxis": {
            "gridcolor": "white",
            "linecolor": "white",
            "ticks": ""
           }
          },
          "title": {
           "x": 0.05
          },
          "xaxis": {
           "automargin": true,
           "gridcolor": "white",
           "linecolor": "white",
           "ticks": "",
           "title": {
            "standoff": 15
           },
           "zerolinecolor": "white",
           "zerolinewidth": 2
          },
          "yaxis": {
           "automargin": true,
           "gridcolor": "white",
           "linecolor": "white",
           "ticks": "",
           "title": {
            "standoff": 15
           },
           "zerolinecolor": "white",
           "zerolinewidth": 2
          }
         }
        },
        "title": {
         "text": "Total Sales Predictions vs. Actual Values"
        },
        "xaxis": {
         "anchor": "y",
         "domain": [
          0,
          1
         ],
         "title": {
          "text": "index"
         }
        },
        "yaxis": {
         "anchor": "x",
         "domain": [
          0,
          1
         ],
         "title": {
          "text": "value"
         }
        }
       }
      }
     },
     "metadata": {},
     "output_type": "display_data"
    }
   ],
   "source": [
    "#plot the predictions vs. the actual values\n",
    "px.line(svr_quarterly_model_df, x=svr_quarterly_model_df.index, y=['p_Total_Sales', 'a_Total_Sales'], title='Total Sales Predictions vs. Actual Values')"
   ]
  },
  {
   "attachments": {},
   "cell_type": "markdown",
   "metadata": {},
   "source": [
    "## Decision Tree Regression"
   ]
  },
  {
   "cell_type": "code",
   "execution_count": 1414,
   "metadata": {},
   "outputs": [],
   "source": [
    "#Create model\n",
    "dtr_model = DecisionTreeRegressor(max_depth=5, random_state=0)"
   ]
  },
  {
   "cell_type": "code",
   "execution_count": 1415,
   "metadata": {},
   "outputs": [],
   "source": [
    "#Fit model to training data\n",
    "dtr_model.fit(X_train, y_train)\n",
    "\n",
    "#Make predictions using the testing data\n",
    "dtr_predictions = dtr_model.predict(X_test)"
   ]
  },
  {
   "cell_type": "code",
   "execution_count": 1416,
   "metadata": {},
   "outputs": [
    {
     "name": "stdout",
     "output_type": "stream",
     "text": [
      "Random Forest Regressor MSE: 798809380945.2006\n",
      "Random Forest Regressor RMSE: 893761.3668900668\n"
     ]
    }
   ],
   "source": [
    "#Accuracy of the model\n",
    "dtr_mse = mean_squared_error(y_test, dtr_predictions)\n",
    "dtr_rmse = dtr_mse**.5\n",
    "\n",
    "print(f'Random Forest Regressor MSE: {dtr_mse}')\n",
    "print(f'Random Forest Regressor RMSE: {dtr_rmse}')"
   ]
  },
  {
   "cell_type": "code",
   "execution_count": 1417,
   "metadata": {},
   "outputs": [
    {
     "data": {
      "text/html": [
       "<div>\n",
       "<style scoped>\n",
       "    .dataframe tbody tr th:only-of-type {\n",
       "        vertical-align: middle;\n",
       "    }\n",
       "\n",
       "    .dataframe tbody tr th {\n",
       "        vertical-align: top;\n",
       "    }\n",
       "\n",
       "    .dataframe thead th {\n",
       "        text-align: right;\n",
       "    }\n",
       "</style>\n",
       "<table border=\"1\" class=\"dataframe\">\n",
       "  <thead>\n",
       "    <tr style=\"text-align: right;\">\n",
       "      <th></th>\n",
       "      <th>p_Total_Sales</th>\n",
       "      <th>p_Operating_Profit</th>\n",
       "      <th>a_Total_Sales</th>\n",
       "      <th>a_Operating_Profit</th>\n",
       "    </tr>\n",
       "  </thead>\n",
       "  <tbody>\n",
       "    <tr>\n",
       "      <th>2020:Q1</th>\n",
       "      <td>2307507.5</td>\n",
       "      <td>838058.475</td>\n",
       "      <td>2312746.0</td>\n",
       "      <td>883774.16</td>\n",
       "    </tr>\n",
       "    <tr>\n",
       "      <th>2020:Q2_3</th>\n",
       "      <td>2678922.5</td>\n",
       "      <td>1038038.895</td>\n",
       "      <td>1084194.0</td>\n",
       "      <td>307046.16</td>\n",
       "    </tr>\n",
       "    <tr>\n",
       "      <th>2020:Q3_2</th>\n",
       "      <td>2275037.0</td>\n",
       "      <td>828693.150</td>\n",
       "      <td>2641630.0</td>\n",
       "      <td>1042648.29</td>\n",
       "    </tr>\n",
       "    <tr>\n",
       "      <th>2020:Q4</th>\n",
       "      <td>1123626.0</td>\n",
       "      <td>395056.235</td>\n",
       "      <td>1428569.0</td>\n",
       "      <td>582342.96</td>\n",
       "    </tr>\n",
       "    <tr>\n",
       "      <th>2021:Q2</th>\n",
       "      <td>8647954.5</td>\n",
       "      <td>3443153.445</td>\n",
       "      <td>6498339.0</td>\n",
       "      <td>2644237.72</td>\n",
       "    </tr>\n",
       "    <tr>\n",
       "      <th>2021:Q4_2</th>\n",
       "      <td>8723159.5</td>\n",
       "      <td>3532939.345</td>\n",
       "      <td>7855390.0</td>\n",
       "      <td>3101992.69</td>\n",
       "    </tr>\n",
       "  </tbody>\n",
       "</table>\n",
       "</div>"
      ],
      "text/plain": [
       "           p_Total_Sales  p_Operating_Profit  a_Total_Sales  \\\n",
       "2020:Q1        2307507.5          838058.475      2312746.0   \n",
       "2020:Q2_3      2678922.5         1038038.895      1084194.0   \n",
       "2020:Q3_2      2275037.0          828693.150      2641630.0   \n",
       "2020:Q4        1123626.0          395056.235      1428569.0   \n",
       "2021:Q2        8647954.5         3443153.445      6498339.0   \n",
       "2021:Q4_2      8723159.5         3532939.345      7855390.0   \n",
       "\n",
       "           a_Operating_Profit  \n",
       "2020:Q1             883774.16  \n",
       "2020:Q2_3           307046.16  \n",
       "2020:Q3_2          1042648.29  \n",
       "2020:Q4             582342.96  \n",
       "2021:Q2            2644237.72  \n",
       "2021:Q4_2          3101992.69  "
      ]
     },
     "execution_count": 1417,
     "metadata": {},
     "output_type": "execute_result"
    }
   ],
   "source": [
    "#Create a dataframe of the predictions\n",
    "dtr_predictions_df = pd.DataFrame(dtr_predictions, columns=['p_Total_Sales', 'p_Operating_Profit'], index=y_test.index)\n",
    "dtr_predictions_df['a_Total_Sales'], dtr_predictions_df['a_Operating_Profit'] = y_test['Total Sales'], y_test['Operating Profit']\n",
    "dtr_predictions_df = dtr_predictions_df.sort_index()\n",
    "dtr_predictions_df"
   ]
  },
  {
   "cell_type": "code",
   "execution_count": 1418,
   "metadata": {},
   "outputs": [
    {
     "data": {
      "application/vnd.plotly.v1+json": {
       "config": {
        "plotlyServerURL": "https://plot.ly"
       },
       "data": [
        {
         "hovertemplate": "variable=p_Total_Sales<br>index=%{x}<br>value=%{y}<extra></extra>",
         "legendgroup": "p_Total_Sales",
         "line": {
          "color": "#636efa",
          "dash": "solid"
         },
         "marker": {
          "symbol": "circle"
         },
         "mode": "lines",
         "name": "p_Total_Sales",
         "orientation": "v",
         "showlegend": true,
         "type": "scatter",
         "x": [
          "2020:Q1",
          "2020:Q2_3",
          "2020:Q3_2",
          "2020:Q4",
          "2021:Q2",
          "2021:Q4_2"
         ],
         "xaxis": "x",
         "y": [
          2307507.5,
          2678922.5,
          2275037,
          1123626,
          8647954.5,
          8723159.5
         ],
         "yaxis": "y"
        },
        {
         "hovertemplate": "variable=a_Total_Sales<br>index=%{x}<br>value=%{y}<extra></extra>",
         "legendgroup": "a_Total_Sales",
         "line": {
          "color": "#EF553B",
          "dash": "solid"
         },
         "marker": {
          "symbol": "circle"
         },
         "mode": "lines",
         "name": "a_Total_Sales",
         "orientation": "v",
         "showlegend": true,
         "type": "scatter",
         "x": [
          "2020:Q1",
          "2020:Q2_3",
          "2020:Q3_2",
          "2020:Q4",
          "2021:Q2",
          "2021:Q4_2"
         ],
         "xaxis": "x",
         "y": [
          2312746,
          1084194,
          2641630,
          1428569,
          6498339,
          7855390.000000001
         ],
         "yaxis": "y"
        },
        {
         "hovertemplate": "variable=p_Operating_Profit<br>index=%{x}<br>value=%{y}<extra></extra>",
         "legendgroup": "p_Operating_Profit",
         "line": {
          "color": "#00cc96",
          "dash": "solid"
         },
         "marker": {
          "symbol": "circle"
         },
         "mode": "lines",
         "name": "p_Operating_Profit",
         "orientation": "v",
         "showlegend": true,
         "type": "scatter",
         "x": [
          "2020:Q1",
          "2020:Q2_3",
          "2020:Q3_2",
          "2020:Q4",
          "2021:Q2",
          "2021:Q4_2"
         ],
         "xaxis": "x",
         "y": [
          838058.4750000001,
          1038038.895,
          828693.15,
          395056.235,
          3443153.4450000003,
          3532939.345
         ],
         "yaxis": "y"
        },
        {
         "hovertemplate": "variable=a_Operating_Profit<br>index=%{x}<br>value=%{y}<extra></extra>",
         "legendgroup": "a_Operating_Profit",
         "line": {
          "color": "#ab63fa",
          "dash": "solid"
         },
         "marker": {
          "symbol": "circle"
         },
         "mode": "lines",
         "name": "a_Operating_Profit",
         "orientation": "v",
         "showlegend": true,
         "type": "scatter",
         "x": [
          "2020:Q1",
          "2020:Q2_3",
          "2020:Q3_2",
          "2020:Q4",
          "2021:Q2",
          "2021:Q4_2"
         ],
         "xaxis": "x",
         "y": [
          883774.16,
          307046.16,
          1042648.29,
          582342.96,
          2644237.72,
          3101992.6900000004
         ],
         "yaxis": "y"
        }
       ],
       "layout": {
        "legend": {
         "title": {
          "text": "variable"
         },
         "tracegroupgap": 0
        },
        "template": {
         "data": {
          "bar": [
           {
            "error_x": {
             "color": "#2a3f5f"
            },
            "error_y": {
             "color": "#2a3f5f"
            },
            "marker": {
             "line": {
              "color": "#E5ECF6",
              "width": 0.5
             },
             "pattern": {
              "fillmode": "overlay",
              "size": 10,
              "solidity": 0.2
             }
            },
            "type": "bar"
           }
          ],
          "barpolar": [
           {
            "marker": {
             "line": {
              "color": "#E5ECF6",
              "width": 0.5
             },
             "pattern": {
              "fillmode": "overlay",
              "size": 10,
              "solidity": 0.2
             }
            },
            "type": "barpolar"
           }
          ],
          "carpet": [
           {
            "aaxis": {
             "endlinecolor": "#2a3f5f",
             "gridcolor": "white",
             "linecolor": "white",
             "minorgridcolor": "white",
             "startlinecolor": "#2a3f5f"
            },
            "baxis": {
             "endlinecolor": "#2a3f5f",
             "gridcolor": "white",
             "linecolor": "white",
             "minorgridcolor": "white",
             "startlinecolor": "#2a3f5f"
            },
            "type": "carpet"
           }
          ],
          "choropleth": [
           {
            "colorbar": {
             "outlinewidth": 0,
             "ticks": ""
            },
            "type": "choropleth"
           }
          ],
          "contour": [
           {
            "colorbar": {
             "outlinewidth": 0,
             "ticks": ""
            },
            "colorscale": [
             [
              0,
              "#0d0887"
             ],
             [
              0.1111111111111111,
              "#46039f"
             ],
             [
              0.2222222222222222,
              "#7201a8"
             ],
             [
              0.3333333333333333,
              "#9c179e"
             ],
             [
              0.4444444444444444,
              "#bd3786"
             ],
             [
              0.5555555555555556,
              "#d8576b"
             ],
             [
              0.6666666666666666,
              "#ed7953"
             ],
             [
              0.7777777777777778,
              "#fb9f3a"
             ],
             [
              0.8888888888888888,
              "#fdca26"
             ],
             [
              1,
              "#f0f921"
             ]
            ],
            "type": "contour"
           }
          ],
          "contourcarpet": [
           {
            "colorbar": {
             "outlinewidth": 0,
             "ticks": ""
            },
            "type": "contourcarpet"
           }
          ],
          "heatmap": [
           {
            "colorbar": {
             "outlinewidth": 0,
             "ticks": ""
            },
            "colorscale": [
             [
              0,
              "#0d0887"
             ],
             [
              0.1111111111111111,
              "#46039f"
             ],
             [
              0.2222222222222222,
              "#7201a8"
             ],
             [
              0.3333333333333333,
              "#9c179e"
             ],
             [
              0.4444444444444444,
              "#bd3786"
             ],
             [
              0.5555555555555556,
              "#d8576b"
             ],
             [
              0.6666666666666666,
              "#ed7953"
             ],
             [
              0.7777777777777778,
              "#fb9f3a"
             ],
             [
              0.8888888888888888,
              "#fdca26"
             ],
             [
              1,
              "#f0f921"
             ]
            ],
            "type": "heatmap"
           }
          ],
          "heatmapgl": [
           {
            "colorbar": {
             "outlinewidth": 0,
             "ticks": ""
            },
            "colorscale": [
             [
              0,
              "#0d0887"
             ],
             [
              0.1111111111111111,
              "#46039f"
             ],
             [
              0.2222222222222222,
              "#7201a8"
             ],
             [
              0.3333333333333333,
              "#9c179e"
             ],
             [
              0.4444444444444444,
              "#bd3786"
             ],
             [
              0.5555555555555556,
              "#d8576b"
             ],
             [
              0.6666666666666666,
              "#ed7953"
             ],
             [
              0.7777777777777778,
              "#fb9f3a"
             ],
             [
              0.8888888888888888,
              "#fdca26"
             ],
             [
              1,
              "#f0f921"
             ]
            ],
            "type": "heatmapgl"
           }
          ],
          "histogram": [
           {
            "marker": {
             "pattern": {
              "fillmode": "overlay",
              "size": 10,
              "solidity": 0.2
             }
            },
            "type": "histogram"
           }
          ],
          "histogram2d": [
           {
            "colorbar": {
             "outlinewidth": 0,
             "ticks": ""
            },
            "colorscale": [
             [
              0,
              "#0d0887"
             ],
             [
              0.1111111111111111,
              "#46039f"
             ],
             [
              0.2222222222222222,
              "#7201a8"
             ],
             [
              0.3333333333333333,
              "#9c179e"
             ],
             [
              0.4444444444444444,
              "#bd3786"
             ],
             [
              0.5555555555555556,
              "#d8576b"
             ],
             [
              0.6666666666666666,
              "#ed7953"
             ],
             [
              0.7777777777777778,
              "#fb9f3a"
             ],
             [
              0.8888888888888888,
              "#fdca26"
             ],
             [
              1,
              "#f0f921"
             ]
            ],
            "type": "histogram2d"
           }
          ],
          "histogram2dcontour": [
           {
            "colorbar": {
             "outlinewidth": 0,
             "ticks": ""
            },
            "colorscale": [
             [
              0,
              "#0d0887"
             ],
             [
              0.1111111111111111,
              "#46039f"
             ],
             [
              0.2222222222222222,
              "#7201a8"
             ],
             [
              0.3333333333333333,
              "#9c179e"
             ],
             [
              0.4444444444444444,
              "#bd3786"
             ],
             [
              0.5555555555555556,
              "#d8576b"
             ],
             [
              0.6666666666666666,
              "#ed7953"
             ],
             [
              0.7777777777777778,
              "#fb9f3a"
             ],
             [
              0.8888888888888888,
              "#fdca26"
             ],
             [
              1,
              "#f0f921"
             ]
            ],
            "type": "histogram2dcontour"
           }
          ],
          "mesh3d": [
           {
            "colorbar": {
             "outlinewidth": 0,
             "ticks": ""
            },
            "type": "mesh3d"
           }
          ],
          "parcoords": [
           {
            "line": {
             "colorbar": {
              "outlinewidth": 0,
              "ticks": ""
             }
            },
            "type": "parcoords"
           }
          ],
          "pie": [
           {
            "automargin": true,
            "type": "pie"
           }
          ],
          "scatter": [
           {
            "fillpattern": {
             "fillmode": "overlay",
             "size": 10,
             "solidity": 0.2
            },
            "type": "scatter"
           }
          ],
          "scatter3d": [
           {
            "line": {
             "colorbar": {
              "outlinewidth": 0,
              "ticks": ""
             }
            },
            "marker": {
             "colorbar": {
              "outlinewidth": 0,
              "ticks": ""
             }
            },
            "type": "scatter3d"
           }
          ],
          "scattercarpet": [
           {
            "marker": {
             "colorbar": {
              "outlinewidth": 0,
              "ticks": ""
             }
            },
            "type": "scattercarpet"
           }
          ],
          "scattergeo": [
           {
            "marker": {
             "colorbar": {
              "outlinewidth": 0,
              "ticks": ""
             }
            },
            "type": "scattergeo"
           }
          ],
          "scattergl": [
           {
            "marker": {
             "colorbar": {
              "outlinewidth": 0,
              "ticks": ""
             }
            },
            "type": "scattergl"
           }
          ],
          "scattermapbox": [
           {
            "marker": {
             "colorbar": {
              "outlinewidth": 0,
              "ticks": ""
             }
            },
            "type": "scattermapbox"
           }
          ],
          "scatterpolar": [
           {
            "marker": {
             "colorbar": {
              "outlinewidth": 0,
              "ticks": ""
             }
            },
            "type": "scatterpolar"
           }
          ],
          "scatterpolargl": [
           {
            "marker": {
             "colorbar": {
              "outlinewidth": 0,
              "ticks": ""
             }
            },
            "type": "scatterpolargl"
           }
          ],
          "scatterternary": [
           {
            "marker": {
             "colorbar": {
              "outlinewidth": 0,
              "ticks": ""
             }
            },
            "type": "scatterternary"
           }
          ],
          "surface": [
           {
            "colorbar": {
             "outlinewidth": 0,
             "ticks": ""
            },
            "colorscale": [
             [
              0,
              "#0d0887"
             ],
             [
              0.1111111111111111,
              "#46039f"
             ],
             [
              0.2222222222222222,
              "#7201a8"
             ],
             [
              0.3333333333333333,
              "#9c179e"
             ],
             [
              0.4444444444444444,
              "#bd3786"
             ],
             [
              0.5555555555555556,
              "#d8576b"
             ],
             [
              0.6666666666666666,
              "#ed7953"
             ],
             [
              0.7777777777777778,
              "#fb9f3a"
             ],
             [
              0.8888888888888888,
              "#fdca26"
             ],
             [
              1,
              "#f0f921"
             ]
            ],
            "type": "surface"
           }
          ],
          "table": [
           {
            "cells": {
             "fill": {
              "color": "#EBF0F8"
             },
             "line": {
              "color": "white"
             }
            },
            "header": {
             "fill": {
              "color": "#C8D4E3"
             },
             "line": {
              "color": "white"
             }
            },
            "type": "table"
           }
          ]
         },
         "layout": {
          "annotationdefaults": {
           "arrowcolor": "#2a3f5f",
           "arrowhead": 0,
           "arrowwidth": 1
          },
          "autotypenumbers": "strict",
          "coloraxis": {
           "colorbar": {
            "outlinewidth": 0,
            "ticks": ""
           }
          },
          "colorscale": {
           "diverging": [
            [
             0,
             "#8e0152"
            ],
            [
             0.1,
             "#c51b7d"
            ],
            [
             0.2,
             "#de77ae"
            ],
            [
             0.3,
             "#f1b6da"
            ],
            [
             0.4,
             "#fde0ef"
            ],
            [
             0.5,
             "#f7f7f7"
            ],
            [
             0.6,
             "#e6f5d0"
            ],
            [
             0.7,
             "#b8e186"
            ],
            [
             0.8,
             "#7fbc41"
            ],
            [
             0.9,
             "#4d9221"
            ],
            [
             1,
             "#276419"
            ]
           ],
           "sequential": [
            [
             0,
             "#0d0887"
            ],
            [
             0.1111111111111111,
             "#46039f"
            ],
            [
             0.2222222222222222,
             "#7201a8"
            ],
            [
             0.3333333333333333,
             "#9c179e"
            ],
            [
             0.4444444444444444,
             "#bd3786"
            ],
            [
             0.5555555555555556,
             "#d8576b"
            ],
            [
             0.6666666666666666,
             "#ed7953"
            ],
            [
             0.7777777777777778,
             "#fb9f3a"
            ],
            [
             0.8888888888888888,
             "#fdca26"
            ],
            [
             1,
             "#f0f921"
            ]
           ],
           "sequentialminus": [
            [
             0,
             "#0d0887"
            ],
            [
             0.1111111111111111,
             "#46039f"
            ],
            [
             0.2222222222222222,
             "#7201a8"
            ],
            [
             0.3333333333333333,
             "#9c179e"
            ],
            [
             0.4444444444444444,
             "#bd3786"
            ],
            [
             0.5555555555555556,
             "#d8576b"
            ],
            [
             0.6666666666666666,
             "#ed7953"
            ],
            [
             0.7777777777777778,
             "#fb9f3a"
            ],
            [
             0.8888888888888888,
             "#fdca26"
            ],
            [
             1,
             "#f0f921"
            ]
           ]
          },
          "colorway": [
           "#636efa",
           "#EF553B",
           "#00cc96",
           "#ab63fa",
           "#FFA15A",
           "#19d3f3",
           "#FF6692",
           "#B6E880",
           "#FF97FF",
           "#FECB52"
          ],
          "font": {
           "color": "#2a3f5f"
          },
          "geo": {
           "bgcolor": "white",
           "lakecolor": "white",
           "landcolor": "#E5ECF6",
           "showlakes": true,
           "showland": true,
           "subunitcolor": "white"
          },
          "hoverlabel": {
           "align": "left"
          },
          "hovermode": "closest",
          "mapbox": {
           "style": "light"
          },
          "paper_bgcolor": "white",
          "plot_bgcolor": "#E5ECF6",
          "polar": {
           "angularaxis": {
            "gridcolor": "white",
            "linecolor": "white",
            "ticks": ""
           },
           "bgcolor": "#E5ECF6",
           "radialaxis": {
            "gridcolor": "white",
            "linecolor": "white",
            "ticks": ""
           }
          },
          "scene": {
           "xaxis": {
            "backgroundcolor": "#E5ECF6",
            "gridcolor": "white",
            "gridwidth": 2,
            "linecolor": "white",
            "showbackground": true,
            "ticks": "",
            "zerolinecolor": "white"
           },
           "yaxis": {
            "backgroundcolor": "#E5ECF6",
            "gridcolor": "white",
            "gridwidth": 2,
            "linecolor": "white",
            "showbackground": true,
            "ticks": "",
            "zerolinecolor": "white"
           },
           "zaxis": {
            "backgroundcolor": "#E5ECF6",
            "gridcolor": "white",
            "gridwidth": 2,
            "linecolor": "white",
            "showbackground": true,
            "ticks": "",
            "zerolinecolor": "white"
           }
          },
          "shapedefaults": {
           "line": {
            "color": "#2a3f5f"
           }
          },
          "ternary": {
           "aaxis": {
            "gridcolor": "white",
            "linecolor": "white",
            "ticks": ""
           },
           "baxis": {
            "gridcolor": "white",
            "linecolor": "white",
            "ticks": ""
           },
           "bgcolor": "#E5ECF6",
           "caxis": {
            "gridcolor": "white",
            "linecolor": "white",
            "ticks": ""
           }
          },
          "title": {
           "x": 0.05
          },
          "xaxis": {
           "automargin": true,
           "gridcolor": "white",
           "linecolor": "white",
           "ticks": "",
           "title": {
            "standoff": 15
           },
           "zerolinecolor": "white",
           "zerolinewidth": 2
          },
          "yaxis": {
           "automargin": true,
           "gridcolor": "white",
           "linecolor": "white",
           "ticks": "",
           "title": {
            "standoff": 15
           },
           "zerolinecolor": "white",
           "zerolinewidth": 2
          }
         }
        },
        "title": {
         "text": "Total Sales Predictions vs. Actual Values"
        },
        "xaxis": {
         "anchor": "y",
         "domain": [
          0,
          1
         ],
         "title": {
          "text": "index"
         }
        },
        "yaxis": {
         "anchor": "x",
         "domain": [
          0,
          1
         ],
         "title": {
          "text": "value"
         }
        }
       }
      }
     },
     "metadata": {},
     "output_type": "display_data"
    }
   ],
   "source": [
    "#Plot the predictions vs. the actual values\n",
    "px.line(dtr_predictions_df, x=dtr_predictions_df.index, y=['p_Total_Sales', 'a_Total_Sales', 'p_Operating_Profit', 'a_Operating_Profit'], title='Total Sales Predictions vs. Actual Values')"
   ]
  },
  {
   "cell_type": "code",
   "execution_count": 1419,
   "metadata": {},
   "outputs": [
    {
     "data": {
      "text/plain": [
       "GridSearchCV(cv=5, estimator=DecisionTreeRegressor(), n_jobs=4,\n",
       "             param_grid={'max_depth': [None, 5, 10, 15, 20],\n",
       "                         'max_features': ['auto', 'sqrt', 'log2'],\n",
       "                         'min_samples_leaf': [1, 2, 3, 4, 5],\n",
       "                         'min_samples_split': [2, 4, 6, 8, 10]})"
      ]
     },
     "execution_count": 1419,
     "metadata": {},
     "output_type": "execute_result"
    }
   ],
   "source": [
    "#Find optimal parameters using GridSearchCV\n",
    "dtr_grid = {'max_depth': [None, 5, 10, 15, 20],\n",
    "            'min_samples_split': [2, 4, 6, 8, 10],\n",
    "            'min_samples_leaf': [1, 2, 3, 4, 5],\n",
    "            'max_features': ['auto', 'sqrt', 'log2']}\n",
    "\n",
    "dtr_CV = GridSearchCV(estimator=DecisionTreeRegressor(), param_grid=dtr_grid, cv=5, n_jobs=4)\n",
    "dtr_CV.fit(X_train, y_train)"
   ]
  },
  {
   "cell_type": "code",
   "execution_count": 1420,
   "metadata": {},
   "outputs": [
    {
     "data": {
      "text/plain": [
       "{'max_depth': 15,\n",
       " 'max_features': 'sqrt',\n",
       " 'min_samples_leaf': 4,\n",
       " 'min_samples_split': 4}"
      ]
     },
     "execution_count": 1420,
     "metadata": {},
     "output_type": "execute_result"
    }
   ],
   "source": [
    "dtr_CV.best_params_"
   ]
  },
  {
   "cell_type": "code",
   "execution_count": 1461,
   "metadata": {},
   "outputs": [],
   "source": [
    "#Use the optimal parameters to create a new model\n",
    "opt_dtr_model = DecisionTreeRegressor(max_depth=5, max_features='auto', min_samples_leaf=4, min_samples_split=10, random_state=0)"
   ]
  },
  {
   "cell_type": "code",
   "execution_count": 1462,
   "metadata": {},
   "outputs": [],
   "source": [
    "#Fit model to training data\n",
    "opt_dtr_model.fit(X_train, y_train)\n",
    "\n",
    "#Make predictions using the testing data\n",
    "opt_dtr_predictions = opt_dtr_model.predict(X_test)"
   ]
  },
  {
   "cell_type": "code",
   "execution_count": 1463,
   "metadata": {},
   "outputs": [
    {
     "name": "stdout",
     "output_type": "stream",
     "text": [
      "Random Forest Regressor MSE: 382392481711.1699\n",
      "Random Forest Regressor RMSE: 618378.9143487753\n"
     ]
    }
   ],
   "source": [
    "#Accuracy of the model\n",
    "opt_dtr_mse = mean_squared_error(y_test, opt_dtr_predictions)\n",
    "opt_dtr_rmse = opt_dtr_mse**.5\n",
    "\n",
    "print(f'Random Forest Regressor MSE: {opt_dtr_mse}')\n",
    "print(f'Random Forest Regressor RMSE: {opt_dtr_rmse}')"
   ]
  },
  {
   "cell_type": "code",
   "execution_count": 1464,
   "metadata": {},
   "outputs": [
    {
     "data": {
      "text/html": [
       "<div>\n",
       "<style scoped>\n",
       "    .dataframe tbody tr th:only-of-type {\n",
       "        vertical-align: middle;\n",
       "    }\n",
       "\n",
       "    .dataframe tbody tr th {\n",
       "        vertical-align: top;\n",
       "    }\n",
       "\n",
       "    .dataframe thead th {\n",
       "        text-align: right;\n",
       "    }\n",
       "</style>\n",
       "<table border=\"1\" class=\"dataframe\">\n",
       "  <thead>\n",
       "    <tr style=\"text-align: right;\">\n",
       "      <th></th>\n",
       "      <th>p_Total_Sales</th>\n",
       "      <th>p_Operating_Profit</th>\n",
       "      <th>a_Total_Sales</th>\n",
       "      <th>a_Operating_Profit</th>\n",
       "    </tr>\n",
       "  </thead>\n",
       "  <tbody>\n",
       "    <tr>\n",
       "      <th>2020:Q1</th>\n",
       "      <td>2096273.25</td>\n",
       "      <td>7.749617e+05</td>\n",
       "      <td>2312746.0</td>\n",
       "      <td>883774.16</td>\n",
       "    </tr>\n",
       "    <tr>\n",
       "      <th>2020:Q2_3</th>\n",
       "      <td>2096273.25</td>\n",
       "      <td>7.749617e+05</td>\n",
       "      <td>1084194.0</td>\n",
       "      <td>307046.16</td>\n",
       "    </tr>\n",
       "    <tr>\n",
       "      <th>2020:Q3_2</th>\n",
       "      <td>2096273.25</td>\n",
       "      <td>7.749617e+05</td>\n",
       "      <td>2641630.0</td>\n",
       "      <td>1042648.29</td>\n",
       "    </tr>\n",
       "    <tr>\n",
       "      <th>2020:Q4</th>\n",
       "      <td>2096273.25</td>\n",
       "      <td>7.749617e+05</td>\n",
       "      <td>1428569.0</td>\n",
       "      <td>582342.96</td>\n",
       "    </tr>\n",
       "    <tr>\n",
       "      <th>2021:Q2</th>\n",
       "      <td>7213281.00</td>\n",
       "      <td>2.800046e+06</td>\n",
       "      <td>6498339.0</td>\n",
       "      <td>2644237.72</td>\n",
       "    </tr>\n",
       "    <tr>\n",
       "      <th>2021:Q4_2</th>\n",
       "      <td>9100768.80</td>\n",
       "      <td>3.692223e+06</td>\n",
       "      <td>7855390.0</td>\n",
       "      <td>3101992.69</td>\n",
       "    </tr>\n",
       "  </tbody>\n",
       "</table>\n",
       "</div>"
      ],
      "text/plain": [
       "           p_Total_Sales  p_Operating_Profit  a_Total_Sales  \\\n",
       "2020:Q1       2096273.25        7.749617e+05      2312746.0   \n",
       "2020:Q2_3     2096273.25        7.749617e+05      1084194.0   \n",
       "2020:Q3_2     2096273.25        7.749617e+05      2641630.0   \n",
       "2020:Q4       2096273.25        7.749617e+05      1428569.0   \n",
       "2021:Q2       7213281.00        2.800046e+06      6498339.0   \n",
       "2021:Q4_2     9100768.80        3.692223e+06      7855390.0   \n",
       "\n",
       "           a_Operating_Profit  \n",
       "2020:Q1             883774.16  \n",
       "2020:Q2_3           307046.16  \n",
       "2020:Q3_2          1042648.29  \n",
       "2020:Q4             582342.96  \n",
       "2021:Q2            2644237.72  \n",
       "2021:Q4_2          3101992.69  "
      ]
     },
     "execution_count": 1464,
     "metadata": {},
     "output_type": "execute_result"
    }
   ],
   "source": [
    "#Create a dataframe of the predictions\n",
    "opt_dtr_predictions_df = pd.DataFrame(opt_dtr_predictions, columns=['p_Total_Sales', 'p_Operating_Profit'], index=y_test.index)\n",
    "opt_dtr_predictions_df['a_Total_Sales'], opt_dtr_predictions_df['a_Operating_Profit'] = y_test['Total Sales'], y_test['Operating Profit']\n",
    "opt_dtr_predictions_df = opt_dtr_predictions_df.sort_index()\n",
    "opt_dtr_predictions_df"
   ]
  },
  {
   "cell_type": "code",
   "execution_count": 1465,
   "metadata": {},
   "outputs": [
    {
     "data": {
      "application/vnd.plotly.v1+json": {
       "config": {
        "plotlyServerURL": "https://plot.ly"
       },
       "data": [
        {
         "hovertemplate": "variable=p_Total_Sales<br>index=%{x}<br>value=%{y}<extra></extra>",
         "legendgroup": "p_Total_Sales",
         "line": {
          "color": "#636efa",
          "dash": "solid"
         },
         "marker": {
          "symbol": "circle"
         },
         "mode": "lines",
         "name": "p_Total_Sales",
         "orientation": "v",
         "showlegend": true,
         "type": "scatter",
         "x": [
          "2020:Q1",
          "2020:Q2_3",
          "2020:Q3_2",
          "2020:Q4",
          "2021:Q2",
          "2021:Q4_2"
         ],
         "xaxis": "x",
         "y": [
          2096273.25,
          2096273.25,
          2096273.25,
          2096273.25,
          7213281,
          9100768.8
         ],
         "yaxis": "y"
        },
        {
         "hovertemplate": "variable=a_Total_Sales<br>index=%{x}<br>value=%{y}<extra></extra>",
         "legendgroup": "a_Total_Sales",
         "line": {
          "color": "#EF553B",
          "dash": "solid"
         },
         "marker": {
          "symbol": "circle"
         },
         "mode": "lines",
         "name": "a_Total_Sales",
         "orientation": "v",
         "showlegend": true,
         "type": "scatter",
         "x": [
          "2020:Q1",
          "2020:Q2_3",
          "2020:Q3_2",
          "2020:Q4",
          "2021:Q2",
          "2021:Q4_2"
         ],
         "xaxis": "x",
         "y": [
          2312746,
          1084194,
          2641630,
          1428569,
          6498339,
          7855390.000000001
         ],
         "yaxis": "y"
        },
        {
         "hovertemplate": "variable=p_Operating_Profit<br>index=%{x}<br>value=%{y}<extra></extra>",
         "legendgroup": "p_Operating_Profit",
         "line": {
          "color": "#00cc96",
          "dash": "solid"
         },
         "marker": {
          "symbol": "circle"
         },
         "mode": "lines",
         "name": "p_Operating_Profit",
         "orientation": "v",
         "showlegend": true,
         "type": "scatter",
         "x": [
          "2020:Q1",
          "2020:Q2_3",
          "2020:Q3_2",
          "2020:Q4",
          "2021:Q2",
          "2021:Q4_2"
         ],
         "xaxis": "x",
         "y": [
          774961.68875,
          774961.68875,
          774961.68875,
          774961.68875,
          2800046.31,
          3692223.1940000006
         ],
         "yaxis": "y"
        },
        {
         "hovertemplate": "variable=a_Operating_Profit<br>index=%{x}<br>value=%{y}<extra></extra>",
         "legendgroup": "a_Operating_Profit",
         "line": {
          "color": "#ab63fa",
          "dash": "solid"
         },
         "marker": {
          "symbol": "circle"
         },
         "mode": "lines",
         "name": "a_Operating_Profit",
         "orientation": "v",
         "showlegend": true,
         "type": "scatter",
         "x": [
          "2020:Q1",
          "2020:Q2_3",
          "2020:Q3_2",
          "2020:Q4",
          "2021:Q2",
          "2021:Q4_2"
         ],
         "xaxis": "x",
         "y": [
          883774.16,
          307046.16,
          1042648.29,
          582342.96,
          2644237.72,
          3101992.6900000004
         ],
         "yaxis": "y"
        }
       ],
       "layout": {
        "legend": {
         "title": {
          "text": "variable"
         },
         "tracegroupgap": 0
        },
        "template": {
         "data": {
          "bar": [
           {
            "error_x": {
             "color": "#2a3f5f"
            },
            "error_y": {
             "color": "#2a3f5f"
            },
            "marker": {
             "line": {
              "color": "#E5ECF6",
              "width": 0.5
             },
             "pattern": {
              "fillmode": "overlay",
              "size": 10,
              "solidity": 0.2
             }
            },
            "type": "bar"
           }
          ],
          "barpolar": [
           {
            "marker": {
             "line": {
              "color": "#E5ECF6",
              "width": 0.5
             },
             "pattern": {
              "fillmode": "overlay",
              "size": 10,
              "solidity": 0.2
             }
            },
            "type": "barpolar"
           }
          ],
          "carpet": [
           {
            "aaxis": {
             "endlinecolor": "#2a3f5f",
             "gridcolor": "white",
             "linecolor": "white",
             "minorgridcolor": "white",
             "startlinecolor": "#2a3f5f"
            },
            "baxis": {
             "endlinecolor": "#2a3f5f",
             "gridcolor": "white",
             "linecolor": "white",
             "minorgridcolor": "white",
             "startlinecolor": "#2a3f5f"
            },
            "type": "carpet"
           }
          ],
          "choropleth": [
           {
            "colorbar": {
             "outlinewidth": 0,
             "ticks": ""
            },
            "type": "choropleth"
           }
          ],
          "contour": [
           {
            "colorbar": {
             "outlinewidth": 0,
             "ticks": ""
            },
            "colorscale": [
             [
              0,
              "#0d0887"
             ],
             [
              0.1111111111111111,
              "#46039f"
             ],
             [
              0.2222222222222222,
              "#7201a8"
             ],
             [
              0.3333333333333333,
              "#9c179e"
             ],
             [
              0.4444444444444444,
              "#bd3786"
             ],
             [
              0.5555555555555556,
              "#d8576b"
             ],
             [
              0.6666666666666666,
              "#ed7953"
             ],
             [
              0.7777777777777778,
              "#fb9f3a"
             ],
             [
              0.8888888888888888,
              "#fdca26"
             ],
             [
              1,
              "#f0f921"
             ]
            ],
            "type": "contour"
           }
          ],
          "contourcarpet": [
           {
            "colorbar": {
             "outlinewidth": 0,
             "ticks": ""
            },
            "type": "contourcarpet"
           }
          ],
          "heatmap": [
           {
            "colorbar": {
             "outlinewidth": 0,
             "ticks": ""
            },
            "colorscale": [
             [
              0,
              "#0d0887"
             ],
             [
              0.1111111111111111,
              "#46039f"
             ],
             [
              0.2222222222222222,
              "#7201a8"
             ],
             [
              0.3333333333333333,
              "#9c179e"
             ],
             [
              0.4444444444444444,
              "#bd3786"
             ],
             [
              0.5555555555555556,
              "#d8576b"
             ],
             [
              0.6666666666666666,
              "#ed7953"
             ],
             [
              0.7777777777777778,
              "#fb9f3a"
             ],
             [
              0.8888888888888888,
              "#fdca26"
             ],
             [
              1,
              "#f0f921"
             ]
            ],
            "type": "heatmap"
           }
          ],
          "heatmapgl": [
           {
            "colorbar": {
             "outlinewidth": 0,
             "ticks": ""
            },
            "colorscale": [
             [
              0,
              "#0d0887"
             ],
             [
              0.1111111111111111,
              "#46039f"
             ],
             [
              0.2222222222222222,
              "#7201a8"
             ],
             [
              0.3333333333333333,
              "#9c179e"
             ],
             [
              0.4444444444444444,
              "#bd3786"
             ],
             [
              0.5555555555555556,
              "#d8576b"
             ],
             [
              0.6666666666666666,
              "#ed7953"
             ],
             [
              0.7777777777777778,
              "#fb9f3a"
             ],
             [
              0.8888888888888888,
              "#fdca26"
             ],
             [
              1,
              "#f0f921"
             ]
            ],
            "type": "heatmapgl"
           }
          ],
          "histogram": [
           {
            "marker": {
             "pattern": {
              "fillmode": "overlay",
              "size": 10,
              "solidity": 0.2
             }
            },
            "type": "histogram"
           }
          ],
          "histogram2d": [
           {
            "colorbar": {
             "outlinewidth": 0,
             "ticks": ""
            },
            "colorscale": [
             [
              0,
              "#0d0887"
             ],
             [
              0.1111111111111111,
              "#46039f"
             ],
             [
              0.2222222222222222,
              "#7201a8"
             ],
             [
              0.3333333333333333,
              "#9c179e"
             ],
             [
              0.4444444444444444,
              "#bd3786"
             ],
             [
              0.5555555555555556,
              "#d8576b"
             ],
             [
              0.6666666666666666,
              "#ed7953"
             ],
             [
              0.7777777777777778,
              "#fb9f3a"
             ],
             [
              0.8888888888888888,
              "#fdca26"
             ],
             [
              1,
              "#f0f921"
             ]
            ],
            "type": "histogram2d"
           }
          ],
          "histogram2dcontour": [
           {
            "colorbar": {
             "outlinewidth": 0,
             "ticks": ""
            },
            "colorscale": [
             [
              0,
              "#0d0887"
             ],
             [
              0.1111111111111111,
              "#46039f"
             ],
             [
              0.2222222222222222,
              "#7201a8"
             ],
             [
              0.3333333333333333,
              "#9c179e"
             ],
             [
              0.4444444444444444,
              "#bd3786"
             ],
             [
              0.5555555555555556,
              "#d8576b"
             ],
             [
              0.6666666666666666,
              "#ed7953"
             ],
             [
              0.7777777777777778,
              "#fb9f3a"
             ],
             [
              0.8888888888888888,
              "#fdca26"
             ],
             [
              1,
              "#f0f921"
             ]
            ],
            "type": "histogram2dcontour"
           }
          ],
          "mesh3d": [
           {
            "colorbar": {
             "outlinewidth": 0,
             "ticks": ""
            },
            "type": "mesh3d"
           }
          ],
          "parcoords": [
           {
            "line": {
             "colorbar": {
              "outlinewidth": 0,
              "ticks": ""
             }
            },
            "type": "parcoords"
           }
          ],
          "pie": [
           {
            "automargin": true,
            "type": "pie"
           }
          ],
          "scatter": [
           {
            "fillpattern": {
             "fillmode": "overlay",
             "size": 10,
             "solidity": 0.2
            },
            "type": "scatter"
           }
          ],
          "scatter3d": [
           {
            "line": {
             "colorbar": {
              "outlinewidth": 0,
              "ticks": ""
             }
            },
            "marker": {
             "colorbar": {
              "outlinewidth": 0,
              "ticks": ""
             }
            },
            "type": "scatter3d"
           }
          ],
          "scattercarpet": [
           {
            "marker": {
             "colorbar": {
              "outlinewidth": 0,
              "ticks": ""
             }
            },
            "type": "scattercarpet"
           }
          ],
          "scattergeo": [
           {
            "marker": {
             "colorbar": {
              "outlinewidth": 0,
              "ticks": ""
             }
            },
            "type": "scattergeo"
           }
          ],
          "scattergl": [
           {
            "marker": {
             "colorbar": {
              "outlinewidth": 0,
              "ticks": ""
             }
            },
            "type": "scattergl"
           }
          ],
          "scattermapbox": [
           {
            "marker": {
             "colorbar": {
              "outlinewidth": 0,
              "ticks": ""
             }
            },
            "type": "scattermapbox"
           }
          ],
          "scatterpolar": [
           {
            "marker": {
             "colorbar": {
              "outlinewidth": 0,
              "ticks": ""
             }
            },
            "type": "scatterpolar"
           }
          ],
          "scatterpolargl": [
           {
            "marker": {
             "colorbar": {
              "outlinewidth": 0,
              "ticks": ""
             }
            },
            "type": "scatterpolargl"
           }
          ],
          "scatterternary": [
           {
            "marker": {
             "colorbar": {
              "outlinewidth": 0,
              "ticks": ""
             }
            },
            "type": "scatterternary"
           }
          ],
          "surface": [
           {
            "colorbar": {
             "outlinewidth": 0,
             "ticks": ""
            },
            "colorscale": [
             [
              0,
              "#0d0887"
             ],
             [
              0.1111111111111111,
              "#46039f"
             ],
             [
              0.2222222222222222,
              "#7201a8"
             ],
             [
              0.3333333333333333,
              "#9c179e"
             ],
             [
              0.4444444444444444,
              "#bd3786"
             ],
             [
              0.5555555555555556,
              "#d8576b"
             ],
             [
              0.6666666666666666,
              "#ed7953"
             ],
             [
              0.7777777777777778,
              "#fb9f3a"
             ],
             [
              0.8888888888888888,
              "#fdca26"
             ],
             [
              1,
              "#f0f921"
             ]
            ],
            "type": "surface"
           }
          ],
          "table": [
           {
            "cells": {
             "fill": {
              "color": "#EBF0F8"
             },
             "line": {
              "color": "white"
             }
            },
            "header": {
             "fill": {
              "color": "#C8D4E3"
             },
             "line": {
              "color": "white"
             }
            },
            "type": "table"
           }
          ]
         },
         "layout": {
          "annotationdefaults": {
           "arrowcolor": "#2a3f5f",
           "arrowhead": 0,
           "arrowwidth": 1
          },
          "autotypenumbers": "strict",
          "coloraxis": {
           "colorbar": {
            "outlinewidth": 0,
            "ticks": ""
           }
          },
          "colorscale": {
           "diverging": [
            [
             0,
             "#8e0152"
            ],
            [
             0.1,
             "#c51b7d"
            ],
            [
             0.2,
             "#de77ae"
            ],
            [
             0.3,
             "#f1b6da"
            ],
            [
             0.4,
             "#fde0ef"
            ],
            [
             0.5,
             "#f7f7f7"
            ],
            [
             0.6,
             "#e6f5d0"
            ],
            [
             0.7,
             "#b8e186"
            ],
            [
             0.8,
             "#7fbc41"
            ],
            [
             0.9,
             "#4d9221"
            ],
            [
             1,
             "#276419"
            ]
           ],
           "sequential": [
            [
             0,
             "#0d0887"
            ],
            [
             0.1111111111111111,
             "#46039f"
            ],
            [
             0.2222222222222222,
             "#7201a8"
            ],
            [
             0.3333333333333333,
             "#9c179e"
            ],
            [
             0.4444444444444444,
             "#bd3786"
            ],
            [
             0.5555555555555556,
             "#d8576b"
            ],
            [
             0.6666666666666666,
             "#ed7953"
            ],
            [
             0.7777777777777778,
             "#fb9f3a"
            ],
            [
             0.8888888888888888,
             "#fdca26"
            ],
            [
             1,
             "#f0f921"
            ]
           ],
           "sequentialminus": [
            [
             0,
             "#0d0887"
            ],
            [
             0.1111111111111111,
             "#46039f"
            ],
            [
             0.2222222222222222,
             "#7201a8"
            ],
            [
             0.3333333333333333,
             "#9c179e"
            ],
            [
             0.4444444444444444,
             "#bd3786"
            ],
            [
             0.5555555555555556,
             "#d8576b"
            ],
            [
             0.6666666666666666,
             "#ed7953"
            ],
            [
             0.7777777777777778,
             "#fb9f3a"
            ],
            [
             0.8888888888888888,
             "#fdca26"
            ],
            [
             1,
             "#f0f921"
            ]
           ]
          },
          "colorway": [
           "#636efa",
           "#EF553B",
           "#00cc96",
           "#ab63fa",
           "#FFA15A",
           "#19d3f3",
           "#FF6692",
           "#B6E880",
           "#FF97FF",
           "#FECB52"
          ],
          "font": {
           "color": "#2a3f5f"
          },
          "geo": {
           "bgcolor": "white",
           "lakecolor": "white",
           "landcolor": "#E5ECF6",
           "showlakes": true,
           "showland": true,
           "subunitcolor": "white"
          },
          "hoverlabel": {
           "align": "left"
          },
          "hovermode": "closest",
          "mapbox": {
           "style": "light"
          },
          "paper_bgcolor": "white",
          "plot_bgcolor": "#E5ECF6",
          "polar": {
           "angularaxis": {
            "gridcolor": "white",
            "linecolor": "white",
            "ticks": ""
           },
           "bgcolor": "#E5ECF6",
           "radialaxis": {
            "gridcolor": "white",
            "linecolor": "white",
            "ticks": ""
           }
          },
          "scene": {
           "xaxis": {
            "backgroundcolor": "#E5ECF6",
            "gridcolor": "white",
            "gridwidth": 2,
            "linecolor": "white",
            "showbackground": true,
            "ticks": "",
            "zerolinecolor": "white"
           },
           "yaxis": {
            "backgroundcolor": "#E5ECF6",
            "gridcolor": "white",
            "gridwidth": 2,
            "linecolor": "white",
            "showbackground": true,
            "ticks": "",
            "zerolinecolor": "white"
           },
           "zaxis": {
            "backgroundcolor": "#E5ECF6",
            "gridcolor": "white",
            "gridwidth": 2,
            "linecolor": "white",
            "showbackground": true,
            "ticks": "",
            "zerolinecolor": "white"
           }
          },
          "shapedefaults": {
           "line": {
            "color": "#2a3f5f"
           }
          },
          "ternary": {
           "aaxis": {
            "gridcolor": "white",
            "linecolor": "white",
            "ticks": ""
           },
           "baxis": {
            "gridcolor": "white",
            "linecolor": "white",
            "ticks": ""
           },
           "bgcolor": "#E5ECF6",
           "caxis": {
            "gridcolor": "white",
            "linecolor": "white",
            "ticks": ""
           }
          },
          "title": {
           "x": 0.05
          },
          "xaxis": {
           "automargin": true,
           "gridcolor": "white",
           "linecolor": "white",
           "ticks": "",
           "title": {
            "standoff": 15
           },
           "zerolinecolor": "white",
           "zerolinewidth": 2
          },
          "yaxis": {
           "automargin": true,
           "gridcolor": "white",
           "linecolor": "white",
           "ticks": "",
           "title": {
            "standoff": 15
           },
           "zerolinecolor": "white",
           "zerolinewidth": 2
          }
         }
        },
        "title": {
         "text": "Total Sales Predictions vs. Actual Values"
        },
        "xaxis": {
         "anchor": "y",
         "domain": [
          0,
          1
         ],
         "title": {
          "text": "index"
         }
        },
        "yaxis": {
         "anchor": "x",
         "domain": [
          0,
          1
         ],
         "title": {
          "text": "value"
         }
        }
       }
      }
     },
     "metadata": {},
     "output_type": "display_data"
    }
   ],
   "source": [
    "#Plot the predictions vs. the actual values\n",
    "px.line(opt_dtr_predictions_df, x=opt_dtr_predictions_df.index, y=['p_Total_Sales', 'a_Total_Sales', 'p_Operating_Profit', 'a_Operating_Profit'], title='Total Sales Predictions vs. Actual Values')"
   ]
  }
 ],
 "metadata": {
  "kernelspec": {
   "display_name": "base",
   "language": "python",
   "name": "python3"
  },
  "language_info": {
   "codemirror_mode": {
    "name": "ipython",
    "version": 3
   },
   "file_extension": ".py",
   "mimetype": "text/x-python",
   "name": "python",
   "nbconvert_exporter": "python",
   "pygments_lexer": "ipython3",
   "version": "3.9.13"
  },
  "orig_nbformat": 4,
  "vscode": {
   "interpreter": {
    "hash": "335ee12212264728feb72f243af72c5a8ea26c832f07e1f651ce9e17c7ceae23"
   }
  }
 },
 "nbformat": 4,
 "nbformat_minor": 2
}
