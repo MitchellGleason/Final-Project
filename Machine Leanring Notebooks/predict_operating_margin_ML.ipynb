{
 "cells": [
  {
   "cell_type": "code",
   "execution_count": 1,
   "metadata": {},
   "outputs": [],
   "source": [
    "import pandas as pd\n",
    "from sklearn import tree\n",
    "from sklearn.preprocessing import StandardScaler\n",
    "from sklearn.model_selection import train_test_split\n",
    "from sklearn.metrics import confusion_matrix, accuracy_score, classification_report"
   ]
  },
  {
   "cell_type": "code",
   "execution_count": 3,
   "metadata": {},
   "outputs": [
    {
     "data": {
      "text/html": [
       "<div>\n",
       "<style scoped>\n",
       "    .dataframe tbody tr th:only-of-type {\n",
       "        vertical-align: middle;\n",
       "    }\n",
       "\n",
       "    .dataframe tbody tr th {\n",
       "        vertical-align: top;\n",
       "    }\n",
       "\n",
       "    .dataframe thead th {\n",
       "        text-align: right;\n",
       "    }\n",
       "</style>\n",
       "<table border=\"1\" class=\"dataframe\">\n",
       "  <thead>\n",
       "    <tr style=\"text-align: right;\">\n",
       "      <th></th>\n",
       "      <th>Retailer ID</th>\n",
       "      <th>Invoice Date</th>\n",
       "      <th>Region_ID</th>\n",
       "      <th>State_ID</th>\n",
       "      <th>Product_ID</th>\n",
       "      <th>Price per Unit</th>\n",
       "      <th>Units Sold</th>\n",
       "      <th>Operating Margin</th>\n",
       "      <th>Sales Method</th>\n",
       "      <th>Total Sales</th>\n",
       "      <th>Operating Profit</th>\n",
       "    </tr>\n",
       "  </thead>\n",
       "  <tbody>\n",
       "    <tr>\n",
       "      <th>0</th>\n",
       "      <td>1185732</td>\n",
       "      <td>2020-01-01</td>\n",
       "      <td>RG1</td>\n",
       "      <td>ST1</td>\n",
       "      <td>PD1</td>\n",
       "      <td>50.0</td>\n",
       "      <td>1200</td>\n",
       "      <td>0.50</td>\n",
       "      <td>In-store</td>\n",
       "      <td>60000.0</td>\n",
       "      <td>30000.0</td>\n",
       "    </tr>\n",
       "    <tr>\n",
       "      <th>1</th>\n",
       "      <td>1185732</td>\n",
       "      <td>2020-01-02</td>\n",
       "      <td>RG1</td>\n",
       "      <td>ST1</td>\n",
       "      <td>PD2</td>\n",
       "      <td>50.0</td>\n",
       "      <td>1000</td>\n",
       "      <td>0.30</td>\n",
       "      <td>In-store</td>\n",
       "      <td>50000.0</td>\n",
       "      <td>15000.0</td>\n",
       "    </tr>\n",
       "    <tr>\n",
       "      <th>2</th>\n",
       "      <td>1185732</td>\n",
       "      <td>2020-01-03</td>\n",
       "      <td>RG1</td>\n",
       "      <td>ST1</td>\n",
       "      <td>PD3</td>\n",
       "      <td>40.0</td>\n",
       "      <td>1000</td>\n",
       "      <td>0.35</td>\n",
       "      <td>In-store</td>\n",
       "      <td>40000.0</td>\n",
       "      <td>14000.0</td>\n",
       "    </tr>\n",
       "    <tr>\n",
       "      <th>3</th>\n",
       "      <td>1185732</td>\n",
       "      <td>2020-01-04</td>\n",
       "      <td>RG1</td>\n",
       "      <td>ST1</td>\n",
       "      <td>PD4</td>\n",
       "      <td>45.0</td>\n",
       "      <td>850</td>\n",
       "      <td>0.35</td>\n",
       "      <td>In-store</td>\n",
       "      <td>38250.0</td>\n",
       "      <td>13387.5</td>\n",
       "    </tr>\n",
       "    <tr>\n",
       "      <th>4</th>\n",
       "      <td>1185732</td>\n",
       "      <td>2020-01-05</td>\n",
       "      <td>RG1</td>\n",
       "      <td>ST1</td>\n",
       "      <td>PD5</td>\n",
       "      <td>60.0</td>\n",
       "      <td>900</td>\n",
       "      <td>0.30</td>\n",
       "      <td>In-store</td>\n",
       "      <td>54000.0</td>\n",
       "      <td>16200.0</td>\n",
       "    </tr>\n",
       "  </tbody>\n",
       "</table>\n",
       "</div>"
      ],
      "text/plain": [
       "   Retailer ID Invoice Date Region_ID State_ID Product_ID  Price per Unit  \\\n",
       "0      1185732   2020-01-01       RG1      ST1        PD1            50.0   \n",
       "1      1185732   2020-01-02       RG1      ST1        PD2            50.0   \n",
       "2      1185732   2020-01-03       RG1      ST1        PD3            40.0   \n",
       "3      1185732   2020-01-04       RG1      ST1        PD4            45.0   \n",
       "4      1185732   2020-01-05       RG1      ST1        PD5            60.0   \n",
       "\n",
       "   Units Sold  Operating Margin Sales Method  Total Sales  Operating Profit  \n",
       "0        1200              0.50     In-store      60000.0           30000.0  \n",
       "1        1000              0.30     In-store      50000.0           15000.0  \n",
       "2        1000              0.35     In-store      40000.0           14000.0  \n",
       "3         850              0.35     In-store      38250.0           13387.5  \n",
       "4         900              0.30     In-store      54000.0           16200.0  "
      ]
     },
     "execution_count": 3,
     "metadata": {},
     "output_type": "execute_result"
    }
   ],
   "source": [
    "#Import sales data\n",
    "adidas_sales_df = pd.read_csv('../adidas_sales.csv')\n",
    "adidas_sales_df.head()"
   ]
  },
  {
   "cell_type": "code",
   "execution_count": 15,
   "metadata": {},
   "outputs": [
    {
     "data": {
      "text/plain": [
       "Retailer ID                                  int64\n",
       "Invoice Date                                object\n",
       "Region_ID                                   object\n",
       "State_ID                                    object\n",
       "Product_ID                                  object\n",
       "Price per Unit                             float64\n",
       "Units Sold                                   int64\n",
       "Operating Margin                           float64\n",
       "Sales Method                                object\n",
       "Total Sales                                float64\n",
       "Operating Profit                           float64\n",
       "Operating Margin Equal to or Above 0.35      int32\n",
       "dtype: object"
      ]
     },
     "execution_count": 15,
     "metadata": {},
     "output_type": "execute_result"
    }
   ],
   "source": [
    "adidas_sales_df.dtypes"
   ]
  },
  {
   "cell_type": "code",
   "execution_count": 19,
   "metadata": {},
   "outputs": [],
   "source": [
    "#Convert date to datetime\n",
    "adidas_sales_df['Invoice Date'] = pd.to_datetime(adidas_sales_df['Invoice Date'])"
   ]
  },
  {
   "cell_type": "code",
   "execution_count": 20,
   "metadata": {},
   "outputs": [
    {
     "data": {
      "text/plain": [
       "0.35    1309\n",
       "0.40    1003\n",
       "0.30     722\n",
       "0.50     610\n",
       "0.45     364\n",
       "        ... \n",
       "0.48       1\n",
       "0.27       1\n",
       "0.17       1\n",
       "0.65       1\n",
       "0.17       1\n",
       "Name: Operating Margin, Length: 110, dtype: int64"
      ]
     },
     "execution_count": 20,
     "metadata": {},
     "output_type": "execute_result"
    }
   ],
   "source": [
    "adidas_sales_df['Operating Margin'].value_counts()"
   ]
  },
  {
   "cell_type": "code",
   "execution_count": 21,
   "metadata": {},
   "outputs": [
    {
     "data": {
      "text/html": [
       "<div>\n",
       "<style scoped>\n",
       "    .dataframe tbody tr th:only-of-type {\n",
       "        vertical-align: middle;\n",
       "    }\n",
       "\n",
       "    .dataframe tbody tr th {\n",
       "        vertical-align: top;\n",
       "    }\n",
       "\n",
       "    .dataframe thead th {\n",
       "        text-align: right;\n",
       "    }\n",
       "</style>\n",
       "<table border=\"1\" class=\"dataframe\">\n",
       "  <thead>\n",
       "    <tr style=\"text-align: right;\">\n",
       "      <th></th>\n",
       "      <th>Retailer ID</th>\n",
       "      <th>Invoice Date</th>\n",
       "      <th>Region_ID</th>\n",
       "      <th>State_ID</th>\n",
       "      <th>Product_ID</th>\n",
       "      <th>Price per Unit</th>\n",
       "      <th>Units Sold</th>\n",
       "      <th>Operating Margin</th>\n",
       "      <th>Sales Method</th>\n",
       "      <th>Total Sales</th>\n",
       "      <th>Operating Profit</th>\n",
       "      <th>Operating Margin Equal to or Above 0.35</th>\n",
       "    </tr>\n",
       "  </thead>\n",
       "  <tbody>\n",
       "    <tr>\n",
       "      <th>0</th>\n",
       "      <td>1185732</td>\n",
       "      <td>2020-01-01</td>\n",
       "      <td>RG1</td>\n",
       "      <td>ST1</td>\n",
       "      <td>PD1</td>\n",
       "      <td>50.0</td>\n",
       "      <td>1200</td>\n",
       "      <td>0.50</td>\n",
       "      <td>In-store</td>\n",
       "      <td>60000.0</td>\n",
       "      <td>30000.0</td>\n",
       "      <td>1</td>\n",
       "    </tr>\n",
       "    <tr>\n",
       "      <th>1</th>\n",
       "      <td>1185732</td>\n",
       "      <td>2020-01-02</td>\n",
       "      <td>RG1</td>\n",
       "      <td>ST1</td>\n",
       "      <td>PD2</td>\n",
       "      <td>50.0</td>\n",
       "      <td>1000</td>\n",
       "      <td>0.30</td>\n",
       "      <td>In-store</td>\n",
       "      <td>50000.0</td>\n",
       "      <td>15000.0</td>\n",
       "      <td>0</td>\n",
       "    </tr>\n",
       "    <tr>\n",
       "      <th>2</th>\n",
       "      <td>1185732</td>\n",
       "      <td>2020-01-03</td>\n",
       "      <td>RG1</td>\n",
       "      <td>ST1</td>\n",
       "      <td>PD3</td>\n",
       "      <td>40.0</td>\n",
       "      <td>1000</td>\n",
       "      <td>0.35</td>\n",
       "      <td>In-store</td>\n",
       "      <td>40000.0</td>\n",
       "      <td>14000.0</td>\n",
       "      <td>1</td>\n",
       "    </tr>\n",
       "    <tr>\n",
       "      <th>3</th>\n",
       "      <td>1185732</td>\n",
       "      <td>2020-01-04</td>\n",
       "      <td>RG1</td>\n",
       "      <td>ST1</td>\n",
       "      <td>PD4</td>\n",
       "      <td>45.0</td>\n",
       "      <td>850</td>\n",
       "      <td>0.35</td>\n",
       "      <td>In-store</td>\n",
       "      <td>38250.0</td>\n",
       "      <td>13387.5</td>\n",
       "      <td>1</td>\n",
       "    </tr>\n",
       "    <tr>\n",
       "      <th>4</th>\n",
       "      <td>1185732</td>\n",
       "      <td>2020-01-05</td>\n",
       "      <td>RG1</td>\n",
       "      <td>ST1</td>\n",
       "      <td>PD5</td>\n",
       "      <td>60.0</td>\n",
       "      <td>900</td>\n",
       "      <td>0.30</td>\n",
       "      <td>In-store</td>\n",
       "      <td>54000.0</td>\n",
       "      <td>16200.0</td>\n",
       "      <td>0</td>\n",
       "    </tr>\n",
       "  </tbody>\n",
       "</table>\n",
       "</div>"
      ],
      "text/plain": [
       "   Retailer ID Invoice Date Region_ID State_ID Product_ID  Price per Unit  \\\n",
       "0      1185732   2020-01-01       RG1      ST1        PD1            50.0   \n",
       "1      1185732   2020-01-02       RG1      ST1        PD2            50.0   \n",
       "2      1185732   2020-01-03       RG1      ST1        PD3            40.0   \n",
       "3      1185732   2020-01-04       RG1      ST1        PD4            45.0   \n",
       "4      1185732   2020-01-05       RG1      ST1        PD5            60.0   \n",
       "\n",
       "   Units Sold  Operating Margin Sales Method  Total Sales  Operating Profit  \\\n",
       "0        1200              0.50     In-store      60000.0           30000.0   \n",
       "1        1000              0.30     In-store      50000.0           15000.0   \n",
       "2        1000              0.35     In-store      40000.0           14000.0   \n",
       "3         850              0.35     In-store      38250.0           13387.5   \n",
       "4         900              0.30     In-store      54000.0           16200.0   \n",
       "\n",
       "   Operating Margin Equal to or Above 0.35  \n",
       "0                                        1  \n",
       "1                                        0  \n",
       "2                                        1  \n",
       "3                                        1  \n",
       "4                                        0  "
      ]
     },
     "execution_count": 21,
     "metadata": {},
     "output_type": "execute_result"
    }
   ],
   "source": [
    "#Add binary column for operating margin above 0.35\n",
    "adidas_sales_df['Operating Margin Equal to or Above 0.35'] = adidas_sales_df['Operating Margin'] >= 0.35\n",
    "\n",
    "#Convert boolean to int\n",
    "adidas_sales_df['Operating Margin Equal to or Above 0.35'] = adidas_sales_df['Operating Margin Equal to or Above 0.35'].astype(int)\n",
    "\n",
    "adidas_sales_df.head()"
   ]
  },
  {
   "cell_type": "code",
   "execution_count": 22,
   "metadata": {},
   "outputs": [],
   "source": [
    "#Define feature set\n",
    "X = adidas_sales_df.drop(['Operating Margin', 'Operating Margin Equal to or Above 0.35'], axis=1)\n",
    "\n",
    "#Define target set\n",
    "y = adidas_sales_df['Operating Margin Equal to or Above 0.35']"
   ]
  },
  {
   "cell_type": "code",
   "execution_count": 23,
   "metadata": {},
   "outputs": [],
   "source": [
    "#Get dummy variables for categorical data\n",
    "X = pd.get_dummies(X)"
   ]
  },
  {
   "cell_type": "code",
   "execution_count": 26,
   "metadata": {},
   "outputs": [
    {
     "data": {
      "text/plain": [
       "Index(['Retailer ID', 'Invoice Date', 'Price per Unit', 'Units Sold',\n",
       "       'Total Sales', 'Operating Profit', 'Region_ID_RG1', 'Region_ID_RG2',\n",
       "       'Region_ID_RG3', 'Region_ID_RG4', 'Region_ID_RG5', 'State_ID_ST1',\n",
       "       'State_ID_ST10', 'State_ID_ST11', 'State_ID_ST12', 'State_ID_ST13',\n",
       "       'State_ID_ST14', 'State_ID_ST15', 'State_ID_ST16', 'State_ID_ST17',\n",
       "       'State_ID_ST18', 'State_ID_ST19', 'State_ID_ST2', 'State_ID_ST20',\n",
       "       'State_ID_ST21', 'State_ID_ST22', 'State_ID_ST23', 'State_ID_ST24',\n",
       "       'State_ID_ST25', 'State_ID_ST26', 'State_ID_ST27', 'State_ID_ST28',\n",
       "       'State_ID_ST29', 'State_ID_ST3', 'State_ID_ST30', 'State_ID_ST31',\n",
       "       'State_ID_ST32', 'State_ID_ST33', 'State_ID_ST34', 'State_ID_ST35',\n",
       "       'State_ID_ST36', 'State_ID_ST37', 'State_ID_ST38', 'State_ID_ST39',\n",
       "       'State_ID_ST4', 'State_ID_ST40', 'State_ID_ST41', 'State_ID_ST42',\n",
       "       'State_ID_ST43', 'State_ID_ST44', 'State_ID_ST45', 'State_ID_ST46',\n",
       "       'State_ID_ST47', 'State_ID_ST48', 'State_ID_ST49', 'State_ID_ST5',\n",
       "       'State_ID_ST50', 'State_ID_ST6', 'State_ID_ST7', 'State_ID_ST8',\n",
       "       'State_ID_ST9', 'Product_ID_PD1', 'Product_ID_PD2', 'Product_ID_PD3',\n",
       "       'Product_ID_PD4', 'Product_ID_PD5', 'Product_ID_PD6',\n",
       "       'Sales Method_In-store', 'Sales Method_Online', 'Sales Method_Outlet'],\n",
       "      dtype='object')"
      ]
     },
     "execution_count": 26,
     "metadata": {},
     "output_type": "execute_result"
    }
   ],
   "source": [
    "X.columns"
   ]
  },
  {
   "cell_type": "code",
   "execution_count": 28,
   "metadata": {},
   "outputs": [],
   "source": [
    "#Split data into training and testing sets\n",
    "X_train, X_test, y_train, y_test = train_test_split(X, y, random_state=1)"
   ]
  },
  {
   "cell_type": "code",
   "execution_count": 32,
   "metadata": {},
   "outputs": [],
   "source": [
    "#Create a StandardScaler instance\n",
    "scaler = StandardScaler()\n",
    "\n",
    "#Fit the StandardScaler with the training data\n",
    "X_scaler = scaler.fit(X_train.drop(['Invoice Date'], axis=1))\n",
    "\n",
    "#Scale the data\n",
    "X_train_scaled = X_scaler.transform(X_train.drop(['Invoice Date'], axis=1))\n",
    "X_test_scaled = X_scaler.transform(X_test.drop(['Invoice Date'], axis=1))"
   ]
  },
  {
   "attachments": {},
   "cell_type": "markdown",
   "metadata": {},
   "source": [
    "# Decision Tree Regression"
   ]
  },
  {
   "cell_type": "code",
   "execution_count": 33,
   "metadata": {},
   "outputs": [],
   "source": [
    "#Create decision tree classifier instance\n",
    "model = tree.DecisionTreeClassifier()\n",
    "\n",
    "#Fit the model\n",
    "model = model.fit(X_train_scaled, y_train)"
   ]
  },
  {
   "cell_type": "code",
   "execution_count": 34,
   "metadata": {},
   "outputs": [],
   "source": [
    "#Make predictions\n",
    "predictions = model.predict(X_test_scaled)"
   ]
  },
  {
   "cell_type": "code",
   "execution_count": 35,
   "metadata": {},
   "outputs": [
    {
     "data": {
      "text/html": [
       "<div>\n",
       "<style scoped>\n",
       "    .dataframe tbody tr th:only-of-type {\n",
       "        vertical-align: middle;\n",
       "    }\n",
       "\n",
       "    .dataframe tbody tr th {\n",
       "        vertical-align: top;\n",
       "    }\n",
       "\n",
       "    .dataframe thead th {\n",
       "        text-align: right;\n",
       "    }\n",
       "</style>\n",
       "<table border=\"1\" class=\"dataframe\">\n",
       "  <thead>\n",
       "    <tr style=\"text-align: right;\">\n",
       "      <th></th>\n",
       "      <th>Predicted 0</th>\n",
       "      <th>Predicted 1</th>\n",
       "    </tr>\n",
       "  </thead>\n",
       "  <tbody>\n",
       "    <tr>\n",
       "      <th>Actual 0</th>\n",
       "      <td>339</td>\n",
       "      <td>56</td>\n",
       "    </tr>\n",
       "    <tr>\n",
       "      <th>Actual 1</th>\n",
       "      <td>54</td>\n",
       "      <td>1963</td>\n",
       "    </tr>\n",
       "  </tbody>\n",
       "</table>\n",
       "</div>"
      ],
      "text/plain": [
       "          Predicted 0  Predicted 1\n",
       "Actual 0          339           56\n",
       "Actual 1           54         1963"
      ]
     },
     "execution_count": 35,
     "metadata": {},
     "output_type": "execute_result"
    }
   ],
   "source": [
    "#Calculate the confusion matrix\n",
    "cm = confusion_matrix(y_test, predictions)\n",
    "\n",
    "#Create a DataFrame from the confusion matrix\n",
    "cm_df = pd.DataFrame(cm, index=[\"Actual 0\", \"Actual 1\"], columns=[\"Predicted 0\", \"Predicted 1\"])\n",
    "\n",
    "cm_df"
   ]
  },
  {
   "cell_type": "code",
   "execution_count": 37,
   "metadata": {},
   "outputs": [
    {
     "data": {
      "text/plain": [
       "0.9543946932006634"
      ]
     },
     "execution_count": 37,
     "metadata": {},
     "output_type": "execute_result"
    }
   ],
   "source": [
    "#Calculate the accuracy score\n",
    "acc_score = accuracy_score(y_test, predictions)\n",
    "acc_score"
   ]
  },
  {
   "cell_type": "code",
   "execution_count": 39,
   "metadata": {},
   "outputs": [
    {
     "name": "stdout",
     "output_type": "stream",
     "text": [
      "              precision    recall  f1-score   support\n",
      "\n",
      "           0       0.86      0.86      0.86       395\n",
      "           1       0.97      0.97      0.97      2017\n",
      "\n",
      "    accuracy                           0.95      2412\n",
      "   macro avg       0.92      0.92      0.92      2412\n",
      "weighted avg       0.95      0.95      0.95      2412\n",
      "\n"
     ]
    }
   ],
   "source": [
    "#Calculate the classification report\n",
    "print(classification_report(y_test, predictions))"
   ]
  },
  {
   "cell_type": "code",
   "execution_count": null,
   "metadata": {},
   "outputs": [],
   "source": []
  }
 ],
 "metadata": {
  "kernelspec": {
   "display_name": "base",
   "language": "python",
   "name": "python3"
  },
  "language_info": {
   "codemirror_mode": {
    "name": "ipython",
    "version": 3
   },
   "file_extension": ".py",
   "mimetype": "text/x-python",
   "name": "python",
   "nbconvert_exporter": "python",
   "pygments_lexer": "ipython3",
   "version": "3.9.13"
  },
  "orig_nbformat": 4,
  "vscode": {
   "interpreter": {
    "hash": "335ee12212264728feb72f243af72c5a8ea26c832f07e1f651ce9e17c7ceae23"
   }
  }
 },
 "nbformat": 4,
 "nbformat_minor": 2
}
