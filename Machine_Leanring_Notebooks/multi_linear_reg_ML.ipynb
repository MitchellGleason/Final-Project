{
 "cells": [
  {
   "cell_type": "code",
   "execution_count": 162,
   "metadata": {},
   "outputs": [],
   "source": [
    "import pandas as pd\n",
    "import numpy as np\n",
    "import itertools\n",
    "import plotly.express as px\n",
    "import plotly.graph_objects as go\n",
    "import hvplot.pandas\n",
    "from sklearn.preprocessing import StandardScaler, PolynomialFeatures\n",
    "from sklearn.model_selection import train_test_split, GridSearchCV\n",
    "from sklearn.metrics import confusion_matrix, accuracy_score, classification_report, mean_squared_error, make_scorer\n",
    "from sklearn.ensemble import RandomForestRegressor\n",
    "from sklearn.svm import SVR\n",
    "from sklearn.tree import DecisionTreeRegressor\n",
    "import xgboost as xgb"
   ]
  },
  {
   "attachments": {},
   "cell_type": "markdown",
   "metadata": {},
   "source": [
    "# Import & clean Adidas sales data"
   ]
  },
  {
   "cell_type": "code",
   "execution_count": 168,
   "metadata": {},
   "outputs": [],
   "source": [
    "#Import sales data\n",
    "adidas_sales_df = pd.read_csv('../adidas_sales.csv')"
   ]
  },
  {
   "cell_type": "code",
   "execution_count": 169,
   "metadata": {},
   "outputs": [
    {
     "data": {
      "text/html": [
       "<div>\n",
       "<style scoped>\n",
       "    .dataframe tbody tr th:only-of-type {\n",
       "        vertical-align: middle;\n",
       "    }\n",
       "\n",
       "    .dataframe tbody tr th {\n",
       "        vertical-align: top;\n",
       "    }\n",
       "\n",
       "    .dataframe thead th {\n",
       "        text-align: right;\n",
       "    }\n",
       "</style>\n",
       "<table border=\"1\" class=\"dataframe\">\n",
       "  <thead>\n",
       "    <tr style=\"text-align: right;\">\n",
       "      <th></th>\n",
       "      <th>Retailer_ID</th>\n",
       "      <th>Invoice_Date</th>\n",
       "      <th>Region_ID</th>\n",
       "      <th>State_ID</th>\n",
       "      <th>Product_ID</th>\n",
       "      <th>Price_per_unit</th>\n",
       "      <th>Units_sold</th>\n",
       "      <th>Operating_margin</th>\n",
       "      <th>Sales_method</th>\n",
       "      <th>Total_sales</th>\n",
       "      <th>Operating_profit</th>\n",
       "    </tr>\n",
       "  </thead>\n",
       "  <tbody>\n",
       "    <tr>\n",
       "      <th>0</th>\n",
       "      <td>RTL1</td>\n",
       "      <td>2020-01-01</td>\n",
       "      <td>RG1</td>\n",
       "      <td>ST1</td>\n",
       "      <td>PD1</td>\n",
       "      <td>50.0</td>\n",
       "      <td>1200</td>\n",
       "      <td>0.50</td>\n",
       "      <td>In-store</td>\n",
       "      <td>60000.0</td>\n",
       "      <td>30000.0</td>\n",
       "    </tr>\n",
       "    <tr>\n",
       "      <th>1</th>\n",
       "      <td>RTL1</td>\n",
       "      <td>2020-01-02</td>\n",
       "      <td>RG1</td>\n",
       "      <td>ST1</td>\n",
       "      <td>PD2</td>\n",
       "      <td>50.0</td>\n",
       "      <td>1000</td>\n",
       "      <td>0.30</td>\n",
       "      <td>In-store</td>\n",
       "      <td>50000.0</td>\n",
       "      <td>15000.0</td>\n",
       "    </tr>\n",
       "    <tr>\n",
       "      <th>2</th>\n",
       "      <td>RTL1</td>\n",
       "      <td>2020-01-03</td>\n",
       "      <td>RG1</td>\n",
       "      <td>ST1</td>\n",
       "      <td>PD3</td>\n",
       "      <td>40.0</td>\n",
       "      <td>1000</td>\n",
       "      <td>0.35</td>\n",
       "      <td>In-store</td>\n",
       "      <td>40000.0</td>\n",
       "      <td>14000.0</td>\n",
       "    </tr>\n",
       "    <tr>\n",
       "      <th>3</th>\n",
       "      <td>RTL1</td>\n",
       "      <td>2020-01-04</td>\n",
       "      <td>RG1</td>\n",
       "      <td>ST1</td>\n",
       "      <td>PD4</td>\n",
       "      <td>45.0</td>\n",
       "      <td>850</td>\n",
       "      <td>0.35</td>\n",
       "      <td>In-store</td>\n",
       "      <td>38250.0</td>\n",
       "      <td>13387.5</td>\n",
       "    </tr>\n",
       "    <tr>\n",
       "      <th>4</th>\n",
       "      <td>RTL1</td>\n",
       "      <td>2020-01-05</td>\n",
       "      <td>RG1</td>\n",
       "      <td>ST1</td>\n",
       "      <td>PD5</td>\n",
       "      <td>60.0</td>\n",
       "      <td>900</td>\n",
       "      <td>0.30</td>\n",
       "      <td>In-store</td>\n",
       "      <td>54000.0</td>\n",
       "      <td>16200.0</td>\n",
       "    </tr>\n",
       "  </tbody>\n",
       "</table>\n",
       "</div>"
      ],
      "text/plain": [
       "  Retailer_ID Invoice_Date Region_ID State_ID Product_ID  Price_per_unit  \\\n",
       "0        RTL1   2020-01-01       RG1      ST1        PD1            50.0   \n",
       "1        RTL1   2020-01-02       RG1      ST1        PD2            50.0   \n",
       "2        RTL1   2020-01-03       RG1      ST1        PD3            40.0   \n",
       "3        RTL1   2020-01-04       RG1      ST1        PD4            45.0   \n",
       "4        RTL1   2020-01-05       RG1      ST1        PD5            60.0   \n",
       "\n",
       "   Units_sold  Operating_margin Sales_method  Total_sales  Operating_profit  \n",
       "0        1200              0.50     In-store      60000.0           30000.0  \n",
       "1        1000              0.30     In-store      50000.0           15000.0  \n",
       "2        1000              0.35     In-store      40000.0           14000.0  \n",
       "3         850              0.35     In-store      38250.0           13387.5  \n",
       "4         900              0.30     In-store      54000.0           16200.0  "
      ]
     },
     "execution_count": 169,
     "metadata": {},
     "output_type": "execute_result"
    }
   ],
   "source": [
    "adidas_sales_df.head()"
   ]
  },
  {
   "cell_type": "code",
   "execution_count": 170,
   "metadata": {},
   "outputs": [
    {
     "data": {
      "text/plain": [
       "Retailer_ID          object\n",
       "Invoice_Date         object\n",
       "Region_ID            object\n",
       "State_ID             object\n",
       "Product_ID           object\n",
       "Price_per_unit      float64\n",
       "Units_sold            int64\n",
       "Operating_margin    float64\n",
       "Sales_method         object\n",
       "Total_sales         float64\n",
       "Operating_profit    float64\n",
       "dtype: object"
      ]
     },
     "execution_count": 170,
     "metadata": {},
     "output_type": "execute_result"
    }
   ],
   "source": [
    "#Check the data types\n",
    "adidas_sales_df.dtypes"
   ]
  },
  {
   "cell_type": "code",
   "execution_count": 171,
   "metadata": {},
   "outputs": [
    {
     "data": {
      "text/html": [
       "<div>\n",
       "<style scoped>\n",
       "    .dataframe tbody tr th:only-of-type {\n",
       "        vertical-align: middle;\n",
       "    }\n",
       "\n",
       "    .dataframe tbody tr th {\n",
       "        vertical-align: top;\n",
       "    }\n",
       "\n",
       "    .dataframe thead th {\n",
       "        text-align: right;\n",
       "    }\n",
       "</style>\n",
       "<table border=\"1\" class=\"dataframe\">\n",
       "  <thead>\n",
       "    <tr style=\"text-align: right;\">\n",
       "      <th></th>\n",
       "      <th>Invoice_Date</th>\n",
       "      <th>State_ID</th>\n",
       "      <th>Product_ID</th>\n",
       "      <th>Sales_method</th>\n",
       "      <th>Total_sales</th>\n",
       "      <th>Operating_profit</th>\n",
       "    </tr>\n",
       "  </thead>\n",
       "  <tbody>\n",
       "    <tr>\n",
       "      <th>0</th>\n",
       "      <td>2020-01-01</td>\n",
       "      <td>ST1</td>\n",
       "      <td>PD1</td>\n",
       "      <td>In-store</td>\n",
       "      <td>60000.0</td>\n",
       "      <td>30000.00</td>\n",
       "    </tr>\n",
       "    <tr>\n",
       "      <th>1</th>\n",
       "      <td>2020-01-02</td>\n",
       "      <td>ST1</td>\n",
       "      <td>PD2</td>\n",
       "      <td>In-store</td>\n",
       "      <td>50000.0</td>\n",
       "      <td>15000.00</td>\n",
       "    </tr>\n",
       "    <tr>\n",
       "      <th>2</th>\n",
       "      <td>2020-01-03</td>\n",
       "      <td>ST1</td>\n",
       "      <td>PD3</td>\n",
       "      <td>In-store</td>\n",
       "      <td>40000.0</td>\n",
       "      <td>14000.00</td>\n",
       "    </tr>\n",
       "    <tr>\n",
       "      <th>3</th>\n",
       "      <td>2020-01-04</td>\n",
       "      <td>ST1</td>\n",
       "      <td>PD4</td>\n",
       "      <td>In-store</td>\n",
       "      <td>38250.0</td>\n",
       "      <td>13387.50</td>\n",
       "    </tr>\n",
       "    <tr>\n",
       "      <th>4</th>\n",
       "      <td>2020-01-05</td>\n",
       "      <td>ST1</td>\n",
       "      <td>PD5</td>\n",
       "      <td>In-store</td>\n",
       "      <td>54000.0</td>\n",
       "      <td>16200.00</td>\n",
       "    </tr>\n",
       "    <tr>\n",
       "      <th>...</th>\n",
       "      <td>...</td>\n",
       "      <td>...</td>\n",
       "      <td>...</td>\n",
       "      <td>...</td>\n",
       "      <td>...</td>\n",
       "      <td>...</td>\n",
       "    </tr>\n",
       "    <tr>\n",
       "      <th>9641</th>\n",
       "      <td>2021-01-24</td>\n",
       "      <td>ST50</td>\n",
       "      <td>PD3</td>\n",
       "      <td>Outlet</td>\n",
       "      <td>3465.0</td>\n",
       "      <td>935.55</td>\n",
       "    </tr>\n",
       "    <tr>\n",
       "      <th>9642</th>\n",
       "      <td>2021-01-24</td>\n",
       "      <td>ST50</td>\n",
       "      <td>PD4</td>\n",
       "      <td>Outlet</td>\n",
       "      <td>1683.0</td>\n",
       "      <td>471.24</td>\n",
       "    </tr>\n",
       "    <tr>\n",
       "      <th>9643</th>\n",
       "      <td>2021-01-24</td>\n",
       "      <td>ST50</td>\n",
       "      <td>PD5</td>\n",
       "      <td>Outlet</td>\n",
       "      <td>3200.0</td>\n",
       "      <td>896.00</td>\n",
       "    </tr>\n",
       "    <tr>\n",
       "      <th>9644</th>\n",
       "      <td>2021-01-24</td>\n",
       "      <td>ST50</td>\n",
       "      <td>PD6</td>\n",
       "      <td>Outlet</td>\n",
       "      <td>4305.0</td>\n",
       "      <td>1377.60</td>\n",
       "    </tr>\n",
       "    <tr>\n",
       "      <th>9645</th>\n",
       "      <td>2021-02-22</td>\n",
       "      <td>ST50</td>\n",
       "      <td>PD1</td>\n",
       "      <td>Outlet</td>\n",
       "      <td>7544.0</td>\n",
       "      <td>2791.28</td>\n",
       "    </tr>\n",
       "  </tbody>\n",
       "</table>\n",
       "<p>9646 rows × 6 columns</p>\n",
       "</div>"
      ],
      "text/plain": [
       "     Invoice_Date State_ID Product_ID Sales_method  Total_sales  \\\n",
       "0      2020-01-01      ST1        PD1     In-store      60000.0   \n",
       "1      2020-01-02      ST1        PD2     In-store      50000.0   \n",
       "2      2020-01-03      ST1        PD3     In-store      40000.0   \n",
       "3      2020-01-04      ST1        PD4     In-store      38250.0   \n",
       "4      2020-01-05      ST1        PD5     In-store      54000.0   \n",
       "...           ...      ...        ...          ...          ...   \n",
       "9641   2021-01-24     ST50        PD3       Outlet       3465.0   \n",
       "9642   2021-01-24     ST50        PD4       Outlet       1683.0   \n",
       "9643   2021-01-24     ST50        PD5       Outlet       3200.0   \n",
       "9644   2021-01-24     ST50        PD6       Outlet       4305.0   \n",
       "9645   2021-02-22     ST50        PD1       Outlet       7544.0   \n",
       "\n",
       "      Operating_profit  \n",
       "0             30000.00  \n",
       "1             15000.00  \n",
       "2             14000.00  \n",
       "3             13387.50  \n",
       "4             16200.00  \n",
       "...                ...  \n",
       "9641            935.55  \n",
       "9642            471.24  \n",
       "9643            896.00  \n",
       "9644           1377.60  \n",
       "9645           2791.28  \n",
       "\n",
       "[9646 rows x 6 columns]"
      ]
     },
     "execution_count": 171,
     "metadata": {},
     "output_type": "execute_result"
    }
   ],
   "source": [
    "#Change the data type of the date column\n",
    "adidas_sales_df['Invoice_Date'] = pd.to_datetime(adidas_sales_df['Invoice_Date'])\n",
    "\n",
    "#Drop Retailer ID, Region_ID, Price per Unit, Units Sold, Operating Margin columns\n",
    "adidas_sales_df = adidas_sales_df.drop(columns=['Retailer_ID', 'Region_ID', 'Price_per_unit', 'Units_sold', 'Operating_margin'])\n",
    "\n",
    "adidas_sales_df"
   ]
  },
  {
   "cell_type": "code",
   "execution_count": 172,
   "metadata": {},
   "outputs": [],
   "source": [
    "#Group data by the sum of Total Sales per week\n",
    "total_sales_weekly = adidas_sales_df.groupby(pd.Grouper(key='Invoice_Date', freq='W')).sum()\n",
    "\n",
    "#Group data by the sum of Total Sales per month\n",
    "total_sales_monthly = adidas_sales_df.groupby(pd.Grouper(key='Invoice_Date', freq='M')).sum()\n",
    "\n",
    "#Group data by the sum of Total Sales per quarter\n",
    "total_sales_quarterly = adidas_sales_df.groupby(pd.Grouper(key='Invoice_Date', freq='Q')).sum()"
   ]
  },
  {
   "attachments": {},
   "cell_type": "markdown",
   "metadata": {},
   "source": [
    "# Import & clean demographic data"
   ]
  },
  {
   "cell_type": "code",
   "execution_count": 173,
   "metadata": {},
   "outputs": [],
   "source": [
    "#Retrieved from: https://apps.bea.gov/regional/downloadzip.cfm\n",
    "#Import demographic data\n",
    "demo_df = pd.read_csv('SQINC1__ALL_AREAS_1948_2022.csv')"
   ]
  },
  {
   "cell_type": "code",
   "execution_count": 174,
   "metadata": {},
   "outputs": [
    {
     "data": {
      "text/html": [
       "<div>\n",
       "<style scoped>\n",
       "    .dataframe tbody tr th:only-of-type {\n",
       "        vertical-align: middle;\n",
       "    }\n",
       "\n",
       "    .dataframe tbody tr th {\n",
       "        vertical-align: top;\n",
       "    }\n",
       "\n",
       "    .dataframe thead th {\n",
       "        text-align: right;\n",
       "    }\n",
       "</style>\n",
       "<table border=\"1\" class=\"dataframe\">\n",
       "  <thead>\n",
       "    <tr style=\"text-align: right;\">\n",
       "      <th></th>\n",
       "      <th>GeoFIPS</th>\n",
       "      <th>GeoName</th>\n",
       "      <th>Region</th>\n",
       "      <th>TableName</th>\n",
       "      <th>LineCode</th>\n",
       "      <th>IndustryClassification</th>\n",
       "      <th>Description</th>\n",
       "      <th>Unit</th>\n",
       "      <th>1948:Q1</th>\n",
       "      <th>1948:Q2</th>\n",
       "      <th>...</th>\n",
       "      <th>2020:Q2</th>\n",
       "      <th>2020:Q3</th>\n",
       "      <th>2020:Q4</th>\n",
       "      <th>2021:Q1</th>\n",
       "      <th>2021:Q2</th>\n",
       "      <th>2021:Q3</th>\n",
       "      <th>2021:Q4</th>\n",
       "      <th>2022:Q1</th>\n",
       "      <th>2022:Q2</th>\n",
       "      <th>2022:Q3</th>\n",
       "    </tr>\n",
       "  </thead>\n",
       "  <tbody>\n",
       "    <tr>\n",
       "      <th>0</th>\n",
       "      <td>\"00000\"</td>\n",
       "      <td>United States</td>\n",
       "      <td></td>\n",
       "      <td>SQINC1</td>\n",
       "      <td>1.0</td>\n",
       "      <td>...</td>\n",
       "      <td>Personal income (millions of dollars, seasonal...</td>\n",
       "      <td>Millions of dollars</td>\n",
       "      <td>204641.7</td>\n",
       "      <td>210069.4</td>\n",
       "      <td>...</td>\n",
       "      <td>20459375.8</td>\n",
       "      <td>19997807.5</td>\n",
       "      <td>19778315.9</td>\n",
       "      <td>22090041.2</td>\n",
       "      <td>20907855.1</td>\n",
       "      <td>20998895.9</td>\n",
       "      <td>21158043.8</td>\n",
       "      <td>21317801.6</td>\n",
       "      <td>21575362.1</td>\n",
       "      <td>21856480.2</td>\n",
       "    </tr>\n",
       "    <tr>\n",
       "      <th>1</th>\n",
       "      <td>\"00000\"</td>\n",
       "      <td>United States</td>\n",
       "      <td></td>\n",
       "      <td>SQINC1</td>\n",
       "      <td>2.0</td>\n",
       "      <td>...</td>\n",
       "      <td>Population (midperiod, persons) 1/</td>\n",
       "      <td>Number of persons</td>\n",
       "      <td>(NA)</td>\n",
       "      <td>(NA)</td>\n",
       "      <td>...</td>\n",
       "      <td>331448217.0</td>\n",
       "      <td>331596557.0</td>\n",
       "      <td>331734262.0</td>\n",
       "      <td>331706294.0</td>\n",
       "      <td>331776226.0</td>\n",
       "      <td>332049982.0</td>\n",
       "      <td>332336782.0</td>\n",
       "      <td>332502197.0</td>\n",
       "      <td>332693300.0</td>\n",
       "      <td>332994420.0</td>\n",
       "    </tr>\n",
       "    <tr>\n",
       "      <th>2</th>\n",
       "      <td>\"00000\"</td>\n",
       "      <td>United States</td>\n",
       "      <td></td>\n",
       "      <td>SQINC1</td>\n",
       "      <td>3.0</td>\n",
       "      <td>...</td>\n",
       "      <td>Per capita personal income (dollars) 2/</td>\n",
       "      <td>Dollars</td>\n",
       "      <td>(NA)</td>\n",
       "      <td>(NA)</td>\n",
       "      <td>...</td>\n",
       "      <td>61727.0</td>\n",
       "      <td>60308.0</td>\n",
       "      <td>59621.0</td>\n",
       "      <td>66595.0</td>\n",
       "      <td>63018.0</td>\n",
       "      <td>63240.0</td>\n",
       "      <td>63664.0</td>\n",
       "      <td>64113.0</td>\n",
       "      <td>64851.0</td>\n",
       "      <td>65636.0</td>\n",
       "    </tr>\n",
       "    <tr>\n",
       "      <th>3</th>\n",
       "      <td>\"01000\"</td>\n",
       "      <td>Alabama</td>\n",
       "      <td>5</td>\n",
       "      <td>SQINC1</td>\n",
       "      <td>1.0</td>\n",
       "      <td>...</td>\n",
       "      <td>Personal income (millions of dollars, seasonal...</td>\n",
       "      <td>Millions of dollars</td>\n",
       "      <td>2496.0</td>\n",
       "      <td>2595.6</td>\n",
       "      <td>...</td>\n",
       "      <td>242348.1</td>\n",
       "      <td>232629.8</td>\n",
       "      <td>230152.7</td>\n",
       "      <td>265461.3</td>\n",
       "      <td>244059.8</td>\n",
       "      <td>245116.7</td>\n",
       "      <td>248677.4</td>\n",
       "      <td>250483.3</td>\n",
       "      <td>254302.5</td>\n",
       "      <td>257231.8</td>\n",
       "    </tr>\n",
       "    <tr>\n",
       "      <th>4</th>\n",
       "      <td>\"01000\"</td>\n",
       "      <td>Alabama</td>\n",
       "      <td>5</td>\n",
       "      <td>SQINC1</td>\n",
       "      <td>2.0</td>\n",
       "      <td>...</td>\n",
       "      <td>Population (midperiod, persons) 1/</td>\n",
       "      <td>Number of persons</td>\n",
       "      <td>(NA)</td>\n",
       "      <td>(NA)</td>\n",
       "      <td>...</td>\n",
       "      <td>5024115.0</td>\n",
       "      <td>5027375.0</td>\n",
       "      <td>5031760.0</td>\n",
       "      <td>5033508.0</td>\n",
       "      <td>5036858.0</td>\n",
       "      <td>5043548.0</td>\n",
       "      <td>5050555.0</td>\n",
       "      <td>5055254.0</td>\n",
       "      <td>5060373.0</td>\n",
       "      <td>5067413.0</td>\n",
       "    </tr>\n",
       "  </tbody>\n",
       "</table>\n",
       "<p>5 rows × 307 columns</p>\n",
       "</div>"
      ],
      "text/plain": [
       "    GeoFIPS        GeoName Region TableName  LineCode IndustryClassification  \\\n",
       "0   \"00000\"  United States           SQINC1       1.0                    ...   \n",
       "1   \"00000\"  United States           SQINC1       2.0                    ...   \n",
       "2   \"00000\"  United States           SQINC1       3.0                    ...   \n",
       "3   \"01000\"        Alabama      5    SQINC1       1.0                    ...   \n",
       "4   \"01000\"        Alabama      5    SQINC1       2.0                    ...   \n",
       "\n",
       "                                         Description                 Unit  \\\n",
       "0  Personal income (millions of dollars, seasonal...  Millions of dollars   \n",
       "1                 Population (midperiod, persons) 1/    Number of persons   \n",
       "2            Per capita personal income (dollars) 2/              Dollars   \n",
       "3  Personal income (millions of dollars, seasonal...  Millions of dollars   \n",
       "4                 Population (midperiod, persons) 1/    Number of persons   \n",
       "\n",
       "    1948:Q1   1948:Q2  ...      2020:Q2      2020:Q3      2020:Q4  \\\n",
       "0  204641.7  210069.4  ...   20459375.8   19997807.5   19778315.9   \n",
       "1      (NA)      (NA)  ...  331448217.0  331596557.0  331734262.0   \n",
       "2      (NA)      (NA)  ...      61727.0      60308.0      59621.0   \n",
       "3    2496.0    2595.6  ...     242348.1     232629.8     230152.7   \n",
       "4      (NA)      (NA)  ...    5024115.0    5027375.0    5031760.0   \n",
       "\n",
       "       2021:Q1      2021:Q2      2021:Q3      2021:Q4      2022:Q1  \\\n",
       "0   22090041.2   20907855.1   20998895.9   21158043.8   21317801.6   \n",
       "1  331706294.0  331776226.0  332049982.0  332336782.0  332502197.0   \n",
       "2      66595.0      63018.0      63240.0      63664.0      64113.0   \n",
       "3     265461.3     244059.8     245116.7     248677.4     250483.3   \n",
       "4    5033508.0    5036858.0    5043548.0    5050555.0    5055254.0   \n",
       "\n",
       "       2022:Q2      2022:Q3  \n",
       "0   21575362.1   21856480.2  \n",
       "1  332693300.0  332994420.0  \n",
       "2      64851.0      65636.0  \n",
       "3     254302.5     257231.8  \n",
       "4    5060373.0    5067413.0  \n",
       "\n",
       "[5 rows x 307 columns]"
      ]
     },
     "execution_count": 174,
     "metadata": {},
     "output_type": "execute_result"
    }
   ],
   "source": [
    "demo_df.head()"
   ]
  },
  {
   "cell_type": "code",
   "execution_count": 175,
   "metadata": {},
   "outputs": [
    {
     "data": {
      "text/plain": [
       "Index(['GeoName', 'Description', 'Unit', '1948:Q1', '1948:Q2', '1948:Q3',\n",
       "       '1948:Q4', '1949:Q1', '1949:Q2', '1949:Q3',\n",
       "       ...\n",
       "       '2020:Q2', '2020:Q3', '2020:Q4', '2021:Q1', '2021:Q2', '2021:Q3',\n",
       "       '2021:Q4', '2022:Q1', '2022:Q2', '2022:Q3'],\n",
       "      dtype='object', length=302)"
      ]
     },
     "execution_count": 175,
     "metadata": {},
     "output_type": "execute_result"
    }
   ],
   "source": [
    "#Drop the columns that are not needed\n",
    "demo_df = demo_df.drop(columns=['GeoFIPS', 'Region', 'TableName', 'LineCode', 'IndustryClassification',])\n",
    "\n",
    "demo_df.columns"
   ]
  },
  {
   "cell_type": "code",
   "execution_count": 176,
   "metadata": {},
   "outputs": [
    {
     "data": {
      "text/html": [
       "<div>\n",
       "<style scoped>\n",
       "    .dataframe tbody tr th:only-of-type {\n",
       "        vertical-align: middle;\n",
       "    }\n",
       "\n",
       "    .dataframe tbody tr th {\n",
       "        vertical-align: top;\n",
       "    }\n",
       "\n",
       "    .dataframe thead th {\n",
       "        text-align: right;\n",
       "    }\n",
       "</style>\n",
       "<table border=\"1\" class=\"dataframe\">\n",
       "  <thead>\n",
       "    <tr style=\"text-align: right;\">\n",
       "      <th></th>\n",
       "      <th>GeoName</th>\n",
       "      <th>Description</th>\n",
       "      <th>Unit</th>\n",
       "      <th>2020:Q1</th>\n",
       "      <th>2020:Q2</th>\n",
       "      <th>2020:Q3</th>\n",
       "      <th>2020:Q4</th>\n",
       "      <th>2021:Q1</th>\n",
       "      <th>2021:Q2</th>\n",
       "      <th>2021:Q3</th>\n",
       "      <th>2021:Q4</th>\n",
       "      <th>2022:Q1</th>\n",
       "      <th>2022:Q2</th>\n",
       "      <th>2022:Q3</th>\n",
       "    </tr>\n",
       "  </thead>\n",
       "  <tbody>\n",
       "    <tr>\n",
       "      <th>0</th>\n",
       "      <td>United States</td>\n",
       "      <td>Personal income (millions of dollars, seasonal...</td>\n",
       "      <td>Millions of dollars</td>\n",
       "      <td>19013184.9</td>\n",
       "      <td>20459375.8</td>\n",
       "      <td>19997807.5</td>\n",
       "      <td>19778315.9</td>\n",
       "      <td>22090041.2</td>\n",
       "      <td>20907855.1</td>\n",
       "      <td>20998895.9</td>\n",
       "      <td>21158043.8</td>\n",
       "      <td>21317801.6</td>\n",
       "      <td>21575362.1</td>\n",
       "      <td>21856480.2</td>\n",
       "    </tr>\n",
       "    <tr>\n",
       "      <th>1</th>\n",
       "      <td>United States</td>\n",
       "      <td>Population (midperiod, persons) 1/</td>\n",
       "      <td>Number of persons</td>\n",
       "      <td>331295939.0</td>\n",
       "      <td>331448217.0</td>\n",
       "      <td>331596557.0</td>\n",
       "      <td>331734262.0</td>\n",
       "      <td>331706294.0</td>\n",
       "      <td>331776226.0</td>\n",
       "      <td>332049982.0</td>\n",
       "      <td>332336782.0</td>\n",
       "      <td>332502197.0</td>\n",
       "      <td>332693300.0</td>\n",
       "      <td>332994420.0</td>\n",
       "    </tr>\n",
       "    <tr>\n",
       "      <th>2</th>\n",
       "      <td>United States</td>\n",
       "      <td>Per capita personal income (dollars) 2/</td>\n",
       "      <td>Dollars</td>\n",
       "      <td>57390.0</td>\n",
       "      <td>61727.0</td>\n",
       "      <td>60308.0</td>\n",
       "      <td>59621.0</td>\n",
       "      <td>66595.0</td>\n",
       "      <td>63018.0</td>\n",
       "      <td>63240.0</td>\n",
       "      <td>63664.0</td>\n",
       "      <td>64113.0</td>\n",
       "      <td>64851.0</td>\n",
       "      <td>65636.0</td>\n",
       "    </tr>\n",
       "    <tr>\n",
       "      <th>3</th>\n",
       "      <td>Alabama</td>\n",
       "      <td>Personal income (millions of dollars, seasonal...</td>\n",
       "      <td>Millions of dollars</td>\n",
       "      <td>223030.6</td>\n",
       "      <td>242348.1</td>\n",
       "      <td>232629.8</td>\n",
       "      <td>230152.7</td>\n",
       "      <td>265461.3</td>\n",
       "      <td>244059.8</td>\n",
       "      <td>245116.7</td>\n",
       "      <td>248677.4</td>\n",
       "      <td>250483.3</td>\n",
       "      <td>254302.5</td>\n",
       "      <td>257231.8</td>\n",
       "    </tr>\n",
       "    <tr>\n",
       "      <th>4</th>\n",
       "      <td>Alabama</td>\n",
       "      <td>Population (midperiod, persons) 1/</td>\n",
       "      <td>Number of persons</td>\n",
       "      <td>5021627.0</td>\n",
       "      <td>5024115.0</td>\n",
       "      <td>5027375.0</td>\n",
       "      <td>5031760.0</td>\n",
       "      <td>5033508.0</td>\n",
       "      <td>5036858.0</td>\n",
       "      <td>5043548.0</td>\n",
       "      <td>5050555.0</td>\n",
       "      <td>5055254.0</td>\n",
       "      <td>5060373.0</td>\n",
       "      <td>5067413.0</td>\n",
       "    </tr>\n",
       "    <tr>\n",
       "      <th>...</th>\n",
       "      <td>...</td>\n",
       "      <td>...</td>\n",
       "      <td>...</td>\n",
       "      <td>...</td>\n",
       "      <td>...</td>\n",
       "      <td>...</td>\n",
       "      <td>...</td>\n",
       "      <td>...</td>\n",
       "      <td>...</td>\n",
       "      <td>...</td>\n",
       "      <td>...</td>\n",
       "      <td>...</td>\n",
       "      <td>...</td>\n",
       "      <td>...</td>\n",
       "    </tr>\n",
       "    <tr>\n",
       "      <th>175</th>\n",
       "      <td>Rocky Mountain</td>\n",
       "      <td>Population (midperiod, persons) 1/</td>\n",
       "      <td>Number of persons</td>\n",
       "      <td>12527279.0</td>\n",
       "      <td>12560325.0</td>\n",
       "      <td>12598245.0</td>\n",
       "      <td>12638757.0</td>\n",
       "      <td>12673366.0</td>\n",
       "      <td>12711764.0</td>\n",
       "      <td>12756878.0</td>\n",
       "      <td>12802158.0</td>\n",
       "      <td>12844282.0</td>\n",
       "      <td>12887858.0</td>\n",
       "      <td>12934628.0</td>\n",
       "    </tr>\n",
       "    <tr>\n",
       "      <th>176</th>\n",
       "      <td>Rocky Mountain</td>\n",
       "      <td>Per capita personal income (dollars) 2/</td>\n",
       "      <td>Dollars</td>\n",
       "      <td>56914.0</td>\n",
       "      <td>60464.0</td>\n",
       "      <td>58482.0</td>\n",
       "      <td>58654.0</td>\n",
       "      <td>65105.0</td>\n",
       "      <td>61482.0</td>\n",
       "      <td>61865.0</td>\n",
       "      <td>63032.0</td>\n",
       "      <td>63699.0</td>\n",
       "      <td>64483.0</td>\n",
       "      <td>65851.0</td>\n",
       "    </tr>\n",
       "    <tr>\n",
       "      <th>177</th>\n",
       "      <td>Far West</td>\n",
       "      <td>Personal income (millions of dollars, seasonal...</td>\n",
       "      <td>Millions of dollars</td>\n",
       "      <td>3676803.4</td>\n",
       "      <td>3928385.4</td>\n",
       "      <td>3947530.0</td>\n",
       "      <td>3893315.9</td>\n",
       "      <td>4281973.3</td>\n",
       "      <td>4100396.5</td>\n",
       "      <td>4137883.4</td>\n",
       "      <td>4135892.3</td>\n",
       "      <td>4123489.4</td>\n",
       "      <td>4161472.7</td>\n",
       "      <td>4211194.0</td>\n",
       "    </tr>\n",
       "    <tr>\n",
       "      <th>178</th>\n",
       "      <td>Far West</td>\n",
       "      <td>Population (midperiod, persons) 1/</td>\n",
       "      <td>Number of persons</td>\n",
       "      <td>56763245.0</td>\n",
       "      <td>56762231.0</td>\n",
       "      <td>56739149.0</td>\n",
       "      <td>56691552.0</td>\n",
       "      <td>56618257.0</td>\n",
       "      <td>56558476.0</td>\n",
       "      <td>56530151.0</td>\n",
       "      <td>56503693.0</td>\n",
       "      <td>56461835.0</td>\n",
       "      <td>56422276.0</td>\n",
       "      <td>56398026.0</td>\n",
       "    </tr>\n",
       "    <tr>\n",
       "      <th>179</th>\n",
       "      <td>Far West</td>\n",
       "      <td>Per capita personal income (dollars) 2/</td>\n",
       "      <td>Dollars</td>\n",
       "      <td>64774.0</td>\n",
       "      <td>69208.0</td>\n",
       "      <td>69573.0</td>\n",
       "      <td>68675.0</td>\n",
       "      <td>75629.0</td>\n",
       "      <td>72498.0</td>\n",
       "      <td>73198.0</td>\n",
       "      <td>73197.0</td>\n",
       "      <td>73031.0</td>\n",
       "      <td>73756.0</td>\n",
       "      <td>74669.0</td>\n",
       "    </tr>\n",
       "  </tbody>\n",
       "</table>\n",
       "<p>180 rows × 14 columns</p>\n",
       "</div>"
      ],
      "text/plain": [
       "            GeoName                                        Description  \\\n",
       "0     United States  Personal income (millions of dollars, seasonal...   \n",
       "1     United States                 Population (midperiod, persons) 1/   \n",
       "2     United States            Per capita personal income (dollars) 2/   \n",
       "3           Alabama  Personal income (millions of dollars, seasonal...   \n",
       "4           Alabama                 Population (midperiod, persons) 1/   \n",
       "..              ...                                                ...   \n",
       "175  Rocky Mountain                 Population (midperiod, persons) 1/   \n",
       "176  Rocky Mountain            Per capita personal income (dollars) 2/   \n",
       "177        Far West  Personal income (millions of dollars, seasonal...   \n",
       "178        Far West                 Population (midperiod, persons) 1/   \n",
       "179        Far West            Per capita personal income (dollars) 2/   \n",
       "\n",
       "                    Unit      2020:Q1      2020:Q2      2020:Q3      2020:Q4  \\\n",
       "0    Millions of dollars   19013184.9   20459375.8   19997807.5   19778315.9   \n",
       "1      Number of persons  331295939.0  331448217.0  331596557.0  331734262.0   \n",
       "2                Dollars      57390.0      61727.0      60308.0      59621.0   \n",
       "3    Millions of dollars     223030.6     242348.1     232629.8     230152.7   \n",
       "4      Number of persons    5021627.0    5024115.0    5027375.0    5031760.0   \n",
       "..                   ...          ...          ...          ...          ...   \n",
       "175    Number of persons   12527279.0   12560325.0   12598245.0   12638757.0   \n",
       "176              Dollars      56914.0      60464.0      58482.0      58654.0   \n",
       "177  Millions of dollars    3676803.4    3928385.4    3947530.0    3893315.9   \n",
       "178    Number of persons   56763245.0   56762231.0   56739149.0   56691552.0   \n",
       "179              Dollars      64774.0      69208.0      69573.0      68675.0   \n",
       "\n",
       "         2021:Q1      2021:Q2      2021:Q3      2021:Q4      2022:Q1  \\\n",
       "0     22090041.2   20907855.1   20998895.9   21158043.8   21317801.6   \n",
       "1    331706294.0  331776226.0  332049982.0  332336782.0  332502197.0   \n",
       "2        66595.0      63018.0      63240.0      63664.0      64113.0   \n",
       "3       265461.3     244059.8     245116.7     248677.4     250483.3   \n",
       "4      5033508.0    5036858.0    5043548.0    5050555.0    5055254.0   \n",
       "..           ...          ...          ...          ...          ...   \n",
       "175   12673366.0   12711764.0   12756878.0   12802158.0   12844282.0   \n",
       "176      65105.0      61482.0      61865.0      63032.0      63699.0   \n",
       "177    4281973.3    4100396.5    4137883.4    4135892.3    4123489.4   \n",
       "178   56618257.0   56558476.0   56530151.0   56503693.0   56461835.0   \n",
       "179      75629.0      72498.0      73198.0      73197.0      73031.0   \n",
       "\n",
       "         2022:Q2      2022:Q3  \n",
       "0     21575362.1   21856480.2  \n",
       "1    332693300.0  332994420.0  \n",
       "2        64851.0      65636.0  \n",
       "3       254302.5     257231.8  \n",
       "4      5060373.0    5067413.0  \n",
       "..           ...          ...  \n",
       "175   12887858.0   12934628.0  \n",
       "176      64483.0      65851.0  \n",
       "177    4161472.7    4211194.0  \n",
       "178   56422276.0   56398026.0  \n",
       "179      73756.0      74669.0  \n",
       "\n",
       "[180 rows x 14 columns]"
      ]
     },
     "execution_count": 176,
     "metadata": {},
     "output_type": "execute_result"
    }
   ],
   "source": [
    "#Drop column years that are not needed\n",
    "demo_df = demo_df.drop(demo_df.columns[3:-11], axis=1)\n",
    "\n",
    "#Drop NaN values\n",
    "demo_df = demo_df.dropna()\n",
    "\n",
    "demo_df"
   ]
  },
  {
   "cell_type": "code",
   "execution_count": 177,
   "metadata": {},
   "outputs": [
    {
     "data": {
      "text/plain": [
       "array(['United States', 'Alabama', 'Alaska *', 'Arizona', 'Arkansas',\n",
       "       'California', 'Colorado', 'Connecticut', 'Delaware',\n",
       "       'District of Columbia', 'Florida', 'Georgia', 'Hawaii *', 'Idaho',\n",
       "       'Illinois', 'Indiana', 'Iowa', 'Kansas', 'Kentucky', 'Louisiana',\n",
       "       'Maine', 'Maryland', 'Massachusetts', 'Michigan', 'Minnesota',\n",
       "       'Mississippi', 'Missouri', 'Montana', 'Nebraska', 'Nevada',\n",
       "       'New Hampshire', 'New Jersey', 'New Mexico', 'New York',\n",
       "       'North Carolina', 'North Dakota', 'Ohio', 'Oklahoma', 'Oregon',\n",
       "       'Pennsylvania', 'Rhode Island', 'South Carolina', 'South Dakota',\n",
       "       'Tennessee', 'Texas', 'Utah', 'Vermont', 'Virginia', 'Washington',\n",
       "       'West Virginia', 'Wisconsin', 'Wyoming', 'New England', 'Mideast',\n",
       "       'Great Lakes', 'Plains', 'Southeast', 'Southwest',\n",
       "       'Rocky Mountain', 'Far West'], dtype=object)"
      ]
     },
     "execution_count": 177,
     "metadata": {},
     "output_type": "execute_result"
    }
   ],
   "source": [
    "demo_df['GeoName'].unique()"
   ]
  },
  {
   "cell_type": "code",
   "execution_count": 178,
   "metadata": {},
   "outputs": [
    {
     "data": {
      "text/html": [
       "<div>\n",
       "<style scoped>\n",
       "    .dataframe tbody tr th:only-of-type {\n",
       "        vertical-align: middle;\n",
       "    }\n",
       "\n",
       "    .dataframe tbody tr th {\n",
       "        vertical-align: top;\n",
       "    }\n",
       "\n",
       "    .dataframe thead th {\n",
       "        text-align: right;\n",
       "    }\n",
       "</style>\n",
       "<table border=\"1\" class=\"dataframe\">\n",
       "  <thead>\n",
       "    <tr style=\"text-align: right;\">\n",
       "      <th></th>\n",
       "      <th>GeoName</th>\n",
       "      <th>Description</th>\n",
       "      <th>Unit</th>\n",
       "      <th>2020:Q1</th>\n",
       "      <th>2020:Q2</th>\n",
       "      <th>2020:Q3</th>\n",
       "      <th>2020:Q4</th>\n",
       "      <th>2021:Q1</th>\n",
       "      <th>2021:Q2</th>\n",
       "      <th>2021:Q3</th>\n",
       "      <th>2021:Q4</th>\n",
       "      <th>2022:Q1</th>\n",
       "      <th>2022:Q2</th>\n",
       "      <th>2022:Q3</th>\n",
       "    </tr>\n",
       "  </thead>\n",
       "  <tbody>\n",
       "    <tr>\n",
       "      <th>0</th>\n",
       "      <td>United States</td>\n",
       "      <td>Personal income (millions of dollars, seasonal...</td>\n",
       "      <td>Millions of dollars</td>\n",
       "      <td>19013184.9</td>\n",
       "      <td>20459375.8</td>\n",
       "      <td>19997807.5</td>\n",
       "      <td>19778315.9</td>\n",
       "      <td>22090041.2</td>\n",
       "      <td>20907855.1</td>\n",
       "      <td>20998895.9</td>\n",
       "      <td>21158043.8</td>\n",
       "      <td>21317801.6</td>\n",
       "      <td>21575362.1</td>\n",
       "      <td>21856480.2</td>\n",
       "    </tr>\n",
       "    <tr>\n",
       "      <th>1</th>\n",
       "      <td>United States</td>\n",
       "      <td>Population (midperiod, persons) 1/</td>\n",
       "      <td>Number of persons</td>\n",
       "      <td>331295939.0</td>\n",
       "      <td>331448217.0</td>\n",
       "      <td>331596557.0</td>\n",
       "      <td>331734262.0</td>\n",
       "      <td>331706294.0</td>\n",
       "      <td>331776226.0</td>\n",
       "      <td>332049982.0</td>\n",
       "      <td>332336782.0</td>\n",
       "      <td>332502197.0</td>\n",
       "      <td>332693300.0</td>\n",
       "      <td>332994420.0</td>\n",
       "    </tr>\n",
       "    <tr>\n",
       "      <th>2</th>\n",
       "      <td>United States</td>\n",
       "      <td>Per capita personal income (dollars) 2/</td>\n",
       "      <td>Dollars</td>\n",
       "      <td>57390.0</td>\n",
       "      <td>61727.0</td>\n",
       "      <td>60308.0</td>\n",
       "      <td>59621.0</td>\n",
       "      <td>66595.0</td>\n",
       "      <td>63018.0</td>\n",
       "      <td>63240.0</td>\n",
       "      <td>63664.0</td>\n",
       "      <td>64113.0</td>\n",
       "      <td>64851.0</td>\n",
       "      <td>65636.0</td>\n",
       "    </tr>\n",
       "  </tbody>\n",
       "</table>\n",
       "</div>"
      ],
      "text/plain": [
       "         GeoName                                        Description  \\\n",
       "0  United States  Personal income (millions of dollars, seasonal...   \n",
       "1  United States                 Population (midperiod, persons) 1/   \n",
       "2  United States            Per capita personal income (dollars) 2/   \n",
       "\n",
       "                  Unit      2020:Q1      2020:Q2      2020:Q3      2020:Q4  \\\n",
       "0  Millions of dollars   19013184.9   20459375.8   19997807.5   19778315.9   \n",
       "1    Number of persons  331295939.0  331448217.0  331596557.0  331734262.0   \n",
       "2              Dollars      57390.0      61727.0      60308.0      59621.0   \n",
       "\n",
       "       2021:Q1      2021:Q2      2021:Q3      2021:Q4      2022:Q1  \\\n",
       "0   22090041.2   20907855.1   20998895.9   21158043.8   21317801.6   \n",
       "1  331706294.0  331776226.0  332049982.0  332336782.0  332502197.0   \n",
       "2      66595.0      63018.0      63240.0      63664.0      64113.0   \n",
       "\n",
       "       2022:Q2      2022:Q3  \n",
       "0   21575362.1   21856480.2  \n",
       "1  332693300.0  332994420.0  \n",
       "2      64851.0      65636.0  "
      ]
     },
     "execution_count": 178,
     "metadata": {},
     "output_type": "execute_result"
    }
   ],
   "source": [
    "#Remove the states from the GeoName column\n",
    "demo_df = demo_df.loc[(demo_df['GeoName'] != 'Alabama') & (demo_df['GeoName'] != 'Alaska *') & (demo_df['GeoName'] != 'Arizona') & (demo_df['GeoName'] != 'Arkansas') & (demo_df['GeoName'] != 'California') & (demo_df['GeoName'] != 'Colorado') & (demo_df['GeoName'] != 'Connecticut') & (demo_df['GeoName'] != 'Delaware') & (demo_df['GeoName'] != 'District of Columbia') & (demo_df['GeoName'] != 'Florida') & (demo_df['GeoName'] != 'Georgia') & (demo_df['GeoName'] != 'Hawaii *') & (demo_df['GeoName'] != 'Idaho') & (demo_df['GeoName'] != 'Illinois') & (demo_df['GeoName'] != 'Indiana') & (demo_df['GeoName'] != 'Iowa') & (demo_df['GeoName'] != 'Kansas') & (demo_df['GeoName'] != 'Kentucky') & (demo_df['GeoName'] != 'Louisiana') & (demo_df['GeoName'] != 'Maine') & (demo_df['GeoName'] != 'Maryland') & (demo_df['GeoName'] != 'Massachusetts') & (demo_df['GeoName'] != 'Michigan') & (demo_df['GeoName'] != 'Minnesota') & (demo_df['GeoName'] != 'Mississippi') & (demo_df['GeoName'] != 'Missouri') & (demo_df['GeoName'] != 'Montana') & (demo_df['GeoName'] != 'Nebraska') & (demo_df['GeoName'] != 'Nevada') & (demo_df['GeoName'] != 'New Hampshire') & (demo_df['GeoName'] != 'New Jersey') & (demo_df['GeoName'] != 'New Mexico') & (demo_df['GeoName'] != 'New York') & (demo_df['GeoName'] != 'North Carolina') & (demo_df['GeoName'] != 'North Dakota') & (demo_df['GeoName'] != 'Ohio') & (demo_df['GeoName'] != 'Oklahoma') & (demo_df['GeoName'] != 'Oregon') & (demo_df['GeoName'] != 'Pennsylvania') & (demo_df['GeoName'] != 'Rhode Island') & (demo_df['GeoName'] != 'South Carolina') & (demo_df['GeoName'] != 'South Dakota') & (demo_df['GeoName'] != 'Tennessee') & (demo_df['GeoName'] != 'Texas') & (demo_df['GeoName'] != 'Utah') & (demo_df['GeoName'] != 'Vermont') & (demo_df['GeoName'] != 'Virginia') & (demo_df['GeoName'] != 'Washington') & (demo_df['GeoName'] != 'West Virginia') & (demo_df['GeoName'] != 'Wisconsin') & (demo_df['GeoName'] != 'Wyoming')]\n",
    "\n",
    "#Remove the regions from the GeoName column\n",
    "demo_df = demo_df.loc[(demo_df['GeoName'] != 'New England') & (demo_df['GeoName'] != 'Mideast') & (demo_df['GeoName'] != 'Great Lakes') & (demo_df['GeoName'] != 'Plains') & (demo_df['GeoName'] != 'Southeast') & (demo_df['GeoName'] != 'Southwest') & (demo_df['GeoName'] != 'Rocky Mountain') & (demo_df['GeoName'] != 'Far West')]\n",
    "\n",
    "demo_df"
   ]
  },
  {
   "cell_type": "code",
   "execution_count": 179,
   "metadata": {},
   "outputs": [
    {
     "data": {
      "text/html": [
       "<div>\n",
       "<style scoped>\n",
       "    .dataframe tbody tr th:only-of-type {\n",
       "        vertical-align: middle;\n",
       "    }\n",
       "\n",
       "    .dataframe tbody tr th {\n",
       "        vertical-align: top;\n",
       "    }\n",
       "\n",
       "    .dataframe thead th {\n",
       "        text-align: right;\n",
       "    }\n",
       "</style>\n",
       "<table border=\"1\" class=\"dataframe\">\n",
       "  <thead>\n",
       "    <tr style=\"text-align: right;\">\n",
       "      <th></th>\n",
       "      <th>Description</th>\n",
       "      <th>2020:Q1</th>\n",
       "      <th>2020:Q2</th>\n",
       "      <th>2020:Q3</th>\n",
       "      <th>2020:Q4</th>\n",
       "      <th>2021:Q1</th>\n",
       "      <th>2021:Q2</th>\n",
       "      <th>2021:Q3</th>\n",
       "      <th>2021:Q4</th>\n",
       "      <th>2022:Q1</th>\n",
       "      <th>2022:Q2</th>\n",
       "      <th>2022:Q3</th>\n",
       "    </tr>\n",
       "  </thead>\n",
       "  <tbody>\n",
       "    <tr>\n",
       "      <th>0</th>\n",
       "      <td>Personal income (millions of dollars, seasonal...</td>\n",
       "      <td>19013184.9</td>\n",
       "      <td>20459375.8</td>\n",
       "      <td>19997807.5</td>\n",
       "      <td>19778315.9</td>\n",
       "      <td>22090041.2</td>\n",
       "      <td>20907855.1</td>\n",
       "      <td>20998895.9</td>\n",
       "      <td>21158043.8</td>\n",
       "      <td>21317801.6</td>\n",
       "      <td>21575362.1</td>\n",
       "      <td>21856480.2</td>\n",
       "    </tr>\n",
       "    <tr>\n",
       "      <th>1</th>\n",
       "      <td>Population (midperiod, persons)</td>\n",
       "      <td>331295939.0</td>\n",
       "      <td>331448217.0</td>\n",
       "      <td>331596557.0</td>\n",
       "      <td>331734262.0</td>\n",
       "      <td>331706294.0</td>\n",
       "      <td>331776226.0</td>\n",
       "      <td>332049982.0</td>\n",
       "      <td>332336782.0</td>\n",
       "      <td>332502197.0</td>\n",
       "      <td>332693300.0</td>\n",
       "      <td>332994420.0</td>\n",
       "    </tr>\n",
       "    <tr>\n",
       "      <th>2</th>\n",
       "      <td>Per capita personal income (dollars)</td>\n",
       "      <td>57390.0</td>\n",
       "      <td>61727.0</td>\n",
       "      <td>60308.0</td>\n",
       "      <td>59621.0</td>\n",
       "      <td>66595.0</td>\n",
       "      <td>63018.0</td>\n",
       "      <td>63240.0</td>\n",
       "      <td>63664.0</td>\n",
       "      <td>64113.0</td>\n",
       "      <td>64851.0</td>\n",
       "      <td>65636.0</td>\n",
       "    </tr>\n",
       "  </tbody>\n",
       "</table>\n",
       "</div>"
      ],
      "text/plain": [
       "                                         Description      2020:Q1  \\\n",
       "0  Personal income (millions of dollars, seasonal...   19013184.9   \n",
       "1                    Population (midperiod, persons)  331295939.0   \n",
       "2               Per capita personal income (dollars)      57390.0   \n",
       "\n",
       "       2020:Q2      2020:Q3      2020:Q4      2021:Q1      2021:Q2  \\\n",
       "0   20459375.8   19997807.5   19778315.9   22090041.2   20907855.1   \n",
       "1  331448217.0  331596557.0  331734262.0  331706294.0  331776226.0   \n",
       "2      61727.0      60308.0      59621.0      66595.0      63018.0   \n",
       "\n",
       "       2021:Q3      2021:Q4      2022:Q1      2022:Q2      2022:Q3  \n",
       "0   20998895.9   21158043.8   21317801.6   21575362.1   21856480.2  \n",
       "1  332049982.0  332336782.0  332502197.0  332693300.0  332994420.0  \n",
       "2      63240.0      63664.0      64113.0      64851.0      65636.0  "
      ]
     },
     "execution_count": 179,
     "metadata": {},
     "output_type": "execute_result"
    }
   ],
   "source": [
    "#Remove GeoName and Unit columns\n",
    "demo_df = demo_df.drop(columns=['GeoName', 'Unit'])\n",
    "\n",
    "#Clean Description column entries\n",
    "demo_df['Description'] = demo_df['Description'].str.replace(' 1/', '')\n",
    "demo_df['Description'] = demo_df['Description'].str.replace(' 2/', '')\n",
    "\n",
    "demo_df"
   ]
  },
  {
   "attachments": {},
   "cell_type": "markdown",
   "metadata": {},
   "source": [
    "# Merge Adidas sales data with demographic data"
   ]
  },
  {
   "cell_type": "code",
   "execution_count": 180,
   "metadata": {},
   "outputs": [],
   "source": [
    "#Set the Description column as the index to avoid using it as a column\n",
    "merged_df = demo_df.set_index('Description')"
   ]
  },
  {
   "cell_type": "code",
   "execution_count": 181,
   "metadata": {},
   "outputs": [],
   "source": [
    "#Transpose sales data to match the demographic data\n",
    "total_sales_quarterly = total_sales_quarterly.transpose()"
   ]
  },
  {
   "cell_type": "code",
   "execution_count": 182,
   "metadata": {},
   "outputs": [],
   "source": [
    "#Add empty sales data to match the demographic data timeline\n",
    "total_sales_quarterly['2022:Q1'] = np.nan\n",
    "total_sales_quarterly['2022:Q2'] = np.nan\n",
    "total_sales_quarterly['2022:Q3'] = np.nan\n",
    "\n",
    "#Rename total_sales_quarterly columns\n",
    "total_sales_quarterly.columns = ['2020:Q1', '2020:Q2', '2020:Q3', '2020:Q4', '2021:Q1', '2021:Q2', '2021:Q3', '2021:Q4', '2022:Q1', '2022:Q2', '2022:Q3']"
   ]
  },
  {
   "cell_type": "code",
   "execution_count": 183,
   "metadata": {},
   "outputs": [
    {
     "data": {
      "text/html": [
       "<div>\n",
       "<style scoped>\n",
       "    .dataframe tbody tr th:only-of-type {\n",
       "        vertical-align: middle;\n",
       "    }\n",
       "\n",
       "    .dataframe tbody tr th {\n",
       "        vertical-align: top;\n",
       "    }\n",
       "\n",
       "    .dataframe thead th {\n",
       "        text-align: right;\n",
       "    }\n",
       "</style>\n",
       "<table border=\"1\" class=\"dataframe\">\n",
       "  <thead>\n",
       "    <tr style=\"text-align: right;\">\n",
       "      <th></th>\n",
       "      <th>2020:Q1</th>\n",
       "      <th>2020:Q2</th>\n",
       "      <th>2020:Q3</th>\n",
       "      <th>2020:Q4</th>\n",
       "      <th>2021:Q1</th>\n",
       "      <th>2021:Q2</th>\n",
       "      <th>2021:Q3</th>\n",
       "      <th>2021:Q4</th>\n",
       "      <th>2022:Q1</th>\n",
       "      <th>2022:Q2</th>\n",
       "      <th>2022:Q3</th>\n",
       "    </tr>\n",
       "  </thead>\n",
       "  <tbody>\n",
       "    <tr>\n",
       "      <th>Personal income (millions of dollars, seasonally adjusted)</th>\n",
       "      <td>1.901318e+07</td>\n",
       "      <td>2.045938e+07</td>\n",
       "      <td>1.999781e+07</td>\n",
       "      <td>1.977832e+07</td>\n",
       "      <td>2.209004e+07</td>\n",
       "      <td>2.090786e+07</td>\n",
       "      <td>2.099890e+07</td>\n",
       "      <td>2.115804e+07</td>\n",
       "      <td>21317801.6</td>\n",
       "      <td>21575362.1</td>\n",
       "      <td>21856480.2</td>\n",
       "    </tr>\n",
       "    <tr>\n",
       "      <th>Population (midperiod, persons)</th>\n",
       "      <td>3.312959e+08</td>\n",
       "      <td>3.314482e+08</td>\n",
       "      <td>3.315966e+08</td>\n",
       "      <td>3.317343e+08</td>\n",
       "      <td>3.317063e+08</td>\n",
       "      <td>3.317762e+08</td>\n",
       "      <td>3.320500e+08</td>\n",
       "      <td>3.323368e+08</td>\n",
       "      <td>332502197.0</td>\n",
       "      <td>332693300.0</td>\n",
       "      <td>332994420.0</td>\n",
       "    </tr>\n",
       "    <tr>\n",
       "      <th>Per capita personal income (dollars)</th>\n",
       "      <td>5.739000e+04</td>\n",
       "      <td>6.172700e+04</td>\n",
       "      <td>6.030800e+04</td>\n",
       "      <td>5.962100e+04</td>\n",
       "      <td>6.659500e+04</td>\n",
       "      <td>6.301800e+04</td>\n",
       "      <td>6.324000e+04</td>\n",
       "      <td>6.366400e+04</td>\n",
       "      <td>64113.0</td>\n",
       "      <td>64851.0</td>\n",
       "      <td>65636.0</td>\n",
       "    </tr>\n",
       "    <tr>\n",
       "      <th>Total_sales</th>\n",
       "      <td>6.927761e+06</td>\n",
       "      <td>6.442039e+06</td>\n",
       "      <td>7.191704e+06</td>\n",
       "      <td>3.675821e+06</td>\n",
       "      <td>1.877050e+07</td>\n",
       "      <td>2.379425e+07</td>\n",
       "      <td>2.805752e+07</td>\n",
       "      <td>2.530171e+07</td>\n",
       "      <td>NaN</td>\n",
       "      <td>NaN</td>\n",
       "      <td>NaN</td>\n",
       "    </tr>\n",
       "    <tr>\n",
       "      <th>Operating_profit</th>\n",
       "      <td>2.559891e+06</td>\n",
       "      <td>2.383124e+06</td>\n",
       "      <td>2.700035e+06</td>\n",
       "      <td>1.372455e+06</td>\n",
       "      <td>7.113925e+06</td>\n",
       "      <td>9.530545e+06</td>\n",
       "      <td>1.139524e+07</td>\n",
       "      <td>1.016787e+07</td>\n",
       "      <td>NaN</td>\n",
       "      <td>NaN</td>\n",
       "      <td>NaN</td>\n",
       "    </tr>\n",
       "  </tbody>\n",
       "</table>\n",
       "</div>"
      ],
      "text/plain": [
       "                                                         2020:Q1  \\\n",
       "Personal income (millions of dollars, seasonall...  1.901318e+07   \n",
       "Population (midperiod, persons)                     3.312959e+08   \n",
       "Per capita personal income (dollars)                5.739000e+04   \n",
       "Total_sales                                         6.927761e+06   \n",
       "Operating_profit                                    2.559891e+06   \n",
       "\n",
       "                                                         2020:Q2  \\\n",
       "Personal income (millions of dollars, seasonall...  2.045938e+07   \n",
       "Population (midperiod, persons)                     3.314482e+08   \n",
       "Per capita personal income (dollars)                6.172700e+04   \n",
       "Total_sales                                         6.442039e+06   \n",
       "Operating_profit                                    2.383124e+06   \n",
       "\n",
       "                                                         2020:Q3  \\\n",
       "Personal income (millions of dollars, seasonall...  1.999781e+07   \n",
       "Population (midperiod, persons)                     3.315966e+08   \n",
       "Per capita personal income (dollars)                6.030800e+04   \n",
       "Total_sales                                         7.191704e+06   \n",
       "Operating_profit                                    2.700035e+06   \n",
       "\n",
       "                                                         2020:Q4  \\\n",
       "Personal income (millions of dollars, seasonall...  1.977832e+07   \n",
       "Population (midperiod, persons)                     3.317343e+08   \n",
       "Per capita personal income (dollars)                5.962100e+04   \n",
       "Total_sales                                         3.675821e+06   \n",
       "Operating_profit                                    1.372455e+06   \n",
       "\n",
       "                                                         2021:Q1  \\\n",
       "Personal income (millions of dollars, seasonall...  2.209004e+07   \n",
       "Population (midperiod, persons)                     3.317063e+08   \n",
       "Per capita personal income (dollars)                6.659500e+04   \n",
       "Total_sales                                         1.877050e+07   \n",
       "Operating_profit                                    7.113925e+06   \n",
       "\n",
       "                                                         2021:Q2  \\\n",
       "Personal income (millions of dollars, seasonall...  2.090786e+07   \n",
       "Population (midperiod, persons)                     3.317762e+08   \n",
       "Per capita personal income (dollars)                6.301800e+04   \n",
       "Total_sales                                         2.379425e+07   \n",
       "Operating_profit                                    9.530545e+06   \n",
       "\n",
       "                                                         2021:Q3  \\\n",
       "Personal income (millions of dollars, seasonall...  2.099890e+07   \n",
       "Population (midperiod, persons)                     3.320500e+08   \n",
       "Per capita personal income (dollars)                6.324000e+04   \n",
       "Total_sales                                         2.805752e+07   \n",
       "Operating_profit                                    1.139524e+07   \n",
       "\n",
       "                                                         2021:Q4      2022:Q1  \\\n",
       "Personal income (millions of dollars, seasonall...  2.115804e+07   21317801.6   \n",
       "Population (midperiod, persons)                     3.323368e+08  332502197.0   \n",
       "Per capita personal income (dollars)                6.366400e+04      64113.0   \n",
       "Total_sales                                         2.530171e+07          NaN   \n",
       "Operating_profit                                    1.016787e+07          NaN   \n",
       "\n",
       "                                                        2022:Q2      2022:Q3  \n",
       "Personal income (millions of dollars, seasonall...   21575362.1   21856480.2  \n",
       "Population (midperiod, persons)                     332693300.0  332994420.0  \n",
       "Per capita personal income (dollars)                    64851.0      65636.0  \n",
       "Total_sales                                                 NaN          NaN  \n",
       "Operating_profit                                            NaN          NaN  "
      ]
     },
     "execution_count": 183,
     "metadata": {},
     "output_type": "execute_result"
    }
   ],
   "source": [
    "merged_df = pd.concat([merged_df, total_sales_quarterly], axis=0)\n",
    "merged_df"
   ]
  },
  {
   "attachments": {},
   "cell_type": "markdown",
   "metadata": {},
   "source": [
    "# Predictive analysis with multiple linear regression"
   ]
  },
  {
   "cell_type": "code",
   "execution_count": 184,
   "metadata": {},
   "outputs": [],
   "source": [
    "#Today I learned that train_test_split only works with columns rather than rows\n",
    "merged_df = merged_df.transpose()"
   ]
  },
  {
   "cell_type": "code",
   "execution_count": 185,
   "metadata": {},
   "outputs": [],
   "source": [
    "#Define feature set (which includes all three demographic columns)\n",
    "X_quarterly = merged_df.iloc[:-3, :-2]\n",
    "\n",
    "#Define target set (which includes the total sales and operating profit columns)\n",
    "y_quarterly = merged_df.iloc[:-3, 3:]"
   ]
  },
  {
   "cell_type": "code",
   "execution_count": 186,
   "metadata": {},
   "outputs": [],
   "source": [
    "#Split data into training and testing sets\n",
    "X_quarterly_train, X_quarterly_test, y_quarterly_train, y_quarterly_test = train_test_split(X_quarterly, y_quarterly, random_state=31)"
   ]
  },
  {
   "attachments": {},
   "cell_type": "markdown",
   "metadata": {},
   "source": [
    "## Random Forest Regressor"
   ]
  },
  {
   "cell_type": "code",
   "execution_count": 187,
   "metadata": {},
   "outputs": [],
   "source": [
    "#Create a random forest regressor\n",
    "rfr = RandomForestRegressor(n_estimators=100, random_state=0)\n",
    "\n",
    "#Fit the model to the training data\n",
    "rfr.fit(X_quarterly_train, y_quarterly_train)\n",
    "\n",
    "#Make predictions using the testing data\n",
    "rfr_predictions = rfr.predict(X_quarterly_test)"
   ]
  },
  {
   "cell_type": "code",
   "execution_count": 188,
   "metadata": {},
   "outputs": [
    {
     "name": "stdout",
     "output_type": "stream",
     "text": [
      "Random Forest Regressor MSE: 14875752818851.555\n",
      "Random Forest Regressor RMSE: 3856909.7498971317\n"
     ]
    }
   ],
   "source": [
    "#Calculate the mean squared error and root mean squared error as performance metrics\n",
    "rfr_mse = mean_squared_error(y_quarterly_test, rfr_predictions)\n",
    "rfr_rmse = rfr_mse**.5\n",
    "\n",
    "print(f'Random Forest Regressor MSE: {rfr_mse}')\n",
    "print(f'Random Forest Regressor RMSE: {rfr_rmse}')"
   ]
  },
  {
   "cell_type": "code",
   "execution_count": 189,
   "metadata": {},
   "outputs": [
    {
     "data": {
      "text/html": [
       "<div>\n",
       "<style scoped>\n",
       "    .dataframe tbody tr th:only-of-type {\n",
       "        vertical-align: middle;\n",
       "    }\n",
       "\n",
       "    .dataframe tbody tr th {\n",
       "        vertical-align: top;\n",
       "    }\n",
       "\n",
       "    .dataframe thead th {\n",
       "        text-align: right;\n",
       "    }\n",
       "</style>\n",
       "<table border=\"1\" class=\"dataframe\">\n",
       "  <thead>\n",
       "    <tr style=\"text-align: right;\">\n",
       "      <th></th>\n",
       "      <th>Predicted_Total_Sales</th>\n",
       "      <th>Predicted_Operating_Profit</th>\n",
       "      <th>Actual_Total_Sales</th>\n",
       "      <th>Actual_Operating_Profit</th>\n",
       "    </tr>\n",
       "  </thead>\n",
       "  <tbody>\n",
       "    <tr>\n",
       "      <th>2020:Q2</th>\n",
       "      <td>13465296.72</td>\n",
       "      <td>5.291072e+06</td>\n",
       "      <td>6442039.0</td>\n",
       "      <td>2383123.95</td>\n",
       "    </tr>\n",
       "    <tr>\n",
       "      <th>2021:Q1</th>\n",
       "      <td>19789758.82</td>\n",
       "      <td>7.939638e+06</td>\n",
       "      <td>18770496.0</td>\n",
       "      <td>7113924.66</td>\n",
       "    </tr>\n",
       "  </tbody>\n",
       "</table>\n",
       "</div>"
      ],
      "text/plain": [
       "         Predicted_Total_Sales  Predicted_Operating_Profit  \\\n",
       "2020:Q2            13465296.72                5.291072e+06   \n",
       "2021:Q1            19789758.82                7.939638e+06   \n",
       "\n",
       "         Actual_Total_Sales  Actual_Operating_Profit  \n",
       "2020:Q2           6442039.0               2383123.95  \n",
       "2021:Q1          18770496.0               7113924.66  "
      ]
     },
     "execution_count": 189,
     "metadata": {},
     "output_type": "execute_result"
    }
   ],
   "source": [
    "#A RMSE of 3856909 means that the model is off by about $3.85 million on average\n",
    "\n",
    "#Create a dataframe of the predictions\n",
    "rfr_df = pd.DataFrame(rfr_predictions, columns=['Predicted_Total_Sales', 'Predicted_Operating_Profit'], index=y_quarterly_test.index)\n",
    "\n",
    "#Add the actual values to the dataframe\n",
    "rfr_df['Actual_Total_Sales'], rfr_df['Actual_Operating_Profit'] = y_quarterly_test['Total_sales'], y_quarterly_test['Operating_profit']\n",
    "\n",
    "#Sort index in order to match the timeline\n",
    "rfr_df.sort_index(inplace=True)\n",
    "\n",
    "rfr_df"
   ]
  },
  {
   "cell_type": "code",
   "execution_count": 190,
   "metadata": {},
   "outputs": [
    {
     "data": {
      "application/vnd.plotly.v1+json": {
       "config": {
        "plotlyServerURL": "https://plot.ly"
       },
       "data": [
        {
         "hovertemplate": "variable=Predicted_Total_Sales<br>index=%{x}<br>value=%{y}<extra></extra>",
         "legendgroup": "Predicted_Total_Sales",
         "line": {
          "color": "#636efa",
          "dash": "solid"
         },
         "marker": {
          "symbol": "circle"
         },
         "mode": "lines",
         "name": "Predicted_Total_Sales",
         "orientation": "v",
         "showlegend": true,
         "type": "scatter",
         "x": [
          "2020:Q2",
          "2021:Q1"
         ],
         "xaxis": "x",
         "y": [
          13465296.72,
          19789758.82
         ],
         "yaxis": "y"
        },
        {
         "hovertemplate": "variable=Actual_Total_Sales<br>index=%{x}<br>value=%{y}<extra></extra>",
         "legendgroup": "Actual_Total_Sales",
         "line": {
          "color": "#EF553B",
          "dash": "solid"
         },
         "marker": {
          "symbol": "circle"
         },
         "mode": "lines",
         "name": "Actual_Total_Sales",
         "orientation": "v",
         "showlegend": true,
         "type": "scatter",
         "x": [
          "2020:Q2",
          "2021:Q1"
         ],
         "xaxis": "x",
         "y": [
          6442039,
          18770496
         ],
         "yaxis": "y"
        },
        {
         "hovertemplate": "variable=Predicted_Operating_Profit<br>index=%{x}<br>value=%{y}<extra></extra>",
         "legendgroup": "Predicted_Operating_Profit",
         "line": {
          "color": "#00cc96",
          "dash": "solid"
         },
         "marker": {
          "symbol": "circle"
         },
         "mode": "lines",
         "name": "Predicted_Operating_Profit",
         "orientation": "v",
         "showlegend": true,
         "type": "scatter",
         "x": [
          "2020:Q2",
          "2021:Q1"
         ],
         "xaxis": "x",
         "y": [
          5291072.0731999995,
          7939638.4666
         ],
         "yaxis": "y"
        },
        {
         "hovertemplate": "variable=Actual_Operating_Profit<br>index=%{x}<br>value=%{y}<extra></extra>",
         "legendgroup": "Actual_Operating_Profit",
         "line": {
          "color": "#ab63fa",
          "dash": "solid"
         },
         "marker": {
          "symbol": "circle"
         },
         "mode": "lines",
         "name": "Actual_Operating_Profit",
         "orientation": "v",
         "showlegend": true,
         "type": "scatter",
         "x": [
          "2020:Q2",
          "2021:Q1"
         ],
         "xaxis": "x",
         "y": [
          2383123.95,
          7113924.66
         ],
         "yaxis": "y"
        }
       ],
       "layout": {
        "legend": {
         "title": {
          "text": "variable"
         },
         "tracegroupgap": 0
        },
        "template": {
         "data": {
          "bar": [
           {
            "error_x": {
             "color": "#2a3f5f"
            },
            "error_y": {
             "color": "#2a3f5f"
            },
            "marker": {
             "line": {
              "color": "#E5ECF6",
              "width": 0.5
             },
             "pattern": {
              "fillmode": "overlay",
              "size": 10,
              "solidity": 0.2
             }
            },
            "type": "bar"
           }
          ],
          "barpolar": [
           {
            "marker": {
             "line": {
              "color": "#E5ECF6",
              "width": 0.5
             },
             "pattern": {
              "fillmode": "overlay",
              "size": 10,
              "solidity": 0.2
             }
            },
            "type": "barpolar"
           }
          ],
          "carpet": [
           {
            "aaxis": {
             "endlinecolor": "#2a3f5f",
             "gridcolor": "white",
             "linecolor": "white",
             "minorgridcolor": "white",
             "startlinecolor": "#2a3f5f"
            },
            "baxis": {
             "endlinecolor": "#2a3f5f",
             "gridcolor": "white",
             "linecolor": "white",
             "minorgridcolor": "white",
             "startlinecolor": "#2a3f5f"
            },
            "type": "carpet"
           }
          ],
          "choropleth": [
           {
            "colorbar": {
             "outlinewidth": 0,
             "ticks": ""
            },
            "type": "choropleth"
           }
          ],
          "contour": [
           {
            "colorbar": {
             "outlinewidth": 0,
             "ticks": ""
            },
            "colorscale": [
             [
              0,
              "#0d0887"
             ],
             [
              0.1111111111111111,
              "#46039f"
             ],
             [
              0.2222222222222222,
              "#7201a8"
             ],
             [
              0.3333333333333333,
              "#9c179e"
             ],
             [
              0.4444444444444444,
              "#bd3786"
             ],
             [
              0.5555555555555556,
              "#d8576b"
             ],
             [
              0.6666666666666666,
              "#ed7953"
             ],
             [
              0.7777777777777778,
              "#fb9f3a"
             ],
             [
              0.8888888888888888,
              "#fdca26"
             ],
             [
              1,
              "#f0f921"
             ]
            ],
            "type": "contour"
           }
          ],
          "contourcarpet": [
           {
            "colorbar": {
             "outlinewidth": 0,
             "ticks": ""
            },
            "type": "contourcarpet"
           }
          ],
          "heatmap": [
           {
            "colorbar": {
             "outlinewidth": 0,
             "ticks": ""
            },
            "colorscale": [
             [
              0,
              "#0d0887"
             ],
             [
              0.1111111111111111,
              "#46039f"
             ],
             [
              0.2222222222222222,
              "#7201a8"
             ],
             [
              0.3333333333333333,
              "#9c179e"
             ],
             [
              0.4444444444444444,
              "#bd3786"
             ],
             [
              0.5555555555555556,
              "#d8576b"
             ],
             [
              0.6666666666666666,
              "#ed7953"
             ],
             [
              0.7777777777777778,
              "#fb9f3a"
             ],
             [
              0.8888888888888888,
              "#fdca26"
             ],
             [
              1,
              "#f0f921"
             ]
            ],
            "type": "heatmap"
           }
          ],
          "heatmapgl": [
           {
            "colorbar": {
             "outlinewidth": 0,
             "ticks": ""
            },
            "colorscale": [
             [
              0,
              "#0d0887"
             ],
             [
              0.1111111111111111,
              "#46039f"
             ],
             [
              0.2222222222222222,
              "#7201a8"
             ],
             [
              0.3333333333333333,
              "#9c179e"
             ],
             [
              0.4444444444444444,
              "#bd3786"
             ],
             [
              0.5555555555555556,
              "#d8576b"
             ],
             [
              0.6666666666666666,
              "#ed7953"
             ],
             [
              0.7777777777777778,
              "#fb9f3a"
             ],
             [
              0.8888888888888888,
              "#fdca26"
             ],
             [
              1,
              "#f0f921"
             ]
            ],
            "type": "heatmapgl"
           }
          ],
          "histogram": [
           {
            "marker": {
             "pattern": {
              "fillmode": "overlay",
              "size": 10,
              "solidity": 0.2
             }
            },
            "type": "histogram"
           }
          ],
          "histogram2d": [
           {
            "colorbar": {
             "outlinewidth": 0,
             "ticks": ""
            },
            "colorscale": [
             [
              0,
              "#0d0887"
             ],
             [
              0.1111111111111111,
              "#46039f"
             ],
             [
              0.2222222222222222,
              "#7201a8"
             ],
             [
              0.3333333333333333,
              "#9c179e"
             ],
             [
              0.4444444444444444,
              "#bd3786"
             ],
             [
              0.5555555555555556,
              "#d8576b"
             ],
             [
              0.6666666666666666,
              "#ed7953"
             ],
             [
              0.7777777777777778,
              "#fb9f3a"
             ],
             [
              0.8888888888888888,
              "#fdca26"
             ],
             [
              1,
              "#f0f921"
             ]
            ],
            "type": "histogram2d"
           }
          ],
          "histogram2dcontour": [
           {
            "colorbar": {
             "outlinewidth": 0,
             "ticks": ""
            },
            "colorscale": [
             [
              0,
              "#0d0887"
             ],
             [
              0.1111111111111111,
              "#46039f"
             ],
             [
              0.2222222222222222,
              "#7201a8"
             ],
             [
              0.3333333333333333,
              "#9c179e"
             ],
             [
              0.4444444444444444,
              "#bd3786"
             ],
             [
              0.5555555555555556,
              "#d8576b"
             ],
             [
              0.6666666666666666,
              "#ed7953"
             ],
             [
              0.7777777777777778,
              "#fb9f3a"
             ],
             [
              0.8888888888888888,
              "#fdca26"
             ],
             [
              1,
              "#f0f921"
             ]
            ],
            "type": "histogram2dcontour"
           }
          ],
          "mesh3d": [
           {
            "colorbar": {
             "outlinewidth": 0,
             "ticks": ""
            },
            "type": "mesh3d"
           }
          ],
          "parcoords": [
           {
            "line": {
             "colorbar": {
              "outlinewidth": 0,
              "ticks": ""
             }
            },
            "type": "parcoords"
           }
          ],
          "pie": [
           {
            "automargin": true,
            "type": "pie"
           }
          ],
          "scatter": [
           {
            "fillpattern": {
             "fillmode": "overlay",
             "size": 10,
             "solidity": 0.2
            },
            "type": "scatter"
           }
          ],
          "scatter3d": [
           {
            "line": {
             "colorbar": {
              "outlinewidth": 0,
              "ticks": ""
             }
            },
            "marker": {
             "colorbar": {
              "outlinewidth": 0,
              "ticks": ""
             }
            },
            "type": "scatter3d"
           }
          ],
          "scattercarpet": [
           {
            "marker": {
             "colorbar": {
              "outlinewidth": 0,
              "ticks": ""
             }
            },
            "type": "scattercarpet"
           }
          ],
          "scattergeo": [
           {
            "marker": {
             "colorbar": {
              "outlinewidth": 0,
              "ticks": ""
             }
            },
            "type": "scattergeo"
           }
          ],
          "scattergl": [
           {
            "marker": {
             "colorbar": {
              "outlinewidth": 0,
              "ticks": ""
             }
            },
            "type": "scattergl"
           }
          ],
          "scattermapbox": [
           {
            "marker": {
             "colorbar": {
              "outlinewidth": 0,
              "ticks": ""
             }
            },
            "type": "scattermapbox"
           }
          ],
          "scatterpolar": [
           {
            "marker": {
             "colorbar": {
              "outlinewidth": 0,
              "ticks": ""
             }
            },
            "type": "scatterpolar"
           }
          ],
          "scatterpolargl": [
           {
            "marker": {
             "colorbar": {
              "outlinewidth": 0,
              "ticks": ""
             }
            },
            "type": "scatterpolargl"
           }
          ],
          "scatterternary": [
           {
            "marker": {
             "colorbar": {
              "outlinewidth": 0,
              "ticks": ""
             }
            },
            "type": "scatterternary"
           }
          ],
          "surface": [
           {
            "colorbar": {
             "outlinewidth": 0,
             "ticks": ""
            },
            "colorscale": [
             [
              0,
              "#0d0887"
             ],
             [
              0.1111111111111111,
              "#46039f"
             ],
             [
              0.2222222222222222,
              "#7201a8"
             ],
             [
              0.3333333333333333,
              "#9c179e"
             ],
             [
              0.4444444444444444,
              "#bd3786"
             ],
             [
              0.5555555555555556,
              "#d8576b"
             ],
             [
              0.6666666666666666,
              "#ed7953"
             ],
             [
              0.7777777777777778,
              "#fb9f3a"
             ],
             [
              0.8888888888888888,
              "#fdca26"
             ],
             [
              1,
              "#f0f921"
             ]
            ],
            "type": "surface"
           }
          ],
          "table": [
           {
            "cells": {
             "fill": {
              "color": "#EBF0F8"
             },
             "line": {
              "color": "white"
             }
            },
            "header": {
             "fill": {
              "color": "#C8D4E3"
             },
             "line": {
              "color": "white"
             }
            },
            "type": "table"
           }
          ]
         },
         "layout": {
          "annotationdefaults": {
           "arrowcolor": "#2a3f5f",
           "arrowhead": 0,
           "arrowwidth": 1
          },
          "autotypenumbers": "strict",
          "coloraxis": {
           "colorbar": {
            "outlinewidth": 0,
            "ticks": ""
           }
          },
          "colorscale": {
           "diverging": [
            [
             0,
             "#8e0152"
            ],
            [
             0.1,
             "#c51b7d"
            ],
            [
             0.2,
             "#de77ae"
            ],
            [
             0.3,
             "#f1b6da"
            ],
            [
             0.4,
             "#fde0ef"
            ],
            [
             0.5,
             "#f7f7f7"
            ],
            [
             0.6,
             "#e6f5d0"
            ],
            [
             0.7,
             "#b8e186"
            ],
            [
             0.8,
             "#7fbc41"
            ],
            [
             0.9,
             "#4d9221"
            ],
            [
             1,
             "#276419"
            ]
           ],
           "sequential": [
            [
             0,
             "#0d0887"
            ],
            [
             0.1111111111111111,
             "#46039f"
            ],
            [
             0.2222222222222222,
             "#7201a8"
            ],
            [
             0.3333333333333333,
             "#9c179e"
            ],
            [
             0.4444444444444444,
             "#bd3786"
            ],
            [
             0.5555555555555556,
             "#d8576b"
            ],
            [
             0.6666666666666666,
             "#ed7953"
            ],
            [
             0.7777777777777778,
             "#fb9f3a"
            ],
            [
             0.8888888888888888,
             "#fdca26"
            ],
            [
             1,
             "#f0f921"
            ]
           ],
           "sequentialminus": [
            [
             0,
             "#0d0887"
            ],
            [
             0.1111111111111111,
             "#46039f"
            ],
            [
             0.2222222222222222,
             "#7201a8"
            ],
            [
             0.3333333333333333,
             "#9c179e"
            ],
            [
             0.4444444444444444,
             "#bd3786"
            ],
            [
             0.5555555555555556,
             "#d8576b"
            ],
            [
             0.6666666666666666,
             "#ed7953"
            ],
            [
             0.7777777777777778,
             "#fb9f3a"
            ],
            [
             0.8888888888888888,
             "#fdca26"
            ],
            [
             1,
             "#f0f921"
            ]
           ]
          },
          "colorway": [
           "#636efa",
           "#EF553B",
           "#00cc96",
           "#ab63fa",
           "#FFA15A",
           "#19d3f3",
           "#FF6692",
           "#B6E880",
           "#FF97FF",
           "#FECB52"
          ],
          "font": {
           "color": "#2a3f5f"
          },
          "geo": {
           "bgcolor": "white",
           "lakecolor": "white",
           "landcolor": "#E5ECF6",
           "showlakes": true,
           "showland": true,
           "subunitcolor": "white"
          },
          "hoverlabel": {
           "align": "left"
          },
          "hovermode": "closest",
          "mapbox": {
           "style": "light"
          },
          "paper_bgcolor": "white",
          "plot_bgcolor": "#E5ECF6",
          "polar": {
           "angularaxis": {
            "gridcolor": "white",
            "linecolor": "white",
            "ticks": ""
           },
           "bgcolor": "#E5ECF6",
           "radialaxis": {
            "gridcolor": "white",
            "linecolor": "white",
            "ticks": ""
           }
          },
          "scene": {
           "xaxis": {
            "backgroundcolor": "#E5ECF6",
            "gridcolor": "white",
            "gridwidth": 2,
            "linecolor": "white",
            "showbackground": true,
            "ticks": "",
            "zerolinecolor": "white"
           },
           "yaxis": {
            "backgroundcolor": "#E5ECF6",
            "gridcolor": "white",
            "gridwidth": 2,
            "linecolor": "white",
            "showbackground": true,
            "ticks": "",
            "zerolinecolor": "white"
           },
           "zaxis": {
            "backgroundcolor": "#E5ECF6",
            "gridcolor": "white",
            "gridwidth": 2,
            "linecolor": "white",
            "showbackground": true,
            "ticks": "",
            "zerolinecolor": "white"
           }
          },
          "shapedefaults": {
           "line": {
            "color": "#2a3f5f"
           }
          },
          "ternary": {
           "aaxis": {
            "gridcolor": "white",
            "linecolor": "white",
            "ticks": ""
           },
           "baxis": {
            "gridcolor": "white",
            "linecolor": "white",
            "ticks": ""
           },
           "bgcolor": "#E5ECF6",
           "caxis": {
            "gridcolor": "white",
            "linecolor": "white",
            "ticks": ""
           }
          },
          "title": {
           "x": 0.05
          },
          "xaxis": {
           "automargin": true,
           "gridcolor": "white",
           "linecolor": "white",
           "ticks": "",
           "title": {
            "standoff": 15
           },
           "zerolinecolor": "white",
           "zerolinewidth": 2
          },
          "yaxis": {
           "automargin": true,
           "gridcolor": "white",
           "linecolor": "white",
           "ticks": "",
           "title": {
            "standoff": 15
           },
           "zerolinecolor": "white",
           "zerolinewidth": 2
          }
         }
        },
        "title": {
         "text": "Random Forest Regressor: Total Sales & Operating Profit Predictions vs. Actual Values (Quarterly Data)"
        },
        "xaxis": {
         "anchor": "y",
         "domain": [
          0,
          1
         ],
         "title": {
          "text": "index"
         }
        },
        "yaxis": {
         "anchor": "x",
         "domain": [
          0,
          1
         ],
         "title": {
          "text": "value"
         }
        }
       }
      }
     },
     "metadata": {},
     "output_type": "display_data"
    }
   ],
   "source": [
    "#Plot the predictions vs. the actual values\n",
    "px.line(rfr_df, x=rfr_df.index, y=['Predicted_Total_Sales', 'Actual_Total_Sales', 'Predicted_Operating_Profit', 'Actual_Operating_Profit'], \n",
    "        title='Random Forest Regressor: Total Sales & Operating Profit Predictions vs. Actual Values (Quarterly Data)')"
   ]
  },
  {
   "cell_type": "code",
   "execution_count": 191,
   "metadata": {},
   "outputs": [
    {
     "data": {
      "text/plain": [
       "GridSearchCV(estimator=RandomForestRegressor(), n_jobs=4,\n",
       "             param_grid={'max_depth': [None, 5, 10, 15, 20],\n",
       "                         'max_features': ['auto', 'sqrt', 'log2'],\n",
       "                         'min_samples_leaf': [1, 2, 3, 4, 5],\n",
       "                         'min_samples_split': [2, 4, 6, 8, 10],\n",
       "                         'n_estimators': [50, 100, 200, 300, 400]},\n",
       "             scoring=make_scorer(mean_squared_error, greater_is_better=False))"
      ]
     },
     "execution_count": 191,
     "metadata": {},
     "output_type": "execute_result"
    }
   ],
   "source": [
    "#Define the scoring function to be used in GridSearchCV\n",
    "mse = make_scorer(mean_squared_error, greater_is_better=False)\n",
    "\n",
    "#Find optimal parameters using GridSearchCV\n",
    "rfr_grid = {'n_estimators': [50, 100, 200, 300, 400], \n",
    "        'max_depth': [None, 5, 10, 15, 20], \n",
    "        'min_samples_split': [2, 4, 6, 8, 10], \n",
    "        'min_samples_leaf': [1, 2, 3, 4, 5], \n",
    "        'max_features': ['auto', 'sqrt', 'log2']}\n",
    "\n",
    "#Grid search function\n",
    "CV_rfr = GridSearchCV(estimator=RandomForestRegressor(), param_grid=rfr_grid, scoring=mse, n_jobs=4)\n",
    "CV_rfr.fit(X_quarterly_train, y_quarterly_train)"
   ]
  },
  {
   "cell_type": "code",
   "execution_count": 192,
   "metadata": {},
   "outputs": [
    {
     "data": {
      "text/plain": [
       "{'max_depth': None,\n",
       " 'max_features': 'log2',\n",
       " 'min_samples_leaf': 1,\n",
       " 'min_samples_split': 2,\n",
       " 'n_estimators': 100}"
      ]
     },
     "execution_count": 192,
     "metadata": {},
     "output_type": "execute_result"
    }
   ],
   "source": [
    "#Show the best parameters\n",
    "CV_rfr.best_params_"
   ]
  },
  {
   "cell_type": "code",
   "execution_count": 193,
   "metadata": {},
   "outputs": [],
   "source": [
    "#Create a random forest regressor\n",
    "opt_rfr = RandomForestRegressor(max_depth=None, max_features= 'log2', min_samples_leaf= 1, min_samples_split= 2, n_estimators= 100, random_state=0)\n",
    "\n",
    "#Fit the model to the training data\n",
    "opt_rfr.fit(X_quarterly_train, y_quarterly_train)\n",
    "\n",
    "#Make predictions using the testing data\n",
    "opt_rfr_predictions = opt_rfr.predict(X_quarterly_test)"
   ]
  },
  {
   "cell_type": "code",
   "execution_count": 194,
   "metadata": {},
   "outputs": [
    {
     "name": "stdout",
     "output_type": "stream",
     "text": [
      "Random Forest Regressor MSE: 14904899180216.934\n",
      "Random Forest Regressor RMSE: 3860686.361285637\n"
     ]
    }
   ],
   "source": [
    "#Calculate the mean squared error and root mean squared error as performance metrics\n",
    "opt_rfr_mse = mean_squared_error(y_quarterly_test, opt_rfr_predictions)\n",
    "opt_rfr_rmse = opt_rfr_mse**.5\n",
    "\n",
    "print(f'Random Forest Regressor MSE: {opt_rfr_mse}')\n",
    "print(f'Random Forest Regressor RMSE: {opt_rfr_rmse}')"
   ]
  },
  {
   "cell_type": "code",
   "execution_count": 223,
   "metadata": {},
   "outputs": [
    {
     "name": "stdout",
     "output_type": "stream",
     "text": [
      "RMSE: 3777590.1141415015\n",
      "Optimal parameters: n_estimators=50, max_depth=None, min_samples_split=2, min_samples_leaf=1, max_features=auto\n",
      "RMSE: 3708158.6286961916\n",
      "Optimal parameters: n_estimators=50, max_depth=None, min_samples_split=2, min_samples_leaf=1, max_features=sqrt\n"
     ]
    }
   ],
   "source": [
    "#After doing some manual iterations of the parameters, it seems that GridSearchCV was not able to produce the best results\n",
    "#This could possibly be due to the very small dataset. Somehow adding a defined scoring function to GridSearchCV made the RMSE worse\n",
    "\n",
    "opt_rfr_rmse_loop = 3860686\n",
    "\n",
    "for n in rfr_grid['n_estimators']:\n",
    "    for d in rfr_grid['max_depth']:\n",
    "        for s in rfr_grid['min_samples_split']:\n",
    "            for l in rfr_grid['min_samples_leaf']:\n",
    "                for f in rfr_grid['max_features']:\n",
    "                    opt_rfr = RandomForestRegressor(max_depth=d, max_features=f, min_samples_leaf=l, min_samples_split=s, n_estimators=n, random_state=0)\n",
    "                    opt_rfr.fit(X_quarterly_train, y_quarterly_train)\n",
    "                    opt_rfr_predictions = opt_rfr.predict(X_quarterly_test)\n",
    "                    opt_rfr_rmse_in_loop = mean_squared_error(y_quarterly_test, opt_rfr_predictions)**.5\n",
    "                    \n",
    "                    #If the RMSE is lower than the previous RMSE, then update\n",
    "                    if opt_rfr_rmse_in_loop < opt_rfr_rmse_loop:\n",
    "                        opt_rfr_rmse_loop = opt_rfr_rmse_in_loop\n",
    "                        print(f'RMSE: {opt_rfr_rmse_loop}')\n",
    "                        print(f'Optimal parameters: n_estimators={n}, max_depth={d}, min_samples_split={s}, min_samples_leaf={l}, max_features={f}')\n",
    "                    "
   ]
  },
  {
   "cell_type": "code",
   "execution_count": 196,
   "metadata": {},
   "outputs": [],
   "source": [
    "#Create a random forest regressor\n",
    "opt_rfr = RandomForestRegressor(max_depth=None, max_features= 'sqrt', min_samples_leaf= 1, min_samples_split= 2, n_estimators= 50, random_state=0)\n",
    "\n",
    "#Fit the model to the training data\n",
    "opt_rfr.fit(X_quarterly_train, y_quarterly_train)\n",
    "\n",
    "#Make predictions using the testing data\n",
    "opt_rfr_predictions = opt_rfr.predict(X_quarterly_test)"
   ]
  },
  {
   "cell_type": "code",
   "execution_count": 197,
   "metadata": {},
   "outputs": [
    {
     "name": "stdout",
     "output_type": "stream",
     "text": [
      "Random Forest Regressor MSE: 13750440415574.021\n",
      "Random Forest Regressor RMSE: 3708158.6286961916\n"
     ]
    }
   ],
   "source": [
    "#Calculate the mean squared error and root mean squared error as performance metrics\n",
    "opt_rfr_mse = mean_squared_error(y_quarterly_test, opt_rfr_predictions)\n",
    "opt_rfr_rmse = opt_rfr_mse**.5\n",
    "\n",
    "print(f'Random Forest Regressor MSE: {opt_rfr_mse}')\n",
    "print(f'Random Forest Regressor RMSE: {opt_rfr_rmse}')"
   ]
  },
  {
   "cell_type": "code",
   "execution_count": 198,
   "metadata": {},
   "outputs": [
    {
     "data": {
      "text/html": [
       "<div>\n",
       "<style scoped>\n",
       "    .dataframe tbody tr th:only-of-type {\n",
       "        vertical-align: middle;\n",
       "    }\n",
       "\n",
       "    .dataframe tbody tr th {\n",
       "        vertical-align: top;\n",
       "    }\n",
       "\n",
       "    .dataframe thead th {\n",
       "        text-align: right;\n",
       "    }\n",
       "</style>\n",
       "<table border=\"1\" class=\"dataframe\">\n",
       "  <thead>\n",
       "    <tr style=\"text-align: right;\">\n",
       "      <th></th>\n",
       "      <th>Predicted_Total_Sales</th>\n",
       "      <th>Predicted_Operating_Profit</th>\n",
       "      <th>Actual_Total_Sales</th>\n",
       "      <th>Actual_Operating_Profit</th>\n",
       "    </tr>\n",
       "  </thead>\n",
       "  <tbody>\n",
       "    <tr>\n",
       "      <th>2020:Q2</th>\n",
       "      <td>13270180.32</td>\n",
       "      <td>5.219826e+06</td>\n",
       "      <td>6442039.0</td>\n",
       "      <td>2383123.95</td>\n",
       "    </tr>\n",
       "    <tr>\n",
       "      <th>2021:Q1</th>\n",
       "      <td>19043236.04</td>\n",
       "      <td>7.620859e+06</td>\n",
       "      <td>18770496.0</td>\n",
       "      <td>7113924.66</td>\n",
       "    </tr>\n",
       "  </tbody>\n",
       "</table>\n",
       "</div>"
      ],
      "text/plain": [
       "         Predicted_Total_Sales  Predicted_Operating_Profit  \\\n",
       "2020:Q2            13270180.32                5.219826e+06   \n",
       "2021:Q1            19043236.04                7.620859e+06   \n",
       "\n",
       "         Actual_Total_Sales  Actual_Operating_Profit  \n",
       "2020:Q2           6442039.0               2383123.95  \n",
       "2021:Q1          18770496.0               7113924.66  "
      ]
     },
     "execution_count": 198,
     "metadata": {},
     "output_type": "execute_result"
    }
   ],
   "source": [
    "#Create a dataframe of the predictions\n",
    "opt_rfr_df = pd.DataFrame(opt_rfr_predictions, columns=['Predicted_Total_Sales', 'Predicted_Operating_Profit'], index=y_quarterly_test.index)\n",
    "\n",
    "#Add the actual values to the dataframe\n",
    "opt_rfr_df['Actual_Total_Sales'], opt_rfr_df['Actual_Operating_Profit'] = y_quarterly_test['Total_sales'], y_quarterly_test['Operating_profit']\n",
    "\n",
    "#Sort index in order to match the timeline\n",
    "opt_rfr_df.sort_index(inplace=True)\n",
    "\n",
    "opt_rfr_df"
   ]
  },
  {
   "cell_type": "code",
   "execution_count": 199,
   "metadata": {},
   "outputs": [
    {
     "data": {
      "application/vnd.plotly.v1+json": {
       "config": {
        "plotlyServerURL": "https://plot.ly"
       },
       "data": [
        {
         "hovertemplate": "variable=Predicted_Total_Sales<br>index=%{x}<br>value=%{y}<extra></extra>",
         "legendgroup": "Predicted_Total_Sales",
         "line": {
          "color": "#636efa",
          "dash": "solid"
         },
         "marker": {
          "symbol": "circle"
         },
         "mode": "lines",
         "name": "Predicted_Total_Sales",
         "orientation": "v",
         "showlegend": true,
         "type": "scatter",
         "x": [
          "2020:Q2",
          "2021:Q1"
         ],
         "xaxis": "x",
         "y": [
          13270180.32,
          19043236.04
         ],
         "yaxis": "y"
        },
        {
         "hovertemplate": "variable=Actual_Total_Sales<br>index=%{x}<br>value=%{y}<extra></extra>",
         "legendgroup": "Actual_Total_Sales",
         "line": {
          "color": "#EF553B",
          "dash": "solid"
         },
         "marker": {
          "symbol": "circle"
         },
         "mode": "lines",
         "name": "Actual_Total_Sales",
         "orientation": "v",
         "showlegend": true,
         "type": "scatter",
         "x": [
          "2020:Q2",
          "2021:Q1"
         ],
         "xaxis": "x",
         "y": [
          6442039,
          18770496
         ],
         "yaxis": "y"
        },
        {
         "hovertemplate": "variable=Predicted_Operating_Profit<br>index=%{x}<br>value=%{y}<extra></extra>",
         "legendgroup": "Predicted_Operating_Profit",
         "line": {
          "color": "#00cc96",
          "dash": "solid"
         },
         "marker": {
          "symbol": "circle"
         },
         "mode": "lines",
         "name": "Predicted_Operating_Profit",
         "orientation": "v",
         "showlegend": true,
         "type": "scatter",
         "x": [
          "2020:Q2",
          "2021:Q1"
         ],
         "xaxis": "x",
         "y": [
          5219825.932400002,
          7620859.0838
         ],
         "yaxis": "y"
        },
        {
         "hovertemplate": "variable=Actual_Operating_Profit<br>index=%{x}<br>value=%{y}<extra></extra>",
         "legendgroup": "Actual_Operating_Profit",
         "line": {
          "color": "#ab63fa",
          "dash": "solid"
         },
         "marker": {
          "symbol": "circle"
         },
         "mode": "lines",
         "name": "Actual_Operating_Profit",
         "orientation": "v",
         "showlegend": true,
         "type": "scatter",
         "x": [
          "2020:Q2",
          "2021:Q1"
         ],
         "xaxis": "x",
         "y": [
          2383123.95,
          7113924.66
         ],
         "yaxis": "y"
        }
       ],
       "layout": {
        "legend": {
         "title": {
          "text": "variable"
         },
         "tracegroupgap": 0
        },
        "template": {
         "data": {
          "bar": [
           {
            "error_x": {
             "color": "#2a3f5f"
            },
            "error_y": {
             "color": "#2a3f5f"
            },
            "marker": {
             "line": {
              "color": "#E5ECF6",
              "width": 0.5
             },
             "pattern": {
              "fillmode": "overlay",
              "size": 10,
              "solidity": 0.2
             }
            },
            "type": "bar"
           }
          ],
          "barpolar": [
           {
            "marker": {
             "line": {
              "color": "#E5ECF6",
              "width": 0.5
             },
             "pattern": {
              "fillmode": "overlay",
              "size": 10,
              "solidity": 0.2
             }
            },
            "type": "barpolar"
           }
          ],
          "carpet": [
           {
            "aaxis": {
             "endlinecolor": "#2a3f5f",
             "gridcolor": "white",
             "linecolor": "white",
             "minorgridcolor": "white",
             "startlinecolor": "#2a3f5f"
            },
            "baxis": {
             "endlinecolor": "#2a3f5f",
             "gridcolor": "white",
             "linecolor": "white",
             "minorgridcolor": "white",
             "startlinecolor": "#2a3f5f"
            },
            "type": "carpet"
           }
          ],
          "choropleth": [
           {
            "colorbar": {
             "outlinewidth": 0,
             "ticks": ""
            },
            "type": "choropleth"
           }
          ],
          "contour": [
           {
            "colorbar": {
             "outlinewidth": 0,
             "ticks": ""
            },
            "colorscale": [
             [
              0,
              "#0d0887"
             ],
             [
              0.1111111111111111,
              "#46039f"
             ],
             [
              0.2222222222222222,
              "#7201a8"
             ],
             [
              0.3333333333333333,
              "#9c179e"
             ],
             [
              0.4444444444444444,
              "#bd3786"
             ],
             [
              0.5555555555555556,
              "#d8576b"
             ],
             [
              0.6666666666666666,
              "#ed7953"
             ],
             [
              0.7777777777777778,
              "#fb9f3a"
             ],
             [
              0.8888888888888888,
              "#fdca26"
             ],
             [
              1,
              "#f0f921"
             ]
            ],
            "type": "contour"
           }
          ],
          "contourcarpet": [
           {
            "colorbar": {
             "outlinewidth": 0,
             "ticks": ""
            },
            "type": "contourcarpet"
           }
          ],
          "heatmap": [
           {
            "colorbar": {
             "outlinewidth": 0,
             "ticks": ""
            },
            "colorscale": [
             [
              0,
              "#0d0887"
             ],
             [
              0.1111111111111111,
              "#46039f"
             ],
             [
              0.2222222222222222,
              "#7201a8"
             ],
             [
              0.3333333333333333,
              "#9c179e"
             ],
             [
              0.4444444444444444,
              "#bd3786"
             ],
             [
              0.5555555555555556,
              "#d8576b"
             ],
             [
              0.6666666666666666,
              "#ed7953"
             ],
             [
              0.7777777777777778,
              "#fb9f3a"
             ],
             [
              0.8888888888888888,
              "#fdca26"
             ],
             [
              1,
              "#f0f921"
             ]
            ],
            "type": "heatmap"
           }
          ],
          "heatmapgl": [
           {
            "colorbar": {
             "outlinewidth": 0,
             "ticks": ""
            },
            "colorscale": [
             [
              0,
              "#0d0887"
             ],
             [
              0.1111111111111111,
              "#46039f"
             ],
             [
              0.2222222222222222,
              "#7201a8"
             ],
             [
              0.3333333333333333,
              "#9c179e"
             ],
             [
              0.4444444444444444,
              "#bd3786"
             ],
             [
              0.5555555555555556,
              "#d8576b"
             ],
             [
              0.6666666666666666,
              "#ed7953"
             ],
             [
              0.7777777777777778,
              "#fb9f3a"
             ],
             [
              0.8888888888888888,
              "#fdca26"
             ],
             [
              1,
              "#f0f921"
             ]
            ],
            "type": "heatmapgl"
           }
          ],
          "histogram": [
           {
            "marker": {
             "pattern": {
              "fillmode": "overlay",
              "size": 10,
              "solidity": 0.2
             }
            },
            "type": "histogram"
           }
          ],
          "histogram2d": [
           {
            "colorbar": {
             "outlinewidth": 0,
             "ticks": ""
            },
            "colorscale": [
             [
              0,
              "#0d0887"
             ],
             [
              0.1111111111111111,
              "#46039f"
             ],
             [
              0.2222222222222222,
              "#7201a8"
             ],
             [
              0.3333333333333333,
              "#9c179e"
             ],
             [
              0.4444444444444444,
              "#bd3786"
             ],
             [
              0.5555555555555556,
              "#d8576b"
             ],
             [
              0.6666666666666666,
              "#ed7953"
             ],
             [
              0.7777777777777778,
              "#fb9f3a"
             ],
             [
              0.8888888888888888,
              "#fdca26"
             ],
             [
              1,
              "#f0f921"
             ]
            ],
            "type": "histogram2d"
           }
          ],
          "histogram2dcontour": [
           {
            "colorbar": {
             "outlinewidth": 0,
             "ticks": ""
            },
            "colorscale": [
             [
              0,
              "#0d0887"
             ],
             [
              0.1111111111111111,
              "#46039f"
             ],
             [
              0.2222222222222222,
              "#7201a8"
             ],
             [
              0.3333333333333333,
              "#9c179e"
             ],
             [
              0.4444444444444444,
              "#bd3786"
             ],
             [
              0.5555555555555556,
              "#d8576b"
             ],
             [
              0.6666666666666666,
              "#ed7953"
             ],
             [
              0.7777777777777778,
              "#fb9f3a"
             ],
             [
              0.8888888888888888,
              "#fdca26"
             ],
             [
              1,
              "#f0f921"
             ]
            ],
            "type": "histogram2dcontour"
           }
          ],
          "mesh3d": [
           {
            "colorbar": {
             "outlinewidth": 0,
             "ticks": ""
            },
            "type": "mesh3d"
           }
          ],
          "parcoords": [
           {
            "line": {
             "colorbar": {
              "outlinewidth": 0,
              "ticks": ""
             }
            },
            "type": "parcoords"
           }
          ],
          "pie": [
           {
            "automargin": true,
            "type": "pie"
           }
          ],
          "scatter": [
           {
            "fillpattern": {
             "fillmode": "overlay",
             "size": 10,
             "solidity": 0.2
            },
            "type": "scatter"
           }
          ],
          "scatter3d": [
           {
            "line": {
             "colorbar": {
              "outlinewidth": 0,
              "ticks": ""
             }
            },
            "marker": {
             "colorbar": {
              "outlinewidth": 0,
              "ticks": ""
             }
            },
            "type": "scatter3d"
           }
          ],
          "scattercarpet": [
           {
            "marker": {
             "colorbar": {
              "outlinewidth": 0,
              "ticks": ""
             }
            },
            "type": "scattercarpet"
           }
          ],
          "scattergeo": [
           {
            "marker": {
             "colorbar": {
              "outlinewidth": 0,
              "ticks": ""
             }
            },
            "type": "scattergeo"
           }
          ],
          "scattergl": [
           {
            "marker": {
             "colorbar": {
              "outlinewidth": 0,
              "ticks": ""
             }
            },
            "type": "scattergl"
           }
          ],
          "scattermapbox": [
           {
            "marker": {
             "colorbar": {
              "outlinewidth": 0,
              "ticks": ""
             }
            },
            "type": "scattermapbox"
           }
          ],
          "scatterpolar": [
           {
            "marker": {
             "colorbar": {
              "outlinewidth": 0,
              "ticks": ""
             }
            },
            "type": "scatterpolar"
           }
          ],
          "scatterpolargl": [
           {
            "marker": {
             "colorbar": {
              "outlinewidth": 0,
              "ticks": ""
             }
            },
            "type": "scatterpolargl"
           }
          ],
          "scatterternary": [
           {
            "marker": {
             "colorbar": {
              "outlinewidth": 0,
              "ticks": ""
             }
            },
            "type": "scatterternary"
           }
          ],
          "surface": [
           {
            "colorbar": {
             "outlinewidth": 0,
             "ticks": ""
            },
            "colorscale": [
             [
              0,
              "#0d0887"
             ],
             [
              0.1111111111111111,
              "#46039f"
             ],
             [
              0.2222222222222222,
              "#7201a8"
             ],
             [
              0.3333333333333333,
              "#9c179e"
             ],
             [
              0.4444444444444444,
              "#bd3786"
             ],
             [
              0.5555555555555556,
              "#d8576b"
             ],
             [
              0.6666666666666666,
              "#ed7953"
             ],
             [
              0.7777777777777778,
              "#fb9f3a"
             ],
             [
              0.8888888888888888,
              "#fdca26"
             ],
             [
              1,
              "#f0f921"
             ]
            ],
            "type": "surface"
           }
          ],
          "table": [
           {
            "cells": {
             "fill": {
              "color": "#EBF0F8"
             },
             "line": {
              "color": "white"
             }
            },
            "header": {
             "fill": {
              "color": "#C8D4E3"
             },
             "line": {
              "color": "white"
             }
            },
            "type": "table"
           }
          ]
         },
         "layout": {
          "annotationdefaults": {
           "arrowcolor": "#2a3f5f",
           "arrowhead": 0,
           "arrowwidth": 1
          },
          "autotypenumbers": "strict",
          "coloraxis": {
           "colorbar": {
            "outlinewidth": 0,
            "ticks": ""
           }
          },
          "colorscale": {
           "diverging": [
            [
             0,
             "#8e0152"
            ],
            [
             0.1,
             "#c51b7d"
            ],
            [
             0.2,
             "#de77ae"
            ],
            [
             0.3,
             "#f1b6da"
            ],
            [
             0.4,
             "#fde0ef"
            ],
            [
             0.5,
             "#f7f7f7"
            ],
            [
             0.6,
             "#e6f5d0"
            ],
            [
             0.7,
             "#b8e186"
            ],
            [
             0.8,
             "#7fbc41"
            ],
            [
             0.9,
             "#4d9221"
            ],
            [
             1,
             "#276419"
            ]
           ],
           "sequential": [
            [
             0,
             "#0d0887"
            ],
            [
             0.1111111111111111,
             "#46039f"
            ],
            [
             0.2222222222222222,
             "#7201a8"
            ],
            [
             0.3333333333333333,
             "#9c179e"
            ],
            [
             0.4444444444444444,
             "#bd3786"
            ],
            [
             0.5555555555555556,
             "#d8576b"
            ],
            [
             0.6666666666666666,
             "#ed7953"
            ],
            [
             0.7777777777777778,
             "#fb9f3a"
            ],
            [
             0.8888888888888888,
             "#fdca26"
            ],
            [
             1,
             "#f0f921"
            ]
           ],
           "sequentialminus": [
            [
             0,
             "#0d0887"
            ],
            [
             0.1111111111111111,
             "#46039f"
            ],
            [
             0.2222222222222222,
             "#7201a8"
            ],
            [
             0.3333333333333333,
             "#9c179e"
            ],
            [
             0.4444444444444444,
             "#bd3786"
            ],
            [
             0.5555555555555556,
             "#d8576b"
            ],
            [
             0.6666666666666666,
             "#ed7953"
            ],
            [
             0.7777777777777778,
             "#fb9f3a"
            ],
            [
             0.8888888888888888,
             "#fdca26"
            ],
            [
             1,
             "#f0f921"
            ]
           ]
          },
          "colorway": [
           "#636efa",
           "#EF553B",
           "#00cc96",
           "#ab63fa",
           "#FFA15A",
           "#19d3f3",
           "#FF6692",
           "#B6E880",
           "#FF97FF",
           "#FECB52"
          ],
          "font": {
           "color": "#2a3f5f"
          },
          "geo": {
           "bgcolor": "white",
           "lakecolor": "white",
           "landcolor": "#E5ECF6",
           "showlakes": true,
           "showland": true,
           "subunitcolor": "white"
          },
          "hoverlabel": {
           "align": "left"
          },
          "hovermode": "closest",
          "mapbox": {
           "style": "light"
          },
          "paper_bgcolor": "white",
          "plot_bgcolor": "#E5ECF6",
          "polar": {
           "angularaxis": {
            "gridcolor": "white",
            "linecolor": "white",
            "ticks": ""
           },
           "bgcolor": "#E5ECF6",
           "radialaxis": {
            "gridcolor": "white",
            "linecolor": "white",
            "ticks": ""
           }
          },
          "scene": {
           "xaxis": {
            "backgroundcolor": "#E5ECF6",
            "gridcolor": "white",
            "gridwidth": 2,
            "linecolor": "white",
            "showbackground": true,
            "ticks": "",
            "zerolinecolor": "white"
           },
           "yaxis": {
            "backgroundcolor": "#E5ECF6",
            "gridcolor": "white",
            "gridwidth": 2,
            "linecolor": "white",
            "showbackground": true,
            "ticks": "",
            "zerolinecolor": "white"
           },
           "zaxis": {
            "backgroundcolor": "#E5ECF6",
            "gridcolor": "white",
            "gridwidth": 2,
            "linecolor": "white",
            "showbackground": true,
            "ticks": "",
            "zerolinecolor": "white"
           }
          },
          "shapedefaults": {
           "line": {
            "color": "#2a3f5f"
           }
          },
          "ternary": {
           "aaxis": {
            "gridcolor": "white",
            "linecolor": "white",
            "ticks": ""
           },
           "baxis": {
            "gridcolor": "white",
            "linecolor": "white",
            "ticks": ""
           },
           "bgcolor": "#E5ECF6",
           "caxis": {
            "gridcolor": "white",
            "linecolor": "white",
            "ticks": ""
           }
          },
          "title": {
           "x": 0.05
          },
          "xaxis": {
           "automargin": true,
           "gridcolor": "white",
           "linecolor": "white",
           "ticks": "",
           "title": {
            "standoff": 15
           },
           "zerolinecolor": "white",
           "zerolinewidth": 2
          },
          "yaxis": {
           "automargin": true,
           "gridcolor": "white",
           "linecolor": "white",
           "ticks": "",
           "title": {
            "standoff": 15
           },
           "zerolinecolor": "white",
           "zerolinewidth": 2
          }
         }
        },
        "title": {
         "text": "Optimized Random Forest Regressor: Total Sales & Operating Profit Predictions vs. Actual Values (Quarterly Data)"
        },
        "xaxis": {
         "anchor": "y",
         "domain": [
          0,
          1
         ],
         "title": {
          "text": "index"
         }
        },
        "yaxis": {
         "anchor": "x",
         "domain": [
          0,
          1
         ],
         "title": {
          "text": "value"
         }
        }
       }
      }
     },
     "metadata": {},
     "output_type": "display_data"
    }
   ],
   "source": [
    "#Plot the predictions vs. the actual values\n",
    "px.line(opt_rfr_df, x=opt_rfr_df.index, y=['Predicted_Total_Sales', 'Actual_Total_Sales', 'Predicted_Operating_Profit', 'Actual_Operating_Profit'], \n",
    "        title='Optimized Random Forest Regressor: Total Sales & Operating Profit Predictions vs. Actual Values (Quarterly Data)')"
   ]
  },
  {
   "cell_type": "code",
   "execution_count": 200,
   "metadata": {},
   "outputs": [
    {
     "data": {
      "text/html": [
       "<div>\n",
       "<style scoped>\n",
       "    .dataframe tbody tr th:only-of-type {\n",
       "        vertical-align: middle;\n",
       "    }\n",
       "\n",
       "    .dataframe tbody tr th {\n",
       "        vertical-align: top;\n",
       "    }\n",
       "\n",
       "    .dataframe thead th {\n",
       "        text-align: right;\n",
       "    }\n",
       "</style>\n",
       "<table border=\"1\" class=\"dataframe\">\n",
       "  <thead>\n",
       "    <tr style=\"text-align: right;\">\n",
       "      <th></th>\n",
       "      <th>Predicted_Total_Sales</th>\n",
       "      <th>Predicted_Operating_Profit</th>\n",
       "      <th>Actual_Total_Sales</th>\n",
       "      <th>Actual_Operating_Profit</th>\n",
       "    </tr>\n",
       "  </thead>\n",
       "  <tbody>\n",
       "    <tr>\n",
       "      <th>2020:Q1</th>\n",
       "      <td>6852050.02</td>\n",
       "      <td>2.555486e+06</td>\n",
       "      <td>6927761.0</td>\n",
       "      <td>2559891.11</td>\n",
       "    </tr>\n",
       "    <tr>\n",
       "      <th>2020:Q2</th>\n",
       "      <td>13270180.32</td>\n",
       "      <td>5.219826e+06</td>\n",
       "      <td>6442039.0</td>\n",
       "      <td>2383123.95</td>\n",
       "    </tr>\n",
       "    <tr>\n",
       "      <th>2020:Q3</th>\n",
       "      <td>7414362.38</td>\n",
       "      <td>2.817798e+06</td>\n",
       "      <td>7191704.0</td>\n",
       "      <td>2700034.59</td>\n",
       "    </tr>\n",
       "    <tr>\n",
       "      <th>2020:Q4</th>\n",
       "      <td>6450600.24</td>\n",
       "      <td>2.474726e+06</td>\n",
       "      <td>3675821.0</td>\n",
       "      <td>1372455.43</td>\n",
       "    </tr>\n",
       "    <tr>\n",
       "      <th>2021:Q1</th>\n",
       "      <td>19043236.04</td>\n",
       "      <td>7.620859e+06</td>\n",
       "      <td>18770496.0</td>\n",
       "      <td>7113924.66</td>\n",
       "    </tr>\n",
       "    <tr>\n",
       "      <th>2021:Q2</th>\n",
       "      <td>21754829.74</td>\n",
       "      <td>8.710408e+06</td>\n",
       "      <td>23794248.0</td>\n",
       "      <td>9530544.61</td>\n",
       "    </tr>\n",
       "    <tr>\n",
       "      <th>2021:Q3</th>\n",
       "      <td>26733789.82</td>\n",
       "      <td>1.081317e+07</td>\n",
       "      <td>28057525.0</td>\n",
       "      <td>11395237.28</td>\n",
       "    </tr>\n",
       "    <tr>\n",
       "      <th>2021:Q4</th>\n",
       "      <td>25872657.18</td>\n",
       "      <td>1.042420e+07</td>\n",
       "      <td>25301709.0</td>\n",
       "      <td>10167871.38</td>\n",
       "    </tr>\n",
       "    <tr>\n",
       "      <th>2022:Q1</th>\n",
       "      <td>25872657.18</td>\n",
       "      <td>1.042420e+07</td>\n",
       "      <td>NaN</td>\n",
       "      <td>NaN</td>\n",
       "    </tr>\n",
       "    <tr>\n",
       "      <th>2022:Q2</th>\n",
       "      <td>25872657.18</td>\n",
       "      <td>1.042420e+07</td>\n",
       "      <td>NaN</td>\n",
       "      <td>NaN</td>\n",
       "    </tr>\n",
       "    <tr>\n",
       "      <th>2022:Q3</th>\n",
       "      <td>25872657.18</td>\n",
       "      <td>1.042420e+07</td>\n",
       "      <td>NaN</td>\n",
       "      <td>NaN</td>\n",
       "    </tr>\n",
       "  </tbody>\n",
       "</table>\n",
       "</div>"
      ],
      "text/plain": [
       "         Predicted_Total_Sales  Predicted_Operating_Profit  \\\n",
       "2020:Q1             6852050.02                2.555486e+06   \n",
       "2020:Q2            13270180.32                5.219826e+06   \n",
       "2020:Q3             7414362.38                2.817798e+06   \n",
       "2020:Q4             6450600.24                2.474726e+06   \n",
       "2021:Q1            19043236.04                7.620859e+06   \n",
       "2021:Q2            21754829.74                8.710408e+06   \n",
       "2021:Q3            26733789.82                1.081317e+07   \n",
       "2021:Q4            25872657.18                1.042420e+07   \n",
       "2022:Q1            25872657.18                1.042420e+07   \n",
       "2022:Q2            25872657.18                1.042420e+07   \n",
       "2022:Q3            25872657.18                1.042420e+07   \n",
       "\n",
       "         Actual_Total_Sales  Actual_Operating_Profit  \n",
       "2020:Q1           6927761.0               2559891.11  \n",
       "2020:Q2           6442039.0               2383123.95  \n",
       "2020:Q3           7191704.0               2700034.59  \n",
       "2020:Q4           3675821.0               1372455.43  \n",
       "2021:Q1          18770496.0               7113924.66  \n",
       "2021:Q2          23794248.0               9530544.61  \n",
       "2021:Q3          28057525.0              11395237.28  \n",
       "2021:Q4          25301709.0              10167871.38  \n",
       "2022:Q1                 NaN                      NaN  \n",
       "2022:Q2                 NaN                      NaN  \n",
       "2022:Q3                 NaN                      NaN  "
      ]
     },
     "execution_count": 200,
     "metadata": {},
     "output_type": "execute_result"
    }
   ],
   "source": [
    "#Create a dataframe of the predictions\n",
    "opt_rfr_df = pd.DataFrame(test2, columns=['Predicted_Total_Sales', 'Predicted_Operating_Profit'], index=test.index)\n",
    "\n",
    "#Add the actual values to the dataframe\n",
    "opt_rfr_df['Actual_Total_Sales'], opt_rfr_df['Actual_Operating_Profit'] = merged_df['Total_sales'], merged_df['Operating_profit']\n",
    "\n",
    "#Sort index in order to match the timeline\n",
    "opt_rfr_df.sort_index(inplace=True)\n",
    "\n",
    "opt_rfr_df"
   ]
  },
  {
   "cell_type": "code",
   "execution_count": 201,
   "metadata": {},
   "outputs": [
    {
     "data": {
      "application/vnd.plotly.v1+json": {
       "config": {
        "plotlyServerURL": "https://plot.ly"
       },
       "data": [
        {
         "hovertemplate": "variable=Predicted_Total_Sales<br>index=%{x}<br>value=%{y}<extra></extra>",
         "legendgroup": "Predicted_Total_Sales",
         "line": {
          "color": "#636efa",
          "dash": "solid"
         },
         "marker": {
          "symbol": "circle"
         },
         "mode": "lines",
         "name": "Predicted_Total_Sales",
         "orientation": "v",
         "showlegend": true,
         "type": "scatter",
         "x": [
          "2020:Q1",
          "2020:Q2",
          "2020:Q3",
          "2020:Q4",
          "2021:Q1",
          "2021:Q2",
          "2021:Q3",
          "2021:Q4",
          "2022:Q1",
          "2022:Q2",
          "2022:Q3"
         ],
         "xaxis": "x",
         "y": [
          6852050.02,
          13270180.32,
          7414362.38,
          6450600.24,
          19043236.04,
          21754829.74,
          26733789.82,
          25872657.18,
          25872657.18,
          25872657.18,
          25872657.18
         ],
         "yaxis": "y"
        },
        {
         "hovertemplate": "variable=Actual_Total_Sales<br>index=%{x}<br>value=%{y}<extra></extra>",
         "legendgroup": "Actual_Total_Sales",
         "line": {
          "color": "#EF553B",
          "dash": "solid"
         },
         "marker": {
          "symbol": "circle"
         },
         "mode": "lines",
         "name": "Actual_Total_Sales",
         "orientation": "v",
         "showlegend": true,
         "type": "scatter",
         "x": [
          "2020:Q1",
          "2020:Q2",
          "2020:Q3",
          "2020:Q4",
          "2021:Q1",
          "2021:Q2",
          "2021:Q3",
          "2021:Q4",
          "2022:Q1",
          "2022:Q2",
          "2022:Q3"
         ],
         "xaxis": "x",
         "y": [
          6927761,
          6442039,
          7191704,
          3675821,
          18770496,
          23794248,
          28057525,
          25301709,
          null,
          null,
          null
         ],
         "yaxis": "y"
        },
        {
         "hovertemplate": "variable=Predicted_Operating_Profit<br>index=%{x}<br>value=%{y}<extra></extra>",
         "legendgroup": "Predicted_Operating_Profit",
         "line": {
          "color": "#00cc96",
          "dash": "solid"
         },
         "marker": {
          "symbol": "circle"
         },
         "mode": "lines",
         "name": "Predicted_Operating_Profit",
         "orientation": "v",
         "showlegend": true,
         "type": "scatter",
         "x": [
          "2020:Q1",
          "2020:Q2",
          "2020:Q3",
          "2020:Q4",
          "2021:Q1",
          "2021:Q2",
          "2021:Q3",
          "2021:Q4",
          "2022:Q1",
          "2022:Q2",
          "2022:Q3"
         ],
         "xaxis": "x",
         "y": [
          2555486.1416000007,
          5219825.932400002,
          2817797.7760000015,
          2474726.024000002,
          7620859.0838,
          8710408.003600005,
          10813173.66659999,
          10424199.589799993,
          10424199.589799993,
          10424199.589799993,
          10424199.589799993
         ],
         "yaxis": "y"
        },
        {
         "hovertemplate": "variable=Actual_Operating_Profit<br>index=%{x}<br>value=%{y}<extra></extra>",
         "legendgroup": "Actual_Operating_Profit",
         "line": {
          "color": "#ab63fa",
          "dash": "solid"
         },
         "marker": {
          "symbol": "circle"
         },
         "mode": "lines",
         "name": "Actual_Operating_Profit",
         "orientation": "v",
         "showlegend": true,
         "type": "scatter",
         "x": [
          "2020:Q1",
          "2020:Q2",
          "2020:Q3",
          "2020:Q4",
          "2021:Q1",
          "2021:Q2",
          "2021:Q3",
          "2021:Q4",
          "2022:Q1",
          "2022:Q2",
          "2022:Q3"
         ],
         "xaxis": "x",
         "y": [
          2559891.11,
          2383123.95,
          2700034.59,
          1372455.4300000002,
          7113924.66,
          9530544.61,
          11395237.280000001,
          10167871.38,
          null,
          null,
          null
         ],
         "yaxis": "y"
        }
       ],
       "layout": {
        "legend": {
         "title": {
          "text": "variable"
         },
         "tracegroupgap": 0
        },
        "template": {
         "data": {
          "bar": [
           {
            "error_x": {
             "color": "#2a3f5f"
            },
            "error_y": {
             "color": "#2a3f5f"
            },
            "marker": {
             "line": {
              "color": "#E5ECF6",
              "width": 0.5
             },
             "pattern": {
              "fillmode": "overlay",
              "size": 10,
              "solidity": 0.2
             }
            },
            "type": "bar"
           }
          ],
          "barpolar": [
           {
            "marker": {
             "line": {
              "color": "#E5ECF6",
              "width": 0.5
             },
             "pattern": {
              "fillmode": "overlay",
              "size": 10,
              "solidity": 0.2
             }
            },
            "type": "barpolar"
           }
          ],
          "carpet": [
           {
            "aaxis": {
             "endlinecolor": "#2a3f5f",
             "gridcolor": "white",
             "linecolor": "white",
             "minorgridcolor": "white",
             "startlinecolor": "#2a3f5f"
            },
            "baxis": {
             "endlinecolor": "#2a3f5f",
             "gridcolor": "white",
             "linecolor": "white",
             "minorgridcolor": "white",
             "startlinecolor": "#2a3f5f"
            },
            "type": "carpet"
           }
          ],
          "choropleth": [
           {
            "colorbar": {
             "outlinewidth": 0,
             "ticks": ""
            },
            "type": "choropleth"
           }
          ],
          "contour": [
           {
            "colorbar": {
             "outlinewidth": 0,
             "ticks": ""
            },
            "colorscale": [
             [
              0,
              "#0d0887"
             ],
             [
              0.1111111111111111,
              "#46039f"
             ],
             [
              0.2222222222222222,
              "#7201a8"
             ],
             [
              0.3333333333333333,
              "#9c179e"
             ],
             [
              0.4444444444444444,
              "#bd3786"
             ],
             [
              0.5555555555555556,
              "#d8576b"
             ],
             [
              0.6666666666666666,
              "#ed7953"
             ],
             [
              0.7777777777777778,
              "#fb9f3a"
             ],
             [
              0.8888888888888888,
              "#fdca26"
             ],
             [
              1,
              "#f0f921"
             ]
            ],
            "type": "contour"
           }
          ],
          "contourcarpet": [
           {
            "colorbar": {
             "outlinewidth": 0,
             "ticks": ""
            },
            "type": "contourcarpet"
           }
          ],
          "heatmap": [
           {
            "colorbar": {
             "outlinewidth": 0,
             "ticks": ""
            },
            "colorscale": [
             [
              0,
              "#0d0887"
             ],
             [
              0.1111111111111111,
              "#46039f"
             ],
             [
              0.2222222222222222,
              "#7201a8"
             ],
             [
              0.3333333333333333,
              "#9c179e"
             ],
             [
              0.4444444444444444,
              "#bd3786"
             ],
             [
              0.5555555555555556,
              "#d8576b"
             ],
             [
              0.6666666666666666,
              "#ed7953"
             ],
             [
              0.7777777777777778,
              "#fb9f3a"
             ],
             [
              0.8888888888888888,
              "#fdca26"
             ],
             [
              1,
              "#f0f921"
             ]
            ],
            "type": "heatmap"
           }
          ],
          "heatmapgl": [
           {
            "colorbar": {
             "outlinewidth": 0,
             "ticks": ""
            },
            "colorscale": [
             [
              0,
              "#0d0887"
             ],
             [
              0.1111111111111111,
              "#46039f"
             ],
             [
              0.2222222222222222,
              "#7201a8"
             ],
             [
              0.3333333333333333,
              "#9c179e"
             ],
             [
              0.4444444444444444,
              "#bd3786"
             ],
             [
              0.5555555555555556,
              "#d8576b"
             ],
             [
              0.6666666666666666,
              "#ed7953"
             ],
             [
              0.7777777777777778,
              "#fb9f3a"
             ],
             [
              0.8888888888888888,
              "#fdca26"
             ],
             [
              1,
              "#f0f921"
             ]
            ],
            "type": "heatmapgl"
           }
          ],
          "histogram": [
           {
            "marker": {
             "pattern": {
              "fillmode": "overlay",
              "size": 10,
              "solidity": 0.2
             }
            },
            "type": "histogram"
           }
          ],
          "histogram2d": [
           {
            "colorbar": {
             "outlinewidth": 0,
             "ticks": ""
            },
            "colorscale": [
             [
              0,
              "#0d0887"
             ],
             [
              0.1111111111111111,
              "#46039f"
             ],
             [
              0.2222222222222222,
              "#7201a8"
             ],
             [
              0.3333333333333333,
              "#9c179e"
             ],
             [
              0.4444444444444444,
              "#bd3786"
             ],
             [
              0.5555555555555556,
              "#d8576b"
             ],
             [
              0.6666666666666666,
              "#ed7953"
             ],
             [
              0.7777777777777778,
              "#fb9f3a"
             ],
             [
              0.8888888888888888,
              "#fdca26"
             ],
             [
              1,
              "#f0f921"
             ]
            ],
            "type": "histogram2d"
           }
          ],
          "histogram2dcontour": [
           {
            "colorbar": {
             "outlinewidth": 0,
             "ticks": ""
            },
            "colorscale": [
             [
              0,
              "#0d0887"
             ],
             [
              0.1111111111111111,
              "#46039f"
             ],
             [
              0.2222222222222222,
              "#7201a8"
             ],
             [
              0.3333333333333333,
              "#9c179e"
             ],
             [
              0.4444444444444444,
              "#bd3786"
             ],
             [
              0.5555555555555556,
              "#d8576b"
             ],
             [
              0.6666666666666666,
              "#ed7953"
             ],
             [
              0.7777777777777778,
              "#fb9f3a"
             ],
             [
              0.8888888888888888,
              "#fdca26"
             ],
             [
              1,
              "#f0f921"
             ]
            ],
            "type": "histogram2dcontour"
           }
          ],
          "mesh3d": [
           {
            "colorbar": {
             "outlinewidth": 0,
             "ticks": ""
            },
            "type": "mesh3d"
           }
          ],
          "parcoords": [
           {
            "line": {
             "colorbar": {
              "outlinewidth": 0,
              "ticks": ""
             }
            },
            "type": "parcoords"
           }
          ],
          "pie": [
           {
            "automargin": true,
            "type": "pie"
           }
          ],
          "scatter": [
           {
            "fillpattern": {
             "fillmode": "overlay",
             "size": 10,
             "solidity": 0.2
            },
            "type": "scatter"
           }
          ],
          "scatter3d": [
           {
            "line": {
             "colorbar": {
              "outlinewidth": 0,
              "ticks": ""
             }
            },
            "marker": {
             "colorbar": {
              "outlinewidth": 0,
              "ticks": ""
             }
            },
            "type": "scatter3d"
           }
          ],
          "scattercarpet": [
           {
            "marker": {
             "colorbar": {
              "outlinewidth": 0,
              "ticks": ""
             }
            },
            "type": "scattercarpet"
           }
          ],
          "scattergeo": [
           {
            "marker": {
             "colorbar": {
              "outlinewidth": 0,
              "ticks": ""
             }
            },
            "type": "scattergeo"
           }
          ],
          "scattergl": [
           {
            "marker": {
             "colorbar": {
              "outlinewidth": 0,
              "ticks": ""
             }
            },
            "type": "scattergl"
           }
          ],
          "scattermapbox": [
           {
            "marker": {
             "colorbar": {
              "outlinewidth": 0,
              "ticks": ""
             }
            },
            "type": "scattermapbox"
           }
          ],
          "scatterpolar": [
           {
            "marker": {
             "colorbar": {
              "outlinewidth": 0,
              "ticks": ""
             }
            },
            "type": "scatterpolar"
           }
          ],
          "scatterpolargl": [
           {
            "marker": {
             "colorbar": {
              "outlinewidth": 0,
              "ticks": ""
             }
            },
            "type": "scatterpolargl"
           }
          ],
          "scatterternary": [
           {
            "marker": {
             "colorbar": {
              "outlinewidth": 0,
              "ticks": ""
             }
            },
            "type": "scatterternary"
           }
          ],
          "surface": [
           {
            "colorbar": {
             "outlinewidth": 0,
             "ticks": ""
            },
            "colorscale": [
             [
              0,
              "#0d0887"
             ],
             [
              0.1111111111111111,
              "#46039f"
             ],
             [
              0.2222222222222222,
              "#7201a8"
             ],
             [
              0.3333333333333333,
              "#9c179e"
             ],
             [
              0.4444444444444444,
              "#bd3786"
             ],
             [
              0.5555555555555556,
              "#d8576b"
             ],
             [
              0.6666666666666666,
              "#ed7953"
             ],
             [
              0.7777777777777778,
              "#fb9f3a"
             ],
             [
              0.8888888888888888,
              "#fdca26"
             ],
             [
              1,
              "#f0f921"
             ]
            ],
            "type": "surface"
           }
          ],
          "table": [
           {
            "cells": {
             "fill": {
              "color": "#EBF0F8"
             },
             "line": {
              "color": "white"
             }
            },
            "header": {
             "fill": {
              "color": "#C8D4E3"
             },
             "line": {
              "color": "white"
             }
            },
            "type": "table"
           }
          ]
         },
         "layout": {
          "annotationdefaults": {
           "arrowcolor": "#2a3f5f",
           "arrowhead": 0,
           "arrowwidth": 1
          },
          "autotypenumbers": "strict",
          "coloraxis": {
           "colorbar": {
            "outlinewidth": 0,
            "ticks": ""
           }
          },
          "colorscale": {
           "diverging": [
            [
             0,
             "#8e0152"
            ],
            [
             0.1,
             "#c51b7d"
            ],
            [
             0.2,
             "#de77ae"
            ],
            [
             0.3,
             "#f1b6da"
            ],
            [
             0.4,
             "#fde0ef"
            ],
            [
             0.5,
             "#f7f7f7"
            ],
            [
             0.6,
             "#e6f5d0"
            ],
            [
             0.7,
             "#b8e186"
            ],
            [
             0.8,
             "#7fbc41"
            ],
            [
             0.9,
             "#4d9221"
            ],
            [
             1,
             "#276419"
            ]
           ],
           "sequential": [
            [
             0,
             "#0d0887"
            ],
            [
             0.1111111111111111,
             "#46039f"
            ],
            [
             0.2222222222222222,
             "#7201a8"
            ],
            [
             0.3333333333333333,
             "#9c179e"
            ],
            [
             0.4444444444444444,
             "#bd3786"
            ],
            [
             0.5555555555555556,
             "#d8576b"
            ],
            [
             0.6666666666666666,
             "#ed7953"
            ],
            [
             0.7777777777777778,
             "#fb9f3a"
            ],
            [
             0.8888888888888888,
             "#fdca26"
            ],
            [
             1,
             "#f0f921"
            ]
           ],
           "sequentialminus": [
            [
             0,
             "#0d0887"
            ],
            [
             0.1111111111111111,
             "#46039f"
            ],
            [
             0.2222222222222222,
             "#7201a8"
            ],
            [
             0.3333333333333333,
             "#9c179e"
            ],
            [
             0.4444444444444444,
             "#bd3786"
            ],
            [
             0.5555555555555556,
             "#d8576b"
            ],
            [
             0.6666666666666666,
             "#ed7953"
            ],
            [
             0.7777777777777778,
             "#fb9f3a"
            ],
            [
             0.8888888888888888,
             "#fdca26"
            ],
            [
             1,
             "#f0f921"
            ]
           ]
          },
          "colorway": [
           "#636efa",
           "#EF553B",
           "#00cc96",
           "#ab63fa",
           "#FFA15A",
           "#19d3f3",
           "#FF6692",
           "#B6E880",
           "#FF97FF",
           "#FECB52"
          ],
          "font": {
           "color": "#2a3f5f"
          },
          "geo": {
           "bgcolor": "white",
           "lakecolor": "white",
           "landcolor": "#E5ECF6",
           "showlakes": true,
           "showland": true,
           "subunitcolor": "white"
          },
          "hoverlabel": {
           "align": "left"
          },
          "hovermode": "closest",
          "mapbox": {
           "style": "light"
          },
          "paper_bgcolor": "white",
          "plot_bgcolor": "#E5ECF6",
          "polar": {
           "angularaxis": {
            "gridcolor": "white",
            "linecolor": "white",
            "ticks": ""
           },
           "bgcolor": "#E5ECF6",
           "radialaxis": {
            "gridcolor": "white",
            "linecolor": "white",
            "ticks": ""
           }
          },
          "scene": {
           "xaxis": {
            "backgroundcolor": "#E5ECF6",
            "gridcolor": "white",
            "gridwidth": 2,
            "linecolor": "white",
            "showbackground": true,
            "ticks": "",
            "zerolinecolor": "white"
           },
           "yaxis": {
            "backgroundcolor": "#E5ECF6",
            "gridcolor": "white",
            "gridwidth": 2,
            "linecolor": "white",
            "showbackground": true,
            "ticks": "",
            "zerolinecolor": "white"
           },
           "zaxis": {
            "backgroundcolor": "#E5ECF6",
            "gridcolor": "white",
            "gridwidth": 2,
            "linecolor": "white",
            "showbackground": true,
            "ticks": "",
            "zerolinecolor": "white"
           }
          },
          "shapedefaults": {
           "line": {
            "color": "#2a3f5f"
           }
          },
          "ternary": {
           "aaxis": {
            "gridcolor": "white",
            "linecolor": "white",
            "ticks": ""
           },
           "baxis": {
            "gridcolor": "white",
            "linecolor": "white",
            "ticks": ""
           },
           "bgcolor": "#E5ECF6",
           "caxis": {
            "gridcolor": "white",
            "linecolor": "white",
            "ticks": ""
           }
          },
          "title": {
           "x": 0.05
          },
          "xaxis": {
           "automargin": true,
           "gridcolor": "white",
           "linecolor": "white",
           "ticks": "",
           "title": {
            "standoff": 15
           },
           "zerolinecolor": "white",
           "zerolinewidth": 2
          },
          "yaxis": {
           "automargin": true,
           "gridcolor": "white",
           "linecolor": "white",
           "ticks": "",
           "title": {
            "standoff": 15
           },
           "zerolinecolor": "white",
           "zerolinewidth": 2
          }
         }
        },
        "title": {
         "text": "Optimized Random Forest Regressor: Total Sales & Operating Profit Predictions vs. Actual Values (Quarterly Data)"
        },
        "xaxis": {
         "anchor": "y",
         "domain": [
          0,
          1
         ],
         "title": {
          "text": "index"
         }
        },
        "yaxis": {
         "anchor": "x",
         "domain": [
          0,
          1
         ],
         "title": {
          "text": "value"
         }
        }
       }
      }
     },
     "metadata": {},
     "output_type": "display_data"
    }
   ],
   "source": [
    "#Plot the predictions vs. the actual values\n",
    "px.line(opt_rfr_df, x=opt_rfr_df.index, y=['Predicted_Total_Sales', 'Actual_Total_Sales', 'Predicted_Operating_Profit', 'Actual_Operating_Profit'], \n",
    "        title='Optimized Random Forest Regressor: Total Sales & Operating Profit Predictions vs. Actual Values (Quarterly Data)')"
   ]
  },
  {
   "attachments": {},
   "cell_type": "markdown",
   "metadata": {},
   "source": [
    "## Split data by month rather than quarter"
   ]
  },
  {
   "cell_type": "code",
   "execution_count": 202,
   "metadata": {},
   "outputs": [],
   "source": [
    "monthly_merged_df = demo_df.set_index('Description')"
   ]
  },
  {
   "cell_type": "code",
   "execution_count": 203,
   "metadata": {},
   "outputs": [
    {
     "data": {
      "text/html": [
       "<div>\n",
       "<style scoped>\n",
       "    .dataframe tbody tr th:only-of-type {\n",
       "        vertical-align: middle;\n",
       "    }\n",
       "\n",
       "    .dataframe tbody tr th {\n",
       "        vertical-align: top;\n",
       "    }\n",
       "\n",
       "    .dataframe thead th {\n",
       "        text-align: right;\n",
       "    }\n",
       "</style>\n",
       "<table border=\"1\" class=\"dataframe\">\n",
       "  <thead>\n",
       "    <tr style=\"text-align: right;\">\n",
       "      <th>Invoice_Date</th>\n",
       "      <th>2020-01-31</th>\n",
       "      <th>2020-02-29</th>\n",
       "      <th>2020-03-31</th>\n",
       "      <th>2020-04-30</th>\n",
       "      <th>2020-05-31</th>\n",
       "      <th>2020-06-30</th>\n",
       "      <th>2020-07-31</th>\n",
       "      <th>2020-08-31</th>\n",
       "      <th>2020-09-30</th>\n",
       "      <th>2020-10-31</th>\n",
       "      <th>...</th>\n",
       "      <th>2021-03-31</th>\n",
       "      <th>2021-04-30</th>\n",
       "      <th>2021-05-31</th>\n",
       "      <th>2021-06-30</th>\n",
       "      <th>2021-07-31</th>\n",
       "      <th>2021-08-31</th>\n",
       "      <th>2021-09-30</th>\n",
       "      <th>2021-10-31</th>\n",
       "      <th>2021-11-30</th>\n",
       "      <th>2021-12-31</th>\n",
       "    </tr>\n",
       "  </thead>\n",
       "  <tbody>\n",
       "    <tr>\n",
       "      <th>Total_sales</th>\n",
       "      <td>2312746.00</td>\n",
       "      <td>2140813.00</td>\n",
       "      <td>2474202.00</td>\n",
       "      <td>3193081.00</td>\n",
       "      <td>2164764.0</td>\n",
       "      <td>1084194.00</td>\n",
       "      <td>2182388.00</td>\n",
       "      <td>2641630.00</td>\n",
       "      <td>2367686.00</td>\n",
       "      <td>1428569.00</td>\n",
       "      <td>...</td>\n",
       "      <td>5220782.00</td>\n",
       "      <td>6498339.00</td>\n",
       "      <td>8576956.00</td>\n",
       "      <td>8718953.00</td>\n",
       "      <td>10368031.00</td>\n",
       "      <td>9651596.00</td>\n",
       "      <td>8037898.00</td>\n",
       "      <td>7110189.00</td>\n",
       "      <td>7855390.00</td>\n",
       "      <td>10336130.0</td>\n",
       "    </tr>\n",
       "    <tr>\n",
       "      <th>Operating_profit</th>\n",
       "      <td>883774.16</td>\n",
       "      <td>796848.19</td>\n",
       "      <td>879268.76</td>\n",
       "      <td>1275442.09</td>\n",
       "      <td>800635.7</td>\n",
       "      <td>307046.16</td>\n",
       "      <td>681477.61</td>\n",
       "      <td>1042648.29</td>\n",
       "      <td>975908.69</td>\n",
       "      <td>582342.96</td>\n",
       "      <td>...</td>\n",
       "      <td>2067129.24</td>\n",
       "      <td>2644237.72</td>\n",
       "      <td>3456570.88</td>\n",
       "      <td>3429736.01</td>\n",
       "      <td>4098805.98</td>\n",
       "      <td>3852859.51</td>\n",
       "      <td>3443571.79</td>\n",
       "      <td>2987755.39</td>\n",
       "      <td>3101992.69</td>\n",
       "      <td>4078123.3</td>\n",
       "    </tr>\n",
       "  </tbody>\n",
       "</table>\n",
       "<p>2 rows × 24 columns</p>\n",
       "</div>"
      ],
      "text/plain": [
       "Invoice_Date      2020-01-31  2020-02-29  2020-03-31  2020-04-30  2020-05-31  \\\n",
       "Total_sales       2312746.00  2140813.00  2474202.00  3193081.00   2164764.0   \n",
       "Operating_profit   883774.16   796848.19   879268.76  1275442.09    800635.7   \n",
       "\n",
       "Invoice_Date      2020-06-30  2020-07-31  2020-08-31  2020-09-30  2020-10-31  \\\n",
       "Total_sales       1084194.00  2182388.00  2641630.00  2367686.00  1428569.00   \n",
       "Operating_profit   307046.16   681477.61  1042648.29   975908.69   582342.96   \n",
       "\n",
       "Invoice_Date      ...  2021-03-31  2021-04-30  2021-05-31  2021-06-30  \\\n",
       "Total_sales       ...  5220782.00  6498339.00  8576956.00  8718953.00   \n",
       "Operating_profit  ...  2067129.24  2644237.72  3456570.88  3429736.01   \n",
       "\n",
       "Invoice_Date       2021-07-31  2021-08-31  2021-09-30  2021-10-31  2021-11-30  \\\n",
       "Total_sales       10368031.00  9651596.00  8037898.00  7110189.00  7855390.00   \n",
       "Operating_profit   4098805.98  3852859.51  3443571.79  2987755.39  3101992.69   \n",
       "\n",
       "Invoice_Date      2021-12-31  \n",
       "Total_sales       10336130.0  \n",
       "Operating_profit   4078123.3  \n",
       "\n",
       "[2 rows x 24 columns]"
      ]
     },
     "execution_count": 203,
     "metadata": {},
     "output_type": "execute_result"
    }
   ],
   "source": [
    "total_sales_monthly = total_sales_monthly.transpose()\n",
    "total_sales_monthly"
   ]
  },
  {
   "cell_type": "code",
   "execution_count": 204,
   "metadata": {},
   "outputs": [],
   "source": [
    "#Add empty columns to match the shape of demo_df\n",
    "total_sales_monthly['2022-01-31'] = np.nan\n",
    "total_sales_monthly['2022-02-29'] = np.nan\n",
    "total_sales_monthly['2022-03-31'] = np.nan\n",
    "\n",
    "total_sales_monthly['2022-04-30'] = np.nan\n",
    "total_sales_monthly['2022-05-31'] = np.nan\n",
    "total_sales_monthly['2022-06-30'] = np.nan\n",
    "\n",
    "total_sales_monthly['2022-07-31'] = np.nan\n",
    "total_sales_monthly['2022-08-31'] = np.nan\n",
    "total_sales_monthly['2022-09-30'] = np.nan"
   ]
  },
  {
   "cell_type": "code",
   "execution_count": 205,
   "metadata": {},
   "outputs": [],
   "source": [
    "#Set the Description column as the index to avoid using it as a column\n",
    "demo_df_elongated = demo_df.set_index('Description')"
   ]
  },
  {
   "cell_type": "code",
   "execution_count": 206,
   "metadata": {},
   "outputs": [],
   "source": [
    "#Rename each column to three months per quarter, ie. 2020:Q1, 2020:Q1_2, 2020:Q1_3\n",
    "quarter_x3 = [2, 3]\n",
    "\n",
    "for column in demo_df_elongated.columns:\n",
    "    for quarter in quarter_x3:\n",
    "            demo_df_elongated[f'{column}_{quarter}'] = demo_df_elongated[column]"
   ]
  },
  {
   "cell_type": "code",
   "execution_count": 207,
   "metadata": {},
   "outputs": [],
   "source": [
    "#Sort columns\n",
    "demo_df_elongated = demo_df_elongated.reindex(sorted(demo_df_elongated.columns), axis=1)"
   ]
  },
  {
   "cell_type": "code",
   "execution_count": 208,
   "metadata": {},
   "outputs": [
    {
     "data": {
      "text/html": [
       "<div>\n",
       "<style scoped>\n",
       "    .dataframe tbody tr th:only-of-type {\n",
       "        vertical-align: middle;\n",
       "    }\n",
       "\n",
       "    .dataframe tbody tr th {\n",
       "        vertical-align: top;\n",
       "    }\n",
       "\n",
       "    .dataframe thead th {\n",
       "        text-align: right;\n",
       "    }\n",
       "</style>\n",
       "<table border=\"1\" class=\"dataframe\">\n",
       "  <thead>\n",
       "    <tr style=\"text-align: right;\">\n",
       "      <th></th>\n",
       "      <th>2020:Q1</th>\n",
       "      <th>2020:Q1_2</th>\n",
       "      <th>2020:Q1_3</th>\n",
       "      <th>2020:Q2</th>\n",
       "      <th>2020:Q2_2</th>\n",
       "      <th>2020:Q2_3</th>\n",
       "      <th>2020:Q3</th>\n",
       "      <th>2020:Q3_2</th>\n",
       "      <th>2020:Q3_3</th>\n",
       "      <th>2020:Q4</th>\n",
       "      <th>...</th>\n",
       "      <th>2021:Q4_3</th>\n",
       "      <th>2022:Q1</th>\n",
       "      <th>2022:Q1_2</th>\n",
       "      <th>2022:Q1_3</th>\n",
       "      <th>2022:Q2</th>\n",
       "      <th>2022:Q2_2</th>\n",
       "      <th>2022:Q2_3</th>\n",
       "      <th>2022:Q3</th>\n",
       "      <th>2022:Q3_2</th>\n",
       "      <th>2022:Q3_3</th>\n",
       "    </tr>\n",
       "    <tr>\n",
       "      <th>Description</th>\n",
       "      <th></th>\n",
       "      <th></th>\n",
       "      <th></th>\n",
       "      <th></th>\n",
       "      <th></th>\n",
       "      <th></th>\n",
       "      <th></th>\n",
       "      <th></th>\n",
       "      <th></th>\n",
       "      <th></th>\n",
       "      <th></th>\n",
       "      <th></th>\n",
       "      <th></th>\n",
       "      <th></th>\n",
       "      <th></th>\n",
       "      <th></th>\n",
       "      <th></th>\n",
       "      <th></th>\n",
       "      <th></th>\n",
       "      <th></th>\n",
       "      <th></th>\n",
       "    </tr>\n",
       "  </thead>\n",
       "  <tbody>\n",
       "    <tr>\n",
       "      <th>Personal income (millions of dollars, seasonally adjusted)</th>\n",
       "      <td>19013184.9</td>\n",
       "      <td>19013184.9</td>\n",
       "      <td>19013184.9</td>\n",
       "      <td>20459375.8</td>\n",
       "      <td>20459375.8</td>\n",
       "      <td>20459375.8</td>\n",
       "      <td>19997807.5</td>\n",
       "      <td>19997807.5</td>\n",
       "      <td>19997807.5</td>\n",
       "      <td>19778315.9</td>\n",
       "      <td>...</td>\n",
       "      <td>21158043.8</td>\n",
       "      <td>21317801.6</td>\n",
       "      <td>21317801.6</td>\n",
       "      <td>21317801.6</td>\n",
       "      <td>21575362.1</td>\n",
       "      <td>21575362.1</td>\n",
       "      <td>21575362.1</td>\n",
       "      <td>21856480.2</td>\n",
       "      <td>21856480.2</td>\n",
       "      <td>21856480.2</td>\n",
       "    </tr>\n",
       "    <tr>\n",
       "      <th>Population (midperiod, persons)</th>\n",
       "      <td>331295939.0</td>\n",
       "      <td>331295939.0</td>\n",
       "      <td>331295939.0</td>\n",
       "      <td>331448217.0</td>\n",
       "      <td>331448217.0</td>\n",
       "      <td>331448217.0</td>\n",
       "      <td>331596557.0</td>\n",
       "      <td>331596557.0</td>\n",
       "      <td>331596557.0</td>\n",
       "      <td>331734262.0</td>\n",
       "      <td>...</td>\n",
       "      <td>332336782.0</td>\n",
       "      <td>332502197.0</td>\n",
       "      <td>332502197.0</td>\n",
       "      <td>332502197.0</td>\n",
       "      <td>332693300.0</td>\n",
       "      <td>332693300.0</td>\n",
       "      <td>332693300.0</td>\n",
       "      <td>332994420.0</td>\n",
       "      <td>332994420.0</td>\n",
       "      <td>332994420.0</td>\n",
       "    </tr>\n",
       "    <tr>\n",
       "      <th>Per capita personal income (dollars)</th>\n",
       "      <td>57390.0</td>\n",
       "      <td>57390.0</td>\n",
       "      <td>57390.0</td>\n",
       "      <td>61727.0</td>\n",
       "      <td>61727.0</td>\n",
       "      <td>61727.0</td>\n",
       "      <td>60308.0</td>\n",
       "      <td>60308.0</td>\n",
       "      <td>60308.0</td>\n",
       "      <td>59621.0</td>\n",
       "      <td>...</td>\n",
       "      <td>63664.0</td>\n",
       "      <td>64113.0</td>\n",
       "      <td>64113.0</td>\n",
       "      <td>64113.0</td>\n",
       "      <td>64851.0</td>\n",
       "      <td>64851.0</td>\n",
       "      <td>64851.0</td>\n",
       "      <td>65636.0</td>\n",
       "      <td>65636.0</td>\n",
       "      <td>65636.0</td>\n",
       "    </tr>\n",
       "  </tbody>\n",
       "</table>\n",
       "<p>3 rows × 33 columns</p>\n",
       "</div>"
      ],
      "text/plain": [
       "                                                        2020:Q1    2020:Q1_2  \\\n",
       "Description                                                                    \n",
       "Personal income (millions of dollars, seasonall...   19013184.9   19013184.9   \n",
       "Population (midperiod, persons)                     331295939.0  331295939.0   \n",
       "Per capita personal income (dollars)                    57390.0      57390.0   \n",
       "\n",
       "                                                      2020:Q1_3      2020:Q2  \\\n",
       "Description                                                                    \n",
       "Personal income (millions of dollars, seasonall...   19013184.9   20459375.8   \n",
       "Population (midperiod, persons)                     331295939.0  331448217.0   \n",
       "Per capita personal income (dollars)                    57390.0      61727.0   \n",
       "\n",
       "                                                      2020:Q2_2    2020:Q2_3  \\\n",
       "Description                                                                    \n",
       "Personal income (millions of dollars, seasonall...   20459375.8   20459375.8   \n",
       "Population (midperiod, persons)                     331448217.0  331448217.0   \n",
       "Per capita personal income (dollars)                    61727.0      61727.0   \n",
       "\n",
       "                                                        2020:Q3    2020:Q3_2  \\\n",
       "Description                                                                    \n",
       "Personal income (millions of dollars, seasonall...   19997807.5   19997807.5   \n",
       "Population (midperiod, persons)                     331596557.0  331596557.0   \n",
       "Per capita personal income (dollars)                    60308.0      60308.0   \n",
       "\n",
       "                                                      2020:Q3_3      2020:Q4  \\\n",
       "Description                                                                    \n",
       "Personal income (millions of dollars, seasonall...   19997807.5   19778315.9   \n",
       "Population (midperiod, persons)                     331596557.0  331734262.0   \n",
       "Per capita personal income (dollars)                    60308.0      59621.0   \n",
       "\n",
       "                                                    ...    2021:Q4_3  \\\n",
       "Description                                         ...                \n",
       "Personal income (millions of dollars, seasonall...  ...   21158043.8   \n",
       "Population (midperiod, persons)                     ...  332336782.0   \n",
       "Per capita personal income (dollars)                ...      63664.0   \n",
       "\n",
       "                                                        2022:Q1    2022:Q1_2  \\\n",
       "Description                                                                    \n",
       "Personal income (millions of dollars, seasonall...   21317801.6   21317801.6   \n",
       "Population (midperiod, persons)                     332502197.0  332502197.0   \n",
       "Per capita personal income (dollars)                    64113.0      64113.0   \n",
       "\n",
       "                                                      2022:Q1_3      2022:Q2  \\\n",
       "Description                                                                    \n",
       "Personal income (millions of dollars, seasonall...   21317801.6   21575362.1   \n",
       "Population (midperiod, persons)                     332502197.0  332693300.0   \n",
       "Per capita personal income (dollars)                    64113.0      64851.0   \n",
       "\n",
       "                                                      2022:Q2_2    2022:Q2_3  \\\n",
       "Description                                                                    \n",
       "Personal income (millions of dollars, seasonall...   21575362.1   21575362.1   \n",
       "Population (midperiod, persons)                     332693300.0  332693300.0   \n",
       "Per capita personal income (dollars)                    64851.0      64851.0   \n",
       "\n",
       "                                                        2022:Q3    2022:Q3_2  \\\n",
       "Description                                                                    \n",
       "Personal income (millions of dollars, seasonall...   21856480.2   21856480.2   \n",
       "Population (midperiod, persons)                     332994420.0  332994420.0   \n",
       "Per capita personal income (dollars)                    65636.0      65636.0   \n",
       "\n",
       "                                                      2022:Q3_3  \n",
       "Description                                                      \n",
       "Personal income (millions of dollars, seasonall...   21856480.2  \n",
       "Population (midperiod, persons)                     332994420.0  \n",
       "Per capita personal income (dollars)                    65636.0  \n",
       "\n",
       "[3 rows x 33 columns]"
      ]
     },
     "execution_count": 208,
     "metadata": {},
     "output_type": "execute_result"
    }
   ],
   "source": [
    "demo_df_elongated"
   ]
  },
  {
   "cell_type": "code",
   "execution_count": 209,
   "metadata": {},
   "outputs": [
    {
     "data": {
      "text/html": [
       "<div>\n",
       "<style scoped>\n",
       "    .dataframe tbody tr th:only-of-type {\n",
       "        vertical-align: middle;\n",
       "    }\n",
       "\n",
       "    .dataframe tbody tr th {\n",
       "        vertical-align: top;\n",
       "    }\n",
       "\n",
       "    .dataframe thead th {\n",
       "        text-align: right;\n",
       "    }\n",
       "</style>\n",
       "<table border=\"1\" class=\"dataframe\">\n",
       "  <thead>\n",
       "    <tr style=\"text-align: right;\">\n",
       "      <th></th>\n",
       "      <th>2020:Q1</th>\n",
       "      <th>2020:Q1_2</th>\n",
       "      <th>2020:Q1_3</th>\n",
       "      <th>2020:Q2</th>\n",
       "      <th>2020:Q2_2</th>\n",
       "      <th>2020:Q2_3</th>\n",
       "      <th>2020:Q3</th>\n",
       "      <th>2020:Q3_2</th>\n",
       "      <th>2020:Q3_3</th>\n",
       "      <th>2020:Q4</th>\n",
       "      <th>...</th>\n",
       "      <th>2021:Q4_3</th>\n",
       "      <th>2022:Q1</th>\n",
       "      <th>2022:Q1_2</th>\n",
       "      <th>2022:Q1_3</th>\n",
       "      <th>2022:Q2</th>\n",
       "      <th>2022:Q2_2</th>\n",
       "      <th>2022:Q2_3</th>\n",
       "      <th>2022:Q3</th>\n",
       "      <th>2022:Q3_2</th>\n",
       "      <th>2022:Q3_3</th>\n",
       "    </tr>\n",
       "  </thead>\n",
       "  <tbody>\n",
       "    <tr>\n",
       "      <th>Total_sales</th>\n",
       "      <td>2312746.00</td>\n",
       "      <td>2140813.00</td>\n",
       "      <td>2474202.00</td>\n",
       "      <td>3193081.00</td>\n",
       "      <td>2164764.0</td>\n",
       "      <td>1084194.00</td>\n",
       "      <td>2182388.00</td>\n",
       "      <td>2641630.00</td>\n",
       "      <td>2367686.00</td>\n",
       "      <td>1428569.00</td>\n",
       "      <td>...</td>\n",
       "      <td>10336130.0</td>\n",
       "      <td>NaN</td>\n",
       "      <td>NaN</td>\n",
       "      <td>NaN</td>\n",
       "      <td>NaN</td>\n",
       "      <td>NaN</td>\n",
       "      <td>NaN</td>\n",
       "      <td>NaN</td>\n",
       "      <td>NaN</td>\n",
       "      <td>NaN</td>\n",
       "    </tr>\n",
       "    <tr>\n",
       "      <th>Operating_profit</th>\n",
       "      <td>883774.16</td>\n",
       "      <td>796848.19</td>\n",
       "      <td>879268.76</td>\n",
       "      <td>1275442.09</td>\n",
       "      <td>800635.7</td>\n",
       "      <td>307046.16</td>\n",
       "      <td>681477.61</td>\n",
       "      <td>1042648.29</td>\n",
       "      <td>975908.69</td>\n",
       "      <td>582342.96</td>\n",
       "      <td>...</td>\n",
       "      <td>4078123.3</td>\n",
       "      <td>NaN</td>\n",
       "      <td>NaN</td>\n",
       "      <td>NaN</td>\n",
       "      <td>NaN</td>\n",
       "      <td>NaN</td>\n",
       "      <td>NaN</td>\n",
       "      <td>NaN</td>\n",
       "      <td>NaN</td>\n",
       "      <td>NaN</td>\n",
       "    </tr>\n",
       "  </tbody>\n",
       "</table>\n",
       "<p>2 rows × 33 columns</p>\n",
       "</div>"
      ],
      "text/plain": [
       "                     2020:Q1   2020:Q1_2   2020:Q1_3     2020:Q2  2020:Q2_2  \\\n",
       "Total_sales       2312746.00  2140813.00  2474202.00  3193081.00  2164764.0   \n",
       "Operating_profit   883774.16   796848.19   879268.76  1275442.09   800635.7   \n",
       "\n",
       "                   2020:Q2_3     2020:Q3   2020:Q3_2   2020:Q3_3     2020:Q4  \\\n",
       "Total_sales       1084194.00  2182388.00  2641630.00  2367686.00  1428569.00   \n",
       "Operating_profit   307046.16   681477.61  1042648.29   975908.69   582342.96   \n",
       "\n",
       "                  ...   2021:Q4_3  2022:Q1  2022:Q1_2  2022:Q1_3  2022:Q2  \\\n",
       "Total_sales       ...  10336130.0      NaN        NaN        NaN      NaN   \n",
       "Operating_profit  ...   4078123.3      NaN        NaN        NaN      NaN   \n",
       "\n",
       "                  2022:Q2_2  2022:Q2_3  2022:Q3  2022:Q3_2  2022:Q3_3  \n",
       "Total_sales             NaN        NaN      NaN        NaN        NaN  \n",
       "Operating_profit        NaN        NaN      NaN        NaN        NaN  \n",
       "\n",
       "[2 rows x 33 columns]"
      ]
     },
     "execution_count": 209,
     "metadata": {},
     "output_type": "execute_result"
    }
   ],
   "source": [
    "#Match column names\n",
    "total_sales_monthly.columns = demo_df_elongated.columns\n",
    "\n",
    "total_sales_monthly"
   ]
  },
  {
   "cell_type": "code",
   "execution_count": 210,
   "metadata": {},
   "outputs": [
    {
     "data": {
      "text/html": [
       "<div>\n",
       "<style scoped>\n",
       "    .dataframe tbody tr th:only-of-type {\n",
       "        vertical-align: middle;\n",
       "    }\n",
       "\n",
       "    .dataframe tbody tr th {\n",
       "        vertical-align: top;\n",
       "    }\n",
       "\n",
       "    .dataframe thead th {\n",
       "        text-align: right;\n",
       "    }\n",
       "</style>\n",
       "<table border=\"1\" class=\"dataframe\">\n",
       "  <thead>\n",
       "    <tr style=\"text-align: right;\">\n",
       "      <th></th>\n",
       "      <th>2020:Q1</th>\n",
       "      <th>2020:Q1_2</th>\n",
       "      <th>2020:Q1_3</th>\n",
       "      <th>2020:Q2</th>\n",
       "      <th>2020:Q2_2</th>\n",
       "      <th>2020:Q2_3</th>\n",
       "      <th>2020:Q3</th>\n",
       "      <th>2020:Q3_2</th>\n",
       "      <th>2020:Q3_3</th>\n",
       "      <th>2020:Q4</th>\n",
       "      <th>...</th>\n",
       "      <th>2021:Q4_3</th>\n",
       "      <th>2022:Q1</th>\n",
       "      <th>2022:Q1_2</th>\n",
       "      <th>2022:Q1_3</th>\n",
       "      <th>2022:Q2</th>\n",
       "      <th>2022:Q2_2</th>\n",
       "      <th>2022:Q2_3</th>\n",
       "      <th>2022:Q3</th>\n",
       "      <th>2022:Q3_2</th>\n",
       "      <th>2022:Q3_3</th>\n",
       "    </tr>\n",
       "  </thead>\n",
       "  <tbody>\n",
       "    <tr>\n",
       "      <th>Personal income (millions of dollars, seasonally adjusted)</th>\n",
       "      <td>1.901318e+07</td>\n",
       "      <td>1.901318e+07</td>\n",
       "      <td>1.901318e+07</td>\n",
       "      <td>2.045938e+07</td>\n",
       "      <td>20459375.8</td>\n",
       "      <td>2.045938e+07</td>\n",
       "      <td>1.999781e+07</td>\n",
       "      <td>1.999781e+07</td>\n",
       "      <td>1.999781e+07</td>\n",
       "      <td>1.977832e+07</td>\n",
       "      <td>...</td>\n",
       "      <td>21158043.8</td>\n",
       "      <td>21317801.6</td>\n",
       "      <td>21317801.6</td>\n",
       "      <td>21317801.6</td>\n",
       "      <td>21575362.1</td>\n",
       "      <td>21575362.1</td>\n",
       "      <td>21575362.1</td>\n",
       "      <td>21856480.2</td>\n",
       "      <td>21856480.2</td>\n",
       "      <td>21856480.2</td>\n",
       "    </tr>\n",
       "    <tr>\n",
       "      <th>Population (midperiod, persons)</th>\n",
       "      <td>3.312959e+08</td>\n",
       "      <td>3.312959e+08</td>\n",
       "      <td>3.312959e+08</td>\n",
       "      <td>3.314482e+08</td>\n",
       "      <td>331448217.0</td>\n",
       "      <td>3.314482e+08</td>\n",
       "      <td>3.315966e+08</td>\n",
       "      <td>3.315966e+08</td>\n",
       "      <td>3.315966e+08</td>\n",
       "      <td>3.317343e+08</td>\n",
       "      <td>...</td>\n",
       "      <td>332336782.0</td>\n",
       "      <td>332502197.0</td>\n",
       "      <td>332502197.0</td>\n",
       "      <td>332502197.0</td>\n",
       "      <td>332693300.0</td>\n",
       "      <td>332693300.0</td>\n",
       "      <td>332693300.0</td>\n",
       "      <td>332994420.0</td>\n",
       "      <td>332994420.0</td>\n",
       "      <td>332994420.0</td>\n",
       "    </tr>\n",
       "    <tr>\n",
       "      <th>Per capita personal income (dollars)</th>\n",
       "      <td>5.739000e+04</td>\n",
       "      <td>5.739000e+04</td>\n",
       "      <td>5.739000e+04</td>\n",
       "      <td>6.172700e+04</td>\n",
       "      <td>61727.0</td>\n",
       "      <td>6.172700e+04</td>\n",
       "      <td>6.030800e+04</td>\n",
       "      <td>6.030800e+04</td>\n",
       "      <td>6.030800e+04</td>\n",
       "      <td>5.962100e+04</td>\n",
       "      <td>...</td>\n",
       "      <td>63664.0</td>\n",
       "      <td>64113.0</td>\n",
       "      <td>64113.0</td>\n",
       "      <td>64113.0</td>\n",
       "      <td>64851.0</td>\n",
       "      <td>64851.0</td>\n",
       "      <td>64851.0</td>\n",
       "      <td>65636.0</td>\n",
       "      <td>65636.0</td>\n",
       "      <td>65636.0</td>\n",
       "    </tr>\n",
       "    <tr>\n",
       "      <th>Total_sales</th>\n",
       "      <td>2.312746e+06</td>\n",
       "      <td>2.140813e+06</td>\n",
       "      <td>2.474202e+06</td>\n",
       "      <td>3.193081e+06</td>\n",
       "      <td>2164764.0</td>\n",
       "      <td>1.084194e+06</td>\n",
       "      <td>2.182388e+06</td>\n",
       "      <td>2.641630e+06</td>\n",
       "      <td>2.367686e+06</td>\n",
       "      <td>1.428569e+06</td>\n",
       "      <td>...</td>\n",
       "      <td>10336130.0</td>\n",
       "      <td>NaN</td>\n",
       "      <td>NaN</td>\n",
       "      <td>NaN</td>\n",
       "      <td>NaN</td>\n",
       "      <td>NaN</td>\n",
       "      <td>NaN</td>\n",
       "      <td>NaN</td>\n",
       "      <td>NaN</td>\n",
       "      <td>NaN</td>\n",
       "    </tr>\n",
       "    <tr>\n",
       "      <th>Operating_profit</th>\n",
       "      <td>8.837742e+05</td>\n",
       "      <td>7.968482e+05</td>\n",
       "      <td>8.792688e+05</td>\n",
       "      <td>1.275442e+06</td>\n",
       "      <td>800635.7</td>\n",
       "      <td>3.070462e+05</td>\n",
       "      <td>6.814776e+05</td>\n",
       "      <td>1.042648e+06</td>\n",
       "      <td>9.759087e+05</td>\n",
       "      <td>5.823430e+05</td>\n",
       "      <td>...</td>\n",
       "      <td>4078123.3</td>\n",
       "      <td>NaN</td>\n",
       "      <td>NaN</td>\n",
       "      <td>NaN</td>\n",
       "      <td>NaN</td>\n",
       "      <td>NaN</td>\n",
       "      <td>NaN</td>\n",
       "      <td>NaN</td>\n",
       "      <td>NaN</td>\n",
       "      <td>NaN</td>\n",
       "    </tr>\n",
       "  </tbody>\n",
       "</table>\n",
       "<p>5 rows × 33 columns</p>\n",
       "</div>"
      ],
      "text/plain": [
       "                                                         2020:Q1  \\\n",
       "Personal income (millions of dollars, seasonall...  1.901318e+07   \n",
       "Population (midperiod, persons)                     3.312959e+08   \n",
       "Per capita personal income (dollars)                5.739000e+04   \n",
       "Total_sales                                         2.312746e+06   \n",
       "Operating_profit                                    8.837742e+05   \n",
       "\n",
       "                                                       2020:Q1_2  \\\n",
       "Personal income (millions of dollars, seasonall...  1.901318e+07   \n",
       "Population (midperiod, persons)                     3.312959e+08   \n",
       "Per capita personal income (dollars)                5.739000e+04   \n",
       "Total_sales                                         2.140813e+06   \n",
       "Operating_profit                                    7.968482e+05   \n",
       "\n",
       "                                                       2020:Q1_3  \\\n",
       "Personal income (millions of dollars, seasonall...  1.901318e+07   \n",
       "Population (midperiod, persons)                     3.312959e+08   \n",
       "Per capita personal income (dollars)                5.739000e+04   \n",
       "Total_sales                                         2.474202e+06   \n",
       "Operating_profit                                    8.792688e+05   \n",
       "\n",
       "                                                         2020:Q2    2020:Q2_2  \\\n",
       "Personal income (millions of dollars, seasonall...  2.045938e+07   20459375.8   \n",
       "Population (midperiod, persons)                     3.314482e+08  331448217.0   \n",
       "Per capita personal income (dollars)                6.172700e+04      61727.0   \n",
       "Total_sales                                         3.193081e+06    2164764.0   \n",
       "Operating_profit                                    1.275442e+06     800635.7   \n",
       "\n",
       "                                                       2020:Q2_3  \\\n",
       "Personal income (millions of dollars, seasonall...  2.045938e+07   \n",
       "Population (midperiod, persons)                     3.314482e+08   \n",
       "Per capita personal income (dollars)                6.172700e+04   \n",
       "Total_sales                                         1.084194e+06   \n",
       "Operating_profit                                    3.070462e+05   \n",
       "\n",
       "                                                         2020:Q3  \\\n",
       "Personal income (millions of dollars, seasonall...  1.999781e+07   \n",
       "Population (midperiod, persons)                     3.315966e+08   \n",
       "Per capita personal income (dollars)                6.030800e+04   \n",
       "Total_sales                                         2.182388e+06   \n",
       "Operating_profit                                    6.814776e+05   \n",
       "\n",
       "                                                       2020:Q3_2  \\\n",
       "Personal income (millions of dollars, seasonall...  1.999781e+07   \n",
       "Population (midperiod, persons)                     3.315966e+08   \n",
       "Per capita personal income (dollars)                6.030800e+04   \n",
       "Total_sales                                         2.641630e+06   \n",
       "Operating_profit                                    1.042648e+06   \n",
       "\n",
       "                                                       2020:Q3_3  \\\n",
       "Personal income (millions of dollars, seasonall...  1.999781e+07   \n",
       "Population (midperiod, persons)                     3.315966e+08   \n",
       "Per capita personal income (dollars)                6.030800e+04   \n",
       "Total_sales                                         2.367686e+06   \n",
       "Operating_profit                                    9.759087e+05   \n",
       "\n",
       "                                                         2020:Q4  ...  \\\n",
       "Personal income (millions of dollars, seasonall...  1.977832e+07  ...   \n",
       "Population (midperiod, persons)                     3.317343e+08  ...   \n",
       "Per capita personal income (dollars)                5.962100e+04  ...   \n",
       "Total_sales                                         1.428569e+06  ...   \n",
       "Operating_profit                                    5.823430e+05  ...   \n",
       "\n",
       "                                                      2021:Q4_3      2022:Q1  \\\n",
       "Personal income (millions of dollars, seasonall...   21158043.8   21317801.6   \n",
       "Population (midperiod, persons)                     332336782.0  332502197.0   \n",
       "Per capita personal income (dollars)                    63664.0      64113.0   \n",
       "Total_sales                                          10336130.0          NaN   \n",
       "Operating_profit                                      4078123.3          NaN   \n",
       "\n",
       "                                                      2022:Q1_2    2022:Q1_3  \\\n",
       "Personal income (millions of dollars, seasonall...   21317801.6   21317801.6   \n",
       "Population (midperiod, persons)                     332502197.0  332502197.0   \n",
       "Per capita personal income (dollars)                    64113.0      64113.0   \n",
       "Total_sales                                                 NaN          NaN   \n",
       "Operating_profit                                            NaN          NaN   \n",
       "\n",
       "                                                        2022:Q2    2022:Q2_2  \\\n",
       "Personal income (millions of dollars, seasonall...   21575362.1   21575362.1   \n",
       "Population (midperiod, persons)                     332693300.0  332693300.0   \n",
       "Per capita personal income (dollars)                    64851.0      64851.0   \n",
       "Total_sales                                                 NaN          NaN   \n",
       "Operating_profit                                            NaN          NaN   \n",
       "\n",
       "                                                      2022:Q2_3      2022:Q3  \\\n",
       "Personal income (millions of dollars, seasonall...   21575362.1   21856480.2   \n",
       "Population (midperiod, persons)                     332693300.0  332994420.0   \n",
       "Per capita personal income (dollars)                    64851.0      65636.0   \n",
       "Total_sales                                                 NaN          NaN   \n",
       "Operating_profit                                            NaN          NaN   \n",
       "\n",
       "                                                      2022:Q3_2    2022:Q3_3  \n",
       "Personal income (millions of dollars, seasonall...   21856480.2   21856480.2  \n",
       "Population (midperiod, persons)                     332994420.0  332994420.0  \n",
       "Per capita personal income (dollars)                    65636.0      65636.0  \n",
       "Total_sales                                                 NaN          NaN  \n",
       "Operating_profit                                            NaN          NaN  \n",
       "\n",
       "[5 rows x 33 columns]"
      ]
     },
     "execution_count": 210,
     "metadata": {},
     "output_type": "execute_result"
    }
   ],
   "source": [
    "#Merge the demographic data with the total sales data\n",
    "monthly_merged_df = pd.concat([demo_df_elongated, total_sales_monthly], axis=0)\n",
    "monthly_merged_df"
   ]
  },
  {
   "attachments": {},
   "cell_type": "markdown",
   "metadata": {},
   "source": [
    "## Random Forest Regressor with month split"
   ]
  },
  {
   "cell_type": "code",
   "execution_count": 211,
   "metadata": {},
   "outputs": [],
   "source": [
    "#Transpose the dataframe to fit shape for train_test_split\n",
    "monthly_merged_df = monthly_merged_df.transpose()"
   ]
  },
  {
   "cell_type": "code",
   "execution_count": 212,
   "metadata": {},
   "outputs": [],
   "source": [
    "#Define feature set (which includes all three demographic columns)\n",
    "X = monthly_merged_df.iloc[:-9, :3]\n",
    "\n",
    "#Define target set (which includes the total sales and operating profit columns)\n",
    "y = monthly_merged_df.iloc[:-9, 3:]\n",
    "\n",
    "#Prediction sets (which includes columns where total sales and operating profit are NaN)\n",
    "X_pred = monthly_merged_df.iloc[-9:, :3]\n",
    "y_pred = monthly_merged_df.iloc[-9:, 3:]"
   ]
  },
  {
   "cell_type": "code",
   "execution_count": 213,
   "metadata": {},
   "outputs": [],
   "source": [
    "#Split data into training and testing sets\n",
    "X_train, X_test, y_train, y_test = train_test_split(X, y, random_state=31)"
   ]
  },
  {
   "cell_type": "code",
   "execution_count": 214,
   "metadata": {},
   "outputs": [],
   "source": [
    "#Create a random forest regressor\n",
    "rfr = RandomForestRegressor(n_estimators=100, random_state=0)\n",
    "\n",
    "#Fit the model to the training data\n",
    "rfr.fit(X_train, y_train)\n",
    "\n",
    "#Make predictions using the testing data\n",
    "rfr_predictions = rfr.predict(X_test)"
   ]
  },
  {
   "cell_type": "code",
   "execution_count": 215,
   "metadata": {},
   "outputs": [
    {
     "name": "stdout",
     "output_type": "stream",
     "text": [
      "Random Forest Regressor MSE: 824943196061.6461\n",
      "Random Forest Regressor RMSE: 908263.8361520545\n"
     ]
    }
   ],
   "source": [
    "#Calculate the mean squared error and root mean squared error as performance metrics\n",
    "rfr_mse = mean_squared_error(y_test, rfr_predictions)\n",
    "rfr_rmse = rfr_mse**.5\n",
    "\n",
    "print(f'Random Forest Regressor MSE: {rfr_mse}')\n",
    "print(f'Random Forest Regressor RMSE: {rfr_rmse}')"
   ]
  },
  {
   "cell_type": "code",
   "execution_count": 216,
   "metadata": {},
   "outputs": [
    {
     "data": {
      "text/html": [
       "<div>\n",
       "<style scoped>\n",
       "    .dataframe tbody tr th:only-of-type {\n",
       "        vertical-align: middle;\n",
       "    }\n",
       "\n",
       "    .dataframe tbody tr th {\n",
       "        vertical-align: top;\n",
       "    }\n",
       "\n",
       "    .dataframe thead th {\n",
       "        text-align: right;\n",
       "    }\n",
       "</style>\n",
       "<table border=\"1\" class=\"dataframe\">\n",
       "  <thead>\n",
       "    <tr style=\"text-align: right;\">\n",
       "      <th></th>\n",
       "      <th>Predicted_Total_Sales</th>\n",
       "      <th>Predicted_Operating_Profit</th>\n",
       "      <th>Actual_Total_Sales</th>\n",
       "      <th>Actual_Operating_Profit</th>\n",
       "    </tr>\n",
       "  </thead>\n",
       "  <tbody>\n",
       "    <tr>\n",
       "      <th>2020:Q1</th>\n",
       "      <td>2.215932e+06</td>\n",
       "      <td>8.043960e+05</td>\n",
       "      <td>2312746.0</td>\n",
       "      <td>883774.16</td>\n",
       "    </tr>\n",
       "    <tr>\n",
       "      <th>2020:Q2_3</th>\n",
       "      <td>3.066253e+06</td>\n",
       "      <td>1.182672e+06</td>\n",
       "      <td>1084194.0</td>\n",
       "      <td>307046.16</td>\n",
       "    </tr>\n",
       "    <tr>\n",
       "      <th>2020:Q3_2</th>\n",
       "      <td>2.300622e+06</td>\n",
       "      <td>8.526891e+05</td>\n",
       "      <td>2641630.0</td>\n",
       "      <td>1042648.29</td>\n",
       "    </tr>\n",
       "    <tr>\n",
       "      <th>2020:Q4</th>\n",
       "      <td>1.603434e+06</td>\n",
       "      <td>5.879956e+05</td>\n",
       "      <td>1428569.0</td>\n",
       "      <td>582342.96</td>\n",
       "    </tr>\n",
       "    <tr>\n",
       "      <th>2021:Q2</th>\n",
       "      <td>8.395391e+06</td>\n",
       "      <td>3.343996e+06</td>\n",
       "      <td>6498339.0</td>\n",
       "      <td>2644237.72</td>\n",
       "    </tr>\n",
       "    <tr>\n",
       "      <th>2021:Q4_2</th>\n",
       "      <td>8.708044e+06</td>\n",
       "      <td>3.537770e+06</td>\n",
       "      <td>7855390.0</td>\n",
       "      <td>3101992.69</td>\n",
       "    </tr>\n",
       "  </tbody>\n",
       "</table>\n",
       "</div>"
      ],
      "text/plain": [
       "           Predicted_Total_Sales  Predicted_Operating_Profit  \\\n",
       "2020:Q1             2.215932e+06                8.043960e+05   \n",
       "2020:Q2_3           3.066253e+06                1.182672e+06   \n",
       "2020:Q3_2           2.300622e+06                8.526891e+05   \n",
       "2020:Q4             1.603434e+06                5.879956e+05   \n",
       "2021:Q2             8.395391e+06                3.343996e+06   \n",
       "2021:Q4_2           8.708044e+06                3.537770e+06   \n",
       "\n",
       "           Actual_Total_Sales  Actual_Operating_Profit  \n",
       "2020:Q1             2312746.0                883774.16  \n",
       "2020:Q2_3           1084194.0                307046.16  \n",
       "2020:Q3_2           2641630.0               1042648.29  \n",
       "2020:Q4             1428569.0                582342.96  \n",
       "2021:Q2             6498339.0               2644237.72  \n",
       "2021:Q4_2           7855390.0               3101992.69  "
      ]
     },
     "execution_count": 216,
     "metadata": {},
     "output_type": "execute_result"
    }
   ],
   "source": [
    "#A RMSE of 908263 means that the model is off by about $908,263 on average\n",
    "\n",
    "#Create a dataframe of the predictions\n",
    "rfr_df = pd.DataFrame(rfr_predictions, columns=['Predicted_Total_Sales', 'Predicted_Operating_Profit'], index=y_test.index)\n",
    "rfr_df['Actual_Total_Sales'], rfr_df['Actual_Operating_Profit'] = y_test['Total_sales'], y_test['Operating_profit']\n",
    "rfr_df = rfr_df.sort_index()\n",
    "rfr_df"
   ]
  },
  {
   "cell_type": "code",
   "execution_count": 217,
   "metadata": {},
   "outputs": [
    {
     "data": {
      "application/vnd.plotly.v1+json": {
       "config": {
        "plotlyServerURL": "https://plot.ly"
       },
       "data": [
        {
         "hovertemplate": "variable=Predicted_Total_Sales<br>index=%{x}<br>value=%{y}<extra></extra>",
         "legendgroup": "Predicted_Total_Sales",
         "line": {
          "color": "#636efa",
          "dash": "solid"
         },
         "marker": {
          "symbol": "circle"
         },
         "mode": "lines",
         "name": "Predicted_Total_Sales",
         "orientation": "v",
         "showlegend": true,
         "type": "scatter",
         "x": [
          "2020:Q1",
          "2020:Q2_3",
          "2020:Q3_2",
          "2020:Q4",
          "2021:Q2",
          "2021:Q4_2"
         ],
         "xaxis": "x",
         "y": [
          2215932.286,
          3066252.6318333335,
          2300622.1693333336,
          1603433.8631666668,
          8395390.517666668,
          8708044.458333332
         ],
         "yaxis": "y"
        },
        {
         "hovertemplate": "variable=Actual_Total_Sales<br>index=%{x}<br>value=%{y}<extra></extra>",
         "legendgroup": "Actual_Total_Sales",
         "line": {
          "color": "#EF553B",
          "dash": "solid"
         },
         "marker": {
          "symbol": "circle"
         },
         "mode": "lines",
         "name": "Actual_Total_Sales",
         "orientation": "v",
         "showlegend": true,
         "type": "scatter",
         "x": [
          "2020:Q1",
          "2020:Q2_3",
          "2020:Q3_2",
          "2020:Q4",
          "2021:Q2",
          "2021:Q4_2"
         ],
         "xaxis": "x",
         "y": [
          2312746,
          1084194,
          2641630,
          1428569,
          6498339,
          7855390.000000001
         ],
         "yaxis": "y"
        },
        {
         "hovertemplate": "variable=Predicted_Operating_Profit<br>index=%{x}<br>value=%{y}<extra></extra>",
         "legendgroup": "Predicted_Operating_Profit",
         "line": {
          "color": "#00cc96",
          "dash": "solid"
         },
         "marker": {
          "symbol": "circle"
         },
         "mode": "lines",
         "name": "Predicted_Operating_Profit",
         "orientation": "v",
         "showlegend": true,
         "type": "scatter",
         "x": [
          "2020:Q1",
          "2020:Q2_3",
          "2020:Q3_2",
          "2020:Q4",
          "2021:Q2",
          "2021:Q4_2"
         ],
         "xaxis": "x",
         "y": [
          804396.0385642854,
          1182671.852011668,
          852689.1448699997,
          587995.5570166666,
          3343995.978169997,
          3537769.7010166687
         ],
         "yaxis": "y"
        },
        {
         "hovertemplate": "variable=Actual_Operating_Profit<br>index=%{x}<br>value=%{y}<extra></extra>",
         "legendgroup": "Actual_Operating_Profit",
         "line": {
          "color": "#ab63fa",
          "dash": "solid"
         },
         "marker": {
          "symbol": "circle"
         },
         "mode": "lines",
         "name": "Actual_Operating_Profit",
         "orientation": "v",
         "showlegend": true,
         "type": "scatter",
         "x": [
          "2020:Q1",
          "2020:Q2_3",
          "2020:Q3_2",
          "2020:Q4",
          "2021:Q2",
          "2021:Q4_2"
         ],
         "xaxis": "x",
         "y": [
          883774.16,
          307046.16,
          1042648.29,
          582342.96,
          2644237.72,
          3101992.6900000004
         ],
         "yaxis": "y"
        }
       ],
       "layout": {
        "legend": {
         "title": {
          "text": "variable"
         },
         "tracegroupgap": 0
        },
        "template": {
         "data": {
          "bar": [
           {
            "error_x": {
             "color": "#2a3f5f"
            },
            "error_y": {
             "color": "#2a3f5f"
            },
            "marker": {
             "line": {
              "color": "#E5ECF6",
              "width": 0.5
             },
             "pattern": {
              "fillmode": "overlay",
              "size": 10,
              "solidity": 0.2
             }
            },
            "type": "bar"
           }
          ],
          "barpolar": [
           {
            "marker": {
             "line": {
              "color": "#E5ECF6",
              "width": 0.5
             },
             "pattern": {
              "fillmode": "overlay",
              "size": 10,
              "solidity": 0.2
             }
            },
            "type": "barpolar"
           }
          ],
          "carpet": [
           {
            "aaxis": {
             "endlinecolor": "#2a3f5f",
             "gridcolor": "white",
             "linecolor": "white",
             "minorgridcolor": "white",
             "startlinecolor": "#2a3f5f"
            },
            "baxis": {
             "endlinecolor": "#2a3f5f",
             "gridcolor": "white",
             "linecolor": "white",
             "minorgridcolor": "white",
             "startlinecolor": "#2a3f5f"
            },
            "type": "carpet"
           }
          ],
          "choropleth": [
           {
            "colorbar": {
             "outlinewidth": 0,
             "ticks": ""
            },
            "type": "choropleth"
           }
          ],
          "contour": [
           {
            "colorbar": {
             "outlinewidth": 0,
             "ticks": ""
            },
            "colorscale": [
             [
              0,
              "#0d0887"
             ],
             [
              0.1111111111111111,
              "#46039f"
             ],
             [
              0.2222222222222222,
              "#7201a8"
             ],
             [
              0.3333333333333333,
              "#9c179e"
             ],
             [
              0.4444444444444444,
              "#bd3786"
             ],
             [
              0.5555555555555556,
              "#d8576b"
             ],
             [
              0.6666666666666666,
              "#ed7953"
             ],
             [
              0.7777777777777778,
              "#fb9f3a"
             ],
             [
              0.8888888888888888,
              "#fdca26"
             ],
             [
              1,
              "#f0f921"
             ]
            ],
            "type": "contour"
           }
          ],
          "contourcarpet": [
           {
            "colorbar": {
             "outlinewidth": 0,
             "ticks": ""
            },
            "type": "contourcarpet"
           }
          ],
          "heatmap": [
           {
            "colorbar": {
             "outlinewidth": 0,
             "ticks": ""
            },
            "colorscale": [
             [
              0,
              "#0d0887"
             ],
             [
              0.1111111111111111,
              "#46039f"
             ],
             [
              0.2222222222222222,
              "#7201a8"
             ],
             [
              0.3333333333333333,
              "#9c179e"
             ],
             [
              0.4444444444444444,
              "#bd3786"
             ],
             [
              0.5555555555555556,
              "#d8576b"
             ],
             [
              0.6666666666666666,
              "#ed7953"
             ],
             [
              0.7777777777777778,
              "#fb9f3a"
             ],
             [
              0.8888888888888888,
              "#fdca26"
             ],
             [
              1,
              "#f0f921"
             ]
            ],
            "type": "heatmap"
           }
          ],
          "heatmapgl": [
           {
            "colorbar": {
             "outlinewidth": 0,
             "ticks": ""
            },
            "colorscale": [
             [
              0,
              "#0d0887"
             ],
             [
              0.1111111111111111,
              "#46039f"
             ],
             [
              0.2222222222222222,
              "#7201a8"
             ],
             [
              0.3333333333333333,
              "#9c179e"
             ],
             [
              0.4444444444444444,
              "#bd3786"
             ],
             [
              0.5555555555555556,
              "#d8576b"
             ],
             [
              0.6666666666666666,
              "#ed7953"
             ],
             [
              0.7777777777777778,
              "#fb9f3a"
             ],
             [
              0.8888888888888888,
              "#fdca26"
             ],
             [
              1,
              "#f0f921"
             ]
            ],
            "type": "heatmapgl"
           }
          ],
          "histogram": [
           {
            "marker": {
             "pattern": {
              "fillmode": "overlay",
              "size": 10,
              "solidity": 0.2
             }
            },
            "type": "histogram"
           }
          ],
          "histogram2d": [
           {
            "colorbar": {
             "outlinewidth": 0,
             "ticks": ""
            },
            "colorscale": [
             [
              0,
              "#0d0887"
             ],
             [
              0.1111111111111111,
              "#46039f"
             ],
             [
              0.2222222222222222,
              "#7201a8"
             ],
             [
              0.3333333333333333,
              "#9c179e"
             ],
             [
              0.4444444444444444,
              "#bd3786"
             ],
             [
              0.5555555555555556,
              "#d8576b"
             ],
             [
              0.6666666666666666,
              "#ed7953"
             ],
             [
              0.7777777777777778,
              "#fb9f3a"
             ],
             [
              0.8888888888888888,
              "#fdca26"
             ],
             [
              1,
              "#f0f921"
             ]
            ],
            "type": "histogram2d"
           }
          ],
          "histogram2dcontour": [
           {
            "colorbar": {
             "outlinewidth": 0,
             "ticks": ""
            },
            "colorscale": [
             [
              0,
              "#0d0887"
             ],
             [
              0.1111111111111111,
              "#46039f"
             ],
             [
              0.2222222222222222,
              "#7201a8"
             ],
             [
              0.3333333333333333,
              "#9c179e"
             ],
             [
              0.4444444444444444,
              "#bd3786"
             ],
             [
              0.5555555555555556,
              "#d8576b"
             ],
             [
              0.6666666666666666,
              "#ed7953"
             ],
             [
              0.7777777777777778,
              "#fb9f3a"
             ],
             [
              0.8888888888888888,
              "#fdca26"
             ],
             [
              1,
              "#f0f921"
             ]
            ],
            "type": "histogram2dcontour"
           }
          ],
          "mesh3d": [
           {
            "colorbar": {
             "outlinewidth": 0,
             "ticks": ""
            },
            "type": "mesh3d"
           }
          ],
          "parcoords": [
           {
            "line": {
             "colorbar": {
              "outlinewidth": 0,
              "ticks": ""
             }
            },
            "type": "parcoords"
           }
          ],
          "pie": [
           {
            "automargin": true,
            "type": "pie"
           }
          ],
          "scatter": [
           {
            "fillpattern": {
             "fillmode": "overlay",
             "size": 10,
             "solidity": 0.2
            },
            "type": "scatter"
           }
          ],
          "scatter3d": [
           {
            "line": {
             "colorbar": {
              "outlinewidth": 0,
              "ticks": ""
             }
            },
            "marker": {
             "colorbar": {
              "outlinewidth": 0,
              "ticks": ""
             }
            },
            "type": "scatter3d"
           }
          ],
          "scattercarpet": [
           {
            "marker": {
             "colorbar": {
              "outlinewidth": 0,
              "ticks": ""
             }
            },
            "type": "scattercarpet"
           }
          ],
          "scattergeo": [
           {
            "marker": {
             "colorbar": {
              "outlinewidth": 0,
              "ticks": ""
             }
            },
            "type": "scattergeo"
           }
          ],
          "scattergl": [
           {
            "marker": {
             "colorbar": {
              "outlinewidth": 0,
              "ticks": ""
             }
            },
            "type": "scattergl"
           }
          ],
          "scattermapbox": [
           {
            "marker": {
             "colorbar": {
              "outlinewidth": 0,
              "ticks": ""
             }
            },
            "type": "scattermapbox"
           }
          ],
          "scatterpolar": [
           {
            "marker": {
             "colorbar": {
              "outlinewidth": 0,
              "ticks": ""
             }
            },
            "type": "scatterpolar"
           }
          ],
          "scatterpolargl": [
           {
            "marker": {
             "colorbar": {
              "outlinewidth": 0,
              "ticks": ""
             }
            },
            "type": "scatterpolargl"
           }
          ],
          "scatterternary": [
           {
            "marker": {
             "colorbar": {
              "outlinewidth": 0,
              "ticks": ""
             }
            },
            "type": "scatterternary"
           }
          ],
          "surface": [
           {
            "colorbar": {
             "outlinewidth": 0,
             "ticks": ""
            },
            "colorscale": [
             [
              0,
              "#0d0887"
             ],
             [
              0.1111111111111111,
              "#46039f"
             ],
             [
              0.2222222222222222,
              "#7201a8"
             ],
             [
              0.3333333333333333,
              "#9c179e"
             ],
             [
              0.4444444444444444,
              "#bd3786"
             ],
             [
              0.5555555555555556,
              "#d8576b"
             ],
             [
              0.6666666666666666,
              "#ed7953"
             ],
             [
              0.7777777777777778,
              "#fb9f3a"
             ],
             [
              0.8888888888888888,
              "#fdca26"
             ],
             [
              1,
              "#f0f921"
             ]
            ],
            "type": "surface"
           }
          ],
          "table": [
           {
            "cells": {
             "fill": {
              "color": "#EBF0F8"
             },
             "line": {
              "color": "white"
             }
            },
            "header": {
             "fill": {
              "color": "#C8D4E3"
             },
             "line": {
              "color": "white"
             }
            },
            "type": "table"
           }
          ]
         },
         "layout": {
          "annotationdefaults": {
           "arrowcolor": "#2a3f5f",
           "arrowhead": 0,
           "arrowwidth": 1
          },
          "autotypenumbers": "strict",
          "coloraxis": {
           "colorbar": {
            "outlinewidth": 0,
            "ticks": ""
           }
          },
          "colorscale": {
           "diverging": [
            [
             0,
             "#8e0152"
            ],
            [
             0.1,
             "#c51b7d"
            ],
            [
             0.2,
             "#de77ae"
            ],
            [
             0.3,
             "#f1b6da"
            ],
            [
             0.4,
             "#fde0ef"
            ],
            [
             0.5,
             "#f7f7f7"
            ],
            [
             0.6,
             "#e6f5d0"
            ],
            [
             0.7,
             "#b8e186"
            ],
            [
             0.8,
             "#7fbc41"
            ],
            [
             0.9,
             "#4d9221"
            ],
            [
             1,
             "#276419"
            ]
           ],
           "sequential": [
            [
             0,
             "#0d0887"
            ],
            [
             0.1111111111111111,
             "#46039f"
            ],
            [
             0.2222222222222222,
             "#7201a8"
            ],
            [
             0.3333333333333333,
             "#9c179e"
            ],
            [
             0.4444444444444444,
             "#bd3786"
            ],
            [
             0.5555555555555556,
             "#d8576b"
            ],
            [
             0.6666666666666666,
             "#ed7953"
            ],
            [
             0.7777777777777778,
             "#fb9f3a"
            ],
            [
             0.8888888888888888,
             "#fdca26"
            ],
            [
             1,
             "#f0f921"
            ]
           ],
           "sequentialminus": [
            [
             0,
             "#0d0887"
            ],
            [
             0.1111111111111111,
             "#46039f"
            ],
            [
             0.2222222222222222,
             "#7201a8"
            ],
            [
             0.3333333333333333,
             "#9c179e"
            ],
            [
             0.4444444444444444,
             "#bd3786"
            ],
            [
             0.5555555555555556,
             "#d8576b"
            ],
            [
             0.6666666666666666,
             "#ed7953"
            ],
            [
             0.7777777777777778,
             "#fb9f3a"
            ],
            [
             0.8888888888888888,
             "#fdca26"
            ],
            [
             1,
             "#f0f921"
            ]
           ]
          },
          "colorway": [
           "#636efa",
           "#EF553B",
           "#00cc96",
           "#ab63fa",
           "#FFA15A",
           "#19d3f3",
           "#FF6692",
           "#B6E880",
           "#FF97FF",
           "#FECB52"
          ],
          "font": {
           "color": "#2a3f5f"
          },
          "geo": {
           "bgcolor": "white",
           "lakecolor": "white",
           "landcolor": "#E5ECF6",
           "showlakes": true,
           "showland": true,
           "subunitcolor": "white"
          },
          "hoverlabel": {
           "align": "left"
          },
          "hovermode": "closest",
          "mapbox": {
           "style": "light"
          },
          "paper_bgcolor": "white",
          "plot_bgcolor": "#E5ECF6",
          "polar": {
           "angularaxis": {
            "gridcolor": "white",
            "linecolor": "white",
            "ticks": ""
           },
           "bgcolor": "#E5ECF6",
           "radialaxis": {
            "gridcolor": "white",
            "linecolor": "white",
            "ticks": ""
           }
          },
          "scene": {
           "xaxis": {
            "backgroundcolor": "#E5ECF6",
            "gridcolor": "white",
            "gridwidth": 2,
            "linecolor": "white",
            "showbackground": true,
            "ticks": "",
            "zerolinecolor": "white"
           },
           "yaxis": {
            "backgroundcolor": "#E5ECF6",
            "gridcolor": "white",
            "gridwidth": 2,
            "linecolor": "white",
            "showbackground": true,
            "ticks": "",
            "zerolinecolor": "white"
           },
           "zaxis": {
            "backgroundcolor": "#E5ECF6",
            "gridcolor": "white",
            "gridwidth": 2,
            "linecolor": "white",
            "showbackground": true,
            "ticks": "",
            "zerolinecolor": "white"
           }
          },
          "shapedefaults": {
           "line": {
            "color": "#2a3f5f"
           }
          },
          "ternary": {
           "aaxis": {
            "gridcolor": "white",
            "linecolor": "white",
            "ticks": ""
           },
           "baxis": {
            "gridcolor": "white",
            "linecolor": "white",
            "ticks": ""
           },
           "bgcolor": "#E5ECF6",
           "caxis": {
            "gridcolor": "white",
            "linecolor": "white",
            "ticks": ""
           }
          },
          "title": {
           "x": 0.05
          },
          "xaxis": {
           "automargin": true,
           "gridcolor": "white",
           "linecolor": "white",
           "ticks": "",
           "title": {
            "standoff": 15
           },
           "zerolinecolor": "white",
           "zerolinewidth": 2
          },
          "yaxis": {
           "automargin": true,
           "gridcolor": "white",
           "linecolor": "white",
           "ticks": "",
           "title": {
            "standoff": 15
           },
           "zerolinecolor": "white",
           "zerolinewidth": 2
          }
         }
        },
        "title": {
         "text": "Random Forest Regressor: Total Sales & Operating Profit Predictions vs. Actual Values (Monthly Data)"
        },
        "xaxis": {
         "anchor": "y",
         "domain": [
          0,
          1
         ],
         "title": {
          "text": "index"
         }
        },
        "yaxis": {
         "anchor": "x",
         "domain": [
          0,
          1
         ],
         "title": {
          "text": "value"
         }
        }
       }
      }
     },
     "metadata": {},
     "output_type": "display_data"
    }
   ],
   "source": [
    "#Plot the predictions vs. the actual values\n",
    "px.line(rfr_df, x=rfr_df.index, y=['Predicted_Total_Sales', 'Actual_Total_Sales', 'Predicted_Operating_Profit', 'Actual_Operating_Profit'], \n",
    "        title='Random Forest Regressor: Total Sales & Operating Profit Predictions vs. Actual Values (Monthly Data)')"
   ]
  },
  {
   "cell_type": "code",
   "execution_count": 218,
   "metadata": {},
   "outputs": [
    {
     "data": {
      "text/plain": [
       "GridSearchCV(estimator=RandomForestRegressor(), n_jobs=4,\n",
       "             param_grid={'max_depth': [None, 5, 10, 15, 20],\n",
       "                         'max_features': ['auto', 'sqrt', 'log2'],\n",
       "                         'min_samples_leaf': [1, 2, 3, 4, 5],\n",
       "                         'min_samples_split': [2, 4, 6, 8, 10],\n",
       "                         'n_estimators': [50, 100, 200, 300, 400]},\n",
       "             scoring=make_scorer(mean_squared_error, greater_is_better=False))"
      ]
     },
     "execution_count": 218,
     "metadata": {},
     "output_type": "execute_result"
    }
   ],
   "source": [
    "#Define the scoring function to be used in GridSearchCV\n",
    "mse = make_scorer(mean_squared_error, greater_is_better=False)\n",
    "\n",
    "#Find optimal parameters using GridSearchCV\n",
    "opt_rfr_grid = {'n_estimators': [50, 100, 200, 300, 400], \n",
    "        'max_depth': [None, 5, 10, 15, 20], \n",
    "        'min_samples_split': [2, 4, 6, 8, 10], \n",
    "        'min_samples_leaf': [1, 2, 3, 4, 5], \n",
    "        'max_features': ['auto', 'sqrt', 'log2']}\n",
    "\n",
    "#Grid search function\n",
    "CV_opt_rfr = GridSearchCV(estimator=RandomForestRegressor(), param_grid=opt_rfr_grid, scoring=mse, n_jobs=4)\n",
    "CV_opt_rfr.fit(X_train, y_train)"
   ]
  },
  {
   "cell_type": "code",
   "execution_count": 219,
   "metadata": {},
   "outputs": [
    {
     "data": {
      "text/plain": [
       "{'max_depth': None,\n",
       " 'max_features': 'sqrt',\n",
       " 'min_samples_leaf': 2,\n",
       " 'min_samples_split': 2,\n",
       " 'n_estimators': 50}"
      ]
     },
     "execution_count": 219,
     "metadata": {},
     "output_type": "execute_result"
    }
   ],
   "source": [
    "#Show the best parameters\n",
    "CV_opt_rfr.best_params_"
   ]
  },
  {
   "cell_type": "code",
   "execution_count": 220,
   "metadata": {},
   "outputs": [],
   "source": [
    "#Create a random forest regressor\n",
    "opt_rfr = RandomForestRegressor(max_depth=None, max_features= 'sqrt', min_samples_leaf= 2, min_samples_split= 2, n_estimators= 50, random_state=0)\n",
    "\n",
    "#Fit the model to the training data\n",
    "opt_rfr.fit(X_train, y_train)\n",
    "\n",
    "#Make predictions using the testing data\n",
    "opt_rfr_predictions = opt_rfr.predict(X_test)"
   ]
  },
  {
   "cell_type": "code",
   "execution_count": 221,
   "metadata": {},
   "outputs": [
    {
     "name": "stdout",
     "output_type": "stream",
     "text": [
      "Random Forest Regressor MSE: 679252844329.5784\n",
      "Random Forest Regressor RMSE: 824167.9709437746\n"
     ]
    }
   ],
   "source": [
    "#Calculate the mean squared error and root mean squared error as performance metrics\n",
    "opt_rfr_mse = mean_squared_error(y_test, opt_rfr_predictions)\n",
    "opt_rfr_rmse = opt_rfr_mse**.5\n",
    "\n",
    "print(f'Random Forest Regressor MSE: {opt_rfr_mse}')\n",
    "print(f'Random Forest Regressor RMSE: {opt_rfr_rmse}')"
   ]
  },
  {
   "cell_type": "code",
   "execution_count": 224,
   "metadata": {},
   "outputs": [
    {
     "name": "stdout",
     "output_type": "stream",
     "text": [
      "RMSE: 810141.2761063573\n",
      "Optimal parameters: n_estimators=50, max_depth=None, min_samples_split=2, min_samples_leaf=1, max_features=sqrt\n",
      "RMSE: 807576.2527010938\n",
      "Optimal parameters: n_estimators=50, max_depth=None, min_samples_split=2, min_samples_leaf=4, max_features=auto\n",
      "RMSE: 769475.8856729567\n",
      "Optimal parameters: n_estimators=50, max_depth=None, min_samples_split=4, min_samples_leaf=1, max_features=sqrt\n"
     ]
    }
   ],
   "source": [
    "#For loop to find the optimal parameters\n",
    "opt_rfr_rmse_loop = 824167\n",
    "\n",
    "for n in opt_rfr_grid['n_estimators']:\n",
    "    for d in opt_rfr_grid['max_depth']:\n",
    "        for s in opt_rfr_grid['min_samples_split']:\n",
    "            for l in opt_rfr_grid['min_samples_leaf']:\n",
    "                for f in opt_rfr_grid['max_features']:\n",
    "                    opt_rfr = RandomForestRegressor(max_depth=d, max_features=f, min_samples_leaf=l, min_samples_split=s, n_estimators=n, random_state=0)\n",
    "                    opt_rfr.fit(X_train, y_train)\n",
    "                    opt_rfr_predictions = opt_rfr.predict(X_test)\n",
    "                    opt_rfr_rmse_in_loop = mean_squared_error(y_test, opt_rfr_predictions)**.5\n",
    "                    \n",
    "                    #If the RMSE is lower than the previous RMSE, then update\n",
    "                    if opt_rfr_rmse_in_loop < opt_rfr_rmse_loop:\n",
    "                        opt_rfr_rmse_loop = opt_rfr_rmse_in_loop\n",
    "                        print(f'RMSE: {opt_rfr_rmse_loop}')\n",
    "                        print(f'Optimal parameters: n_estimators={n}, max_depth={d}, min_samples_split={s}, min_samples_leaf={l}, max_features={f}')\n",
    "                    "
   ]
  },
  {
   "cell_type": "code",
   "execution_count": 228,
   "metadata": {},
   "outputs": [],
   "source": [
    "#Create a random forest regressor\n",
    "opt_rfr = RandomForestRegressor(max_depth=None, max_features= 'sqrt', min_samples_leaf= 1, min_samples_split= 4, n_estimators= 50, random_state=0)\n",
    "\n",
    "#Fit the model to the training data\n",
    "opt_rfr.fit(X_train, y_train)\n",
    "\n",
    "#Make predictions using the testing data\n",
    "opt_rfr_predictions = opt_rfr.predict(X_test)"
   ]
  },
  {
   "cell_type": "code",
   "execution_count": 229,
   "metadata": {},
   "outputs": [
    {
     "data": {
      "text/html": [
       "<div>\n",
       "<style scoped>\n",
       "    .dataframe tbody tr th:only-of-type {\n",
       "        vertical-align: middle;\n",
       "    }\n",
       "\n",
       "    .dataframe tbody tr th {\n",
       "        vertical-align: top;\n",
       "    }\n",
       "\n",
       "    .dataframe thead th {\n",
       "        text-align: right;\n",
       "    }\n",
       "</style>\n",
       "<table border=\"1\" class=\"dataframe\">\n",
       "  <thead>\n",
       "    <tr style=\"text-align: right;\">\n",
       "      <th></th>\n",
       "      <th>Predicted_Total_Sales</th>\n",
       "      <th>Predicted_Operating_Profit</th>\n",
       "      <th>Actual_Total_Sales</th>\n",
       "      <th>Actual_Operating_Profit</th>\n",
       "    </tr>\n",
       "  </thead>\n",
       "  <tbody>\n",
       "    <tr>\n",
       "      <th>2020:Q1</th>\n",
       "      <td>2.038694e+06</td>\n",
       "      <td>7.402727e+05</td>\n",
       "      <td>2312746.0</td>\n",
       "      <td>883774.16</td>\n",
       "    </tr>\n",
       "    <tr>\n",
       "      <th>2020:Q2_3</th>\n",
       "      <td>2.828291e+06</td>\n",
       "      <td>1.092221e+06</td>\n",
       "      <td>1084194.0</td>\n",
       "      <td>307046.16</td>\n",
       "    </tr>\n",
       "    <tr>\n",
       "      <th>2020:Q3_2</th>\n",
       "      <td>2.183755e+06</td>\n",
       "      <td>8.078539e+05</td>\n",
       "      <td>2641630.0</td>\n",
       "      <td>1042648.29</td>\n",
       "    </tr>\n",
       "    <tr>\n",
       "      <th>2020:Q4</th>\n",
       "      <td>1.778379e+06</td>\n",
       "      <td>6.435760e+05</td>\n",
       "      <td>1428569.0</td>\n",
       "      <td>582342.96</td>\n",
       "    </tr>\n",
       "    <tr>\n",
       "      <th>2021:Q2</th>\n",
       "      <td>7.905664e+06</td>\n",
       "      <td>3.160981e+06</td>\n",
       "      <td>6498339.0</td>\n",
       "      <td>2644237.72</td>\n",
       "    </tr>\n",
       "    <tr>\n",
       "      <th>2021:Q4_2</th>\n",
       "      <td>8.604739e+06</td>\n",
       "      <td>3.490633e+06</td>\n",
       "      <td>7855390.0</td>\n",
       "      <td>3101992.69</td>\n",
       "    </tr>\n",
       "  </tbody>\n",
       "</table>\n",
       "</div>"
      ],
      "text/plain": [
       "           Predicted_Total_Sales  Predicted_Operating_Profit  \\\n",
       "2020:Q1             2.038694e+06                7.402727e+05   \n",
       "2020:Q2_3           2.828291e+06                1.092221e+06   \n",
       "2020:Q3_2           2.183755e+06                8.078539e+05   \n",
       "2020:Q4             1.778379e+06                6.435760e+05   \n",
       "2021:Q2             7.905664e+06                3.160981e+06   \n",
       "2021:Q4_2           8.604739e+06                3.490633e+06   \n",
       "\n",
       "           Actual_Total_Sales  Actual_Operating_Profit  \n",
       "2020:Q1             2312746.0                883774.16  \n",
       "2020:Q2_3           1084194.0                307046.16  \n",
       "2020:Q3_2           2641630.0               1042648.29  \n",
       "2020:Q4             1428569.0                582342.96  \n",
       "2021:Q2             6498339.0               2644237.72  \n",
       "2021:Q4_2           7855390.0               3101992.69  "
      ]
     },
     "execution_count": 229,
     "metadata": {},
     "output_type": "execute_result"
    }
   ],
   "source": [
    "#A RMSE of 3708158 means that the model is off by about $3.7 million on average\n",
    "\n",
    "#Create a dataframe of the predictions\n",
    "opt_rfr_df = pd.DataFrame(opt_rfr_predictions, columns=['Predicted_Total_Sales', 'Predicted_Operating_Profit'], index=y_test.index)\n",
    "opt_rfr_df['Actual_Total_Sales'], opt_rfr_df['Actual_Operating_Profit'] = y_test['Total_sales'], y_test['Operating_profit']\n",
    "opt_rfr_df = opt_rfr_df.sort_index()\n",
    "opt_rfr_df"
   ]
  },
  {
   "cell_type": "code",
   "execution_count": 230,
   "metadata": {},
   "outputs": [
    {
     "data": {
      "application/vnd.plotly.v1+json": {
       "config": {
        "plotlyServerURL": "https://plot.ly"
       },
       "data": [
        {
         "hovertemplate": "variable=Predicted_Total_Sales<br>index=%{x}<br>value=%{y}<extra></extra>",
         "legendgroup": "Predicted_Total_Sales",
         "line": {
          "color": "#636efa",
          "dash": "solid"
         },
         "marker": {
          "symbol": "circle"
         },
         "mode": "lines",
         "name": "Predicted_Total_Sales",
         "orientation": "v",
         "showlegend": true,
         "type": "scatter",
         "x": [
          "2020:Q1",
          "2020:Q2_3",
          "2020:Q3_2",
          "2020:Q4",
          "2021:Q2",
          "2021:Q4_2"
         ],
         "xaxis": "x",
         "y": [
          2038694.3993333331,
          2828291.3108571433,
          2183754.9375238093,
          1778379.271523809,
          7905663.599666664,
          8604739.160999998
         ],
         "yaxis": "y"
        },
        {
         "hovertemplate": "variable=Actual_Total_Sales<br>index=%{x}<br>value=%{y}<extra></extra>",
         "legendgroup": "Actual_Total_Sales",
         "line": {
          "color": "#EF553B",
          "dash": "solid"
         },
         "marker": {
          "symbol": "circle"
         },
         "mode": "lines",
         "name": "Actual_Total_Sales",
         "orientation": "v",
         "showlegend": true,
         "type": "scatter",
         "x": [
          "2020:Q1",
          "2020:Q2_3",
          "2020:Q3_2",
          "2020:Q4",
          "2021:Q2",
          "2021:Q4_2"
         ],
         "xaxis": "x",
         "y": [
          2312746,
          1084194,
          2641630,
          1428569,
          6498339,
          7855390.000000001
         ],
         "yaxis": "y"
        },
        {
         "hovertemplate": "variable=Predicted_Operating_Profit<br>index=%{x}<br>value=%{y}<extra></extra>",
         "legendgroup": "Predicted_Operating_Profit",
         "line": {
          "color": "#00cc96",
          "dash": "solid"
         },
         "marker": {
          "symbol": "circle"
         },
         "mode": "lines",
         "name": "Predicted_Operating_Profit",
         "orientation": "v",
         "showlegend": true,
         "type": "scatter",
         "x": [
          "2020:Q1",
          "2020:Q2_3",
          "2020:Q3_2",
          "2020:Q4",
          "2021:Q2",
          "2021:Q4_2"
         ],
         "xaxis": "x",
         "y": [
          740272.6880785716,
          1092220.5400847625,
          807853.8699680954,
          643576.0109780951,
          3160980.991829047,
          3490633.226259047
         ],
         "yaxis": "y"
        },
        {
         "hovertemplate": "variable=Actual_Operating_Profit<br>index=%{x}<br>value=%{y}<extra></extra>",
         "legendgroup": "Actual_Operating_Profit",
         "line": {
          "color": "#ab63fa",
          "dash": "solid"
         },
         "marker": {
          "symbol": "circle"
         },
         "mode": "lines",
         "name": "Actual_Operating_Profit",
         "orientation": "v",
         "showlegend": true,
         "type": "scatter",
         "x": [
          "2020:Q1",
          "2020:Q2_3",
          "2020:Q3_2",
          "2020:Q4",
          "2021:Q2",
          "2021:Q4_2"
         ],
         "xaxis": "x",
         "y": [
          883774.16,
          307046.16,
          1042648.29,
          582342.96,
          2644237.72,
          3101992.6900000004
         ],
         "yaxis": "y"
        }
       ],
       "layout": {
        "legend": {
         "title": {
          "text": "variable"
         },
         "tracegroupgap": 0
        },
        "template": {
         "data": {
          "bar": [
           {
            "error_x": {
             "color": "#2a3f5f"
            },
            "error_y": {
             "color": "#2a3f5f"
            },
            "marker": {
             "line": {
              "color": "#E5ECF6",
              "width": 0.5
             },
             "pattern": {
              "fillmode": "overlay",
              "size": 10,
              "solidity": 0.2
             }
            },
            "type": "bar"
           }
          ],
          "barpolar": [
           {
            "marker": {
             "line": {
              "color": "#E5ECF6",
              "width": 0.5
             },
             "pattern": {
              "fillmode": "overlay",
              "size": 10,
              "solidity": 0.2
             }
            },
            "type": "barpolar"
           }
          ],
          "carpet": [
           {
            "aaxis": {
             "endlinecolor": "#2a3f5f",
             "gridcolor": "white",
             "linecolor": "white",
             "minorgridcolor": "white",
             "startlinecolor": "#2a3f5f"
            },
            "baxis": {
             "endlinecolor": "#2a3f5f",
             "gridcolor": "white",
             "linecolor": "white",
             "minorgridcolor": "white",
             "startlinecolor": "#2a3f5f"
            },
            "type": "carpet"
           }
          ],
          "choropleth": [
           {
            "colorbar": {
             "outlinewidth": 0,
             "ticks": ""
            },
            "type": "choropleth"
           }
          ],
          "contour": [
           {
            "colorbar": {
             "outlinewidth": 0,
             "ticks": ""
            },
            "colorscale": [
             [
              0,
              "#0d0887"
             ],
             [
              0.1111111111111111,
              "#46039f"
             ],
             [
              0.2222222222222222,
              "#7201a8"
             ],
             [
              0.3333333333333333,
              "#9c179e"
             ],
             [
              0.4444444444444444,
              "#bd3786"
             ],
             [
              0.5555555555555556,
              "#d8576b"
             ],
             [
              0.6666666666666666,
              "#ed7953"
             ],
             [
              0.7777777777777778,
              "#fb9f3a"
             ],
             [
              0.8888888888888888,
              "#fdca26"
             ],
             [
              1,
              "#f0f921"
             ]
            ],
            "type": "contour"
           }
          ],
          "contourcarpet": [
           {
            "colorbar": {
             "outlinewidth": 0,
             "ticks": ""
            },
            "type": "contourcarpet"
           }
          ],
          "heatmap": [
           {
            "colorbar": {
             "outlinewidth": 0,
             "ticks": ""
            },
            "colorscale": [
             [
              0,
              "#0d0887"
             ],
             [
              0.1111111111111111,
              "#46039f"
             ],
             [
              0.2222222222222222,
              "#7201a8"
             ],
             [
              0.3333333333333333,
              "#9c179e"
             ],
             [
              0.4444444444444444,
              "#bd3786"
             ],
             [
              0.5555555555555556,
              "#d8576b"
             ],
             [
              0.6666666666666666,
              "#ed7953"
             ],
             [
              0.7777777777777778,
              "#fb9f3a"
             ],
             [
              0.8888888888888888,
              "#fdca26"
             ],
             [
              1,
              "#f0f921"
             ]
            ],
            "type": "heatmap"
           }
          ],
          "heatmapgl": [
           {
            "colorbar": {
             "outlinewidth": 0,
             "ticks": ""
            },
            "colorscale": [
             [
              0,
              "#0d0887"
             ],
             [
              0.1111111111111111,
              "#46039f"
             ],
             [
              0.2222222222222222,
              "#7201a8"
             ],
             [
              0.3333333333333333,
              "#9c179e"
             ],
             [
              0.4444444444444444,
              "#bd3786"
             ],
             [
              0.5555555555555556,
              "#d8576b"
             ],
             [
              0.6666666666666666,
              "#ed7953"
             ],
             [
              0.7777777777777778,
              "#fb9f3a"
             ],
             [
              0.8888888888888888,
              "#fdca26"
             ],
             [
              1,
              "#f0f921"
             ]
            ],
            "type": "heatmapgl"
           }
          ],
          "histogram": [
           {
            "marker": {
             "pattern": {
              "fillmode": "overlay",
              "size": 10,
              "solidity": 0.2
             }
            },
            "type": "histogram"
           }
          ],
          "histogram2d": [
           {
            "colorbar": {
             "outlinewidth": 0,
             "ticks": ""
            },
            "colorscale": [
             [
              0,
              "#0d0887"
             ],
             [
              0.1111111111111111,
              "#46039f"
             ],
             [
              0.2222222222222222,
              "#7201a8"
             ],
             [
              0.3333333333333333,
              "#9c179e"
             ],
             [
              0.4444444444444444,
              "#bd3786"
             ],
             [
              0.5555555555555556,
              "#d8576b"
             ],
             [
              0.6666666666666666,
              "#ed7953"
             ],
             [
              0.7777777777777778,
              "#fb9f3a"
             ],
             [
              0.8888888888888888,
              "#fdca26"
             ],
             [
              1,
              "#f0f921"
             ]
            ],
            "type": "histogram2d"
           }
          ],
          "histogram2dcontour": [
           {
            "colorbar": {
             "outlinewidth": 0,
             "ticks": ""
            },
            "colorscale": [
             [
              0,
              "#0d0887"
             ],
             [
              0.1111111111111111,
              "#46039f"
             ],
             [
              0.2222222222222222,
              "#7201a8"
             ],
             [
              0.3333333333333333,
              "#9c179e"
             ],
             [
              0.4444444444444444,
              "#bd3786"
             ],
             [
              0.5555555555555556,
              "#d8576b"
             ],
             [
              0.6666666666666666,
              "#ed7953"
             ],
             [
              0.7777777777777778,
              "#fb9f3a"
             ],
             [
              0.8888888888888888,
              "#fdca26"
             ],
             [
              1,
              "#f0f921"
             ]
            ],
            "type": "histogram2dcontour"
           }
          ],
          "mesh3d": [
           {
            "colorbar": {
             "outlinewidth": 0,
             "ticks": ""
            },
            "type": "mesh3d"
           }
          ],
          "parcoords": [
           {
            "line": {
             "colorbar": {
              "outlinewidth": 0,
              "ticks": ""
             }
            },
            "type": "parcoords"
           }
          ],
          "pie": [
           {
            "automargin": true,
            "type": "pie"
           }
          ],
          "scatter": [
           {
            "fillpattern": {
             "fillmode": "overlay",
             "size": 10,
             "solidity": 0.2
            },
            "type": "scatter"
           }
          ],
          "scatter3d": [
           {
            "line": {
             "colorbar": {
              "outlinewidth": 0,
              "ticks": ""
             }
            },
            "marker": {
             "colorbar": {
              "outlinewidth": 0,
              "ticks": ""
             }
            },
            "type": "scatter3d"
           }
          ],
          "scattercarpet": [
           {
            "marker": {
             "colorbar": {
              "outlinewidth": 0,
              "ticks": ""
             }
            },
            "type": "scattercarpet"
           }
          ],
          "scattergeo": [
           {
            "marker": {
             "colorbar": {
              "outlinewidth": 0,
              "ticks": ""
             }
            },
            "type": "scattergeo"
           }
          ],
          "scattergl": [
           {
            "marker": {
             "colorbar": {
              "outlinewidth": 0,
              "ticks": ""
             }
            },
            "type": "scattergl"
           }
          ],
          "scattermapbox": [
           {
            "marker": {
             "colorbar": {
              "outlinewidth": 0,
              "ticks": ""
             }
            },
            "type": "scattermapbox"
           }
          ],
          "scatterpolar": [
           {
            "marker": {
             "colorbar": {
              "outlinewidth": 0,
              "ticks": ""
             }
            },
            "type": "scatterpolar"
           }
          ],
          "scatterpolargl": [
           {
            "marker": {
             "colorbar": {
              "outlinewidth": 0,
              "ticks": ""
             }
            },
            "type": "scatterpolargl"
           }
          ],
          "scatterternary": [
           {
            "marker": {
             "colorbar": {
              "outlinewidth": 0,
              "ticks": ""
             }
            },
            "type": "scatterternary"
           }
          ],
          "surface": [
           {
            "colorbar": {
             "outlinewidth": 0,
             "ticks": ""
            },
            "colorscale": [
             [
              0,
              "#0d0887"
             ],
             [
              0.1111111111111111,
              "#46039f"
             ],
             [
              0.2222222222222222,
              "#7201a8"
             ],
             [
              0.3333333333333333,
              "#9c179e"
             ],
             [
              0.4444444444444444,
              "#bd3786"
             ],
             [
              0.5555555555555556,
              "#d8576b"
             ],
             [
              0.6666666666666666,
              "#ed7953"
             ],
             [
              0.7777777777777778,
              "#fb9f3a"
             ],
             [
              0.8888888888888888,
              "#fdca26"
             ],
             [
              1,
              "#f0f921"
             ]
            ],
            "type": "surface"
           }
          ],
          "table": [
           {
            "cells": {
             "fill": {
              "color": "#EBF0F8"
             },
             "line": {
              "color": "white"
             }
            },
            "header": {
             "fill": {
              "color": "#C8D4E3"
             },
             "line": {
              "color": "white"
             }
            },
            "type": "table"
           }
          ]
         },
         "layout": {
          "annotationdefaults": {
           "arrowcolor": "#2a3f5f",
           "arrowhead": 0,
           "arrowwidth": 1
          },
          "autotypenumbers": "strict",
          "coloraxis": {
           "colorbar": {
            "outlinewidth": 0,
            "ticks": ""
           }
          },
          "colorscale": {
           "diverging": [
            [
             0,
             "#8e0152"
            ],
            [
             0.1,
             "#c51b7d"
            ],
            [
             0.2,
             "#de77ae"
            ],
            [
             0.3,
             "#f1b6da"
            ],
            [
             0.4,
             "#fde0ef"
            ],
            [
             0.5,
             "#f7f7f7"
            ],
            [
             0.6,
             "#e6f5d0"
            ],
            [
             0.7,
             "#b8e186"
            ],
            [
             0.8,
             "#7fbc41"
            ],
            [
             0.9,
             "#4d9221"
            ],
            [
             1,
             "#276419"
            ]
           ],
           "sequential": [
            [
             0,
             "#0d0887"
            ],
            [
             0.1111111111111111,
             "#46039f"
            ],
            [
             0.2222222222222222,
             "#7201a8"
            ],
            [
             0.3333333333333333,
             "#9c179e"
            ],
            [
             0.4444444444444444,
             "#bd3786"
            ],
            [
             0.5555555555555556,
             "#d8576b"
            ],
            [
             0.6666666666666666,
             "#ed7953"
            ],
            [
             0.7777777777777778,
             "#fb9f3a"
            ],
            [
             0.8888888888888888,
             "#fdca26"
            ],
            [
             1,
             "#f0f921"
            ]
           ],
           "sequentialminus": [
            [
             0,
             "#0d0887"
            ],
            [
             0.1111111111111111,
             "#46039f"
            ],
            [
             0.2222222222222222,
             "#7201a8"
            ],
            [
             0.3333333333333333,
             "#9c179e"
            ],
            [
             0.4444444444444444,
             "#bd3786"
            ],
            [
             0.5555555555555556,
             "#d8576b"
            ],
            [
             0.6666666666666666,
             "#ed7953"
            ],
            [
             0.7777777777777778,
             "#fb9f3a"
            ],
            [
             0.8888888888888888,
             "#fdca26"
            ],
            [
             1,
             "#f0f921"
            ]
           ]
          },
          "colorway": [
           "#636efa",
           "#EF553B",
           "#00cc96",
           "#ab63fa",
           "#FFA15A",
           "#19d3f3",
           "#FF6692",
           "#B6E880",
           "#FF97FF",
           "#FECB52"
          ],
          "font": {
           "color": "#2a3f5f"
          },
          "geo": {
           "bgcolor": "white",
           "lakecolor": "white",
           "landcolor": "#E5ECF6",
           "showlakes": true,
           "showland": true,
           "subunitcolor": "white"
          },
          "hoverlabel": {
           "align": "left"
          },
          "hovermode": "closest",
          "mapbox": {
           "style": "light"
          },
          "paper_bgcolor": "white",
          "plot_bgcolor": "#E5ECF6",
          "polar": {
           "angularaxis": {
            "gridcolor": "white",
            "linecolor": "white",
            "ticks": ""
           },
           "bgcolor": "#E5ECF6",
           "radialaxis": {
            "gridcolor": "white",
            "linecolor": "white",
            "ticks": ""
           }
          },
          "scene": {
           "xaxis": {
            "backgroundcolor": "#E5ECF6",
            "gridcolor": "white",
            "gridwidth": 2,
            "linecolor": "white",
            "showbackground": true,
            "ticks": "",
            "zerolinecolor": "white"
           },
           "yaxis": {
            "backgroundcolor": "#E5ECF6",
            "gridcolor": "white",
            "gridwidth": 2,
            "linecolor": "white",
            "showbackground": true,
            "ticks": "",
            "zerolinecolor": "white"
           },
           "zaxis": {
            "backgroundcolor": "#E5ECF6",
            "gridcolor": "white",
            "gridwidth": 2,
            "linecolor": "white",
            "showbackground": true,
            "ticks": "",
            "zerolinecolor": "white"
           }
          },
          "shapedefaults": {
           "line": {
            "color": "#2a3f5f"
           }
          },
          "ternary": {
           "aaxis": {
            "gridcolor": "white",
            "linecolor": "white",
            "ticks": ""
           },
           "baxis": {
            "gridcolor": "white",
            "linecolor": "white",
            "ticks": ""
           },
           "bgcolor": "#E5ECF6",
           "caxis": {
            "gridcolor": "white",
            "linecolor": "white",
            "ticks": ""
           }
          },
          "title": {
           "x": 0.05
          },
          "xaxis": {
           "automargin": true,
           "gridcolor": "white",
           "linecolor": "white",
           "ticks": "",
           "title": {
            "standoff": 15
           },
           "zerolinecolor": "white",
           "zerolinewidth": 2
          },
          "yaxis": {
           "automargin": true,
           "gridcolor": "white",
           "linecolor": "white",
           "ticks": "",
           "title": {
            "standoff": 15
           },
           "zerolinecolor": "white",
           "zerolinewidth": 2
          }
         }
        },
        "title": {
         "text": "Optimized Random Forest Regressor: Total Sales & Operating Profit Predictions vs. Actual Values (Monthly Data)"
        },
        "xaxis": {
         "anchor": "y",
         "domain": [
          0,
          1
         ],
         "title": {
          "text": "index"
         }
        },
        "yaxis": {
         "anchor": "x",
         "domain": [
          0,
          1
         ],
         "title": {
          "text": "value"
         }
        }
       }
      }
     },
     "metadata": {},
     "output_type": "display_data"
    }
   ],
   "source": [
    "#Plot the predictions vs. the actual values\n",
    "px.line(opt_rfr_df, x=opt_rfr_df.index, y=['Predicted_Total_Sales', 'Actual_Total_Sales', 'Predicted_Operating_Profit', 'Actual_Operating_Profit'], \n",
    "        title='Optimized Random Forest Regressor: Total Sales & Operating Profit Predictions vs. Actual Values (Monthly Data)')"
   ]
  },
  {
   "cell_type": "code",
   "execution_count": 231,
   "metadata": {},
   "outputs": [],
   "source": [
    "#Make predictions using the testing data\n",
    "opt_rfr_predictions_future = opt_rfr.predict(X_pred)"
   ]
  },
  {
   "cell_type": "code",
   "execution_count": 232,
   "metadata": {},
   "outputs": [
    {
     "data": {
      "application/vnd.plotly.v1+json": {
       "config": {
        "plotlyServerURL": "https://plot.ly"
       },
       "data": [
        {
         "hovertemplate": "variable=Total_sales<br>index=%{x}<br>value=%{y}<extra></extra>",
         "legendgroup": "Total_sales",
         "line": {
          "color": "#636efa",
          "dash": "solid"
         },
         "marker": {
          "symbol": "circle"
         },
         "mode": "lines",
         "name": "Total_sales",
         "orientation": "v",
         "showlegend": true,
         "type": "scatter",
         "x": [
          "2020:Q1",
          "2020:Q1_2",
          "2020:Q1_3",
          "2020:Q2",
          "2020:Q2_2",
          "2020:Q2_3",
          "2020:Q3",
          "2020:Q3_2",
          "2020:Q3_3",
          "2020:Q4",
          "2020:Q4_2",
          "2020:Q4_3",
          "2021:Q1",
          "2021:Q1_2",
          "2021:Q1_3",
          "2021:Q2",
          "2021:Q2_2",
          "2021:Q2_3",
          "2021:Q3",
          "2021:Q3_2",
          "2021:Q3_3",
          "2021:Q4",
          "2021:Q4_2",
          "2021:Q4_3",
          "2022:Q1",
          "2022:Q1_2",
          "2022:Q1_3",
          "2022:Q2",
          "2022:Q2_2",
          "2022:Q2_3",
          "2022:Q3",
          "2022:Q3_2",
          "2022:Q3_3"
         ],
         "xaxis": "x",
         "y": [
          2312746,
          2140813,
          2474202,
          3193081,
          2164764,
          1084194,
          2182388,
          2641630,
          2367686,
          1428569,
          1168050,
          1079202,
          7432021,
          6117693,
          5220782,
          6498339,
          8576956,
          8718953,
          10368031,
          9651596,
          8037898.000000001,
          7110189,
          7855390.000000001,
          10336130,
          null,
          null,
          null,
          null,
          null,
          null,
          null,
          null,
          null
         ],
         "yaxis": "y"
        },
        {
         "hovertemplate": "variable=Operating_profit<br>index=%{x}<br>value=%{y}<extra></extra>",
         "legendgroup": "Operating_profit",
         "line": {
          "color": "#EF553B",
          "dash": "solid"
         },
         "marker": {
          "symbol": "circle"
         },
         "mode": "lines",
         "name": "Operating_profit",
         "orientation": "v",
         "showlegend": true,
         "type": "scatter",
         "x": [
          "2020:Q1",
          "2020:Q1_2",
          "2020:Q1_3",
          "2020:Q2",
          "2020:Q2_2",
          "2020:Q2_3",
          "2020:Q3",
          "2020:Q3_2",
          "2020:Q3_3",
          "2020:Q4",
          "2020:Q4_2",
          "2020:Q4_3",
          "2021:Q1",
          "2021:Q1_2",
          "2021:Q1_3",
          "2021:Q2",
          "2021:Q2_2",
          "2021:Q2_3",
          "2021:Q3",
          "2021:Q3_2",
          "2021:Q3_3",
          "2021:Q4",
          "2021:Q4_2",
          "2021:Q4_3",
          "2022:Q1",
          "2022:Q1_2",
          "2022:Q1_3",
          "2022:Q2",
          "2022:Q2_2",
          "2022:Q2_3",
          "2022:Q3",
          "2022:Q3_2",
          "2022:Q3_3"
         ],
         "xaxis": "x",
         "y": [
          883774.16,
          796848.1900000001,
          879268.76,
          1275442.09,
          800635.7000000001,
          307046.16,
          681477.61,
          1042648.29,
          975908.6900000001,
          582342.96,
          402807.49000000005,
          387304.98,
          2766160.35,
          2280635.0700000003,
          2067129.24,
          2644237.72,
          3456570.88,
          3429736.0100000002,
          4098805.98,
          3852859.5100000002,
          3443571.79,
          2987755.39,
          3101992.6900000004,
          4078123.3000000003,
          null,
          null,
          null,
          null,
          null,
          null,
          null,
          null,
          null
         ],
         "yaxis": "y"
        },
        {
         "mode": "lines",
         "name": "Total Sales Predictions",
         "type": "scatter",
         "x": [
          "2022:Q1",
          "2022:Q1_2",
          "2022:Q1_3",
          "2022:Q2",
          "2022:Q2_2",
          "2022:Q2_3",
          "2022:Q3",
          "2022:Q3_2",
          "2022:Q3_3"
         ],
         "y": [
          8604739.160999998,
          8604739.160999998,
          8604739.160999998,
          8604739.160999998,
          8604739.160999998,
          8604739.160999998,
          7966856.3786666645,
          7966856.3786666645,
          7966856.3786666645
         ]
        },
        {
         "mode": "lines",
         "name": "Operating Profit Predictions",
         "type": "scatter",
         "x": [
          "2022:Q1",
          "2022:Q1_2",
          "2022:Q1_3",
          "2022:Q2",
          "2022:Q2_2",
          "2022:Q2_3",
          "2022:Q3",
          "2022:Q3_2",
          "2022:Q3_3"
         ],
         "y": [
          3490633.226259047,
          3490633.226259047,
          3490633.226259047,
          3490633.226259047,
          3490633.226259047,
          3490633.226259047,
          3201821.2088990468,
          3201821.2088990468,
          3201821.2088990468
         ]
        }
       ],
       "layout": {
        "legend": {
         "title": {
          "text": "variable"
         },
         "tracegroupgap": 0
        },
        "template": {
         "data": {
          "bar": [
           {
            "error_x": {
             "color": "#2a3f5f"
            },
            "error_y": {
             "color": "#2a3f5f"
            },
            "marker": {
             "line": {
              "color": "#E5ECF6",
              "width": 0.5
             },
             "pattern": {
              "fillmode": "overlay",
              "size": 10,
              "solidity": 0.2
             }
            },
            "type": "bar"
           }
          ],
          "barpolar": [
           {
            "marker": {
             "line": {
              "color": "#E5ECF6",
              "width": 0.5
             },
             "pattern": {
              "fillmode": "overlay",
              "size": 10,
              "solidity": 0.2
             }
            },
            "type": "barpolar"
           }
          ],
          "carpet": [
           {
            "aaxis": {
             "endlinecolor": "#2a3f5f",
             "gridcolor": "white",
             "linecolor": "white",
             "minorgridcolor": "white",
             "startlinecolor": "#2a3f5f"
            },
            "baxis": {
             "endlinecolor": "#2a3f5f",
             "gridcolor": "white",
             "linecolor": "white",
             "minorgridcolor": "white",
             "startlinecolor": "#2a3f5f"
            },
            "type": "carpet"
           }
          ],
          "choropleth": [
           {
            "colorbar": {
             "outlinewidth": 0,
             "ticks": ""
            },
            "type": "choropleth"
           }
          ],
          "contour": [
           {
            "colorbar": {
             "outlinewidth": 0,
             "ticks": ""
            },
            "colorscale": [
             [
              0,
              "#0d0887"
             ],
             [
              0.1111111111111111,
              "#46039f"
             ],
             [
              0.2222222222222222,
              "#7201a8"
             ],
             [
              0.3333333333333333,
              "#9c179e"
             ],
             [
              0.4444444444444444,
              "#bd3786"
             ],
             [
              0.5555555555555556,
              "#d8576b"
             ],
             [
              0.6666666666666666,
              "#ed7953"
             ],
             [
              0.7777777777777778,
              "#fb9f3a"
             ],
             [
              0.8888888888888888,
              "#fdca26"
             ],
             [
              1,
              "#f0f921"
             ]
            ],
            "type": "contour"
           }
          ],
          "contourcarpet": [
           {
            "colorbar": {
             "outlinewidth": 0,
             "ticks": ""
            },
            "type": "contourcarpet"
           }
          ],
          "heatmap": [
           {
            "colorbar": {
             "outlinewidth": 0,
             "ticks": ""
            },
            "colorscale": [
             [
              0,
              "#0d0887"
             ],
             [
              0.1111111111111111,
              "#46039f"
             ],
             [
              0.2222222222222222,
              "#7201a8"
             ],
             [
              0.3333333333333333,
              "#9c179e"
             ],
             [
              0.4444444444444444,
              "#bd3786"
             ],
             [
              0.5555555555555556,
              "#d8576b"
             ],
             [
              0.6666666666666666,
              "#ed7953"
             ],
             [
              0.7777777777777778,
              "#fb9f3a"
             ],
             [
              0.8888888888888888,
              "#fdca26"
             ],
             [
              1,
              "#f0f921"
             ]
            ],
            "type": "heatmap"
           }
          ],
          "heatmapgl": [
           {
            "colorbar": {
             "outlinewidth": 0,
             "ticks": ""
            },
            "colorscale": [
             [
              0,
              "#0d0887"
             ],
             [
              0.1111111111111111,
              "#46039f"
             ],
             [
              0.2222222222222222,
              "#7201a8"
             ],
             [
              0.3333333333333333,
              "#9c179e"
             ],
             [
              0.4444444444444444,
              "#bd3786"
             ],
             [
              0.5555555555555556,
              "#d8576b"
             ],
             [
              0.6666666666666666,
              "#ed7953"
             ],
             [
              0.7777777777777778,
              "#fb9f3a"
             ],
             [
              0.8888888888888888,
              "#fdca26"
             ],
             [
              1,
              "#f0f921"
             ]
            ],
            "type": "heatmapgl"
           }
          ],
          "histogram": [
           {
            "marker": {
             "pattern": {
              "fillmode": "overlay",
              "size": 10,
              "solidity": 0.2
             }
            },
            "type": "histogram"
           }
          ],
          "histogram2d": [
           {
            "colorbar": {
             "outlinewidth": 0,
             "ticks": ""
            },
            "colorscale": [
             [
              0,
              "#0d0887"
             ],
             [
              0.1111111111111111,
              "#46039f"
             ],
             [
              0.2222222222222222,
              "#7201a8"
             ],
             [
              0.3333333333333333,
              "#9c179e"
             ],
             [
              0.4444444444444444,
              "#bd3786"
             ],
             [
              0.5555555555555556,
              "#d8576b"
             ],
             [
              0.6666666666666666,
              "#ed7953"
             ],
             [
              0.7777777777777778,
              "#fb9f3a"
             ],
             [
              0.8888888888888888,
              "#fdca26"
             ],
             [
              1,
              "#f0f921"
             ]
            ],
            "type": "histogram2d"
           }
          ],
          "histogram2dcontour": [
           {
            "colorbar": {
             "outlinewidth": 0,
             "ticks": ""
            },
            "colorscale": [
             [
              0,
              "#0d0887"
             ],
             [
              0.1111111111111111,
              "#46039f"
             ],
             [
              0.2222222222222222,
              "#7201a8"
             ],
             [
              0.3333333333333333,
              "#9c179e"
             ],
             [
              0.4444444444444444,
              "#bd3786"
             ],
             [
              0.5555555555555556,
              "#d8576b"
             ],
             [
              0.6666666666666666,
              "#ed7953"
             ],
             [
              0.7777777777777778,
              "#fb9f3a"
             ],
             [
              0.8888888888888888,
              "#fdca26"
             ],
             [
              1,
              "#f0f921"
             ]
            ],
            "type": "histogram2dcontour"
           }
          ],
          "mesh3d": [
           {
            "colorbar": {
             "outlinewidth": 0,
             "ticks": ""
            },
            "type": "mesh3d"
           }
          ],
          "parcoords": [
           {
            "line": {
             "colorbar": {
              "outlinewidth": 0,
              "ticks": ""
             }
            },
            "type": "parcoords"
           }
          ],
          "pie": [
           {
            "automargin": true,
            "type": "pie"
           }
          ],
          "scatter": [
           {
            "fillpattern": {
             "fillmode": "overlay",
             "size": 10,
             "solidity": 0.2
            },
            "type": "scatter"
           }
          ],
          "scatter3d": [
           {
            "line": {
             "colorbar": {
              "outlinewidth": 0,
              "ticks": ""
             }
            },
            "marker": {
             "colorbar": {
              "outlinewidth": 0,
              "ticks": ""
             }
            },
            "type": "scatter3d"
           }
          ],
          "scattercarpet": [
           {
            "marker": {
             "colorbar": {
              "outlinewidth": 0,
              "ticks": ""
             }
            },
            "type": "scattercarpet"
           }
          ],
          "scattergeo": [
           {
            "marker": {
             "colorbar": {
              "outlinewidth": 0,
              "ticks": ""
             }
            },
            "type": "scattergeo"
           }
          ],
          "scattergl": [
           {
            "marker": {
             "colorbar": {
              "outlinewidth": 0,
              "ticks": ""
             }
            },
            "type": "scattergl"
           }
          ],
          "scattermapbox": [
           {
            "marker": {
             "colorbar": {
              "outlinewidth": 0,
              "ticks": ""
             }
            },
            "type": "scattermapbox"
           }
          ],
          "scatterpolar": [
           {
            "marker": {
             "colorbar": {
              "outlinewidth": 0,
              "ticks": ""
             }
            },
            "type": "scatterpolar"
           }
          ],
          "scatterpolargl": [
           {
            "marker": {
             "colorbar": {
              "outlinewidth": 0,
              "ticks": ""
             }
            },
            "type": "scatterpolargl"
           }
          ],
          "scatterternary": [
           {
            "marker": {
             "colorbar": {
              "outlinewidth": 0,
              "ticks": ""
             }
            },
            "type": "scatterternary"
           }
          ],
          "surface": [
           {
            "colorbar": {
             "outlinewidth": 0,
             "ticks": ""
            },
            "colorscale": [
             [
              0,
              "#0d0887"
             ],
             [
              0.1111111111111111,
              "#46039f"
             ],
             [
              0.2222222222222222,
              "#7201a8"
             ],
             [
              0.3333333333333333,
              "#9c179e"
             ],
             [
              0.4444444444444444,
              "#bd3786"
             ],
             [
              0.5555555555555556,
              "#d8576b"
             ],
             [
              0.6666666666666666,
              "#ed7953"
             ],
             [
              0.7777777777777778,
              "#fb9f3a"
             ],
             [
              0.8888888888888888,
              "#fdca26"
             ],
             [
              1,
              "#f0f921"
             ]
            ],
            "type": "surface"
           }
          ],
          "table": [
           {
            "cells": {
             "fill": {
              "color": "#EBF0F8"
             },
             "line": {
              "color": "white"
             }
            },
            "header": {
             "fill": {
              "color": "#C8D4E3"
             },
             "line": {
              "color": "white"
             }
            },
            "type": "table"
           }
          ]
         },
         "layout": {
          "annotationdefaults": {
           "arrowcolor": "#2a3f5f",
           "arrowhead": 0,
           "arrowwidth": 1
          },
          "autotypenumbers": "strict",
          "coloraxis": {
           "colorbar": {
            "outlinewidth": 0,
            "ticks": ""
           }
          },
          "colorscale": {
           "diverging": [
            [
             0,
             "#8e0152"
            ],
            [
             0.1,
             "#c51b7d"
            ],
            [
             0.2,
             "#de77ae"
            ],
            [
             0.3,
             "#f1b6da"
            ],
            [
             0.4,
             "#fde0ef"
            ],
            [
             0.5,
             "#f7f7f7"
            ],
            [
             0.6,
             "#e6f5d0"
            ],
            [
             0.7,
             "#b8e186"
            ],
            [
             0.8,
             "#7fbc41"
            ],
            [
             0.9,
             "#4d9221"
            ],
            [
             1,
             "#276419"
            ]
           ],
           "sequential": [
            [
             0,
             "#0d0887"
            ],
            [
             0.1111111111111111,
             "#46039f"
            ],
            [
             0.2222222222222222,
             "#7201a8"
            ],
            [
             0.3333333333333333,
             "#9c179e"
            ],
            [
             0.4444444444444444,
             "#bd3786"
            ],
            [
             0.5555555555555556,
             "#d8576b"
            ],
            [
             0.6666666666666666,
             "#ed7953"
            ],
            [
             0.7777777777777778,
             "#fb9f3a"
            ],
            [
             0.8888888888888888,
             "#fdca26"
            ],
            [
             1,
             "#f0f921"
            ]
           ],
           "sequentialminus": [
            [
             0,
             "#0d0887"
            ],
            [
             0.1111111111111111,
             "#46039f"
            ],
            [
             0.2222222222222222,
             "#7201a8"
            ],
            [
             0.3333333333333333,
             "#9c179e"
            ],
            [
             0.4444444444444444,
             "#bd3786"
            ],
            [
             0.5555555555555556,
             "#d8576b"
            ],
            [
             0.6666666666666666,
             "#ed7953"
            ],
            [
             0.7777777777777778,
             "#fb9f3a"
            ],
            [
             0.8888888888888888,
             "#fdca26"
            ],
            [
             1,
             "#f0f921"
            ]
           ]
          },
          "colorway": [
           "#636efa",
           "#EF553B",
           "#00cc96",
           "#ab63fa",
           "#FFA15A",
           "#19d3f3",
           "#FF6692",
           "#B6E880",
           "#FF97FF",
           "#FECB52"
          ],
          "font": {
           "color": "#2a3f5f"
          },
          "geo": {
           "bgcolor": "white",
           "lakecolor": "white",
           "landcolor": "#E5ECF6",
           "showlakes": true,
           "showland": true,
           "subunitcolor": "white"
          },
          "hoverlabel": {
           "align": "left"
          },
          "hovermode": "closest",
          "mapbox": {
           "style": "light"
          },
          "paper_bgcolor": "white",
          "plot_bgcolor": "#E5ECF6",
          "polar": {
           "angularaxis": {
            "gridcolor": "white",
            "linecolor": "white",
            "ticks": ""
           },
           "bgcolor": "#E5ECF6",
           "radialaxis": {
            "gridcolor": "white",
            "linecolor": "white",
            "ticks": ""
           }
          },
          "scene": {
           "xaxis": {
            "backgroundcolor": "#E5ECF6",
            "gridcolor": "white",
            "gridwidth": 2,
            "linecolor": "white",
            "showbackground": true,
            "ticks": "",
            "zerolinecolor": "white"
           },
           "yaxis": {
            "backgroundcolor": "#E5ECF6",
            "gridcolor": "white",
            "gridwidth": 2,
            "linecolor": "white",
            "showbackground": true,
            "ticks": "",
            "zerolinecolor": "white"
           },
           "zaxis": {
            "backgroundcolor": "#E5ECF6",
            "gridcolor": "white",
            "gridwidth": 2,
            "linecolor": "white",
            "showbackground": true,
            "ticks": "",
            "zerolinecolor": "white"
           }
          },
          "shapedefaults": {
           "line": {
            "color": "#2a3f5f"
           }
          },
          "ternary": {
           "aaxis": {
            "gridcolor": "white",
            "linecolor": "white",
            "ticks": ""
           },
           "baxis": {
            "gridcolor": "white",
            "linecolor": "white",
            "ticks": ""
           },
           "bgcolor": "#E5ECF6",
           "caxis": {
            "gridcolor": "white",
            "linecolor": "white",
            "ticks": ""
           }
          },
          "title": {
           "x": 0.05
          },
          "xaxis": {
           "automargin": true,
           "gridcolor": "white",
           "linecolor": "white",
           "ticks": "",
           "title": {
            "standoff": 15
           },
           "zerolinecolor": "white",
           "zerolinewidth": 2
          },
          "yaxis": {
           "automargin": true,
           "gridcolor": "white",
           "linecolor": "white",
           "ticks": "",
           "title": {
            "standoff": 15
           },
           "zerolinecolor": "white",
           "zerolinewidth": 2
          }
         }
        },
        "title": {
         "text": "Actual Sales With Predicted Sales"
        },
        "xaxis": {
         "anchor": "y",
         "domain": [
          0,
          1
         ],
         "title": {
          "text": "index"
         }
        },
        "yaxis": {
         "anchor": "x",
         "domain": [
          0,
          1
         ],
         "title": {
          "text": "value"
         }
        }
       }
      }
     },
     "metadata": {},
     "output_type": "display_data"
    }
   ],
   "source": [
    "#Plot total_sales_monthly and opt_rfr_predictions_future\n",
    "px.line(monthly_merged_df, x=monthly_merged_df.index, y=['Total_sales', 'Operating_profit'], title='Actual Sales With Predicted Sales')\\\n",
    "    .add_scatter(x=monthly_merged_df.iloc[-9:].index, y=opt_rfr_predictions_future[:, 0], mode='lines', name='Total Sales Predictions')\\\n",
    "    .add_scatter(x=monthly_merged_df.iloc[-9:].index, y=opt_rfr_predictions_future[:, 1], mode='lines', name='Operating Profit Predictions')"
   ]
  },
  {
   "attachments": {},
   "cell_type": "markdown",
   "metadata": {},
   "source": [
    "## Support Vector Regression"
   ]
  },
  {
   "cell_type": "code",
   "execution_count": 236,
   "metadata": {},
   "outputs": [],
   "source": [
    "#Create model\n",
    "svr = SVR(kernel='linear', C=100, gamma=0.1, epsilon=.1)\n",
    "\n",
    "#Fit model to training data. SVR only accepts 1D arrays, so we need to drop the Operating_profit column\n",
    "svr.fit(X_train, y_train.drop('Operating_profit', axis=1).values.ravel())\n",
    "\n",
    "#Make predictions using the testing data\n",
    "svr_predictions = svr.predict(X_test)"
   ]
  },
  {
   "cell_type": "code",
   "execution_count": 243,
   "metadata": {},
   "outputs": [
    {
     "name": "stdout",
     "output_type": "stream",
     "text": [
      "Random Forest Regressor MSE: 10815879846761.916\n",
      "Random Forest Regressor RMSE: 3288750.499317623\n"
     ]
    }
   ],
   "source": [
    "#Calculate the mean squared error and root mean squared error as performance metrics\n",
    "svr_mse = mean_squared_error(y_test.drop('Operating_profit', axis=1).values.ravel(), svr_predictions)\n",
    "svr_rmse = svr_mse**.5\n",
    "\n",
    "print(f'Random Forest Regressor MSE: {svr_mse}')\n",
    "print(f'Random Forest Regressor RMSE: {svr_rmse}')"
   ]
  },
  {
   "cell_type": "code",
   "execution_count": 239,
   "metadata": {},
   "outputs": [
    {
     "data": {
      "text/html": [
       "<div>\n",
       "<style scoped>\n",
       "    .dataframe tbody tr th:only-of-type {\n",
       "        vertical-align: middle;\n",
       "    }\n",
       "\n",
       "    .dataframe tbody tr th {\n",
       "        vertical-align: top;\n",
       "    }\n",
       "\n",
       "    .dataframe thead th {\n",
       "        text-align: right;\n",
       "    }\n",
       "</style>\n",
       "<table border=\"1\" class=\"dataframe\">\n",
       "  <thead>\n",
       "    <tr style=\"text-align: right;\">\n",
       "      <th></th>\n",
       "      <th>Predicted_Total_Sales</th>\n",
       "      <th>Actual_Total_Sales</th>\n",
       "    </tr>\n",
       "  </thead>\n",
       "  <tbody>\n",
       "    <tr>\n",
       "      <th>2020:Q1</th>\n",
       "      <td>5668937.5</td>\n",
       "      <td>2312746.0</td>\n",
       "    </tr>\n",
       "    <tr>\n",
       "      <th>2020:Q2_3</th>\n",
       "      <td>5668937.5</td>\n",
       "      <td>1084194.0</td>\n",
       "    </tr>\n",
       "    <tr>\n",
       "      <th>2020:Q3_2</th>\n",
       "      <td>5668937.5</td>\n",
       "      <td>2641630.0</td>\n",
       "    </tr>\n",
       "    <tr>\n",
       "      <th>2020:Q4</th>\n",
       "      <td>5668937.5</td>\n",
       "      <td>1428569.0</td>\n",
       "    </tr>\n",
       "    <tr>\n",
       "      <th>2021:Q2</th>\n",
       "      <td>5669337.5</td>\n",
       "      <td>6498339.0</td>\n",
       "    </tr>\n",
       "    <tr>\n",
       "      <th>2021:Q4_2</th>\n",
       "      <td>5669337.5</td>\n",
       "      <td>7855390.0</td>\n",
       "    </tr>\n",
       "  </tbody>\n",
       "</table>\n",
       "</div>"
      ],
      "text/plain": [
       "           Predicted_Total_Sales  Actual_Total_Sales\n",
       "2020:Q1                5668937.5           2312746.0\n",
       "2020:Q2_3              5668937.5           1084194.0\n",
       "2020:Q3_2              5668937.5           2641630.0\n",
       "2020:Q4                5668937.5           1428569.0\n",
       "2021:Q2                5669337.5           6498339.0\n",
       "2021:Q4_2              5669337.5           7855390.0"
      ]
     },
     "execution_count": 239,
     "metadata": {},
     "output_type": "execute_result"
    }
   ],
   "source": [
    "#A RMSE of 3288750 means that the model is off by about $3,288,750 on average\n",
    "\n",
    "#Create a dataframe of the predictions\n",
    "svr_df = pd.DataFrame(svr_predictions, columns=['Predicted_Total_Sales'], index=y_test.index).sort_index()\n",
    "\n",
    "#Add the actual values to the dataframe\n",
    "svr_df['Actual_Total_Sales'] = y_test['Total_sales']\n",
    "\n",
    "svr_df"
   ]
  },
  {
   "cell_type": "code",
   "execution_count": 240,
   "metadata": {},
   "outputs": [
    {
     "data": {
      "application/vnd.plotly.v1+json": {
       "config": {
        "plotlyServerURL": "https://plot.ly"
       },
       "data": [
        {
         "hovertemplate": "variable=Predicted_Total_Sales<br>index=%{x}<br>value=%{y}<extra></extra>",
         "legendgroup": "Predicted_Total_Sales",
         "line": {
          "color": "#636efa",
          "dash": "solid"
         },
         "marker": {
          "symbol": "circle"
         },
         "mode": "lines",
         "name": "Predicted_Total_Sales",
         "orientation": "v",
         "showlegend": true,
         "type": "scatter",
         "x": [
          "2020:Q1",
          "2020:Q2_3",
          "2020:Q3_2",
          "2020:Q4",
          "2021:Q2",
          "2021:Q4_2"
         ],
         "xaxis": "x",
         "y": [
          5668937.5,
          5668937.5,
          5668937.5,
          5668937.5,
          5669337.5,
          5669337.5
         ],
         "yaxis": "y"
        },
        {
         "hovertemplate": "variable=Actual_Total_Sales<br>index=%{x}<br>value=%{y}<extra></extra>",
         "legendgroup": "Actual_Total_Sales",
         "line": {
          "color": "#EF553B",
          "dash": "solid"
         },
         "marker": {
          "symbol": "circle"
         },
         "mode": "lines",
         "name": "Actual_Total_Sales",
         "orientation": "v",
         "showlegend": true,
         "type": "scatter",
         "x": [
          "2020:Q1",
          "2020:Q2_3",
          "2020:Q3_2",
          "2020:Q4",
          "2021:Q2",
          "2021:Q4_2"
         ],
         "xaxis": "x",
         "y": [
          2312746,
          1084194,
          2641630,
          1428569,
          6498339,
          7855390.000000001
         ],
         "yaxis": "y"
        }
       ],
       "layout": {
        "legend": {
         "title": {
          "text": "variable"
         },
         "tracegroupgap": 0
        },
        "template": {
         "data": {
          "bar": [
           {
            "error_x": {
             "color": "#2a3f5f"
            },
            "error_y": {
             "color": "#2a3f5f"
            },
            "marker": {
             "line": {
              "color": "#E5ECF6",
              "width": 0.5
             },
             "pattern": {
              "fillmode": "overlay",
              "size": 10,
              "solidity": 0.2
             }
            },
            "type": "bar"
           }
          ],
          "barpolar": [
           {
            "marker": {
             "line": {
              "color": "#E5ECF6",
              "width": 0.5
             },
             "pattern": {
              "fillmode": "overlay",
              "size": 10,
              "solidity": 0.2
             }
            },
            "type": "barpolar"
           }
          ],
          "carpet": [
           {
            "aaxis": {
             "endlinecolor": "#2a3f5f",
             "gridcolor": "white",
             "linecolor": "white",
             "minorgridcolor": "white",
             "startlinecolor": "#2a3f5f"
            },
            "baxis": {
             "endlinecolor": "#2a3f5f",
             "gridcolor": "white",
             "linecolor": "white",
             "minorgridcolor": "white",
             "startlinecolor": "#2a3f5f"
            },
            "type": "carpet"
           }
          ],
          "choropleth": [
           {
            "colorbar": {
             "outlinewidth": 0,
             "ticks": ""
            },
            "type": "choropleth"
           }
          ],
          "contour": [
           {
            "colorbar": {
             "outlinewidth": 0,
             "ticks": ""
            },
            "colorscale": [
             [
              0,
              "#0d0887"
             ],
             [
              0.1111111111111111,
              "#46039f"
             ],
             [
              0.2222222222222222,
              "#7201a8"
             ],
             [
              0.3333333333333333,
              "#9c179e"
             ],
             [
              0.4444444444444444,
              "#bd3786"
             ],
             [
              0.5555555555555556,
              "#d8576b"
             ],
             [
              0.6666666666666666,
              "#ed7953"
             ],
             [
              0.7777777777777778,
              "#fb9f3a"
             ],
             [
              0.8888888888888888,
              "#fdca26"
             ],
             [
              1,
              "#f0f921"
             ]
            ],
            "type": "contour"
           }
          ],
          "contourcarpet": [
           {
            "colorbar": {
             "outlinewidth": 0,
             "ticks": ""
            },
            "type": "contourcarpet"
           }
          ],
          "heatmap": [
           {
            "colorbar": {
             "outlinewidth": 0,
             "ticks": ""
            },
            "colorscale": [
             [
              0,
              "#0d0887"
             ],
             [
              0.1111111111111111,
              "#46039f"
             ],
             [
              0.2222222222222222,
              "#7201a8"
             ],
             [
              0.3333333333333333,
              "#9c179e"
             ],
             [
              0.4444444444444444,
              "#bd3786"
             ],
             [
              0.5555555555555556,
              "#d8576b"
             ],
             [
              0.6666666666666666,
              "#ed7953"
             ],
             [
              0.7777777777777778,
              "#fb9f3a"
             ],
             [
              0.8888888888888888,
              "#fdca26"
             ],
             [
              1,
              "#f0f921"
             ]
            ],
            "type": "heatmap"
           }
          ],
          "heatmapgl": [
           {
            "colorbar": {
             "outlinewidth": 0,
             "ticks": ""
            },
            "colorscale": [
             [
              0,
              "#0d0887"
             ],
             [
              0.1111111111111111,
              "#46039f"
             ],
             [
              0.2222222222222222,
              "#7201a8"
             ],
             [
              0.3333333333333333,
              "#9c179e"
             ],
             [
              0.4444444444444444,
              "#bd3786"
             ],
             [
              0.5555555555555556,
              "#d8576b"
             ],
             [
              0.6666666666666666,
              "#ed7953"
             ],
             [
              0.7777777777777778,
              "#fb9f3a"
             ],
             [
              0.8888888888888888,
              "#fdca26"
             ],
             [
              1,
              "#f0f921"
             ]
            ],
            "type": "heatmapgl"
           }
          ],
          "histogram": [
           {
            "marker": {
             "pattern": {
              "fillmode": "overlay",
              "size": 10,
              "solidity": 0.2
             }
            },
            "type": "histogram"
           }
          ],
          "histogram2d": [
           {
            "colorbar": {
             "outlinewidth": 0,
             "ticks": ""
            },
            "colorscale": [
             [
              0,
              "#0d0887"
             ],
             [
              0.1111111111111111,
              "#46039f"
             ],
             [
              0.2222222222222222,
              "#7201a8"
             ],
             [
              0.3333333333333333,
              "#9c179e"
             ],
             [
              0.4444444444444444,
              "#bd3786"
             ],
             [
              0.5555555555555556,
              "#d8576b"
             ],
             [
              0.6666666666666666,
              "#ed7953"
             ],
             [
              0.7777777777777778,
              "#fb9f3a"
             ],
             [
              0.8888888888888888,
              "#fdca26"
             ],
             [
              1,
              "#f0f921"
             ]
            ],
            "type": "histogram2d"
           }
          ],
          "histogram2dcontour": [
           {
            "colorbar": {
             "outlinewidth": 0,
             "ticks": ""
            },
            "colorscale": [
             [
              0,
              "#0d0887"
             ],
             [
              0.1111111111111111,
              "#46039f"
             ],
             [
              0.2222222222222222,
              "#7201a8"
             ],
             [
              0.3333333333333333,
              "#9c179e"
             ],
             [
              0.4444444444444444,
              "#bd3786"
             ],
             [
              0.5555555555555556,
              "#d8576b"
             ],
             [
              0.6666666666666666,
              "#ed7953"
             ],
             [
              0.7777777777777778,
              "#fb9f3a"
             ],
             [
              0.8888888888888888,
              "#fdca26"
             ],
             [
              1,
              "#f0f921"
             ]
            ],
            "type": "histogram2dcontour"
           }
          ],
          "mesh3d": [
           {
            "colorbar": {
             "outlinewidth": 0,
             "ticks": ""
            },
            "type": "mesh3d"
           }
          ],
          "parcoords": [
           {
            "line": {
             "colorbar": {
              "outlinewidth": 0,
              "ticks": ""
             }
            },
            "type": "parcoords"
           }
          ],
          "pie": [
           {
            "automargin": true,
            "type": "pie"
           }
          ],
          "scatter": [
           {
            "fillpattern": {
             "fillmode": "overlay",
             "size": 10,
             "solidity": 0.2
            },
            "type": "scatter"
           }
          ],
          "scatter3d": [
           {
            "line": {
             "colorbar": {
              "outlinewidth": 0,
              "ticks": ""
             }
            },
            "marker": {
             "colorbar": {
              "outlinewidth": 0,
              "ticks": ""
             }
            },
            "type": "scatter3d"
           }
          ],
          "scattercarpet": [
           {
            "marker": {
             "colorbar": {
              "outlinewidth": 0,
              "ticks": ""
             }
            },
            "type": "scattercarpet"
           }
          ],
          "scattergeo": [
           {
            "marker": {
             "colorbar": {
              "outlinewidth": 0,
              "ticks": ""
             }
            },
            "type": "scattergeo"
           }
          ],
          "scattergl": [
           {
            "marker": {
             "colorbar": {
              "outlinewidth": 0,
              "ticks": ""
             }
            },
            "type": "scattergl"
           }
          ],
          "scattermapbox": [
           {
            "marker": {
             "colorbar": {
              "outlinewidth": 0,
              "ticks": ""
             }
            },
            "type": "scattermapbox"
           }
          ],
          "scatterpolar": [
           {
            "marker": {
             "colorbar": {
              "outlinewidth": 0,
              "ticks": ""
             }
            },
            "type": "scatterpolar"
           }
          ],
          "scatterpolargl": [
           {
            "marker": {
             "colorbar": {
              "outlinewidth": 0,
              "ticks": ""
             }
            },
            "type": "scatterpolargl"
           }
          ],
          "scatterternary": [
           {
            "marker": {
             "colorbar": {
              "outlinewidth": 0,
              "ticks": ""
             }
            },
            "type": "scatterternary"
           }
          ],
          "surface": [
           {
            "colorbar": {
             "outlinewidth": 0,
             "ticks": ""
            },
            "colorscale": [
             [
              0,
              "#0d0887"
             ],
             [
              0.1111111111111111,
              "#46039f"
             ],
             [
              0.2222222222222222,
              "#7201a8"
             ],
             [
              0.3333333333333333,
              "#9c179e"
             ],
             [
              0.4444444444444444,
              "#bd3786"
             ],
             [
              0.5555555555555556,
              "#d8576b"
             ],
             [
              0.6666666666666666,
              "#ed7953"
             ],
             [
              0.7777777777777778,
              "#fb9f3a"
             ],
             [
              0.8888888888888888,
              "#fdca26"
             ],
             [
              1,
              "#f0f921"
             ]
            ],
            "type": "surface"
           }
          ],
          "table": [
           {
            "cells": {
             "fill": {
              "color": "#EBF0F8"
             },
             "line": {
              "color": "white"
             }
            },
            "header": {
             "fill": {
              "color": "#C8D4E3"
             },
             "line": {
              "color": "white"
             }
            },
            "type": "table"
           }
          ]
         },
         "layout": {
          "annotationdefaults": {
           "arrowcolor": "#2a3f5f",
           "arrowhead": 0,
           "arrowwidth": 1
          },
          "autotypenumbers": "strict",
          "coloraxis": {
           "colorbar": {
            "outlinewidth": 0,
            "ticks": ""
           }
          },
          "colorscale": {
           "diverging": [
            [
             0,
             "#8e0152"
            ],
            [
             0.1,
             "#c51b7d"
            ],
            [
             0.2,
             "#de77ae"
            ],
            [
             0.3,
             "#f1b6da"
            ],
            [
             0.4,
             "#fde0ef"
            ],
            [
             0.5,
             "#f7f7f7"
            ],
            [
             0.6,
             "#e6f5d0"
            ],
            [
             0.7,
             "#b8e186"
            ],
            [
             0.8,
             "#7fbc41"
            ],
            [
             0.9,
             "#4d9221"
            ],
            [
             1,
             "#276419"
            ]
           ],
           "sequential": [
            [
             0,
             "#0d0887"
            ],
            [
             0.1111111111111111,
             "#46039f"
            ],
            [
             0.2222222222222222,
             "#7201a8"
            ],
            [
             0.3333333333333333,
             "#9c179e"
            ],
            [
             0.4444444444444444,
             "#bd3786"
            ],
            [
             0.5555555555555556,
             "#d8576b"
            ],
            [
             0.6666666666666666,
             "#ed7953"
            ],
            [
             0.7777777777777778,
             "#fb9f3a"
            ],
            [
             0.8888888888888888,
             "#fdca26"
            ],
            [
             1,
             "#f0f921"
            ]
           ],
           "sequentialminus": [
            [
             0,
             "#0d0887"
            ],
            [
             0.1111111111111111,
             "#46039f"
            ],
            [
             0.2222222222222222,
             "#7201a8"
            ],
            [
             0.3333333333333333,
             "#9c179e"
            ],
            [
             0.4444444444444444,
             "#bd3786"
            ],
            [
             0.5555555555555556,
             "#d8576b"
            ],
            [
             0.6666666666666666,
             "#ed7953"
            ],
            [
             0.7777777777777778,
             "#fb9f3a"
            ],
            [
             0.8888888888888888,
             "#fdca26"
            ],
            [
             1,
             "#f0f921"
            ]
           ]
          },
          "colorway": [
           "#636efa",
           "#EF553B",
           "#00cc96",
           "#ab63fa",
           "#FFA15A",
           "#19d3f3",
           "#FF6692",
           "#B6E880",
           "#FF97FF",
           "#FECB52"
          ],
          "font": {
           "color": "#2a3f5f"
          },
          "geo": {
           "bgcolor": "white",
           "lakecolor": "white",
           "landcolor": "#E5ECF6",
           "showlakes": true,
           "showland": true,
           "subunitcolor": "white"
          },
          "hoverlabel": {
           "align": "left"
          },
          "hovermode": "closest",
          "mapbox": {
           "style": "light"
          },
          "paper_bgcolor": "white",
          "plot_bgcolor": "#E5ECF6",
          "polar": {
           "angularaxis": {
            "gridcolor": "white",
            "linecolor": "white",
            "ticks": ""
           },
           "bgcolor": "#E5ECF6",
           "radialaxis": {
            "gridcolor": "white",
            "linecolor": "white",
            "ticks": ""
           }
          },
          "scene": {
           "xaxis": {
            "backgroundcolor": "#E5ECF6",
            "gridcolor": "white",
            "gridwidth": 2,
            "linecolor": "white",
            "showbackground": true,
            "ticks": "",
            "zerolinecolor": "white"
           },
           "yaxis": {
            "backgroundcolor": "#E5ECF6",
            "gridcolor": "white",
            "gridwidth": 2,
            "linecolor": "white",
            "showbackground": true,
            "ticks": "",
            "zerolinecolor": "white"
           },
           "zaxis": {
            "backgroundcolor": "#E5ECF6",
            "gridcolor": "white",
            "gridwidth": 2,
            "linecolor": "white",
            "showbackground": true,
            "ticks": "",
            "zerolinecolor": "white"
           }
          },
          "shapedefaults": {
           "line": {
            "color": "#2a3f5f"
           }
          },
          "ternary": {
           "aaxis": {
            "gridcolor": "white",
            "linecolor": "white",
            "ticks": ""
           },
           "baxis": {
            "gridcolor": "white",
            "linecolor": "white",
            "ticks": ""
           },
           "bgcolor": "#E5ECF6",
           "caxis": {
            "gridcolor": "white",
            "linecolor": "white",
            "ticks": ""
           }
          },
          "title": {
           "x": 0.05
          },
          "xaxis": {
           "automargin": true,
           "gridcolor": "white",
           "linecolor": "white",
           "ticks": "",
           "title": {
            "standoff": 15
           },
           "zerolinecolor": "white",
           "zerolinewidth": 2
          },
          "yaxis": {
           "automargin": true,
           "gridcolor": "white",
           "linecolor": "white",
           "ticks": "",
           "title": {
            "standoff": 15
           },
           "zerolinecolor": "white",
           "zerolinewidth": 2
          }
         }
        },
        "title": {
         "text": "Support Vector Regression: Total Sales Predictions vs. Actual Values (Monthly Data)"
        },
        "xaxis": {
         "anchor": "y",
         "domain": [
          0,
          1
         ],
         "title": {
          "text": "index"
         }
        },
        "yaxis": {
         "anchor": "x",
         "domain": [
          0,
          1
         ],
         "title": {
          "text": "value"
         }
        }
       }
      }
     },
     "metadata": {},
     "output_type": "display_data"
    }
   ],
   "source": [
    "#plot the predictions vs. the actual values\n",
    "px.line(svr_df, x=svr_df.index, y=['Predicted_Total_Sales', 'Actual_Total_Sales'], \n",
    "        title='Support Vector Regression: Total Sales Predictions vs. Actual Values (Monthly Data)')"
   ]
  },
  {
   "cell_type": "code",
   "execution_count": 245,
   "metadata": {},
   "outputs": [
    {
     "data": {
      "text/plain": [
       "GridSearchCV(cv=5, estimator=SVR(),\n",
       "             param_grid={'C': [1, 10, 100, 1000],\n",
       "                         'epsilon': [0.1, 0.01, 0.001, 0.0001],\n",
       "                         'gamma': [0.1, 0.01, 0.001, 0.0001],\n",
       "                         'kernel': ['rbf']},\n",
       "             scoring=make_scorer(mean_squared_error, greater_is_better=False))"
      ]
     },
     "execution_count": 245,
     "metadata": {},
     "output_type": "execute_result"
    }
   ],
   "source": [
    "#Find the optimal parameters for the SVR model\n",
    "mse = make_scorer(mean_squared_error, greater_is_better=False)\n",
    "\n",
    "#\n",
    "svr_grid = {'kernel': ['rbf'], 'C': [1, 10, 100, 1000], 'gamma': [0.1, 0.01, 0.001, 0.0001], 'epsilon': [.1, .01, .001, .0001]}\n",
    "\n",
    "#Create a grid search object\n",
    "CV_opt_svr = GridSearchCV(estimator=SVR(), param_grid=svr_grid, scoring=mse, cv=5)\n",
    "CV_opt_svr.fit(X_train, y_train.drop('Operating_profit', axis=1).values.ravel())"
   ]
  },
  {
   "cell_type": "code",
   "execution_count": 246,
   "metadata": {},
   "outputs": [
    {
     "data": {
      "text/plain": [
       "{'C': 1000, 'epsilon': 0.1, 'gamma': 0.1, 'kernel': 'rbf'}"
      ]
     },
     "execution_count": 246,
     "metadata": {},
     "output_type": "execute_result"
    }
   ],
   "source": [
    "#Show the best parameters\n",
    "CV_opt_svr.best_params_"
   ]
  },
  {
   "cell_type": "code",
   "execution_count": 247,
   "metadata": {},
   "outputs": [],
   "source": [
    "#Create model\n",
    "opt_svr = SVR(kernel='rbf', C=1000, gamma=0.1, epsilon=.1)\n",
    "\n",
    "#Fit model to training data. SVR only accepts 1D arrays, so we need to drop the Operating_profit column\n",
    "opt_svr.fit(X_train, y_train.drop('Operating_profit', axis=1).values.ravel())\n",
    "\n",
    "#Make predictions using the testing data\n",
    "opt_svr_predictions = opt_svr.predict(X_test)"
   ]
  },
  {
   "cell_type": "code",
   "execution_count": 248,
   "metadata": {},
   "outputs": [
    {
     "name": "stdout",
     "output_type": "stream",
     "text": [
      "Random Forest Regressor MSE: 10801292710661.916\n",
      "Random Forest Regressor RMSE: 3286532.018809784\n"
     ]
    }
   ],
   "source": [
    "#Calculate the mean squared error and root mean squared error as performance metrics\n",
    "opt_svr_mse = mean_squared_error(y_test.drop('Operating_profit', axis=1).values.ravel(), opt_svr_predictions)\n",
    "opt_svr_rmse = opt_svr_mse**.5\n",
    "\n",
    "print(f'Random Forest Regressor MSE: {opt_svr_mse}')\n",
    "print(f'Random Forest Regressor RMSE: {opt_svr_rmse}')"
   ]
  },
  {
   "cell_type": "code",
   "execution_count": 249,
   "metadata": {},
   "outputs": [
    {
     "data": {
      "text/html": [
       "<div>\n",
       "<style scoped>\n",
       "    .dataframe tbody tr th:only-of-type {\n",
       "        vertical-align: middle;\n",
       "    }\n",
       "\n",
       "    .dataframe tbody tr th {\n",
       "        vertical-align: top;\n",
       "    }\n",
       "\n",
       "    .dataframe thead th {\n",
       "        text-align: right;\n",
       "    }\n",
       "</style>\n",
       "<table border=\"1\" class=\"dataframe\">\n",
       "  <thead>\n",
       "    <tr style=\"text-align: right;\">\n",
       "      <th></th>\n",
       "      <th>Predicted_Total_Sales</th>\n",
       "      <th>Actual_Total_Sales</th>\n",
       "    </tr>\n",
       "  </thead>\n",
       "  <tbody>\n",
       "    <tr>\n",
       "      <th>2020:Q1</th>\n",
       "      <td>5666237.5</td>\n",
       "      <td>2312746.0</td>\n",
       "    </tr>\n",
       "    <tr>\n",
       "      <th>2020:Q2_3</th>\n",
       "      <td>5666237.5</td>\n",
       "      <td>1084194.0</td>\n",
       "    </tr>\n",
       "    <tr>\n",
       "      <th>2020:Q3_2</th>\n",
       "      <td>5666237.5</td>\n",
       "      <td>2641630.0</td>\n",
       "    </tr>\n",
       "    <tr>\n",
       "      <th>2020:Q4</th>\n",
       "      <td>5666237.5</td>\n",
       "      <td>1428569.0</td>\n",
       "    </tr>\n",
       "    <tr>\n",
       "      <th>2021:Q2</th>\n",
       "      <td>5670237.5</td>\n",
       "      <td>6498339.0</td>\n",
       "    </tr>\n",
       "    <tr>\n",
       "      <th>2021:Q4_2</th>\n",
       "      <td>5670237.5</td>\n",
       "      <td>7855390.0</td>\n",
       "    </tr>\n",
       "  </tbody>\n",
       "</table>\n",
       "</div>"
      ],
      "text/plain": [
       "           Predicted_Total_Sales  Actual_Total_Sales\n",
       "2020:Q1                5666237.5           2312746.0\n",
       "2020:Q2_3              5666237.5           1084194.0\n",
       "2020:Q3_2              5666237.5           2641630.0\n",
       "2020:Q4                5666237.5           1428569.0\n",
       "2021:Q2                5670237.5           6498339.0\n",
       "2021:Q4_2              5670237.5           7855390.0"
      ]
     },
     "execution_count": 249,
     "metadata": {},
     "output_type": "execute_result"
    }
   ],
   "source": [
    "#A RMSE of 3288750 means that the model is off by about $3,288,750 on average\n",
    "\n",
    "#Create a dataframe of the predictions\n",
    "opt_svr_df = pd.DataFrame(opt_svr_predictions, columns=['Predicted_Total_Sales'], index=y_test.index).sort_index()\n",
    "\n",
    "#Add the actual values to the dataframe\n",
    "opt_svr_df['Actual_Total_Sales'] = y_test['Total_sales']\n",
    "\n",
    "opt_svr_df"
   ]
  },
  {
   "cell_type": "code",
   "execution_count": 250,
   "metadata": {},
   "outputs": [
    {
     "data": {
      "application/vnd.plotly.v1+json": {
       "config": {
        "plotlyServerURL": "https://plot.ly"
       },
       "data": [
        {
         "hovertemplate": "variable=Predicted_Total_Sales<br>index=%{x}<br>value=%{y}<extra></extra>",
         "legendgroup": "Predicted_Total_Sales",
         "line": {
          "color": "#636efa",
          "dash": "solid"
         },
         "marker": {
          "symbol": "circle"
         },
         "mode": "lines",
         "name": "Predicted_Total_Sales",
         "orientation": "v",
         "showlegend": true,
         "type": "scatter",
         "x": [
          "2020:Q1",
          "2020:Q2_3",
          "2020:Q3_2",
          "2020:Q4",
          "2021:Q2",
          "2021:Q4_2"
         ],
         "xaxis": "x",
         "y": [
          5666237.5,
          5666237.5,
          5666237.5,
          5666237.5,
          5670237.5,
          5670237.5
         ],
         "yaxis": "y"
        },
        {
         "hovertemplate": "variable=Actual_Total_Sales<br>index=%{x}<br>value=%{y}<extra></extra>",
         "legendgroup": "Actual_Total_Sales",
         "line": {
          "color": "#EF553B",
          "dash": "solid"
         },
         "marker": {
          "symbol": "circle"
         },
         "mode": "lines",
         "name": "Actual_Total_Sales",
         "orientation": "v",
         "showlegend": true,
         "type": "scatter",
         "x": [
          "2020:Q1",
          "2020:Q2_3",
          "2020:Q3_2",
          "2020:Q4",
          "2021:Q2",
          "2021:Q4_2"
         ],
         "xaxis": "x",
         "y": [
          2312746,
          1084194,
          2641630,
          1428569,
          6498339,
          7855390.000000001
         ],
         "yaxis": "y"
        }
       ],
       "layout": {
        "legend": {
         "title": {
          "text": "variable"
         },
         "tracegroupgap": 0
        },
        "template": {
         "data": {
          "bar": [
           {
            "error_x": {
             "color": "#2a3f5f"
            },
            "error_y": {
             "color": "#2a3f5f"
            },
            "marker": {
             "line": {
              "color": "#E5ECF6",
              "width": 0.5
             },
             "pattern": {
              "fillmode": "overlay",
              "size": 10,
              "solidity": 0.2
             }
            },
            "type": "bar"
           }
          ],
          "barpolar": [
           {
            "marker": {
             "line": {
              "color": "#E5ECF6",
              "width": 0.5
             },
             "pattern": {
              "fillmode": "overlay",
              "size": 10,
              "solidity": 0.2
             }
            },
            "type": "barpolar"
           }
          ],
          "carpet": [
           {
            "aaxis": {
             "endlinecolor": "#2a3f5f",
             "gridcolor": "white",
             "linecolor": "white",
             "minorgridcolor": "white",
             "startlinecolor": "#2a3f5f"
            },
            "baxis": {
             "endlinecolor": "#2a3f5f",
             "gridcolor": "white",
             "linecolor": "white",
             "minorgridcolor": "white",
             "startlinecolor": "#2a3f5f"
            },
            "type": "carpet"
           }
          ],
          "choropleth": [
           {
            "colorbar": {
             "outlinewidth": 0,
             "ticks": ""
            },
            "type": "choropleth"
           }
          ],
          "contour": [
           {
            "colorbar": {
             "outlinewidth": 0,
             "ticks": ""
            },
            "colorscale": [
             [
              0,
              "#0d0887"
             ],
             [
              0.1111111111111111,
              "#46039f"
             ],
             [
              0.2222222222222222,
              "#7201a8"
             ],
             [
              0.3333333333333333,
              "#9c179e"
             ],
             [
              0.4444444444444444,
              "#bd3786"
             ],
             [
              0.5555555555555556,
              "#d8576b"
             ],
             [
              0.6666666666666666,
              "#ed7953"
             ],
             [
              0.7777777777777778,
              "#fb9f3a"
             ],
             [
              0.8888888888888888,
              "#fdca26"
             ],
             [
              1,
              "#f0f921"
             ]
            ],
            "type": "contour"
           }
          ],
          "contourcarpet": [
           {
            "colorbar": {
             "outlinewidth": 0,
             "ticks": ""
            },
            "type": "contourcarpet"
           }
          ],
          "heatmap": [
           {
            "colorbar": {
             "outlinewidth": 0,
             "ticks": ""
            },
            "colorscale": [
             [
              0,
              "#0d0887"
             ],
             [
              0.1111111111111111,
              "#46039f"
             ],
             [
              0.2222222222222222,
              "#7201a8"
             ],
             [
              0.3333333333333333,
              "#9c179e"
             ],
             [
              0.4444444444444444,
              "#bd3786"
             ],
             [
              0.5555555555555556,
              "#d8576b"
             ],
             [
              0.6666666666666666,
              "#ed7953"
             ],
             [
              0.7777777777777778,
              "#fb9f3a"
             ],
             [
              0.8888888888888888,
              "#fdca26"
             ],
             [
              1,
              "#f0f921"
             ]
            ],
            "type": "heatmap"
           }
          ],
          "heatmapgl": [
           {
            "colorbar": {
             "outlinewidth": 0,
             "ticks": ""
            },
            "colorscale": [
             [
              0,
              "#0d0887"
             ],
             [
              0.1111111111111111,
              "#46039f"
             ],
             [
              0.2222222222222222,
              "#7201a8"
             ],
             [
              0.3333333333333333,
              "#9c179e"
             ],
             [
              0.4444444444444444,
              "#bd3786"
             ],
             [
              0.5555555555555556,
              "#d8576b"
             ],
             [
              0.6666666666666666,
              "#ed7953"
             ],
             [
              0.7777777777777778,
              "#fb9f3a"
             ],
             [
              0.8888888888888888,
              "#fdca26"
             ],
             [
              1,
              "#f0f921"
             ]
            ],
            "type": "heatmapgl"
           }
          ],
          "histogram": [
           {
            "marker": {
             "pattern": {
              "fillmode": "overlay",
              "size": 10,
              "solidity": 0.2
             }
            },
            "type": "histogram"
           }
          ],
          "histogram2d": [
           {
            "colorbar": {
             "outlinewidth": 0,
             "ticks": ""
            },
            "colorscale": [
             [
              0,
              "#0d0887"
             ],
             [
              0.1111111111111111,
              "#46039f"
             ],
             [
              0.2222222222222222,
              "#7201a8"
             ],
             [
              0.3333333333333333,
              "#9c179e"
             ],
             [
              0.4444444444444444,
              "#bd3786"
             ],
             [
              0.5555555555555556,
              "#d8576b"
             ],
             [
              0.6666666666666666,
              "#ed7953"
             ],
             [
              0.7777777777777778,
              "#fb9f3a"
             ],
             [
              0.8888888888888888,
              "#fdca26"
             ],
             [
              1,
              "#f0f921"
             ]
            ],
            "type": "histogram2d"
           }
          ],
          "histogram2dcontour": [
           {
            "colorbar": {
             "outlinewidth": 0,
             "ticks": ""
            },
            "colorscale": [
             [
              0,
              "#0d0887"
             ],
             [
              0.1111111111111111,
              "#46039f"
             ],
             [
              0.2222222222222222,
              "#7201a8"
             ],
             [
              0.3333333333333333,
              "#9c179e"
             ],
             [
              0.4444444444444444,
              "#bd3786"
             ],
             [
              0.5555555555555556,
              "#d8576b"
             ],
             [
              0.6666666666666666,
              "#ed7953"
             ],
             [
              0.7777777777777778,
              "#fb9f3a"
             ],
             [
              0.8888888888888888,
              "#fdca26"
             ],
             [
              1,
              "#f0f921"
             ]
            ],
            "type": "histogram2dcontour"
           }
          ],
          "mesh3d": [
           {
            "colorbar": {
             "outlinewidth": 0,
             "ticks": ""
            },
            "type": "mesh3d"
           }
          ],
          "parcoords": [
           {
            "line": {
             "colorbar": {
              "outlinewidth": 0,
              "ticks": ""
             }
            },
            "type": "parcoords"
           }
          ],
          "pie": [
           {
            "automargin": true,
            "type": "pie"
           }
          ],
          "scatter": [
           {
            "fillpattern": {
             "fillmode": "overlay",
             "size": 10,
             "solidity": 0.2
            },
            "type": "scatter"
           }
          ],
          "scatter3d": [
           {
            "line": {
             "colorbar": {
              "outlinewidth": 0,
              "ticks": ""
             }
            },
            "marker": {
             "colorbar": {
              "outlinewidth": 0,
              "ticks": ""
             }
            },
            "type": "scatter3d"
           }
          ],
          "scattercarpet": [
           {
            "marker": {
             "colorbar": {
              "outlinewidth": 0,
              "ticks": ""
             }
            },
            "type": "scattercarpet"
           }
          ],
          "scattergeo": [
           {
            "marker": {
             "colorbar": {
              "outlinewidth": 0,
              "ticks": ""
             }
            },
            "type": "scattergeo"
           }
          ],
          "scattergl": [
           {
            "marker": {
             "colorbar": {
              "outlinewidth": 0,
              "ticks": ""
             }
            },
            "type": "scattergl"
           }
          ],
          "scattermapbox": [
           {
            "marker": {
             "colorbar": {
              "outlinewidth": 0,
              "ticks": ""
             }
            },
            "type": "scattermapbox"
           }
          ],
          "scatterpolar": [
           {
            "marker": {
             "colorbar": {
              "outlinewidth": 0,
              "ticks": ""
             }
            },
            "type": "scatterpolar"
           }
          ],
          "scatterpolargl": [
           {
            "marker": {
             "colorbar": {
              "outlinewidth": 0,
              "ticks": ""
             }
            },
            "type": "scatterpolargl"
           }
          ],
          "scatterternary": [
           {
            "marker": {
             "colorbar": {
              "outlinewidth": 0,
              "ticks": ""
             }
            },
            "type": "scatterternary"
           }
          ],
          "surface": [
           {
            "colorbar": {
             "outlinewidth": 0,
             "ticks": ""
            },
            "colorscale": [
             [
              0,
              "#0d0887"
             ],
             [
              0.1111111111111111,
              "#46039f"
             ],
             [
              0.2222222222222222,
              "#7201a8"
             ],
             [
              0.3333333333333333,
              "#9c179e"
             ],
             [
              0.4444444444444444,
              "#bd3786"
             ],
             [
              0.5555555555555556,
              "#d8576b"
             ],
             [
              0.6666666666666666,
              "#ed7953"
             ],
             [
              0.7777777777777778,
              "#fb9f3a"
             ],
             [
              0.8888888888888888,
              "#fdca26"
             ],
             [
              1,
              "#f0f921"
             ]
            ],
            "type": "surface"
           }
          ],
          "table": [
           {
            "cells": {
             "fill": {
              "color": "#EBF0F8"
             },
             "line": {
              "color": "white"
             }
            },
            "header": {
             "fill": {
              "color": "#C8D4E3"
             },
             "line": {
              "color": "white"
             }
            },
            "type": "table"
           }
          ]
         },
         "layout": {
          "annotationdefaults": {
           "arrowcolor": "#2a3f5f",
           "arrowhead": 0,
           "arrowwidth": 1
          },
          "autotypenumbers": "strict",
          "coloraxis": {
           "colorbar": {
            "outlinewidth": 0,
            "ticks": ""
           }
          },
          "colorscale": {
           "diverging": [
            [
             0,
             "#8e0152"
            ],
            [
             0.1,
             "#c51b7d"
            ],
            [
             0.2,
             "#de77ae"
            ],
            [
             0.3,
             "#f1b6da"
            ],
            [
             0.4,
             "#fde0ef"
            ],
            [
             0.5,
             "#f7f7f7"
            ],
            [
             0.6,
             "#e6f5d0"
            ],
            [
             0.7,
             "#b8e186"
            ],
            [
             0.8,
             "#7fbc41"
            ],
            [
             0.9,
             "#4d9221"
            ],
            [
             1,
             "#276419"
            ]
           ],
           "sequential": [
            [
             0,
             "#0d0887"
            ],
            [
             0.1111111111111111,
             "#46039f"
            ],
            [
             0.2222222222222222,
             "#7201a8"
            ],
            [
             0.3333333333333333,
             "#9c179e"
            ],
            [
             0.4444444444444444,
             "#bd3786"
            ],
            [
             0.5555555555555556,
             "#d8576b"
            ],
            [
             0.6666666666666666,
             "#ed7953"
            ],
            [
             0.7777777777777778,
             "#fb9f3a"
            ],
            [
             0.8888888888888888,
             "#fdca26"
            ],
            [
             1,
             "#f0f921"
            ]
           ],
           "sequentialminus": [
            [
             0,
             "#0d0887"
            ],
            [
             0.1111111111111111,
             "#46039f"
            ],
            [
             0.2222222222222222,
             "#7201a8"
            ],
            [
             0.3333333333333333,
             "#9c179e"
            ],
            [
             0.4444444444444444,
             "#bd3786"
            ],
            [
             0.5555555555555556,
             "#d8576b"
            ],
            [
             0.6666666666666666,
             "#ed7953"
            ],
            [
             0.7777777777777778,
             "#fb9f3a"
            ],
            [
             0.8888888888888888,
             "#fdca26"
            ],
            [
             1,
             "#f0f921"
            ]
           ]
          },
          "colorway": [
           "#636efa",
           "#EF553B",
           "#00cc96",
           "#ab63fa",
           "#FFA15A",
           "#19d3f3",
           "#FF6692",
           "#B6E880",
           "#FF97FF",
           "#FECB52"
          ],
          "font": {
           "color": "#2a3f5f"
          },
          "geo": {
           "bgcolor": "white",
           "lakecolor": "white",
           "landcolor": "#E5ECF6",
           "showlakes": true,
           "showland": true,
           "subunitcolor": "white"
          },
          "hoverlabel": {
           "align": "left"
          },
          "hovermode": "closest",
          "mapbox": {
           "style": "light"
          },
          "paper_bgcolor": "white",
          "plot_bgcolor": "#E5ECF6",
          "polar": {
           "angularaxis": {
            "gridcolor": "white",
            "linecolor": "white",
            "ticks": ""
           },
           "bgcolor": "#E5ECF6",
           "radialaxis": {
            "gridcolor": "white",
            "linecolor": "white",
            "ticks": ""
           }
          },
          "scene": {
           "xaxis": {
            "backgroundcolor": "#E5ECF6",
            "gridcolor": "white",
            "gridwidth": 2,
            "linecolor": "white",
            "showbackground": true,
            "ticks": "",
            "zerolinecolor": "white"
           },
           "yaxis": {
            "backgroundcolor": "#E5ECF6",
            "gridcolor": "white",
            "gridwidth": 2,
            "linecolor": "white",
            "showbackground": true,
            "ticks": "",
            "zerolinecolor": "white"
           },
           "zaxis": {
            "backgroundcolor": "#E5ECF6",
            "gridcolor": "white",
            "gridwidth": 2,
            "linecolor": "white",
            "showbackground": true,
            "ticks": "",
            "zerolinecolor": "white"
           }
          },
          "shapedefaults": {
           "line": {
            "color": "#2a3f5f"
           }
          },
          "ternary": {
           "aaxis": {
            "gridcolor": "white",
            "linecolor": "white",
            "ticks": ""
           },
           "baxis": {
            "gridcolor": "white",
            "linecolor": "white",
            "ticks": ""
           },
           "bgcolor": "#E5ECF6",
           "caxis": {
            "gridcolor": "white",
            "linecolor": "white",
            "ticks": ""
           }
          },
          "title": {
           "x": 0.05
          },
          "xaxis": {
           "automargin": true,
           "gridcolor": "white",
           "linecolor": "white",
           "ticks": "",
           "title": {
            "standoff": 15
           },
           "zerolinecolor": "white",
           "zerolinewidth": 2
          },
          "yaxis": {
           "automargin": true,
           "gridcolor": "white",
           "linecolor": "white",
           "ticks": "",
           "title": {
            "standoff": 15
           },
           "zerolinecolor": "white",
           "zerolinewidth": 2
          }
         }
        },
        "title": {
         "text": "Optimized Support Vector Regression: Total Sales Predictions vs. Actual Values (Monthly Data)"
        },
        "xaxis": {
         "anchor": "y",
         "domain": [
          0,
          1
         ],
         "title": {
          "text": "index"
         }
        },
        "yaxis": {
         "anchor": "x",
         "domain": [
          0,
          1
         ],
         "title": {
          "text": "value"
         }
        }
       }
      }
     },
     "metadata": {},
     "output_type": "display_data"
    }
   ],
   "source": [
    "#plot the predictions vs. the actual values\n",
    "px.line(opt_svr_df, x=opt_svr_df.index, y=['Predicted_Total_Sales', 'Actual_Total_Sales'], \n",
    "        title='Optimized Support Vector Regression: Total Sales Predictions vs. Actual Values (Monthly Data)')"
   ]
  },
  {
   "attachments": {},
   "cell_type": "markdown",
   "metadata": {},
   "source": [
    "## Decision Tree Regression"
   ]
  },
  {
   "cell_type": "code",
   "execution_count": 251,
   "metadata": {},
   "outputs": [],
   "source": [
    "#Create model\n",
    "dtr_model = DecisionTreeRegressor(max_depth=5, random_state=0)\n",
    "\n",
    "#Fit model to training data\n",
    "dtr_model.fit(X_train, y_train)\n",
    "\n",
    "#Make predictions using the testing data\n",
    "dtr_predictions = dtr_model.predict(X_test)"
   ]
  },
  {
   "cell_type": "code",
   "execution_count": 252,
   "metadata": {},
   "outputs": [
    {
     "name": "stdout",
     "output_type": "stream",
     "text": [
      "Random Forest Regressor MSE: 798809380945.2006\n",
      "Random Forest Regressor RMSE: 893761.3668900668\n"
     ]
    }
   ],
   "source": [
    "#Accuracy of the model\n",
    "dtr_mse = mean_squared_error(y_test, dtr_predictions)\n",
    "dtr_rmse = dtr_mse**.5\n",
    "\n",
    "print(f'Random Forest Regressor MSE: {dtr_mse}')\n",
    "print(f'Random Forest Regressor RMSE: {dtr_rmse}')"
   ]
  },
  {
   "cell_type": "code",
   "execution_count": 254,
   "metadata": {},
   "outputs": [
    {
     "data": {
      "text/html": [
       "<div>\n",
       "<style scoped>\n",
       "    .dataframe tbody tr th:only-of-type {\n",
       "        vertical-align: middle;\n",
       "    }\n",
       "\n",
       "    .dataframe tbody tr th {\n",
       "        vertical-align: top;\n",
       "    }\n",
       "\n",
       "    .dataframe thead th {\n",
       "        text-align: right;\n",
       "    }\n",
       "</style>\n",
       "<table border=\"1\" class=\"dataframe\">\n",
       "  <thead>\n",
       "    <tr style=\"text-align: right;\">\n",
       "      <th></th>\n",
       "      <th>Predicted_Total_Sales</th>\n",
       "      <th>Predicted_Operating_Profit</th>\n",
       "      <th>Actual_Total_Sales</th>\n",
       "      <th>Actual_Operating_Profit</th>\n",
       "    </tr>\n",
       "  </thead>\n",
       "  <tbody>\n",
       "    <tr>\n",
       "      <th>2020:Q1</th>\n",
       "      <td>2307507.5</td>\n",
       "      <td>838058.475</td>\n",
       "      <td>2312746.0</td>\n",
       "      <td>883774.16</td>\n",
       "    </tr>\n",
       "    <tr>\n",
       "      <th>2020:Q2_3</th>\n",
       "      <td>2678922.5</td>\n",
       "      <td>1038038.895</td>\n",
       "      <td>1084194.0</td>\n",
       "      <td>307046.16</td>\n",
       "    </tr>\n",
       "    <tr>\n",
       "      <th>2020:Q3_2</th>\n",
       "      <td>2275037.0</td>\n",
       "      <td>828693.150</td>\n",
       "      <td>2641630.0</td>\n",
       "      <td>1042648.29</td>\n",
       "    </tr>\n",
       "    <tr>\n",
       "      <th>2020:Q4</th>\n",
       "      <td>1123626.0</td>\n",
       "      <td>395056.235</td>\n",
       "      <td>1428569.0</td>\n",
       "      <td>582342.96</td>\n",
       "    </tr>\n",
       "    <tr>\n",
       "      <th>2021:Q2</th>\n",
       "      <td>8647954.5</td>\n",
       "      <td>3443153.445</td>\n",
       "      <td>6498339.0</td>\n",
       "      <td>2644237.72</td>\n",
       "    </tr>\n",
       "    <tr>\n",
       "      <th>2021:Q4_2</th>\n",
       "      <td>8723159.5</td>\n",
       "      <td>3532939.345</td>\n",
       "      <td>7855390.0</td>\n",
       "      <td>3101992.69</td>\n",
       "    </tr>\n",
       "  </tbody>\n",
       "</table>\n",
       "</div>"
      ],
      "text/plain": [
       "           Predicted_Total_Sales  Predicted_Operating_Profit  \\\n",
       "2020:Q1                2307507.5                  838058.475   \n",
       "2020:Q2_3              2678922.5                 1038038.895   \n",
       "2020:Q3_2              2275037.0                  828693.150   \n",
       "2020:Q4                1123626.0                  395056.235   \n",
       "2021:Q2                8647954.5                 3443153.445   \n",
       "2021:Q4_2              8723159.5                 3532939.345   \n",
       "\n",
       "           Actual_Total_Sales  Actual_Operating_Profit  \n",
       "2020:Q1             2312746.0                883774.16  \n",
       "2020:Q2_3           1084194.0                307046.16  \n",
       "2020:Q3_2           2641630.0               1042648.29  \n",
       "2020:Q4             1428569.0                582342.96  \n",
       "2021:Q2             6498339.0               2644237.72  \n",
       "2021:Q4_2           7855390.0               3101992.69  "
      ]
     },
     "execution_count": 254,
     "metadata": {},
     "output_type": "execute_result"
    }
   ],
   "source": [
    "#Create a dataframe of the predictions\n",
    "dtr_predictions_df = pd.DataFrame(dtr_predictions, columns=['Predicted_Total_Sales', 'Predicted_Operating_Profit'], index=y_test.index)\n",
    "dtr_predictions_df['Actual_Total_Sales'], dtr_predictions_df['Actual_Operating_Profit'] = y_test['Total_sales'], y_test['Operating_profit']\n",
    "dtr_predictions_df = dtr_predictions_df.sort_index()\n",
    "dtr_predictions_df"
   ]
  },
  {
   "cell_type": "code",
   "execution_count": 255,
   "metadata": {},
   "outputs": [
    {
     "data": {
      "application/vnd.plotly.v1+json": {
       "config": {
        "plotlyServerURL": "https://plot.ly"
       },
       "data": [
        {
         "hovertemplate": "variable=Predicted_Total_Sales<br>index=%{x}<br>value=%{y}<extra></extra>",
         "legendgroup": "Predicted_Total_Sales",
         "line": {
          "color": "#636efa",
          "dash": "solid"
         },
         "marker": {
          "symbol": "circle"
         },
         "mode": "lines",
         "name": "Predicted_Total_Sales",
         "orientation": "v",
         "showlegend": true,
         "type": "scatter",
         "x": [
          "2020:Q1",
          "2020:Q2_3",
          "2020:Q3_2",
          "2020:Q4",
          "2021:Q2",
          "2021:Q4_2"
         ],
         "xaxis": "x",
         "y": [
          2307507.5,
          2678922.5,
          2275037,
          1123626,
          8647954.5,
          8723159.5
         ],
         "yaxis": "y"
        },
        {
         "hovertemplate": "variable=Actual_Total_Sales<br>index=%{x}<br>value=%{y}<extra></extra>",
         "legendgroup": "Actual_Total_Sales",
         "line": {
          "color": "#EF553B",
          "dash": "solid"
         },
         "marker": {
          "symbol": "circle"
         },
         "mode": "lines",
         "name": "Actual_Total_Sales",
         "orientation": "v",
         "showlegend": true,
         "type": "scatter",
         "x": [
          "2020:Q1",
          "2020:Q2_3",
          "2020:Q3_2",
          "2020:Q4",
          "2021:Q2",
          "2021:Q4_2"
         ],
         "xaxis": "x",
         "y": [
          2312746,
          1084194,
          2641630,
          1428569,
          6498339,
          7855390.000000001
         ],
         "yaxis": "y"
        },
        {
         "hovertemplate": "variable=Predicted_Operating_Profit<br>index=%{x}<br>value=%{y}<extra></extra>",
         "legendgroup": "Predicted_Operating_Profit",
         "line": {
          "color": "#00cc96",
          "dash": "solid"
         },
         "marker": {
          "symbol": "circle"
         },
         "mode": "lines",
         "name": "Predicted_Operating_Profit",
         "orientation": "v",
         "showlegend": true,
         "type": "scatter",
         "x": [
          "2020:Q1",
          "2020:Q2_3",
          "2020:Q3_2",
          "2020:Q4",
          "2021:Q2",
          "2021:Q4_2"
         ],
         "xaxis": "x",
         "y": [
          838058.4750000001,
          1038038.895,
          828693.15,
          395056.235,
          3443153.4450000003,
          3532939.345
         ],
         "yaxis": "y"
        },
        {
         "hovertemplate": "variable=Actual_Operating_Profit<br>index=%{x}<br>value=%{y}<extra></extra>",
         "legendgroup": "Actual_Operating_Profit",
         "line": {
          "color": "#ab63fa",
          "dash": "solid"
         },
         "marker": {
          "symbol": "circle"
         },
         "mode": "lines",
         "name": "Actual_Operating_Profit",
         "orientation": "v",
         "showlegend": true,
         "type": "scatter",
         "x": [
          "2020:Q1",
          "2020:Q2_3",
          "2020:Q3_2",
          "2020:Q4",
          "2021:Q2",
          "2021:Q4_2"
         ],
         "xaxis": "x",
         "y": [
          883774.16,
          307046.16,
          1042648.29,
          582342.96,
          2644237.72,
          3101992.6900000004
         ],
         "yaxis": "y"
        }
       ],
       "layout": {
        "legend": {
         "title": {
          "text": "variable"
         },
         "tracegroupgap": 0
        },
        "template": {
         "data": {
          "bar": [
           {
            "error_x": {
             "color": "#2a3f5f"
            },
            "error_y": {
             "color": "#2a3f5f"
            },
            "marker": {
             "line": {
              "color": "#E5ECF6",
              "width": 0.5
             },
             "pattern": {
              "fillmode": "overlay",
              "size": 10,
              "solidity": 0.2
             }
            },
            "type": "bar"
           }
          ],
          "barpolar": [
           {
            "marker": {
             "line": {
              "color": "#E5ECF6",
              "width": 0.5
             },
             "pattern": {
              "fillmode": "overlay",
              "size": 10,
              "solidity": 0.2
             }
            },
            "type": "barpolar"
           }
          ],
          "carpet": [
           {
            "aaxis": {
             "endlinecolor": "#2a3f5f",
             "gridcolor": "white",
             "linecolor": "white",
             "minorgridcolor": "white",
             "startlinecolor": "#2a3f5f"
            },
            "baxis": {
             "endlinecolor": "#2a3f5f",
             "gridcolor": "white",
             "linecolor": "white",
             "minorgridcolor": "white",
             "startlinecolor": "#2a3f5f"
            },
            "type": "carpet"
           }
          ],
          "choropleth": [
           {
            "colorbar": {
             "outlinewidth": 0,
             "ticks": ""
            },
            "type": "choropleth"
           }
          ],
          "contour": [
           {
            "colorbar": {
             "outlinewidth": 0,
             "ticks": ""
            },
            "colorscale": [
             [
              0,
              "#0d0887"
             ],
             [
              0.1111111111111111,
              "#46039f"
             ],
             [
              0.2222222222222222,
              "#7201a8"
             ],
             [
              0.3333333333333333,
              "#9c179e"
             ],
             [
              0.4444444444444444,
              "#bd3786"
             ],
             [
              0.5555555555555556,
              "#d8576b"
             ],
             [
              0.6666666666666666,
              "#ed7953"
             ],
             [
              0.7777777777777778,
              "#fb9f3a"
             ],
             [
              0.8888888888888888,
              "#fdca26"
             ],
             [
              1,
              "#f0f921"
             ]
            ],
            "type": "contour"
           }
          ],
          "contourcarpet": [
           {
            "colorbar": {
             "outlinewidth": 0,
             "ticks": ""
            },
            "type": "contourcarpet"
           }
          ],
          "heatmap": [
           {
            "colorbar": {
             "outlinewidth": 0,
             "ticks": ""
            },
            "colorscale": [
             [
              0,
              "#0d0887"
             ],
             [
              0.1111111111111111,
              "#46039f"
             ],
             [
              0.2222222222222222,
              "#7201a8"
             ],
             [
              0.3333333333333333,
              "#9c179e"
             ],
             [
              0.4444444444444444,
              "#bd3786"
             ],
             [
              0.5555555555555556,
              "#d8576b"
             ],
             [
              0.6666666666666666,
              "#ed7953"
             ],
             [
              0.7777777777777778,
              "#fb9f3a"
             ],
             [
              0.8888888888888888,
              "#fdca26"
             ],
             [
              1,
              "#f0f921"
             ]
            ],
            "type": "heatmap"
           }
          ],
          "heatmapgl": [
           {
            "colorbar": {
             "outlinewidth": 0,
             "ticks": ""
            },
            "colorscale": [
             [
              0,
              "#0d0887"
             ],
             [
              0.1111111111111111,
              "#46039f"
             ],
             [
              0.2222222222222222,
              "#7201a8"
             ],
             [
              0.3333333333333333,
              "#9c179e"
             ],
             [
              0.4444444444444444,
              "#bd3786"
             ],
             [
              0.5555555555555556,
              "#d8576b"
             ],
             [
              0.6666666666666666,
              "#ed7953"
             ],
             [
              0.7777777777777778,
              "#fb9f3a"
             ],
             [
              0.8888888888888888,
              "#fdca26"
             ],
             [
              1,
              "#f0f921"
             ]
            ],
            "type": "heatmapgl"
           }
          ],
          "histogram": [
           {
            "marker": {
             "pattern": {
              "fillmode": "overlay",
              "size": 10,
              "solidity": 0.2
             }
            },
            "type": "histogram"
           }
          ],
          "histogram2d": [
           {
            "colorbar": {
             "outlinewidth": 0,
             "ticks": ""
            },
            "colorscale": [
             [
              0,
              "#0d0887"
             ],
             [
              0.1111111111111111,
              "#46039f"
             ],
             [
              0.2222222222222222,
              "#7201a8"
             ],
             [
              0.3333333333333333,
              "#9c179e"
             ],
             [
              0.4444444444444444,
              "#bd3786"
             ],
             [
              0.5555555555555556,
              "#d8576b"
             ],
             [
              0.6666666666666666,
              "#ed7953"
             ],
             [
              0.7777777777777778,
              "#fb9f3a"
             ],
             [
              0.8888888888888888,
              "#fdca26"
             ],
             [
              1,
              "#f0f921"
             ]
            ],
            "type": "histogram2d"
           }
          ],
          "histogram2dcontour": [
           {
            "colorbar": {
             "outlinewidth": 0,
             "ticks": ""
            },
            "colorscale": [
             [
              0,
              "#0d0887"
             ],
             [
              0.1111111111111111,
              "#46039f"
             ],
             [
              0.2222222222222222,
              "#7201a8"
             ],
             [
              0.3333333333333333,
              "#9c179e"
             ],
             [
              0.4444444444444444,
              "#bd3786"
             ],
             [
              0.5555555555555556,
              "#d8576b"
             ],
             [
              0.6666666666666666,
              "#ed7953"
             ],
             [
              0.7777777777777778,
              "#fb9f3a"
             ],
             [
              0.8888888888888888,
              "#fdca26"
             ],
             [
              1,
              "#f0f921"
             ]
            ],
            "type": "histogram2dcontour"
           }
          ],
          "mesh3d": [
           {
            "colorbar": {
             "outlinewidth": 0,
             "ticks": ""
            },
            "type": "mesh3d"
           }
          ],
          "parcoords": [
           {
            "line": {
             "colorbar": {
              "outlinewidth": 0,
              "ticks": ""
             }
            },
            "type": "parcoords"
           }
          ],
          "pie": [
           {
            "automargin": true,
            "type": "pie"
           }
          ],
          "scatter": [
           {
            "fillpattern": {
             "fillmode": "overlay",
             "size": 10,
             "solidity": 0.2
            },
            "type": "scatter"
           }
          ],
          "scatter3d": [
           {
            "line": {
             "colorbar": {
              "outlinewidth": 0,
              "ticks": ""
             }
            },
            "marker": {
             "colorbar": {
              "outlinewidth": 0,
              "ticks": ""
             }
            },
            "type": "scatter3d"
           }
          ],
          "scattercarpet": [
           {
            "marker": {
             "colorbar": {
              "outlinewidth": 0,
              "ticks": ""
             }
            },
            "type": "scattercarpet"
           }
          ],
          "scattergeo": [
           {
            "marker": {
             "colorbar": {
              "outlinewidth": 0,
              "ticks": ""
             }
            },
            "type": "scattergeo"
           }
          ],
          "scattergl": [
           {
            "marker": {
             "colorbar": {
              "outlinewidth": 0,
              "ticks": ""
             }
            },
            "type": "scattergl"
           }
          ],
          "scattermapbox": [
           {
            "marker": {
             "colorbar": {
              "outlinewidth": 0,
              "ticks": ""
             }
            },
            "type": "scattermapbox"
           }
          ],
          "scatterpolar": [
           {
            "marker": {
             "colorbar": {
              "outlinewidth": 0,
              "ticks": ""
             }
            },
            "type": "scatterpolar"
           }
          ],
          "scatterpolargl": [
           {
            "marker": {
             "colorbar": {
              "outlinewidth": 0,
              "ticks": ""
             }
            },
            "type": "scatterpolargl"
           }
          ],
          "scatterternary": [
           {
            "marker": {
             "colorbar": {
              "outlinewidth": 0,
              "ticks": ""
             }
            },
            "type": "scatterternary"
           }
          ],
          "surface": [
           {
            "colorbar": {
             "outlinewidth": 0,
             "ticks": ""
            },
            "colorscale": [
             [
              0,
              "#0d0887"
             ],
             [
              0.1111111111111111,
              "#46039f"
             ],
             [
              0.2222222222222222,
              "#7201a8"
             ],
             [
              0.3333333333333333,
              "#9c179e"
             ],
             [
              0.4444444444444444,
              "#bd3786"
             ],
             [
              0.5555555555555556,
              "#d8576b"
             ],
             [
              0.6666666666666666,
              "#ed7953"
             ],
             [
              0.7777777777777778,
              "#fb9f3a"
             ],
             [
              0.8888888888888888,
              "#fdca26"
             ],
             [
              1,
              "#f0f921"
             ]
            ],
            "type": "surface"
           }
          ],
          "table": [
           {
            "cells": {
             "fill": {
              "color": "#EBF0F8"
             },
             "line": {
              "color": "white"
             }
            },
            "header": {
             "fill": {
              "color": "#C8D4E3"
             },
             "line": {
              "color": "white"
             }
            },
            "type": "table"
           }
          ]
         },
         "layout": {
          "annotationdefaults": {
           "arrowcolor": "#2a3f5f",
           "arrowhead": 0,
           "arrowwidth": 1
          },
          "autotypenumbers": "strict",
          "coloraxis": {
           "colorbar": {
            "outlinewidth": 0,
            "ticks": ""
           }
          },
          "colorscale": {
           "diverging": [
            [
             0,
             "#8e0152"
            ],
            [
             0.1,
             "#c51b7d"
            ],
            [
             0.2,
             "#de77ae"
            ],
            [
             0.3,
             "#f1b6da"
            ],
            [
             0.4,
             "#fde0ef"
            ],
            [
             0.5,
             "#f7f7f7"
            ],
            [
             0.6,
             "#e6f5d0"
            ],
            [
             0.7,
             "#b8e186"
            ],
            [
             0.8,
             "#7fbc41"
            ],
            [
             0.9,
             "#4d9221"
            ],
            [
             1,
             "#276419"
            ]
           ],
           "sequential": [
            [
             0,
             "#0d0887"
            ],
            [
             0.1111111111111111,
             "#46039f"
            ],
            [
             0.2222222222222222,
             "#7201a8"
            ],
            [
             0.3333333333333333,
             "#9c179e"
            ],
            [
             0.4444444444444444,
             "#bd3786"
            ],
            [
             0.5555555555555556,
             "#d8576b"
            ],
            [
             0.6666666666666666,
             "#ed7953"
            ],
            [
             0.7777777777777778,
             "#fb9f3a"
            ],
            [
             0.8888888888888888,
             "#fdca26"
            ],
            [
             1,
             "#f0f921"
            ]
           ],
           "sequentialminus": [
            [
             0,
             "#0d0887"
            ],
            [
             0.1111111111111111,
             "#46039f"
            ],
            [
             0.2222222222222222,
             "#7201a8"
            ],
            [
             0.3333333333333333,
             "#9c179e"
            ],
            [
             0.4444444444444444,
             "#bd3786"
            ],
            [
             0.5555555555555556,
             "#d8576b"
            ],
            [
             0.6666666666666666,
             "#ed7953"
            ],
            [
             0.7777777777777778,
             "#fb9f3a"
            ],
            [
             0.8888888888888888,
             "#fdca26"
            ],
            [
             1,
             "#f0f921"
            ]
           ]
          },
          "colorway": [
           "#636efa",
           "#EF553B",
           "#00cc96",
           "#ab63fa",
           "#FFA15A",
           "#19d3f3",
           "#FF6692",
           "#B6E880",
           "#FF97FF",
           "#FECB52"
          ],
          "font": {
           "color": "#2a3f5f"
          },
          "geo": {
           "bgcolor": "white",
           "lakecolor": "white",
           "landcolor": "#E5ECF6",
           "showlakes": true,
           "showland": true,
           "subunitcolor": "white"
          },
          "hoverlabel": {
           "align": "left"
          },
          "hovermode": "closest",
          "mapbox": {
           "style": "light"
          },
          "paper_bgcolor": "white",
          "plot_bgcolor": "#E5ECF6",
          "polar": {
           "angularaxis": {
            "gridcolor": "white",
            "linecolor": "white",
            "ticks": ""
           },
           "bgcolor": "#E5ECF6",
           "radialaxis": {
            "gridcolor": "white",
            "linecolor": "white",
            "ticks": ""
           }
          },
          "scene": {
           "xaxis": {
            "backgroundcolor": "#E5ECF6",
            "gridcolor": "white",
            "gridwidth": 2,
            "linecolor": "white",
            "showbackground": true,
            "ticks": "",
            "zerolinecolor": "white"
           },
           "yaxis": {
            "backgroundcolor": "#E5ECF6",
            "gridcolor": "white",
            "gridwidth": 2,
            "linecolor": "white",
            "showbackground": true,
            "ticks": "",
            "zerolinecolor": "white"
           },
           "zaxis": {
            "backgroundcolor": "#E5ECF6",
            "gridcolor": "white",
            "gridwidth": 2,
            "linecolor": "white",
            "showbackground": true,
            "ticks": "",
            "zerolinecolor": "white"
           }
          },
          "shapedefaults": {
           "line": {
            "color": "#2a3f5f"
           }
          },
          "ternary": {
           "aaxis": {
            "gridcolor": "white",
            "linecolor": "white",
            "ticks": ""
           },
           "baxis": {
            "gridcolor": "white",
            "linecolor": "white",
            "ticks": ""
           },
           "bgcolor": "#E5ECF6",
           "caxis": {
            "gridcolor": "white",
            "linecolor": "white",
            "ticks": ""
           }
          },
          "title": {
           "x": 0.05
          },
          "xaxis": {
           "automargin": true,
           "gridcolor": "white",
           "linecolor": "white",
           "ticks": "",
           "title": {
            "standoff": 15
           },
           "zerolinecolor": "white",
           "zerolinewidth": 2
          },
          "yaxis": {
           "automargin": true,
           "gridcolor": "white",
           "linecolor": "white",
           "ticks": "",
           "title": {
            "standoff": 15
           },
           "zerolinecolor": "white",
           "zerolinewidth": 2
          }
         }
        },
        "title": {
         "text": "Decision Tree Regression: Total Sales & Operating Profit Predictions vs. Actual Values (Monthly Data)"
        },
        "xaxis": {
         "anchor": "y",
         "domain": [
          0,
          1
         ],
         "title": {
          "text": "index"
         }
        },
        "yaxis": {
         "anchor": "x",
         "domain": [
          0,
          1
         ],
         "title": {
          "text": "value"
         }
        }
       }
      }
     },
     "metadata": {},
     "output_type": "display_data"
    }
   ],
   "source": [
    "#Plot the predictions vs. the actual values\n",
    "px.line(dtr_predictions_df, x=dtr_predictions_df.index, y=['Predicted_Total_Sales', 'Actual_Total_Sales', 'Predicted_Operating_Profit', 'Actual_Operating_Profit'], \n",
    "        title='Decision Tree Regression: Total Sales & Operating Profit Predictions vs. Actual Values (Monthly Data)')"
   ]
  },
  {
   "cell_type": "code",
   "execution_count": 256,
   "metadata": {},
   "outputs": [
    {
     "data": {
      "text/plain": [
       "GridSearchCV(estimator=DecisionTreeRegressor(), n_jobs=4,\n",
       "             param_grid={'max_depth': [None, 5, 10, 15, 20],\n",
       "                         'max_features': ['auto', 'sqrt', 'log2'],\n",
       "                         'min_samples_leaf': [1, 2, 3, 4, 5],\n",
       "                         'min_samples_split': [2, 4, 6, 8, 10]},\n",
       "             scoring=make_scorer(mean_squared_error, greater_is_better=False))"
      ]
     },
     "execution_count": 256,
     "metadata": {},
     "output_type": "execute_result"
    }
   ],
   "source": [
    "#Define the scoring function to be used in GridSearchCV\n",
    "mse = make_scorer(mean_squared_error, greater_is_better=False)\n",
    "\n",
    "#Find optimal parameters using GridSearchCV\n",
    "dtr_grid = {'max_depth': [None, 5, 10, 15, 20],\n",
    "            'min_samples_split': [2, 4, 6, 8, 10],\n",
    "            'min_samples_leaf': [1, 2, 3, 4, 5],\n",
    "            'max_features': ['auto', 'sqrt', 'log2']}\n",
    "\n",
    "dtr_CV = GridSearchCV(estimator=DecisionTreeRegressor(), param_grid=dtr_grid, scoring=mse, n_jobs=4)\n",
    "dtr_CV.fit(X_train, y_train)"
   ]
  },
  {
   "cell_type": "code",
   "execution_count": 257,
   "metadata": {},
   "outputs": [
    {
     "data": {
      "text/plain": [
       "{'max_depth': 20,\n",
       " 'max_features': 'sqrt',\n",
       " 'min_samples_leaf': 4,\n",
       " 'min_samples_split': 4}"
      ]
     },
     "execution_count": 257,
     "metadata": {},
     "output_type": "execute_result"
    }
   ],
   "source": [
    "dtr_CV.best_params_"
   ]
  },
  {
   "cell_type": "code",
   "execution_count": 258,
   "metadata": {},
   "outputs": [],
   "source": [
    "#Use the optimal parameters to create a new model\n",
    "opt_dtr_model = DecisionTreeRegressor(max_depth=20, max_features='sqrt', min_samples_leaf=4, min_samples_split=4, random_state=0)\n",
    "\n",
    "#Fit model to training data\n",
    "opt_dtr_model.fit(X_train, y_train)\n",
    "\n",
    "#Make predictions using the testing data\n",
    "opt_dtr_predictions = opt_dtr_model.predict(X_test)"
   ]
  },
  {
   "cell_type": "code",
   "execution_count": 259,
   "metadata": {},
   "outputs": [
    {
     "name": "stdout",
     "output_type": "stream",
     "text": [
      "Random Forest Regressor MSE: 2170272314088.687\n",
      "Random Forest Regressor RMSE: 1473184.412790431\n"
     ]
    }
   ],
   "source": [
    "#Accuracy of the model\n",
    "opt_dtr_mse = mean_squared_error(y_test, opt_dtr_predictions)\n",
    "opt_dtr_rmse = opt_dtr_mse**.5\n",
    "\n",
    "print(f'Random Forest Regressor MSE: {opt_dtr_mse}')\n",
    "print(f'Random Forest Regressor RMSE: {opt_dtr_rmse}')"
   ]
  },
  {
   "cell_type": "code",
   "execution_count": 260,
   "metadata": {},
   "outputs": [
    {
     "name": "stdout",
     "output_type": "stream",
     "text": [
      "RMSE: 893761.3668900668\n",
      "Optimal parameters: max_depth=None, min_samples_split=2, min_samples_leaf=1, max_features=auto\n",
      "RMSE: 707192.4975140383\n",
      "Optimal parameters: max_depth=None, min_samples_split=2, min_samples_leaf=4, max_features=auto\n",
      "RMSE: 618378.9143487753\n",
      "Optimal parameters: max_depth=None, min_samples_split=2, min_samples_leaf=5, max_features=auto\n"
     ]
    }
   ],
   "source": [
    "#For loop to find the optimal parameters\n",
    "opt_dtr_rmse_loop = 1473184\n",
    "\n",
    "for d in dtr_grid['max_depth']:\n",
    "    for ms in dtr_grid['min_samples_split']:\n",
    "        for ml in dtr_grid['min_samples_leaf']:\n",
    "            for mf in dtr_grid['max_features']:\n",
    "                opt_dtr_model_loop = DecisionTreeRegressor(max_depth=d, max_features=mf, min_samples_leaf=ml, min_samples_split=ms, random_state=0)\n",
    "                opt_dtr_model_loop.fit(X_train, y_train)\n",
    "                opt_dtr_predictions_loop = opt_dtr_model_loop.predict(X_test)\n",
    "                opt_dtr_mse_loop = mean_squared_error(y_test, opt_dtr_predictions_loop)\n",
    "                opt_dtr_rmse_in_loop = opt_dtr_mse_loop**.5\n",
    "                \n",
    "                #If the RMSE is lower than the previous RMSE, then update\n",
    "                if opt_dtr_rmse_in_loop < opt_dtr_rmse_loop:\n",
    "                    opt_dtr_rmse_loop = opt_dtr_rmse_in_loop\n",
    "                    print(f'RMSE: {opt_dtr_rmse_loop}')\n",
    "                    print(f'Optimal parameters: max_depth={d}, min_samples_split={ms}, min_samples_leaf={ml}, max_features={mf}')"
   ]
  },
  {
   "cell_type": "code",
   "execution_count": 261,
   "metadata": {},
   "outputs": [],
   "source": [
    "#Use the optimal parameters to create a new model\n",
    "opt_dtr_model = DecisionTreeRegressor(max_depth=None, max_features='auto', min_samples_leaf=5, min_samples_split=2, random_state=0)\n",
    "\n",
    "#Fit model to training data\n",
    "opt_dtr_model.fit(X_train, y_train)\n",
    "\n",
    "#Make predictions using the testing data\n",
    "opt_dtr_predictions = opt_dtr_model.predict(X_test)"
   ]
  },
  {
   "cell_type": "code",
   "execution_count": 262,
   "metadata": {},
   "outputs": [
    {
     "name": "stdout",
     "output_type": "stream",
     "text": [
      "Random Forest Regressor MSE: 382392481711.1699\n",
      "Random Forest Regressor RMSE: 618378.9143487753\n"
     ]
    }
   ],
   "source": [
    "#Accuracy of the model\n",
    "opt_dtr_mse = mean_squared_error(y_test, opt_dtr_predictions)\n",
    "opt_dtr_rmse = opt_dtr_mse**.5\n",
    "\n",
    "print(f'Random Forest Regressor MSE: {opt_dtr_mse}')\n",
    "print(f'Random Forest Regressor RMSE: {opt_dtr_rmse}')"
   ]
  },
  {
   "cell_type": "code",
   "execution_count": 264,
   "metadata": {},
   "outputs": [
    {
     "data": {
      "text/html": [
       "<div>\n",
       "<style scoped>\n",
       "    .dataframe tbody tr th:only-of-type {\n",
       "        vertical-align: middle;\n",
       "    }\n",
       "\n",
       "    .dataframe tbody tr th {\n",
       "        vertical-align: top;\n",
       "    }\n",
       "\n",
       "    .dataframe thead th {\n",
       "        text-align: right;\n",
       "    }\n",
       "</style>\n",
       "<table border=\"1\" class=\"dataframe\">\n",
       "  <thead>\n",
       "    <tr style=\"text-align: right;\">\n",
       "      <th></th>\n",
       "      <th>Predicted_Total_Sales</th>\n",
       "      <th>Predicted_Operating_Profit</th>\n",
       "      <th>Actual_Total_Sales</th>\n",
       "      <th>Actual_Operating_Profit</th>\n",
       "    </tr>\n",
       "  </thead>\n",
       "  <tbody>\n",
       "    <tr>\n",
       "      <th>2020:Q1</th>\n",
       "      <td>2096273.25</td>\n",
       "      <td>7.749617e+05</td>\n",
       "      <td>2312746.0</td>\n",
       "      <td>883774.16</td>\n",
       "    </tr>\n",
       "    <tr>\n",
       "      <th>2020:Q2_3</th>\n",
       "      <td>2096273.25</td>\n",
       "      <td>7.749617e+05</td>\n",
       "      <td>1084194.0</td>\n",
       "      <td>307046.16</td>\n",
       "    </tr>\n",
       "    <tr>\n",
       "      <th>2020:Q3_2</th>\n",
       "      <td>2096273.25</td>\n",
       "      <td>7.749617e+05</td>\n",
       "      <td>2641630.0</td>\n",
       "      <td>1042648.29</td>\n",
       "    </tr>\n",
       "    <tr>\n",
       "      <th>2020:Q4</th>\n",
       "      <td>2096273.25</td>\n",
       "      <td>7.749617e+05</td>\n",
       "      <td>1428569.0</td>\n",
       "      <td>582342.96</td>\n",
       "    </tr>\n",
       "    <tr>\n",
       "      <th>2021:Q2</th>\n",
       "      <td>7213281.00</td>\n",
       "      <td>2.800046e+06</td>\n",
       "      <td>6498339.0</td>\n",
       "      <td>2644237.72</td>\n",
       "    </tr>\n",
       "    <tr>\n",
       "      <th>2021:Q4_2</th>\n",
       "      <td>9100768.80</td>\n",
       "      <td>3.692223e+06</td>\n",
       "      <td>7855390.0</td>\n",
       "      <td>3101992.69</td>\n",
       "    </tr>\n",
       "  </tbody>\n",
       "</table>\n",
       "</div>"
      ],
      "text/plain": [
       "           Predicted_Total_Sales  Predicted_Operating_Profit  \\\n",
       "2020:Q1               2096273.25                7.749617e+05   \n",
       "2020:Q2_3             2096273.25                7.749617e+05   \n",
       "2020:Q3_2             2096273.25                7.749617e+05   \n",
       "2020:Q4               2096273.25                7.749617e+05   \n",
       "2021:Q2               7213281.00                2.800046e+06   \n",
       "2021:Q4_2             9100768.80                3.692223e+06   \n",
       "\n",
       "           Actual_Total_Sales  Actual_Operating_Profit  \n",
       "2020:Q1             2312746.0                883774.16  \n",
       "2020:Q2_3           1084194.0                307046.16  \n",
       "2020:Q3_2           2641630.0               1042648.29  \n",
       "2020:Q4             1428569.0                582342.96  \n",
       "2021:Q2             6498339.0               2644237.72  \n",
       "2021:Q4_2           7855390.0               3101992.69  "
      ]
     },
     "execution_count": 264,
     "metadata": {},
     "output_type": "execute_result"
    }
   ],
   "source": [
    "#Create a dataframe of the predictions\n",
    "opt_dtr_predictions_df = pd.DataFrame(opt_dtr_predictions, columns=['Predicted_Total_Sales', 'Predicted_Operating_Profit'], index=y_test.index)\n",
    "opt_dtr_predictions_df['Actual_Total_Sales'], opt_dtr_predictions_df['Actual_Operating_Profit'] = y_test['Total_sales'], y_test['Operating_profit']\n",
    "opt_dtr_predictions_df = opt_dtr_predictions_df.sort_index()\n",
    "opt_dtr_predictions_df"
   ]
  },
  {
   "cell_type": "code",
   "execution_count": 265,
   "metadata": {},
   "outputs": [
    {
     "data": {
      "application/vnd.plotly.v1+json": {
       "config": {
        "plotlyServerURL": "https://plot.ly"
       },
       "data": [
        {
         "hovertemplate": "variable=Predicted_Total_Sales<br>index=%{x}<br>value=%{y}<extra></extra>",
         "legendgroup": "Predicted_Total_Sales",
         "line": {
          "color": "#636efa",
          "dash": "solid"
         },
         "marker": {
          "symbol": "circle"
         },
         "mode": "lines",
         "name": "Predicted_Total_Sales",
         "orientation": "v",
         "showlegend": true,
         "type": "scatter",
         "x": [
          "2020:Q1",
          "2020:Q2_3",
          "2020:Q3_2",
          "2020:Q4",
          "2021:Q2",
          "2021:Q4_2"
         ],
         "xaxis": "x",
         "y": [
          2096273.25,
          2096273.25,
          2096273.25,
          2096273.25,
          7213281,
          9100768.8
         ],
         "yaxis": "y"
        },
        {
         "hovertemplate": "variable=Actual_Total_Sales<br>index=%{x}<br>value=%{y}<extra></extra>",
         "legendgroup": "Actual_Total_Sales",
         "line": {
          "color": "#EF553B",
          "dash": "solid"
         },
         "marker": {
          "symbol": "circle"
         },
         "mode": "lines",
         "name": "Actual_Total_Sales",
         "orientation": "v",
         "showlegend": true,
         "type": "scatter",
         "x": [
          "2020:Q1",
          "2020:Q2_3",
          "2020:Q3_2",
          "2020:Q4",
          "2021:Q2",
          "2021:Q4_2"
         ],
         "xaxis": "x",
         "y": [
          2312746,
          1084194,
          2641630,
          1428569,
          6498339,
          7855390.000000001
         ],
         "yaxis": "y"
        },
        {
         "hovertemplate": "variable=Predicted_Operating_Profit<br>index=%{x}<br>value=%{y}<extra></extra>",
         "legendgroup": "Predicted_Operating_Profit",
         "line": {
          "color": "#00cc96",
          "dash": "solid"
         },
         "marker": {
          "symbol": "circle"
         },
         "mode": "lines",
         "name": "Predicted_Operating_Profit",
         "orientation": "v",
         "showlegend": true,
         "type": "scatter",
         "x": [
          "2020:Q1",
          "2020:Q2_3",
          "2020:Q3_2",
          "2020:Q4",
          "2021:Q2",
          "2021:Q4_2"
         ],
         "xaxis": "x",
         "y": [
          774961.68875,
          774961.68875,
          774961.68875,
          774961.68875,
          2800046.31,
          3692223.1940000006
         ],
         "yaxis": "y"
        },
        {
         "hovertemplate": "variable=Actual_Operating_Profit<br>index=%{x}<br>value=%{y}<extra></extra>",
         "legendgroup": "Actual_Operating_Profit",
         "line": {
          "color": "#ab63fa",
          "dash": "solid"
         },
         "marker": {
          "symbol": "circle"
         },
         "mode": "lines",
         "name": "Actual_Operating_Profit",
         "orientation": "v",
         "showlegend": true,
         "type": "scatter",
         "x": [
          "2020:Q1",
          "2020:Q2_3",
          "2020:Q3_2",
          "2020:Q4",
          "2021:Q2",
          "2021:Q4_2"
         ],
         "xaxis": "x",
         "y": [
          883774.16,
          307046.16,
          1042648.29,
          582342.96,
          2644237.72,
          3101992.6900000004
         ],
         "yaxis": "y"
        }
       ],
       "layout": {
        "legend": {
         "title": {
          "text": "variable"
         },
         "tracegroupgap": 0
        },
        "template": {
         "data": {
          "bar": [
           {
            "error_x": {
             "color": "#2a3f5f"
            },
            "error_y": {
             "color": "#2a3f5f"
            },
            "marker": {
             "line": {
              "color": "#E5ECF6",
              "width": 0.5
             },
             "pattern": {
              "fillmode": "overlay",
              "size": 10,
              "solidity": 0.2
             }
            },
            "type": "bar"
           }
          ],
          "barpolar": [
           {
            "marker": {
             "line": {
              "color": "#E5ECF6",
              "width": 0.5
             },
             "pattern": {
              "fillmode": "overlay",
              "size": 10,
              "solidity": 0.2
             }
            },
            "type": "barpolar"
           }
          ],
          "carpet": [
           {
            "aaxis": {
             "endlinecolor": "#2a3f5f",
             "gridcolor": "white",
             "linecolor": "white",
             "minorgridcolor": "white",
             "startlinecolor": "#2a3f5f"
            },
            "baxis": {
             "endlinecolor": "#2a3f5f",
             "gridcolor": "white",
             "linecolor": "white",
             "minorgridcolor": "white",
             "startlinecolor": "#2a3f5f"
            },
            "type": "carpet"
           }
          ],
          "choropleth": [
           {
            "colorbar": {
             "outlinewidth": 0,
             "ticks": ""
            },
            "type": "choropleth"
           }
          ],
          "contour": [
           {
            "colorbar": {
             "outlinewidth": 0,
             "ticks": ""
            },
            "colorscale": [
             [
              0,
              "#0d0887"
             ],
             [
              0.1111111111111111,
              "#46039f"
             ],
             [
              0.2222222222222222,
              "#7201a8"
             ],
             [
              0.3333333333333333,
              "#9c179e"
             ],
             [
              0.4444444444444444,
              "#bd3786"
             ],
             [
              0.5555555555555556,
              "#d8576b"
             ],
             [
              0.6666666666666666,
              "#ed7953"
             ],
             [
              0.7777777777777778,
              "#fb9f3a"
             ],
             [
              0.8888888888888888,
              "#fdca26"
             ],
             [
              1,
              "#f0f921"
             ]
            ],
            "type": "contour"
           }
          ],
          "contourcarpet": [
           {
            "colorbar": {
             "outlinewidth": 0,
             "ticks": ""
            },
            "type": "contourcarpet"
           }
          ],
          "heatmap": [
           {
            "colorbar": {
             "outlinewidth": 0,
             "ticks": ""
            },
            "colorscale": [
             [
              0,
              "#0d0887"
             ],
             [
              0.1111111111111111,
              "#46039f"
             ],
             [
              0.2222222222222222,
              "#7201a8"
             ],
             [
              0.3333333333333333,
              "#9c179e"
             ],
             [
              0.4444444444444444,
              "#bd3786"
             ],
             [
              0.5555555555555556,
              "#d8576b"
             ],
             [
              0.6666666666666666,
              "#ed7953"
             ],
             [
              0.7777777777777778,
              "#fb9f3a"
             ],
             [
              0.8888888888888888,
              "#fdca26"
             ],
             [
              1,
              "#f0f921"
             ]
            ],
            "type": "heatmap"
           }
          ],
          "heatmapgl": [
           {
            "colorbar": {
             "outlinewidth": 0,
             "ticks": ""
            },
            "colorscale": [
             [
              0,
              "#0d0887"
             ],
             [
              0.1111111111111111,
              "#46039f"
             ],
             [
              0.2222222222222222,
              "#7201a8"
             ],
             [
              0.3333333333333333,
              "#9c179e"
             ],
             [
              0.4444444444444444,
              "#bd3786"
             ],
             [
              0.5555555555555556,
              "#d8576b"
             ],
             [
              0.6666666666666666,
              "#ed7953"
             ],
             [
              0.7777777777777778,
              "#fb9f3a"
             ],
             [
              0.8888888888888888,
              "#fdca26"
             ],
             [
              1,
              "#f0f921"
             ]
            ],
            "type": "heatmapgl"
           }
          ],
          "histogram": [
           {
            "marker": {
             "pattern": {
              "fillmode": "overlay",
              "size": 10,
              "solidity": 0.2
             }
            },
            "type": "histogram"
           }
          ],
          "histogram2d": [
           {
            "colorbar": {
             "outlinewidth": 0,
             "ticks": ""
            },
            "colorscale": [
             [
              0,
              "#0d0887"
             ],
             [
              0.1111111111111111,
              "#46039f"
             ],
             [
              0.2222222222222222,
              "#7201a8"
             ],
             [
              0.3333333333333333,
              "#9c179e"
             ],
             [
              0.4444444444444444,
              "#bd3786"
             ],
             [
              0.5555555555555556,
              "#d8576b"
             ],
             [
              0.6666666666666666,
              "#ed7953"
             ],
             [
              0.7777777777777778,
              "#fb9f3a"
             ],
             [
              0.8888888888888888,
              "#fdca26"
             ],
             [
              1,
              "#f0f921"
             ]
            ],
            "type": "histogram2d"
           }
          ],
          "histogram2dcontour": [
           {
            "colorbar": {
             "outlinewidth": 0,
             "ticks": ""
            },
            "colorscale": [
             [
              0,
              "#0d0887"
             ],
             [
              0.1111111111111111,
              "#46039f"
             ],
             [
              0.2222222222222222,
              "#7201a8"
             ],
             [
              0.3333333333333333,
              "#9c179e"
             ],
             [
              0.4444444444444444,
              "#bd3786"
             ],
             [
              0.5555555555555556,
              "#d8576b"
             ],
             [
              0.6666666666666666,
              "#ed7953"
             ],
             [
              0.7777777777777778,
              "#fb9f3a"
             ],
             [
              0.8888888888888888,
              "#fdca26"
             ],
             [
              1,
              "#f0f921"
             ]
            ],
            "type": "histogram2dcontour"
           }
          ],
          "mesh3d": [
           {
            "colorbar": {
             "outlinewidth": 0,
             "ticks": ""
            },
            "type": "mesh3d"
           }
          ],
          "parcoords": [
           {
            "line": {
             "colorbar": {
              "outlinewidth": 0,
              "ticks": ""
             }
            },
            "type": "parcoords"
           }
          ],
          "pie": [
           {
            "automargin": true,
            "type": "pie"
           }
          ],
          "scatter": [
           {
            "fillpattern": {
             "fillmode": "overlay",
             "size": 10,
             "solidity": 0.2
            },
            "type": "scatter"
           }
          ],
          "scatter3d": [
           {
            "line": {
             "colorbar": {
              "outlinewidth": 0,
              "ticks": ""
             }
            },
            "marker": {
             "colorbar": {
              "outlinewidth": 0,
              "ticks": ""
             }
            },
            "type": "scatter3d"
           }
          ],
          "scattercarpet": [
           {
            "marker": {
             "colorbar": {
              "outlinewidth": 0,
              "ticks": ""
             }
            },
            "type": "scattercarpet"
           }
          ],
          "scattergeo": [
           {
            "marker": {
             "colorbar": {
              "outlinewidth": 0,
              "ticks": ""
             }
            },
            "type": "scattergeo"
           }
          ],
          "scattergl": [
           {
            "marker": {
             "colorbar": {
              "outlinewidth": 0,
              "ticks": ""
             }
            },
            "type": "scattergl"
           }
          ],
          "scattermapbox": [
           {
            "marker": {
             "colorbar": {
              "outlinewidth": 0,
              "ticks": ""
             }
            },
            "type": "scattermapbox"
           }
          ],
          "scatterpolar": [
           {
            "marker": {
             "colorbar": {
              "outlinewidth": 0,
              "ticks": ""
             }
            },
            "type": "scatterpolar"
           }
          ],
          "scatterpolargl": [
           {
            "marker": {
             "colorbar": {
              "outlinewidth": 0,
              "ticks": ""
             }
            },
            "type": "scatterpolargl"
           }
          ],
          "scatterternary": [
           {
            "marker": {
             "colorbar": {
              "outlinewidth": 0,
              "ticks": ""
             }
            },
            "type": "scatterternary"
           }
          ],
          "surface": [
           {
            "colorbar": {
             "outlinewidth": 0,
             "ticks": ""
            },
            "colorscale": [
             [
              0,
              "#0d0887"
             ],
             [
              0.1111111111111111,
              "#46039f"
             ],
             [
              0.2222222222222222,
              "#7201a8"
             ],
             [
              0.3333333333333333,
              "#9c179e"
             ],
             [
              0.4444444444444444,
              "#bd3786"
             ],
             [
              0.5555555555555556,
              "#d8576b"
             ],
             [
              0.6666666666666666,
              "#ed7953"
             ],
             [
              0.7777777777777778,
              "#fb9f3a"
             ],
             [
              0.8888888888888888,
              "#fdca26"
             ],
             [
              1,
              "#f0f921"
             ]
            ],
            "type": "surface"
           }
          ],
          "table": [
           {
            "cells": {
             "fill": {
              "color": "#EBF0F8"
             },
             "line": {
              "color": "white"
             }
            },
            "header": {
             "fill": {
              "color": "#C8D4E3"
             },
             "line": {
              "color": "white"
             }
            },
            "type": "table"
           }
          ]
         },
         "layout": {
          "annotationdefaults": {
           "arrowcolor": "#2a3f5f",
           "arrowhead": 0,
           "arrowwidth": 1
          },
          "autotypenumbers": "strict",
          "coloraxis": {
           "colorbar": {
            "outlinewidth": 0,
            "ticks": ""
           }
          },
          "colorscale": {
           "diverging": [
            [
             0,
             "#8e0152"
            ],
            [
             0.1,
             "#c51b7d"
            ],
            [
             0.2,
             "#de77ae"
            ],
            [
             0.3,
             "#f1b6da"
            ],
            [
             0.4,
             "#fde0ef"
            ],
            [
             0.5,
             "#f7f7f7"
            ],
            [
             0.6,
             "#e6f5d0"
            ],
            [
             0.7,
             "#b8e186"
            ],
            [
             0.8,
             "#7fbc41"
            ],
            [
             0.9,
             "#4d9221"
            ],
            [
             1,
             "#276419"
            ]
           ],
           "sequential": [
            [
             0,
             "#0d0887"
            ],
            [
             0.1111111111111111,
             "#46039f"
            ],
            [
             0.2222222222222222,
             "#7201a8"
            ],
            [
             0.3333333333333333,
             "#9c179e"
            ],
            [
             0.4444444444444444,
             "#bd3786"
            ],
            [
             0.5555555555555556,
             "#d8576b"
            ],
            [
             0.6666666666666666,
             "#ed7953"
            ],
            [
             0.7777777777777778,
             "#fb9f3a"
            ],
            [
             0.8888888888888888,
             "#fdca26"
            ],
            [
             1,
             "#f0f921"
            ]
           ],
           "sequentialminus": [
            [
             0,
             "#0d0887"
            ],
            [
             0.1111111111111111,
             "#46039f"
            ],
            [
             0.2222222222222222,
             "#7201a8"
            ],
            [
             0.3333333333333333,
             "#9c179e"
            ],
            [
             0.4444444444444444,
             "#bd3786"
            ],
            [
             0.5555555555555556,
             "#d8576b"
            ],
            [
             0.6666666666666666,
             "#ed7953"
            ],
            [
             0.7777777777777778,
             "#fb9f3a"
            ],
            [
             0.8888888888888888,
             "#fdca26"
            ],
            [
             1,
             "#f0f921"
            ]
           ]
          },
          "colorway": [
           "#636efa",
           "#EF553B",
           "#00cc96",
           "#ab63fa",
           "#FFA15A",
           "#19d3f3",
           "#FF6692",
           "#B6E880",
           "#FF97FF",
           "#FECB52"
          ],
          "font": {
           "color": "#2a3f5f"
          },
          "geo": {
           "bgcolor": "white",
           "lakecolor": "white",
           "landcolor": "#E5ECF6",
           "showlakes": true,
           "showland": true,
           "subunitcolor": "white"
          },
          "hoverlabel": {
           "align": "left"
          },
          "hovermode": "closest",
          "mapbox": {
           "style": "light"
          },
          "paper_bgcolor": "white",
          "plot_bgcolor": "#E5ECF6",
          "polar": {
           "angularaxis": {
            "gridcolor": "white",
            "linecolor": "white",
            "ticks": ""
           },
           "bgcolor": "#E5ECF6",
           "radialaxis": {
            "gridcolor": "white",
            "linecolor": "white",
            "ticks": ""
           }
          },
          "scene": {
           "xaxis": {
            "backgroundcolor": "#E5ECF6",
            "gridcolor": "white",
            "gridwidth": 2,
            "linecolor": "white",
            "showbackground": true,
            "ticks": "",
            "zerolinecolor": "white"
           },
           "yaxis": {
            "backgroundcolor": "#E5ECF6",
            "gridcolor": "white",
            "gridwidth": 2,
            "linecolor": "white",
            "showbackground": true,
            "ticks": "",
            "zerolinecolor": "white"
           },
           "zaxis": {
            "backgroundcolor": "#E5ECF6",
            "gridcolor": "white",
            "gridwidth": 2,
            "linecolor": "white",
            "showbackground": true,
            "ticks": "",
            "zerolinecolor": "white"
           }
          },
          "shapedefaults": {
           "line": {
            "color": "#2a3f5f"
           }
          },
          "ternary": {
           "aaxis": {
            "gridcolor": "white",
            "linecolor": "white",
            "ticks": ""
           },
           "baxis": {
            "gridcolor": "white",
            "linecolor": "white",
            "ticks": ""
           },
           "bgcolor": "#E5ECF6",
           "caxis": {
            "gridcolor": "white",
            "linecolor": "white",
            "ticks": ""
           }
          },
          "title": {
           "x": 0.05
          },
          "xaxis": {
           "automargin": true,
           "gridcolor": "white",
           "linecolor": "white",
           "ticks": "",
           "title": {
            "standoff": 15
           },
           "zerolinecolor": "white",
           "zerolinewidth": 2
          },
          "yaxis": {
           "automargin": true,
           "gridcolor": "white",
           "linecolor": "white",
           "ticks": "",
           "title": {
            "standoff": 15
           },
           "zerolinecolor": "white",
           "zerolinewidth": 2
          }
         }
        },
        "title": {
         "text": "Optimized Decision Tree Regression: Total Sales & Operating Profit Predictions vs. Actual Values (Monthly Data)"
        },
        "xaxis": {
         "anchor": "y",
         "domain": [
          0,
          1
         ],
         "title": {
          "text": "index"
         }
        },
        "yaxis": {
         "anchor": "x",
         "domain": [
          0,
          1
         ],
         "title": {
          "text": "value"
         }
        }
       }
      }
     },
     "metadata": {},
     "output_type": "display_data"
    }
   ],
   "source": [
    "#Plot the predictions vs. the actual values\n",
    "px.line(opt_dtr_predictions_df, x=opt_dtr_predictions_df.index, y=['Predicted_Total_Sales', 'Actual_Total_Sales', 'Predicted_Operating_Profit', 'Actual_Operating_Profit'], \n",
    "        title='Optimized Decision Tree Regression: Total Sales & Operating Profit Predictions vs. Actual Values (Monthly Data)')"
   ]
  },
  {
   "attachments": {},
   "cell_type": "markdown",
   "metadata": {},
   "source": [
    "## XGBoost Regression"
   ]
  },
  {
   "cell_type": "code",
   "execution_count": 266,
   "metadata": {},
   "outputs": [],
   "source": [
    "#Create model\n",
    "xgb_model = xgb.XGBRegressor(objective='reg:squarederror', n_estimators=1000, learning_rate=0.05, n_jobs=4)\n",
    "\n",
    "#Fit model to training data\n",
    "xgb_model.fit(X_train, y_train)\n",
    "\n",
    "#Make predictions using the testing data\n",
    "xgb_predictions = xgb_model.predict(X_test)"
   ]
  },
  {
   "cell_type": "code",
   "execution_count": 267,
   "metadata": {},
   "outputs": [
    {
     "name": "stdout",
     "output_type": "stream",
     "text": [
      "XGBoost Regressor MSE: 798805151256.7671\n",
      "XGBoost Regressor RMSE: 893759.0006577652\n"
     ]
    }
   ],
   "source": [
    "#Accuracy of the model\n",
    "xgb_mse = mean_squared_error(y_test, xgb_predictions)\n",
    "xgb_rmse = xgb_mse**.5\n",
    "\n",
    "print(f'XGBoost Regressor MSE: {xgb_mse}')\n",
    "print(f'XGBoost Regressor RMSE: {xgb_rmse}')"
   ]
  },
  {
   "cell_type": "code",
   "execution_count": 268,
   "metadata": {},
   "outputs": [
    {
     "data": {
      "text/html": [
       "<div>\n",
       "<style scoped>\n",
       "    .dataframe tbody tr th:only-of-type {\n",
       "        vertical-align: middle;\n",
       "    }\n",
       "\n",
       "    .dataframe tbody tr th {\n",
       "        vertical-align: top;\n",
       "    }\n",
       "\n",
       "    .dataframe thead th {\n",
       "        text-align: right;\n",
       "    }\n",
       "</style>\n",
       "<table border=\"1\" class=\"dataframe\">\n",
       "  <thead>\n",
       "    <tr style=\"text-align: right;\">\n",
       "      <th></th>\n",
       "      <th>Predicted_Total_Sales</th>\n",
       "      <th>Predicted_Operating_Profit</th>\n",
       "      <th>Actual_Total_Sales</th>\n",
       "      <th>Actual_Operating_Profit</th>\n",
       "    </tr>\n",
       "  </thead>\n",
       "  <tbody>\n",
       "    <tr>\n",
       "      <th>2020:Q1</th>\n",
       "      <td>2307503.750</td>\n",
       "      <td>8.380574e+05</td>\n",
       "      <td>2312746.0</td>\n",
       "      <td>883774.16</td>\n",
       "    </tr>\n",
       "    <tr>\n",
       "      <th>2020:Q2_3</th>\n",
       "      <td>2678921.000</td>\n",
       "      <td>1.038038e+06</td>\n",
       "      <td>1084194.0</td>\n",
       "      <td>307046.16</td>\n",
       "    </tr>\n",
       "    <tr>\n",
       "      <th>2020:Q3_2</th>\n",
       "      <td>2275040.000</td>\n",
       "      <td>8.286941e+05</td>\n",
       "      <td>2641630.0</td>\n",
       "      <td>1042648.29</td>\n",
       "    </tr>\n",
       "    <tr>\n",
       "      <th>2020:Q4</th>\n",
       "      <td>1123624.625</td>\n",
       "      <td>3.950558e+05</td>\n",
       "      <td>1428569.0</td>\n",
       "      <td>582342.96</td>\n",
       "    </tr>\n",
       "    <tr>\n",
       "      <th>2021:Q2</th>\n",
       "      <td>8647948.000</td>\n",
       "      <td>3.443152e+06</td>\n",
       "      <td>6498339.0</td>\n",
       "      <td>2644237.72</td>\n",
       "    </tr>\n",
       "    <tr>\n",
       "      <th>2021:Q4_2</th>\n",
       "      <td>8723153.000</td>\n",
       "      <td>3.532938e+06</td>\n",
       "      <td>7855390.0</td>\n",
       "      <td>3101992.69</td>\n",
       "    </tr>\n",
       "  </tbody>\n",
       "</table>\n",
       "</div>"
      ],
      "text/plain": [
       "           Predicted_Total_Sales  Predicted_Operating_Profit  \\\n",
       "2020:Q1              2307503.750                8.380574e+05   \n",
       "2020:Q2_3            2678921.000                1.038038e+06   \n",
       "2020:Q3_2            2275040.000                8.286941e+05   \n",
       "2020:Q4              1123624.625                3.950558e+05   \n",
       "2021:Q2              8647948.000                3.443152e+06   \n",
       "2021:Q4_2            8723153.000                3.532938e+06   \n",
       "\n",
       "           Actual_Total_Sales  Actual_Operating_Profit  \n",
       "2020:Q1             2312746.0                883774.16  \n",
       "2020:Q2_3           1084194.0                307046.16  \n",
       "2020:Q3_2           2641630.0               1042648.29  \n",
       "2020:Q4             1428569.0                582342.96  \n",
       "2021:Q2             6498339.0               2644237.72  \n",
       "2021:Q4_2           7855390.0               3101992.69  "
      ]
     },
     "execution_count": 268,
     "metadata": {},
     "output_type": "execute_result"
    }
   ],
   "source": [
    "#Create a dataframe of the predictions\n",
    "xgb_predictions_df = pd.DataFrame(xgb_predictions, columns=['Predicted_Total_Sales', 'Predicted_Operating_Profit'], index=y_test.index)\n",
    "xgb_predictions_df['Actual_Total_Sales'], xgb_predictions_df['Actual_Operating_Profit'] = y_test['Total_sales'], y_test['Operating_profit']\n",
    "xgb_predictions_df = xgb_predictions_df.sort_index()\n",
    "xgb_predictions_df"
   ]
  },
  {
   "cell_type": "code",
   "execution_count": 269,
   "metadata": {},
   "outputs": [
    {
     "data": {
      "application/vnd.plotly.v1+json": {
       "config": {
        "plotlyServerURL": "https://plot.ly"
       },
       "data": [
        {
         "hovertemplate": "variable=Predicted_Total_Sales<br>index=%{x}<br>value=%{y}<extra></extra>",
         "legendgroup": "Predicted_Total_Sales",
         "line": {
          "color": "#636efa",
          "dash": "solid"
         },
         "marker": {
          "symbol": "circle"
         },
         "mode": "lines",
         "name": "Predicted_Total_Sales",
         "orientation": "v",
         "showlegend": true,
         "type": "scatter",
         "x": [
          "2020:Q1",
          "2020:Q2_3",
          "2020:Q3_2",
          "2020:Q4",
          "2021:Q2",
          "2021:Q4_2"
         ],
         "xaxis": "x",
         "y": [
          2307503.75,
          2678921,
          2275040,
          1123624.625,
          8647948,
          8723153
         ],
         "yaxis": "y"
        },
        {
         "hovertemplate": "variable=Actual_Total_Sales<br>index=%{x}<br>value=%{y}<extra></extra>",
         "legendgroup": "Actual_Total_Sales",
         "line": {
          "color": "#EF553B",
          "dash": "solid"
         },
         "marker": {
          "symbol": "circle"
         },
         "mode": "lines",
         "name": "Actual_Total_Sales",
         "orientation": "v",
         "showlegend": true,
         "type": "scatter",
         "x": [
          "2020:Q1",
          "2020:Q2_3",
          "2020:Q3_2",
          "2020:Q4",
          "2021:Q2",
          "2021:Q4_2"
         ],
         "xaxis": "x",
         "y": [
          2312746,
          1084194,
          2641630,
          1428569,
          6498339,
          7855390.000000001
         ],
         "yaxis": "y"
        },
        {
         "hovertemplate": "variable=Predicted_Operating_Profit<br>index=%{x}<br>value=%{y}<extra></extra>",
         "legendgroup": "Predicted_Operating_Profit",
         "line": {
          "color": "#00cc96",
          "dash": "solid"
         },
         "marker": {
          "symbol": "circle"
         },
         "mode": "lines",
         "name": "Predicted_Operating_Profit",
         "orientation": "v",
         "showlegend": true,
         "type": "scatter",
         "x": [
          "2020:Q1",
          "2020:Q2_3",
          "2020:Q3_2",
          "2020:Q4",
          "2021:Q2",
          "2021:Q4_2"
         ],
         "xaxis": "x",
         "y": [
          838057.4375,
          1038038.5,
          828694.0625,
          395055.84375,
          3443151.5,
          3532937.5
         ],
         "yaxis": "y"
        },
        {
         "hovertemplate": "variable=Actual_Operating_Profit<br>index=%{x}<br>value=%{y}<extra></extra>",
         "legendgroup": "Actual_Operating_Profit",
         "line": {
          "color": "#ab63fa",
          "dash": "solid"
         },
         "marker": {
          "symbol": "circle"
         },
         "mode": "lines",
         "name": "Actual_Operating_Profit",
         "orientation": "v",
         "showlegend": true,
         "type": "scatter",
         "x": [
          "2020:Q1",
          "2020:Q2_3",
          "2020:Q3_2",
          "2020:Q4",
          "2021:Q2",
          "2021:Q4_2"
         ],
         "xaxis": "x",
         "y": [
          883774.16,
          307046.16,
          1042648.29,
          582342.96,
          2644237.72,
          3101992.6900000004
         ],
         "yaxis": "y"
        }
       ],
       "layout": {
        "legend": {
         "title": {
          "text": "variable"
         },
         "tracegroupgap": 0
        },
        "template": {
         "data": {
          "bar": [
           {
            "error_x": {
             "color": "#2a3f5f"
            },
            "error_y": {
             "color": "#2a3f5f"
            },
            "marker": {
             "line": {
              "color": "#E5ECF6",
              "width": 0.5
             },
             "pattern": {
              "fillmode": "overlay",
              "size": 10,
              "solidity": 0.2
             }
            },
            "type": "bar"
           }
          ],
          "barpolar": [
           {
            "marker": {
             "line": {
              "color": "#E5ECF6",
              "width": 0.5
             },
             "pattern": {
              "fillmode": "overlay",
              "size": 10,
              "solidity": 0.2
             }
            },
            "type": "barpolar"
           }
          ],
          "carpet": [
           {
            "aaxis": {
             "endlinecolor": "#2a3f5f",
             "gridcolor": "white",
             "linecolor": "white",
             "minorgridcolor": "white",
             "startlinecolor": "#2a3f5f"
            },
            "baxis": {
             "endlinecolor": "#2a3f5f",
             "gridcolor": "white",
             "linecolor": "white",
             "minorgridcolor": "white",
             "startlinecolor": "#2a3f5f"
            },
            "type": "carpet"
           }
          ],
          "choropleth": [
           {
            "colorbar": {
             "outlinewidth": 0,
             "ticks": ""
            },
            "type": "choropleth"
           }
          ],
          "contour": [
           {
            "colorbar": {
             "outlinewidth": 0,
             "ticks": ""
            },
            "colorscale": [
             [
              0,
              "#0d0887"
             ],
             [
              0.1111111111111111,
              "#46039f"
             ],
             [
              0.2222222222222222,
              "#7201a8"
             ],
             [
              0.3333333333333333,
              "#9c179e"
             ],
             [
              0.4444444444444444,
              "#bd3786"
             ],
             [
              0.5555555555555556,
              "#d8576b"
             ],
             [
              0.6666666666666666,
              "#ed7953"
             ],
             [
              0.7777777777777778,
              "#fb9f3a"
             ],
             [
              0.8888888888888888,
              "#fdca26"
             ],
             [
              1,
              "#f0f921"
             ]
            ],
            "type": "contour"
           }
          ],
          "contourcarpet": [
           {
            "colorbar": {
             "outlinewidth": 0,
             "ticks": ""
            },
            "type": "contourcarpet"
           }
          ],
          "heatmap": [
           {
            "colorbar": {
             "outlinewidth": 0,
             "ticks": ""
            },
            "colorscale": [
             [
              0,
              "#0d0887"
             ],
             [
              0.1111111111111111,
              "#46039f"
             ],
             [
              0.2222222222222222,
              "#7201a8"
             ],
             [
              0.3333333333333333,
              "#9c179e"
             ],
             [
              0.4444444444444444,
              "#bd3786"
             ],
             [
              0.5555555555555556,
              "#d8576b"
             ],
             [
              0.6666666666666666,
              "#ed7953"
             ],
             [
              0.7777777777777778,
              "#fb9f3a"
             ],
             [
              0.8888888888888888,
              "#fdca26"
             ],
             [
              1,
              "#f0f921"
             ]
            ],
            "type": "heatmap"
           }
          ],
          "heatmapgl": [
           {
            "colorbar": {
             "outlinewidth": 0,
             "ticks": ""
            },
            "colorscale": [
             [
              0,
              "#0d0887"
             ],
             [
              0.1111111111111111,
              "#46039f"
             ],
             [
              0.2222222222222222,
              "#7201a8"
             ],
             [
              0.3333333333333333,
              "#9c179e"
             ],
             [
              0.4444444444444444,
              "#bd3786"
             ],
             [
              0.5555555555555556,
              "#d8576b"
             ],
             [
              0.6666666666666666,
              "#ed7953"
             ],
             [
              0.7777777777777778,
              "#fb9f3a"
             ],
             [
              0.8888888888888888,
              "#fdca26"
             ],
             [
              1,
              "#f0f921"
             ]
            ],
            "type": "heatmapgl"
           }
          ],
          "histogram": [
           {
            "marker": {
             "pattern": {
              "fillmode": "overlay",
              "size": 10,
              "solidity": 0.2
             }
            },
            "type": "histogram"
           }
          ],
          "histogram2d": [
           {
            "colorbar": {
             "outlinewidth": 0,
             "ticks": ""
            },
            "colorscale": [
             [
              0,
              "#0d0887"
             ],
             [
              0.1111111111111111,
              "#46039f"
             ],
             [
              0.2222222222222222,
              "#7201a8"
             ],
             [
              0.3333333333333333,
              "#9c179e"
             ],
             [
              0.4444444444444444,
              "#bd3786"
             ],
             [
              0.5555555555555556,
              "#d8576b"
             ],
             [
              0.6666666666666666,
              "#ed7953"
             ],
             [
              0.7777777777777778,
              "#fb9f3a"
             ],
             [
              0.8888888888888888,
              "#fdca26"
             ],
             [
              1,
              "#f0f921"
             ]
            ],
            "type": "histogram2d"
           }
          ],
          "histogram2dcontour": [
           {
            "colorbar": {
             "outlinewidth": 0,
             "ticks": ""
            },
            "colorscale": [
             [
              0,
              "#0d0887"
             ],
             [
              0.1111111111111111,
              "#46039f"
             ],
             [
              0.2222222222222222,
              "#7201a8"
             ],
             [
              0.3333333333333333,
              "#9c179e"
             ],
             [
              0.4444444444444444,
              "#bd3786"
             ],
             [
              0.5555555555555556,
              "#d8576b"
             ],
             [
              0.6666666666666666,
              "#ed7953"
             ],
             [
              0.7777777777777778,
              "#fb9f3a"
             ],
             [
              0.8888888888888888,
              "#fdca26"
             ],
             [
              1,
              "#f0f921"
             ]
            ],
            "type": "histogram2dcontour"
           }
          ],
          "mesh3d": [
           {
            "colorbar": {
             "outlinewidth": 0,
             "ticks": ""
            },
            "type": "mesh3d"
           }
          ],
          "parcoords": [
           {
            "line": {
             "colorbar": {
              "outlinewidth": 0,
              "ticks": ""
             }
            },
            "type": "parcoords"
           }
          ],
          "pie": [
           {
            "automargin": true,
            "type": "pie"
           }
          ],
          "scatter": [
           {
            "fillpattern": {
             "fillmode": "overlay",
             "size": 10,
             "solidity": 0.2
            },
            "type": "scatter"
           }
          ],
          "scatter3d": [
           {
            "line": {
             "colorbar": {
              "outlinewidth": 0,
              "ticks": ""
             }
            },
            "marker": {
             "colorbar": {
              "outlinewidth": 0,
              "ticks": ""
             }
            },
            "type": "scatter3d"
           }
          ],
          "scattercarpet": [
           {
            "marker": {
             "colorbar": {
              "outlinewidth": 0,
              "ticks": ""
             }
            },
            "type": "scattercarpet"
           }
          ],
          "scattergeo": [
           {
            "marker": {
             "colorbar": {
              "outlinewidth": 0,
              "ticks": ""
             }
            },
            "type": "scattergeo"
           }
          ],
          "scattergl": [
           {
            "marker": {
             "colorbar": {
              "outlinewidth": 0,
              "ticks": ""
             }
            },
            "type": "scattergl"
           }
          ],
          "scattermapbox": [
           {
            "marker": {
             "colorbar": {
              "outlinewidth": 0,
              "ticks": ""
             }
            },
            "type": "scattermapbox"
           }
          ],
          "scatterpolar": [
           {
            "marker": {
             "colorbar": {
              "outlinewidth": 0,
              "ticks": ""
             }
            },
            "type": "scatterpolar"
           }
          ],
          "scatterpolargl": [
           {
            "marker": {
             "colorbar": {
              "outlinewidth": 0,
              "ticks": ""
             }
            },
            "type": "scatterpolargl"
           }
          ],
          "scatterternary": [
           {
            "marker": {
             "colorbar": {
              "outlinewidth": 0,
              "ticks": ""
             }
            },
            "type": "scatterternary"
           }
          ],
          "surface": [
           {
            "colorbar": {
             "outlinewidth": 0,
             "ticks": ""
            },
            "colorscale": [
             [
              0,
              "#0d0887"
             ],
             [
              0.1111111111111111,
              "#46039f"
             ],
             [
              0.2222222222222222,
              "#7201a8"
             ],
             [
              0.3333333333333333,
              "#9c179e"
             ],
             [
              0.4444444444444444,
              "#bd3786"
             ],
             [
              0.5555555555555556,
              "#d8576b"
             ],
             [
              0.6666666666666666,
              "#ed7953"
             ],
             [
              0.7777777777777778,
              "#fb9f3a"
             ],
             [
              0.8888888888888888,
              "#fdca26"
             ],
             [
              1,
              "#f0f921"
             ]
            ],
            "type": "surface"
           }
          ],
          "table": [
           {
            "cells": {
             "fill": {
              "color": "#EBF0F8"
             },
             "line": {
              "color": "white"
             }
            },
            "header": {
             "fill": {
              "color": "#C8D4E3"
             },
             "line": {
              "color": "white"
             }
            },
            "type": "table"
           }
          ]
         },
         "layout": {
          "annotationdefaults": {
           "arrowcolor": "#2a3f5f",
           "arrowhead": 0,
           "arrowwidth": 1
          },
          "autotypenumbers": "strict",
          "coloraxis": {
           "colorbar": {
            "outlinewidth": 0,
            "ticks": ""
           }
          },
          "colorscale": {
           "diverging": [
            [
             0,
             "#8e0152"
            ],
            [
             0.1,
             "#c51b7d"
            ],
            [
             0.2,
             "#de77ae"
            ],
            [
             0.3,
             "#f1b6da"
            ],
            [
             0.4,
             "#fde0ef"
            ],
            [
             0.5,
             "#f7f7f7"
            ],
            [
             0.6,
             "#e6f5d0"
            ],
            [
             0.7,
             "#b8e186"
            ],
            [
             0.8,
             "#7fbc41"
            ],
            [
             0.9,
             "#4d9221"
            ],
            [
             1,
             "#276419"
            ]
           ],
           "sequential": [
            [
             0,
             "#0d0887"
            ],
            [
             0.1111111111111111,
             "#46039f"
            ],
            [
             0.2222222222222222,
             "#7201a8"
            ],
            [
             0.3333333333333333,
             "#9c179e"
            ],
            [
             0.4444444444444444,
             "#bd3786"
            ],
            [
             0.5555555555555556,
             "#d8576b"
            ],
            [
             0.6666666666666666,
             "#ed7953"
            ],
            [
             0.7777777777777778,
             "#fb9f3a"
            ],
            [
             0.8888888888888888,
             "#fdca26"
            ],
            [
             1,
             "#f0f921"
            ]
           ],
           "sequentialminus": [
            [
             0,
             "#0d0887"
            ],
            [
             0.1111111111111111,
             "#46039f"
            ],
            [
             0.2222222222222222,
             "#7201a8"
            ],
            [
             0.3333333333333333,
             "#9c179e"
            ],
            [
             0.4444444444444444,
             "#bd3786"
            ],
            [
             0.5555555555555556,
             "#d8576b"
            ],
            [
             0.6666666666666666,
             "#ed7953"
            ],
            [
             0.7777777777777778,
             "#fb9f3a"
            ],
            [
             0.8888888888888888,
             "#fdca26"
            ],
            [
             1,
             "#f0f921"
            ]
           ]
          },
          "colorway": [
           "#636efa",
           "#EF553B",
           "#00cc96",
           "#ab63fa",
           "#FFA15A",
           "#19d3f3",
           "#FF6692",
           "#B6E880",
           "#FF97FF",
           "#FECB52"
          ],
          "font": {
           "color": "#2a3f5f"
          },
          "geo": {
           "bgcolor": "white",
           "lakecolor": "white",
           "landcolor": "#E5ECF6",
           "showlakes": true,
           "showland": true,
           "subunitcolor": "white"
          },
          "hoverlabel": {
           "align": "left"
          },
          "hovermode": "closest",
          "mapbox": {
           "style": "light"
          },
          "paper_bgcolor": "white",
          "plot_bgcolor": "#E5ECF6",
          "polar": {
           "angularaxis": {
            "gridcolor": "white",
            "linecolor": "white",
            "ticks": ""
           },
           "bgcolor": "#E5ECF6",
           "radialaxis": {
            "gridcolor": "white",
            "linecolor": "white",
            "ticks": ""
           }
          },
          "scene": {
           "xaxis": {
            "backgroundcolor": "#E5ECF6",
            "gridcolor": "white",
            "gridwidth": 2,
            "linecolor": "white",
            "showbackground": true,
            "ticks": "",
            "zerolinecolor": "white"
           },
           "yaxis": {
            "backgroundcolor": "#E5ECF6",
            "gridcolor": "white",
            "gridwidth": 2,
            "linecolor": "white",
            "showbackground": true,
            "ticks": "",
            "zerolinecolor": "white"
           },
           "zaxis": {
            "backgroundcolor": "#E5ECF6",
            "gridcolor": "white",
            "gridwidth": 2,
            "linecolor": "white",
            "showbackground": true,
            "ticks": "",
            "zerolinecolor": "white"
           }
          },
          "shapedefaults": {
           "line": {
            "color": "#2a3f5f"
           }
          },
          "ternary": {
           "aaxis": {
            "gridcolor": "white",
            "linecolor": "white",
            "ticks": ""
           },
           "baxis": {
            "gridcolor": "white",
            "linecolor": "white",
            "ticks": ""
           },
           "bgcolor": "#E5ECF6",
           "caxis": {
            "gridcolor": "white",
            "linecolor": "white",
            "ticks": ""
           }
          },
          "title": {
           "x": 0.05
          },
          "xaxis": {
           "automargin": true,
           "gridcolor": "white",
           "linecolor": "white",
           "ticks": "",
           "title": {
            "standoff": 15
           },
           "zerolinecolor": "white",
           "zerolinewidth": 2
          },
          "yaxis": {
           "automargin": true,
           "gridcolor": "white",
           "linecolor": "white",
           "ticks": "",
           "title": {
            "standoff": 15
           },
           "zerolinecolor": "white",
           "zerolinewidth": 2
          }
         }
        },
        "title": {
         "text": "XGBoost Regression: Total Sales & Operating Profit Predictions vs. Actual Values (Monthly Data)"
        },
        "xaxis": {
         "anchor": "y",
         "domain": [
          0,
          1
         ],
         "title": {
          "text": "index"
         }
        },
        "yaxis": {
         "anchor": "x",
         "domain": [
          0,
          1
         ],
         "title": {
          "text": "value"
         }
        }
       }
      }
     },
     "metadata": {},
     "output_type": "display_data"
    }
   ],
   "source": [
    "#Plot the predictions vs. the actual values\n",
    "px.line(xgb_predictions_df, x=xgb_predictions_df.index, y=['Predicted_Total_Sales', 'Actual_Total_Sales', 'Predicted_Operating_Profit', 'Actual_Operating_Profit'], \n",
    "        title='XGBoost Regression: Total Sales & Operating Profit Predictions vs. Actual Values (Monthly Data)')"
   ]
  },
  {
   "cell_type": "code",
   "execution_count": 272,
   "metadata": {},
   "outputs": [
    {
     "data": {
      "text/plain": [
       "GridSearchCV(estimator=XGBRegressor(base_score=None, booster=None,\n",
       "                                    callbacks=None, colsample_bylevel=None,\n",
       "                                    colsample_bynode=None,\n",
       "                                    colsample_bytree=None,\n",
       "                                    early_stopping_rounds=None,\n",
       "                                    enable_categorical=False, eval_metric=None,\n",
       "                                    feature_types=None, gamma=None, gpu_id=None,\n",
       "                                    grow_policy=None, importance_type=None,\n",
       "                                    interaction_constraints=None,\n",
       "                                    learning_rate=0.05, max_bi...\n",
       "                                    n_estimators=1000, n_jobs=4,\n",
       "                                    num_parallel_tree=None, predictor=None,\n",
       "                                    random_state=None, ...),\n",
       "             n_jobs=4,\n",
       "             param_grid={'gamma': [0, 0.25, 0.5, 1.0],\n",
       "                         'learning_rate': [0.01, 0.05, 0.1, 0.2, 0.3, 0.5, 1.0],\n",
       "                         'max_depth': [None, 5, 10, 15, 20],\n",
       "                         'min_child_weight': [1, 2, 3, 4, 5],\n",
       "                         'reg_alpha': [0, 0.25, 0.5, 1.0],\n",
       "                         'reg_lambda': [0, 0.25, 0.5, 1.0]},\n",
       "             scoring=make_scorer(mean_squared_error, greater_is_better=False))"
      ]
     },
     "execution_count": 272,
     "metadata": {},
     "output_type": "execute_result"
    }
   ],
   "source": [
    "#Define the scoring function to be used in GridSearchCV\n",
    "mse = make_scorer(mean_squared_error, greater_is_better=False)\n",
    "\n",
    "#Find optimal parameters using GridSearchCV\n",
    "xgb_grid = {'max_depth': [None, 5, 10, 15, 20],\n",
    "        'min_child_weight': [1, 2, 3, 4, 5],\n",
    "        'gamma': [0, 0.25, 0.5, 1.0],\n",
    "        'reg_alpha': [0, 0.25, 0.5, 1.0],\n",
    "        'reg_lambda': [0, 0.25, 0.5, 1.0],\n",
    "        'learning_rate': [0.01, 0.05, 0.1, 0.2, 0.3, 0.5, 1.0]}\n",
    "\n",
    "#Create the GridSearchCV object\n",
    "xgb_CV = GridSearchCV(estimator=xgb.XGBRegressor(objective='reg:squarederror', n_estimators=1000, learning_rate=0.05, n_jobs=4), \n",
    "                      param_grid=xgb_grid, scoring=mse, n_jobs=4)\n",
    "xgb_CV.fit(X_train, y_train)"
   ]
  },
  {
   "cell_type": "code",
   "execution_count": 273,
   "metadata": {},
   "outputs": [
    {
     "data": {
      "text/plain": [
       "{'gamma': 0,\n",
       " 'learning_rate': 0.1,\n",
       " 'max_depth': None,\n",
       " 'min_child_weight': 5,\n",
       " 'reg_alpha': 1.0,\n",
       " 'reg_lambda': 1.0}"
      ]
     },
     "execution_count": 273,
     "metadata": {},
     "output_type": "execute_result"
    }
   ],
   "source": [
    "xgb_CV.best_params_"
   ]
  },
  {
   "cell_type": "code",
   "execution_count": 274,
   "metadata": {},
   "outputs": [],
   "source": [
    "#Use the optimal parameters to create a new model\n",
    "opt_xgb_model = xgb.XGBRegressor(objective='reg:squarederror', learning_rate=0.1, \n",
    "                                 max_depth=None, min_child_weight=5, gamma=0, reg_alpha=1.0, reg_lambda=1.0)\n",
    "\n",
    "#Fit model to training data\n",
    "opt_xgb_model.fit(X_train, y_train)\n",
    "\n",
    "#Make predictions using the testing data\n",
    "opt_xgb_predictions = opt_xgb_model.predict(X_test)"
   ]
  },
  {
   "cell_type": "code",
   "execution_count": 275,
   "metadata": {},
   "outputs": [
    {
     "name": "stdout",
     "output_type": "stream",
     "text": [
      "XGBoost Regressor MSE: 866637837497.1515\n",
      "XGBoost Regressor RMSE: 930933.852374674\n"
     ]
    }
   ],
   "source": [
    "#Accuracy of the model\n",
    "opt_xgb_mse = mean_squared_error(y_test, opt_xgb_predictions)\n",
    "opt_xgb_rmse = opt_xgb_mse**.5\n",
    "\n",
    "print(f'XGBoost Regressor MSE: {opt_xgb_mse}')\n",
    "print(f'XGBoost Regressor RMSE: {opt_xgb_rmse}')"
   ]
  },
  {
   "cell_type": "code",
   "execution_count": 277,
   "metadata": {},
   "outputs": [
    {
     "name": "stdout",
     "output_type": "stream",
     "text": [
      "RMSE: 924809.4220717252\n",
      "Optimal Parameters: learning_rate=0.01, max_depth=None, min_child_weight=1, gamma=0, reg_alpha=0, reg_lambda=0.25\n",
      "RMSE: 908493.094105406\n",
      "Optimal Parameters: learning_rate=0.01, max_depth=None, min_child_weight=3, gamma=0, reg_alpha=0, reg_lambda=0\n",
      "RMSE: 875128.2427081533\n",
      "Optimal Parameters: learning_rate=0.05, max_depth=None, min_child_weight=1, gamma=0, reg_alpha=0, reg_lambda=0\n",
      "RMSE: 870906.8821407054\n",
      "Optimal Parameters: learning_rate=0.05, max_depth=None, min_child_weight=1, gamma=0, reg_alpha=0, reg_lambda=0.25\n",
      "RMSE: 867095.05377015\n",
      "Optimal Parameters: learning_rate=0.05, max_depth=None, min_child_weight=1, gamma=0, reg_alpha=0, reg_lambda=0.5\n",
      "RMSE: 860717.6654119646\n",
      "Optimal Parameters: learning_rate=0.05, max_depth=None, min_child_weight=1, gamma=0, reg_alpha=0, reg_lambda=1.0\n",
      "RMSE: 860717.6476760523\n",
      "Optimal Parameters: learning_rate=0.05, max_depth=None, min_child_weight=1, gamma=0, reg_alpha=0.25, reg_lambda=1.0\n",
      "RMSE: 860717.628992574\n",
      "Optimal Parameters: learning_rate=0.05, max_depth=None, min_child_weight=1, gamma=0, reg_alpha=0.5, reg_lambda=1.0\n",
      "RMSE: 860717.6220558325\n",
      "Optimal Parameters: learning_rate=0.05, max_depth=None, min_child_weight=1, gamma=0, reg_alpha=1.0, reg_lambda=1.0\n"
     ]
    }
   ],
   "source": [
    "#For loop to find the optimal parameters\n",
    "opt_xgb_rmse_loop = 930933\n",
    "\n",
    "for lr in xgb_grid['learning_rate']:\n",
    "    for md in xgb_grid['max_depth']:\n",
    "        for mcw in xgb_grid['min_child_weight']:\n",
    "            for g in xgb_grid['gamma']:\n",
    "                for ra in xgb_grid['reg_alpha']:\n",
    "                    for rl in xgb_grid['reg_lambda']:\n",
    "                        xgb_model_loop = xgb.XGBRegressor(objective='reg:squarederror', n_jobs=4, learning_rate=lr, \n",
    "                                                          max_depth=md, min_child_weight=mcw, gamma=g, reg_alpha=ra, reg_lambda=rl)\n",
    "\n",
    "                        xgb_model_loop.fit(X_train, y_train)\n",
    "                        xgb_predictions_loop = xgb_model_loop.predict(X_test)\n",
    "                        xgb_mse_loop = mean_squared_error(y_test, xgb_predictions_loop)\n",
    "                        xgb_rmse_in_loop = xgb_mse_loop**.5\n",
    "                        \n",
    "                        #If the RMSE is lower than the previous RMSE, then update\n",
    "                        if xgb_rmse_in_loop < opt_xgb_rmse_loop:\n",
    "                            opt_xgb_rmse_loop = xgb_rmse_in_loop\n",
    "                            print(f'RMSE: {opt_xgb_rmse_loop}')\n",
    "                            print(f'Optimal Parameters: learning_rate={lr}, max_depth={md}, min_child_weight={mcw}, gamma={g}, reg_alpha={ra}, reg_lambda={rl}')"
   ]
  },
  {
   "cell_type": "code",
   "execution_count": 278,
   "metadata": {},
   "outputs": [],
   "source": [
    "#Create a XGBoost Regressor model with the optimal parameters\n",
    "opt_xgb_model = xgb.XGBRegressor(objective='reg:squarederror', n_jobs=4, learning_rate=0.05, max_depth=None, \n",
    "                                 min_child_weight=1, gamma=0, reg_alpha=1.0, reg_lambda=1.0)\n",
    "\n",
    "#Fit model to training data\n",
    "opt_xgb_model.fit(X_train, y_train)\n",
    "\n",
    "#Make predictions using the testing data\n",
    "opt_xgb_predictions = opt_xgb_model.predict(X_test)"
   ]
  },
  {
   "cell_type": "code",
   "execution_count": 279,
   "metadata": {},
   "outputs": [
    {
     "name": "stdout",
     "output_type": "stream",
     "text": [
      "XGBoost Regressor MSE: 740834824917.4469\n",
      "XGBoost Regressor RMSE: 860717.6220558325\n"
     ]
    }
   ],
   "source": [
    "#Calculate the mean squared error and root mean squared error as performance metrics\n",
    "opt_xgb_mse = mean_squared_error(y_test, opt_xgb_predictions)\n",
    "opt_xgb_rmse = opt_xgb_mse**.5\n",
    "\n",
    "print(f'XGBoost Regressor MSE: {opt_xgb_mse}')\n",
    "print(f'XGBoost Regressor RMSE: {opt_xgb_rmse}')"
   ]
  },
  {
   "cell_type": "code",
   "execution_count": 280,
   "metadata": {},
   "outputs": [
    {
     "data": {
      "text/html": [
       "<div>\n",
       "<style scoped>\n",
       "    .dataframe tbody tr th:only-of-type {\n",
       "        vertical-align: middle;\n",
       "    }\n",
       "\n",
       "    .dataframe tbody tr th {\n",
       "        vertical-align: top;\n",
       "    }\n",
       "\n",
       "    .dataframe thead th {\n",
       "        text-align: right;\n",
       "    }\n",
       "</style>\n",
       "<table border=\"1\" class=\"dataframe\">\n",
       "  <thead>\n",
       "    <tr style=\"text-align: right;\">\n",
       "      <th></th>\n",
       "      <th>Predicted_Total_Sales</th>\n",
       "      <th>Predicted_Operating_Profit</th>\n",
       "      <th>Actual_Total_Sales</th>\n",
       "      <th>Actual_Operating_Profit</th>\n",
       "    </tr>\n",
       "  </thead>\n",
       "  <tbody>\n",
       "    <tr>\n",
       "      <th>2020:Q1</th>\n",
       "      <td>2277057.500</td>\n",
       "      <td>8.258546e+05</td>\n",
       "      <td>2312746.0</td>\n",
       "      <td>883774.16</td>\n",
       "    </tr>\n",
       "    <tr>\n",
       "      <th>2020:Q2_3</th>\n",
       "      <td>2642997.000</td>\n",
       "      <td>1.023910e+06</td>\n",
       "      <td>1084194.0</td>\n",
       "      <td>307046.16</td>\n",
       "    </tr>\n",
       "    <tr>\n",
       "      <th>2020:Q3_2</th>\n",
       "      <td>2258448.250</td>\n",
       "      <td>8.221252e+05</td>\n",
       "      <td>2641630.0</td>\n",
       "      <td>1042648.29</td>\n",
       "    </tr>\n",
       "    <tr>\n",
       "      <th>2020:Q4</th>\n",
       "      <td>1112905.125</td>\n",
       "      <td>3.907887e+05</td>\n",
       "      <td>1428569.0</td>\n",
       "      <td>582342.96</td>\n",
       "    </tr>\n",
       "    <tr>\n",
       "      <th>2021:Q2</th>\n",
       "      <td>8564761.000</td>\n",
       "      <td>3.409284e+06</td>\n",
       "      <td>6498339.0</td>\n",
       "      <td>2644237.72</td>\n",
       "    </tr>\n",
       "    <tr>\n",
       "      <th>2021:Q4_2</th>\n",
       "      <td>8629663.000</td>\n",
       "      <td>3.495616e+06</td>\n",
       "      <td>7855390.0</td>\n",
       "      <td>3101992.69</td>\n",
       "    </tr>\n",
       "  </tbody>\n",
       "</table>\n",
       "</div>"
      ],
      "text/plain": [
       "           Predicted_Total_Sales  Predicted_Operating_Profit  \\\n",
       "2020:Q1              2277057.500                8.258546e+05   \n",
       "2020:Q2_3            2642997.000                1.023910e+06   \n",
       "2020:Q3_2            2258448.250                8.221252e+05   \n",
       "2020:Q4              1112905.125                3.907887e+05   \n",
       "2021:Q2              8564761.000                3.409284e+06   \n",
       "2021:Q4_2            8629663.000                3.495616e+06   \n",
       "\n",
       "           Actual_Total_Sales  Actual_Operating_Profit  \n",
       "2020:Q1             2312746.0                883774.16  \n",
       "2020:Q2_3           1084194.0                307046.16  \n",
       "2020:Q3_2           2641630.0               1042648.29  \n",
       "2020:Q4             1428569.0                582342.96  \n",
       "2021:Q2             6498339.0               2644237.72  \n",
       "2021:Q4_2           7855390.0               3101992.69  "
      ]
     },
     "execution_count": 280,
     "metadata": {},
     "output_type": "execute_result"
    }
   ],
   "source": [
    "#Create a dataframe of the predictions\n",
    "opt_xgb_predictions_df = pd.DataFrame(opt_xgb_predictions, columns=['Predicted_Total_Sales', 'Predicted_Operating_Profit'], index=y_test.index)\n",
    "opt_xgb_predictions_df['Actual_Total_Sales'], opt_xgb_predictions_df['Actual_Operating_Profit'] = y_test['Total_sales'], y_test['Operating_profit']\n",
    "opt_xgb_predictions_df = opt_xgb_predictions_df.sort_index()\n",
    "opt_xgb_predictions_df"
   ]
  },
  {
   "cell_type": "code",
   "execution_count": 281,
   "metadata": {},
   "outputs": [
    {
     "data": {
      "application/vnd.plotly.v1+json": {
       "config": {
        "plotlyServerURL": "https://plot.ly"
       },
       "data": [
        {
         "hovertemplate": "variable=Predicted_Total_Sales<br>index=%{x}<br>value=%{y}<extra></extra>",
         "legendgroup": "Predicted_Total_Sales",
         "line": {
          "color": "#636efa",
          "dash": "solid"
         },
         "marker": {
          "symbol": "circle"
         },
         "mode": "lines",
         "name": "Predicted_Total_Sales",
         "orientation": "v",
         "showlegend": true,
         "type": "scatter",
         "x": [
          "2020:Q1",
          "2020:Q2_3",
          "2020:Q3_2",
          "2020:Q4",
          "2021:Q2",
          "2021:Q4_2"
         ],
         "xaxis": "x",
         "y": [
          2277057.5,
          2642997,
          2258448.25,
          1112905.125,
          8564761,
          8629663
         ],
         "yaxis": "y"
        },
        {
         "hovertemplate": "variable=Actual_Total_Sales<br>index=%{x}<br>value=%{y}<extra></extra>",
         "legendgroup": "Actual_Total_Sales",
         "line": {
          "color": "#EF553B",
          "dash": "solid"
         },
         "marker": {
          "symbol": "circle"
         },
         "mode": "lines",
         "name": "Actual_Total_Sales",
         "orientation": "v",
         "showlegend": true,
         "type": "scatter",
         "x": [
          "2020:Q1",
          "2020:Q2_3",
          "2020:Q3_2",
          "2020:Q4",
          "2021:Q2",
          "2021:Q4_2"
         ],
         "xaxis": "x",
         "y": [
          2312746,
          1084194,
          2641630,
          1428569,
          6498339,
          7855390.000000001
         ],
         "yaxis": "y"
        },
        {
         "hovertemplate": "variable=Predicted_Operating_Profit<br>index=%{x}<br>value=%{y}<extra></extra>",
         "legendgroup": "Predicted_Operating_Profit",
         "line": {
          "color": "#00cc96",
          "dash": "solid"
         },
         "marker": {
          "symbol": "circle"
         },
         "mode": "lines",
         "name": "Predicted_Operating_Profit",
         "orientation": "v",
         "showlegend": true,
         "type": "scatter",
         "x": [
          "2020:Q1",
          "2020:Q2_3",
          "2020:Q3_2",
          "2020:Q4",
          "2021:Q2",
          "2021:Q4_2"
         ],
         "xaxis": "x",
         "y": [
          825854.5625,
          1023910.1875,
          822125.1875,
          390788.6875,
          3409283.5,
          3495616.5
         ],
         "yaxis": "y"
        },
        {
         "hovertemplate": "variable=Actual_Operating_Profit<br>index=%{x}<br>value=%{y}<extra></extra>",
         "legendgroup": "Actual_Operating_Profit",
         "line": {
          "color": "#ab63fa",
          "dash": "solid"
         },
         "marker": {
          "symbol": "circle"
         },
         "mode": "lines",
         "name": "Actual_Operating_Profit",
         "orientation": "v",
         "showlegend": true,
         "type": "scatter",
         "x": [
          "2020:Q1",
          "2020:Q2_3",
          "2020:Q3_2",
          "2020:Q4",
          "2021:Q2",
          "2021:Q4_2"
         ],
         "xaxis": "x",
         "y": [
          883774.16,
          307046.16,
          1042648.29,
          582342.96,
          2644237.72,
          3101992.6900000004
         ],
         "yaxis": "y"
        }
       ],
       "layout": {
        "legend": {
         "title": {
          "text": "variable"
         },
         "tracegroupgap": 0
        },
        "template": {
         "data": {
          "bar": [
           {
            "error_x": {
             "color": "#2a3f5f"
            },
            "error_y": {
             "color": "#2a3f5f"
            },
            "marker": {
             "line": {
              "color": "#E5ECF6",
              "width": 0.5
             },
             "pattern": {
              "fillmode": "overlay",
              "size": 10,
              "solidity": 0.2
             }
            },
            "type": "bar"
           }
          ],
          "barpolar": [
           {
            "marker": {
             "line": {
              "color": "#E5ECF6",
              "width": 0.5
             },
             "pattern": {
              "fillmode": "overlay",
              "size": 10,
              "solidity": 0.2
             }
            },
            "type": "barpolar"
           }
          ],
          "carpet": [
           {
            "aaxis": {
             "endlinecolor": "#2a3f5f",
             "gridcolor": "white",
             "linecolor": "white",
             "minorgridcolor": "white",
             "startlinecolor": "#2a3f5f"
            },
            "baxis": {
             "endlinecolor": "#2a3f5f",
             "gridcolor": "white",
             "linecolor": "white",
             "minorgridcolor": "white",
             "startlinecolor": "#2a3f5f"
            },
            "type": "carpet"
           }
          ],
          "choropleth": [
           {
            "colorbar": {
             "outlinewidth": 0,
             "ticks": ""
            },
            "type": "choropleth"
           }
          ],
          "contour": [
           {
            "colorbar": {
             "outlinewidth": 0,
             "ticks": ""
            },
            "colorscale": [
             [
              0,
              "#0d0887"
             ],
             [
              0.1111111111111111,
              "#46039f"
             ],
             [
              0.2222222222222222,
              "#7201a8"
             ],
             [
              0.3333333333333333,
              "#9c179e"
             ],
             [
              0.4444444444444444,
              "#bd3786"
             ],
             [
              0.5555555555555556,
              "#d8576b"
             ],
             [
              0.6666666666666666,
              "#ed7953"
             ],
             [
              0.7777777777777778,
              "#fb9f3a"
             ],
             [
              0.8888888888888888,
              "#fdca26"
             ],
             [
              1,
              "#f0f921"
             ]
            ],
            "type": "contour"
           }
          ],
          "contourcarpet": [
           {
            "colorbar": {
             "outlinewidth": 0,
             "ticks": ""
            },
            "type": "contourcarpet"
           }
          ],
          "heatmap": [
           {
            "colorbar": {
             "outlinewidth": 0,
             "ticks": ""
            },
            "colorscale": [
             [
              0,
              "#0d0887"
             ],
             [
              0.1111111111111111,
              "#46039f"
             ],
             [
              0.2222222222222222,
              "#7201a8"
             ],
             [
              0.3333333333333333,
              "#9c179e"
             ],
             [
              0.4444444444444444,
              "#bd3786"
             ],
             [
              0.5555555555555556,
              "#d8576b"
             ],
             [
              0.6666666666666666,
              "#ed7953"
             ],
             [
              0.7777777777777778,
              "#fb9f3a"
             ],
             [
              0.8888888888888888,
              "#fdca26"
             ],
             [
              1,
              "#f0f921"
             ]
            ],
            "type": "heatmap"
           }
          ],
          "heatmapgl": [
           {
            "colorbar": {
             "outlinewidth": 0,
             "ticks": ""
            },
            "colorscale": [
             [
              0,
              "#0d0887"
             ],
             [
              0.1111111111111111,
              "#46039f"
             ],
             [
              0.2222222222222222,
              "#7201a8"
             ],
             [
              0.3333333333333333,
              "#9c179e"
             ],
             [
              0.4444444444444444,
              "#bd3786"
             ],
             [
              0.5555555555555556,
              "#d8576b"
             ],
             [
              0.6666666666666666,
              "#ed7953"
             ],
             [
              0.7777777777777778,
              "#fb9f3a"
             ],
             [
              0.8888888888888888,
              "#fdca26"
             ],
             [
              1,
              "#f0f921"
             ]
            ],
            "type": "heatmapgl"
           }
          ],
          "histogram": [
           {
            "marker": {
             "pattern": {
              "fillmode": "overlay",
              "size": 10,
              "solidity": 0.2
             }
            },
            "type": "histogram"
           }
          ],
          "histogram2d": [
           {
            "colorbar": {
             "outlinewidth": 0,
             "ticks": ""
            },
            "colorscale": [
             [
              0,
              "#0d0887"
             ],
             [
              0.1111111111111111,
              "#46039f"
             ],
             [
              0.2222222222222222,
              "#7201a8"
             ],
             [
              0.3333333333333333,
              "#9c179e"
             ],
             [
              0.4444444444444444,
              "#bd3786"
             ],
             [
              0.5555555555555556,
              "#d8576b"
             ],
             [
              0.6666666666666666,
              "#ed7953"
             ],
             [
              0.7777777777777778,
              "#fb9f3a"
             ],
             [
              0.8888888888888888,
              "#fdca26"
             ],
             [
              1,
              "#f0f921"
             ]
            ],
            "type": "histogram2d"
           }
          ],
          "histogram2dcontour": [
           {
            "colorbar": {
             "outlinewidth": 0,
             "ticks": ""
            },
            "colorscale": [
             [
              0,
              "#0d0887"
             ],
             [
              0.1111111111111111,
              "#46039f"
             ],
             [
              0.2222222222222222,
              "#7201a8"
             ],
             [
              0.3333333333333333,
              "#9c179e"
             ],
             [
              0.4444444444444444,
              "#bd3786"
             ],
             [
              0.5555555555555556,
              "#d8576b"
             ],
             [
              0.6666666666666666,
              "#ed7953"
             ],
             [
              0.7777777777777778,
              "#fb9f3a"
             ],
             [
              0.8888888888888888,
              "#fdca26"
             ],
             [
              1,
              "#f0f921"
             ]
            ],
            "type": "histogram2dcontour"
           }
          ],
          "mesh3d": [
           {
            "colorbar": {
             "outlinewidth": 0,
             "ticks": ""
            },
            "type": "mesh3d"
           }
          ],
          "parcoords": [
           {
            "line": {
             "colorbar": {
              "outlinewidth": 0,
              "ticks": ""
             }
            },
            "type": "parcoords"
           }
          ],
          "pie": [
           {
            "automargin": true,
            "type": "pie"
           }
          ],
          "scatter": [
           {
            "fillpattern": {
             "fillmode": "overlay",
             "size": 10,
             "solidity": 0.2
            },
            "type": "scatter"
           }
          ],
          "scatter3d": [
           {
            "line": {
             "colorbar": {
              "outlinewidth": 0,
              "ticks": ""
             }
            },
            "marker": {
             "colorbar": {
              "outlinewidth": 0,
              "ticks": ""
             }
            },
            "type": "scatter3d"
           }
          ],
          "scattercarpet": [
           {
            "marker": {
             "colorbar": {
              "outlinewidth": 0,
              "ticks": ""
             }
            },
            "type": "scattercarpet"
           }
          ],
          "scattergeo": [
           {
            "marker": {
             "colorbar": {
              "outlinewidth": 0,
              "ticks": ""
             }
            },
            "type": "scattergeo"
           }
          ],
          "scattergl": [
           {
            "marker": {
             "colorbar": {
              "outlinewidth": 0,
              "ticks": ""
             }
            },
            "type": "scattergl"
           }
          ],
          "scattermapbox": [
           {
            "marker": {
             "colorbar": {
              "outlinewidth": 0,
              "ticks": ""
             }
            },
            "type": "scattermapbox"
           }
          ],
          "scatterpolar": [
           {
            "marker": {
             "colorbar": {
              "outlinewidth": 0,
              "ticks": ""
             }
            },
            "type": "scatterpolar"
           }
          ],
          "scatterpolargl": [
           {
            "marker": {
             "colorbar": {
              "outlinewidth": 0,
              "ticks": ""
             }
            },
            "type": "scatterpolargl"
           }
          ],
          "scatterternary": [
           {
            "marker": {
             "colorbar": {
              "outlinewidth": 0,
              "ticks": ""
             }
            },
            "type": "scatterternary"
           }
          ],
          "surface": [
           {
            "colorbar": {
             "outlinewidth": 0,
             "ticks": ""
            },
            "colorscale": [
             [
              0,
              "#0d0887"
             ],
             [
              0.1111111111111111,
              "#46039f"
             ],
             [
              0.2222222222222222,
              "#7201a8"
             ],
             [
              0.3333333333333333,
              "#9c179e"
             ],
             [
              0.4444444444444444,
              "#bd3786"
             ],
             [
              0.5555555555555556,
              "#d8576b"
             ],
             [
              0.6666666666666666,
              "#ed7953"
             ],
             [
              0.7777777777777778,
              "#fb9f3a"
             ],
             [
              0.8888888888888888,
              "#fdca26"
             ],
             [
              1,
              "#f0f921"
             ]
            ],
            "type": "surface"
           }
          ],
          "table": [
           {
            "cells": {
             "fill": {
              "color": "#EBF0F8"
             },
             "line": {
              "color": "white"
             }
            },
            "header": {
             "fill": {
              "color": "#C8D4E3"
             },
             "line": {
              "color": "white"
             }
            },
            "type": "table"
           }
          ]
         },
         "layout": {
          "annotationdefaults": {
           "arrowcolor": "#2a3f5f",
           "arrowhead": 0,
           "arrowwidth": 1
          },
          "autotypenumbers": "strict",
          "coloraxis": {
           "colorbar": {
            "outlinewidth": 0,
            "ticks": ""
           }
          },
          "colorscale": {
           "diverging": [
            [
             0,
             "#8e0152"
            ],
            [
             0.1,
             "#c51b7d"
            ],
            [
             0.2,
             "#de77ae"
            ],
            [
             0.3,
             "#f1b6da"
            ],
            [
             0.4,
             "#fde0ef"
            ],
            [
             0.5,
             "#f7f7f7"
            ],
            [
             0.6,
             "#e6f5d0"
            ],
            [
             0.7,
             "#b8e186"
            ],
            [
             0.8,
             "#7fbc41"
            ],
            [
             0.9,
             "#4d9221"
            ],
            [
             1,
             "#276419"
            ]
           ],
           "sequential": [
            [
             0,
             "#0d0887"
            ],
            [
             0.1111111111111111,
             "#46039f"
            ],
            [
             0.2222222222222222,
             "#7201a8"
            ],
            [
             0.3333333333333333,
             "#9c179e"
            ],
            [
             0.4444444444444444,
             "#bd3786"
            ],
            [
             0.5555555555555556,
             "#d8576b"
            ],
            [
             0.6666666666666666,
             "#ed7953"
            ],
            [
             0.7777777777777778,
             "#fb9f3a"
            ],
            [
             0.8888888888888888,
             "#fdca26"
            ],
            [
             1,
             "#f0f921"
            ]
           ],
           "sequentialminus": [
            [
             0,
             "#0d0887"
            ],
            [
             0.1111111111111111,
             "#46039f"
            ],
            [
             0.2222222222222222,
             "#7201a8"
            ],
            [
             0.3333333333333333,
             "#9c179e"
            ],
            [
             0.4444444444444444,
             "#bd3786"
            ],
            [
             0.5555555555555556,
             "#d8576b"
            ],
            [
             0.6666666666666666,
             "#ed7953"
            ],
            [
             0.7777777777777778,
             "#fb9f3a"
            ],
            [
             0.8888888888888888,
             "#fdca26"
            ],
            [
             1,
             "#f0f921"
            ]
           ]
          },
          "colorway": [
           "#636efa",
           "#EF553B",
           "#00cc96",
           "#ab63fa",
           "#FFA15A",
           "#19d3f3",
           "#FF6692",
           "#B6E880",
           "#FF97FF",
           "#FECB52"
          ],
          "font": {
           "color": "#2a3f5f"
          },
          "geo": {
           "bgcolor": "white",
           "lakecolor": "white",
           "landcolor": "#E5ECF6",
           "showlakes": true,
           "showland": true,
           "subunitcolor": "white"
          },
          "hoverlabel": {
           "align": "left"
          },
          "hovermode": "closest",
          "mapbox": {
           "style": "light"
          },
          "paper_bgcolor": "white",
          "plot_bgcolor": "#E5ECF6",
          "polar": {
           "angularaxis": {
            "gridcolor": "white",
            "linecolor": "white",
            "ticks": ""
           },
           "bgcolor": "#E5ECF6",
           "radialaxis": {
            "gridcolor": "white",
            "linecolor": "white",
            "ticks": ""
           }
          },
          "scene": {
           "xaxis": {
            "backgroundcolor": "#E5ECF6",
            "gridcolor": "white",
            "gridwidth": 2,
            "linecolor": "white",
            "showbackground": true,
            "ticks": "",
            "zerolinecolor": "white"
           },
           "yaxis": {
            "backgroundcolor": "#E5ECF6",
            "gridcolor": "white",
            "gridwidth": 2,
            "linecolor": "white",
            "showbackground": true,
            "ticks": "",
            "zerolinecolor": "white"
           },
           "zaxis": {
            "backgroundcolor": "#E5ECF6",
            "gridcolor": "white",
            "gridwidth": 2,
            "linecolor": "white",
            "showbackground": true,
            "ticks": "",
            "zerolinecolor": "white"
           }
          },
          "shapedefaults": {
           "line": {
            "color": "#2a3f5f"
           }
          },
          "ternary": {
           "aaxis": {
            "gridcolor": "white",
            "linecolor": "white",
            "ticks": ""
           },
           "baxis": {
            "gridcolor": "white",
            "linecolor": "white",
            "ticks": ""
           },
           "bgcolor": "#E5ECF6",
           "caxis": {
            "gridcolor": "white",
            "linecolor": "white",
            "ticks": ""
           }
          },
          "title": {
           "x": 0.05
          },
          "xaxis": {
           "automargin": true,
           "gridcolor": "white",
           "linecolor": "white",
           "ticks": "",
           "title": {
            "standoff": 15
           },
           "zerolinecolor": "white",
           "zerolinewidth": 2
          },
          "yaxis": {
           "automargin": true,
           "gridcolor": "white",
           "linecolor": "white",
           "ticks": "",
           "title": {
            "standoff": 15
           },
           "zerolinecolor": "white",
           "zerolinewidth": 2
          }
         }
        },
        "title": {
         "text": "Optimized XGBoost Regression: Total Sales & Operating Profit Predictions vs. Actual Values (Monthly Data)"
        },
        "xaxis": {
         "anchor": "y",
         "domain": [
          0,
          1
         ],
         "title": {
          "text": "index"
         }
        },
        "yaxis": {
         "anchor": "x",
         "domain": [
          0,
          1
         ],
         "title": {
          "text": "value"
         }
        }
       }
      }
     },
     "metadata": {},
     "output_type": "display_data"
    }
   ],
   "source": [
    "#Plot the predictions vs. the actual values\n",
    "px.line(opt_xgb_predictions_df, x=opt_xgb_predictions_df.index, y=['Predicted_Total_Sales', 'Actual_Total_Sales', 'Predicted_Operating_Profit', 'Actual_Operating_Profit'], \n",
    "        title='Optimized XGBoost Regression: Total Sales & Operating Profit Predictions vs. Actual Values (Monthly Data)')"
   ]
  }
 ],
 "metadata": {
  "kernelspec": {
   "display_name": "base",
   "language": "python",
   "name": "python3"
  },
  "language_info": {
   "codemirror_mode": {
    "name": "ipython",
    "version": 3
   },
   "file_extension": ".py",
   "mimetype": "text/x-python",
   "name": "python",
   "nbconvert_exporter": "python",
   "pygments_lexer": "ipython3",
   "version": "3.9.13"
  },
  "orig_nbformat": 4,
  "vscode": {
   "interpreter": {
    "hash": "335ee12212264728feb72f243af72c5a8ea26c832f07e1f651ce9e17c7ceae23"
   }
  }
 },
 "nbformat": 4,
 "nbformat_minor": 2
}
