{
 "cells": [
  {
   "cell_type": "code",
   "execution_count": 89,
   "metadata": {},
   "outputs": [],
   "source": [
    "import pandas as pd\n",
    "from sklearn import tree\n",
    "from sklearn.preprocessing import StandardScaler\n",
    "from sklearn.model_selection import train_test_split\n",
    "from sklearn.metrics import confusion_matrix, accuracy_score, classification_report\n",
    "from sklearn.ensemble import RandomForestClassifier, GradientBoostingClassifier\n",
    "from imblearn.combine import SMOTEENN\n",
    "from sklearn.linear_model import LogisticRegression"
   ]
  },
  {
   "cell_type": "code",
   "execution_count": 3,
   "metadata": {},
   "outputs": [
    {
     "data": {
      "text/html": [
       "<div>\n",
       "<style scoped>\n",
       "    .dataframe tbody tr th:only-of-type {\n",
       "        vertical-align: middle;\n",
       "    }\n",
       "\n",
       "    .dataframe tbody tr th {\n",
       "        vertical-align: top;\n",
       "    }\n",
       "\n",
       "    .dataframe thead th {\n",
       "        text-align: right;\n",
       "    }\n",
       "</style>\n",
       "<table border=\"1\" class=\"dataframe\">\n",
       "  <thead>\n",
       "    <tr style=\"text-align: right;\">\n",
       "      <th></th>\n",
       "      <th>Retailer ID</th>\n",
       "      <th>Invoice Date</th>\n",
       "      <th>Region_ID</th>\n",
       "      <th>State_ID</th>\n",
       "      <th>Product_ID</th>\n",
       "      <th>Price per Unit</th>\n",
       "      <th>Units Sold</th>\n",
       "      <th>Operating Margin</th>\n",
       "      <th>Sales Method</th>\n",
       "      <th>Total Sales</th>\n",
       "      <th>Operating Profit</th>\n",
       "    </tr>\n",
       "  </thead>\n",
       "  <tbody>\n",
       "    <tr>\n",
       "      <th>0</th>\n",
       "      <td>1185732</td>\n",
       "      <td>2020-01-01</td>\n",
       "      <td>RG1</td>\n",
       "      <td>ST1</td>\n",
       "      <td>PD1</td>\n",
       "      <td>50.0</td>\n",
       "      <td>1200</td>\n",
       "      <td>0.50</td>\n",
       "      <td>In-store</td>\n",
       "      <td>60000.0</td>\n",
       "      <td>30000.0</td>\n",
       "    </tr>\n",
       "    <tr>\n",
       "      <th>1</th>\n",
       "      <td>1185732</td>\n",
       "      <td>2020-01-02</td>\n",
       "      <td>RG1</td>\n",
       "      <td>ST1</td>\n",
       "      <td>PD2</td>\n",
       "      <td>50.0</td>\n",
       "      <td>1000</td>\n",
       "      <td>0.30</td>\n",
       "      <td>In-store</td>\n",
       "      <td>50000.0</td>\n",
       "      <td>15000.0</td>\n",
       "    </tr>\n",
       "    <tr>\n",
       "      <th>2</th>\n",
       "      <td>1185732</td>\n",
       "      <td>2020-01-03</td>\n",
       "      <td>RG1</td>\n",
       "      <td>ST1</td>\n",
       "      <td>PD3</td>\n",
       "      <td>40.0</td>\n",
       "      <td>1000</td>\n",
       "      <td>0.35</td>\n",
       "      <td>In-store</td>\n",
       "      <td>40000.0</td>\n",
       "      <td>14000.0</td>\n",
       "    </tr>\n",
       "    <tr>\n",
       "      <th>3</th>\n",
       "      <td>1185732</td>\n",
       "      <td>2020-01-04</td>\n",
       "      <td>RG1</td>\n",
       "      <td>ST1</td>\n",
       "      <td>PD4</td>\n",
       "      <td>45.0</td>\n",
       "      <td>850</td>\n",
       "      <td>0.35</td>\n",
       "      <td>In-store</td>\n",
       "      <td>38250.0</td>\n",
       "      <td>13387.5</td>\n",
       "    </tr>\n",
       "    <tr>\n",
       "      <th>4</th>\n",
       "      <td>1185732</td>\n",
       "      <td>2020-01-05</td>\n",
       "      <td>RG1</td>\n",
       "      <td>ST1</td>\n",
       "      <td>PD5</td>\n",
       "      <td>60.0</td>\n",
       "      <td>900</td>\n",
       "      <td>0.30</td>\n",
       "      <td>In-store</td>\n",
       "      <td>54000.0</td>\n",
       "      <td>16200.0</td>\n",
       "    </tr>\n",
       "  </tbody>\n",
       "</table>\n",
       "</div>"
      ],
      "text/plain": [
       "   Retailer ID Invoice Date Region_ID State_ID Product_ID  Price per Unit  \\\n",
       "0      1185732   2020-01-01       RG1      ST1        PD1            50.0   \n",
       "1      1185732   2020-01-02       RG1      ST1        PD2            50.0   \n",
       "2      1185732   2020-01-03       RG1      ST1        PD3            40.0   \n",
       "3      1185732   2020-01-04       RG1      ST1        PD4            45.0   \n",
       "4      1185732   2020-01-05       RG1      ST1        PD5            60.0   \n",
       "\n",
       "   Units Sold  Operating Margin Sales Method  Total Sales  Operating Profit  \n",
       "0        1200              0.50     In-store      60000.0           30000.0  \n",
       "1        1000              0.30     In-store      50000.0           15000.0  \n",
       "2        1000              0.35     In-store      40000.0           14000.0  \n",
       "3         850              0.35     In-store      38250.0           13387.5  \n",
       "4         900              0.30     In-store      54000.0           16200.0  "
      ]
     },
     "execution_count": 3,
     "metadata": {},
     "output_type": "execute_result"
    }
   ],
   "source": [
    "#Import sales data\n",
    "adidas_sales_df = pd.read_csv('../adidas_sales.csv')\n",
    "adidas_sales_df.head()"
   ]
  },
  {
   "cell_type": "code",
   "execution_count": 15,
   "metadata": {},
   "outputs": [
    {
     "data": {
      "text/plain": [
       "Retailer ID                                  int64\n",
       "Invoice Date                                object\n",
       "Region_ID                                   object\n",
       "State_ID                                    object\n",
       "Product_ID                                  object\n",
       "Price per Unit                             float64\n",
       "Units Sold                                   int64\n",
       "Operating Margin                           float64\n",
       "Sales Method                                object\n",
       "Total Sales                                float64\n",
       "Operating Profit                           float64\n",
       "Operating Margin Equal to or Above 0.35      int32\n",
       "dtype: object"
      ]
     },
     "execution_count": 15,
     "metadata": {},
     "output_type": "execute_result"
    }
   ],
   "source": [
    "adidas_sales_df.dtypes"
   ]
  },
  {
   "cell_type": "code",
   "execution_count": 19,
   "metadata": {},
   "outputs": [],
   "source": [
    "#Convert date to datetime\n",
    "adidas_sales_df['Invoice Date'] = pd.to_datetime(adidas_sales_df['Invoice Date'])"
   ]
  },
  {
   "cell_type": "code",
   "execution_count": 20,
   "metadata": {},
   "outputs": [
    {
     "data": {
      "text/plain": [
       "0.35    1309\n",
       "0.40    1003\n",
       "0.30     722\n",
       "0.50     610\n",
       "0.45     364\n",
       "        ... \n",
       "0.48       1\n",
       "0.27       1\n",
       "0.17       1\n",
       "0.65       1\n",
       "0.17       1\n",
       "Name: Operating Margin, Length: 110, dtype: int64"
      ]
     },
     "execution_count": 20,
     "metadata": {},
     "output_type": "execute_result"
    }
   ],
   "source": [
    "adidas_sales_df['Operating Margin'].value_counts()"
   ]
  },
  {
   "cell_type": "code",
   "execution_count": 21,
   "metadata": {},
   "outputs": [
    {
     "data": {
      "text/html": [
       "<div>\n",
       "<style scoped>\n",
       "    .dataframe tbody tr th:only-of-type {\n",
       "        vertical-align: middle;\n",
       "    }\n",
       "\n",
       "    .dataframe tbody tr th {\n",
       "        vertical-align: top;\n",
       "    }\n",
       "\n",
       "    .dataframe thead th {\n",
       "        text-align: right;\n",
       "    }\n",
       "</style>\n",
       "<table border=\"1\" class=\"dataframe\">\n",
       "  <thead>\n",
       "    <tr style=\"text-align: right;\">\n",
       "      <th></th>\n",
       "      <th>Retailer ID</th>\n",
       "      <th>Invoice Date</th>\n",
       "      <th>Region_ID</th>\n",
       "      <th>State_ID</th>\n",
       "      <th>Product_ID</th>\n",
       "      <th>Price per Unit</th>\n",
       "      <th>Units Sold</th>\n",
       "      <th>Operating Margin</th>\n",
       "      <th>Sales Method</th>\n",
       "      <th>Total Sales</th>\n",
       "      <th>Operating Profit</th>\n",
       "      <th>Operating Margin Equal to or Above 0.35</th>\n",
       "    </tr>\n",
       "  </thead>\n",
       "  <tbody>\n",
       "    <tr>\n",
       "      <th>0</th>\n",
       "      <td>1185732</td>\n",
       "      <td>2020-01-01</td>\n",
       "      <td>RG1</td>\n",
       "      <td>ST1</td>\n",
       "      <td>PD1</td>\n",
       "      <td>50.0</td>\n",
       "      <td>1200</td>\n",
       "      <td>0.50</td>\n",
       "      <td>In-store</td>\n",
       "      <td>60000.0</td>\n",
       "      <td>30000.0</td>\n",
       "      <td>1</td>\n",
       "    </tr>\n",
       "    <tr>\n",
       "      <th>1</th>\n",
       "      <td>1185732</td>\n",
       "      <td>2020-01-02</td>\n",
       "      <td>RG1</td>\n",
       "      <td>ST1</td>\n",
       "      <td>PD2</td>\n",
       "      <td>50.0</td>\n",
       "      <td>1000</td>\n",
       "      <td>0.30</td>\n",
       "      <td>In-store</td>\n",
       "      <td>50000.0</td>\n",
       "      <td>15000.0</td>\n",
       "      <td>0</td>\n",
       "    </tr>\n",
       "    <tr>\n",
       "      <th>2</th>\n",
       "      <td>1185732</td>\n",
       "      <td>2020-01-03</td>\n",
       "      <td>RG1</td>\n",
       "      <td>ST1</td>\n",
       "      <td>PD3</td>\n",
       "      <td>40.0</td>\n",
       "      <td>1000</td>\n",
       "      <td>0.35</td>\n",
       "      <td>In-store</td>\n",
       "      <td>40000.0</td>\n",
       "      <td>14000.0</td>\n",
       "      <td>1</td>\n",
       "    </tr>\n",
       "    <tr>\n",
       "      <th>3</th>\n",
       "      <td>1185732</td>\n",
       "      <td>2020-01-04</td>\n",
       "      <td>RG1</td>\n",
       "      <td>ST1</td>\n",
       "      <td>PD4</td>\n",
       "      <td>45.0</td>\n",
       "      <td>850</td>\n",
       "      <td>0.35</td>\n",
       "      <td>In-store</td>\n",
       "      <td>38250.0</td>\n",
       "      <td>13387.5</td>\n",
       "      <td>1</td>\n",
       "    </tr>\n",
       "    <tr>\n",
       "      <th>4</th>\n",
       "      <td>1185732</td>\n",
       "      <td>2020-01-05</td>\n",
       "      <td>RG1</td>\n",
       "      <td>ST1</td>\n",
       "      <td>PD5</td>\n",
       "      <td>60.0</td>\n",
       "      <td>900</td>\n",
       "      <td>0.30</td>\n",
       "      <td>In-store</td>\n",
       "      <td>54000.0</td>\n",
       "      <td>16200.0</td>\n",
       "      <td>0</td>\n",
       "    </tr>\n",
       "  </tbody>\n",
       "</table>\n",
       "</div>"
      ],
      "text/plain": [
       "   Retailer ID Invoice Date Region_ID State_ID Product_ID  Price per Unit  \\\n",
       "0      1185732   2020-01-01       RG1      ST1        PD1            50.0   \n",
       "1      1185732   2020-01-02       RG1      ST1        PD2            50.0   \n",
       "2      1185732   2020-01-03       RG1      ST1        PD3            40.0   \n",
       "3      1185732   2020-01-04       RG1      ST1        PD4            45.0   \n",
       "4      1185732   2020-01-05       RG1      ST1        PD5            60.0   \n",
       "\n",
       "   Units Sold  Operating Margin Sales Method  Total Sales  Operating Profit  \\\n",
       "0        1200              0.50     In-store      60000.0           30000.0   \n",
       "1        1000              0.30     In-store      50000.0           15000.0   \n",
       "2        1000              0.35     In-store      40000.0           14000.0   \n",
       "3         850              0.35     In-store      38250.0           13387.5   \n",
       "4         900              0.30     In-store      54000.0           16200.0   \n",
       "\n",
       "   Operating Margin Equal to or Above 0.35  \n",
       "0                                        1  \n",
       "1                                        0  \n",
       "2                                        1  \n",
       "3                                        1  \n",
       "4                                        0  "
      ]
     },
     "execution_count": 21,
     "metadata": {},
     "output_type": "execute_result"
    }
   ],
   "source": [
    "#Add binary column for operating margin above 0.35\n",
    "adidas_sales_df['Operating Margin Equal to or Above 0.35'] = adidas_sales_df['Operating Margin'] >= 0.35\n",
    "\n",
    "#Convert boolean to int\n",
    "adidas_sales_df['Operating Margin Equal to or Above 0.35'] = adidas_sales_df['Operating Margin Equal to or Above 0.35'].astype(int)\n",
    "\n",
    "adidas_sales_df.head()"
   ]
  },
  {
   "cell_type": "code",
   "execution_count": 22,
   "metadata": {},
   "outputs": [],
   "source": [
    "#Define feature set\n",
    "X = adidas_sales_df.drop(['Operating Margin', 'Operating Margin Equal to or Above 0.35'], axis=1)\n",
    "\n",
    "#Define target set\n",
    "y = adidas_sales_df['Operating Margin Equal to or Above 0.35']"
   ]
  },
  {
   "cell_type": "code",
   "execution_count": 23,
   "metadata": {},
   "outputs": [],
   "source": [
    "#Get dummy variables for categorical data\n",
    "X = pd.get_dummies(X)"
   ]
  },
  {
   "cell_type": "code",
   "execution_count": 26,
   "metadata": {},
   "outputs": [
    {
     "data": {
      "text/plain": [
       "Index(['Retailer ID', 'Invoice Date', 'Price per Unit', 'Units Sold',\n",
       "       'Total Sales', 'Operating Profit', 'Region_ID_RG1', 'Region_ID_RG2',\n",
       "       'Region_ID_RG3', 'Region_ID_RG4', 'Region_ID_RG5', 'State_ID_ST1',\n",
       "       'State_ID_ST10', 'State_ID_ST11', 'State_ID_ST12', 'State_ID_ST13',\n",
       "       'State_ID_ST14', 'State_ID_ST15', 'State_ID_ST16', 'State_ID_ST17',\n",
       "       'State_ID_ST18', 'State_ID_ST19', 'State_ID_ST2', 'State_ID_ST20',\n",
       "       'State_ID_ST21', 'State_ID_ST22', 'State_ID_ST23', 'State_ID_ST24',\n",
       "       'State_ID_ST25', 'State_ID_ST26', 'State_ID_ST27', 'State_ID_ST28',\n",
       "       'State_ID_ST29', 'State_ID_ST3', 'State_ID_ST30', 'State_ID_ST31',\n",
       "       'State_ID_ST32', 'State_ID_ST33', 'State_ID_ST34', 'State_ID_ST35',\n",
       "       'State_ID_ST36', 'State_ID_ST37', 'State_ID_ST38', 'State_ID_ST39',\n",
       "       'State_ID_ST4', 'State_ID_ST40', 'State_ID_ST41', 'State_ID_ST42',\n",
       "       'State_ID_ST43', 'State_ID_ST44', 'State_ID_ST45', 'State_ID_ST46',\n",
       "       'State_ID_ST47', 'State_ID_ST48', 'State_ID_ST49', 'State_ID_ST5',\n",
       "       'State_ID_ST50', 'State_ID_ST6', 'State_ID_ST7', 'State_ID_ST8',\n",
       "       'State_ID_ST9', 'Product_ID_PD1', 'Product_ID_PD2', 'Product_ID_PD3',\n",
       "       'Product_ID_PD4', 'Product_ID_PD5', 'Product_ID_PD6',\n",
       "       'Sales Method_In-store', 'Sales Method_Online', 'Sales Method_Outlet'],\n",
       "      dtype='object')"
      ]
     },
     "execution_count": 26,
     "metadata": {},
     "output_type": "execute_result"
    }
   ],
   "source": [
    "X.columns"
   ]
  },
  {
   "cell_type": "code",
   "execution_count": 28,
   "metadata": {},
   "outputs": [],
   "source": [
    "#Split data into training and testing sets\n",
    "X_train, X_test, y_train, y_test = train_test_split(X, y, random_state=1)"
   ]
  },
  {
   "cell_type": "code",
   "execution_count": 32,
   "metadata": {},
   "outputs": [],
   "source": [
    "#Create a StandardScaler instance\n",
    "scaler = StandardScaler()\n",
    "\n",
    "#Fit the StandardScaler with the training data\n",
    "X_scaler = scaler.fit(X_train.drop(['Invoice Date'], axis=1))\n",
    "\n",
    "#Scale the data\n",
    "X_train_scaled = X_scaler.transform(X_train.drop(['Invoice Date'], axis=1))\n",
    "X_test_scaled = X_scaler.transform(X_test.drop(['Invoice Date'], axis=1))"
   ]
  },
  {
   "attachments": {},
   "cell_type": "markdown",
   "metadata": {},
   "source": [
    "# Decision Tree Regression"
   ]
  },
  {
   "cell_type": "code",
   "execution_count": 33,
   "metadata": {},
   "outputs": [],
   "source": [
    "#Create decision tree classifier instance\n",
    "model = tree.DecisionTreeClassifier()\n",
    "\n",
    "#Fit the model\n",
    "model = model.fit(X_train_scaled, y_train)"
   ]
  },
  {
   "cell_type": "code",
   "execution_count": 34,
   "metadata": {},
   "outputs": [],
   "source": [
    "#Make predictions\n",
    "predictions = model.predict(X_test_scaled)"
   ]
  },
  {
   "cell_type": "code",
   "execution_count": 35,
   "metadata": {},
   "outputs": [
    {
     "data": {
      "text/html": [
       "<div>\n",
       "<style scoped>\n",
       "    .dataframe tbody tr th:only-of-type {\n",
       "        vertical-align: middle;\n",
       "    }\n",
       "\n",
       "    .dataframe tbody tr th {\n",
       "        vertical-align: top;\n",
       "    }\n",
       "\n",
       "    .dataframe thead th {\n",
       "        text-align: right;\n",
       "    }\n",
       "</style>\n",
       "<table border=\"1\" class=\"dataframe\">\n",
       "  <thead>\n",
       "    <tr style=\"text-align: right;\">\n",
       "      <th></th>\n",
       "      <th>Predicted 0</th>\n",
       "      <th>Predicted 1</th>\n",
       "    </tr>\n",
       "  </thead>\n",
       "  <tbody>\n",
       "    <tr>\n",
       "      <th>Actual 0</th>\n",
       "      <td>339</td>\n",
       "      <td>56</td>\n",
       "    </tr>\n",
       "    <tr>\n",
       "      <th>Actual 1</th>\n",
       "      <td>54</td>\n",
       "      <td>1963</td>\n",
       "    </tr>\n",
       "  </tbody>\n",
       "</table>\n",
       "</div>"
      ],
      "text/plain": [
       "          Predicted 0  Predicted 1\n",
       "Actual 0          339           56\n",
       "Actual 1           54         1963"
      ]
     },
     "execution_count": 35,
     "metadata": {},
     "output_type": "execute_result"
    }
   ],
   "source": [
    "#Calculate the confusion matrix\n",
    "cm = confusion_matrix(y_test, predictions)\n",
    "\n",
    "#Create a DataFrame from the confusion matrix\n",
    "cm_df = pd.DataFrame(cm, index=[\"Actual 0\", \"Actual 1\"], columns=[\"Predicted 0\", \"Predicted 1\"])\n",
    "\n",
    "cm_df"
   ]
  },
  {
   "cell_type": "code",
   "execution_count": 37,
   "metadata": {},
   "outputs": [
    {
     "data": {
      "text/plain": [
       "0.9543946932006634"
      ]
     },
     "execution_count": 37,
     "metadata": {},
     "output_type": "execute_result"
    }
   ],
   "source": [
    "#Calculate the accuracy score\n",
    "acc_score = accuracy_score(y_test, predictions)\n",
    "acc_score"
   ]
  },
  {
   "cell_type": "code",
   "execution_count": 39,
   "metadata": {},
   "outputs": [
    {
     "name": "stdout",
     "output_type": "stream",
     "text": [
      "              precision    recall  f1-score   support\n",
      "\n",
      "           0       0.86      0.86      0.86       395\n",
      "           1       0.97      0.97      0.97      2017\n",
      "\n",
      "    accuracy                           0.95      2412\n",
      "   macro avg       0.92      0.92      0.92      2412\n",
      "weighted avg       0.95      0.95      0.95      2412\n",
      "\n"
     ]
    }
   ],
   "source": [
    "#Calculate the classification report\n",
    "print(classification_report(y_test, predictions))"
   ]
  },
  {
   "attachments": {},
   "cell_type": "markdown",
   "metadata": {},
   "source": [
    "# Random Forest Regression"
   ]
  },
  {
   "cell_type": "code",
   "execution_count": 41,
   "metadata": {},
   "outputs": [],
   "source": [
    "#Create a random forest classifier\n",
    "rf_model = RandomForestClassifier(n_estimators=128, random_state=78)"
   ]
  },
  {
   "cell_type": "code",
   "execution_count": 42,
   "metadata": {},
   "outputs": [],
   "source": [
    "#Fit the model\n",
    "rf_model = rf_model.fit(X_train_scaled, y_train)"
   ]
  },
  {
   "cell_type": "code",
   "execution_count": 43,
   "metadata": {},
   "outputs": [],
   "source": [
    "#Make predictions\n",
    "rf_predictions = rf_model.predict(X_test_scaled)"
   ]
  },
  {
   "cell_type": "code",
   "execution_count": 44,
   "metadata": {},
   "outputs": [
    {
     "data": {
      "text/html": [
       "<div>\n",
       "<style scoped>\n",
       "    .dataframe tbody tr th:only-of-type {\n",
       "        vertical-align: middle;\n",
       "    }\n",
       "\n",
       "    .dataframe tbody tr th {\n",
       "        vertical-align: top;\n",
       "    }\n",
       "\n",
       "    .dataframe thead th {\n",
       "        text-align: right;\n",
       "    }\n",
       "</style>\n",
       "<table border=\"1\" class=\"dataframe\">\n",
       "  <thead>\n",
       "    <tr style=\"text-align: right;\">\n",
       "      <th></th>\n",
       "      <th>Predicted 0</th>\n",
       "      <th>Predicted 1</th>\n",
       "    </tr>\n",
       "  </thead>\n",
       "  <tbody>\n",
       "    <tr>\n",
       "      <th>Actual 0</th>\n",
       "      <td>329</td>\n",
       "      <td>66</td>\n",
       "    </tr>\n",
       "    <tr>\n",
       "      <th>Actual 1</th>\n",
       "      <td>29</td>\n",
       "      <td>1988</td>\n",
       "    </tr>\n",
       "  </tbody>\n",
       "</table>\n",
       "</div>"
      ],
      "text/plain": [
       "          Predicted 0  Predicted 1\n",
       "Actual 0          329           66\n",
       "Actual 1           29         1988"
      ]
     },
     "execution_count": 44,
     "metadata": {},
     "output_type": "execute_result"
    }
   ],
   "source": [
    "#Calculate the confusion matrix\n",
    "rf_cm = confusion_matrix(y_test, rf_predictions)\n",
    "\n",
    "#Create a DataFrame from the confusion matrix\n",
    "rf_cm_df = pd.DataFrame(rf_cm, index=[\"Actual 0\", \"Actual 1\"], columns=[\"Predicted 0\", \"Predicted 1\"])\n",
    "\n",
    "rf_cm_df"
   ]
  },
  {
   "cell_type": "code",
   "execution_count": 45,
   "metadata": {},
   "outputs": [
    {
     "data": {
      "text/plain": [
       "0.9606135986733002"
      ]
     },
     "execution_count": 45,
     "metadata": {},
     "output_type": "execute_result"
    }
   ],
   "source": [
    "#Calculate the accuracy score\n",
    "rf_acc_score = accuracy_score(y_test, rf_predictions)\n",
    "rf_acc_score"
   ]
  },
  {
   "cell_type": "code",
   "execution_count": 46,
   "metadata": {},
   "outputs": [
    {
     "name": "stdout",
     "output_type": "stream",
     "text": [
      "              precision    recall  f1-score   support\n",
      "\n",
      "           0       0.92      0.83      0.87       395\n",
      "           1       0.97      0.99      0.98      2017\n",
      "\n",
      "    accuracy                           0.96      2412\n",
      "   macro avg       0.94      0.91      0.93      2412\n",
      "weighted avg       0.96      0.96      0.96      2412\n",
      "\n"
     ]
    }
   ],
   "source": [
    "#Calculate the classification report\n",
    "print(classification_report(y_test, rf_predictions))"
   ]
  },
  {
   "cell_type": "code",
   "execution_count": 48,
   "metadata": {},
   "outputs": [
    {
     "data": {
      "text/plain": [
       "[(0.15599970935714697, 'Total Sales'),\n",
       " (0.12125717736262873, 'Units Sold'),\n",
       " (0.09595311101453556, 'Price per Unit'),\n",
       " (0.08873269907925498, 'Invoice Date'),\n",
       " (0.05563790591328575, 'Sales Method_In-store'),\n",
       " (0.03648906038298604, 'Product_ID_PD5'),\n",
       " (0.0305420538524161, 'Retailer ID'),\n",
       " (0.025976134880442692, 'Product_ID_PD4'),\n",
       " (0.024625105403040252, 'State_ID_ST47'),\n",
       " (0.024278396820122145, 'Product_ID_PD1'),\n",
       " (0.022459407018049535, 'Product_ID_PD6'),\n",
       " (0.020260544420410562, 'Sales Method_Online'),\n",
       " (0.018868836736298907, 'State_ID_ST9'),\n",
       " (0.018766920182543577, 'Product_ID_PD3'),\n",
       " (0.01851081400175879, 'Product_ID_PD2'),\n",
       " (0.016291515837811296, 'Region_ID_RG2'),\n",
       " (0.01614881150162768, 'Region_ID_RG1'),\n",
       " (0.015072106882428113, 'State_ID_ST16'),\n",
       " (0.013222242425645918, 'State_ID_ST7'),\n",
       " (0.012659242336347503, 'State_ID_ST8'),\n",
       " (0.010038027978326307, 'State_ID_ST29'),\n",
       " (0.009952176998546305, 'Operating Profit'),\n",
       " (0.007445013512547144, 'Region_ID_RG3'),\n",
       " (0.00657217059166161, 'State_ID_ST5'),\n",
       " (0.005950751451063505, 'State_ID_ST38'),\n",
       " (0.005886095355344678, 'State_ID_ST15'),\n",
       " (0.0057784133853067635, 'Region_ID_RG4'),\n",
       " (0.005705643268855285, 'State_ID_ST45'),\n",
       " (0.005703442883737445, 'State_ID_ST50'),\n",
       " (0.005397243308066156, 'State_ID_ST36'),\n",
       " (0.005240713961477822, 'State_ID_ST22'),\n",
       " (0.0052109487834313024, 'State_ID_ST48'),\n",
       " (0.00518746619635747, 'State_ID_ST37'),\n",
       " (0.004967743438464246, 'State_ID_ST1'),\n",
       " (0.004923245532289156, 'State_ID_ST4'),\n",
       " (0.00460154482667137, 'State_ID_ST14'),\n",
       " (0.004440841377822196, 'State_ID_ST18'),\n",
       " (0.004299445319842369, 'Region_ID_RG5'),\n",
       " (0.004293703117678742, 'State_ID_ST21'),\n",
       " (0.003846469820861092, 'State_ID_ST49'),\n",
       " (0.0037073243458354906, 'State_ID_ST23'),\n",
       " (0.003235952762750851, 'State_ID_ST6'),\n",
       " (0.0030672840095893007, 'State_ID_ST25'),\n",
       " (0.002953984939188589, 'State_ID_ST27'),\n",
       " (0.0028859845592195997, 'State_ID_ST17'),\n",
       " (0.0028473710590469436, 'State_ID_ST40'),\n",
       " (0.0027873829605597335, 'State_ID_ST26'),\n",
       " (0.0027338749451515853, 'State_ID_ST46'),\n",
       " (0.002567855239090132, 'State_ID_ST19'),\n",
       " (0.002171583482296701, 'State_ID_ST20'),\n",
       " (0.002125724166024784, 'State_ID_ST39'),\n",
       " (0.002051315920714661, 'State_ID_ST43'),\n",
       " (0.0020484872514263657, 'State_ID_ST42'),\n",
       " (0.0020394781984905495, 'State_ID_ST28'),\n",
       " (0.0019938945328978647, 'State_ID_ST12'),\n",
       " (0.0018871759603753444, 'State_ID_ST41'),\n",
       " (0.0018543093280904987, 'State_ID_ST24'),\n",
       " (0.0016520701461903901, 'State_ID_ST2'),\n",
       " (0.001415697000809741, 'State_ID_ST10'),\n",
       " (0.0013061923626433998, 'State_ID_ST44'),\n",
       " (0.0008870135508510322, 'State_ID_ST13'),\n",
       " (0.0008600114581385913, 'State_ID_ST11'),\n",
       " (0.0008105984497144516, 'State_ID_ST3'),\n",
       " (0.0007963043101718625, 'State_ID_ST35'),\n",
       " (0.0006227159711438393, 'State_ID_ST32'),\n",
       " (0.000518737550918719, 'State_ID_ST34'),\n",
       " (0.000458364714542616, 'State_ID_ST30'),\n",
       " (0.00031998391208629964, 'State_ID_ST33'),\n",
       " (0.0002004303949080656, 'State_ID_ST31')]"
      ]
     },
     "execution_count": 48,
     "metadata": {},
     "output_type": "execute_result"
    }
   ],
   "source": [
    "#Calculate feature importance in the Random Forest model\n",
    "importances = rf_model.feature_importances_\n",
    "sorted(zip(rf_model.feature_importances_, X.columns), reverse=True)"
   ]
  },
  {
   "attachments": {},
   "cell_type": "markdown",
   "metadata": {},
   "source": [
    "# Gradient Boosting Regression"
   ]
  },
  {
   "cell_type": "code",
   "execution_count": 62,
   "metadata": {},
   "outputs": [
    {
     "name": "stdout",
     "output_type": "stream",
     "text": [
      "Learning rate:  0.01\n",
      "Accuracy score (training): 0.841\n",
      "Accuracy score (validation): 0.836\n",
      "Learning rate:  0.05\n",
      "Accuracy score (training): 0.853\n",
      "Accuracy score (validation): 0.850\n",
      "Learning rate:  0.1\n",
      "Accuracy score (training): 0.879\n",
      "Accuracy score (validation): 0.868\n",
      "Learning rate:  0.25\n",
      "Accuracy score (training): 0.903\n",
      "Accuracy score (validation): 0.890\n",
      "Learning rate:  0.5\n",
      "Accuracy score (training): 0.938\n",
      "Accuracy score (validation): 0.922\n",
      "Learning rate:  0.75\n",
      "Accuracy score (training): 0.945\n",
      "Accuracy score (validation): 0.934\n",
      "Learning rate:  1\n",
      "Accuracy score (training): 0.956\n",
      "Accuracy score (validation): 0.936\n"
     ]
    }
   ],
   "source": [
    "#Identify best learning rate\n",
    "learning_rates = [0.01, 0.05, 0.1, 0.25, 0.5, 0.75, 1]\n",
    "\n",
    "for learning_rate in learning_rates:\n",
    "    gb_model = GradientBoostingClassifier(n_estimators=60, learning_rate=learning_rate, max_features=5, max_depth=3, random_state=0)\n",
    "    gb_model.fit(X_train_scaled, y_train)\n",
    "    print(\"Learning rate: \", learning_rate)\n",
    "    print(\"Accuracy score (training): {0:.3f}\".format(gb_model.score(X_train_scaled,y_train)))\n",
    "    print(\"Accuracy score (validation): {0:.3f}\".format(gb_model.score(X_test_scaled,y_test)))"
   ]
  },
  {
   "cell_type": "code",
   "execution_count": 80,
   "metadata": {},
   "outputs": [],
   "source": [
    "#Use best learning rate to create model\n",
    "gb_model = GradientBoostingClassifier(n_estimators=60, learning_rate=1, max_features=10, max_depth=6, random_state=0)\n",
    "\n",
    "#Fit the model\n",
    "gb_model.fit(X_train_scaled, y_train)\n",
    "\n",
    "#Make predictions\n",
    "gb_predictions = gb_model.predict(X_test_scaled)"
   ]
  },
  {
   "cell_type": "code",
   "execution_count": 81,
   "metadata": {},
   "outputs": [
    {
     "data": {
      "text/html": [
       "<div>\n",
       "<style scoped>\n",
       "    .dataframe tbody tr th:only-of-type {\n",
       "        vertical-align: middle;\n",
       "    }\n",
       "\n",
       "    .dataframe tbody tr th {\n",
       "        vertical-align: top;\n",
       "    }\n",
       "\n",
       "    .dataframe thead th {\n",
       "        text-align: right;\n",
       "    }\n",
       "</style>\n",
       "<table border=\"1\" class=\"dataframe\">\n",
       "  <thead>\n",
       "    <tr style=\"text-align: right;\">\n",
       "      <th></th>\n",
       "      <th>Predicted 0</th>\n",
       "      <th>Predicted 1</th>\n",
       "    </tr>\n",
       "  </thead>\n",
       "  <tbody>\n",
       "    <tr>\n",
       "      <th>Actual 0</th>\n",
       "      <td>335</td>\n",
       "      <td>60</td>\n",
       "    </tr>\n",
       "    <tr>\n",
       "      <th>Actual 1</th>\n",
       "      <td>53</td>\n",
       "      <td>1964</td>\n",
       "    </tr>\n",
       "  </tbody>\n",
       "</table>\n",
       "</div>"
      ],
      "text/plain": [
       "          Predicted 0  Predicted 1\n",
       "Actual 0          335           60\n",
       "Actual 1           53         1964"
      ]
     },
     "execution_count": 81,
     "metadata": {},
     "output_type": "execute_result"
    }
   ],
   "source": [
    "#Calculate the confusion matrix\n",
    "gb_cm = confusion_matrix(y_test, gb_predictions)\n",
    "\n",
    "#Create a DataFrame from the confusion matrix\n",
    "gb_cm_df = pd.DataFrame(gb_cm, index=[\"Actual 0\", \"Actual 1\"], columns=[\"Predicted 0\", \"Predicted 1\"])\n",
    "\n",
    "gb_cm_df"
   ]
  },
  {
   "cell_type": "code",
   "execution_count": 82,
   "metadata": {},
   "outputs": [
    {
     "data": {
      "text/plain": [
       "0.953150912106136"
      ]
     },
     "execution_count": 82,
     "metadata": {},
     "output_type": "execute_result"
    }
   ],
   "source": [
    "#Calculate the accuracy score\n",
    "gb_acc_score = accuracy_score(y_test, gb_predictions)\n",
    "gb_acc_score"
   ]
  },
  {
   "cell_type": "code",
   "execution_count": 83,
   "metadata": {},
   "outputs": [
    {
     "name": "stdout",
     "output_type": "stream",
     "text": [
      "              precision    recall  f1-score   support\n",
      "\n",
      "           0       0.86      0.85      0.86       395\n",
      "           1       0.97      0.97      0.97      2017\n",
      "\n",
      "    accuracy                           0.95      2412\n",
      "   macro avg       0.92      0.91      0.91      2412\n",
      "weighted avg       0.95      0.95      0.95      2412\n",
      "\n"
     ]
    }
   ],
   "source": [
    "#Calculate the classification report\n",
    "print(classification_report(y_test, gb_predictions))"
   ]
  },
  {
   "cell_type": "code",
   "execution_count": 87,
   "metadata": {},
   "outputs": [
    {
     "data": {
      "text/plain": [
       "[(0.1273775420725895, 'Total Sales'),\n",
       " (0.10720015545543943, 'Units Sold'),\n",
       " (0.10560384098865462, 'Sales Method_In-store'),\n",
       " (0.09026777093634329, 'Price per Unit'),\n",
       " (0.08858855347884653, 'Invoice Date'),\n",
       " (0.04539245926073661, 'Product_ID_PD5'),\n",
       " (0.04441264939382341, 'Product_ID_PD4'),\n",
       " (0.03403834771472466, 'State_ID_ST8'),\n",
       " (0.03178918894743252, 'Region_ID_RG2'),\n",
       " (0.02647756129319641, 'Sales Method_Online'),\n",
       " (0.025763628034133006, 'Operating Profit'),\n",
       " (0.02140124157571539, 'State_ID_ST9'),\n",
       " (0.020727292832291154, 'Product_ID_PD1'),\n",
       " (0.018289634498606565, 'State_ID_ST47'),\n",
       " (0.018134273716296292, 'Product_ID_PD3'),\n",
       " (0.016885135608371522, 'Retailer ID'),\n",
       " (0.014266720668490971, 'Product_ID_PD6'),\n",
       " (0.011902287389132633, 'Product_ID_PD2'),\n",
       " (0.010717174975281947, 'State_ID_ST22'),\n",
       " (0.010187063903601837, 'State_ID_ST29'),\n",
       " (0.009632825591330416, 'State_ID_ST36'),\n",
       " (0.007452005544392202, 'State_ID_ST1'),\n",
       " (0.007112014715399898, 'Region_ID_RG4'),\n",
       " (0.006629045464673718, 'State_ID_ST15'),\n",
       " (0.006526988804535827, 'State_ID_ST5'),\n",
       " (0.006257425944267562, 'State_ID_ST38'),\n",
       " (0.005963397378958306, 'State_ID_ST14'),\n",
       " (0.005396967982663842, 'State_ID_ST37'),\n",
       " (0.005392224340404742, 'State_ID_ST4'),\n",
       " (0.004617270811218333, 'State_ID_ST45'),\n",
       " (0.004408426076266421, 'Region_ID_RG3'),\n",
       " (0.004247617465210364, 'State_ID_ST23'),\n",
       " (0.004062065978086579, 'State_ID_ST21'),\n",
       " (0.004028873526956494, 'State_ID_ST50'),\n",
       " (0.003964894205220827, 'State_ID_ST48'),\n",
       " (0.003819316350720805, 'State_ID_ST2'),\n",
       " (0.003722939021073415, 'State_ID_ST25'),\n",
       " (0.0036604944918843295, 'State_ID_ST27'),\n",
       " (0.0035630144060974974, 'State_ID_ST6'),\n",
       " (0.0035115045579685914, 'State_ID_ST10'),\n",
       " (0.0030752314811591883, 'State_ID_ST16'),\n",
       " (0.0027347521995611263, 'State_ID_ST49'),\n",
       " (0.002665399408673999, 'State_ID_ST39'),\n",
       " (0.0024551138922654513, 'State_ID_ST19'),\n",
       " (0.0019781555764220114, 'State_ID_ST24'),\n",
       " (0.0019527047338139588, 'State_ID_ST44'),\n",
       " (0.001836750506382566, 'State_ID_ST28'),\n",
       " (0.0015966219404684135, 'Region_ID_RG5'),\n",
       " (0.0014545052412540645, 'State_ID_ST12'),\n",
       " (0.0012232175520781588, 'State_ID_ST7'),\n",
       " (0.0011113948481437513, 'State_ID_ST42'),\n",
       " (0.0009707940361967636, 'State_ID_ST35'),\n",
       " (0.0006380177523358542, 'State_ID_ST18'),\n",
       " (0.0005105098002967114, 'State_ID_ST20'),\n",
       " (0.00047653279262458315, 'State_ID_ST40'),\n",
       " (0.0004286103130454117, 'State_ID_ST46'),\n",
       " (0.0003178254478083384, 'State_ID_ST41'),\n",
       " (0.0003057717821367796, 'State_ID_ST26'),\n",
       " (0.00027509756809691296, 'Region_ID_RG1'),\n",
       " (0.00022586129294402792, 'State_ID_ST17'),\n",
       " (0.000105523299749285, 'State_ID_ST34'),\n",
       " (9.035102859091635e-05, 'State_ID_ST11'),\n",
       " (8.911213262031262e-05, 'State_ID_ST13'),\n",
       " (4.322463386289794e-05, 'State_ID_ST31'),\n",
       " (3.056126968003973e-05, 'State_ID_ST32'),\n",
       " (1.0165414630492489e-05, 'State_ID_ST30'),\n",
       " (6.328792518555798e-06, 'State_ID_ST3'),\n",
       " (2.986160078120252e-08, 'State_ID_ST33'),\n",
       " (0.0, 'State_ID_ST43')]"
      ]
     },
     "execution_count": 87,
     "metadata": {},
     "output_type": "execute_result"
    }
   ],
   "source": [
    "#Calculate feature importance in the Gradient Boosting model\n",
    "gb_importances = gb_model.feature_importances_\n",
    "sorted(zip(gb_model.feature_importances_, X.columns), reverse=True)"
   ]
  },
  {
   "attachments": {},
   "cell_type": "markdown",
   "metadata": {},
   "source": [
    "# SMOTEENN - Synthetic Minority Oversampling Technique and Edited Nearest Neighbors"
   ]
  },
  {
   "cell_type": "code",
   "execution_count": 88,
   "metadata": {},
   "outputs": [],
   "source": [
    "#Create a SMOTEENN instance\n",
    "smote_enn = SMOTEENN(random_state=0)\n",
    "X_resampled, y_resampled = smote_enn.fit_resample(X_train_scaled, y_train)"
   ]
  },
  {
   "cell_type": "code",
   "execution_count": 91,
   "metadata": {},
   "outputs": [
    {
     "data": {
      "text/plain": [
       "LogisticRegression(max_iter=200, random_state=1)"
      ]
     },
     "execution_count": 91,
     "metadata": {},
     "output_type": "execute_result"
    }
   ],
   "source": [
    "#Use logistic regression to create model\n",
    "smoteenn_model = LogisticRegression(solver='lbfgs', random_state=1, max_iter=200)\n",
    "smoteenn_model.fit(X_resampled, y_resampled)"
   ]
  },
  {
   "cell_type": "code",
   "execution_count": 92,
   "metadata": {},
   "outputs": [],
   "source": [
    "#Make predictions\n",
    "smoteenn_predictions = smoteenn_model.predict(X_test_scaled)"
   ]
  },
  {
   "cell_type": "code",
   "execution_count": 93,
   "metadata": {},
   "outputs": [
    {
     "data": {
      "text/html": [
       "<div>\n",
       "<style scoped>\n",
       "    .dataframe tbody tr th:only-of-type {\n",
       "        vertical-align: middle;\n",
       "    }\n",
       "\n",
       "    .dataframe tbody tr th {\n",
       "        vertical-align: top;\n",
       "    }\n",
       "\n",
       "    .dataframe thead th {\n",
       "        text-align: right;\n",
       "    }\n",
       "</style>\n",
       "<table border=\"1\" class=\"dataframe\">\n",
       "  <thead>\n",
       "    <tr style=\"text-align: right;\">\n",
       "      <th></th>\n",
       "      <th>Predicted 0</th>\n",
       "      <th>Predicted 1</th>\n",
       "    </tr>\n",
       "  </thead>\n",
       "  <tbody>\n",
       "    <tr>\n",
       "      <th>Actual 0</th>\n",
       "      <td>381</td>\n",
       "      <td>14</td>\n",
       "    </tr>\n",
       "    <tr>\n",
       "      <th>Actual 1</th>\n",
       "      <td>101</td>\n",
       "      <td>1916</td>\n",
       "    </tr>\n",
       "  </tbody>\n",
       "</table>\n",
       "</div>"
      ],
      "text/plain": [
       "          Predicted 0  Predicted 1\n",
       "Actual 0          381           14\n",
       "Actual 1          101         1916"
      ]
     },
     "execution_count": 93,
     "metadata": {},
     "output_type": "execute_result"
    }
   ],
   "source": [
    "#Calculate the confusion matrix\n",
    "smoteenn_cm = confusion_matrix(y_test, smoteenn_predictions)\n",
    "\n",
    "#Create a DataFrame from the confusion matrix\n",
    "smoteenn_cm_df = pd.DataFrame(smoteenn_cm, index=[\"Actual 0\", \"Actual 1\"], columns=[\"Predicted 0\", \"Predicted 1\"])\n",
    "\n",
    "smoteenn_cm_df"
   ]
  },
  {
   "cell_type": "code",
   "execution_count": 94,
   "metadata": {},
   "outputs": [
    {
     "data": {
      "text/plain": [
       "0.9523217247097844"
      ]
     },
     "execution_count": 94,
     "metadata": {},
     "output_type": "execute_result"
    }
   ],
   "source": [
    "#Calculate the accuracy score\n",
    "smoteenn_acc_score = accuracy_score(y_test, smoteenn_predictions)\n",
    "smoteenn_acc_score"
   ]
  },
  {
   "cell_type": "code",
   "execution_count": 95,
   "metadata": {},
   "outputs": [
    {
     "name": "stdout",
     "output_type": "stream",
     "text": [
      "              precision    recall  f1-score   support\n",
      "\n",
      "           0       0.79      0.96      0.87       395\n",
      "           1       0.99      0.95      0.97      2017\n",
      "\n",
      "    accuracy                           0.95      2412\n",
      "   macro avg       0.89      0.96      0.92      2412\n",
      "weighted avg       0.96      0.95      0.95      2412\n",
      "\n"
     ]
    }
   ],
   "source": [
    "#Calculate the classification report\n",
    "print(classification_report(y_test, smoteenn_predictions))"
   ]
  }
 ],
 "metadata": {
  "kernelspec": {
   "display_name": "base",
   "language": "python",
   "name": "python3"
  },
  "language_info": {
   "codemirror_mode": {
    "name": "ipython",
    "version": 3
   },
   "file_extension": ".py",
   "mimetype": "text/x-python",
   "name": "python",
   "nbconvert_exporter": "python",
   "pygments_lexer": "ipython3",
   "version": "3.9.13 (main, Oct 13 2022, 21:23:06) [MSC v.1916 64 bit (AMD64)]"
  },
  "orig_nbformat": 4,
  "vscode": {
   "interpreter": {
    "hash": "335ee12212264728feb72f243af72c5a8ea26c832f07e1f651ce9e17c7ceae23"
   }
  }
 },
 "nbformat": 4,
 "nbformat_minor": 2
}
